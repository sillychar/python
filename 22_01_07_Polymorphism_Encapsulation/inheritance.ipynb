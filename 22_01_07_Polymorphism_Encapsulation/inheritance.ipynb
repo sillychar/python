{
 "cells": [
  {
   "cell_type": "markdown",
   "id": "2a4f98cf",
   "metadata": {},
   "source": [
    "## inheritance"
   ]
  },
  {
   "cell_type": "markdown",
   "id": "4aaf1bc2",
   "metadata": {},
   "source": [
    "### Multiple Inheritance"
   ]
  },
  {
   "cell_type": "code",
   "execution_count": 2,
   "id": "e6cb885b",
   "metadata": {},
   "outputs": [],
   "source": [
    "class Baselass1():  # parent class\n",
    "    pass\n",
    "\n",
    "class Baselass2():  # parent class\n",
    "    pass\n",
    "\n",
    "class Derivedclass(Baselass1, Baselass2): # Multiple inheritance >> Derived class\n",
    "    pass\n",
    "\n",
    "d1 = Derivedclass()"
   ]
  },
  {
   "cell_type": "code",
   "execution_count": 7,
   "id": "94025934",
   "metadata": {},
   "outputs": [
    {
     "name": "stdout",
     "output_type": "stream",
     "text": [
      "Init Function\n",
      "Addition is  50\n",
      "Multiplication is  200\n",
      "results function\n"
     ]
    }
   ],
   "source": [
    "class Additionclass(): # parent class\n",
    "    def addition(self, a, b):\n",
    "        self.add = a + b\n",
    "        print('Addition is ', self.add)\n",
    "        \n",
    "class Multiplicationclass(): # parent class\n",
    "    \n",
    "    def multiplication(self, a, b):\n",
    "        print('Multiplication is ', a*b)\n",
    "        \n",
    "class Calculations(Additionclass, Multiplicationclass):  # Child class\n",
    "    \n",
    "    def __init__(self):\n",
    "        print('Init Function')\n",
    "    \n",
    "    def results(self):\n",
    "        print('results function')\n",
    "        \n",
    "obj = Calculations()\n",
    "obj.addition(20,30)\n",
    "obj.multiplication(10,20)\n",
    "obj.results()"
   ]
  },
  {
   "cell_type": "code",
   "execution_count": 14,
   "id": "e65d295e",
   "metadata": {},
   "outputs": [
    {
     "name": "stdout",
     "output_type": "stream",
     "text": [
      "Init Function\n",
      "results function\n",
      "division is  0.5\n",
      "Addition is  30\n",
      "Multiplication is  100\n"
     ]
    }
   ],
   "source": [
    "class Additionclass(): # parent class\n",
    "    def addition(self, a, b):\n",
    "        self.add = a + b\n",
    "        print('Addition is ', self.add)\n",
    "        \n",
    "class Multiplicationclass(): # parent class\n",
    "    \n",
    "    def multiplication(self, a, b):\n",
    "        print('Multiplication is ', a*b)\n",
    "        \n",
    "class Calculations(Additionclass, Multiplicationclass):  # Child class\n",
    "    \n",
    "    def __init__(self,c,d):\n",
    "        self.c = c\n",
    "        self.d = d\n",
    "        print('Init Function')\n",
    "    \n",
    "    def results(self):\n",
    "        print('results function')\n",
    "        print('division is ',self.c/self.d)\n",
    "        self.addition(self.c,self.d)\n",
    "        self.multiplication(20,5)\n",
    "        \n",
    "obj = Calculations(10,20)\n",
    "obj.results()"
   ]
  },
  {
   "cell_type": "code",
   "execution_count": 15,
   "id": "aa99c953",
   "metadata": {},
   "outputs": [
    {
     "name": "stdout",
     "output_type": "stream",
     "text": [
      "Init Function\n",
      "results function\n",
      "division is  0.5\n",
      "Addition is  30\n",
      "Multiplication is  200\n"
     ]
    }
   ],
   "source": [
    "class Additionclass(): # parent class\n",
    "    def addition(self, a, b):\n",
    "        self.add = a + b\n",
    "        print('Addition is ', self.add)\n",
    "        \n",
    "class Multiplicationclass(): # parent class\n",
    "    \n",
    "    def multiplication(self, a, b):\n",
    "        print('Multiplication is ', a*b)\n",
    "        \n",
    "class Calculations(Additionclass, Multiplicationclass):  # Child class\n",
    "    \n",
    "    def __init__(self,c,d):\n",
    "        self.c = c\n",
    "        self.d = d\n",
    "        print('Init Function')\n",
    "    \n",
    "    def results(self):\n",
    "        print('results function')\n",
    "        print('division is ',self.c/self.d)\n",
    "        self.addition(self.c,self.d)\n",
    "        self.multiplication(self.c,self.d)\n",
    "        \n",
    "obj = Calculations(10,20)\n",
    "obj.results()"
   ]
  },
  {
   "cell_type": "code",
   "execution_count": 22,
   "id": "2ca0734f",
   "metadata": {},
   "outputs": [
    {
     "name": "stdout",
     "output_type": "stream",
     "text": [
      "Addition is  7\n",
      "a = 2, 7\n"
     ]
    }
   ],
   "source": [
    "class Additionclass(): # parent class\n",
    "    def addition(self, a, b):\n",
    "        self.add = a + b\n",
    "        self.a = a\n",
    "        self.b = b\n",
    "        print('Addition is ', self.add)\n",
    "        \n",
    "class Multiplicationclass(): # parent class\n",
    "    \n",
    "    def multiplication(self, a, b):\n",
    "        print('Multiplication is ', a*b)\n",
    "        \n",
    "class Calculations(Additionclass, Multiplicationclass):  # Child class\n",
    "    \n",
    "    def results(self):\n",
    "        print(f'a = {self.a}, {self.add}')\n",
    "        \n",
    "obj = Calculations()\n",
    "obj.addition(2,5)\n",
    "obj.results()"
   ]
  },
  {
   "cell_type": "code",
   "execution_count": 27,
   "id": "e2fd49cd",
   "metadata": {},
   "outputs": [
    {
     "name": "stdout",
     "output_type": "stream",
     "text": [
      "x == 20, y == 50\n",
      "Init Function\n",
      "results function\n",
      "Addition is  33\n",
      "Addition is  30\n"
     ]
    }
   ],
   "source": [
    "class Additionclass(): # parent class\n",
    "    \n",
    "    def __init__(self,x,y):\n",
    "        print(f'x == {x}, y == {y}')\n",
    "        \n",
    "    def addition(self, a, b):\n",
    "        self.add = a + b\n",
    "        print('Addition is ', self.add)\n",
    "        \n",
    "class Multiplicationclass(): # parent class\n",
    "    \n",
    "    def multiplication(self, a, b):\n",
    "        print('Multiplication is ', a*b)\n",
    "        \n",
    "class Calculations(Additionclass, Multiplicationclass):  # Child class\n",
    "    \n",
    "    def __init__(self,c,d):\n",
    "        Additionclass.__init__(self,20,50)\n",
    "        self.c = c\n",
    "        self.d = d\n",
    "        print('Init Function')\n",
    "        \n",
    "    def add1(self, a,b):\n",
    "        self.add = a+b\n",
    "        print('Addition is ',a+b)\n",
    "    \n",
    "    def results(self):\n",
    "        print('results function')\n",
    "        self.add1(11,22)\n",
    "        self.addition(self.c, self.d)\n",
    "        \n",
    "obj = Calculations(10,20)\n",
    "obj.results()"
   ]
  },
  {
   "cell_type": "code",
   "execution_count": 29,
   "id": "0d02dcba",
   "metadata": {},
   "outputs": [
    {
     "name": "stdout",
     "output_type": "stream",
     "text": [
      "x == 20, y == 50\n",
      "Init Function\n",
      "results function\n",
      "Addition is  33\n"
     ]
    }
   ],
   "source": [
    "class Calculations(Additionclass, Multiplicationclass):  # Child class\n",
    "    \n",
    "    def __init__(self,a,b):\n",
    "        Additionclass.__init__(self,20,50)\n",
    "        self.a = a\n",
    "        self.b = b\n",
    "        print('Init Function')\n",
    "        \n",
    "    def multiplication(self, a, b):\n",
    "        print('Multiplication is ', a*b)    \n",
    "        \n",
    "    def addition(self, a, b):\n",
    "        self.add = a + b\n",
    "        print('Addition is ', self.add)\n",
    "        \n",
    "    def add1(self, a,b):\n",
    "        self.add = a+b\n",
    "        print('Addition is ',a+b)\n",
    "    \n",
    "    def results(self):\n",
    "        print('results function')\n",
    "        self.add1(11,22)\n",
    "        \n",
    "        \n",
    "obj = Calculations(10,20)\n",
    "obj.results()"
   ]
  },
  {
   "cell_type": "code",
   "execution_count": null,
   "id": "2f2e88dd",
   "metadata": {},
   "outputs": [],
   "source": []
  },
  {
   "cell_type": "code",
   "execution_count": 32,
   "id": "5a7ca71a",
   "metadata": {},
   "outputs": [
    {
     "name": "stdout",
     "output_type": "stream",
     "text": [
      "Init Function\n",
      "Addition is  60\n",
      "division is  10.0\n",
      "results function\n",
      "Addition is  30\n",
      "Multiplication is  200\n",
      "division is  5.0\n"
     ]
    }
   ],
   "source": [
    "class Additionclass(): # parent class\n",
    "    def addition(self, a, b):\n",
    "        self.add = a + b\n",
    "        print('Addition is ', self.add)\n",
    "        \n",
    "class Multiplicationclass(): # parent class\n",
    "    \n",
    "    def multiplication(self, a, b):\n",
    "        print('Multiplication is ', a*b)\n",
    "        \n",
    "class Calculations(Additionclass, Multiplicationclass):  # Child class\n",
    "    \n",
    "    def __init__(self,c,d):\n",
    "        self.c = c\n",
    "        self.d = d\n",
    "        print('Init Function')\n",
    "        \n",
    "    def division(self,x,y):\n",
    "        print('division is ',x/y)\n",
    "    \n",
    "    def results(self,g,h):\n",
    "        print('results function')\n",
    "        self.addition(self.c,self.d)\n",
    "        self.multiplication(self.c,self.d)\n",
    "        self.division(g,h)\n",
    "        \n",
    "obj = Calculations(10,20)\n",
    "obj.addition(20,40)\n",
    "obj.division(100,10)\n",
    "obj.results(90,18)"
   ]
  },
  {
   "cell_type": "code",
   "execution_count": null,
   "id": "dc69a96f",
   "metadata": {},
   "outputs": [],
   "source": []
  },
  {
   "cell_type": "code",
   "execution_count": null,
   "id": "31aa0fbd",
   "metadata": {},
   "outputs": [],
   "source": []
  },
  {
   "cell_type": "code",
   "execution_count": null,
   "id": "dee8e8db",
   "metadata": {},
   "outputs": [],
   "source": []
  },
  {
   "cell_type": "code",
   "execution_count": null,
   "id": "10e4534a",
   "metadata": {},
   "outputs": [],
   "source": []
  },
  {
   "cell_type": "code",
   "execution_count": null,
   "id": "f2c2525d",
   "metadata": {},
   "outputs": [],
   "source": []
  },
  {
   "cell_type": "code",
   "execution_count": null,
   "id": "2d779c9a",
   "metadata": {},
   "outputs": [],
   "source": []
  },
  {
   "cell_type": "code",
   "execution_count": null,
   "id": "e74d6ea9",
   "metadata": {},
   "outputs": [],
   "source": []
  },
  {
   "cell_type": "code",
   "execution_count": null,
   "id": "02d4b5d0",
   "metadata": {},
   "outputs": [],
   "source": []
  },
  {
   "cell_type": "code",
   "execution_count": null,
   "id": "8edf7021",
   "metadata": {},
   "outputs": [],
   "source": []
  },
  {
   "cell_type": "code",
   "execution_count": null,
   "id": "fff3da2a",
   "metadata": {},
   "outputs": [],
   "source": []
  },
  {
   "cell_type": "code",
   "execution_count": null,
   "id": "fea737cf",
   "metadata": {},
   "outputs": [],
   "source": []
  },
  {
   "cell_type": "code",
   "execution_count": null,
   "id": "10cb74c4",
   "metadata": {},
   "outputs": [],
   "source": []
  },
  {
   "cell_type": "code",
   "execution_count": null,
   "id": "90e7e3f4",
   "metadata": {},
   "outputs": [],
   "source": []
  },
  {
   "cell_type": "code",
   "execution_count": null,
   "id": "eabb709c",
   "metadata": {},
   "outputs": [],
   "source": []
  },
  {
   "cell_type": "code",
   "execution_count": null,
   "id": "973c2c10",
   "metadata": {},
   "outputs": [],
   "source": []
  },
  {
   "cell_type": "code",
   "execution_count": null,
   "id": "b2aecf16",
   "metadata": {},
   "outputs": [],
   "source": []
  },
  {
   "cell_type": "code",
   "execution_count": null,
   "id": "5447e4ad",
   "metadata": {},
   "outputs": [],
   "source": []
  },
  {
   "cell_type": "code",
   "execution_count": null,
   "id": "e39c77cd",
   "metadata": {},
   "outputs": [],
   "source": []
  },
  {
   "cell_type": "code",
   "execution_count": null,
   "id": "5cb177f8",
   "metadata": {},
   "outputs": [],
   "source": []
  },
  {
   "cell_type": "code",
   "execution_count": null,
   "id": "543be351",
   "metadata": {},
   "outputs": [],
   "source": []
  },
  {
   "cell_type": "code",
   "execution_count": null,
   "id": "c818f2fb",
   "metadata": {},
   "outputs": [],
   "source": []
  },
  {
   "cell_type": "code",
   "execution_count": null,
   "id": "ad36ea03",
   "metadata": {},
   "outputs": [],
   "source": []
  },
  {
   "cell_type": "code",
   "execution_count": null,
   "id": "e82bd9c9",
   "metadata": {},
   "outputs": [],
   "source": []
  },
  {
   "cell_type": "code",
   "execution_count": null,
   "id": "b93555c4",
   "metadata": {},
   "outputs": [],
   "source": []
  },
  {
   "cell_type": "code",
   "execution_count": null,
   "id": "4e127105",
   "metadata": {},
   "outputs": [],
   "source": []
  },
  {
   "cell_type": "code",
   "execution_count": null,
   "id": "d607463f",
   "metadata": {},
   "outputs": [],
   "source": []
  },
  {
   "cell_type": "code",
   "execution_count": null,
   "id": "2a9fd219",
   "metadata": {},
   "outputs": [],
   "source": []
  },
  {
   "cell_type": "code",
   "execution_count": null,
   "id": "185ff05d",
   "metadata": {},
   "outputs": [],
   "source": []
  },
  {
   "cell_type": "code",
   "execution_count": null,
   "id": "356fcd9f",
   "metadata": {},
   "outputs": [],
   "source": []
  },
  {
   "cell_type": "code",
   "execution_count": null,
   "id": "25b315ee",
   "metadata": {},
   "outputs": [],
   "source": []
  },
  {
   "cell_type": "code",
   "execution_count": null,
   "id": "e13c4b77",
   "metadata": {},
   "outputs": [],
   "source": []
  },
  {
   "cell_type": "code",
   "execution_count": null,
   "id": "d13fbe3c",
   "metadata": {},
   "outputs": [],
   "source": []
  },
  {
   "cell_type": "code",
   "execution_count": null,
   "id": "df0d2c5f",
   "metadata": {},
   "outputs": [],
   "source": []
  },
  {
   "cell_type": "code",
   "execution_count": null,
   "id": "84c21ec7",
   "metadata": {},
   "outputs": [],
   "source": []
  },
  {
   "cell_type": "code",
   "execution_count": null,
   "id": "3baed05c",
   "metadata": {},
   "outputs": [],
   "source": []
  },
  {
   "cell_type": "code",
   "execution_count": null,
   "id": "49ccde22",
   "metadata": {},
   "outputs": [],
   "source": []
  },
  {
   "cell_type": "code",
   "execution_count": null,
   "id": "d6ce9b1c",
   "metadata": {},
   "outputs": [],
   "source": []
  }
 ],
 "metadata": {
  "kernelspec": {
   "display_name": "Python 3 (ipykernel)",
   "language": "python",
   "name": "python3"
  },
  "language_info": {
   "codemirror_mode": {
    "name": "ipython",
    "version": 3
   },
   "file_extension": ".py",
   "mimetype": "text/x-python",
   "name": "python",
   "nbconvert_exporter": "python",
   "pygments_lexer": "ipython3",
   "version": "3.9.7"
  }
 },
 "nbformat": 4,
 "nbformat_minor": 5
}
