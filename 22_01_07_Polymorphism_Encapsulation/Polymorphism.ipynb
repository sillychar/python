{
 "cells": [
  {
   "cell_type": "markdown",
   "id": "41ee2ac2",
   "metadata": {},
   "source": [
    "## Polymorphism"
   ]
  },
  {
   "cell_type": "code",
   "execution_count": null,
   "id": "594c3f66",
   "metadata": {},
   "outputs": [],
   "source": [
    "poly >> many/multiple\n",
    "Morphism >> forms\n",
    "Polymorphism >> Multiple forms\n",
    "\n",
    "Same functions name are used in many classes\n",
    "Methods with identical names"
   ]
  },
  {
   "cell_type": "code",
   "execution_count": 1,
   "id": "1824a8f8",
   "metadata": {},
   "outputs": [
    {
     "data": {
      "text/plain": [
       "12"
      ]
     },
     "execution_count": 1,
     "metadata": {},
     "output_type": "execute_result"
    }
   ],
   "source": [
    "# + \n",
    "10+2  # performing addition"
   ]
  },
  {
   "cell_type": "code",
   "execution_count": 2,
   "id": "1a60811e",
   "metadata": {},
   "outputs": [
    {
     "data": {
      "text/plain": [
       "'102'"
      ]
     },
     "execution_count": 2,
     "metadata": {},
     "output_type": "execute_result"
    }
   ],
   "source": [
    "'10'+'2'  # concat"
   ]
  },
  {
   "cell_type": "code",
   "execution_count": 3,
   "id": "3f007c5c",
   "metadata": {},
   "outputs": [
    {
     "data": {
      "text/plain": [
       "2"
      ]
     },
     "execution_count": 3,
     "metadata": {},
     "output_type": "execute_result"
    }
   ],
   "source": [
    "min([2,6,3,8])"
   ]
  },
  {
   "cell_type": "code",
   "execution_count": 4,
   "id": "e4065f8e",
   "metadata": {},
   "outputs": [
    {
     "data": {
      "text/plain": [
       "2"
      ]
     },
     "execution_count": 4,
     "metadata": {},
     "output_type": "execute_result"
    }
   ],
   "source": [
    "min((2,6,3,8))"
   ]
  },
  {
   "cell_type": "code",
   "execution_count": 5,
   "id": "dd7c2a6f",
   "metadata": {},
   "outputs": [
    {
     "data": {
      "text/plain": [
       "2"
      ]
     },
     "execution_count": 5,
     "metadata": {},
     "output_type": "execute_result"
    }
   ],
   "source": [
    "min({2,6,3,8})"
   ]
  },
  {
   "cell_type": "code",
   "execution_count": 8,
   "id": "c6df80bd",
   "metadata": {},
   "outputs": [
    {
     "name": "stdout",
     "output_type": "stream",
     "text": [
      "Area of Circle\n",
      "Area of Square\n",
      "Area of Rectangle\n"
     ]
    }
   ],
   "source": [
    "class Circle():\n",
    "    def area(self):\n",
    "        print('Area of Circle')\n",
    "        pass\n",
    "\n",
    "class Square():\n",
    "    def area(self):\n",
    "        print('Area of Square')\n",
    "        pass\n",
    "    \n",
    "class Rectangle():\n",
    "    def area(self):\n",
    "        print('Area of Rectangle')\n",
    "        pass\n",
    "    \n",
    "c1 = Circle()\n",
    "s1 = Square()\n",
    "r1 = Rectangle()\n",
    "\n",
    "c1.area()\n",
    "s1.area()\n",
    "r1.area()"
   ]
  },
  {
   "cell_type": "code",
   "execution_count": 10,
   "id": "66b00118",
   "metadata": {},
   "outputs": [
    {
     "name": "stdout",
     "output_type": "stream",
     "text": [
      "Area of Circle\n",
      "###\n",
      "Area of Square\n",
      "###\n",
      "Area of Rectangle\n",
      "###\n"
     ]
    }
   ],
   "source": [
    "class Circle():\n",
    "    def area(self):\n",
    "        print('Area of Circle')\n",
    "        pass\n",
    "\n",
    "class Square():\n",
    "    def area(self):\n",
    "        print('Area of Square')\n",
    "        pass\n",
    "    \n",
    "class Rectangle():\n",
    "    def area(self):\n",
    "        print('Area of Rectangle')\n",
    "        pass\n",
    "    \n",
    "c1 = Circle()\n",
    "s1 = Square()\n",
    "r1 = Rectangle()\n",
    "\n",
    "for obj in [c1, s1, r1]:\n",
    "    obj.area()\n",
    "#     print('###') reference"
   ]
  },
  {
   "cell_type": "code",
   "execution_count": 11,
   "id": "dce8462c",
   "metadata": {},
   "outputs": [
    {
     "name": "stdout",
     "output_type": "stream",
     "text": [
      "Area of Circle\n",
      "Area of Square\n",
      "Area of Rectangle\n"
     ]
    }
   ],
   "source": [
    "class Circle():\n",
    "    def area(self):\n",
    "        print('Area of Circle')\n",
    "        pass\n",
    "\n",
    "class Square():\n",
    "    def area(self):\n",
    "        print('Area of Square')\n",
    "        pass\n",
    "    \n",
    "class Rectangle():\n",
    "    def area(self):\n",
    "        print('Area of Rectangle')\n",
    "        pass\n",
    "    \n",
    "def execute_functions():   \n",
    "    c1 = Circle()\n",
    "    s1 = Square()\n",
    "    r1 = Rectangle()\n",
    "\n",
    "    for obj in [c1, s1, r1]:\n",
    "        obj.area()\n",
    "        \n",
    "execute_functions()"
   ]
  },
  {
   "cell_type": "code",
   "execution_count": 13,
   "id": "f8281d1d",
   "metadata": {},
   "outputs": [
    {
     "name": "stdout",
     "output_type": "stream",
     "text": [
      "Area of Circle\n",
      "Area of Square\n",
      "Area of Rectangle\n"
     ]
    }
   ],
   "source": [
    "class Circle():\n",
    "    def area(self):\n",
    "        print('Area of Circle')\n",
    "        pass\n",
    "\n",
    "class Square():\n",
    "    def area(self):\n",
    "        print('Area of Square')\n",
    "        pass\n",
    "    \n",
    "class Rectangle():\n",
    "    def area(self):\n",
    "        print('Area of Rectangle')\n",
    "        pass\n",
    "    \n",
    "def execute_functions():   \n",
    "    c1 = Circle()\n",
    "    s1 = Square()\n",
    "    r1 = Rectangle()\n",
    "\n",
    "    for obj in [c1, s1, r1]:\n",
    "        obj.area()\n",
    "        \n",
    "if __name__ == '__main__':\n",
    "    execute_functions()"
   ]
  },
  {
   "cell_type": "code",
   "execution_count": 12,
   "id": "1cf07929",
   "metadata": {},
   "outputs": [
    {
     "data": {
      "text/plain": [
       "'__main__'"
      ]
     },
     "execution_count": 12,
     "metadata": {},
     "output_type": "execute_result"
    }
   ],
   "source": [
    "__name__"
   ]
  },
  {
   "cell_type": "code",
   "execution_count": 17,
   "id": "b72f268e",
   "metadata": {},
   "outputs": [
    {
     "name": "stdout",
     "output_type": "stream",
     "text": [
      "Area of Circle 78.54\n",
      "Area of Square 36\n",
      "Area of Rectangle 200\n"
     ]
    }
   ],
   "source": [
    "import math\n",
    "\n",
    "class Circle():\n",
    "    \n",
    "    def __init__(self, radius):\n",
    "        self.radius=radius\n",
    "        \n",
    "    def area(self):\n",
    "        ar = math.pi * self.radius * self.radius\n",
    "        print('Area of Circle', round(ar, 2))\n",
    "        \n",
    "\n",
    "class Square():\n",
    "    \n",
    "    def __init__(self,side):\n",
    "        self.side =side\n",
    "        \n",
    "    def area(self):\n",
    "        ar = self.side ** 2\n",
    "        print('Area of Square', ar)\n",
    "        \n",
    "    \n",
    "class Rectangle():\n",
    "    \n",
    "    def __init__(self, l,b):\n",
    "        self.l = l\n",
    "        self.b = b\n",
    "    \n",
    "    def area(self):\n",
    "        ar = self.l * self.b\n",
    "        print('Area of Rectangle',ar)\n",
    "        \n",
    "    \n",
    "def execute_functions():   \n",
    "    c1 = Circle(5)\n",
    "    s1 = Square(6)\n",
    "    r1 = Rectangle(10,20)\n",
    "\n",
    "    for obj in [c1, s1, r1]:\n",
    "        obj.area()\n",
    "        \n",
    "if __name__ == '__main__':\n",
    "    execute_functions()"
   ]
  },
  {
   "cell_type": "code",
   "execution_count": 16,
   "id": "0f0146bd",
   "metadata": {},
   "outputs": [
    {
     "data": {
      "text/plain": [
       "['__doc__',\n",
       " '__loader__',\n",
       " '__name__',\n",
       " '__package__',\n",
       " '__spec__',\n",
       " 'acos',\n",
       " 'acosh',\n",
       " 'asin',\n",
       " 'asinh',\n",
       " 'atan',\n",
       " 'atan2',\n",
       " 'atanh',\n",
       " 'ceil',\n",
       " 'comb',\n",
       " 'copysign',\n",
       " 'cos',\n",
       " 'cosh',\n",
       " 'degrees',\n",
       " 'dist',\n",
       " 'e',\n",
       " 'erf',\n",
       " 'erfc',\n",
       " 'exp',\n",
       " 'expm1',\n",
       " 'fabs',\n",
       " 'factorial',\n",
       " 'floor',\n",
       " 'fmod',\n",
       " 'frexp',\n",
       " 'fsum',\n",
       " 'gamma',\n",
       " 'gcd',\n",
       " 'hypot',\n",
       " 'inf',\n",
       " 'isclose',\n",
       " 'isfinite',\n",
       " 'isinf',\n",
       " 'isnan',\n",
       " 'isqrt',\n",
       " 'ldexp',\n",
       " 'lgamma',\n",
       " 'log',\n",
       " 'log10',\n",
       " 'log1p',\n",
       " 'log2',\n",
       " 'modf',\n",
       " 'nan',\n",
       " 'perm',\n",
       " 'pi',\n",
       " 'pow',\n",
       " 'prod',\n",
       " 'radians',\n",
       " 'remainder',\n",
       " 'sin',\n",
       " 'sinh',\n",
       " 'sqrt',\n",
       " 'tan',\n",
       " 'tanh',\n",
       " 'tau',\n",
       " 'trunc']"
      ]
     },
     "execution_count": 16,
     "metadata": {},
     "output_type": "execute_result"
    }
   ],
   "source": [
    "dir(math)"
   ]
  },
  {
   "cell_type": "code",
   "execution_count": null,
   "id": "c0c29fb0",
   "metadata": {},
   "outputs": [],
   "source": []
  },
  {
   "cell_type": "code",
   "execution_count": null,
   "id": "b5bdd710",
   "metadata": {},
   "outputs": [],
   "source": []
  },
  {
   "cell_type": "code",
   "execution_count": null,
   "id": "a88fe446",
   "metadata": {},
   "outputs": [],
   "source": []
  },
  {
   "cell_type": "code",
   "execution_count": null,
   "id": "351c516e",
   "metadata": {},
   "outputs": [],
   "source": []
  },
  {
   "cell_type": "code",
   "execution_count": null,
   "id": "bb7b79f5",
   "metadata": {},
   "outputs": [],
   "source": []
  },
  {
   "cell_type": "code",
   "execution_count": null,
   "id": "38d66ccb",
   "metadata": {},
   "outputs": [],
   "source": []
  },
  {
   "cell_type": "code",
   "execution_count": null,
   "id": "af655b49",
   "metadata": {},
   "outputs": [],
   "source": []
  },
  {
   "cell_type": "code",
   "execution_count": null,
   "id": "f408ba86",
   "metadata": {},
   "outputs": [],
   "source": []
  },
  {
   "cell_type": "code",
   "execution_count": null,
   "id": "25016fa4",
   "metadata": {},
   "outputs": [],
   "source": []
  },
  {
   "cell_type": "code",
   "execution_count": null,
   "id": "f88563b9",
   "metadata": {},
   "outputs": [],
   "source": []
  },
  {
   "cell_type": "code",
   "execution_count": null,
   "id": "64acc429",
   "metadata": {},
   "outputs": [],
   "source": []
  },
  {
   "cell_type": "code",
   "execution_count": null,
   "id": "0ba05065",
   "metadata": {},
   "outputs": [],
   "source": []
  },
  {
   "cell_type": "code",
   "execution_count": null,
   "id": "a568a961",
   "metadata": {},
   "outputs": [],
   "source": []
  },
  {
   "cell_type": "code",
   "execution_count": null,
   "id": "a780323a",
   "metadata": {},
   "outputs": [],
   "source": []
  },
  {
   "cell_type": "code",
   "execution_count": null,
   "id": "65ffc528",
   "metadata": {},
   "outputs": [],
   "source": []
  },
  {
   "cell_type": "code",
   "execution_count": null,
   "id": "daf06e04",
   "metadata": {},
   "outputs": [],
   "source": []
  },
  {
   "cell_type": "code",
   "execution_count": null,
   "id": "e76b858c",
   "metadata": {},
   "outputs": [],
   "source": []
  },
  {
   "cell_type": "code",
   "execution_count": null,
   "id": "da9c7679",
   "metadata": {},
   "outputs": [],
   "source": []
  },
  {
   "cell_type": "code",
   "execution_count": null,
   "id": "5805cd4d",
   "metadata": {},
   "outputs": [],
   "source": []
  },
  {
   "cell_type": "code",
   "execution_count": null,
   "id": "64f62020",
   "metadata": {},
   "outputs": [],
   "source": []
  },
  {
   "cell_type": "code",
   "execution_count": null,
   "id": "434df67f",
   "metadata": {},
   "outputs": [],
   "source": []
  },
  {
   "cell_type": "code",
   "execution_count": null,
   "id": "637ce6bf",
   "metadata": {},
   "outputs": [],
   "source": []
  }
 ],
 "metadata": {
  "kernelspec": {
   "display_name": "Python 3 (ipykernel)",
   "language": "python",
   "name": "python3"
  },
  "language_info": {
   "codemirror_mode": {
    "name": "ipython",
    "version": 3
   },
   "file_extension": ".py",
   "mimetype": "text/x-python",
   "name": "python",
   "nbconvert_exporter": "python",
   "pygments_lexer": "ipython3",
   "version": "3.9.7"
  }
 },
 "nbformat": 4,
 "nbformat_minor": 5
}
