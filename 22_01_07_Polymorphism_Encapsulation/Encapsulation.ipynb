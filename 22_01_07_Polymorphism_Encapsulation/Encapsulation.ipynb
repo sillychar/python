{
 "cells": [
  {
   "cell_type": "markdown",
   "id": "f6f701b2",
   "metadata": {},
   "source": [
    "## Encapsulation"
   ]
  },
  {
   "cell_type": "code",
   "execution_count": null,
   "id": "41c3b328",
   "metadata": {},
   "outputs": [],
   "source": [
    "Used to restrict access of methods and variables\n",
    "\n",
    "Protecting data from modification/ to prevent accidental changes/modification \n",
    "\n",
    "wrapping up data in single entity\n",
    "\n",
    "data:\n",
    "    methods \n",
    "    variables"
   ]
  },
  {
   "cell_type": "code",
   "execution_count": 5,
   "id": "391ebc8c",
   "metadata": {},
   "outputs": [
    {
     "name": "stdout",
     "output_type": "stream",
     "text": [
      "Pune\n",
      "Location is  Mumbai\n"
     ]
    }
   ],
   "source": [
    "class ClassName():\n",
    "    city = 'Pune'\n",
    "    \n",
    "    def location(self):\n",
    "        print('Location is ', self.city)\n",
    "        \n",
    "obj = ClassName()\n",
    "print(obj.city) # variable\n",
    "obj.city = 'Mumbai'  # Modifying data from outside of the class\n",
    "obj.location() # method calling"
   ]
  },
  {
   "cell_type": "code",
   "execution_count": 6,
   "id": "f52f0f1a",
   "metadata": {},
   "outputs": [
    {
     "data": {
      "text/plain": [
       "'Mumbai'"
      ]
     },
     "execution_count": 6,
     "metadata": {},
     "output_type": "execute_result"
    }
   ],
   "source": [
    "obj.city"
   ]
  },
  {
   "cell_type": "code",
   "execution_count": 7,
   "id": "082de345",
   "metadata": {},
   "outputs": [
    {
     "name": "stdout",
     "output_type": "stream",
     "text": [
      "Location is  Mumbai\n"
     ]
    }
   ],
   "source": [
    "obj.location()"
   ]
  },
  {
   "cell_type": "code",
   "execution_count": 11,
   "id": "a3842e95",
   "metadata": {},
   "outputs": [
    {
     "name": "stdout",
     "output_type": "stream",
     "text": [
      "Employee Name is  Swati\n",
      "Company name  TCS\n"
     ]
    }
   ],
   "source": [
    "class EmployeeDetails():\n",
    "    company_name = 'TCS'\n",
    "    \n",
    "    def __init__(self, name):\n",
    "        self.name = name\n",
    "        \n",
    "    def emp_details(self):\n",
    "        print('Employee Name is ', self.name)\n",
    "        print('Company name ', self.company_name)\n",
    "        \n",
    "emp_obj = EmployeeDetails('Swati')\n",
    "emp_obj.emp_details()"
   ]
  },
  {
   "cell_type": "code",
   "execution_count": 12,
   "id": "3cd791f6",
   "metadata": {},
   "outputs": [
    {
     "data": {
      "text/plain": [
       "'TCS'"
      ]
     },
     "execution_count": 12,
     "metadata": {},
     "output_type": "execute_result"
    }
   ],
   "source": [
    "emp_obj.company_name"
   ]
  },
  {
   "cell_type": "code",
   "execution_count": 13,
   "id": "0e4010f2",
   "metadata": {},
   "outputs": [
    {
     "name": "stdout",
     "output_type": "stream",
     "text": [
      "Employee Name is  Swati\n",
      "Company name  TCS\n"
     ]
    }
   ],
   "source": [
    "class EmployeeDetails():\n",
    "    __company_name = 'TCS' # Private Class Variable\n",
    "    \n",
    "    def __init__(self, name):\n",
    "        self.name = name\n",
    "        \n",
    "    def emp_details(self):\n",
    "        print('Employee Name is ', self.name)\n",
    "        print('Company name ', self.__company_name)\n",
    "        \n",
    "emp_obj = EmployeeDetails('Swati')\n",
    "emp_obj.emp_details()"
   ]
  },
  {
   "cell_type": "code",
   "execution_count": 14,
   "id": "b86f0709",
   "metadata": {},
   "outputs": [
    {
     "name": "stdout",
     "output_type": "stream",
     "text": [
      "Employee Name is  Swati\n",
      "Company name  Accenture\n"
     ]
    }
   ],
   "source": [
    "class EmployeeDetails():\n",
    "    company_name = 'TCS' \n",
    "    \n",
    "    def __init__(self, name):\n",
    "        self.name = name\n",
    "        \n",
    "    def emp_details(self):\n",
    "        print('Employee Name is ', self.name)\n",
    "        print('Company name ', self.company_name)\n",
    "        \n",
    "emp_obj = EmployeeDetails('Swati')\n",
    "emp_obj.company_name = 'Accenture'\n",
    "emp_obj.emp_details()"
   ]
  },
  {
   "cell_type": "code",
   "execution_count": 15,
   "id": "3f47d770",
   "metadata": {},
   "outputs": [
    {
     "name": "stdout",
     "output_type": "stream",
     "text": [
      "Employee Name is  Swati\n",
      "Company name  TCS\n"
     ]
    }
   ],
   "source": [
    "class EmployeeDetails():\n",
    "    __company_name = 'TCS' # Private Class Variable\n",
    "    \n",
    "    def __init__(self, name):\n",
    "        self.name = name\n",
    "        \n",
    "    def emp_details(self):\n",
    "        print('Employee Name is ', self.name)\n",
    "        print('Company name ', self.__company_name)\n",
    "        \n",
    "emp_obj = EmployeeDetails('Swati')\n",
    "emp_obj.__company_name = 'Accenture' # we can not modify private variables/methods\n",
    "emp_obj.emp_details()"
   ]
  },
  {
   "cell_type": "code",
   "execution_count": 16,
   "id": "c5f915b4",
   "metadata": {},
   "outputs": [
    {
     "name": "stdout",
     "output_type": "stream",
     "text": [
      "Employee Name is  Sagar\n",
      "Company name  TCS\n"
     ]
    }
   ],
   "source": [
    "class EmployeeDetails():\n",
    "    __company_name = 'TCS' # Private Class Variable\n",
    "    \n",
    "    def __init__(self, name):\n",
    "        self.name = name\n",
    "        \n",
    "    def emp_details(self):\n",
    "        print('Employee Name is ', self.name)\n",
    "        print('Company name ', self.__company_name)\n",
    "        \n",
    "emp_obj = EmployeeDetails('Swati')\n",
    "emp_obj.name = 'Sagar'\n",
    "emp_obj.__company_name = 'Accenture' # we can not modify private variables/methods\n",
    "emp_obj.emp_details()"
   ]
  },
  {
   "cell_type": "code",
   "execution_count": 17,
   "id": "d560a8e8",
   "metadata": {},
   "outputs": [
    {
     "name": "stdout",
     "output_type": "stream",
     "text": [
      "Employee Name is  Swati\n",
      "Company name  TCS\n"
     ]
    }
   ],
   "source": [
    "class EmployeeDetails():\n",
    "    __company_name = 'TCS' # Private Class Variable\n",
    "    \n",
    "    def __init__(self, name):\n",
    "        self.__name = name  # Private Instance Variable\n",
    "        \n",
    "    def emp_details(self):\n",
    "        print('Employee Name is ', self.__name)\n",
    "        print('Company name ', self.__company_name)\n",
    "        \n",
    "emp_obj = EmployeeDetails('Swati')\n",
    "emp_obj.__name = 'Sagar'\n",
    "emp_obj.__company_name = 'Accenture' # we can not modify private variables/methods\n",
    "emp_obj.emp_details()"
   ]
  },
  {
   "cell_type": "code",
   "execution_count": 22,
   "id": "5ba0df9c",
   "metadata": {},
   "outputs": [
    {
     "name": "stdout",
     "output_type": "stream",
     "text": [
      "Employee Name is  Swati\n",
      "Company name  TCS\n",
      "Employee ID Number is  T2001\n"
     ]
    }
   ],
   "source": [
    "class EmployeeDetails():\n",
    "    __company_name = 'TCS' # Private Class Variable\n",
    "    \n",
    "    def __init__(self, name, emp_id):\n",
    "        self.__name = name  # Private Instance Variable\n",
    "        self.emp_id = emp_id # Public Instance Variable\n",
    "        \n",
    "    def __employee_id(self):  # Private method\n",
    "        print('Employee ID Number is ', self.emp_id)\n",
    "        \n",
    "    def emp_details(self): # public method\n",
    "        print('Employee Name is ', self.__name)\n",
    "        print('Company name ', self.__company_name)\n",
    "        self.__employee_id()\n",
    "        \n",
    "emp_obj = EmployeeDetails('Swati', 'T2001')\n",
    "emp_obj.emp_details()  \n",
    "# emp_obj.__employee_id() # We can not access private methods from outside of the class"
   ]
  },
  {
   "cell_type": "code",
   "execution_count": null,
   "id": "a0945900",
   "metadata": {},
   "outputs": [],
   "source": []
  },
  {
   "cell_type": "code",
   "execution_count": null,
   "id": "9e817588",
   "metadata": {},
   "outputs": [],
   "source": []
  },
  {
   "cell_type": "code",
   "execution_count": null,
   "id": "8466fb89",
   "metadata": {},
   "outputs": [],
   "source": []
  },
  {
   "cell_type": "code",
   "execution_count": null,
   "id": "6afeaa81",
   "metadata": {},
   "outputs": [],
   "source": []
  },
  {
   "cell_type": "code",
   "execution_count": null,
   "id": "15f7419a",
   "metadata": {},
   "outputs": [],
   "source": []
  },
  {
   "cell_type": "code",
   "execution_count": null,
   "id": "8585212d",
   "metadata": {},
   "outputs": [],
   "source": []
  },
  {
   "cell_type": "code",
   "execution_count": null,
   "id": "38a2e2ee",
   "metadata": {},
   "outputs": [],
   "source": []
  },
  {
   "cell_type": "code",
   "execution_count": null,
   "id": "807c8638",
   "metadata": {},
   "outputs": [],
   "source": []
  },
  {
   "cell_type": "code",
   "execution_count": null,
   "id": "c675e60a",
   "metadata": {},
   "outputs": [],
   "source": []
  },
  {
   "cell_type": "code",
   "execution_count": null,
   "id": "18581b3c",
   "metadata": {},
   "outputs": [],
   "source": []
  },
  {
   "cell_type": "code",
   "execution_count": null,
   "id": "3634c7f2",
   "metadata": {},
   "outputs": [],
   "source": []
  },
  {
   "cell_type": "code",
   "execution_count": null,
   "id": "637da759",
   "metadata": {},
   "outputs": [],
   "source": []
  },
  {
   "cell_type": "code",
   "execution_count": null,
   "id": "61648b3c",
   "metadata": {},
   "outputs": [],
   "source": []
  },
  {
   "cell_type": "code",
   "execution_count": null,
   "id": "9f60dca7",
   "metadata": {},
   "outputs": [],
   "source": []
  },
  {
   "cell_type": "code",
   "execution_count": null,
   "id": "45dabf9c",
   "metadata": {},
   "outputs": [],
   "source": []
  },
  {
   "cell_type": "code",
   "execution_count": null,
   "id": "d86b6c03",
   "metadata": {},
   "outputs": [],
   "source": []
  },
  {
   "cell_type": "code",
   "execution_count": null,
   "id": "9a6d5c33",
   "metadata": {},
   "outputs": [],
   "source": []
  },
  {
   "cell_type": "code",
   "execution_count": null,
   "id": "fb540b9a",
   "metadata": {},
   "outputs": [],
   "source": []
  },
  {
   "cell_type": "code",
   "execution_count": null,
   "id": "30741ce3",
   "metadata": {},
   "outputs": [],
   "source": []
  },
  {
   "cell_type": "code",
   "execution_count": null,
   "id": "8e67e801",
   "metadata": {},
   "outputs": [],
   "source": []
  },
  {
   "cell_type": "code",
   "execution_count": null,
   "id": "d8f37e69",
   "metadata": {},
   "outputs": [],
   "source": []
  },
  {
   "cell_type": "code",
   "execution_count": null,
   "id": "9d4a25d0",
   "metadata": {},
   "outputs": [],
   "source": []
  },
  {
   "cell_type": "code",
   "execution_count": null,
   "id": "76ca4725",
   "metadata": {},
   "outputs": [],
   "source": []
  },
  {
   "cell_type": "code",
   "execution_count": null,
   "id": "3629afff",
   "metadata": {},
   "outputs": [],
   "source": []
  },
  {
   "cell_type": "code",
   "execution_count": null,
   "id": "588ae9c2",
   "metadata": {},
   "outputs": [],
   "source": []
  },
  {
   "cell_type": "code",
   "execution_count": null,
   "id": "60a64b10",
   "metadata": {},
   "outputs": [],
   "source": []
  },
  {
   "cell_type": "code",
   "execution_count": null,
   "id": "29b17afc",
   "metadata": {},
   "outputs": [],
   "source": []
  },
  {
   "cell_type": "code",
   "execution_count": null,
   "id": "2fded538",
   "metadata": {},
   "outputs": [],
   "source": []
  },
  {
   "cell_type": "code",
   "execution_count": null,
   "id": "7aaef003",
   "metadata": {},
   "outputs": [],
   "source": []
  },
  {
   "cell_type": "code",
   "execution_count": null,
   "id": "66cd1835",
   "metadata": {},
   "outputs": [],
   "source": []
  },
  {
   "cell_type": "code",
   "execution_count": null,
   "id": "b0f2e53f",
   "metadata": {},
   "outputs": [],
   "source": []
  },
  {
   "cell_type": "code",
   "execution_count": null,
   "id": "3248e22e",
   "metadata": {},
   "outputs": [],
   "source": []
  }
 ],
 "metadata": {
  "kernelspec": {
   "display_name": "Python 3 (ipykernel)",
   "language": "python",
   "name": "python3"
  },
  "language_info": {
   "codemirror_mode": {
    "name": "ipython",
    "version": 3
   },
   "file_extension": ".py",
   "mimetype": "text/x-python",
   "name": "python",
   "nbconvert_exporter": "python",
   "pygments_lexer": "ipython3",
   "version": "3.9.7"
  }
 },
 "nbformat": 4,
 "nbformat_minor": 5
}
