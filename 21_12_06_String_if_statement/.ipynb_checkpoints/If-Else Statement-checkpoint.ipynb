{
 "cells": [
  {
   "cell_type": "markdown",
   "id": "cdc2b64b",
   "metadata": {},
   "source": [
    "Decision Making Statement\n",
    "if statement can not be empty\n",
    "elif(else if) statement contains a condition \n",
    "else will be empty"
   ]
  },
  {
   "cell_type": "code",
   "execution_count": null,
   "id": "97747014",
   "metadata": {},
   "outputs": [],
   "source": [
    "if condition: # True or False\n",
    "    code\n",
    "    statement\n",
    "elif condition: "
   ]
  },
  {
   "cell_type": "code",
   "execution_count": null,
   "id": "82c3206e",
   "metadata": {},
   "outputs": [],
   "source": [
    "if :\n",
    "elif:\n",
    "elif:\n",
    "elif:\n",
    "else:"
   ]
  },
  {
   "cell_type": "code",
   "execution_count": 6,
   "id": "abc8b4d5",
   "metadata": {},
   "outputs": [],
   "source": [
    "string ='python'\n",
    "if string.istitle(): # True\n",
    "    print('Title case')"
   ]
  },
  {
   "cell_type": "code",
   "execution_count": 4,
   "id": "f0f81351",
   "metadata": {},
   "outputs": [
    {
     "name": "stdout",
     "output_type": "stream",
     "text": [
      "Not a title case\n"
     ]
    }
   ],
   "source": [
    "string ='python'\n",
    "if string.istitle(): # True\n",
    "    print('Title case')\n",
    "else:\n",
    "    print('Not a title case')"
   ]
  },
  {
   "cell_type": "code",
   "execution_count": 8,
   "id": "7ba19a11",
   "metadata": {},
   "outputs": [
    {
     "name": "stdout",
     "output_type": "stream",
     "text": [
      "string specified\n"
     ]
    }
   ],
   "source": [
    "a='class'\n",
    "if a:\n",
    "    print('string specified')"
   ]
  },
  {
   "cell_type": "code",
   "execution_count": 9,
   "id": "8013b7af",
   "metadata": {},
   "outputs": [
    {
     "name": "stdout",
     "output_type": "stream",
     "text": [
      "list present\n"
     ]
    }
   ],
   "source": [
    "a=[1,2]\n",
    "if a:\n",
    "    print('list present')"
   ]
  },
  {
   "cell_type": "code",
   "execution_count": 11,
   "id": "752efe98",
   "metadata": {},
   "outputs": [],
   "source": [
    "if a<b:\n",
    "    if a<c:\n",
    "        if a==b==c:\n",
    "            print()\n",
    "        elif a==b==c:\n",
    "    elif a<=c:\n",
    "elif a<b:"
   ]
  },
  {
   "cell_type": "markdown",
   "id": "bdee140c",
   "metadata": {},
   "source": [
    "## Operators"
   ]
  },
  {
   "cell_type": "markdown",
   "id": "22c17c93",
   "metadata": {},
   "source": [
    "### 1. Comparison Operators"
   ]
  },
  {
   "cell_type": "code",
   "execution_count": null,
   "id": "88aa428d",
   "metadata": {},
   "outputs": [],
   "source": [
    "a == b # Equal Operator\n",
    "a != b # Not equal\n",
    "a <  b # Less than\n",
    "a > b  # greater than\n",
    "a <= b # less than equal to\n",
    "a >= b # greater than equal to"
   ]
  },
  {
   "cell_type": "code",
   "execution_count": 14,
   "id": "c46dd51b",
   "metadata": {},
   "outputs": [
    {
     "data": {
      "text/plain": [
       "True"
      ]
     },
     "execution_count": 14,
     "metadata": {},
     "output_type": "execute_result"
    }
   ],
   "source": [
    "a=100\n",
    "b=100\n",
    "a==b"
   ]
  },
  {
   "cell_type": "code",
   "execution_count": 16,
   "id": "e4470989",
   "metadata": {},
   "outputs": [
    {
     "data": {
      "text/plain": [
       "True"
      ]
     },
     "execution_count": 16,
     "metadata": {},
     "output_type": "execute_result"
    }
   ],
   "source": [
    "a=10\n",
    "b=12\n",
    "a!=b"
   ]
  },
  {
   "cell_type": "code",
   "execution_count": 17,
   "id": "6e24e077",
   "metadata": {},
   "outputs": [
    {
     "data": {
      "text/plain": [
       "True"
      ]
     },
     "execution_count": 17,
     "metadata": {},
     "output_type": "execute_result"
    }
   ],
   "source": [
    "a=10\n",
    "b=12\n",
    "a<b"
   ]
  },
  {
   "cell_type": "code",
   "execution_count": 18,
   "id": "18fd0fc5",
   "metadata": {},
   "outputs": [
    {
     "data": {
      "text/plain": [
       "False"
      ]
     },
     "execution_count": 18,
     "metadata": {},
     "output_type": "execute_result"
    }
   ],
   "source": [
    "a=10\n",
    "b=12\n",
    "a>b"
   ]
  },
  {
   "cell_type": "code",
   "execution_count": 21,
   "id": "a19f6b5c",
   "metadata": {},
   "outputs": [
    {
     "data": {
      "text/plain": [
       "False"
      ]
     },
     "execution_count": 21,
     "metadata": {},
     "output_type": "execute_result"
    }
   ],
   "source": [
    "a=10\n",
    "b=9\n",
    "a<=b"
   ]
  },
  {
   "cell_type": "code",
   "execution_count": 23,
   "id": "8b084f01",
   "metadata": {},
   "outputs": [
    {
     "data": {
      "text/plain": [
       "False"
      ]
     },
     "execution_count": 23,
     "metadata": {},
     "output_type": "execute_result"
    }
   ],
   "source": [
    "a=10\n",
    "b=19\n",
    "a>=b"
   ]
  },
  {
   "cell_type": "markdown",
   "id": "86fb590b",
   "metadata": {},
   "source": [
    "### Logical Operators"
   ]
  },
  {
   "cell_type": "code",
   "execution_count": null,
   "id": "4957bd0e",
   "metadata": {},
   "outputs": [],
   "source": [
    "1. and\n",
    "True and True   >> True\n",
    "True and False  >> False\n",
    "False and True  >> False\n",
    "False and False >> False\n",
    "True and True and True >> True\n",
    "True and False and True >> False\n",
    "\n",
    "2. or\n",
    "True or True    >> True\n",
    "True or False   >> True\n",
    "False or True   >> True\n",
    "False or False  >> False\n",
    "True or True or True >> True\n",
    "True or False or True >> True"
   ]
  },
  {
   "cell_type": "markdown",
   "id": "a8076e16",
   "metadata": {},
   "source": [
    "### If statement"
   ]
  },
  {
   "cell_type": "code",
   "execution_count": 24,
   "id": "42c8f863",
   "metadata": {},
   "outputs": [
    {
     "name": "stdout",
     "output_type": "stream",
     "text": [
      "a is less than b\n"
     ]
    }
   ],
   "source": [
    "a=200\n",
    "b=300\n",
    "if a < b:\n",
    "    print('a is less than b')\n",
    "\n",
    "else:\n",
    "    print('a is greater than b')"
   ]
  },
  {
   "cell_type": "code",
   "execution_count": 25,
   "id": "7c944e94",
   "metadata": {},
   "outputs": [
    {
     "name": "stdout",
     "output_type": "stream",
     "text": [
      "a is less than b\n",
      "we are in if statement\n"
     ]
    }
   ],
   "source": [
    "a=200\n",
    "b=300\n",
    "if a < b:\n",
    "    print('a is less than b')\n",
    "    print('we are in if statement')\n",
    "\n",
    "else:\n",
    "    print('a is greater than b')\n",
    "    print('we are in else statement')"
   ]
  },
  {
   "cell_type": "code",
   "execution_count": 26,
   "id": "734fce31",
   "metadata": {},
   "outputs": [
    {
     "name": "stdout",
     "output_type": "stream",
     "text": [
      "a is greater than b\n",
      "we are in else statement\n"
     ]
    }
   ],
   "source": [
    "a=400\n",
    "b=300\n",
    "if a < b: # False\n",
    "    print('a is less than b')\n",
    "    print('we are in if statement')\n",
    "\n",
    "else:\n",
    "    print('a is greater than b')\n",
    "    print('we are in else statement')"
   ]
  },
  {
   "cell_type": "code",
   "execution_count": 27,
   "id": "512ba9ea",
   "metadata": {},
   "outputs": [
    {
     "name": "stdout",
     "output_type": "stream",
     "text": [
      "a is equal to b\n",
      "we are in elif statement\n"
     ]
    }
   ],
   "source": [
    "a=300\n",
    "b=300\n",
    "if a < b: # False\n",
    "    print('a is less than b')\n",
    "    print('we are in if statement')\n",
    "    \n",
    "elif a==b:\n",
    "    print('a is equal to b')\n",
    "    print('we are in elif statement')\n",
    "\n",
    "else:\n",
    "    print('a is greater than b')\n",
    "    print('we are in else statement')"
   ]
  },
  {
   "cell_type": "code",
   "execution_count": 28,
   "id": "fa1203b2",
   "metadata": {},
   "outputs": [
    {
     "name": "stdout",
     "output_type": "stream",
     "text": [
      "a is greater than b\n",
      "we are in else statement\n"
     ]
    }
   ],
   "source": [
    "a=300\n",
    "b=30\n",
    "if a < b: # False\n",
    "    print('a is less than b')\n",
    "    print('we are in if statement')\n",
    "    \n",
    "elif a==b:\n",
    "    print('a is equal to b')\n",
    "    print('we are in elif statement')\n",
    "\n",
    "else:\n",
    "    print('a is greater than b')\n",
    "    print('we are in else statement')"
   ]
  },
  {
   "cell_type": "code",
   "execution_count": 30,
   "id": "64b1bc8c",
   "metadata": {},
   "outputs": [
    {
     "name": "stdout",
     "output_type": "stream",
     "text": [
      "a is less than or equal to b\n",
      "we are in if statement\n",
      "a is equal to b\n",
      "we are in elif statement\n"
     ]
    }
   ],
   "source": [
    "a=300\n",
    "b=300\n",
    "if a <= b: # True\n",
    "    print('a is less than or equal to b')\n",
    "    print('we are in if statement')\n",
    "    \n",
    "if a==b:\n",
    "    print('a is equal to b')\n",
    "    print('we are in elif statement')\n",
    "\n",
    "else:\n",
    "    print('a is greater than b')\n",
    "    print('we are in else statement')"
   ]
  },
  {
   "cell_type": "code",
   "execution_count": 31,
   "id": "0deb4b25",
   "metadata": {},
   "outputs": [
    {
     "name": "stdout",
     "output_type": "stream",
     "text": [
      "a is less than or equal to b\n",
      "we are in if statement\n"
     ]
    }
   ],
   "source": [
    "a=300\n",
    "b=300\n",
    "if a <= b: # True\n",
    "    print('a is less than or equal to b')\n",
    "    print('we are in if statement')\n",
    "    \n",
    "elif a==b:\n",
    "    print('a is equal to b')\n",
    "    print('we are in elif statement')\n",
    "\n",
    "else:\n",
    "    print('a is greater than b')\n",
    "    print('we are in else statement')"
   ]
  },
  {
   "cell_type": "code",
   "execution_count": null,
   "id": "aa8da83f",
   "metadata": {},
   "outputs": [],
   "source": []
  }
 ],
 "metadata": {
  "kernelspec": {
   "display_name": "Python 3",
   "language": "python",
   "name": "python3"
  },
  "language_info": {
   "codemirror_mode": {
    "name": "ipython",
    "version": 3
   },
   "file_extension": ".py",
   "mimetype": "text/x-python",
   "name": "python",
   "nbconvert_exporter": "python",
   "pygments_lexer": "ipython3",
   "version": "3.8.8"
  }
 },
 "nbformat": 4,
 "nbformat_minor": 5
}
