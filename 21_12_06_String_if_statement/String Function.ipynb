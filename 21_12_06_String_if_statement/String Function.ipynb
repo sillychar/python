{
 "cells": [
  {
   "cell_type": "markdown",
   "id": "e85fc5fd",
   "metadata": {},
   "source": [
    "### 25. isspace()"
   ]
  },
  {
   "cell_type": "markdown",
   "id": "e4c923db",
   "metadata": {},
   "source": [
    "True >> if all char in string are space"
   ]
  },
  {
   "cell_type": "code",
   "execution_count": 1,
   "id": "46d554b8",
   "metadata": {},
   "outputs": [
    {
     "data": {
      "text/plain": [
       "True"
      ]
     },
     "execution_count": 1,
     "metadata": {},
     "output_type": "execute_result"
    }
   ],
   "source": [
    "string ='    '\n",
    "string.isspace()"
   ]
  },
  {
   "cell_type": "code",
   "execution_count": 2,
   "id": "bbb0e3a5",
   "metadata": {},
   "outputs": [
    {
     "data": {
      "text/plain": [
       "False"
      ]
     },
     "execution_count": 2,
     "metadata": {},
     "output_type": "execute_result"
    }
   ],
   "source": [
    "string ='  ,  '\n",
    "string.isspace()"
   ]
  },
  {
   "cell_type": "code",
   "execution_count": 3,
   "id": "c25ffafc",
   "metadata": {},
   "outputs": [
    {
     "data": {
      "text/plain": [
       "False"
      ]
     },
     "execution_count": 3,
     "metadata": {},
     "output_type": "execute_result"
    }
   ],
   "source": [
    "string ='    1'\n",
    "string.isspace()"
   ]
  },
  {
   "cell_type": "code",
   "execution_count": 4,
   "id": "977d24ee",
   "metadata": {},
   "outputs": [
    {
     "data": {
      "text/plain": [
       "False"
      ]
     },
     "execution_count": 4,
     "metadata": {},
     "output_type": "execute_result"
    }
   ],
   "source": [
    "string ='            python  '\n",
    "string.isspace()"
   ]
  },
  {
   "cell_type": "code",
   "execution_count": 11,
   "id": "b71aa6a9",
   "metadata": {},
   "outputs": [
    {
     "name": "stdout",
     "output_type": "stream",
     "text": [
      "Deep learning is part of a broader family of machine learning methods\n",
      "    \n",
      "based on artificial neural networks with representation learning. \n",
      "Learning can be supervised,semi-supervised or unsupervised\n"
     ]
    }
   ],
   "source": [
    "deep_learning ='''Deep learning is part of a broader family of machine learning methods\n",
    "    \n",
    "based on artificial neural networks with representation learning. \n",
    "Learning can be supervised,semi-supervised or unsupervised'''\n",
    "print(deep_learning)"
   ]
  },
  {
   "cell_type": "code",
   "execution_count": 12,
   "id": "cde76e79",
   "metadata": {},
   "outputs": [
    {
     "data": {
      "text/plain": [
       "['Deep learning is part of a broader family of machine learning methods',\n",
       " '    ',\n",
       " 'based on artificial neural networks with representation learning. ',\n",
       " 'Learning can be supervised,semi-supervised or unsupervised']"
      ]
     },
     "execution_count": 12,
     "metadata": {},
     "output_type": "execute_result"
    }
   ],
   "source": [
    "list1 =deep_learning.split('\\n')\n",
    "list1"
   ]
  },
  {
   "cell_type": "code",
   "execution_count": 19,
   "id": "d143237d",
   "metadata": {},
   "outputs": [
    {
     "name": "stdout",
     "output_type": "stream",
     "text": [
      "Deep learning is part of a broader family of machine learning methods\n",
      "based on artificial neural networks with representation learning. \n",
      "Learning can be supervised,semi-supervised or unsupervised\n"
     ]
    }
   ],
   "source": [
    "list2=[]\n",
    "for line in list1:\n",
    "#     print('Line Text >>',line)\n",
    "    if line.isspace():\n",
    "#         print('Blank line found', line)\n",
    "        continue # It will stop current iteration\n",
    "    list2.append(line)\n",
    "# print(list2)\n",
    "deep_learning = '\\n'.join(list2)\n",
    "print(deep_learning)"
   ]
  },
  {
   "cell_type": "markdown",
   "id": "8e9d67b2",
   "metadata": {},
   "source": [
    "### 26. zfill()"
   ]
  },
  {
   "cell_type": "code",
   "execution_count": null,
   "id": "43987cfc",
   "metadata": {},
   "outputs": [],
   "source": [
    "It adds zeros at beginning of string"
   ]
  },
  {
   "cell_type": "code",
   "execution_count": 20,
   "id": "7da40246",
   "metadata": {},
   "outputs": [
    {
     "data": {
      "text/plain": [
       "'0000001234'"
      ]
     },
     "execution_count": 20,
     "metadata": {},
     "output_type": "execute_result"
    }
   ],
   "source": [
    "str1 = '1234' # len =4\n",
    "str1.zfill(10) # adds 0's =6"
   ]
  },
  {
   "cell_type": "code",
   "execution_count": 21,
   "id": "2edabaa5",
   "metadata": {},
   "outputs": [
    {
     "data": {
      "text/plain": [
       "'0000python'"
      ]
     },
     "execution_count": 21,
     "metadata": {},
     "output_type": "execute_result"
    }
   ],
   "source": [
    "str1 ='python'\n",
    "str1.zfill(10)"
   ]
  },
  {
   "cell_type": "code",
   "execution_count": 22,
   "id": "3e2bcba1",
   "metadata": {},
   "outputs": [
    {
     "data": {
      "text/plain": [
       "'000 python'"
      ]
     },
     "execution_count": 22,
     "metadata": {},
     "output_type": "execute_result"
    }
   ],
   "source": [
    "str1 =' python'\n",
    "str1.zfill(10)"
   ]
  },
  {
   "cell_type": "markdown",
   "id": "01f54f01",
   "metadata": {},
   "source": [
    "### 27 . center()"
   ]
  },
  {
   "cell_type": "code",
   "execution_count": 23,
   "id": "b63ec475",
   "metadata": {},
   "outputs": [
    {
     "data": {
      "text/plain": [
       "'  Python  '"
      ]
     },
     "execution_count": 23,
     "metadata": {},
     "output_type": "execute_result"
    }
   ],
   "source": [
    "str1='Python' # len = 6\n",
    "str1.center(10) # adds spaces equally to both side and get string in center"
   ]
  },
  {
   "cell_type": "code",
   "execution_count": 26,
   "id": "30413488",
   "metadata": {},
   "outputs": [
    {
     "data": {
      "text/plain": [
       "'  pythons  '"
      ]
     },
     "execution_count": 26,
     "metadata": {},
     "output_type": "execute_result"
    }
   ],
   "source": [
    "str1 ='pythons'\n",
    "str1.center(11)"
   ]
  },
  {
   "cell_type": "code",
   "execution_count": 27,
   "id": "64b9ef82",
   "metadata": {},
   "outputs": [
    {
     "data": {
      "text/plain": [
       "'   python  '"
      ]
     },
     "execution_count": 27,
     "metadata": {},
     "output_type": "execute_result"
    }
   ],
   "source": [
    "str1 ='python' # Even string spaces \n",
    "str1.center(11) # odd range extra 1 space will be added on leading side"
   ]
  },
  {
   "cell_type": "code",
   "execution_count": 30,
   "id": "377db72f",
   "metadata": {},
   "outputs": [
    {
     "data": {
      "text/plain": [
       "'++python++'"
      ]
     },
     "execution_count": 30,
     "metadata": {},
     "output_type": "execute_result"
    }
   ],
   "source": [
    "string = 'python'\n",
    "string.center(10,'+')"
   ]
  },
  {
   "cell_type": "code",
   "execution_count": 33,
   "id": "792dfa17",
   "metadata": {},
   "outputs": [
    {
     "data": {
      "text/plain": [
       "'  python  '"
      ]
     },
     "execution_count": 33,
     "metadata": {},
     "output_type": "execute_result"
    }
   ],
   "source": [
    "string = 'python'\n",
    "string.center(10,' ')"
   ]
  },
  {
   "cell_type": "code",
   "execution_count": null,
   "id": "1c18f8a8",
   "metadata": {},
   "outputs": [],
   "source": []
  },
  {
   "cell_type": "code",
   "execution_count": null,
   "id": "4487942e",
   "metadata": {},
   "outputs": [],
   "source": []
  }
 ],
 "metadata": {
  "kernelspec": {
   "display_name": "Python 3 (ipykernel)",
   "language": "python",
   "name": "python3"
  },
  "language_info": {
   "codemirror_mode": {
    "name": "ipython",
    "version": 3
   },
   "file_extension": ".py",
   "mimetype": "text/x-python",
   "name": "python",
   "nbconvert_exporter": "python",
   "pygments_lexer": "ipython3",
   "version": "3.9.7"
  }
 },
 "nbformat": 4,
 "nbformat_minor": 5
}
