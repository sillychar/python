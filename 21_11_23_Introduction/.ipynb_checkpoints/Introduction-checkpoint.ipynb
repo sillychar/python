{
 "cells": [
  {
   "cell_type": "code",
   "execution_count": 1,
   "id": "73c0f2b0",
   "metadata": {},
   "outputs": [
    {
     "name": "stdout",
     "output_type": "stream",
     "text": [
      "Hello World\n"
     ]
    }
   ],
   "source": [
    "print('Hello World')"
   ]
  },
  {
   "cell_type": "code",
   "execution_count": 6,
   "id": "677f77b6",
   "metadata": {},
   "outputs": [
    {
     "name": "stdout",
     "output_type": "stream",
     "text": [
      "Welcome to Velocity Family\n"
     ]
    }
   ],
   "source": [
    "print(\"Welcome to Velocity Family\")"
   ]
  },
  {
   "cell_type": "markdown",
   "id": "38580fc1",
   "metadata": {},
   "source": [
    "ctrl + Enter >> to run current cell\n",
    "shft + Enter >> Execute current cell and go to next cell\n",
    "Alt  + Enter >> Execute curent cell and create blank cell"
   ]
  },
  {
   "cell_type": "code",
   "execution_count": 7,
   "id": "9bd4be13",
   "metadata": {},
   "outputs": [
    {
     "name": "stdout",
     "output_type": "stream",
     "text": [
      "Hello\n"
     ]
    }
   ],
   "source": [
    "print('Hello')"
   ]
  },
  {
   "cell_type": "markdown",
   "id": "abb3478e",
   "metadata": {},
   "source": [
    "# Python Introduction"
   ]
  },
  {
   "cell_type": "markdown",
   "id": "834cfbd1",
   "metadata": {},
   "source": [
    "#### 1. Variables"
   ]
  },
  {
   "cell_type": "code",
   "execution_count": 8,
   "id": "d92161bd",
   "metadata": {},
   "outputs": [
    {
     "name": "stdout",
     "output_type": "stream",
     "text": [
      "Variables\n"
     ]
    }
   ],
   "source": [
    "print('Variables')"
   ]
  },
  {
   "cell_type": "markdown",
   "id": "0c1fbd6a",
   "metadata": {},
   "source": [
    "#### 2. String"
   ]
  },
  {
   "cell_type": "code",
   "execution_count": 9,
   "id": "8bf23e98",
   "metadata": {},
   "outputs": [
    {
     "name": "stdout",
     "output_type": "stream",
     "text": [
      "String\n"
     ]
    }
   ],
   "source": [
    "print('String')"
   ]
  },
  {
   "cell_type": "markdown",
   "id": "4f65fffc",
   "metadata": {},
   "source": [
    "# Comments in Python"
   ]
  },
  {
   "cell_type": "code",
   "execution_count": null,
   "id": "2a73c321",
   "metadata": {},
   "outputs": [],
   "source": [
    "# a='Velocity Classes'"
   ]
  },
  {
   "cell_type": "markdown",
   "id": "b85eca8c",
   "metadata": {},
   "source": [
    "1. # >> To comment the code\n",
    "2. Ctrl + / >> single line or Multiple line"
   ]
  },
  {
   "cell_type": "code",
   "execution_count": null,
   "id": "20aec6f2",
   "metadata": {},
   "outputs": [],
   "source": [
    "# a=10\n",
    "# b='abc'"
   ]
  },
  {
   "cell_type": "code",
   "execution_count": 10,
   "id": "7ba55495",
   "metadata": {},
   "outputs": [
    {
     "name": "stdout",
     "output_type": "stream",
     "text": [
      "I want to learn Python\n",
      "I will learn Data Science\n"
     ]
    }
   ],
   "source": [
    "print('I want to learn Python')\n",
    "print('I will learn Data Science')"
   ]
  },
  {
   "cell_type": "code",
   "execution_count": 11,
   "id": "29f480ab",
   "metadata": {},
   "outputs": [
    {
     "name": "stdout",
     "output_type": "stream",
     "text": [
      "I will learn Data Science\n"
     ]
    }
   ],
   "source": [
    "# print('I want to learn Python')\n",
    "print('I will learn Data Science')"
   ]
  },
  {
   "cell_type": "code",
   "execution_count": 12,
   "id": "2b795a23",
   "metadata": {},
   "outputs": [],
   "source": [
    "# print('I want to learn Python')\n",
    "# print('I will learn Data Science')"
   ]
  },
  {
   "cell_type": "code",
   "execution_count": 16,
   "id": "7efe721b",
   "metadata": {},
   "outputs": [
    {
     "name": "stdout",
     "output_type": "stream",
     "text": [
      "200\n"
     ]
    }
   ],
   "source": [
    "a = 100\n",
    "a = 200\n",
    "print(a)"
   ]
  },
  {
   "cell_type": "code",
   "execution_count": 19,
   "id": "57e4eea7",
   "metadata": {},
   "outputs": [
    {
     "name": "stdout",
     "output_type": "stream",
     "text": [
      "500\n"
     ]
    }
   ],
   "source": [
    "b=300\n",
    "print(a + b)\n",
    "c=12\n",
    "\n"
   ]
  },
  {
   "cell_type": "code",
   "execution_count": 31,
   "id": "38507714",
   "metadata": {},
   "outputs": [
    {
     "data": {
      "text/plain": [
       "'Machine learning is the study of computer algorithms that can improve automatically\\nthrough experience and by the use of data. It is seen as a part of artificial intelligence'"
      ]
     },
     "execution_count": 31,
     "metadata": {},
     "output_type": "execute_result"
    }
   ],
   "source": [
    "str1='''Machine learning is the study of computer algorithms that can improve automatically\n",
    "through experience and by the use of data. It is seen as a part of artificial intelligence'''\n",
    "str1"
   ]
  },
  {
   "cell_type": "code",
   "execution_count": null,
   "id": "af136866",
   "metadata": {},
   "outputs": [],
   "source": [
    "\\n\n",
    "\\t"
   ]
  },
  {
   "cell_type": "code",
   "execution_count": 30,
   "id": "9537dc4e",
   "metadata": {},
   "outputs": [
    {
     "name": "stdout",
     "output_type": "stream",
     "text": [
      "Machine learning is the study of computer algorithms that can improve automatically\n",
      "through experience and by the use of data. It is seen as a part of artificial intelligence\n"
     ]
    }
   ],
   "source": [
    "print(str1)"
   ]
  },
  {
   "cell_type": "code",
   "execution_count": 23,
   "id": "c402cbfc",
   "metadata": {},
   "outputs": [
    {
     "ename": "SyntaxError",
     "evalue": "invalid syntax (<ipython-input-23-a3fe81d6dc36>, line 1)",
     "output_type": "error",
     "traceback": [
      "\u001b[1;36m  File \u001b[1;32m\"<ipython-input-23-a3fe81d6dc36>\"\u001b[1;36m, line \u001b[1;32m1\u001b[0m\n\u001b[1;33m    a=' 'dkj' '\u001b[0m\n\u001b[1;37m         ^\u001b[0m\n\u001b[1;31mSyntaxError\u001b[0m\u001b[1;31m:\u001b[0m invalid syntax\n"
     ]
    }
   ],
   "source": [
    "a=' 'dkj' '"
   ]
  },
  {
   "cell_type": "code",
   "execution_count": null,
   "id": "9c9a17c2",
   "metadata": {},
   "outputs": [],
   "source": [
    "a='machine learning\n",
    "learning'"
   ]
  },
  {
   "cell_type": "markdown",
   "id": "dc1c03da",
   "metadata": {},
   "source": [
    "# Indentation"
   ]
  },
  {
   "cell_type": "code",
   "execution_count": null,
   "id": "57a25b0b",
   "metadata": {},
   "outputs": [],
   "source": [
    "space at the beginning of code"
   ]
  },
  {
   "cell_type": "code",
   "execution_count": 32,
   "id": "3a972b91",
   "metadata": {},
   "outputs": [
    {
     "data": {
      "text/plain": [
       "'python'"
      ]
     },
     "execution_count": 32,
     "metadata": {},
     "output_type": "execute_result"
    }
   ],
   "source": [
    "a='python'\n",
    "a"
   ]
  },
  {
   "cell_type": "code",
   "execution_count": 35,
   "id": "61e23d97",
   "metadata": {},
   "outputs": [
    {
     "ename": "IndentationError",
     "evalue": "unexpected indent (<ipython-input-35-17712e5592bc>, line 2)",
     "output_type": "error",
     "traceback": [
      "\u001b[1;36m  File \u001b[1;32m\"<ipython-input-35-17712e5592bc>\"\u001b[1;36m, line \u001b[1;32m2\u001b[0m\n\u001b[1;33m    b='class'\u001b[0m\n\u001b[1;37m    ^\u001b[0m\n\u001b[1;31mIndentationError\u001b[0m\u001b[1;31m:\u001b[0m unexpected indent\n"
     ]
    }
   ],
   "source": [
    "a ='python'\n",
    " b='class'"
   ]
  },
  {
   "cell_type": "code",
   "execution_count": 37,
   "id": "9180628c",
   "metadata": {},
   "outputs": [
    {
     "ename": "IndentationError",
     "evalue": "unexpected indent (<ipython-input-37-cfe7834dbb81>, line 2)",
     "output_type": "error",
     "traceback": [
      "\u001b[1;36m  File \u001b[1;32m\"<ipython-input-37-cfe7834dbb81>\"\u001b[1;36m, line \u001b[1;32m2\u001b[0m\n\u001b[1;33m    b='class'\u001b[0m\n\u001b[1;37m    ^\u001b[0m\n\u001b[1;31mIndentationError\u001b[0m\u001b[1;31m:\u001b[0m unexpected indent\n"
     ]
    }
   ],
   "source": [
    "a ='python'\n",
    "    b='class'"
   ]
  },
  {
   "cell_type": "markdown",
   "id": "0688ddef",
   "metadata": {},
   "source": [
    "if , elif, else statements\n",
    "for loops and while loop\n",
    "try and except"
   ]
  },
  {
   "cell_type": "code",
   "execution_count": 45,
   "id": "47fb4357",
   "metadata": {},
   "outputs": [
    {
     "ename": "IndentationError",
     "evalue": "unexpected indent (<ipython-input-45-73e9fc128ed2>, line 7)",
     "output_type": "error",
     "traceback": [
      "\u001b[1;36m  File \u001b[1;32m\"<ipython-input-45-73e9fc128ed2>\"\u001b[1;36m, line \u001b[1;32m7\u001b[0m\n\u001b[1;33m    print('b is greater than a')\u001b[0m\n\u001b[1;37m    ^\u001b[0m\n\u001b[1;31mIndentationError\u001b[0m\u001b[1;31m:\u001b[0m unexpected indent\n"
     ]
    }
   ],
   "source": [
    "a=10\n",
    "b=20\n",
    "if a>b :\n",
    "    print('a is greater than b')\n",
    "else:\n",
    "   b=10\n",
    "    print('b is greater than a')"
   ]
  },
  {
   "cell_type": "code",
   "execution_count": 47,
   "id": "14ec446e",
   "metadata": {},
   "outputs": [
    {
     "name": "stdout",
     "output_type": "stream",
     "text": [
      "10\n",
      "testing for loop\n",
      "11\n",
      "testing for loop\n",
      "12\n",
      "testing for loop\n",
      "13\n",
      "testing for loop\n",
      "14\n",
      "testing for loop\n"
     ]
    }
   ],
   "source": [
    "for i in range(10,15):\n",
    "    print(i)\n",
    "    print('testing for loop')"
   ]
  },
  {
   "cell_type": "markdown",
   "id": "db152c03",
   "metadata": {},
   "source": [
    "# Variable:"
   ]
  },
  {
   "cell_type": "code",
   "execution_count": null,
   "id": "3aeeedef",
   "metadata": {},
   "outputs": [],
   "source": [
    "1. Letter (a to z, A-Z)\n",
    "2. can not use special character except (_)\n",
    "3. case sensitive\n",
    "4. do not use reserved word(class, next, print, def, list, if, except, import)\n",
    "5. should not start with number\n",
    "6. space should not be used"
   ]
  },
  {
   "cell_type": "code",
   "execution_count": 57,
   "id": "e3995243",
   "metadata": {},
   "outputs": [
    {
     "data": {
      "text/plain": [
       "10"
      ]
     },
     "execution_count": 57,
     "metadata": {},
     "output_type": "execute_result"
    }
   ],
   "source": [
    "a1=10\n",
    "a1"
   ]
  },
  {
   "cell_type": "code",
   "execution_count": 62,
   "id": "2e176685",
   "metadata": {},
   "outputs": [
    {
     "data": {
      "text/plain": [
       "-10"
      ]
     },
     "execution_count": 62,
     "metadata": {},
     "output_type": "execute_result"
    }
   ],
   "source": [
    "a = -10\n",
    "a"
   ]
  },
  {
   "cell_type": "code",
   "execution_count": 63,
   "id": "21afa0b2",
   "metadata": {},
   "outputs": [
    {
     "data": {
      "text/plain": [
       "int"
      ]
     },
     "execution_count": 63,
     "metadata": {},
     "output_type": "execute_result"
    }
   ],
   "source": [
    "type(a)\n"
   ]
  },
  {
   "cell_type": "code",
   "execution_count": 64,
   "id": "cd844bc3",
   "metadata": {},
   "outputs": [
    {
     "data": {
      "text/plain": [
       "float"
      ]
     },
     "execution_count": 64,
     "metadata": {},
     "output_type": "execute_result"
    }
   ],
   "source": [
    "b=10.0\n",
    "type(b)"
   ]
  },
  {
   "cell_type": "code",
   "execution_count": 74,
   "id": "17cefc8a",
   "metadata": {},
   "outputs": [
    {
     "data": {
      "text/plain": [
       "list"
      ]
     },
     "execution_count": 74,
     "metadata": {},
     "output_type": "execute_result"
    }
   ],
   "source": [
    "a=[1,2,3.4,4,'ram',[2,3,45]]\n",
    "type(a)"
   ]
  },
  {
   "cell_type": "code",
   "execution_count": 75,
   "id": "b91d3bdb",
   "metadata": {},
   "outputs": [
    {
     "data": {
      "text/plain": [
       "[1, 2, 3.4, 4, 'ram', [2, 3, 45]]"
      ]
     },
     "execution_count": 75,
     "metadata": {},
     "output_type": "execute_result"
    }
   ],
   "source": [
    "a"
   ]
  },
  {
   "cell_type": "code",
   "execution_count": 78,
   "id": "67e555b2",
   "metadata": {},
   "outputs": [
    {
     "name": "stdout",
     "output_type": "stream",
     "text": [
      "<class 'tuple'>\n",
      "(1, 2, 3.4, 4, 'ram', [2, 3, 45])\n"
     ]
    }
   ],
   "source": [
    "a=(1,2,3.4,4,'ram',[2,3,45])\n",
    "print(type(a))\n",
    "print(a)"
   ]
  },
  {
   "cell_type": "code",
   "execution_count": 82,
   "id": "019fe972",
   "metadata": {},
   "outputs": [
    {
     "data": {
      "text/plain": [
       "str"
      ]
     },
     "execution_count": 82,
     "metadata": {},
     "output_type": "execute_result"
    }
   ],
   "source": [
    "a= 'abc'\n",
    "type(a)"
   ]
  },
  {
   "cell_type": "code",
   "execution_count": 83,
   "id": "36b5d9ec",
   "metadata": {},
   "outputs": [
    {
     "data": {
      "text/plain": [
       "10"
      ]
     },
     "execution_count": 83,
     "metadata": {},
     "output_type": "execute_result"
    }
   ],
   "source": [
    "a=10\n",
    "a"
   ]
  },
  {
   "cell_type": "code",
   "execution_count": 86,
   "id": "90b7cad4",
   "metadata": {},
   "outputs": [
    {
     "name": "stdout",
     "output_type": "stream",
     "text": [
      "['False', 'None', 'True', 'and', 'as', 'assert', 'async', 'await', 'break', 'class', 'continue', 'def', 'del', 'elif', 'else', 'except', 'finally', 'for', 'from', 'global', 'if', 'import', 'in', 'is', 'lambda', 'nonlocal', 'not', 'or', 'pass', 'raise', 'return', 'try', 'while', 'with', 'yield']\n"
     ]
    }
   ],
   "source": [
    "import keyword as a\n",
    "print(a.kwlist)"
   ]
  },
  {
   "cell_type": "code",
   "execution_count": 88,
   "id": "d05c3e39",
   "metadata": {},
   "outputs": [],
   "source": [
    "import keyword\n",
    "import re\n",
    "import os\n",
    "import pandas \n",
    "import numpy"
   ]
  },
  {
   "cell_type": "code",
   "execution_count": null,
   "id": "2f21589d",
   "metadata": {},
   "outputs": [],
   "source": []
  }
 ],
 "metadata": {
  "kernelspec": {
   "display_name": "Python 3",
   "language": "python",
   "name": "python3"
  },
  "language_info": {
   "codemirror_mode": {
    "name": "ipython",
    "version": 3
   },
   "file_extension": ".py",
   "mimetype": "text/x-python",
   "name": "python",
   "nbconvert_exporter": "python",
   "pygments_lexer": "ipython3",
   "version": "3.8.8"
  }
 },
 "nbformat": 4,
 "nbformat_minor": 5
}
