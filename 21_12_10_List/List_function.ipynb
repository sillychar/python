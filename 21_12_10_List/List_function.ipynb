{
 "cells": [
  {
   "cell_type": "markdown",
   "id": "5b6c4aa3",
   "metadata": {},
   "source": [
    "#### 2.pop()"
   ]
  },
  {
   "cell_type": "code",
   "execution_count": null,
   "id": "dad098f7",
   "metadata": {},
   "outputs": [],
   "source": [
    "pop(index) #default it will remove last index"
   ]
  },
  {
   "cell_type": "code",
   "execution_count": 2,
   "id": "74c69d67",
   "metadata": {},
   "outputs": [
    {
     "data": {
      "text/plain": [
       "'Delhi'"
      ]
     },
     "execution_count": 2,
     "metadata": {},
     "output_type": "execute_result"
    }
   ],
   "source": [
    "city_name = ['Pune','Mumbai','Mumbai','Delhi','Chennai']\n",
    "a=city_name.pop(3)\n",
    "city_name\n",
    "a"
   ]
  },
  {
   "cell_type": "code",
   "execution_count": 2,
   "id": "8f275cae",
   "metadata": {},
   "outputs": [
    {
     "data": {
      "text/plain": [
       "['Mumbai', 'Mumbai', 'Delhi', 'Chennai']"
      ]
     },
     "execution_count": 2,
     "metadata": {},
     "output_type": "execute_result"
    }
   ],
   "source": [
    "city_name = ['Pune','Mumbai','Mumbai','Delhi','Chennai']\n",
    "city_name.pop(0)\n",
    "city_name"
   ]
  },
  {
   "cell_type": "code",
   "execution_count": 3,
   "id": "f3480416",
   "metadata": {},
   "outputs": [
    {
     "data": {
      "text/plain": [
       "[10, 20, 40]"
      ]
     },
     "execution_count": 3,
     "metadata": {},
     "output_type": "execute_result"
    }
   ],
   "source": [
    "num = [10,20,30,40]\n",
    "num.pop(2)\n",
    "num"
   ]
  },
  {
   "cell_type": "markdown",
   "id": "56ba0185",
   "metadata": {},
   "source": [
    "#### 3. clear()"
   ]
  },
  {
   "cell_type": "code",
   "execution_count": null,
   "id": "db328472",
   "metadata": {},
   "outputs": [],
   "source": [
    "It will remove all items from list, and returns null list"
   ]
  },
  {
   "cell_type": "code",
   "execution_count": 4,
   "id": "11db8ea8",
   "metadata": {},
   "outputs": [
    {
     "data": {
      "text/plain": [
       "[]"
      ]
     },
     "execution_count": 4,
     "metadata": {},
     "output_type": "execute_result"
    }
   ],
   "source": [
    "city_name = ['Pune','Mumbai','Mumbai','Delhi','Chennai']\n",
    "city_name.clear()\n",
    "city_name"
   ]
  },
  {
   "cell_type": "code",
   "execution_count": 5,
   "id": "5d3f16d3",
   "metadata": {},
   "outputs": [
    {
     "data": {
      "text/plain": [
       "[]"
      ]
     },
     "execution_count": 5,
     "metadata": {},
     "output_type": "execute_result"
    }
   ],
   "source": [
    "num = [10,20,30,40]\n",
    "num.clear()\n",
    "num"
   ]
  },
  {
   "cell_type": "markdown",
   "id": "8e4467f4",
   "metadata": {},
   "source": [
    "#### 4. del "
   ]
  },
  {
   "cell_type": "code",
   "execution_count": 6,
   "id": "135419bc",
   "metadata": {},
   "outputs": [
    {
     "data": {
      "text/plain": [
       "'Mumbai'"
      ]
     },
     "execution_count": 6,
     "metadata": {},
     "output_type": "execute_result"
    }
   ],
   "source": [
    "city_name = ['Pune','Mumbai','Mumbai','Delhi','Chennai']\n",
    "city_name[1]"
   ]
  },
  {
   "cell_type": "code",
   "execution_count": 7,
   "id": "975e9877",
   "metadata": {},
   "outputs": [
    {
     "ename": "NameError",
     "evalue": "name 'city_name' is not defined",
     "output_type": "error",
     "traceback": [
      "\u001b[1;31m---------------------------------------------------------------------------\u001b[0m",
      "\u001b[1;31mNameError\u001b[0m                                 Traceback (most recent call last)",
      "\u001b[1;32m<ipython-input-7-0157e0737259>\u001b[0m in \u001b[0;36m<module>\u001b[1;34m\u001b[0m\n\u001b[0;32m      1\u001b[0m \u001b[1;32mdel\u001b[0m \u001b[0mcity_name\u001b[0m\u001b[1;33m\u001b[0m\u001b[1;33m\u001b[0m\u001b[0m\n\u001b[1;32m----> 2\u001b[1;33m \u001b[0mprint\u001b[0m\u001b[1;33m(\u001b[0m\u001b[0mcity_name\u001b[0m\u001b[1;33m)\u001b[0m\u001b[1;33m\u001b[0m\u001b[1;33m\u001b[0m\u001b[0m\n\u001b[0m",
      "\u001b[1;31mNameError\u001b[0m: name 'city_name' is not defined"
     ]
    }
   ],
   "source": [
    "del city_name\n",
    "print(city_name)"
   ]
  },
  {
   "cell_type": "code",
   "execution_count": 8,
   "id": "4b397387",
   "metadata": {},
   "outputs": [
    {
     "name": "stdout",
     "output_type": "stream",
     "text": [
      "['Pune', 'Mumbai', 'Delhi', 'Chennai']\n"
     ]
    }
   ],
   "source": [
    "city_name = ['Pune','Mumbai','Mumbai','Delhi','Chennai']\n",
    "del city_name[1]\n",
    "print(city_name)"
   ]
  },
  {
   "cell_type": "markdown",
   "id": "52ce605e",
   "metadata": {},
   "source": [
    "## Sorting"
   ]
  },
  {
   "cell_type": "markdown",
   "id": "2b70dec0",
   "metadata": {},
   "source": [
    "#### 1. Ascending Order"
   ]
  },
  {
   "cell_type": "code",
   "execution_count": 9,
   "id": "cbc2da20",
   "metadata": {},
   "outputs": [
    {
     "data": {
      "text/plain": [
       "[10, 23, 30, 36, 45]"
      ]
     },
     "execution_count": 9,
     "metadata": {},
     "output_type": "execute_result"
    }
   ],
   "source": [
    "list1=[30,45,10,23,36]\n",
    "list1.sort()\n",
    "list1"
   ]
  },
  {
   "cell_type": "code",
   "execution_count": 10,
   "id": "1e5e305b",
   "metadata": {},
   "outputs": [
    {
     "data": {
      "text/plain": [
       "['Bio', 'Chem', 'Eng', 'Maths', 'Phy']"
      ]
     },
     "execution_count": 10,
     "metadata": {},
     "output_type": "execute_result"
    }
   ],
   "source": [
    "subjects= ['Phy', 'Chem','Maths', 'Bio', 'Eng']\n",
    "subjects.sort()\n",
    "subjects"
   ]
  },
  {
   "cell_type": "code",
   "execution_count": 12,
   "id": "d492f66e",
   "metadata": {},
   "outputs": [
    {
     "ename": "TypeError",
     "evalue": "'<' not supported between instances of 'int' and 'str'",
     "output_type": "error",
     "traceback": [
      "\u001b[1;31m---------------------------------------------------------------------------\u001b[0m",
      "\u001b[1;31mTypeError\u001b[0m                                 Traceback (most recent call last)",
      "\u001b[1;32m<ipython-input-12-2d97a5c57db7>\u001b[0m in \u001b[0;36m<module>\u001b[1;34m\u001b[0m\n\u001b[0;32m      1\u001b[0m \u001b[0msubjects\u001b[0m\u001b[1;33m=\u001b[0m \u001b[1;33m[\u001b[0m\u001b[1;34m'Phy'\u001b[0m\u001b[1;33m,\u001b[0m \u001b[1;36m1\u001b[0m\u001b[1;33m,\u001b[0m \u001b[1;34m'Chem'\u001b[0m\u001b[1;33m,\u001b[0m\u001b[1;36m2\u001b[0m\u001b[1;33m,\u001b[0m\u001b[1;34m'Maths'\u001b[0m\u001b[1;33m,\u001b[0m\u001b[1;36m3\u001b[0m\u001b[1;33m,\u001b[0m \u001b[1;34m'Bio'\u001b[0m\u001b[1;33m,\u001b[0m \u001b[1;34m'Eng'\u001b[0m\u001b[1;33m]\u001b[0m\u001b[1;33m\u001b[0m\u001b[1;33m\u001b[0m\u001b[0m\n\u001b[1;32m----> 2\u001b[1;33m \u001b[0msubjects\u001b[0m\u001b[1;33m.\u001b[0m\u001b[0msort\u001b[0m\u001b[1;33m(\u001b[0m\u001b[1;33m)\u001b[0m\u001b[1;33m\u001b[0m\u001b[1;33m\u001b[0m\u001b[0m\n\u001b[0m\u001b[0;32m      3\u001b[0m \u001b[0msubjects\u001b[0m\u001b[1;33m\u001b[0m\u001b[1;33m\u001b[0m\u001b[0m\n",
      "\u001b[1;31mTypeError\u001b[0m: '<' not supported between instances of 'int' and 'str'"
     ]
    }
   ],
   "source": [
    "subjects= ['Phy', 1, 'Chem',2,'Maths',3, 'Bio', 'Eng']\n",
    "subjects.sort()\n",
    "subjects"
   ]
  },
  {
   "cell_type": "code",
   "execution_count": 13,
   "id": "9a4acb15",
   "metadata": {},
   "outputs": [
    {
     "data": {
      "text/plain": [
       "['1', '2', '3', 'Bio', 'Chem', 'Eng', 'Maths', 'Phy']"
      ]
     },
     "execution_count": 13,
     "metadata": {},
     "output_type": "execute_result"
    }
   ],
   "source": [
    "subjects= ['Phy', '1', 'Chem','2','Maths','3', 'Bio', 'Eng']\n",
    "subjects.sort()\n",
    "subjects"
   ]
  },
  {
   "cell_type": "markdown",
   "id": "449a8fce",
   "metadata": {},
   "source": [
    "### 2. Descending Order"
   ]
  },
  {
   "cell_type": "code",
   "execution_count": 14,
   "id": "2d38d65a",
   "metadata": {},
   "outputs": [
    {
     "data": {
      "text/plain": [
       "[10, 23, 30, 36, 45]"
      ]
     },
     "execution_count": 14,
     "metadata": {},
     "output_type": "execute_result"
    }
   ],
   "source": [
    "list1=[30,45,10,23,36]\n",
    "list1.sort(reverse=False)\n",
    "list1"
   ]
  },
  {
   "cell_type": "code",
   "execution_count": 15,
   "id": "d7a79722",
   "metadata": {},
   "outputs": [
    {
     "data": {
      "text/plain": [
       "[45, 36, 30, 23, 10]"
      ]
     },
     "execution_count": 15,
     "metadata": {},
     "output_type": "execute_result"
    }
   ],
   "source": [
    "list1=[30,45,10,23,36]\n",
    "list1.sort(reverse=True)\n",
    "list1"
   ]
  },
  {
   "cell_type": "code",
   "execution_count": 16,
   "id": "8087147f",
   "metadata": {},
   "outputs": [
    {
     "data": {
      "text/plain": [
       "['Phy', 'Maths', 'Eng', 'Chem', 'Bio']"
      ]
     },
     "execution_count": 16,
     "metadata": {},
     "output_type": "execute_result"
    }
   ],
   "source": [
    "subjects= ['Phy', 'Chem','Maths', 'Bio', 'Eng']\n",
    "subjects.sort(reverse=True)\n",
    "subjects"
   ]
  },
  {
   "cell_type": "code",
   "execution_count": 22,
   "id": "5dd35d0b",
   "metadata": {},
   "outputs": [
    {
     "name": "stdout",
     "output_type": "stream",
     "text": [
      "[30, 45, 10, 23, 36]\n",
      "[10, 23, 30, 36, 45]\n"
     ]
    }
   ],
   "source": [
    "list1=[30,45,10,23,36]\n",
    "list2= sorted(list1)\n",
    "print(list1)\n",
    "print(list2)"
   ]
  },
  {
   "cell_type": "code",
   "execution_count": 26,
   "id": "144e73c2",
   "metadata": {},
   "outputs": [
    {
     "data": {
      "text/plain": [
       "[30, 45, 10, 23, 36]"
      ]
     },
     "execution_count": 26,
     "metadata": {},
     "output_type": "execute_result"
    }
   ],
   "source": [
    "list1=[30,45,10,23,36]\n",
    "sorted(list1)\n",
    "list1"
   ]
  },
  {
   "cell_type": "code",
   "execution_count": 27,
   "id": "f04378e0",
   "metadata": {},
   "outputs": [
    {
     "data": {
      "text/plain": [
       "[45, 36, 30, 23, 10]"
      ]
     },
     "execution_count": 27,
     "metadata": {},
     "output_type": "execute_result"
    }
   ],
   "source": [
    "list1=[30,45,10,23,36]\n",
    "a=sorted(list1,reverse=True)\n",
    "a"
   ]
  },
  {
   "cell_type": "code",
   "execution_count": 28,
   "id": "3b1b0f76",
   "metadata": {},
   "outputs": [
    {
     "ename": "TypeError",
     "evalue": "'<' not supported between instances of 'list' and 'int'",
     "output_type": "error",
     "traceback": [
      "\u001b[1;31m---------------------------------------------------------------------------\u001b[0m",
      "\u001b[1;31mTypeError\u001b[0m                                 Traceback (most recent call last)",
      "\u001b[1;32m<ipython-input-28-c3237f1157e9>\u001b[0m in \u001b[0;36m<module>\u001b[1;34m\u001b[0m\n\u001b[0;32m      1\u001b[0m \u001b[0mlist1\u001b[0m\u001b[1;33m=\u001b[0m\u001b[1;33m[\u001b[0m\u001b[1;36m30\u001b[0m\u001b[1;33m,\u001b[0m\u001b[1;36m45\u001b[0m\u001b[1;33m,\u001b[0m\u001b[1;36m10\u001b[0m\u001b[1;33m,\u001b[0m\u001b[1;36m23\u001b[0m\u001b[1;33m,\u001b[0m\u001b[1;36m36\u001b[0m\u001b[1;33m,\u001b[0m\u001b[1;33m[\u001b[0m\u001b[1;36m45\u001b[0m\u001b[1;33m,\u001b[0m\u001b[1;36m48\u001b[0m\u001b[1;33m,\u001b[0m\u001b[1;36m12\u001b[0m\u001b[1;33m]\u001b[0m\u001b[1;33m]\u001b[0m\u001b[1;33m\u001b[0m\u001b[1;33m\u001b[0m\u001b[0m\n\u001b[1;32m----> 2\u001b[1;33m \u001b[0mlist2\u001b[0m\u001b[1;33m=\u001b[0m \u001b[0msorted\u001b[0m\u001b[1;33m(\u001b[0m\u001b[0mlist1\u001b[0m\u001b[1;33m)\u001b[0m\u001b[1;33m\u001b[0m\u001b[1;33m\u001b[0m\u001b[0m\n\u001b[0m\u001b[0;32m      3\u001b[0m \u001b[0mprint\u001b[0m\u001b[1;33m(\u001b[0m\u001b[0mlist1\u001b[0m\u001b[1;33m)\u001b[0m\u001b[1;33m\u001b[0m\u001b[1;33m\u001b[0m\u001b[0m\n\u001b[0;32m      4\u001b[0m \u001b[0mprint\u001b[0m\u001b[1;33m(\u001b[0m\u001b[0mlist2\u001b[0m\u001b[1;33m)\u001b[0m\u001b[1;33m\u001b[0m\u001b[1;33m\u001b[0m\u001b[0m\n",
      "\u001b[1;31mTypeError\u001b[0m: '<' not supported between instances of 'list' and 'int'"
     ]
    }
   ],
   "source": [
    "list1=[30,45,10,23,36,[45,48,12]]\n",
    "list2= sorted(list1)\n",
    "print(list1)\n",
    "print(list2)"
   ]
  },
  {
   "cell_type": "markdown",
   "id": "4d6cab3f",
   "metadata": {},
   "source": [
    "### Reverse"
   ]
  },
  {
   "cell_type": "code",
   "execution_count": 29,
   "id": "37b3fedd",
   "metadata": {},
   "outputs": [
    {
     "data": {
      "text/plain": [
       "[35, 25, 30, 20, 100]"
      ]
     },
     "execution_count": 29,
     "metadata": {},
     "output_type": "execute_result"
    }
   ],
   "source": [
    "list1 = [100,20,30,25,35]\n",
    "list1.reverse()\n",
    "list1"
   ]
  },
  {
   "cell_type": "code",
   "execution_count": 30,
   "id": "b2729854",
   "metadata": {},
   "outputs": [
    {
     "data": {
      "text/plain": [
       "['Eng', 'Bio', 'Maths', 'Chem', 'Phy']"
      ]
     },
     "execution_count": 30,
     "metadata": {},
     "output_type": "execute_result"
    }
   ],
   "source": [
    "subjects= ['Phy', 'Chem','Maths', 'Bio', 'Eng']\n",
    "subjects.reverse()\n",
    "subjects"
   ]
  },
  {
   "cell_type": "code",
   "execution_count": 31,
   "id": "7cf08d0e",
   "metadata": {},
   "outputs": [
    {
     "data": {
      "text/plain": [
       "['Eng', 'Bio', 'Maths', 'Chem', 'Phy']"
      ]
     },
     "execution_count": 31,
     "metadata": {},
     "output_type": "execute_result"
    }
   ],
   "source": [
    "subjects= ['Phy', 'Chem','Maths', 'Bio', 'Eng']\n",
    "subjects[::-1]"
   ]
  },
  {
   "cell_type": "markdown",
   "id": "096df5da",
   "metadata": {},
   "source": [
    "### Reversed"
   ]
  },
  {
   "cell_type": "markdown",
   "id": "48212344",
   "metadata": {},
   "source": [
    "if using reversed function we have take it in list or else it will create object of list"
   ]
  },
  {
   "cell_type": "code",
   "execution_count": 42,
   "id": "54d4cc2a",
   "metadata": {},
   "outputs": [
    {
     "data": {
      "text/plain": [
       "['Shubham', 'Sagar', 'Rahul', 'Chetan']"
      ]
     },
     "execution_count": 42,
     "metadata": {},
     "output_type": "execute_result"
    }
   ],
   "source": [
    "name=['Chetan','Rahul','Sagar','Shubham']\n",
    "new_names=reversed(name)\n",
    "list(new_names)"
   ]
  },
  {
   "cell_type": "code",
   "execution_count": 44,
   "id": "f529b86a",
   "metadata": {},
   "outputs": [
    {
     "data": {
      "text/plain": [
       "['Shubham', 'Sagar', 'Rahul', 'Chetan']"
      ]
     },
     "execution_count": 44,
     "metadata": {},
     "output_type": "execute_result"
    }
   ],
   "source": [
    "name=['Chetan','Rahul','Sagar','Shubham']\n",
    "new_names=list(reversed(name))\n",
    "new_names"
   ]
  },
  {
   "cell_type": "code",
   "execution_count": 46,
   "id": "3cf8587c",
   "metadata": {},
   "outputs": [
    {
     "name": "stdout",
     "output_type": "stream",
     "text": [
      "<list_reverseiterator object at 0x0000022AE16520D0>\n"
     ]
    }
   ],
   "source": [
    "name=['Chetan','Rahul','Sagar','Shubham']\n",
    "new_names=reversed(name)\n",
    "print(new_names) "
   ]
  },
  {
   "cell_type": "markdown",
   "id": "a5586403",
   "metadata": {},
   "source": [
    "### Functions"
   ]
  },
  {
   "cell_type": "code",
   "execution_count": null,
   "id": "5d9a6d85",
   "metadata": {},
   "outputs": [],
   "source": [
    "1. Built in function\n",
    "2. User defined function"
   ]
  },
  {
   "cell_type": "code",
   "execution_count": null,
   "id": "b8a90433",
   "metadata": {},
   "outputs": [],
   "source": [
    "print()\n",
    "reversed()\n",
    "sorted()\n",
    "len()\n",
    "max()\n",
    "int()\n",
    "range()\n",
    "list()\n",
    "set()\n",
    "dict()\n",
    "tuple()"
   ]
  },
  {
   "cell_type": "code",
   "execution_count": 48,
   "id": "d3bd04b6",
   "metadata": {},
   "outputs": [
    {
     "name": "stdout",
     "output_type": "stream",
     "text": [
      "Hello World\n"
     ]
    }
   ],
   "source": [
    "def my_function(): # defining a function\n",
    "    print('Hello World')\n",
    "\n",
    "my_function() # call function"
   ]
  },
  {
   "cell_type": "code",
   "execution_count": 50,
   "id": "34c349fb",
   "metadata": {},
   "outputs": [
    {
     "name": "stdout",
     "output_type": "stream",
     "text": [
      "25\n"
     ]
    }
   ],
   "source": [
    "def sum_number(l1): # User Defined function\n",
    "    sum1=0\n",
    "    for i in l1:\n",
    "        sum1+=i\n",
    "    return sum1\n",
    "    \n",
    "l1=[3,4,5,6,7]\n",
    "\n",
    "s1=sum_number(l1)\n",
    "print(s1)"
   ]
  },
  {
   "cell_type": "code",
   "execution_count": 54,
   "id": "c738f7c0",
   "metadata": {},
   "outputs": [
    {
     "name": "stdout",
     "output_type": "stream",
     "text": [
      "25\n"
     ]
    }
   ],
   "source": [
    "def sum_number(a): # User Defined function\n",
    "    sum1=0\n",
    "    for i in a:\n",
    "        sum1+=i\n",
    "    return sum1\n",
    "    \n",
    "l1=[3,4,5,6,7]\n",
    "\n",
    "s1=sum_number(l1)  # calling function and storing in a varibale\n",
    "print(s1)"
   ]
  },
  {
   "cell_type": "code",
   "execution_count": null,
   "id": "603f550c",
   "metadata": {},
   "outputs": [],
   "source": [
    "method = function"
   ]
  },
  {
   "cell_type": "code",
   "execution_count": 55,
   "id": "ac3b0caa",
   "metadata": {},
   "outputs": [
    {
     "name": "stdout",
     "output_type": "stream",
     "text": [
      "Hello World\n"
     ]
    }
   ],
   "source": [
    "my_function()"
   ]
  },
  {
   "cell_type": "markdown",
   "id": "907287b7",
   "metadata": {},
   "source": [
    "#### index()"
   ]
  },
  {
   "cell_type": "code",
   "execution_count": 56,
   "id": "054afc7f",
   "metadata": {},
   "outputs": [
    {
     "data": {
      "text/plain": [
       "1"
      ]
     },
     "execution_count": 56,
     "metadata": {},
     "output_type": "execute_result"
    }
   ],
   "source": [
    "name=['Chetan','Rahul','Sagar','Shubham']\n",
    "name.index('Rahul')"
   ]
  },
  {
   "cell_type": "code",
   "execution_count": 57,
   "id": "221c2e99",
   "metadata": {},
   "outputs": [
    {
     "data": {
      "text/plain": [
       "3"
      ]
     },
     "execution_count": 57,
     "metadata": {},
     "output_type": "execute_result"
    }
   ],
   "source": [
    "name=['Chetan','Rahul','Sagar','Shubham']\n",
    "name.index('Shubham')"
   ]
  },
  {
   "cell_type": "code",
   "execution_count": 58,
   "id": "b0d34ff4",
   "metadata": {},
   "outputs": [
    {
     "name": "stdout",
     "output_type": "stream",
     "text": [
      "0\n"
     ]
    }
   ],
   "source": [
    "name=['Chetan','Rahul','Sagar','Shubham']\n",
    "if 'Chetan' in name:\n",
    "    i =name.index('Chetan')\n",
    "print(i)"
   ]
  },
  {
   "cell_type": "markdown",
   "id": "45f1d98f",
   "metadata": {},
   "source": [
    "### count()"
   ]
  },
  {
   "cell_type": "code",
   "execution_count": 59,
   "id": "9aef3b0b",
   "metadata": {},
   "outputs": [
    {
     "data": {
      "text/plain": [
       "2"
      ]
     },
     "execution_count": 59,
     "metadata": {},
     "output_type": "execute_result"
    }
   ],
   "source": [
    "subjects= ['Phy', 'Chem','Maths', 'Bio','Phy', 'Eng']\n",
    "subjects.count('Phy')"
   ]
  },
  {
   "cell_type": "code",
   "execution_count": 60,
   "id": "3d082335",
   "metadata": {},
   "outputs": [
    {
     "data": {
      "text/plain": [
       "1"
      ]
     },
     "execution_count": 60,
     "metadata": {},
     "output_type": "execute_result"
    }
   ],
   "source": [
    "subjects= ['Phy', 'Chem','Maths', 'Bio','Phy', 'Eng']\n",
    "subjects.count('Chem')"
   ]
  },
  {
   "cell_type": "code",
   "execution_count": 61,
   "id": "b93ec8d4",
   "metadata": {},
   "outputs": [
    {
     "data": {
      "text/plain": [
       "0"
      ]
     },
     "execution_count": 61,
     "metadata": {},
     "output_type": "execute_result"
    }
   ],
   "source": [
    "subjects= ['Phy', 'Chem','Maths', 'Bio','Phy', 'Eng']\n",
    "subjects.count('Che')"
   ]
  },
  {
   "cell_type": "code",
   "execution_count": null,
   "id": "a085ea1b",
   "metadata": {},
   "outputs": [],
   "source": []
  },
  {
   "cell_type": "code",
   "execution_count": 33,
   "id": "9f2ae747",
   "metadata": {},
   "outputs": [
    {
     "name": "stdout",
     "output_type": "stream",
     "text": [
      "['shubham', 'sagar', 'rahul', 'chetan']\n"
     ]
    }
   ],
   "source": [
    "# name=['Chetan','Rahul','Sagar','Shubham']\n",
    "list2 = ['chetan','rahul','sagar','shubham']\n",
    "list1=[]\n",
    "cnt = len(list2)-1\n",
    "for i in range(len(list2)):\n",
    "    if cnt >= 0:\n",
    "        list1.append(list2[cnt])\n",
    "    cnt= cnt -1\n",
    "print(list1)"
   ]
  },
  {
   "cell_type": "code",
   "execution_count": 40,
   "id": "8a11d306",
   "metadata": {},
   "outputs": [
    {
     "name": "stdout",
     "output_type": "stream",
     "text": [
      "['abhijeet', 'naren', 'shweta', 'arti', 'umesh']\n"
     ]
    }
   ],
   "source": [
    "list1=[\"umesh\",\"arti\",\"shweta\",\"naren\",\"abhijeet\"]\n",
    "list2=[]\n",
    "a=-1\n",
    "for i in range(len(list1)):\n",
    "    list2.append(list1[a])\n",
    "    a-=1\n",
    "print(list2)"
   ]
  }
 ],
 "metadata": {
  "kernelspec": {
   "display_name": "Python 3 (ipykernel)",
   "language": "python",
   "name": "python3"
  },
  "language_info": {
   "codemirror_mode": {
    "name": "ipython",
    "version": 3
   },
   "file_extension": ".py",
   "mimetype": "text/x-python",
   "name": "python",
   "nbconvert_exporter": "python",
   "pygments_lexer": "ipython3",
   "version": "3.9.7"
  }
 },
 "nbformat": 4,
 "nbformat_minor": 5
}
