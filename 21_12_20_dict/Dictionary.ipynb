{
 "cells": [
  {
   "cell_type": "markdown",
   "id": "47a658c3",
   "metadata": {},
   "source": [
    "## Dictionary"
   ]
  },
  {
   "cell_type": "markdown",
   "id": "79d23d15",
   "metadata": {},
   "source": [
    "Dict: Mutable, Insertion order is not preserved, Duplicates not allowed(only key)\n",
    "    \n",
    "Python >= 3.6 >> Ordered  \n",
    "Python <3.6 >> Unordered\n",
    "\n",
    "dict holds key and value pair  \n",
    "comma seperated  \n",
    "dict1= {'key':'value'}  \n",
    "indexing and slicing are not applicable  \n",
    "\n",
    "Duplicates not allowed:  \n",
    "    key >> Immutable Datatype : (int, float, str, tuple) >> Can not be duplicate  \n",
    "    value >> Any Datatype : (int, float, str, tuple, list , set, dict, array, dataframe) >> Can be Duplicate"
   ]
  },
  {
   "cell_type": "code",
   "execution_count": 3,
   "id": "f7b7a20f",
   "metadata": {},
   "outputs": [
    {
     "data": {
      "text/plain": [
       "set"
      ]
     },
     "execution_count": 3,
     "metadata": {},
     "output_type": "execute_result"
    }
   ],
   "source": [
    "s1 = set()\n",
    "type(s1)"
   ]
  },
  {
   "cell_type": "code",
   "execution_count": 1,
   "id": "37d71072",
   "metadata": {},
   "outputs": [
    {
     "data": {
      "text/plain": [
       "dict"
      ]
     },
     "execution_count": 1,
     "metadata": {},
     "output_type": "execute_result"
    }
   ],
   "source": [
    "d1 = {}\n",
    "type(d1)"
   ]
  },
  {
   "cell_type": "code",
   "execution_count": 2,
   "id": "1aeb95ba",
   "metadata": {},
   "outputs": [
    {
     "data": {
      "text/plain": [
       "dict"
      ]
     },
     "execution_count": 2,
     "metadata": {},
     "output_type": "execute_result"
    }
   ],
   "source": [
    "d1 = dict()\n",
    "type(d1)"
   ]
  },
  {
   "cell_type": "code",
   "execution_count": 4,
   "id": "3c609996",
   "metadata": {},
   "outputs": [
    {
     "data": {
      "text/plain": [
       "1"
      ]
     },
     "execution_count": 4,
     "metadata": {},
     "output_type": "execute_result"
    }
   ],
   "source": [
    "d1 = {'Name': 'Virat'}\n",
    "len(d1)"
   ]
  },
  {
   "cell_type": "code",
   "execution_count": 5,
   "id": "67913148",
   "metadata": {},
   "outputs": [
    {
     "data": {
      "text/plain": [
       "{'Name': 'Virat'}"
      ]
     },
     "execution_count": 5,
     "metadata": {},
     "output_type": "execute_result"
    }
   ],
   "source": [
    "d1"
   ]
  },
  {
   "cell_type": "code",
   "execution_count": 8,
   "id": "4057b783",
   "metadata": {},
   "outputs": [
    {
     "name": "stdout",
     "output_type": "stream",
     "text": [
      "{'Name': 'Virat', 'Age': 32} 2\n"
     ]
    }
   ],
   "source": [
    "d1 = {'Name': 'Virat', 'Age': 32}\n",
    "print(d1,len(d1))"
   ]
  },
  {
   "cell_type": "code",
   "execution_count": 9,
   "id": "0c7999ce",
   "metadata": {},
   "outputs": [
    {
     "name": "stdout",
     "output_type": "stream",
     "text": [
      "{'Name': 'Virat', 'Age': 32, 'Score': 183} 3\n"
     ]
    }
   ],
   "source": [
    "d1 = {'Name': 'Virat', 'Age': 32, 'Score':183}\n",
    "print(d1,len(d1))"
   ]
  },
  {
   "cell_type": "code",
   "execution_count": 10,
   "id": "e274c116",
   "metadata": {},
   "outputs": [
    {
     "name": "stdout",
     "output_type": "stream",
     "text": [
      "{'Name': 'Virat', 'Age': 32, 'Score': 183, 100: 200} 4\n"
     ]
    }
   ],
   "source": [
    "d1 = {'Name': 'Virat', 'Age': 32, 'Score':183, 100:200}\n",
    "print(d1,len(d1))"
   ]
  },
  {
   "cell_type": "code",
   "execution_count": 11,
   "id": "b8981e73",
   "metadata": {},
   "outputs": [
    {
     "name": "stdout",
     "output_type": "stream",
     "text": [
      "{'Name': 'Virat', 'Age': 32, 'Score': 183, 10.5: 200} 4\n"
     ]
    }
   ],
   "source": [
    "d1 = {'Name': 'Virat', 'Age': 32, 'Score':183, 10.5:200}\n",
    "print(d1,len(d1))"
   ]
  },
  {
   "cell_type": "code",
   "execution_count": 12,
   "id": "063f2c52",
   "metadata": {},
   "outputs": [
    {
     "name": "stdout",
     "output_type": "stream",
     "text": [
      "{'Name': ['Virat', 'Rohit'], 'Age': 32, 'Score': 183, 100: 200} 4\n"
     ]
    }
   ],
   "source": [
    "d1 = {'Name': ['Virat','Rohit'], 'Age': 32, 'Score':183, 100:200}\n",
    "print(d1,len(d1))"
   ]
  },
  {
   "cell_type": "code",
   "execution_count": 13,
   "id": "d6194e29",
   "metadata": {},
   "outputs": [
    {
     "name": "stdout",
     "output_type": "stream",
     "text": [
      "{'Name': ('Virat', 'Rohit'), 'Age': 32, 'Score': 183, 100: 200} 4\n"
     ]
    }
   ],
   "source": [
    "d1 = {'Name': ('Virat','Rohit'), 'Age': 32, 'Score':183, 100:200}\n",
    "print(d1,len(d1))"
   ]
  },
  {
   "cell_type": "code",
   "execution_count": 14,
   "id": "7ff892bb",
   "metadata": {},
   "outputs": [
    {
     "name": "stdout",
     "output_type": "stream",
     "text": [
      "{'Name': {'Player_name': 'Rohit'}, 'Age': 32, 'Score': 183, 100: 200} 4\n"
     ]
    }
   ],
   "source": [
    "d1 = {'Name': {'Player_name':'Rohit'}, 'Age': 32, 'Score':183, 100:200}\n",
    "print(d1,len(d1))"
   ]
  },
  {
   "cell_type": "markdown",
   "id": "f8eca281",
   "metadata": {},
   "source": [
    "### Access Dictionary items"
   ]
  },
  {
   "cell_type": "markdown",
   "id": "5b7db04e",
   "metadata": {},
   "source": [
    "dict[keyname]"
   ]
  },
  {
   "cell_type": "code",
   "execution_count": 16,
   "id": "898dbe4d",
   "metadata": {
    "scrolled": true
   },
   "outputs": [
    {
     "name": "stdout",
     "output_type": "stream",
     "text": [
      "{'Employee Name': 'Sagar', 'Salary': 50000, 'Age': 30, 'Company': 'Capgemini'} 4\n"
     ]
    }
   ],
   "source": [
    "employee_data = {'Employee Name': 'Sagar',\n",
    "                'Salary':50000,\n",
    "                'Age':30,\n",
    "                'Company':'Capgemini'}\n",
    "\n",
    "print(employee_data, len(employee_data))"
   ]
  },
  {
   "cell_type": "code",
   "execution_count": 17,
   "id": "c0151422",
   "metadata": {},
   "outputs": [
    {
     "data": {
      "text/plain": [
       "'Sagar'"
      ]
     },
     "execution_count": 17,
     "metadata": {},
     "output_type": "execute_result"
    }
   ],
   "source": [
    "employee_data['Employee Name']"
   ]
  },
  {
   "cell_type": "code",
   "execution_count": 18,
   "id": "af46b644",
   "metadata": {},
   "outputs": [
    {
     "data": {
      "text/plain": [
       "50000"
      ]
     },
     "execution_count": 18,
     "metadata": {},
     "output_type": "execute_result"
    }
   ],
   "source": [
    "employee_data['Salary']"
   ]
  },
  {
   "cell_type": "code",
   "execution_count": 19,
   "id": "be32d838",
   "metadata": {},
   "outputs": [
    {
     "data": {
      "text/plain": [
       "'Capgemini'"
      ]
     },
     "execution_count": 19,
     "metadata": {},
     "output_type": "execute_result"
    }
   ],
   "source": [
    "employee_data['Company']"
   ]
  },
  {
   "cell_type": "markdown",
   "id": "0b93bf2e",
   "metadata": {},
   "source": [
    "### get()"
   ]
  },
  {
   "cell_type": "code",
   "execution_count": 20,
   "id": "1c6e20d2",
   "metadata": {},
   "outputs": [
    {
     "data": {
      "text/plain": [
       "'Sagar'"
      ]
     },
     "execution_count": 20,
     "metadata": {},
     "output_type": "execute_result"
    }
   ],
   "source": [
    "employee_data.get('Employee Name')"
   ]
  },
  {
   "cell_type": "code",
   "execution_count": 21,
   "id": "949bb7e6",
   "metadata": {},
   "outputs": [
    {
     "data": {
      "text/plain": [
       "50000"
      ]
     },
     "execution_count": 21,
     "metadata": {},
     "output_type": "execute_result"
    }
   ],
   "source": [
    "employee_data.get('Salary')"
   ]
  },
  {
   "cell_type": "markdown",
   "id": "458270e1",
   "metadata": {},
   "source": [
    "### for loop on dictionary"
   ]
  },
  {
   "cell_type": "code",
   "execution_count": 22,
   "id": "c344442f",
   "metadata": {},
   "outputs": [],
   "source": [
    "employee_data = {'Employee Name': 'Sagar',\n",
    "                'Salary':50000,\n",
    "                'Age':30,\n",
    "                'Company':'Capgemini'}"
   ]
  },
  {
   "cell_type": "markdown",
   "id": "7f608a90",
   "metadata": {},
   "source": [
    "#### 1. access keys from dict"
   ]
  },
  {
   "cell_type": "code",
   "execution_count": 23,
   "id": "de7d670f",
   "metadata": {},
   "outputs": [
    {
     "name": "stdout",
     "output_type": "stream",
     "text": [
      "Key is : Employee Name\n",
      "Key is : Salary\n",
      "Key is : Age\n",
      "Key is : Company\n"
     ]
    }
   ],
   "source": [
    "for key in employee_data: # Default we will get keys from dict\n",
    "    print('Key is :',key)"
   ]
  },
  {
   "cell_type": "code",
   "execution_count": 25,
   "id": "f42e9c69",
   "metadata": {},
   "outputs": [
    {
     "name": "stdout",
     "output_type": "stream",
     "text": [
      "Key is : Employee Name\n",
      "Key is : Salary\n",
      "Key is : Age\n",
      "Key is : Company\n"
     ]
    }
   ],
   "source": [
    "for key in employee_data.keys(): \n",
    "    print('Key is :',key)"
   ]
  },
  {
   "cell_type": "code",
   "execution_count": 24,
   "id": "910c4c5e",
   "metadata": {},
   "outputs": [
    {
     "data": {
      "text/plain": [
       "dict_keys(['Employee Name', 'Salary', 'Age', 'Company'])"
      ]
     },
     "execution_count": 24,
     "metadata": {},
     "output_type": "execute_result"
    }
   ],
   "source": [
    "employee_data.keys()"
   ]
  },
  {
   "cell_type": "code",
   "execution_count": 27,
   "id": "d8165a46",
   "metadata": {},
   "outputs": [
    {
     "name": "stdout",
     "output_type": "stream",
     "text": [
      "Key is : Sagar\n",
      "Key is : 50000\n",
      "Key is : 30\n",
      "Key is : Capgemini\n"
     ]
    }
   ],
   "source": [
    "for val in employee_data.values(): \n",
    "    print('Key is :',val)"
   ]
  },
  {
   "cell_type": "code",
   "execution_count": 26,
   "id": "b84626f7",
   "metadata": {},
   "outputs": [
    {
     "data": {
      "text/plain": [
       "dict_values(['Sagar', 50000, 30, 'Capgemini'])"
      ]
     },
     "execution_count": 26,
     "metadata": {},
     "output_type": "execute_result"
    }
   ],
   "source": [
    "employee_data.values()"
   ]
  },
  {
   "cell_type": "code",
   "execution_count": 28,
   "id": "6df22648",
   "metadata": {},
   "outputs": [
    {
     "data": {
      "text/plain": [
       "dict_items([('Employee Name', 'Sagar'), ('Salary', 50000), ('Age', 30), ('Company', 'Capgemini')])"
      ]
     },
     "execution_count": 28,
     "metadata": {},
     "output_type": "execute_result"
    }
   ],
   "source": [
    "employee_data.items()"
   ]
  },
  {
   "cell_type": "code",
   "execution_count": 29,
   "id": "ec55fcc3",
   "metadata": {},
   "outputs": [
    {
     "name": "stdout",
     "output_type": "stream",
     "text": [
      "Key is Employee Name and Value is Sagar\n",
      "Key is Salary and Value is 50000\n",
      "Key is Age and Value is 30\n",
      "Key is Company and Value is Capgemini\n"
     ]
    }
   ],
   "source": [
    "for key, val in employee_data.items(): \n",
    "    print(f'Key is {key} and Value is {val}')"
   ]
  },
  {
   "cell_type": "code",
   "execution_count": null,
   "id": "6e556b2a",
   "metadata": {},
   "outputs": [],
   "source": [
    "# dict Functions\n",
    "1. keys()\n",
    "2. values()\n",
    "3. items()"
   ]
  },
  {
   "cell_type": "markdown",
   "id": "e7a1c9a5",
   "metadata": {},
   "source": [
    "### Check items in dictionary"
   ]
  },
  {
   "cell_type": "code",
   "execution_count": 32,
   "id": "b9531640",
   "metadata": {},
   "outputs": [
    {
     "name": "stdout",
     "output_type": "stream",
     "text": [
      "Salary key is present\n"
     ]
    }
   ],
   "source": [
    "employee_data = {'Employee Name': 'Sagar',\n",
    "                'Salary':50000,\n",
    "                'Age':30,\n",
    "                'Company':'Capgemini'}\n",
    "if 'Salary' in employee_data:\n",
    "    print('Salary key is present')\n",
    "else:\n",
    "    print('Not present')"
   ]
  },
  {
   "cell_type": "code",
   "execution_count": 33,
   "id": "90f1f6b9",
   "metadata": {},
   "outputs": [
    {
     "name": "stdout",
     "output_type": "stream",
     "text": [
      "Not present\n"
     ]
    }
   ],
   "source": [
    "employee_data = {'Employee Name': 'Sagar',\n",
    "                'Salary':50000,\n",
    "                'Age':30,\n",
    "                'Company':'Capgemini'}\n",
    "if 'Experience' in employee_data:\n",
    "    print('Salary key is present')\n",
    "else:\n",
    "    print('Not present')"
   ]
  },
  {
   "cell_type": "markdown",
   "id": "b9700cf4",
   "metadata": {},
   "source": [
    "### Change items of dictionary"
   ]
  },
  {
   "cell_type": "code",
   "execution_count": 34,
   "id": "42100234",
   "metadata": {},
   "outputs": [
    {
     "data": {
      "text/plain": [
       "{'Employee Name': 'Sagar', 'Salary': 60000, 'Age': 30, 'Company': 'Capgemini'}"
      ]
     },
     "execution_count": 34,
     "metadata": {},
     "output_type": "execute_result"
    }
   ],
   "source": [
    "employee_data = {'Employee Name': 'Sagar',\n",
    "                'Salary':50000,\n",
    "                'Age':30,\n",
    "                'Company':'Capgemini'}\n",
    "employee_data['Salary'] =60000\n",
    "employee_data"
   ]
  },
  {
   "cell_type": "code",
   "execution_count": 36,
   "id": "481e3b8a",
   "metadata": {},
   "outputs": [
    {
     "data": {
      "text/plain": [
       "{'Employee Name': 'Sagar', 'Salary': 50000, 'Age': 30, 'Company': 'TCS'}"
      ]
     },
     "execution_count": 36,
     "metadata": {},
     "output_type": "execute_result"
    }
   ],
   "source": [
    "employee_data = {'Employee Name': 'Sagar',\n",
    "                'Salary':50000,\n",
    "                'Age':30,\n",
    "                'Company':'Capgemini'}\n",
    "employee_data['Company'] ='TCS'\n",
    "employee_data"
   ]
  },
  {
   "cell_type": "code",
   "execution_count": 37,
   "id": "36198cc5",
   "metadata": {},
   "outputs": [
    {
     "data": {
      "text/plain": [
       "{'Employee Name': 'Sagar', 'Salary': 70000, 'Age': 30, 'Company': 'TCS'}"
      ]
     },
     "execution_count": 37,
     "metadata": {},
     "output_type": "execute_result"
    }
   ],
   "source": [
    "employee_data = {'Employee Name': 'Sagar',\n",
    "                'Salary':50000,\n",
    "                'Age':30,\n",
    "                'Company':'Capgemini'}\n",
    "employee_data['Company'] ='TCS'\n",
    "employee_data['Salary'] = 70000\n",
    "employee_data"
   ]
  },
  {
   "cell_type": "code",
   "execution_count": 38,
   "id": "531dea72",
   "metadata": {},
   "outputs": [
    {
     "data": {
      "text/plain": [
       "{'Employee Name': 'Sagar',\n",
       " 'Salary': 50000,\n",
       " 'Age': 30,\n",
       " 'Company': 'Capgemini',\n",
       " 'Experience': '5 years'}"
      ]
     },
     "execution_count": 38,
     "metadata": {},
     "output_type": "execute_result"
    }
   ],
   "source": [
    "employee_data = {'Employee Name': 'Sagar',\n",
    "                'Salary':50000,\n",
    "                'Age':30,\n",
    "                'Company':'Capgemini'}\n",
    "employee_data['Experience'] = '5 years'\n",
    "employee_data"
   ]
  },
  {
   "cell_type": "markdown",
   "id": "f41ef09d",
   "metadata": {},
   "source": [
    "#### update()"
   ]
  },
  {
   "cell_type": "code",
   "execution_count": 39,
   "id": "3df7f83f",
   "metadata": {},
   "outputs": [
    {
     "data": {
      "text/plain": [
       "{'Employee Name': 'Sagar', 'Salary': 70000, 'Age': 31, 'Company': 'TCS'}"
      ]
     },
     "execution_count": 39,
     "metadata": {},
     "output_type": "execute_result"
    }
   ],
   "source": [
    "employee_data = {'Employee Name': 'Sagar',\n",
    "                'Salary':50000,\n",
    "                'Age':30,\n",
    "                'Company':'Capgemini'}\n",
    "\n",
    "new_dict = {'Salary': 70000,\n",
    "           'Age':31,\n",
    "           'Company':'TCS'}\n",
    "\n",
    "employee_data.update(new_dict)\n",
    "employee_data"
   ]
  },
  {
   "cell_type": "code",
   "execution_count": 40,
   "id": "ea0d12e6",
   "metadata": {},
   "outputs": [
    {
     "data": {
      "text/plain": [
       "{'Employee Name': 'Sagar', 'Salary': 50000, 'Age': 30, 'Company': 'TCS'}"
      ]
     },
     "execution_count": 40,
     "metadata": {},
     "output_type": "execute_result"
    }
   ],
   "source": [
    "employee_data = {'Employee Name': 'Sagar',\n",
    "                'Salary':50000,\n",
    "                'Age':30,\n",
    "                'Company':'Capgemini'}\n",
    "\n",
    "employee_data.update({'Company':'TCS'})\n",
    "employee_data"
   ]
  },
  {
   "cell_type": "code",
   "execution_count": 41,
   "id": "e9002b74",
   "metadata": {},
   "outputs": [
    {
     "data": {
      "text/plain": [
       "{'Employee Name': 'Sagar', 'Salary': 50000, 'Age': 30, 'Company': 'TCS'}"
      ]
     },
     "execution_count": 41,
     "metadata": {},
     "output_type": "execute_result"
    }
   ],
   "source": [
    "employee_data = {'Employee Name': 'Sagar',\n",
    "                'Salary':50000,\n",
    "                'Age':30,\n",
    "                'Company':'Capgemini'}\n",
    "new= {'Company':'TCS'}\n",
    "employee_data.update(new)\n",
    "employee_data"
   ]
  },
  {
   "cell_type": "code",
   "execution_count": 42,
   "id": "b31e15c2",
   "metadata": {},
   "outputs": [
    {
     "data": {
      "text/plain": [
       "{'Employee Name': 'Sagar',\n",
       " 'Salary': 50000,\n",
       " 'Age': 30,\n",
       " 'Company': 'Capgemini',\n",
       " 'Experience': '5 years',\n",
       " 'Location': 'Pune'}"
      ]
     },
     "execution_count": 42,
     "metadata": {},
     "output_type": "execute_result"
    }
   ],
   "source": [
    "employee_data = {'Employee Name': 'Sagar',\n",
    "                'Salary':50000,\n",
    "                'Age':30,\n",
    "                'Company':'Capgemini'}\n",
    "new= {'Experience':'5 years', 'Location':'Pune'}\n",
    "employee_data.update(new)\n",
    "employee_data"
   ]
  },
  {
   "cell_type": "code",
   "execution_count": 43,
   "id": "3afdba1d",
   "metadata": {},
   "outputs": [
    {
     "name": "stdout",
     "output_type": "stream",
     "text": [
      "{'Employee Name': 'Sagar', 'Salary': 50000, 'Age': 30, 'Company': 'Capgemini'} 4\n",
      "{'Experience': '5 years', 'Location': 'Pune', 'Employee Name': 'Sagar', 'Salary': 50000, 'Age': 30, 'Company': 'Capgemini'} 6\n"
     ]
    }
   ],
   "source": [
    "employee_data = {'Employee Name': 'Sagar',\n",
    "                'Salary':50000,\n",
    "                'Age':30,\n",
    "                'Company':'Capgemini'}\n",
    "new= {'Experience':'5 years', 'Location':'Pune'}\n",
    "new.update(employee_data)\n",
    "\n",
    "print(employee_data, len(employee_data))\n",
    "print(new ,len(new))"
   ]
  },
  {
   "cell_type": "markdown",
   "id": "5a36e7f9",
   "metadata": {},
   "source": [
    "### Remove items from dict"
   ]
  },
  {
   "cell_type": "code",
   "execution_count": null,
   "id": "0378b1a0",
   "metadata": {},
   "outputs": [],
   "source": [
    "1. pop\n",
    "2. popitem\n",
    "3. clear\n",
    "4. del"
   ]
  },
  {
   "cell_type": "code",
   "execution_count": 44,
   "id": "e06ae817",
   "metadata": {},
   "outputs": [
    {
     "data": {
      "text/plain": [
       "{'Experience': '5 years',\n",
       " 'Location': 'Pune',\n",
       " 'Employee Name': 'Sagar',\n",
       " 'Salary': 50000,\n",
       " 'Age': 30,\n",
       " 'Company': 'Capgemini'}"
      ]
     },
     "execution_count": 44,
     "metadata": {},
     "output_type": "execute_result"
    }
   ],
   "source": [
    "employee_data={'Experience': '5 years',\n",
    "               'Location': 'Pune',\n",
    "               'Employee Name': 'Sagar',\n",
    "               'Salary': 50000,\n",
    "               'Age': 30,\n",
    "               'Company': 'Capgemini'}\n",
    "employee_data"
   ]
  },
  {
   "cell_type": "markdown",
   "id": "552a2f44",
   "metadata": {},
   "source": [
    "#### 1.pop()"
   ]
  },
  {
   "cell_type": "code",
   "execution_count": 45,
   "id": "aef847b3",
   "metadata": {},
   "outputs": [
    {
     "name": "stdout",
     "output_type": "stream",
     "text": [
      "{'Experience': '5 years', 'Employee Name': 'Sagar', 'Salary': 50000, 'Age': 30, 'Company': 'Capgemini'} 5\n"
     ]
    }
   ],
   "source": [
    "employee_data={'Experience': '5 years',\n",
    "               'Location': 'Pune',\n",
    "               'Employee Name': 'Sagar',\n",
    "               'Salary': 50000,\n",
    "               'Age': 30,\n",
    "               'Company': 'Capgemini'}\n",
    "\n",
    "employee_data.pop('Location')\n",
    "print(employee_data, len(employee_data))"
   ]
  },
  {
   "cell_type": "code",
   "execution_count": 46,
   "id": "0b67c856",
   "metadata": {},
   "outputs": [
    {
     "ename": "KeyError",
     "evalue": "'Location'",
     "output_type": "error",
     "traceback": [
      "\u001b[1;31m---------------------------------------------------------------------------\u001b[0m",
      "\u001b[1;31mKeyError\u001b[0m                                  Traceback (most recent call last)",
      "\u001b[1;32m<ipython-input-46-691c07b5b9c1>\u001b[0m in \u001b[0;36m<module>\u001b[1;34m\u001b[0m\n\u001b[1;32m----> 1\u001b[1;33m \u001b[0memployee_data\u001b[0m\u001b[1;33m.\u001b[0m\u001b[0mpop\u001b[0m\u001b[1;33m(\u001b[0m\u001b[1;34m'Location'\u001b[0m\u001b[1;33m)\u001b[0m\u001b[1;33m\u001b[0m\u001b[1;33m\u001b[0m\u001b[0m\n\u001b[0m\u001b[0;32m      2\u001b[0m \u001b[0mprint\u001b[0m\u001b[1;33m(\u001b[0m\u001b[0memployee_data\u001b[0m\u001b[1;33m,\u001b[0m \u001b[0mlen\u001b[0m\u001b[1;33m(\u001b[0m\u001b[0memployee_data\u001b[0m\u001b[1;33m)\u001b[0m\u001b[1;33m)\u001b[0m\u001b[1;33m\u001b[0m\u001b[1;33m\u001b[0m\u001b[0m\n",
      "\u001b[1;31mKeyError\u001b[0m: 'Location'"
     ]
    }
   ],
   "source": [
    "employee_data.pop('Location')\n",
    "print(employee_data, len(employee_data))"
   ]
  },
  {
   "cell_type": "code",
   "execution_count": 47,
   "id": "c31c58a6",
   "metadata": {},
   "outputs": [
    {
     "name": "stdout",
     "output_type": "stream",
     "text": [
      "{'Experience': '5 years', 'Employee Name': 'Sagar', 'Salary': 50000, 'Age': 30} 4\n"
     ]
    }
   ],
   "source": [
    "employee_data.pop('Company')\n",
    "print(employee_data, len(employee_data))"
   ]
  },
  {
   "cell_type": "code",
   "execution_count": 48,
   "id": "f7bfb0de",
   "metadata": {},
   "outputs": [
    {
     "data": {
      "text/plain": [
       "{'Math': 73, 'Sci': 82}"
      ]
     },
     "execution_count": 48,
     "metadata": {},
     "output_type": "execute_result"
    }
   ],
   "source": [
    "marksheet = {'Eng':83, 'Math':73, 'Sci':82}\n",
    "marksheet.pop('Eng')\n",
    "marksheet"
   ]
  },
  {
   "cell_type": "markdown",
   "id": "e56c1afa",
   "metadata": {},
   "source": [
    "#### 2. popitem()"
   ]
  },
  {
   "cell_type": "markdown",
   "id": "92e849ba",
   "metadata": {},
   "source": [
    "Remove last / last inserted item"
   ]
  },
  {
   "cell_type": "code",
   "execution_count": 49,
   "id": "0cf70412",
   "metadata": {},
   "outputs": [
    {
     "data": {
      "text/plain": [
       "{'Eng': 83, 'Math': 73}"
      ]
     },
     "execution_count": 49,
     "metadata": {},
     "output_type": "execute_result"
    }
   ],
   "source": [
    "marksheet = {'Eng':83, 'Math':73, 'Sci':82}\n",
    "marksheet.popitem()\n",
    "marksheet"
   ]
  },
  {
   "cell_type": "code",
   "execution_count": 50,
   "id": "523aaf7f",
   "metadata": {},
   "outputs": [
    {
     "data": {
      "text/plain": [
       "{'Eng': 83}"
      ]
     },
     "execution_count": 50,
     "metadata": {},
     "output_type": "execute_result"
    }
   ],
   "source": [
    "marksheet.popitem()\n",
    "marksheet"
   ]
  },
  {
   "cell_type": "code",
   "execution_count": 51,
   "id": "d30f5c49",
   "metadata": {},
   "outputs": [
    {
     "data": {
      "text/plain": [
       "{}"
      ]
     },
     "execution_count": 51,
     "metadata": {},
     "output_type": "execute_result"
    }
   ],
   "source": [
    "marksheet.popitem()\n",
    "marksheet"
   ]
  },
  {
   "cell_type": "code",
   "execution_count": 52,
   "id": "d69e9b4d",
   "metadata": {},
   "outputs": [
    {
     "ename": "KeyError",
     "evalue": "'popitem(): dictionary is empty'",
     "output_type": "error",
     "traceback": [
      "\u001b[1;31m---------------------------------------------------------------------------\u001b[0m",
      "\u001b[1;31mKeyError\u001b[0m                                  Traceback (most recent call last)",
      "\u001b[1;32m<ipython-input-52-d59b4c84402e>\u001b[0m in \u001b[0;36m<module>\u001b[1;34m\u001b[0m\n\u001b[1;32m----> 1\u001b[1;33m \u001b[0mmarksheet\u001b[0m\u001b[1;33m.\u001b[0m\u001b[0mpopitem\u001b[0m\u001b[1;33m(\u001b[0m\u001b[1;33m)\u001b[0m\u001b[1;33m\u001b[0m\u001b[1;33m\u001b[0m\u001b[0m\n\u001b[0m\u001b[0;32m      2\u001b[0m \u001b[0mmarksheet\u001b[0m\u001b[1;33m\u001b[0m\u001b[1;33m\u001b[0m\u001b[0m\n",
      "\u001b[1;31mKeyError\u001b[0m: 'popitem(): dictionary is empty'"
     ]
    }
   ],
   "source": [
    "marksheet.popitem()\n",
    "marksheet"
   ]
  },
  {
   "cell_type": "markdown",
   "id": "a9b0251b",
   "metadata": {},
   "source": [
    "#### 3. clear()"
   ]
  },
  {
   "cell_type": "code",
   "execution_count": 54,
   "id": "e805a921",
   "metadata": {},
   "outputs": [
    {
     "name": "stdout",
     "output_type": "stream",
     "text": [
      "{} 0\n"
     ]
    }
   ],
   "source": [
    "marksheet = {'Eng':83, 'Math':73, 'Sci':82}\n",
    "marksheet.clear()\n",
    "print(marksheet,len(marksheet))"
   ]
  },
  {
   "cell_type": "markdown",
   "id": "aab2e479",
   "metadata": {},
   "source": [
    "#### 4. del"
   ]
  },
  {
   "cell_type": "code",
   "execution_count": 55,
   "id": "614e8de0",
   "metadata": {},
   "outputs": [
    {
     "data": {
      "text/plain": [
       "{'Eng': 83, 'Sci': 82}"
      ]
     },
     "execution_count": 55,
     "metadata": {},
     "output_type": "execute_result"
    }
   ],
   "source": [
    "marksheet = {'Eng':83, 'Math':73, 'Sci':82}\n",
    "del marksheet['Math']\n",
    "marksheet"
   ]
  },
  {
   "cell_type": "code",
   "execution_count": 56,
   "id": "ef764c43",
   "metadata": {},
   "outputs": [
    {
     "data": {
      "text/plain": [
       "{'Eng': 83}"
      ]
     },
     "execution_count": 56,
     "metadata": {},
     "output_type": "execute_result"
    }
   ],
   "source": [
    "del marksheet['Sci']\n",
    "marksheet"
   ]
  },
  {
   "cell_type": "code",
   "execution_count": 57,
   "id": "9b92d72f",
   "metadata": {},
   "outputs": [
    {
     "data": {
      "text/plain": [
       "{}"
      ]
     },
     "execution_count": 57,
     "metadata": {},
     "output_type": "execute_result"
    }
   ],
   "source": [
    "del marksheet['Eng']\n",
    "marksheet"
   ]
  },
  {
   "cell_type": "code",
   "execution_count": 58,
   "id": "fba3c704",
   "metadata": {},
   "outputs": [],
   "source": [
    "marksheet = {'Eng':83, 'Math':73, 'Sci':82}\n",
    "del marksheet"
   ]
  },
  {
   "cell_type": "code",
   "execution_count": 59,
   "id": "1e6dfd1e",
   "metadata": {},
   "outputs": [
    {
     "ename": "NameError",
     "evalue": "name 'marksheet' is not defined",
     "output_type": "error",
     "traceback": [
      "\u001b[1;31m---------------------------------------------------------------------------\u001b[0m",
      "\u001b[1;31mNameError\u001b[0m                                 Traceback (most recent call last)",
      "\u001b[1;32m<ipython-input-59-d9679c06c5d1>\u001b[0m in \u001b[0;36m<module>\u001b[1;34m\u001b[0m\n\u001b[1;32m----> 1\u001b[1;33m \u001b[0mmarksheet\u001b[0m\u001b[1;33m\u001b[0m\u001b[1;33m\u001b[0m\u001b[0m\n\u001b[0m",
      "\u001b[1;31mNameError\u001b[0m: name 'marksheet' is not defined"
     ]
    }
   ],
   "source": [
    "marksheet"
   ]
  },
  {
   "cell_type": "markdown",
   "id": "529a17b2",
   "metadata": {},
   "source": [
    "### Nested Dictionary"
   ]
  },
  {
   "cell_type": "code",
   "execution_count": 60,
   "id": "8ee1f893",
   "metadata": {},
   "outputs": [
    {
     "name": "stdout",
     "output_type": "stream",
     "text": [
      "{'Virat': {'Eng': 83, 'Math': 73, 'Sci': 82}, 'Rohit': {'Eng': 81, 'Math': 83, 'Sci': 88}, 'Rahul': {'Eng': 89, 'Math': 81, 'Sci': 80}}\n",
      "Length of dict is : 3\n"
     ]
    }
   ],
   "source": [
    "class_1 = {'Virat':{'Eng':83,\n",
    "                    'Math':73,\n",
    "                    'Sci':82},\n",
    "           \n",
    "          'Rohit':{'Eng':81,\n",
    "                   'Math':83,\n",
    "                   'Sci':88},\n",
    "           \n",
    "          'Rahul':{'Eng':89,\n",
    "                   'Math':81,\n",
    "                   'Sci':80}}\n",
    "\n",
    "print(class_1)\n",
    "print('Length of dict is :',len(class_1))"
   ]
  },
  {
   "cell_type": "code",
   "execution_count": 61,
   "id": "4af6db64",
   "metadata": {},
   "outputs": [
    {
     "data": {
      "text/plain": [
       "{'Eng': 89, 'Math': 81, 'Sci': 80}"
      ]
     },
     "execution_count": 61,
     "metadata": {},
     "output_type": "execute_result"
    }
   ],
   "source": [
    "class_1['Rahul']"
   ]
  },
  {
   "cell_type": "code",
   "execution_count": 62,
   "id": "06c3e31d",
   "metadata": {},
   "outputs": [
    {
     "data": {
      "text/plain": [
       "dict"
      ]
     },
     "execution_count": 62,
     "metadata": {},
     "output_type": "execute_result"
    }
   ],
   "source": [
    "type(class_1['Rahul'])"
   ]
  },
  {
   "cell_type": "code",
   "execution_count": 64,
   "id": "3c9ac9d8",
   "metadata": {},
   "outputs": [
    {
     "data": {
      "text/plain": [
       "89"
      ]
     },
     "execution_count": 64,
     "metadata": {},
     "output_type": "execute_result"
    }
   ],
   "source": [
    "class_1['Rahul']['Eng']"
   ]
  },
  {
   "cell_type": "code",
   "execution_count": 65,
   "id": "4bf43225",
   "metadata": {},
   "outputs": [
    {
     "data": {
      "text/plain": [
       "82"
      ]
     },
     "execution_count": 65,
     "metadata": {},
     "output_type": "execute_result"
    }
   ],
   "source": [
    "class_1['Virat']['Sci']"
   ]
  },
  {
   "cell_type": "code",
   "execution_count": 66,
   "id": "15cba530",
   "metadata": {},
   "outputs": [
    {
     "data": {
      "text/plain": [
       "{'Name': 'Sagar', 'Loc': 'Pune'}"
      ]
     },
     "execution_count": 66,
     "metadata": {},
     "output_type": "execute_result"
    }
   ],
   "source": [
    "data= {}\n",
    "data['Name']='Sagar'\n",
    "data['Loc']='Pune'\n",
    "data"
   ]
  },
  {
   "cell_type": "code",
   "execution_count": null,
   "id": "d22d9ccf",
   "metadata": {},
   "outputs": [],
   "source": [
    "sub_names= ['Phy','Che','Math','Eng','Bio']\n",
    "sub_marks= [93,94,91,95,90]\n",
    "# {'Phy':93,'Che':94....}"
   ]
  },
  {
   "cell_type": "code",
   "execution_count": 67,
   "id": "367024d2",
   "metadata": {},
   "outputs": [
    {
     "name": "stdout",
     "output_type": "stream",
     "text": [
      "{'Phy': 90, 'Che': 90, 'Math': 90, 'Eng': 90, 'Bio': 90}\n"
     ]
    }
   ],
   "source": [
    "sub_names= ['Phy','Che','Math','Eng','Bio']\n",
    "sub_marks= [93,94,91,95,90]\n",
    "d1 = {}\n",
    "for i in sub_names:\n",
    "    for j in sub_marks:\n",
    "        d1[i]=j\n",
    "\n",
    "print(d1)"
   ]
  },
  {
   "cell_type": "code",
   "execution_count": null,
   "id": "dd0aa065",
   "metadata": {},
   "outputs": [],
   "source": [
    "d1[]"
   ]
  },
  {
   "cell_type": "code",
   "execution_count": 70,
   "id": "6f76f8ff",
   "metadata": {},
   "outputs": [
    {
     "name": "stdout",
     "output_type": "stream",
     "text": [
      "{'Phy': 93, 'Che': 94, 'Math': 91, 'Eng': 95, 'Bio': 90}\n"
     ]
    }
   ],
   "source": [
    "sub_names= ['Phy','Che','Math','Eng','Bio']\n",
    "sub_marks= [93,94,91,95,90]\n",
    "dict1 = {}\n",
    "\n",
    "for i in range(len(sub_names)):\n",
    "    dict1[sub_names[i]]=sub_marks[i]\n",
    "    \n",
    "print(dict1)"
   ]
  },
  {
   "cell_type": "code",
   "execution_count": 1,
   "id": "768985c2",
   "metadata": {},
   "outputs": [
    {
     "data": {
      "text/plain": [
       "{'Phy': 93, 'Che': 94, 'Math': 91, 'Eng': 95, 'Bio': 90}"
      ]
     },
     "execution_count": 1,
     "metadata": {},
     "output_type": "execute_result"
    }
   ],
   "source": [
    "sub_names= ['Phy','Che','Math','Eng','Bio']\n",
    "sub_marks= [93,94,91,95,90]\n",
    "dict1 = {}\n",
    "\n",
    "for i,key in enumerate(sub_names):\n",
    "    dict1[key]=sub_marks[i]\n",
    "dict1"
   ]
  },
  {
   "cell_type": "code",
   "execution_count": 2,
   "id": "b4f65498",
   "metadata": {},
   "outputs": [
    {
     "data": {
      "text/plain": [
       "{'Phy': 93, 'Che': 94, 'Math': 91, 'Eng': 95, 'Bio': 90}"
      ]
     },
     "execution_count": 2,
     "metadata": {},
     "output_type": "execute_result"
    }
   ],
   "source": [
    "sub_names= ['Phy','Che','Math','Eng','Bio']\n",
    "sub_marks= [93,94,91,95,90]\n",
    "dict1 = {}\n",
    "\n",
    "for i,key in enumerate(sub_names):\n",
    "    dict1.update({key:sub_marks[i]})\n",
    "dict1"
   ]
  },
  {
   "cell_type": "code",
   "execution_count": 3,
   "id": "c0401fc7",
   "metadata": {},
   "outputs": [
    {
     "data": {
      "text/plain": [
       "{'Phy': 93, 'Che': 94, 'Math': 91, 'Eng': 95, 'Bio': 90}"
      ]
     },
     "execution_count": 3,
     "metadata": {},
     "output_type": "execute_result"
    }
   ],
   "source": [
    "sub_names= ['Phy','Che','Math','Eng','Bio']\n",
    "sub_marks= [93,94,91,95,90]\n",
    "dict1 = {}\n",
    "count=0\n",
    "for key in sub_names:\n",
    "    dict1[key]=sub_marks[count]\n",
    "    count+=1\n",
    "dict1"
   ]
  },
  {
   "cell_type": "code",
   "execution_count": null,
   "id": "fa927cca",
   "metadata": {},
   "outputs": [],
   "source": [
    "dict.fromkeys(seq,value)"
   ]
  },
  {
   "cell_type": "code",
   "execution_count": 4,
   "id": "a11aeb28",
   "metadata": {},
   "outputs": [
    {
     "data": {
      "text/plain": [
       "{'Phy': None, 'Che': None, 'Math': None, 'Eng': None, 'Bio': None}"
      ]
     },
     "execution_count": 4,
     "metadata": {},
     "output_type": "execute_result"
    }
   ],
   "source": [
    "sub_names= ['Phy','Che','Math','Eng','Bio']\n",
    "sub_marks= [93,94,91,95,90]\n",
    "dict.fromkeys(sub_names)"
   ]
  },
  {
   "cell_type": "code",
   "execution_count": 5,
   "id": "86ce42cb",
   "metadata": {},
   "outputs": [
    {
     "data": {
      "text/plain": [
       "{'Phy': 86, 'Che': 86, 'Math': 86, 'Eng': 86, 'Bio': 86}"
      ]
     },
     "execution_count": 5,
     "metadata": {},
     "output_type": "execute_result"
    }
   ],
   "source": [
    "sub_names= ['Phy','Che','Math','Eng','Bio']\n",
    "sub_marks= [93,94,91,95,90]\n",
    "value=86\n",
    "dict.fromkeys(sub_names,value)"
   ]
  },
  {
   "cell_type": "code",
   "execution_count": 6,
   "id": "8769ad54",
   "metadata": {},
   "outputs": [
    {
     "data": {
      "text/plain": [
       "{'Phy': [93, 94, 91, 95, 90],\n",
       " 'Che': [93, 94, 91, 95, 90],\n",
       " 'Math': [93, 94, 91, 95, 90],\n",
       " 'Eng': [93, 94, 91, 95, 90],\n",
       " 'Bio': [93, 94, 91, 95, 90]}"
      ]
     },
     "execution_count": 6,
     "metadata": {},
     "output_type": "execute_result"
    }
   ],
   "source": [
    "sub_names= ['Phy','Che','Math','Eng','Bio']\n",
    "sub_marks= [93,94,91,95,90]\n",
    "value=86\n",
    "dict.fromkeys(sub_names,sub_marks)"
   ]
  },
  {
   "cell_type": "code",
   "execution_count": 7,
   "id": "2d784921",
   "metadata": {},
   "outputs": [
    {
     "data": {
      "text/plain": [
       "{'Phy': 93, 'Che': 94, 'Math': 91, 'Eng': 95, 'Bio': 90}"
      ]
     },
     "execution_count": 7,
     "metadata": {},
     "output_type": "execute_result"
    }
   ],
   "source": [
    "sub_names= ['Phy','Che','Math','Eng','Bio']\n",
    "sub_marks= [93,94,91,95,90]\n",
    "dict(zip(sub_names,sub_marks))"
   ]
  },
  {
   "cell_type": "markdown",
   "id": "46b20c71",
   "metadata": {},
   "source": [
    "#### square of 11 to 20 numbers"
   ]
  },
  {
   "cell_type": "code",
   "execution_count": null,
   "id": "d04765ac",
   "metadata": {},
   "outputs": [],
   "source": [
    "{11:121,12:144}"
   ]
  },
  {
   "cell_type": "code",
   "execution_count": 8,
   "id": "19c38de1",
   "metadata": {},
   "outputs": [
    {
     "name": "stdout",
     "output_type": "stream",
     "text": [
      "{11: 121, 12: 144, 13: 169, 14: 196, 15: 225, 16: 256, 17: 289, 18: 324, 19: 361, 20: 400}\n"
     ]
    }
   ],
   "source": [
    "squares={}\n",
    "for i in range(11,21):\n",
    "    squares[i]=i**2\n",
    "print(squares)"
   ]
  },
  {
   "cell_type": "code",
   "execution_count": 18,
   "id": "66cea547",
   "metadata": {},
   "outputs": [
    {
     "name": "stdout",
     "output_type": "stream",
     "text": [
      "{'data': 3, 'science': 1, 'is': 3, 'an': 7, 'interdisciplinary': 1, 'field': 1, 'that': 1, 'uses': 1, 'scientific': 1, 'methods,': 1, 'processes,': 1, 'algorithms': 1, 'and': 5, 'systems': 1, 'to': 1, 'extract': 1, 'knowledge': 2, 'insights': 2, 'from': 2, 'noisy,': 1, 'structured': 2, 'unstructured': 1, 'data,': 1, 'apply': 1, 'actionable': 1, 'across': 1, 'a': 26, 'broad': 1, 'range': 1, 'of': 1, 'application': 1, 'domains.': 1}\n"
     ]
    }
   ],
   "source": [
    "string='''Data science is an interdisciplinary field that uses scientific methods,\n",
    "processes, algorithms and systems to extract knowledge and insights from noisy, structured\n",
    "and unstructured data, and apply knowledge and actionable insights from data across a broad\n",
    "range of application domains.'''\n",
    "\n",
    "string = string.lower()\n",
    "result={}\n",
    "for word in string.split():\n",
    "    result[word]= string.count(word)\n",
    "    \n",
    "print(result)"
   ]
  },
  {
   "cell_type": "markdown",
   "id": "f2e818a5",
   "metadata": {},
   "source": [
    "#### ASCII Values for alphabets"
   ]
  },
  {
   "cell_type": "code",
   "execution_count": 14,
   "id": "1ca0c158",
   "metadata": {},
   "outputs": [
    {
     "name": "stdout",
     "output_type": "stream",
     "text": [
      "{'a': 97, 'b': 98, 'c': 99, 'd': 100, 'e': 101, 'f': 102, 'g': 103, 'h': 104, 'i': 105, 'j': 106, 'k': 107, 'l': 108, 'm': 109, 'n': 110, 'o': 111, 'p': 112, 'q': 113, 'r': 114, 's': 115, 't': 116, 'u': 117, 'v': 118, 'w': 119, 'x': 120, 'y': 121, 'z': 122}\n"
     ]
    }
   ],
   "source": [
    "lower_case={}\n",
    "for i in range(97,123):\n",
    "    lower_case.update({chr(i):i})\n",
    "    \n",
    "print(lower_case)"
   ]
  },
  {
   "cell_type": "code",
   "execution_count": 16,
   "id": "7b33ebde",
   "metadata": {},
   "outputs": [
    {
     "name": "stdout",
     "output_type": "stream",
     "text": [
      "{'A': 65, 'B': 66, 'C': 67, 'D': 68, 'E': 69, 'F': 70, 'G': 71, 'H': 72, 'I': 73, 'J': 74, 'K': 75, 'L': 76, 'M': 77, 'N': 78, 'O': 79, 'P': 80, 'Q': 81, 'R': 82, 'S': 83, 'T': 84, 'U': 85, 'V': 86, 'W': 87, 'X': 88, 'Y': 89, 'Z': 90}\n"
     ]
    }
   ],
   "source": [
    "upper_case={}\n",
    "for i in range(65,91):\n",
    "    upper_case.update({chr(i):i})\n",
    "    \n",
    "print(upper_case)"
   ]
  },
  {
   "cell_type": "markdown",
   "id": "b31bb418",
   "metadata": {},
   "source": [
    "#### Sort Dictionary using Keys"
   ]
  },
  {
   "cell_type": "code",
   "execution_count": 23,
   "id": "e353f3a0",
   "metadata": {},
   "outputs": [
    {
     "data": {
      "text/plain": [
       "{'Bio': 90, 'Che': 94, 'Eng': 95, 'Math': 91, 'Phy': 93}"
      ]
     },
     "execution_count": 23,
     "metadata": {},
     "output_type": "execute_result"
    }
   ],
   "source": [
    "sub_marks={'Phy': 93, 'Che': 94, 'Math': 91, 'Eng': 95, 'Bio': 90}\n",
    "new_dict={}\n",
    "sorted_keys=sorted(sub_marks.keys())\n",
    "\n",
    "for key in sorted_keys:\n",
    "    new_dict[key]=sub_marks[key]\n",
    "    \n",
    "new_dict"
   ]
  },
  {
   "cell_type": "code",
   "execution_count": 25,
   "id": "b5091578",
   "metadata": {},
   "outputs": [
    {
     "data": {
      "text/plain": [
       "['Bio', 'Che', 'Eng', 'Math', 'Phy']"
      ]
     },
     "execution_count": 25,
     "metadata": {},
     "output_type": "execute_result"
    }
   ],
   "source": [
    "sub_marks={'Phy': 93, 'Che': 94, 'Math': 91, 'Eng': 95, 'Bio': 90}\n",
    "sorted(sub_marks.keys())"
   ]
  },
  {
   "cell_type": "code",
   "execution_count": 24,
   "id": "1c1018a0",
   "metadata": {},
   "outputs": [
    {
     "data": {
      "text/plain": [
       "{'Bio': 90, 'Che': 94, 'Eng': 95, 'Math': 91, 'Phy': 93}"
      ]
     },
     "execution_count": 24,
     "metadata": {},
     "output_type": "execute_result"
    }
   ],
   "source": [
    "sub_marks={'Phy': 93, 'Che': 94, 'Math': 91, 'Eng': 95, 'Bio': 90}\n",
    "new_dict={}\n",
    "\n",
    "for key in sorted(sub_marks.keys()):\n",
    "    new_dict[key]=sub_marks[key]\n",
    "    \n",
    "new_dict"
   ]
  },
  {
   "cell_type": "code",
   "execution_count": 29,
   "id": "d7ca3789",
   "metadata": {},
   "outputs": [
    {
     "name": "stdout",
     "output_type": "stream",
     "text": [
      "[('Bio', 90), ('Che', 94), ('Eng', 95), ('Math', 91), ('Phy', 93)]\n",
      "<class 'list'>\n",
      "{'Bio': 90, 'Che': 94, 'Eng': 95, 'Math': 91, 'Phy': 93}\n"
     ]
    }
   ],
   "source": [
    "sub_marks={'Phy': 93, 'Che': 94, 'Math': 91, 'Eng': 95, 'Bio': 90}\n",
    "sorted_items= sorted(sub_marks.items())\n",
    "print(sorted_items)\n",
    "print(type(sorted_items))\n",
    "print(dict(sorted_items))"
   ]
  },
  {
   "cell_type": "markdown",
   "id": "f0fa5663",
   "metadata": {},
   "source": [
    "#### Sort Dictionary using Values"
   ]
  },
  {
   "cell_type": "code",
   "execution_count": 32,
   "id": "bcba356b",
   "metadata": {},
   "outputs": [
    {
     "data": {
      "text/plain": [
       "{'Bio': 90, 'Math': 91, 'Phy': 93, 'Che': 94, 'Eng': 95}"
      ]
     },
     "execution_count": 32,
     "metadata": {},
     "output_type": "execute_result"
    }
   ],
   "source": [
    "sub_marks={'Phy': 93, 'Che': 94, 'Math': 91, 'Eng': 95, 'Bio': 90}\n",
    "new_dict={}\n",
    "for val in sorted(sub_marks.values()):\n",
    "    for key in sub_marks:\n",
    "        if sub_marks[key]==val:\n",
    "            new_dict[key]=val\n",
    "            \n",
    "new_dict"
   ]
  },
  {
   "cell_type": "markdown",
   "id": "e147dc45",
   "metadata": {},
   "source": [
    "#### fromkeys"
   ]
  },
  {
   "cell_type": "code",
   "execution_count": null,
   "id": "401fce16",
   "metadata": {},
   "outputs": [],
   "source": [
    "dict.fromkeys(seq,val) # default val is none"
   ]
  },
  {
   "cell_type": "code",
   "execution_count": 33,
   "id": "3520058b",
   "metadata": {},
   "outputs": [
    {
     "data": {
      "text/plain": [
       "{'A': None, 'B': None, 'C': None, 'D': None}"
      ]
     },
     "execution_count": 33,
     "metadata": {},
     "output_type": "execute_result"
    }
   ],
   "source": [
    "dict.fromkeys(['A','B','C','D'])"
   ]
  },
  {
   "cell_type": "code",
   "execution_count": 34,
   "id": "ea42c912",
   "metadata": {},
   "outputs": [
    {
     "data": {
      "text/plain": [
       "{'A': 100, 'B': 100, 'C': 100, 'D': 100}"
      ]
     },
     "execution_count": 34,
     "metadata": {},
     "output_type": "execute_result"
    }
   ],
   "source": [
    "dict.fromkeys(['A','B','C','D'],100)"
   ]
  },
  {
   "cell_type": "code",
   "execution_count": 35,
   "id": "175e2b7b",
   "metadata": {},
   "outputs": [
    {
     "data": {
      "text/plain": [
       "{'A': [100, 200, 300, 400],\n",
       " 'B': [100, 200, 300, 400],\n",
       " 'C': [100, 200, 300, 400],\n",
       " 'D': [100, 200, 300, 400]}"
      ]
     },
     "execution_count": 35,
     "metadata": {},
     "output_type": "execute_result"
    }
   ],
   "source": [
    "dict.fromkeys(['A','B','C','D'],[100,200,300,400])"
   ]
  },
  {
   "cell_type": "code",
   "execution_count": 36,
   "id": "779f1b83",
   "metadata": {},
   "outputs": [
    {
     "data": {
      "text/plain": [
       "{'A': 100, 'B': 200, 'C': 300, 'D': 400}"
      ]
     },
     "execution_count": 36,
     "metadata": {},
     "output_type": "execute_result"
    }
   ],
   "source": [
    "alpha=['A','B','C','D']\n",
    "num=[100,200,300,400]\n",
    "dict(zip(alpha,num))"
   ]
  },
  {
   "cell_type": "markdown",
   "id": "fdbee2c2",
   "metadata": {},
   "source": [
    "#### setdefault()"
   ]
  },
  {
   "cell_type": "code",
   "execution_count": null,
   "id": "7289571d",
   "metadata": {},
   "outputs": [],
   "source": [
    "dict.setdefault()\n",
    "if key is present it returns corresponding value\n",
    "if key is not present a key:value pair is added in dict"
   ]
  },
  {
   "cell_type": "code",
   "execution_count": 42,
   "id": "38693812",
   "metadata": {},
   "outputs": [
    {
     "data": {
      "text/plain": [
       "91"
      ]
     },
     "execution_count": 42,
     "metadata": {},
     "output_type": "execute_result"
    }
   ],
   "source": [
    "sub_marks={'Phy': 93, 'Che': 94, 'Math': 91, 'Eng': 95, 'Bio': 90}\n",
    "sub_marks.setdefault('Math')"
   ]
  },
  {
   "cell_type": "code",
   "execution_count": 43,
   "id": "f00904ce",
   "metadata": {},
   "outputs": [
    {
     "data": {
      "text/plain": [
       "94"
      ]
     },
     "execution_count": 43,
     "metadata": {},
     "output_type": "execute_result"
    }
   ],
   "source": [
    "sub_marks={'Phy': 93, 'Che': 94, 'Math': 91, 'Eng': 95, 'Bio': 90}\n",
    "sub_marks.setdefault('Che',92)"
   ]
  },
  {
   "cell_type": "code",
   "execution_count": 44,
   "id": "a2128772",
   "metadata": {},
   "outputs": [],
   "source": [
    "sub_marks={'Phy': 93, 'Che': 94, 'Math': 91, 'Eng': 95, 'Bio': 90}\n",
    "sub_marks.setdefault('Science')"
   ]
  },
  {
   "cell_type": "code",
   "execution_count": 45,
   "id": "9eabd4ec",
   "metadata": {},
   "outputs": [
    {
     "data": {
      "text/plain": [
       "{'Phy': 93, 'Che': 94, 'Math': 91, 'Eng': 95, 'Bio': 90, 'Science': None}"
      ]
     },
     "execution_count": 45,
     "metadata": {},
     "output_type": "execute_result"
    }
   ],
   "source": [
    "sub_marks"
   ]
  },
  {
   "cell_type": "code",
   "execution_count": 46,
   "id": "ee19af84",
   "metadata": {},
   "outputs": [
    {
     "data": {
      "text/plain": [
       "88"
      ]
     },
     "execution_count": 46,
     "metadata": {},
     "output_type": "execute_result"
    }
   ],
   "source": [
    "sub_marks={'Phy': 93, 'Che': 94, 'Math': 91, 'Eng': 95, 'Bio': 90}\n",
    "sub_marks.setdefault('Science',88)"
   ]
  },
  {
   "cell_type": "code",
   "execution_count": 47,
   "id": "d57a644b",
   "metadata": {},
   "outputs": [
    {
     "data": {
      "text/plain": [
       "{'Phy': 93, 'Che': 94, 'Math': 91, 'Eng': 95, 'Bio': 90, 'Science': 88}"
      ]
     },
     "execution_count": 47,
     "metadata": {},
     "output_type": "execute_result"
    }
   ],
   "source": [
    "sub_marks"
   ]
  },
  {
   "cell_type": "markdown",
   "id": "27b8fd9d",
   "metadata": {},
   "source": [
    "### Dictionary Functions"
   ]
  },
  {
   "cell_type": "markdown",
   "id": "8881af23",
   "metadata": {},
   "source": [
    "1. get()\n",
    "2. keys()\n",
    "3. values()\n",
    "4. items()\n",
    "5. update()\n",
    "6. fromkeys()\n",
    "7. dict(zip())\n",
    "8. pop()\n",
    "9. popitem()\n",
    "10. clear()\n",
    "11. del\n",
    "12. setdefault()"
   ]
  },
  {
   "cell_type": "code",
   "execution_count": null,
   "id": "11276252",
   "metadata": {},
   "outputs": [],
   "source": []
  },
  {
   "cell_type": "code",
   "execution_count": null,
   "id": "eb541ed6",
   "metadata": {},
   "outputs": [],
   "source": []
  },
  {
   "cell_type": "code",
   "execution_count": null,
   "id": "bca10d4b",
   "metadata": {},
   "outputs": [],
   "source": []
  },
  {
   "cell_type": "code",
   "execution_count": null,
   "id": "7e76ef80",
   "metadata": {},
   "outputs": [],
   "source": []
  },
  {
   "cell_type": "code",
   "execution_count": null,
   "id": "53a580c5",
   "metadata": {},
   "outputs": [],
   "source": []
  },
  {
   "cell_type": "code",
   "execution_count": null,
   "id": "4d6772a8",
   "metadata": {},
   "outputs": [],
   "source": []
  },
  {
   "cell_type": "code",
   "execution_count": null,
   "id": "d0136cfb",
   "metadata": {},
   "outputs": [],
   "source": []
  },
  {
   "cell_type": "code",
   "execution_count": null,
   "id": "e861974a",
   "metadata": {},
   "outputs": [],
   "source": []
  },
  {
   "cell_type": "code",
   "execution_count": null,
   "id": "c6a5c772",
   "metadata": {},
   "outputs": [],
   "source": []
  },
  {
   "cell_type": "code",
   "execution_count": null,
   "id": "302778cf",
   "metadata": {},
   "outputs": [],
   "source": []
  },
  {
   "cell_type": "code",
   "execution_count": null,
   "id": "55b0480f",
   "metadata": {},
   "outputs": [],
   "source": []
  },
  {
   "cell_type": "code",
   "execution_count": null,
   "id": "e726408d",
   "metadata": {},
   "outputs": [],
   "source": []
  },
  {
   "cell_type": "code",
   "execution_count": null,
   "id": "fcdf09d6",
   "metadata": {},
   "outputs": [],
   "source": []
  },
  {
   "cell_type": "code",
   "execution_count": null,
   "id": "a3aed845",
   "metadata": {},
   "outputs": [],
   "source": []
  },
  {
   "cell_type": "code",
   "execution_count": null,
   "id": "4144c205",
   "metadata": {},
   "outputs": [],
   "source": []
  },
  {
   "cell_type": "code",
   "execution_count": null,
   "id": "e99a13dd",
   "metadata": {},
   "outputs": [],
   "source": []
  }
 ],
 "metadata": {
  "kernelspec": {
   "display_name": "Python 3 (ipykernel)",
   "language": "python",
   "name": "python3"
  },
  "language_info": {
   "codemirror_mode": {
    "name": "ipython",
    "version": 3
   },
   "file_extension": ".py",
   "mimetype": "text/x-python",
   "name": "python",
   "nbconvert_exporter": "python",
   "pygments_lexer": "ipython3",
   "version": "3.9.7"
  }
 },
 "nbformat": 4,
 "nbformat_minor": 5
}
