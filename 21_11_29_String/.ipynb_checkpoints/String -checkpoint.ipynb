{
 "cells": [
  {
   "cell_type": "markdown",
   "id": "d43f1396",
   "metadata": {},
   "source": [
    "### String Slicing"
   ]
  },
  {
   "cell_type": "markdown",
   "id": "fa603fa9",
   "metadata": {},
   "source": [
    "string[start_index(included) : end_index(exclude) : step_size] #step size is optional \n",
    "Default start_index >> 0\n",
    "Default end_index >> Length of the string\n",
    "default step_size >> 1\n",
    "step_size is positive >> left to right\n",
    "step_size is negative >> right to left"
   ]
  },
  {
   "cell_type": "code",
   "execution_count": 1,
   "id": "479f6c8e",
   "metadata": {},
   "outputs": [
    {
     "data": {
      "text/plain": [
       "'ac'"
      ]
     },
     "execution_count": 1,
     "metadata": {},
     "output_type": "execute_result"
    }
   ],
   "source": [
    "s='machine'\n",
    "s[1:3]"
   ]
  },
  {
   "cell_type": "code",
   "execution_count": 2,
   "id": "4f5454ec",
   "metadata": {},
   "outputs": [
    {
     "data": {
      "text/plain": [
       "'mac'"
      ]
     },
     "execution_count": 2,
     "metadata": {},
     "output_type": "execute_result"
    }
   ],
   "source": [
    "s[:3]"
   ]
  },
  {
   "cell_type": "code",
   "execution_count": 3,
   "id": "bb719358",
   "metadata": {},
   "outputs": [
    {
     "data": {
      "text/plain": [
       "'hine'"
      ]
     },
     "execution_count": 3,
     "metadata": {},
     "output_type": "execute_result"
    }
   ],
   "source": [
    "s[3:]"
   ]
  },
  {
   "cell_type": "code",
   "execution_count": 4,
   "id": "1e4ea37f",
   "metadata": {},
   "outputs": [
    {
     "data": {
      "text/plain": [
       "'Machine'"
      ]
     },
     "execution_count": 4,
     "metadata": {},
     "output_type": "execute_result"
    }
   ],
   "source": [
    "str1 = 'Machine Learning'\n",
    "str1[:7]"
   ]
  },
  {
   "cell_type": "code",
   "execution_count": 5,
   "id": "491ad0b6",
   "metadata": {},
   "outputs": [
    {
     "data": {
      "text/plain": [
       "'Machine '"
      ]
     },
     "execution_count": 5,
     "metadata": {},
     "output_type": "execute_result"
    }
   ],
   "source": [
    "str1[:8]"
   ]
  },
  {
   "cell_type": "code",
   "execution_count": 6,
   "id": "dc843b9c",
   "metadata": {},
   "outputs": [
    {
     "data": {
      "text/plain": [
       "'Learning'"
      ]
     },
     "execution_count": 6,
     "metadata": {},
     "output_type": "execute_result"
    }
   ],
   "source": [
    "str1[8:]"
   ]
  },
  {
   "cell_type": "code",
   "execution_count": 12,
   "id": "3c0d40b6",
   "metadata": {},
   "outputs": [
    {
     "data": {
      "text/plain": [
       "33"
      ]
     },
     "execution_count": 12,
     "metadata": {},
     "output_type": "execute_result"
    }
   ],
   "source": [
    "str2='Data Science and machine learning'\n",
    "len(str2)"
   ]
  },
  {
   "cell_type": "code",
   "execution_count": 15,
   "id": "16544df2",
   "metadata": {},
   "outputs": [
    {
     "data": {
      "text/plain": [
       "'ata Science and'"
      ]
     },
     "execution_count": 15,
     "metadata": {},
     "output_type": "execute_result"
    }
   ],
   "source": [
    "str1[1:len(str2)] #str1[1:12]"
   ]
  },
  {
   "cell_type": "code",
   "execution_count": 14,
   "id": "657cd15f",
   "metadata": {},
   "outputs": [
    {
     "ename": "IndexError",
     "evalue": "string index out of range",
     "output_type": "error",
     "traceback": [
      "\u001b[1;31m---------------------------------------------------------------------------\u001b[0m",
      "\u001b[1;31mIndexError\u001b[0m                                Traceback (most recent call last)",
      "\u001b[1;32m<ipython-input-14-cba6937a2447>\u001b[0m in \u001b[0;36m<module>\u001b[1;34m\u001b[0m\n\u001b[0;32m      1\u001b[0m \u001b[0ma\u001b[0m\u001b[1;33m=\u001b[0m\u001b[1;34m'string'\u001b[0m\u001b[1;33m\u001b[0m\u001b[1;33m\u001b[0m\u001b[0m\n\u001b[1;32m----> 2\u001b[1;33m \u001b[0ma\u001b[0m\u001b[1;33m[\u001b[0m\u001b[1;36m9\u001b[0m\u001b[1;33m]\u001b[0m\u001b[1;33m\u001b[0m\u001b[1;33m\u001b[0m\u001b[0m\n\u001b[0m",
      "\u001b[1;31mIndexError\u001b[0m: string index out of range"
     ]
    }
   ],
   "source": [
    "a='string' # 6\n",
    "a[9]"
   ]
  },
  {
   "cell_type": "code",
   "execution_count": 17,
   "id": "3ba299c8",
   "metadata": {},
   "outputs": [
    {
     "data": {
      "text/plain": [
       "''"
      ]
     },
     "execution_count": 17,
     "metadata": {},
     "output_type": "execute_result"
    }
   ],
   "source": [
    "str1[len(str2)-5:len(str2)]"
   ]
  },
  {
   "cell_type": "code",
   "execution_count": 16,
   "id": "606a5e8f",
   "metadata": {},
   "outputs": [
    {
     "data": {
      "text/plain": [
       "33"
      ]
     },
     "execution_count": 16,
     "metadata": {},
     "output_type": "execute_result"
    }
   ],
   "source": [
    "len(str2)"
   ]
  },
  {
   "cell_type": "code",
   "execution_count": 22,
   "id": "57ed6306",
   "metadata": {},
   "outputs": [
    {
     "data": {
      "text/plain": [
       "'Machine Learning'"
      ]
     },
     "execution_count": 22,
     "metadata": {},
     "output_type": "execute_result"
    }
   ],
   "source": [
    "str1[:]"
   ]
  },
  {
   "cell_type": "code",
   "execution_count": 23,
   "id": "aea99495",
   "metadata": {},
   "outputs": [
    {
     "data": {
      "text/plain": [
       "'achine '"
      ]
     },
     "execution_count": 23,
     "metadata": {},
     "output_type": "execute_result"
    }
   ],
   "source": [
    "str1[1:8]"
   ]
  },
  {
   "cell_type": "code",
   "execution_count": 24,
   "id": "e05fa6d6",
   "metadata": {},
   "outputs": [
    {
     "data": {
      "text/plain": [
       "'achine '"
      ]
     },
     "execution_count": 24,
     "metadata": {},
     "output_type": "execute_result"
    }
   ],
   "source": [
    "str1[1:8:1]"
   ]
  },
  {
   "cell_type": "code",
   "execution_count": 25,
   "id": "c7034fe7",
   "metadata": {},
   "outputs": [
    {
     "data": {
      "text/plain": [
       "'ahn '"
      ]
     },
     "execution_count": 25,
     "metadata": {},
     "output_type": "execute_result"
    }
   ],
   "source": [
    "str1[1:8:2]"
   ]
  },
  {
   "cell_type": "code",
   "execution_count": 27,
   "id": "b414ab45",
   "metadata": {},
   "outputs": [
    {
     "data": {
      "text/plain": [
       "'McieLann'"
      ]
     },
     "execution_count": 27,
     "metadata": {},
     "output_type": "execute_result"
    }
   ],
   "source": [
    "str1[::2]"
   ]
  },
  {
   "cell_type": "code",
   "execution_count": 34,
   "id": "51471580",
   "metadata": {},
   "outputs": [
    {
     "data": {
      "text/plain": [
       "'Mheeng'"
      ]
     },
     "execution_count": 34,
     "metadata": {},
     "output_type": "execute_result"
    }
   ],
   "source": [
    "str1[::3]"
   ]
  },
  {
   "cell_type": "code",
   "execution_count": 37,
   "id": "2d6ad88d",
   "metadata": {},
   "outputs": [
    {
     "data": {
      "text/plain": [
       "'Machine Learning'"
      ]
     },
     "execution_count": 37,
     "metadata": {},
     "output_type": "execute_result"
    }
   ],
   "source": [
    "str1"
   ]
  },
  {
   "cell_type": "code",
   "execution_count": 39,
   "id": "59798383",
   "metadata": {},
   "outputs": [
    {
     "data": {
      "text/plain": [
       "''"
      ]
     },
     "execution_count": 39,
     "metadata": {},
     "output_type": "execute_result"
    }
   ],
   "source": [
    "str1[4:1]"
   ]
  },
  {
   "cell_type": "markdown",
   "id": "0be98cd2",
   "metadata": {},
   "source": [
    "### String Slicing with Negative Indexing"
   ]
  },
  {
   "cell_type": "code",
   "execution_count": 40,
   "id": "8f767637",
   "metadata": {},
   "outputs": [
    {
     "data": {
      "text/plain": [
       "16"
      ]
     },
     "execution_count": 40,
     "metadata": {},
     "output_type": "execute_result"
    }
   ],
   "source": [
    "str1='Velocity Classes'\n",
    "len(str1)"
   ]
  },
  {
   "cell_type": "code",
   "execution_count": 41,
   "id": "c4ceb15a",
   "metadata": {},
   "outputs": [
    {
     "data": {
      "text/plain": [
       "'eloc'"
      ]
     },
     "execution_count": 41,
     "metadata": {},
     "output_type": "execute_result"
    }
   ],
   "source": [
    "str1[1:5]"
   ]
  },
  {
   "cell_type": "code",
   "execution_count": 44,
   "id": "098de742",
   "metadata": {},
   "outputs": [
    {
     "data": {
      "text/plain": [
       "'Classe'"
      ]
     },
     "execution_count": 44,
     "metadata": {},
     "output_type": "execute_result"
    }
   ],
   "source": [
    "str1[-7:-1]"
   ]
  },
  {
   "cell_type": "code",
   "execution_count": 45,
   "id": "339841fa",
   "metadata": {},
   "outputs": [
    {
     "data": {
      "text/plain": [
       "''"
      ]
     },
     "execution_count": 45,
     "metadata": {},
     "output_type": "execute_result"
    }
   ],
   "source": [
    "str1[-7:-10]"
   ]
  },
  {
   "cell_type": "markdown",
   "id": "889ad027",
   "metadata": {},
   "source": [
    "### Reverse the string"
   ]
  },
  {
   "cell_type": "code",
   "execution_count": 47,
   "id": "1a9d8513",
   "metadata": {},
   "outputs": [
    {
     "data": {
      "text/plain": [
       "''"
      ]
     },
     "execution_count": 47,
     "metadata": {},
     "output_type": "execute_result"
    }
   ],
   "source": [
    "str1[-7:-1:-1]"
   ]
  },
  {
   "cell_type": "code",
   "execution_count": 48,
   "id": "c385ef57",
   "metadata": {},
   "outputs": [
    {
     "data": {
      "text/plain": [
       "'sessalC yticoleV'"
      ]
     },
     "execution_count": 48,
     "metadata": {},
     "output_type": "execute_result"
    }
   ],
   "source": [
    "str1[::-1]"
   ]
  },
  {
   "cell_type": "code",
   "execution_count": 49,
   "id": "a80e47bf",
   "metadata": {},
   "outputs": [
    {
     "data": {
      "text/plain": [
       "'Velocity Classes'"
      ]
     },
     "execution_count": 49,
     "metadata": {},
     "output_type": "execute_result"
    }
   ],
   "source": [
    "str1"
   ]
  },
  {
   "cell_type": "code",
   "execution_count": 50,
   "id": "5ce70a15",
   "metadata": {},
   "outputs": [
    {
     "data": {
      "text/plain": [
       "'sessalC'"
      ]
     },
     "execution_count": 50,
     "metadata": {},
     "output_type": "execute_result"
    }
   ],
   "source": [
    "str1[:8:-1]"
   ]
  },
  {
   "cell_type": "code",
   "execution_count": 52,
   "id": "bcbd3196",
   "metadata": {},
   "outputs": [
    {
     "data": {
      "text/plain": [
       "' yticoleV'"
      ]
     },
     "execution_count": 52,
     "metadata": {},
     "output_type": "execute_result"
    }
   ],
   "source": [
    "str1[8::-1]"
   ]
  },
  {
   "cell_type": "code",
   "execution_count": 56,
   "id": "9dd30919",
   "metadata": {},
   "outputs": [
    {
     "data": {
      "text/plain": [
       "' yticoleV'"
      ]
     },
     "execution_count": 56,
     "metadata": {},
     "output_type": "execute_result"
    }
   ],
   "source": [
    "str1[-8::-1]"
   ]
  },
  {
   "cell_type": "code",
   "execution_count": 57,
   "id": "e536ed6b",
   "metadata": {},
   "outputs": [
    {
     "data": {
      "text/plain": [
       "'Velocity Classes'"
      ]
     },
     "execution_count": 57,
     "metadata": {},
     "output_type": "execute_result"
    }
   ],
   "source": [
    "str1"
   ]
  },
  {
   "cell_type": "code",
   "execution_count": 60,
   "id": "76c6e2c0",
   "metadata": {},
   "outputs": [
    {
     "data": {
      "text/plain": [
       "'sessalC'"
      ]
     },
     "execution_count": 60,
     "metadata": {},
     "output_type": "execute_result"
    }
   ],
   "source": [
    "str1[:8:-1]"
   ]
  },
  {
   "cell_type": "code",
   "execution_count": 62,
   "id": "724a1500",
   "metadata": {},
   "outputs": [
    {
     "data": {
      "text/plain": [
       "' yticoleV'"
      ]
     },
     "execution_count": 62,
     "metadata": {},
     "output_type": "execute_result"
    }
   ],
   "source": [
    "str1[8::-1]"
   ]
  },
  {
   "cell_type": "code",
   "execution_count": 69,
   "id": "8b72e230",
   "metadata": {},
   "outputs": [
    {
     "data": {
      "text/plain": [
       "'ssCtoV'"
      ]
     },
     "execution_count": 69,
     "metadata": {},
     "output_type": "execute_result"
    }
   ],
   "source": [
    "str1[::-3]"
   ]
  },
  {
   "cell_type": "code",
   "execution_count": 65,
   "id": "60db2655",
   "metadata": {},
   "outputs": [
    {
     "data": {
      "text/plain": [
       "'Velocity Classes'"
      ]
     },
     "execution_count": 65,
     "metadata": {},
     "output_type": "execute_result"
    }
   ],
   "source": [
    "str1"
   ]
  },
  {
   "cell_type": "code",
   "execution_count": 70,
   "id": "28b86306",
   "metadata": {},
   "outputs": [
    {
     "data": {
      "text/plain": [
       "' Classes'"
      ]
     },
     "execution_count": 70,
     "metadata": {},
     "output_type": "execute_result"
    }
   ],
   "source": [
    "str1[8:]"
   ]
  },
  {
   "cell_type": "markdown",
   "id": "968e6bb3",
   "metadata": {},
   "source": [
    "### Adding of String"
   ]
  },
  {
   "cell_type": "code",
   "execution_count": 71,
   "id": "1e4804b6",
   "metadata": {},
   "outputs": [
    {
     "name": "stdout",
     "output_type": "stream",
     "text": [
      "<class 'str'>\n",
      "<class 'str'>\n"
     ]
    }
   ],
   "source": [
    "s1 = 'Python'\n",
    "s2 = 'Data Science'\n",
    "print(type(s1))\n",
    "print(type(s2))"
   ]
  },
  {
   "cell_type": "code",
   "execution_count": 72,
   "id": "ef347a00",
   "metadata": {},
   "outputs": [
    {
     "data": {
      "text/plain": [
       "'Python '"
      ]
     },
     "execution_count": 72,
     "metadata": {},
     "output_type": "execute_result"
    }
   ],
   "source": [
    "s1 = s1 + ' '\n",
    "s1"
   ]
  },
  {
   "cell_type": "code",
   "execution_count": 73,
   "id": "76744e9e",
   "metadata": {},
   "outputs": [
    {
     "ename": "TypeError",
     "evalue": "'str' object doesn't support item deletion",
     "output_type": "error",
     "traceback": [
      "\u001b[1;31m---------------------------------------------------------------------------\u001b[0m",
      "\u001b[1;31mTypeError\u001b[0m                                 Traceback (most recent call last)",
      "\u001b[1;32m<ipython-input-73-e827cf2a75bc>\u001b[0m in \u001b[0;36m<module>\u001b[1;34m\u001b[0m\n\u001b[1;32m----> 1\u001b[1;33m \u001b[1;32mdel\u001b[0m \u001b[0ms1\u001b[0m\u001b[1;33m[\u001b[0m\u001b[1;33m-\u001b[0m\u001b[1;36m1\u001b[0m\u001b[1;33m]\u001b[0m\u001b[1;33m\u001b[0m\u001b[1;33m\u001b[0m\u001b[0m\n\u001b[0m",
      "\u001b[1;31mTypeError\u001b[0m: 'str' object doesn't support item deletion"
     ]
    }
   ],
   "source": [
    "del s1[-1]"
   ]
  },
  {
   "cell_type": "code",
   "execution_count": 75,
   "id": "609f67f4",
   "metadata": {},
   "outputs": [
    {
     "data": {
      "text/plain": [
       "'Python ABC'"
      ]
     },
     "execution_count": 75,
     "metadata": {},
     "output_type": "execute_result"
    }
   ],
   "source": [
    "s1 = 'Python'\n",
    "s2 = 'Data Science'\n",
    "s1 = s1 + ' ' +'ABC'\n",
    "s1"
   ]
  },
  {
   "cell_type": "code",
   "execution_count": 76,
   "id": "a40a9105",
   "metadata": {},
   "outputs": [
    {
     "ename": "TypeError",
     "evalue": "unsupported operand type(s) for -: 'str' and 'str'",
     "output_type": "error",
     "traceback": [
      "\u001b[1;31m---------------------------------------------------------------------------\u001b[0m",
      "\u001b[1;31mTypeError\u001b[0m                                 Traceback (most recent call last)",
      "\u001b[1;32m<ipython-input-76-ea9722d1150f>\u001b[0m in \u001b[0;36m<module>\u001b[1;34m\u001b[0m\n\u001b[1;32m----> 1\u001b[1;33m \u001b[0ms1\u001b[0m\u001b[1;33m-\u001b[0m \u001b[1;34m'on'\u001b[0m\u001b[1;33m\u001b[0m\u001b[1;33m\u001b[0m\u001b[0m\n\u001b[0m",
      "\u001b[1;31mTypeError\u001b[0m: unsupported operand type(s) for -: 'str' and 'str'"
     ]
    }
   ],
   "source": [
    "s1- 'on'"
   ]
  },
  {
   "cell_type": "code",
   "execution_count": 77,
   "id": "1199e244",
   "metadata": {},
   "outputs": [
    {
     "data": {
      "text/plain": [
       "'Python ABCData Science'"
      ]
     },
     "execution_count": 77,
     "metadata": {},
     "output_type": "execute_result"
    }
   ],
   "source": [
    "s3 = s1 +s2\n",
    "s3"
   ]
  },
  {
   "cell_type": "code",
   "execution_count": 80,
   "id": "96d5ef9b",
   "metadata": {},
   "outputs": [
    {
     "data": {
      "text/plain": [
       "'PythonPythonPython'"
      ]
     },
     "execution_count": 80,
     "metadata": {},
     "output_type": "execute_result"
    }
   ],
   "source": [
    "s1 = 'Python'\n",
    "s2 = 'Data Science'\n",
    "s4 = s1 * 3\n",
    "s4"
   ]
  },
  {
   "cell_type": "code",
   "execution_count": 81,
   "id": "7bc3a33a",
   "metadata": {},
   "outputs": [
    {
     "data": {
      "text/plain": [
       "'PythonPython'"
      ]
     },
     "execution_count": 81,
     "metadata": {},
     "output_type": "execute_result"
    }
   ],
   "source": [
    "s1 +s1"
   ]
  },
  {
   "cell_type": "markdown",
   "id": "942d0744",
   "metadata": {},
   "source": [
    "concatination >> Addition"
   ]
  },
  {
   "cell_type": "code",
   "execution_count": 88,
   "id": "b8974427",
   "metadata": {},
   "outputs": [
    {
     "name": "stdout",
     "output_type": "stream",
     "text": [
      "nythop\n"
     ]
    }
   ],
   "source": [
    "s = 'python'\n",
    "a = s[-1] + s[1:len(s)-1] + s[0]\n",
    "print(a)"
   ]
  },
  {
   "cell_type": "code",
   "execution_count": 85,
   "id": "2fe7a764",
   "metadata": {},
   "outputs": [
    {
     "data": {
      "text/plain": [
       "'ytho'"
      ]
     },
     "execution_count": 85,
     "metadata": {},
     "output_type": "execute_result"
    }
   ],
   "source": [
    "s[1:-1]"
   ]
  },
  {
   "cell_type": "code",
   "execution_count": 86,
   "id": "71890e95",
   "metadata": {},
   "outputs": [
    {
     "data": {
      "text/plain": [
       "'ytho'"
      ]
     },
     "execution_count": 86,
     "metadata": {},
     "output_type": "execute_result"
    }
   ],
   "source": [
    "s[1:len(s)-1]"
   ]
  },
  {
   "cell_type": "code",
   "execution_count": 87,
   "id": "f5c702dd",
   "metadata": {},
   "outputs": [
    {
     "data": {
      "text/plain": [
       "'ytho'"
      ]
     },
     "execution_count": 87,
     "metadata": {},
     "output_type": "execute_result"
    }
   ],
   "source": [
    "s[1:5]"
   ]
  },
  {
   "cell_type": "markdown",
   "id": "e84de3b7",
   "metadata": {},
   "source": [
    "### String Casting"
   ]
  },
  {
   "cell_type": "code",
   "execution_count": 98,
   "id": "fe63133d",
   "metadata": {},
   "outputs": [
    {
     "name": "stdout",
     "output_type": "stream",
     "text": [
      "Data\n"
     ]
    }
   ],
   "source": [
    "string = input() "
   ]
  },
  {
   "cell_type": "code",
   "execution_count": 97,
   "id": "7deb7aca",
   "metadata": {},
   "outputs": [
    {
     "name": "stdout",
     "output_type": "stream",
     "text": [
      "Enter a value for str1: Concat\n"
     ]
    },
    {
     "data": {
      "text/plain": [
       "'Concat'"
      ]
     },
     "execution_count": 97,
     "metadata": {},
     "output_type": "execute_result"
    }
   ],
   "source": [
    "str1 = input('Enter a value for str1: ') \n",
    "str1    # Data type of variable will be string"
   ]
  },
  {
   "cell_type": "code",
   "execution_count": 99,
   "id": "889a6131",
   "metadata": {},
   "outputs": [
    {
     "data": {
      "text/plain": [
       "str"
      ]
     },
     "execution_count": 99,
     "metadata": {},
     "output_type": "execute_result"
    }
   ],
   "source": [
    "type(str1)"
   ]
  },
  {
   "cell_type": "code",
   "execution_count": 100,
   "id": "b55b98b5",
   "metadata": {},
   "outputs": [
    {
     "name": "stdout",
     "output_type": "stream",
     "text": [
      "Enter a number: 12\n"
     ]
    }
   ],
   "source": [
    "str2= input('Enter a number: ')"
   ]
  },
  {
   "cell_type": "code",
   "execution_count": 101,
   "id": "e722605d",
   "metadata": {},
   "outputs": [
    {
     "data": {
      "text/plain": [
       "str"
      ]
     },
     "execution_count": 101,
     "metadata": {},
     "output_type": "execute_result"
    }
   ],
   "source": [
    "type(str2)"
   ]
  },
  {
   "cell_type": "code",
   "execution_count": 102,
   "id": "b23ce831",
   "metadata": {},
   "outputs": [
    {
     "name": "stdout",
     "output_type": "stream",
     "text": [
      "Value of a is 1234 and its datatype is <class 'int'>\n"
     ]
    }
   ],
   "source": [
    "str3 = '1234'\n",
    "a = int(str3)\n",
    "print(f'Value of a is {a} and its datatype is {type(a)}')"
   ]
  },
  {
   "cell_type": "code",
   "execution_count": 103,
   "id": "44547c89",
   "metadata": {},
   "outputs": [
    {
     "data": {
      "text/plain": [
       "int"
      ]
     },
     "execution_count": 103,
     "metadata": {},
     "output_type": "execute_result"
    }
   ],
   "source": [
    "type(a)"
   ]
  },
  {
   "cell_type": "code",
   "execution_count": 104,
   "id": "7e59922c",
   "metadata": {},
   "outputs": [
    {
     "ename": "ValueError",
     "evalue": "invalid literal for int() with base 10: '1234.34'",
     "output_type": "error",
     "traceback": [
      "\u001b[1;31m---------------------------------------------------------------------------\u001b[0m",
      "\u001b[1;31mValueError\u001b[0m                                Traceback (most recent call last)",
      "\u001b[1;32m<ipython-input-104-4bf6bc4e31e1>\u001b[0m in \u001b[0;36m<module>\u001b[1;34m\u001b[0m\n\u001b[0;32m      1\u001b[0m \u001b[0mstr3\u001b[0m \u001b[1;33m=\u001b[0m \u001b[1;34m'1234.34'\u001b[0m\u001b[1;33m\u001b[0m\u001b[1;33m\u001b[0m\u001b[0m\n\u001b[1;32m----> 2\u001b[1;33m \u001b[0ma\u001b[0m \u001b[1;33m=\u001b[0m \u001b[0mint\u001b[0m\u001b[1;33m(\u001b[0m\u001b[0mstr3\u001b[0m\u001b[1;33m)\u001b[0m\u001b[1;33m\u001b[0m\u001b[1;33m\u001b[0m\u001b[0m\n\u001b[0m\u001b[0;32m      3\u001b[0m \u001b[0mprint\u001b[0m\u001b[1;33m(\u001b[0m\u001b[1;34mf'Value of a is {a} and its datatype is {type(a)}'\u001b[0m\u001b[1;33m)\u001b[0m\u001b[1;33m\u001b[0m\u001b[1;33m\u001b[0m\u001b[0m\n",
      "\u001b[1;31mValueError\u001b[0m: invalid literal for int() with base 10: '1234.34'"
     ]
    }
   ],
   "source": [
    "str3 = '1234.34'\n",
    "a = int(str3)\n",
    "print(f'Value of a is {a} and its datatype is {type(a)}')"
   ]
  },
  {
   "cell_type": "code",
   "execution_count": 105,
   "id": "10a0c945",
   "metadata": {},
   "outputs": [
    {
     "name": "stdout",
     "output_type": "stream",
     "text": [
      "Value of a is 1234.34 and its datatype is <class 'float'>\n"
     ]
    }
   ],
   "source": [
    "str3 = '1234.34'\n",
    "a = float(str3)\n",
    "print(f'Value of a is {a} and its datatype is {type(a)}')"
   ]
  },
  {
   "cell_type": "code",
   "execution_count": 106,
   "id": "61ce372a",
   "metadata": {},
   "outputs": [
    {
     "name": "stdout",
     "output_type": "stream",
     "text": [
      "Value of a is 1234.0 and its datatype is <class 'float'>\n"
     ]
    }
   ],
   "source": [
    "str3 = '1234'\n",
    "a = float(str3)\n",
    "print(f'Value of a is {a} and its datatype is {type(a)}')"
   ]
  },
  {
   "cell_type": "code",
   "execution_count": 107,
   "id": "a2bb7d71",
   "metadata": {},
   "outputs": [
    {
     "name": "stdout",
     "output_type": "stream",
     "text": [
      "Value of a is 1234 and its datatype is <class 'int'>\n",
      "2234\n"
     ]
    }
   ],
   "source": [
    "str3 = '1234'\n",
    "a = int(str3)\n",
    "print(f'Value of a is {a} and its datatype is {type(a)}')\n",
    "print(a+1000)"
   ]
  },
  {
   "cell_type": "code",
   "execution_count": null,
   "id": "086e26c0",
   "metadata": {},
   "outputs": [],
   "source": []
  }
 ],
 "metadata": {
  "kernelspec": {
   "display_name": "Python 3",
   "language": "python",
   "name": "python3"
  },
  "language_info": {
   "codemirror_mode": {
    "name": "ipython",
    "version": 3
   },
   "file_extension": ".py",
   "mimetype": "text/x-python",
   "name": "python",
   "nbconvert_exporter": "python",
   "pygments_lexer": "ipython3",
   "version": "3.8.8"
  }
 },
 "nbformat": 4,
 "nbformat_minor": 5
}
