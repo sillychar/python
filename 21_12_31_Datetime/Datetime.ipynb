{
 "cells": [
  {
   "cell_type": "code",
   "execution_count": 1,
   "id": "d14a8774",
   "metadata": {},
   "outputs": [],
   "source": [
    "import time\n",
    "import datetime"
   ]
  },
  {
   "cell_type": "code",
   "execution_count": null,
   "id": "341f61b7",
   "metadata": {},
   "outputs": [],
   "source": [
    "d1 = 31-12-2021\n",
    "d2 = 31-Dec-2021\n",
    "d3 = 31/12/2021\n",
    "d4 = 31 Dec 2021\n",
    "d5 = 2021/12/31\n",
    "\n",
    "year month day"
   ]
  },
  {
   "cell_type": "code",
   "execution_count": null,
   "id": "b9e3dcf0",
   "metadata": {},
   "outputs": [],
   "source": [
    "absolute time >> it measured from a fixed point( unix epoch 1st jan 1970)"
   ]
  },
  {
   "cell_type": "code",
   "execution_count": 3,
   "id": "002cb4fc",
   "metadata": {},
   "outputs": [
    {
     "data": {
      "text/plain": [
       "1640918614.4013186"
      ]
     },
     "execution_count": 3,
     "metadata": {},
     "output_type": "execute_result"
    }
   ],
   "source": [
    "time.time()"
   ]
  },
  {
   "cell_type": "code",
   "execution_count": 8,
   "id": "d91cf90c",
   "metadata": {},
   "outputs": [
    {
     "name": "stdout",
     "output_type": "stream",
     "text": [
      "Start_time : 1640919052.9451215\n",
      "Time taken to execute a code is : 6.463120937347412\n"
     ]
    }
   ],
   "source": [
    "start_time = time.time()\n",
    "print('Start_time :',start_time)\n",
    "\n",
    "for i in range(200000000):\n",
    "    pass\n",
    "\n",
    "end_time = time.time()\n",
    "print('Time taken to execute a code is :',end_time-start_time)"
   ]
  },
  {
   "cell_type": "code",
   "execution_count": 13,
   "id": "d6aaca3a",
   "metadata": {},
   "outputs": [
    {
     "name": "stdout",
     "output_type": "stream",
     "text": [
      "Start_time : 1640919453.430745\n",
      "Time taken to execute a code is : 3.7763442993164062\n"
     ]
    }
   ],
   "source": [
    "def test_time():\n",
    "    for i in range(100000000):\n",
    "        pass\n",
    "    for i in range(100000000):\n",
    "        pass\n",
    "\n",
    "start_time = time.time()\n",
    "print('Start_time :',start_time)\n",
    " \n",
    "test_time()\n",
    "\n",
    "end_time = time.time()\n",
    "print('Time taken to execute a code is :',end_time-start_time)"
   ]
  },
  {
   "cell_type": "code",
   "execution_count": 14,
   "id": "16671562",
   "metadata": {},
   "outputs": [
    {
     "name": "stdout",
     "output_type": "stream",
     "text": [
      "Time taken to execute a code is : 3.566230535507202\n"
     ]
    }
   ],
   "source": [
    "def test_time():\n",
    "    for i in range(100000000):\n",
    "        pass\n",
    "    for i in range(100000000):\n",
    "        pass\n",
    "\n",
    "start_time = time.time()\n",
    "\n",
    " \n",
    "test_time()\n",
    "\n",
    "end_time = time.time()\n",
    "\n",
    "total_time = end_time-start_time\n",
    "print('Time taken to execute a code is :',total_time)"
   ]
  },
  {
   "cell_type": "code",
   "execution_count": 15,
   "id": "5b07b1aa",
   "metadata": {},
   "outputs": [
    {
     "data": {
      "text/plain": [
       "1325.7429956"
      ]
     },
     "execution_count": 15,
     "metadata": {},
     "output_type": "execute_result"
    }
   ],
   "source": [
    "# relative time >> it has no relation with real-world time\n",
    "time.perf_counter()"
   ]
  },
  {
   "cell_type": "code",
   "execution_count": 18,
   "id": "19896454",
   "metadata": {},
   "outputs": [
    {
     "data": {
      "text/plain": [
       "1583.2122614"
      ]
     },
     "execution_count": 18,
     "metadata": {},
     "output_type": "execute_result"
    }
   ],
   "source": [
    "time.perf_counter()"
   ]
  },
  {
   "cell_type": "code",
   "execution_count": 17,
   "id": "30c6fedf",
   "metadata": {},
   "outputs": [
    {
     "data": {
      "text/plain": [
       "1572369051800"
      ]
     },
     "execution_count": 17,
     "metadata": {},
     "output_type": "execute_result"
    }
   ],
   "source": [
    "time.perf_counter_ns()"
   ]
  },
  {
   "cell_type": "code",
   "execution_count": 19,
   "id": "0c76f623",
   "metadata": {},
   "outputs": [
    {
     "name": "stdout",
     "output_type": "stream",
     "text": [
      "Time taken to execute a code is : 3.534209400000009\n"
     ]
    }
   ],
   "source": [
    "def test_time():\n",
    "    for i in range(100000000):\n",
    "        pass\n",
    "    for i in range(100000000):\n",
    "        pass\n",
    "\n",
    "start_time = time.perf_counter()\n",
    "\n",
    " \n",
    "test_time()\n",
    "\n",
    "end_time = time.perf_counter()\n",
    "\n",
    "total_time = end_time-start_time\n",
    "print('Time taken to execute a code is :',total_time)"
   ]
  },
  {
   "cell_type": "markdown",
   "id": "a0cdcf74",
   "metadata": {},
   "source": [
    "## Datetime"
   ]
  },
  {
   "cell_type": "markdown",
   "id": "9ba44992",
   "metadata": {},
   "source": [
    "### 1. Current DateTime"
   ]
  },
  {
   "cell_type": "code",
   "execution_count": 20,
   "id": "6b3d3f43",
   "metadata": {},
   "outputs": [],
   "source": [
    "import datetime"
   ]
  },
  {
   "cell_type": "code",
   "execution_count": 25,
   "id": "33c0869f",
   "metadata": {},
   "outputs": [
    {
     "name": "stdout",
     "output_type": "stream",
     "text": [
      "Current Time : 2021-12-31 08:38:36.956068\n"
     ]
    }
   ],
   "source": [
    "current_time = datetime.datetime.now()\n",
    "print('Current Time :',current_time)"
   ]
  },
  {
   "cell_type": "code",
   "execution_count": 26,
   "id": "d493b919",
   "metadata": {},
   "outputs": [
    {
     "name": "stdout",
     "output_type": "stream",
     "text": [
      "Current Time : 2021-12-31 08:39:31.400748\n"
     ]
    }
   ],
   "source": [
    "current_time = datetime.datetime.today()\n",
    "print('Current Time :',current_time)"
   ]
  },
  {
   "cell_type": "code",
   "execution_count": 28,
   "id": "f5c17b86",
   "metadata": {},
   "outputs": [
    {
     "name": "stdout",
     "output_type": "stream",
     "text": [
      "Current Time : 2021-12-31 08:40:22.770700\n"
     ]
    }
   ],
   "source": [
    "from datetime import datetime\n",
    "\n",
    "current_time = datetime.now()\n",
    "print('Current Time :',current_time)"
   ]
  },
  {
   "cell_type": "code",
   "execution_count": 29,
   "id": "78af1ab7",
   "metadata": {},
   "outputs": [
    {
     "name": "stdout",
     "output_type": "stream",
     "text": [
      "Current Time : 2021-12-31 08:41:01.836783\n"
     ]
    }
   ],
   "source": [
    "current_time = datetime.now()\n",
    "print('Current Time :',current_time)"
   ]
  },
  {
   "cell_type": "code",
   "execution_count": 30,
   "id": "b2a70bc0",
   "metadata": {},
   "outputs": [
    {
     "data": {
      "text/plain": [
       "datetime.datetime(2021, 12, 31, 8, 41, 1, 836783)"
      ]
     },
     "execution_count": 30,
     "metadata": {},
     "output_type": "execute_result"
    }
   ],
   "source": [
    "current_time"
   ]
  },
  {
   "cell_type": "code",
   "execution_count": 31,
   "id": "e36a6869",
   "metadata": {},
   "outputs": [
    {
     "data": {
      "text/plain": [
       "2021"
      ]
     },
     "execution_count": 31,
     "metadata": {},
     "output_type": "execute_result"
    }
   ],
   "source": [
    "current_time.year"
   ]
  },
  {
   "cell_type": "code",
   "execution_count": 32,
   "id": "5affc453",
   "metadata": {},
   "outputs": [
    {
     "data": {
      "text/plain": [
       "12"
      ]
     },
     "execution_count": 32,
     "metadata": {},
     "output_type": "execute_result"
    }
   ],
   "source": [
    "current_time.month"
   ]
  },
  {
   "cell_type": "code",
   "execution_count": 33,
   "id": "35bf1ef3",
   "metadata": {},
   "outputs": [
    {
     "data": {
      "text/plain": [
       "31"
      ]
     },
     "execution_count": 33,
     "metadata": {},
     "output_type": "execute_result"
    }
   ],
   "source": [
    "current_time.day"
   ]
  },
  {
   "cell_type": "code",
   "execution_count": 34,
   "id": "8d544423",
   "metadata": {},
   "outputs": [
    {
     "data": {
      "text/plain": [
       "8"
      ]
     },
     "execution_count": 34,
     "metadata": {},
     "output_type": "execute_result"
    }
   ],
   "source": [
    "current_time.hour"
   ]
  },
  {
   "cell_type": "code",
   "execution_count": 35,
   "id": "d2a3dd10",
   "metadata": {},
   "outputs": [
    {
     "data": {
      "text/plain": [
       "41"
      ]
     },
     "execution_count": 35,
     "metadata": {},
     "output_type": "execute_result"
    }
   ],
   "source": [
    "current_time.minute"
   ]
  },
  {
   "cell_type": "code",
   "execution_count": 38,
   "id": "1fe05ab6",
   "metadata": {},
   "outputs": [
    {
     "name": "stdout",
     "output_type": "stream",
     "text": [
      "2021-12-31\n"
     ]
    }
   ],
   "source": [
    "print(current_time.date())"
   ]
  },
  {
   "cell_type": "code",
   "execution_count": 39,
   "id": "f62af0c9",
   "metadata": {},
   "outputs": [
    {
     "name": "stdout",
     "output_type": "stream",
     "text": [
      "08:41:01.836783\n"
     ]
    }
   ],
   "source": [
    "print(current_time.time())"
   ]
  },
  {
   "cell_type": "markdown",
   "id": "cee72442",
   "metadata": {},
   "source": [
    "### TimeDelta"
   ]
  },
  {
   "cell_type": "code",
   "execution_count": 40,
   "id": "4e00a024",
   "metadata": {},
   "outputs": [
    {
     "name": "stdout",
     "output_type": "stream",
     "text": [
      "2021-12-31 08:41:01.836783\n"
     ]
    }
   ],
   "source": [
    "print(current_time)"
   ]
  },
  {
   "cell_type": "code",
   "execution_count": 43,
   "id": "8a8e9d80",
   "metadata": {},
   "outputs": [
    {
     "name": "stdout",
     "output_type": "stream",
     "text": [
      "2021-12-31 08:46:06.747135\n"
     ]
    }
   ],
   "source": [
    "import datetime\n",
    "current_time = datetime.datetime.now()\n",
    "print(current_time)"
   ]
  },
  {
   "cell_type": "code",
   "execution_count": 44,
   "id": "d97b1862",
   "metadata": {},
   "outputs": [
    {
     "name": "stdout",
     "output_type": "stream",
     "text": [
      "2021-12-01 08:46:06.747135\n"
     ]
    }
   ],
   "source": [
    "new = current_time + datetime.timedelta(days = -30)\n",
    "print(new)"
   ]
  },
  {
   "cell_type": "code",
   "execution_count": 45,
   "id": "d29a49dc",
   "metadata": {},
   "outputs": [
    {
     "name": "stdout",
     "output_type": "stream",
     "text": [
      "2022-01-30 08:46:06.747135\n"
     ]
    }
   ],
   "source": [
    "new = current_time + datetime.timedelta(days = 30)\n",
    "print(new)"
   ]
  },
  {
   "cell_type": "code",
   "execution_count": 46,
   "id": "52927e3a",
   "metadata": {},
   "outputs": [
    {
     "name": "stdout",
     "output_type": "stream",
     "text": [
      "2022-01-14 08:46:06.747135\n"
     ]
    }
   ],
   "source": [
    "new = current_time + datetime.timedelta(weeks = 2)\n",
    "print(new)"
   ]
  },
  {
   "cell_type": "code",
   "execution_count": 47,
   "id": "ceba9ab9",
   "metadata": {},
   "outputs": [
    {
     "name": "stdout",
     "output_type": "stream",
     "text": [
      "2021-12-17 08:46:06.747135\n"
     ]
    }
   ],
   "source": [
    "new = current_time + datetime.timedelta(weeks = -2)\n",
    "print(new)"
   ]
  },
  {
   "cell_type": "code",
   "execution_count": 48,
   "id": "582b4d32",
   "metadata": {},
   "outputs": [
    {
     "name": "stdout",
     "output_type": "stream",
     "text": [
      "2021-12-31 12:46:06.747135\n"
     ]
    }
   ],
   "source": [
    "new = current_time + datetime.timedelta(hours = 4)\n",
    "print(new)"
   ]
  },
  {
   "cell_type": "markdown",
   "id": "c2e2f824",
   "metadata": {},
   "source": [
    "#### last 10 days and next 10 days"
   ]
  },
  {
   "cell_type": "code",
   "execution_count": 54,
   "id": "0dbed9f6",
   "metadata": {},
   "outputs": [
    {
     "name": "stdout",
     "output_type": "stream",
     "text": [
      "Current_date: 2021-12-31\n",
      "2022-01-01\n",
      "2022-01-02\n",
      "2022-01-03\n",
      "2022-01-04\n",
      "2022-01-05\n",
      "2022-01-06\n",
      "2022-01-07\n",
      "2022-01-08\n",
      "2022-01-09\n",
      "2022-01-10\n",
      "\n",
      "2021-12-30\n",
      "2021-12-29\n",
      "2021-12-28\n",
      "2021-12-27\n",
      "2021-12-26\n",
      "2021-12-25\n",
      "2021-12-24\n",
      "2021-12-23\n",
      "2021-12-22\n",
      "2021-12-21\n"
     ]
    }
   ],
   "source": [
    "current_date = datetime.datetime.now().date()\n",
    "print('Current_date:',current_date)\n",
    "\n",
    "for i in range(1,11):\n",
    "    day = current_date + datetime.timedelta(days = i)\n",
    "    print(day)\n",
    "print()\n",
    "for i in range(1,11):\n",
    "    day = current_date + datetime.timedelta(days = -i)\n",
    "    print(day)"
   ]
  },
  {
   "cell_type": "code",
   "execution_count": null,
   "id": "28a91fa6",
   "metadata": {},
   "outputs": [],
   "source": []
  },
  {
   "cell_type": "code",
   "execution_count": null,
   "id": "75e7c99c",
   "metadata": {},
   "outputs": [],
   "source": []
  },
  {
   "cell_type": "code",
   "execution_count": null,
   "id": "f31b0d9a",
   "metadata": {},
   "outputs": [],
   "source": []
  },
  {
   "cell_type": "code",
   "execution_count": null,
   "id": "7234da66",
   "metadata": {},
   "outputs": [],
   "source": []
  },
  {
   "cell_type": "code",
   "execution_count": null,
   "id": "4627e257",
   "metadata": {},
   "outputs": [],
   "source": []
  }
 ],
 "metadata": {
  "kernelspec": {
   "display_name": "Python 3 (ipykernel)",
   "language": "python",
   "name": "python3"
  },
  "language_info": {
   "codemirror_mode": {
    "name": "ipython",
    "version": 3
   },
   "file_extension": ".py",
   "mimetype": "text/x-python",
   "name": "python",
   "nbconvert_exporter": "python",
   "pygments_lexer": "ipython3",
   "version": "3.9.7"
  }
 },
 "nbformat": 4,
 "nbformat_minor": 5
}
