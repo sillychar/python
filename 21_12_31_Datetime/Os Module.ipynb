{
 "cells": [
  {
   "cell_type": "code",
   "execution_count": 1,
   "id": "9806ffb9",
   "metadata": {},
   "outputs": [],
   "source": [
    "import os"
   ]
  },
  {
   "cell_type": "code",
   "execution_count": 23,
   "id": "ce9686c2",
   "metadata": {},
   "outputs": [
    {
     "data": {
      "text/plain": [
       "['.ipynb_checkpoints',\n",
       " 'best fit line.gif',\n",
       " 'certificate.jpg',\n",
       " 'Customers.csv',\n",
       " 'cv006_15448.txt',\n",
       " 'cv007_4968.txt',\n",
       " 'cv008_29435.txt',\n",
       " 'cv009_29592.txt',\n",
       " 'cv010_29198.txt',\n",
       " 'cv011_12166.txt',\n",
       " 'cv012_29576.txt',\n",
       " 'cv013_10159.txt',\n",
       " 'Gradient Descent.png',\n",
       " 'OS Module.ipynb',\n",
       " 'person_details.json',\n",
       " 'risks-09-00042-v2.pdf']"
      ]
     },
     "execution_count": 23,
     "metadata": {},
     "output_type": "execute_result"
    }
   ],
   "source": [
    "files= os.listdir(r'G:\\Velocity 20 NOV\\12_31_Datetime\\Data')\n",
    "files"
   ]
  },
  {
   "cell_type": "code",
   "execution_count": 25,
   "id": "dec77eef",
   "metadata": {},
   "outputs": [
    {
     "name": "stdout",
     "output_type": "stream",
     "text": [
      "cv006_15448.txt\n",
      "cv007_4968.txt\n",
      "cv008_29435.txt\n",
      "cv009_29592.txt\n",
      "cv010_29198.txt\n",
      "cv011_12166.txt\n",
      "cv012_29576.txt\n",
      "cv013_10159.txt\n"
     ]
    }
   ],
   "source": [
    "# rename files in Jupyter notebook's directory\n",
    "for i, file in enumerate(files):\n",
    "    if file.endswith('.txt'):\n",
    "        print(file)\n",
    "        new_file =f'file{i}.txt'\n",
    "        file = os.getcwd() + '\\\\Data\\\\'+ file\n",
    "        \n",
    "        os.rename(file,new_file)"
   ]
  },
  {
   "cell_type": "code",
   "execution_count": 17,
   "id": "9dc8f210",
   "metadata": {},
   "outputs": [
    {
     "data": {
      "text/plain": [
       "'G:\\\\Velocity 20 NOV\\\\12_31_Datetime'"
      ]
     },
     "execution_count": 17,
     "metadata": {},
     "output_type": "execute_result"
    }
   ],
   "source": [
    "G:\\\\Velocity 20 NOV\\\\12_31_Datetime\\\\Data\\\\cv006_15448.txt"
   ]
  },
  {
   "cell_type": "code",
   "execution_count": 19,
   "id": "eca98cfb",
   "metadata": {},
   "outputs": [
    {
     "ename": "FileNotFoundError",
     "evalue": "[WinError 3] The system cannot find the path specified: 'Data'",
     "output_type": "error",
     "traceback": [
      "\u001b[1;31m---------------------------------------------------------------------------\u001b[0m",
      "\u001b[1;31mFileNotFoundError\u001b[0m                         Traceback (most recent call last)",
      "\u001b[1;32m<ipython-input-19-a78550b52525>\u001b[0m in \u001b[0;36m<module>\u001b[1;34m\u001b[0m\n\u001b[1;32m----> 1\u001b[1;33m \u001b[0mfiles\u001b[0m\u001b[1;33m=\u001b[0m \u001b[0mos\u001b[0m\u001b[1;33m.\u001b[0m\u001b[0mlistdir\u001b[0m\u001b[1;33m(\u001b[0m\u001b[1;34m'Data'\u001b[0m\u001b[1;33m)\u001b[0m\u001b[1;33m\u001b[0m\u001b[1;33m\u001b[0m\u001b[0m\n\u001b[0m",
      "\u001b[1;31mFileNotFoundError\u001b[0m: [WinError 3] The system cannot find the path specified: 'Data'"
     ]
    }
   ],
   "source": [
    "files= os.listdir('Data')"
   ]
  },
  {
   "cell_type": "markdown",
   "id": "1bc462ac",
   "metadata": {},
   "source": [
    "## *******"
   ]
  },
  {
   "cell_type": "code",
   "execution_count": 26,
   "id": "455c2ed5",
   "metadata": {},
   "outputs": [
    {
     "data": {
      "text/plain": [
       "['.ipynb_checkpoints',\n",
       " 'best fit line.gif',\n",
       " 'certificate.jpg',\n",
       " 'Customers.csv',\n",
       " 'cv006_15448.txt',\n",
       " 'cv007_4968.txt',\n",
       " 'cv008_29435.txt',\n",
       " 'cv009_29592.txt',\n",
       " 'cv010_29198.txt',\n",
       " 'cv011_12166.txt',\n",
       " 'cv012_29576.txt',\n",
       " 'cv013_10159.txt',\n",
       " 'Gradient Descent.png',\n",
       " 'OS Module.ipynb',\n",
       " 'person_details.json',\n",
       " 'risks-09-00042-v2.pdf']"
      ]
     },
     "execution_count": 26,
     "metadata": {},
     "output_type": "execute_result"
    }
   ],
   "source": [
    "files= os.listdir(r'G:\\Velocity 20 NOV\\12_31_Datetime\\Data')\n",
    "files"
   ]
  },
  {
   "cell_type": "code",
   "execution_count": 31,
   "id": "4403d8e5",
   "metadata": {},
   "outputs": [],
   "source": [
    "# rename file in same directory\n",
    "for i, file in enumerate(files):\n",
    "    if file.endswith('.txt'):\n",
    "#         print(file)\n",
    "        new_file = os.getcwd() + '\\\\Data\\\\'+ f'file{i}.txt' # G:\\Velocity 20 NOV\\12_31_Datetime\\Data\\file4.txt\n",
    "#         print(new_file)\n",
    "        file = os.getcwd() + '\\\\Data\\\\'+ file   # G:\\Velocity 20 NOV\\12_31_Datetime\\Data\\cv006_15448.txt\n",
    "#         print(file)\n",
    "        os.rename(file,new_file)"
   ]
  },
  {
   "cell_type": "code",
   "execution_count": 33,
   "id": "305a1c75",
   "metadata": {},
   "outputs": [
    {
     "data": {
      "text/plain": [
       "'G:\\\\Velocity 20 NOV\\\\12_31_Datetime\\\\Data\\\\'"
      ]
     },
     "execution_count": 33,
     "metadata": {},
     "output_type": "execute_result"
    }
   ],
   "source": [
    "os.getcwd() + '\\\\Data\\\\'"
   ]
  },
  {
   "cell_type": "code",
   "execution_count": 36,
   "id": "c6516174",
   "metadata": {},
   "outputs": [
    {
     "name": "stdout",
     "output_type": "stream",
     "text": [
      "cv006_15448.txt\n",
      "0\n",
      "cv007_4968.txt\n",
      "1\n",
      "cv008_29435.txt\n",
      "2\n",
      "cv009_29592.txt\n",
      "3\n",
      "cv010_29198.txt\n",
      "4\n",
      "cv011_12166.txt\n",
      "5\n",
      "cv012_29576.txt\n",
      "6\n",
      "cv013_10159.txt\n",
      "7\n"
     ]
    }
   ],
   "source": [
    "a=0\n",
    "for file in files:\n",
    "    if file.endswith('.txt'):\n",
    "        print(file)\n",
    "        print(a)\n",
    "        a+=1"
   ]
  },
  {
   "cell_type": "code",
   "execution_count": 38,
   "id": "c82b336e",
   "metadata": {},
   "outputs": [],
   "source": [
    "# Change Current dir\n",
    "os.chdir(os.getcwd() + '\\\\Data\\\\')"
   ]
  },
  {
   "cell_type": "code",
   "execution_count": 39,
   "id": "6ac076a4",
   "metadata": {},
   "outputs": [
    {
     "data": {
      "text/plain": [
       "'G:\\\\Velocity 20 NOV\\\\12_31_Datetime\\\\Data'"
      ]
     },
     "execution_count": 39,
     "metadata": {},
     "output_type": "execute_result"
    }
   ],
   "source": [
    "os.getcwd()"
   ]
  },
  {
   "cell_type": "code",
   "execution_count": 41,
   "id": "3e25da8d",
   "metadata": {},
   "outputs": [],
   "source": [
    "os.chdir(r'G:\\Velocity 20 NOV\\12_31_Datetime')"
   ]
  },
  {
   "cell_type": "code",
   "execution_count": 42,
   "id": "4a7784b2",
   "metadata": {},
   "outputs": [
    {
     "data": {
      "text/plain": [
       "'G:\\\\Velocity 20 NOV\\\\12_31_Datetime'"
      ]
     },
     "execution_count": 42,
     "metadata": {},
     "output_type": "execute_result"
    }
   ],
   "source": [
    "os.getcwd()"
   ]
  },
  {
   "cell_type": "code",
   "execution_count": 55,
   "id": "c009c9b6",
   "metadata": {},
   "outputs": [
    {
     "data": {
      "text/plain": [
       "True"
      ]
     },
     "execution_count": 55,
     "metadata": {},
     "output_type": "execute_result"
    }
   ],
   "source": [
    "# Checks for file\n",
    "os.path.isfile(os.getcwd()+'\\\\file4.txt')"
   ]
  },
  {
   "cell_type": "code",
   "execution_count": 57,
   "id": "13ee3cf0",
   "metadata": {},
   "outputs": [
    {
     "data": {
      "text/plain": [
       "True"
      ]
     },
     "execution_count": 57,
     "metadata": {},
     "output_type": "execute_result"
    }
   ],
   "source": [
    "os.path.isfile('file4.txt')"
   ]
  },
  {
   "cell_type": "code",
   "execution_count": 50,
   "id": "cbf1b009",
   "metadata": {},
   "outputs": [
    {
     "data": {
      "text/plain": [
       "True"
      ]
     },
     "execution_count": 50,
     "metadata": {},
     "output_type": "execute_result"
    }
   ],
   "source": [
    "os.path.isdir(os.getcwd())"
   ]
  },
  {
   "cell_type": "code",
   "execution_count": 51,
   "id": "b83cfd5a",
   "metadata": {},
   "outputs": [
    {
     "data": {
      "text/plain": [
       "'G:\\\\Velocity 20 NOV\\\\12_31_Datetime'"
      ]
     },
     "execution_count": 51,
     "metadata": {},
     "output_type": "execute_result"
    }
   ],
   "source": [
    "os.getcwd()"
   ]
  },
  {
   "cell_type": "code",
   "execution_count": 54,
   "id": "9fab6ea5",
   "metadata": {},
   "outputs": [
    {
     "data": {
      "text/plain": [
       "['.ipynb_checkpoints',\n",
       " 'Data',\n",
       " 'file10.txt',\n",
       " 'file11.txt',\n",
       " 'file4.txt',\n",
       " 'file5.txt',\n",
       " 'file6.txt',\n",
       " 'file7.txt',\n",
       " 'file8.txt',\n",
       " 'file9.txt',\n",
       " 'Os Module.ipynb']"
      ]
     },
     "execution_count": 54,
     "metadata": {},
     "output_type": "execute_result"
    }
   ],
   "source": [
    "os.listdir(os.getcwd())"
   ]
  },
  {
   "cell_type": "code",
   "execution_count": 58,
   "id": "7908002d",
   "metadata": {},
   "outputs": [
    {
     "data": {
      "text/plain": [
       "['DirEntry',\n",
       " 'F_OK',\n",
       " 'MutableMapping',\n",
       " 'O_APPEND',\n",
       " 'O_BINARY',\n",
       " 'O_CREAT',\n",
       " 'O_EXCL',\n",
       " 'O_NOINHERIT',\n",
       " 'O_RANDOM',\n",
       " 'O_RDONLY',\n",
       " 'O_RDWR',\n",
       " 'O_SEQUENTIAL',\n",
       " 'O_SHORT_LIVED',\n",
       " 'O_TEMPORARY',\n",
       " 'O_TEXT',\n",
       " 'O_TRUNC',\n",
       " 'O_WRONLY',\n",
       " 'P_DETACH',\n",
       " 'P_NOWAIT',\n",
       " 'P_NOWAITO',\n",
       " 'P_OVERLAY',\n",
       " 'P_WAIT',\n",
       " 'PathLike',\n",
       " 'R_OK',\n",
       " 'SEEK_CUR',\n",
       " 'SEEK_END',\n",
       " 'SEEK_SET',\n",
       " 'TMP_MAX',\n",
       " 'W_OK',\n",
       " 'X_OK',\n",
       " '_AddedDllDirectory',\n",
       " '_Environ',\n",
       " '__all__',\n",
       " '__builtins__',\n",
       " '__cached__',\n",
       " '__doc__',\n",
       " '__file__',\n",
       " '__loader__',\n",
       " '__name__',\n",
       " '__package__',\n",
       " '__spec__',\n",
       " '_check_methods',\n",
       " '_execvpe',\n",
       " '_exists',\n",
       " '_exit',\n",
       " '_fspath',\n",
       " '_get_exports_list',\n",
       " '_putenv',\n",
       " '_unsetenv',\n",
       " '_wrap_close',\n",
       " 'abc',\n",
       " 'abort',\n",
       " 'access',\n",
       " 'add_dll_directory',\n",
       " 'altsep',\n",
       " 'chdir',\n",
       " 'chmod',\n",
       " 'close',\n",
       " 'closerange',\n",
       " 'cpu_count',\n",
       " 'curdir',\n",
       " 'defpath',\n",
       " 'device_encoding',\n",
       " 'devnull',\n",
       " 'dup',\n",
       " 'dup2',\n",
       " 'environ',\n",
       " 'error',\n",
       " 'execl',\n",
       " 'execle',\n",
       " 'execlp',\n",
       " 'execlpe',\n",
       " 'execv',\n",
       " 'execve',\n",
       " 'execvp',\n",
       " 'execvpe',\n",
       " 'extsep',\n",
       " 'fdopen',\n",
       " 'fsdecode',\n",
       " 'fsencode',\n",
       " 'fspath',\n",
       " 'fstat',\n",
       " 'fsync',\n",
       " 'ftruncate',\n",
       " 'get_exec_path',\n",
       " 'get_handle_inheritable',\n",
       " 'get_inheritable',\n",
       " 'get_terminal_size',\n",
       " 'getcwd',\n",
       " 'getcwdb',\n",
       " 'getenv',\n",
       " 'getlogin',\n",
       " 'getpid',\n",
       " 'getppid',\n",
       " 'isatty',\n",
       " 'kill',\n",
       " 'linesep',\n",
       " 'link',\n",
       " 'listdir',\n",
       " 'lseek',\n",
       " 'lstat',\n",
       " 'makedirs',\n",
       " 'mkdir',\n",
       " 'name',\n",
       " 'open',\n",
       " 'pardir',\n",
       " 'path',\n",
       " 'pathsep',\n",
       " 'pipe',\n",
       " 'popen',\n",
       " 'putenv',\n",
       " 'read',\n",
       " 'readlink',\n",
       " 'remove',\n",
       " 'removedirs',\n",
       " 'rename',\n",
       " 'renames',\n",
       " 'replace',\n",
       " 'rmdir',\n",
       " 'scandir',\n",
       " 'sep',\n",
       " 'set_handle_inheritable',\n",
       " 'set_inheritable',\n",
       " 'spawnl',\n",
       " 'spawnle',\n",
       " 'spawnv',\n",
       " 'spawnve',\n",
       " 'st',\n",
       " 'startfile',\n",
       " 'stat',\n",
       " 'stat_result',\n",
       " 'statvfs_result',\n",
       " 'strerror',\n",
       " 'supports_bytes_environ',\n",
       " 'supports_dir_fd',\n",
       " 'supports_effective_ids',\n",
       " 'supports_fd',\n",
       " 'supports_follow_symlinks',\n",
       " 'symlink',\n",
       " 'sys',\n",
       " 'system',\n",
       " 'terminal_size',\n",
       " 'times',\n",
       " 'times_result',\n",
       " 'truncate',\n",
       " 'umask',\n",
       " 'uname_result',\n",
       " 'unlink',\n",
       " 'urandom',\n",
       " 'utime',\n",
       " 'waitpid',\n",
       " 'walk',\n",
       " 'write']"
      ]
     },
     "execution_count": 58,
     "metadata": {},
     "output_type": "execute_result"
    }
   ],
   "source": [
    "dir(os)"
   ]
  },
  {
   "cell_type": "code",
   "execution_count": null,
   "id": "fdf8a13b",
   "metadata": {},
   "outputs": [],
   "source": []
  }
 ],
 "metadata": {
  "kernelspec": {
   "display_name": "Python 3 (ipykernel)",
   "language": "python",
   "name": "python3"
  },
  "language_info": {
   "codemirror_mode": {
    "name": "ipython",
    "version": 3
   },
   "file_extension": ".py",
   "mimetype": "text/x-python",
   "name": "python",
   "nbconvert_exporter": "python",
   "pygments_lexer": "ipython3",
   "version": "3.9.7"
  }
 },
 "nbformat": 4,
 "nbformat_minor": 5
}
