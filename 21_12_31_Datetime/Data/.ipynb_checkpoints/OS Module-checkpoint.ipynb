{
 "cells": [
  {
   "cell_type": "markdown",
   "id": "correct-lawsuit",
   "metadata": {},
   "source": [
    "# OS Module"
   ]
  },
  {
   "cell_type": "code",
   "execution_count": null,
   "id": "metropolitan-pennsylvania",
   "metadata": {},
   "outputs": [],
   "source": [
    "1. os.rename()\n",
    "2. os.remove()  # To remove / delete file\n",
    "3. os.rmdir()   # To remove empty folder\n",
    "4. os.mkdir()   # To create folder\n",
    "5. os.makedirs() # TO create folder \n",
    "6. os.getcwd()   # CWD\n",
    "7. os.path.exists() # To check folder is exist or not\n",
    "8. os.listdir() # List of files in folder\n",
    "9. os.path.join()"
   ]
  },
  {
   "cell_type": "code",
   "execution_count": 1,
   "id": "studied-pharmacy",
   "metadata": {},
   "outputs": [],
   "source": [
    "import os\n",
    "os.mkdir('Data')"
   ]
  },
  {
   "cell_type": "code",
   "execution_count": 3,
   "id": "atomic-recording",
   "metadata": {},
   "outputs": [],
   "source": [
    "folder_path = \"D:\\\\RahulK\\\\Velocity_Sep_21\\\\MACHINE_LEARNING\\\\Deep_Learning\"\n",
    "os.mkdir(folder_path)"
   ]
  },
  {
   "cell_type": "code",
   "execution_count": 5,
   "id": "mental-denver",
   "metadata": {},
   "outputs": [],
   "source": [
    "folder_path = \"D:\\\\RahulK\\\\Velocity_Sep_21\\\\MACHINE_LEARNING\\\\Deep_Learning\"\n",
    "os.makedirs(folder_path)"
   ]
  },
  {
   "cell_type": "code",
   "execution_count": 6,
   "id": "biological-lover",
   "metadata": {},
   "outputs": [
    {
     "data": {
      "text/plain": [
       "'D:\\\\RahulK\\\\Velocity_Sep_21\\\\10_12'"
      ]
     },
     "execution_count": 6,
     "metadata": {},
     "output_type": "execute_result"
    }
   ],
   "source": [
    "os.getcwd() "
   ]
  },
  {
   "cell_type": "markdown",
   "id": "interracial-motorcycle",
   "metadata": {},
   "source": [
    "### Extract text files from directory"
   ]
  },
  {
   "cell_type": "raw",
   "id": "collectible-quick",
   "metadata": {},
   "source": [
    "text files\n",
    "pdf files\n",
    "images\n",
    "JSON files"
   ]
  },
  {
   "cell_type": "code",
   "execution_count": 8,
   "id": "chief-fluid",
   "metadata": {},
   "outputs": [
    {
     "name": "stdout",
     "output_type": "stream",
     "text": [
      "['1207_385_bank_statement11.pdf', '97_134_bank_statement21.pdf', 'autos_dataset.csv', 'Best Fit Line.gif', 'cost Function.png', 'Country_clusters.csv', 'credit-card.csv', 'Customers.csv', 'cv006_15448.txt', 'cv007_4968.txt', 'cv008_29435.txt', 'cv009_29592.txt', 'cv010_29198.txt', 'cv011_12166.txt', 'cv012_29576.txt', 'cv013_10159.txt', 'diabetes.csv', 'Gradient Descent.png', 'Gradient_Descent_Img.png']\n"
     ]
    }
   ],
   "source": [
    "path = 'Data'\n",
    "files_list = os.listdir(path)  # List of all files\n",
    "print(files_list)"
   ]
  },
  {
   "cell_type": "code",
   "execution_count": 28,
   "id": "measured-spencer",
   "metadata": {},
   "outputs": [
    {
     "name": "stdout",
     "output_type": "stream",
     "text": [
      ":::::::::::::::::::::::::::: 1207_385_bank_statement11.pdf\n",
      ":::::::::::::::::::::::::::: 97_134_bank_statement21.pdf\n",
      "\n",
      "PDF files are :\n",
      " ['1207_385_bank_statement11.pdf', '97_134_bank_statement21.pdf']\n",
      "\n",
      "CSV files are :\n",
      " ['autos_dataset.csv', 'Country_clusters.csv', 'credit-card.csv', 'Customers.csv', 'diabetes.csv']\n",
      "\n",
      "Images  are :\n",
      " ['Best Fit Line.gif', 'cost Function.png', 'Gradient Descent.png', 'Gradient_Descent_Img.png']\n",
      "\n",
      "Text files are :\n",
      " ['Data\\\\cv006_15448.txt', 'Data\\\\cv007_4968.txt', 'Data\\\\cv008_29435.txt', 'Data\\\\cv009_29592.txt', 'Data\\\\cv010_29198.txt', 'Data\\\\cv011_12166.txt', 'Data\\\\cv012_29576.txt', 'Data\\\\cv013_10159.txt']\n"
     ]
    }
   ],
   "source": [
    "text_files = []\n",
    "pdf_file_list = []\n",
    "image_list = []\n",
    "csv_file_list = []\n",
    "other_files = list()\n",
    "\n",
    "for file in files_list:  # file = 'Best Fit Line.gif' str\n",
    "    \n",
    "    if file.endswith('.txt'):  # False\n",
    "        file = 'Data\\\\' + file\n",
    "        f =open(file,'r')\n",
    "        text = f.read()\n",
    "        text_files.append(file)\n",
    "        \n",
    "    elif file.endswith('.pdf'):  # False\n",
    "        print(\"::::::::::::::::::::::::::::\",file)\n",
    "        pdf_file_list.append(file)\n",
    "        \n",
    "    elif file.endswith('.csv'): # True\n",
    "        csv_file_list.append(file)\n",
    "        \n",
    "    elif file.endswith('.png') or file.endswith('.gif'):  # False or True >>\n",
    "        image_list.append(file)\n",
    "        \n",
    "    else:\n",
    "        other_files.append(file)\n",
    "\n",
    "print(\"\\nPDF files are :\\n\",pdf_file_list)\n",
    "print(\"\\nCSV files are :\\n\",csv_file_list)\n",
    "print(\"\\nImages  are :\\n\",image_list)\n",
    "print(\"\\nText files are :\\n\",text_files)"
   ]
  }
 ],
 "metadata": {
  "kernelspec": {
   "display_name": "Python 3",
   "language": "python",
   "name": "python3"
  },
  "language_info": {
   "codemirror_mode": {
    "name": "ipython",
    "version": 3
   },
   "file_extension": ".py",
   "mimetype": "text/x-python",
   "name": "python",
   "nbconvert_exporter": "python",
   "pygments_lexer": "ipython3",
   "version": "3.8.8"
  }
 },
 "nbformat": 4,
 "nbformat_minor": 5
}
