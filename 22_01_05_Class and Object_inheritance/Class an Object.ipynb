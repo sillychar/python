{
 "cells": [
  {
   "cell_type": "code",
   "execution_count": null,
   "id": "566dc234",
   "metadata": {},
   "outputs": [],
   "source": [
    "Self Variable:\n",
    "    It is used to access variables and methods inside the class\n",
    "    It helps to differentiate between instance variable and local variable\n",
    "    Used in every function or method\n",
    "    self should be first parameter\n",
    "    \n",
    "__init__(self) method : # Constructor\n",
    "     It executes automatically when we create object\n",
    "     Main purpose of it is to initilize instance variable"
   ]
  },
  {
   "cell_type": "code",
   "execution_count": null,
   "id": "ee1ea884",
   "metadata": {},
   "outputs": [],
   "source": [
    "global_var = 'Python'\n",
    "\n",
    "class ClassName():  # class name\n",
    "    \n",
    "    class_variable1 = 100 # class variable\n",
    "    class_variable2 = 200 # class variable\n",
    "    \n",
    "    def __init__(self,arg1,arg2): # It execute automatially when we create an object\n",
    "        # Constructor\n",
    "        print('We are in INIT Function')\n",
    "        print(arg1,arg2)\n",
    "        self.argument = arg1 # Instance variable\n",
    "        self.arg2 = arg2\n",
    "        \n",
    "        self.instance_variable1 = 'This is instance var1'\n",
    "        self.instance_variable2 = 'This is instance var2'\n",
    "    \n",
    "    def my_method1(self,value):\n",
    "        a=100 # local variable\n",
    "        print('We are in method1')\n",
    "#         print('Value is:',value)\n",
    "#         self.instance_variable3 = '300'\n",
    "#         print('argument1 ',self.argument)\n",
    "#         print('instance_variable1',self.instance_variable1)\n",
    "        \n",
    "obj = ClassName(10, 'DATA')\n",
    "obj.my_method1(500)"
   ]
  },
  {
   "cell_type": "code",
   "execution_count": 13,
   "id": "edf53521",
   "metadata": {},
   "outputs": [
    {
     "name": "stdout",
     "output_type": "stream",
     "text": [
      "We are in method1\n",
      "Class Variable 100\n",
      "Value is:  500\n",
      "X is : 11\n"
     ]
    }
   ],
   "source": [
    "global_var = 'Python' # global variable\n",
    "\n",
    "class ClaasName(): # Class Name\n",
    "    \n",
    "    class_variable1 = 100 # Class Variable\n",
    "    class_variable2 = 200 # Class Variable\n",
    "    \n",
    "    \n",
    "    def my_method1(self, value):\n",
    "        x = 11 # local variable\n",
    "        print('We are in method1')\n",
    "        print('Class Variable', self.class_variable1)\n",
    "        print('Value is: ', value)\n",
    "        print('X is :',x)\n",
    "\n",
    "# Object creation\n",
    "Obj = ClaasName()\n",
    "Obj.my_method1(500)"
   ]
  },
  {
   "cell_type": "code",
   "execution_count": 21,
   "id": "5242f6bb",
   "metadata": {},
   "outputs": [
    {
     "name": "stdout",
     "output_type": "stream",
     "text": [
      "We are in INIT Function\n",
      "20 hello\n",
      "We are in method1\n",
      "Class Variable 100\n",
      "Value is:  500\n",
      "X is : 11\n",
      "argument1 : 20\n",
      "instance_variable1: This is instance var1\n"
     ]
    }
   ],
   "source": [
    "global_var = 'Python' # global variable\n",
    "\n",
    "class ClaasName(): # Class Name\n",
    "    \n",
    "    class_variable1 = 100 # Class Variable\n",
    "    class_variable2 = 200 # Class Variable\n",
    "    \n",
    "    def __init__(self, arg1, arg2): # It executes automatically when we create an object\n",
    "        # Constructor\n",
    "        print('We are in INIT Function')\n",
    "        print(arg1, arg2)\n",
    "        self.argument1 = arg1 # Instance Variable\n",
    "        self.arg2 = arg2\n",
    "        \n",
    "        self.instance_variable1 = 'This is instance var1'\n",
    "        self.instance_variable2 = 'This is instance var2'\n",
    "        \n",
    "    \n",
    "    def my_method1(self, value):\n",
    "        x = 11 # local variable\n",
    "        print('We are in method1')\n",
    "        print('Class Variable', self.class_variable1)\n",
    "        print('Value is: ', value)\n",
    "        print('X is :',x)\n",
    "        print('argument1 :', self.argument1)\n",
    "        print('instance_variable1:',self.instance_variable1)\n",
    "\n",
    "# Object creation\n",
    "Obj = ClaasName(20, 'hello')\n",
    "Obj.my_method1(500)"
   ]
  },
  {
   "cell_type": "code",
   "execution_count": 41,
   "id": "8598c07b",
   "metadata": {},
   "outputs": [
    {
     "name": "stdout",
     "output_type": "stream",
     "text": [
      "We are in INIT Function\n",
      "20 hello\n",
      "########################\n",
      "We are in method1\n",
      "Class Variable 100\n",
      "Value is:  500\n",
      "X is : 16\n",
      "argument1 : 20\n",
      "instance_variable1: This is instance var1\n",
      "########################\n",
      "We are in method 2\n",
      "Class_variable2: 200\n",
      "instance_variable2: This is instance var2\n",
      "variable from my_method1 : 15\n"
     ]
    }
   ],
   "source": [
    "global_var = 'Python' # global variable\n",
    "\n",
    "class ClaasName(): # Class Name\n",
    "    \n",
    "    class_variable1 = 100 # Class Variable\n",
    "    class_variable2 = 200 # Class Variable\n",
    "    \n",
    "    def __init__(self, arg1, arg2): # It executes automatically when we create an object\n",
    "        # Constructor\n",
    "        print('We are in INIT Function')\n",
    "        print(arg1, arg2)\n",
    "        self.argument1 = arg1 # Instance Variable\n",
    "        self.arg2 = arg2\n",
    "        \n",
    "        self.instance_variable1 = 'This is instance var1'\n",
    "        self.instance_variable2 = 'This is instance var2'\n",
    "        \n",
    "    \n",
    "    def my_method1(self, value):\n",
    "        \n",
    "        x = 15 # local variable\n",
    "        self.x = x # create instance of variable\n",
    "        x=16\n",
    "        print('We are in method1')\n",
    "        print('Class Variable', self.class_variable1)\n",
    "        print('Value is: ', value)\n",
    "        print('X is :',x)\n",
    "        print('argument1 :', self.argument1)\n",
    "        print('instance_variable1:',self.instance_variable1)\n",
    "        \n",
    "    def my_method2(self):\n",
    "        print('We are in method 2')\n",
    "        print('Class_variable2:',self.class_variable2)\n",
    "        print('instance_variable2:',self.instance_variable2)\n",
    "        print('variable from my_method1 :', self.x)\n",
    "\n",
    "# Object creation\n",
    "Obj = ClaasName(20, 'hello')\n",
    "print('########################') # seperator\n",
    "Obj.my_method1(500)\n",
    "print('########################') # seperator\n",
    "Obj.my_method2()"
   ]
  },
  {
   "cell_type": "code",
   "execution_count": 35,
   "id": "18182bb0",
   "metadata": {},
   "outputs": [
    {
     "name": "stdout",
     "output_type": "stream",
     "text": [
      "We are in INIT Function\n",
      "20 hello\n",
      "########################\n",
      "We are in method1\n",
      "Class Variable 100\n",
      "Value is:  500\n",
      "X is : 11\n",
      "argument1 : 20\n",
      "instance_variable1: This is instance var1\n",
      "########################\n",
      "We are in method 2\n",
      "Class_variable2: 200\n",
      "instance_variable2: This is instance var2\n",
      "variable from my_method1 : 11\n"
     ]
    }
   ],
   "source": [
    "global_var = 'Python' # global variable\n",
    "\n",
    "class ClaasName(): # Class Name\n",
    "    \n",
    "    class_variable1 = 100 # Class Variable\n",
    "    class_variable2 = 200 # Class Variable\n",
    "    \n",
    "    def __init__(self, arg1, arg2): # It executes automatically when we create an object\n",
    "        # Constructor\n",
    "        print('We are in INIT Function')\n",
    "        print(arg1, arg2)\n",
    "        self.argument1 = arg1 # Instance Variable\n",
    "        self.arg2 = arg2\n",
    "        \n",
    "        self.instance_variable1 = 'This is instance var1'\n",
    "        self.instance_variable2 = 'This is instance var2'\n",
    "        \n",
    "    \n",
    "    def my_method1(self, value):\n",
    "        \n",
    "        global a   # >> making a global varibale\n",
    "        a = 11 # local variable\n",
    "        \n",
    "        print('We are in method1')\n",
    "        print('Class Variable', self.class_variable1)\n",
    "        print('Value is: ', value)\n",
    "        print('A is :',a)\n",
    "        print('argument1 :', self.argument1)\n",
    "        print('instance_variable1:',self.instance_variable1)\n",
    "        \n",
    "    def my_method2(self):\n",
    "        print('We are in method 2')\n",
    "        print('Class_variable2:',self.class_variable2)\n",
    "        print('instance_variable2:',self.instance_variable2)\n",
    "        print('variable from my_method1 :', a)\n",
    "\n",
    "# Object creation\n",
    "Obj = ClaasName(20, 'hello')\n",
    "print('########################') # seperator\n",
    "Obj.my_method1(500)\n",
    "print('########################') # seperator\n",
    "Obj.my_method2()"
   ]
  },
  {
   "cell_type": "code",
   "execution_count": 39,
   "id": "6d808bf1",
   "metadata": {},
   "outputs": [
    {
     "data": {
      "text/plain": [
       "5"
      ]
     },
     "execution_count": 39,
     "metadata": {},
     "output_type": "execute_result"
    }
   ],
   "source": [
    "a=10\n",
    "b=11\n",
    "a=5\n",
    "a"
   ]
  },
  {
   "cell_type": "code",
   "execution_count": 40,
   "id": "086f1f61",
   "metadata": {},
   "outputs": [
    {
     "data": {
      "text/plain": [
       "11"
      ]
     },
     "execution_count": 40,
     "metadata": {},
     "output_type": "execute_result"
    }
   ],
   "source": [
    "b"
   ]
  },
  {
   "cell_type": "code",
   "execution_count": 42,
   "id": "45e33023",
   "metadata": {},
   "outputs": [
    {
     "name": "stdout",
     "output_type": "stream",
     "text": [
      "We are in INIT Function\n",
      "Data Science\n",
      "########################\n",
      "We are in method1\n",
      "Class Variable 100\n",
      "Value is:  500\n",
      "X is : 11\n",
      "argument1 : Data\n",
      "instance_variable1: This is instance var1\n",
      "########################\n",
      "We are in method 2\n",
      "Class_variable2: 200\n",
      "instance_variable2: This is instance var2\n",
      "variable from my_method1 : 11\n"
     ]
    }
   ],
   "source": [
    "global_var = 'Python' # global variable\n",
    "\n",
    "class ClaasName(): # Class Name\n",
    "    \n",
    "    class_variable1 = 100 # Class Variable\n",
    "    class_variable2 = 200 # Class Variable\n",
    "    \n",
    "    def __init__(self, arg1, arg2): # It executes automatically when we create an object\n",
    "        # Constructor\n",
    "        print('We are in INIT Function')\n",
    "        print(arg1, arg2)\n",
    "        self.argument1 = arg1 # Instance Variable\n",
    "        self.arg2 = arg2\n",
    "        \n",
    "        self.instance_variable1 = 'This is instance var1'\n",
    "        self.instance_variable2 = 'This is instance var2'\n",
    "        \n",
    "    \n",
    "    def my_method1(self, value):\n",
    "        \n",
    "        global a   # >> making a global varibale\n",
    "        a = 11 # local variable\n",
    "        \n",
    "        print('We are in method1')\n",
    "        print('Class Variable', self.class_variable1)\n",
    "        print('Value is: ', value)\n",
    "        print('A is :',a)\n",
    "        print('argument1 :', self.argument1)\n",
    "        print('instance_variable1:',self.instance_variable1)\n",
    "    \n",
    "    def my_method2(self):\n",
    "        print('We are in method 2')\n",
    "        print('Class_variable2:',self.class_variable2)\n",
    "        print('instance_variable2:',self.instance_variable2)\n",
    "        print('variable from my_method1 :', a)\n",
    "\n",
    "# Object creation\n",
    "Obj = ClaasName('Data', \"Science\")\n",
    "print('########################') # seperator\n",
    "Obj.my_method1('500')\n",
    "print('########################') # seperator\n",
    "Obj.my_method2()"
   ]
  },
  {
   "cell_type": "code",
   "execution_count": 43,
   "id": "23600b44",
   "metadata": {},
   "outputs": [
    {
     "name": "stdout",
     "output_type": "stream",
     "text": [
      "We are in INIT Function\n",
      "Data Science\n",
      "########################\n",
      "We are in method1\n",
      "Class Variable 100\n",
      "Value is:  500\n",
      "A is : 11\n",
      "argument1 : Data\n",
      "instance_variable1: This is instance var1\n",
      "########################\n",
      "We are in method 2\n",
      "Class_variable2: 200\n",
      "instance_variable2: This is instance var2\n",
      "variable from my_method1 : 11\n"
     ]
    }
   ],
   "source": [
    "global_var = 'Python' # global variable\n",
    "\n",
    "class ClaasName(): # Class Name\n",
    "    \n",
    "    class_variable1 = 100 # Class Variable\n",
    "    class_variable2 = 200 # Class Variable\n",
    "    \n",
    "    def __init__(self, arg1, arg2): # It executes automatically when we create an object\n",
    "        # Constructor\n",
    "        print('We are in INIT Function')\n",
    "        print(arg1, arg2)\n",
    "        self.argument1 = arg1 # Instance Variable\n",
    "        self.arg2 = arg2\n",
    "        \n",
    "        self.instance_variable1 = 'This is instance var1'\n",
    "        self.instance_variable2 = 'This is instance var2'\n",
    "        \n",
    "    \n",
    "    def my_method1(self, value):\n",
    "        \n",
    "        global a   # >> making a global varibale\n",
    "        a = 11 # local variable\n",
    "        \n",
    "        print('We are in method1')\n",
    "        print('Class Variable', self.class_variable1)\n",
    "        print('Value is: ', value)\n",
    "        print('A is :',a)\n",
    "        print('argument1 :', self.argument1)\n",
    "        print('instance_variable1:',self.instance_variable1)\n",
    "    \n",
    "    def my_method2(self):\n",
    "        print('We are in method 2')\n",
    "        print('Class_variable2:',self.class_variable2)\n",
    "        print('instance_variable2:',self.instance_variable2)\n",
    "        print('variable from my_method1 :', a)\n",
    "\n",
    "# Object creation\n",
    "Obj = ClaasName('Data', \"Science\")\n",
    "print('########################') # seperator\n",
    "Obj.my_method1('500')\n",
    "print('########################') # seperator\n",
    "Obj.my_method2()"
   ]
  },
  {
   "cell_type": "code",
   "execution_count": 44,
   "id": "c85e7017",
   "metadata": {},
   "outputs": [
    {
     "name": "stdout",
     "output_type": "stream",
     "text": [
      "We are in method1\n",
      "Class Variable 100\n",
      "Value is:  500\n",
      "A is : 11\n",
      "argument1 : Data\n",
      "instance_variable1: This is instance var1\n"
     ]
    }
   ],
   "source": [
    "a=1000\n",
    "Obj.my_method1('500')"
   ]
  },
  {
   "cell_type": "code",
   "execution_count": 45,
   "id": "b7a240b6",
   "metadata": {},
   "outputs": [
    {
     "data": {
      "text/plain": [
       "11"
      ]
     },
     "execution_count": 45,
     "metadata": {},
     "output_type": "execute_result"
    }
   ],
   "source": [
    "a"
   ]
  },
  {
   "cell_type": "code",
   "execution_count": null,
   "id": "b1d48996",
   "metadata": {},
   "outputs": [],
   "source": []
  },
  {
   "cell_type": "code",
   "execution_count": null,
   "id": "1e05c601",
   "metadata": {},
   "outputs": [],
   "source": []
  },
  {
   "cell_type": "code",
   "execution_count": null,
   "id": "3a8d297e",
   "metadata": {},
   "outputs": [],
   "source": []
  },
  {
   "cell_type": "code",
   "execution_count": null,
   "id": "7db52834",
   "metadata": {},
   "outputs": [],
   "source": []
  },
  {
   "cell_type": "code",
   "execution_count": null,
   "id": "d9a63a3f",
   "metadata": {},
   "outputs": [],
   "source": []
  },
  {
   "cell_type": "code",
   "execution_count": null,
   "id": "e0ddc63b",
   "metadata": {},
   "outputs": [],
   "source": []
  },
  {
   "cell_type": "code",
   "execution_count": null,
   "id": "4b9e2f33",
   "metadata": {},
   "outputs": [],
   "source": []
  },
  {
   "cell_type": "code",
   "execution_count": null,
   "id": "2efa9c44",
   "metadata": {},
   "outputs": [],
   "source": []
  },
  {
   "cell_type": "code",
   "execution_count": null,
   "id": "befddd74",
   "metadata": {},
   "outputs": [],
   "source": []
  },
  {
   "cell_type": "code",
   "execution_count": null,
   "id": "59fddea8",
   "metadata": {},
   "outputs": [],
   "source": []
  },
  {
   "cell_type": "code",
   "execution_count": null,
   "id": "3bcf10a7",
   "metadata": {},
   "outputs": [],
   "source": []
  },
  {
   "cell_type": "code",
   "execution_count": null,
   "id": "5eff339e",
   "metadata": {},
   "outputs": [],
   "source": []
  },
  {
   "cell_type": "code",
   "execution_count": null,
   "id": "5919a80e",
   "metadata": {},
   "outputs": [],
   "source": []
  },
  {
   "cell_type": "code",
   "execution_count": null,
   "id": "294efbf5",
   "metadata": {},
   "outputs": [],
   "source": []
  },
  {
   "cell_type": "code",
   "execution_count": null,
   "id": "e9e51c7a",
   "metadata": {},
   "outputs": [],
   "source": []
  },
  {
   "cell_type": "code",
   "execution_count": null,
   "id": "96fa0f03",
   "metadata": {},
   "outputs": [],
   "source": []
  },
  {
   "cell_type": "code",
   "execution_count": null,
   "id": "b2991469",
   "metadata": {},
   "outputs": [],
   "source": []
  },
  {
   "cell_type": "code",
   "execution_count": null,
   "id": "230ee4bb",
   "metadata": {},
   "outputs": [],
   "source": []
  },
  {
   "cell_type": "code",
   "execution_count": null,
   "id": "0705768b",
   "metadata": {},
   "outputs": [],
   "source": []
  },
  {
   "cell_type": "code",
   "execution_count": null,
   "id": "322e1c2d",
   "metadata": {},
   "outputs": [],
   "source": []
  },
  {
   "cell_type": "code",
   "execution_count": null,
   "id": "e93f287d",
   "metadata": {},
   "outputs": [],
   "source": []
  },
  {
   "cell_type": "code",
   "execution_count": null,
   "id": "c0b632cc",
   "metadata": {},
   "outputs": [],
   "source": []
  },
  {
   "cell_type": "code",
   "execution_count": null,
   "id": "5b329896",
   "metadata": {},
   "outputs": [],
   "source": []
  },
  {
   "cell_type": "code",
   "execution_count": null,
   "id": "5ed84d60",
   "metadata": {},
   "outputs": [],
   "source": []
  }
 ],
 "metadata": {
  "kernelspec": {
   "display_name": "Python 3 (ipykernel)",
   "language": "python",
   "name": "python3"
  },
  "language_info": {
   "codemirror_mode": {
    "name": "ipython",
    "version": 3
   },
   "file_extension": ".py",
   "mimetype": "text/x-python",
   "name": "python",
   "nbconvert_exporter": "python",
   "pygments_lexer": "ipython3",
   "version": "3.9.7"
  }
 },
 "nbformat": 4,
 "nbformat_minor": 5
}
