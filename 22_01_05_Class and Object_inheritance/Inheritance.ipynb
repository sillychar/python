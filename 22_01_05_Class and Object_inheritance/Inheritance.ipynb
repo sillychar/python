{
 "cells": [
  {
   "cell_type": "markdown",
   "id": "e2830dc4",
   "metadata": {},
   "source": [
    "## Inheritance"
   ]
  },
  {
   "cell_type": "code",
   "execution_count": 1,
   "id": "aa95b957",
   "metadata": {},
   "outputs": [
    {
     "name": "stdout",
     "output_type": "stream",
     "text": [
      "Hello Python\n"
     ]
    }
   ],
   "source": [
    "class Classname:\n",
    "    def method(self, name):\n",
    "        print(f'Hello {name}')\n",
    "        \n",
    "Obj = Classname() # Cretring an instance / object of a class\n",
    "Obj.method('Python')"
   ]
  },
  {
   "cell_type": "code",
   "execution_count": 3,
   "id": "813d6cb9",
   "metadata": {},
   "outputs": [
    {
     "name": "stdout",
     "output_type": "stream",
     "text": [
      "Studemt Roll Number is : 20270\n"
     ]
    }
   ],
   "source": [
    "class Student:\n",
    "    \n",
    "    def __init__(self, rollno):\n",
    "        self.roll_number = rollno\n",
    "        \n",
    "    def student_roll_num(self):\n",
    "        print('Studemt Roll Number is :', self.roll_number)\n",
    "        \n",
    "student_obj = Student(20270)\n",
    "student_obj.student_roll_num()"
   ]
  },
  {
   "cell_type": "code",
   "execution_count": 5,
   "id": "8d2eff32",
   "metadata": {},
   "outputs": [
    {
     "name": "stdout",
     "output_type": "stream",
     "text": [
      "Studemt Roll Number is : 40\n",
      "Student Roll Number is : 40\n",
      "college name is : COEP\n"
     ]
    }
   ],
   "source": [
    "class College():\n",
    "    def __init__(self, clg_name):\n",
    "            self.clg_name = clg_name\n",
    "            \n",
    "    def student_roll_num(self):\n",
    "        self.roll_number = 40\n",
    "        print('Studemt Roll Number is :', self.roll_number)\n",
    "        \n",
    "    def college_name(self):\n",
    "        print('Student Roll Number is :', self.roll_number)\n",
    "        print('college name is :', self.clg_name)\n",
    "        \n",
    "clg_obj = College('COEP')\n",
    "clg_obj.student_roll_num()\n",
    "clg_obj.college_name()"
   ]
  },
  {
   "cell_type": "markdown",
   "id": "bc6135f7",
   "metadata": {},
   "source": [
    "### Inheritance"
   ]
  },
  {
   "cell_type": "code",
   "execution_count": null,
   "id": "4f4e5f5d",
   "metadata": {},
   "outputs": [],
   "source": [
    "It allows a class to inherit the properties (method and variables) from other class\n",
    "(to use one class features to another class)\n",
    "\n",
    "It helps us to reuse the code\n",
    "\n",
    "Base class >> Parent class >> Super class\n",
    "\n",
    "Derived Class >> child class >> Sub Class\n",
    "\n",
    "Create an object of child class only"
   ]
  },
  {
   "cell_type": "code",
   "execution_count": 7,
   "id": "84752e7f",
   "metadata": {},
   "outputs": [
    {
     "name": "stdout",
     "output_type": "stream",
     "text": [
      "This is Parent Class\n",
      "This is Child Class\n"
     ]
    }
   ],
   "source": [
    "class Parent():      # Base class\n",
    "    print('This is Parent Class')\n",
    "    \n",
    "class Child():      # Base class\n",
    "    print('This is Child Class')"
   ]
  },
  {
   "cell_type": "code",
   "execution_count": 8,
   "id": "4b32c54e",
   "metadata": {},
   "outputs": [
    {
     "name": "stdout",
     "output_type": "stream",
     "text": [
      "10\n",
      "This is Child Class\n"
     ]
    }
   ],
   "source": [
    "class Child():      # Base class\n",
    "    x=10\n",
    "    print(x)\n",
    "    print('This is Child Class')"
   ]
  },
  {
   "cell_type": "code",
   "execution_count": 12,
   "id": "057f11e5",
   "metadata": {},
   "outputs": [
    {
     "name": "stdout",
     "output_type": "stream",
     "text": [
      "This is Parent Class\n",
      "This is Child Class\n",
      "This is INIT Function\n"
     ]
    }
   ],
   "source": [
    "class Parent():      # Base class / Parent Class\n",
    "    print('This is Parent Class')\n",
    "    \n",
    "    def __init__(self, name):\n",
    "        print('This is INIT Function')\n",
    "        \n",
    "    def Name(self):\n",
    "        print('Hello')\n",
    "    \n",
    "class Child(Parent):      # Derived class / Child class\n",
    "    print('This is Child Class')\n",
    "    \n",
    "p1 = Parent('Python') # Creating an object / calling init function"
   ]
  },
  {
   "cell_type": "code",
   "execution_count": null,
   "id": "8a44045e",
   "metadata": {},
   "outputs": [],
   "source": []
  },
  {
   "cell_type": "code",
   "execution_count": null,
   "id": "aa383cdd",
   "metadata": {},
   "outputs": [],
   "source": []
  },
  {
   "cell_type": "code",
   "execution_count": null,
   "id": "02ab5b84",
   "metadata": {},
   "outputs": [],
   "source": []
  },
  {
   "cell_type": "code",
   "execution_count": null,
   "id": "92efde1e",
   "metadata": {},
   "outputs": [],
   "source": []
  },
  {
   "cell_type": "code",
   "execution_count": null,
   "id": "2daca2cc",
   "metadata": {},
   "outputs": [],
   "source": []
  },
  {
   "cell_type": "code",
   "execution_count": null,
   "id": "ceb18aa6",
   "metadata": {},
   "outputs": [],
   "source": []
  },
  {
   "cell_type": "code",
   "execution_count": null,
   "id": "21ed0dac",
   "metadata": {},
   "outputs": [],
   "source": []
  },
  {
   "cell_type": "code",
   "execution_count": null,
   "id": "2ab58da4",
   "metadata": {},
   "outputs": [],
   "source": []
  },
  {
   "cell_type": "code",
   "execution_count": null,
   "id": "32a0162f",
   "metadata": {},
   "outputs": [],
   "source": []
  },
  {
   "cell_type": "code",
   "execution_count": null,
   "id": "36a2c356",
   "metadata": {},
   "outputs": [],
   "source": []
  },
  {
   "cell_type": "code",
   "execution_count": null,
   "id": "0b096d0d",
   "metadata": {},
   "outputs": [],
   "source": []
  },
  {
   "cell_type": "code",
   "execution_count": null,
   "id": "afd80e7c",
   "metadata": {},
   "outputs": [],
   "source": []
  },
  {
   "cell_type": "code",
   "execution_count": null,
   "id": "7f781ed8",
   "metadata": {},
   "outputs": [],
   "source": []
  },
  {
   "cell_type": "code",
   "execution_count": null,
   "id": "f0cc0c74",
   "metadata": {},
   "outputs": [],
   "source": []
  },
  {
   "cell_type": "code",
   "execution_count": null,
   "id": "551124bd",
   "metadata": {},
   "outputs": [],
   "source": []
  },
  {
   "cell_type": "code",
   "execution_count": null,
   "id": "e2e6686d",
   "metadata": {},
   "outputs": [],
   "source": []
  },
  {
   "cell_type": "code",
   "execution_count": null,
   "id": "8b7f47a0",
   "metadata": {},
   "outputs": [],
   "source": []
  },
  {
   "cell_type": "code",
   "execution_count": null,
   "id": "49796bba",
   "metadata": {},
   "outputs": [],
   "source": []
  },
  {
   "cell_type": "code",
   "execution_count": null,
   "id": "d7e8c099",
   "metadata": {},
   "outputs": [],
   "source": []
  },
  {
   "cell_type": "code",
   "execution_count": null,
   "id": "8f0036cc",
   "metadata": {},
   "outputs": [],
   "source": []
  },
  {
   "cell_type": "code",
   "execution_count": null,
   "id": "3f609be3",
   "metadata": {},
   "outputs": [],
   "source": []
  },
  {
   "cell_type": "code",
   "execution_count": null,
   "id": "fb4363c6",
   "metadata": {},
   "outputs": [],
   "source": []
  },
  {
   "cell_type": "code",
   "execution_count": null,
   "id": "60041c44",
   "metadata": {},
   "outputs": [],
   "source": []
  },
  {
   "cell_type": "code",
   "execution_count": null,
   "id": "1f26ee68",
   "metadata": {},
   "outputs": [],
   "source": []
  },
  {
   "cell_type": "code",
   "execution_count": null,
   "id": "bd2e4560",
   "metadata": {},
   "outputs": [],
   "source": []
  },
  {
   "cell_type": "code",
   "execution_count": null,
   "id": "e5729547",
   "metadata": {},
   "outputs": [],
   "source": []
  }
 ],
 "metadata": {
  "kernelspec": {
   "display_name": "Python 3 (ipykernel)",
   "language": "python",
   "name": "python3"
  },
  "language_info": {
   "codemirror_mode": {
    "name": "ipython",
    "version": 3
   },
   "file_extension": ".py",
   "mimetype": "text/x-python",
   "name": "python",
   "nbconvert_exporter": "python",
   "pygments_lexer": "ipython3",
   "version": "3.9.7"
  }
 },
 "nbformat": 4,
 "nbformat_minor": 5
}
