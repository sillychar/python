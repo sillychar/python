{
 "cells": [
  {
   "cell_type": "markdown",
   "id": "2bcd762f",
   "metadata": {},
   "source": [
    "#### To find lagest number"
   ]
  },
  {
   "cell_type": "code",
   "execution_count": 3,
   "id": "88905dea",
   "metadata": {},
   "outputs": [],
   "source": [
    "a=5\n",
    "b=10\n",
    "c=20\n",
    "\n",
    "if c > a and c < b: # True and False >> False\n",
    "    print('c is the largest number')"
   ]
  },
  {
   "cell_type": "code",
   "execution_count": 4,
   "id": "7a588358",
   "metadata": {},
   "outputs": [
    {
     "name": "stdout",
     "output_type": "stream",
     "text": [
      "c is the largest number\n"
     ]
    }
   ],
   "source": [
    "a=5\n",
    "b=10\n",
    "c=20\n",
    "\n",
    "if c > a and c > b: # True and True >> True\n",
    "    print('c is the largest number')"
   ]
  },
  {
   "cell_type": "code",
   "execution_count": 5,
   "id": "9cb321d8",
   "metadata": {},
   "outputs": [
    {
     "name": "stdout",
     "output_type": "stream",
     "text": [
      "c is the largest number\n"
     ]
    }
   ],
   "source": [
    "a=5\n",
    "b=10\n",
    "c=20\n",
    "\n",
    "if c > a or c < b: # True and False >> True\n",
    "    print('c is the largest number')"
   ]
  },
  {
   "cell_type": "code",
   "execution_count": 6,
   "id": "641b1dc1",
   "metadata": {},
   "outputs": [
    {
     "name": "stdout",
     "output_type": "stream",
     "text": [
      "b is the largest number\n"
     ]
    }
   ],
   "source": [
    "a=50\n",
    "b=100\n",
    "c=20\n",
    "\n",
    "if a > b and a > c: # False and True >> False\n",
    "    print('a is the largest number')\n",
    "\n",
    "elif b > a and b > c: # True and True >> True\n",
    "    print('b is the largest number')\n",
    "\n",
    "else:\n",
    "    print('c is the largest')"
   ]
  },
  {
   "cell_type": "code",
   "execution_count": 7,
   "id": "08f9d93f",
   "metadata": {},
   "outputs": [
    {
     "name": "stdout",
     "output_type": "stream",
     "text": [
      "b is the largest number\n"
     ]
    }
   ],
   "source": [
    "a=50\n",
    "b=100\n",
    "c=20\n",
    "\n",
    "if a > b and a > c: # False and True >> False\n",
    "    print('a is the largest number')\n",
    "\n",
    "elif b > a and b > c: # True and True >> True\n",
    "    print('b is the largest number')\n",
    "\n",
    "elif c>a and c>b:\n",
    "    print('c is the largest')"
   ]
  },
  {
   "cell_type": "code",
   "execution_count": 8,
   "id": "8a30c2a6",
   "metadata": {},
   "outputs": [
    {
     "name": "stdout",
     "output_type": "stream",
     "text": [
      "c is the largest\n"
     ]
    }
   ],
   "source": [
    "a=50\n",
    "b=100\n",
    "c=200\n",
    "\n",
    "if a > b and a > c: # False and True >> False\n",
    "    print('a is the largest number')\n",
    "\n",
    "elif b > a and b > c: # True and False >> False\n",
    "    print('b is the largest number')\n",
    "\n",
    "elif c>a and c>b:\n",
    "    print('c is the largest')"
   ]
  },
  {
   "cell_type": "code",
   "execution_count": 9,
   "id": "be1e6d6f",
   "metadata": {},
   "outputs": [
    {
     "name": "stdout",
     "output_type": "stream",
     "text": [
      "c is the largest\n"
     ]
    }
   ],
   "source": [
    "a=50\n",
    "b=100\n",
    "c=200\n",
    "\n",
    "if a > b and a > c: # False and True >> False\n",
    "    print('a is the largest number')\n",
    "\n",
    "elif b > a and b > c: # True and False >> False\n",
    "    print('b is the largest number')\n",
    "\n",
    "else:\n",
    "    print('c is the largest')"
   ]
  },
  {
   "cell_type": "code",
   "execution_count": 10,
   "id": "1364f33c",
   "metadata": {},
   "outputs": [
    {
     "name": "stdout",
     "output_type": "stream",
     "text": [
      "c is the largest\n"
     ]
    }
   ],
   "source": [
    "a=50\n",
    "b=100\n",
    "c=200\n",
    "\n",
    "if a > b & a > c: # False and True >> False\n",
    "    print('a is the largest number')\n",
    "\n",
    "elif b > a & b > c: # True and False >> False\n",
    "    print('b is the largest number')\n",
    "\n",
    "else:\n",
    "    print('c is the largest')"
   ]
  },
  {
   "cell_type": "code",
   "execution_count": 11,
   "id": "4fb2cde1",
   "metadata": {},
   "outputs": [
    {
     "name": "stdout",
     "output_type": "stream",
     "text": [
      "Enter a value of a : 10\n",
      "Enter a value of b : 20\n",
      "Enter a value of c : 30\n",
      "c is the largest\n"
     ]
    }
   ],
   "source": [
    "a=int(input('Enter a value of a : '))\n",
    "b=int(input('Enter a value of b : '))\n",
    "c=int(input('Enter a value of c : '))\n",
    "\n",
    "if a > b and a > c: # False and True >> False\n",
    "    print('a is the largest number')\n",
    "\n",
    "elif b > a and b > c: # True and False >> False\n",
    "    print('b is the largest number')\n",
    "\n",
    "elif c > a and c > b:\n",
    "    print('c is the largest')\n",
    "\n",
    "else:\n",
    "    print('Two numbers are having same value')"
   ]
  },
  {
   "cell_type": "code",
   "execution_count": 12,
   "id": "e7b4f566",
   "metadata": {},
   "outputs": [
    {
     "name": "stdout",
     "output_type": "stream",
     "text": [
      "Enter a value of a : 10\n",
      "Enter a value of b : 40\n",
      "Enter a value of c : 20\n",
      "b is the largest number\n"
     ]
    }
   ],
   "source": [
    "a=int(input('Enter a value of a : '))\n",
    "b=int(input('Enter a value of b : '))\n",
    "c=int(input('Enter a value of c : '))\n",
    "\n",
    "if a > b and a > c: # False and True >> False\n",
    "    print('a is the largest number')\n",
    "\n",
    "elif b > a and b > c: # True and False >> False\n",
    "    print('b is the largest number')\n",
    "\n",
    "elif c > a and c > b:\n",
    "    print('c is the largest')\n",
    "\n",
    "else:\n",
    "    print('Two numbers are having same value')"
   ]
  },
  {
   "cell_type": "code",
   "execution_count": 13,
   "id": "6f68fde7",
   "metadata": {},
   "outputs": [
    {
     "data": {
      "text/plain": [
       "False"
      ]
     },
     "execution_count": 13,
     "metadata": {},
     "output_type": "execute_result"
    }
   ],
   "source": [
    "a=10\n",
    "b=10.2\n",
    "a>b"
   ]
  },
  {
   "cell_type": "code",
   "execution_count": 14,
   "id": "d7f2e678",
   "metadata": {},
   "outputs": [
    {
     "data": {
      "text/plain": [
       "True"
      ]
     },
     "execution_count": 14,
     "metadata": {},
     "output_type": "execute_result"
    }
   ],
   "source": [
    "a<b"
   ]
  },
  {
   "cell_type": "code",
   "execution_count": 15,
   "id": "b7a3ec2e",
   "metadata": {},
   "outputs": [
    {
     "name": "stdout",
     "output_type": "stream",
     "text": [
      "Both strings are equal\n"
     ]
    }
   ],
   "source": [
    "str1 = 'Python'\n",
    "str2 = 'Python'\n",
    "\n",
    "if str1 == str2:\n",
    "    print('Both strings are equal')\n",
    "\n",
    "else:\n",
    "    print('Strings are not equal')"
   ]
  },
  {
   "cell_type": "code",
   "execution_count": 17,
   "id": "c9923e67",
   "metadata": {},
   "outputs": [
    {
     "name": "stdout",
     "output_type": "stream",
     "text": [
      "Strings are not equal\n"
     ]
    }
   ],
   "source": [
    "str1 = 'Python'\n",
    "str2 = 'Data Science'\n",
    "\n",
    "if str1 == str2:\n",
    "    print('Both strings are equal')\n",
    "\n",
    "else:\n",
    "    print('Strings are not equal')"
   ]
  },
  {
   "cell_type": "code",
   "execution_count": 19,
   "id": "d44dca61",
   "metadata": {},
   "outputs": [
    {
     "name": "stdout",
     "output_type": "stream",
     "text": [
      "Both strings are equal\n"
     ]
    }
   ],
   "source": [
    "str1 = 'DATA SCIENCE'\n",
    "str2 = 'Data Science'\n",
    "\n",
    "if str1.lower() == str2.lower():\n",
    "    print('Both strings are equal')\n",
    "\n",
    "else:\n",
    "    print('Strings are not equal')"
   ]
  },
  {
   "cell_type": "code",
   "execution_count": 20,
   "id": "79733466",
   "metadata": {},
   "outputs": [
    {
     "name": "stdout",
     "output_type": "stream",
     "text": [
      "science word not found\n"
     ]
    }
   ],
   "source": [
    "string1 = 'Data Science and Machine Learning'\n",
    "substring = 'science'\n",
    "\n",
    "if substring in string1:\n",
    "    print(f'{substring} word found')\n",
    "    \n",
    "else:\n",
    "    print(f'{substring} word not found')"
   ]
  },
  {
   "cell_type": "code",
   "execution_count": 21,
   "id": "6a51c0d5",
   "metadata": {},
   "outputs": [
    {
     "name": "stdout",
     "output_type": "stream",
     "text": [
      "science word found\n"
     ]
    }
   ],
   "source": [
    "string1 = 'Data Science and Machine Learning'\n",
    "substring = 'science'\n",
    "\n",
    "if substring.title() in string1:\n",
    "    print(f'{substring} word found')\n",
    "    \n",
    "else:\n",
    "    print(f'{substring} word not found')"
   ]
  },
  {
   "cell_type": "code",
   "execution_count": 22,
   "id": "977f4595",
   "metadata": {},
   "outputs": [
    {
     "name": "stdout",
     "output_type": "stream",
     "text": [
      "Science or MACHINE word found in string\n"
     ]
    }
   ],
   "source": [
    "string1 = 'Data Science and Machine Learning'\n",
    "substring1 = 'Science'\n",
    "substring2 = 'MACHINE'\n",
    "\n",
    "if substring1 in string1 or substring2 in string1: # True or False >> True\n",
    "    print(f'{substring1} or {substring2} word found in string')\n",
    "    \n",
    "else:\n",
    "    print(f'{substring1} or {substring2} word not found')"
   ]
  },
  {
   "cell_type": "code",
   "execution_count": 23,
   "id": "23de7d98",
   "metadata": {},
   "outputs": [
    {
     "name": "stdout",
     "output_type": "stream",
     "text": [
      "science or MACHINE word not found\n"
     ]
    }
   ],
   "source": [
    "string1 = 'Data Science and Machine Learning'\n",
    "substring1 = 'science'\n",
    "substring2 = 'MACHINE'\n",
    "\n",
    "if substring1 in string1 or substring2 in string1: # False or False >> False\n",
    "    print(f'{substring1} or {substring2} word found in string')\n",
    "    \n",
    "else:\n",
    "    print(f'{substring1} or {substring2} word not found')"
   ]
  },
  {
   "cell_type": "code",
   "execution_count": 26,
   "id": "40b195b8",
   "metadata": {},
   "outputs": [
    {
     "name": "stdout",
     "output_type": "stream",
     "text": [
      "Science or MACHINE word not found\n"
     ]
    }
   ],
   "source": [
    "string1 = 'Data Science and Machine Learning'\n",
    "substring1 = 'Science'\n",
    "substring2 = 'MACHINE'\n",
    "\n",
    "if substring1 in string1 and substring2 in string1: # True or False >> False\n",
    "    print(f'{substring1} or {substring2} word found in string')\n",
    "    \n",
    "else:\n",
    "    print(f'{substring1} or {substring2} word not found')"
   ]
  },
  {
   "cell_type": "code",
   "execution_count": 25,
   "id": "b5c9be07",
   "metadata": {},
   "outputs": [
    {
     "name": "stdout",
     "output_type": "stream",
     "text": [
      "science and MACHINE word found in string\n"
     ]
    }
   ],
   "source": [
    "string1 = 'Data Science and Machine Learning'\n",
    "substring1 = 'science'\n",
    "substring2 = 'MACHINE'\n",
    "\n",
    "if substring1.capitalize() in string1 and substring2.capitalize() in string1: # True or True >> True\n",
    "    print(f'{substring1} and {substring2} word found in string')\n",
    "    \n",
    "else:\n",
    "    print(f'{substring1} and {substring2} word not found')"
   ]
  },
  {
   "cell_type": "markdown",
   "id": "79f69be8",
   "metadata": {},
   "source": [
    "### If-elif-else statement"
   ]
  },
  {
   "cell_type": "code",
   "execution_count": null,
   "id": "18a2a835",
   "metadata": {},
   "outputs": [],
   "source": [
    "if\n",
    "if >> elif\n",
    "if >> elif >> else\n",
    "if >> else\n",
    "if >> elif.... >> elif >> else\n",
    "if >> else >> else ## Invalid\n",
    "if >> else >> elif ## Invalid\n",
    "elif >> else ## Invalid"
   ]
  },
  {
   "cell_type": "markdown",
   "id": "8fd58372",
   "metadata": {},
   "source": [
    "### pass Statement"
   ]
  },
  {
   "cell_type": "code",
   "execution_count": null,
   "id": "8b3802a2",
   "metadata": {},
   "outputs": [],
   "source": [
    "Used to avoid error\n",
    "if there is no statement in if/elif/else block. Then we can use pass statement"
   ]
  },
  {
   "cell_type": "code",
   "execution_count": 46,
   "id": "aae22251",
   "metadata": {},
   "outputs": [
    {
     "name": "stdout",
     "output_type": "stream",
     "text": [
      "Yes1\n"
     ]
    }
   ],
   "source": [
    "if 10>2:\n",
    "    print('Yes1')\n",
    "\n",
    "else:\n",
    "    pass"
   ]
  },
  {
   "cell_type": "code",
   "execution_count": 34,
   "id": "47280096",
   "metadata": {},
   "outputs": [
    {
     "name": "stdout",
     "output_type": "stream",
     "text": [
      "Yes1\n"
     ]
    }
   ],
   "source": [
    "if 10>2:\n",
    "    print('Yes1')\n",
    "    if 10>15:\n",
    "        print('yes2')\n",
    "        \n",
    "    else:\n",
    "        pass\n",
    "else:\n",
    "    pass"
   ]
  },
  {
   "cell_type": "code",
   "execution_count": 35,
   "id": "b917d94b",
   "metadata": {},
   "outputs": [
    {
     "name": "stdout",
     "output_type": "stream",
     "text": [
      "b is greater than a\n"
     ]
    }
   ],
   "source": [
    "a = 10\n",
    "b = 20\n",
    "if b>a: # True\n",
    "    print('b is greater than a')\n",
    "\n",
    "else:\n",
    "    print('b i less than a')"
   ]
  },
  {
   "cell_type": "code",
   "execution_count": 39,
   "id": "10516e8d",
   "metadata": {},
   "outputs": [],
   "source": [
    "a = 10\n",
    "b = 20\n",
    "if b>a: # True\n",
    "    pass\n",
    "\n",
    "else:\n",
    "    print('b i less than a')"
   ]
  },
  {
   "cell_type": "code",
   "execution_count": 41,
   "id": "03ea7315",
   "metadata": {},
   "outputs": [],
   "source": [
    "a = 100\n",
    "b = 20\n",
    "if b>a: # False\n",
    "    print('b is greater than a')\n",
    "\n",
    "else:\n",
    "    pass\n"
   ]
  },
  {
   "cell_type": "markdown",
   "id": "f30b8f70",
   "metadata": {},
   "source": [
    "### Nested If Statements"
   ]
  },
  {
   "cell_type": "code",
   "execution_count": null,
   "id": "f794bf76",
   "metadata": {},
   "outputs": [],
   "source": [
    "if statement inside if statement, called nested if statement"
   ]
  },
  {
   "cell_type": "code",
   "execution_count": 47,
   "id": "14f66e26",
   "metadata": {},
   "outputs": [
    {
     "name": "stdout",
     "output_type": "stream",
     "text": [
      "x is greater than 80\n",
      "x is greater than 90\n"
     ]
    }
   ],
   "source": [
    "x=100\n",
    "\n",
    "if x>80:\n",
    "    print('x is greater than 80')\n",
    "    if x > 90:\n",
    "        print('x is greater than 90')\n",
    "    else:\n",
    "        print('x is less than 90')\n",
    "else:\n",
    "    print('x is less than 80')"
   ]
  },
  {
   "cell_type": "code",
   "execution_count": 50,
   "id": "cc8273a5",
   "metadata": {},
   "outputs": [
    {
     "name": "stdout",
     "output_type": "stream",
     "text": [
      "x is greater than 80\n",
      "x is less than 90\n"
     ]
    }
   ],
   "source": [
    "x=85\n",
    "\n",
    "if x>80:\n",
    "    print('x is greater than 80')\n",
    "    if x > 90:\n",
    "        print('x is greater than 90')\n",
    "    else:\n",
    "        print('x is less than 90')\n",
    "else:\n",
    "    print('x is less than 80')"
   ]
  },
  {
   "cell_type": "code",
   "execution_count": 51,
   "id": "bdd76a55",
   "metadata": {},
   "outputs": [
    {
     "name": "stdout",
     "output_type": "stream",
     "text": [
      "x is greater than 80\n"
     ]
    }
   ],
   "source": [
    "x=85\n",
    "\n",
    "if x>80:\n",
    "    print('x is greater than 80')\n",
    "    if x > 90:\n",
    "        print('x is greater than 90')\n",
    "    else:\n",
    "        pass\n",
    "else:\n",
    "    print('x is less than 80')"
   ]
  },
  {
   "cell_type": "code",
   "execution_count": 52,
   "id": "704ac0c2",
   "metadata": {},
   "outputs": [
    {
     "name": "stdout",
     "output_type": "stream",
     "text": [
      "x is less than 80\n"
     ]
    }
   ],
   "source": [
    "x=60\n",
    "\n",
    "if x>80:\n",
    "    print('x is greater than 80')\n",
    "    if x > 90:\n",
    "        print('x is greater than 90')\n",
    "    else:\n",
    "        print('x is less than 90')\n",
    "else:\n",
    "    print('x is less than 80')"
   ]
  },
  {
   "cell_type": "code",
   "execution_count": null,
   "id": "100b1d44",
   "metadata": {},
   "outputs": [],
   "source": [
    "# Age, Salary, Cibil_score\n",
    "# Loan_prediction >> Approved>> Declined"
   ]
  },
  {
   "cell_type": "code",
   "execution_count": 56,
   "id": "d33fd824",
   "metadata": {},
   "outputs": [
    {
     "name": "stdout",
     "output_type": "stream",
     "text": [
      "Age is greater than 20\n",
      "Salary is greater than 40000\n",
      "Cibil Score is greater than 700\n",
      "Loan is Approved\n"
     ]
    }
   ],
   "source": [
    "age=25\n",
    "salary =50000\n",
    "cibil_score=750\n",
    "\n",
    "if age >20: \n",
    "    print('Age is greater than 20')\n",
    "    \n",
    "    if salary > 40000:\n",
    "        print('Salary is greater than 40000')\n",
    "        \n",
    "        if cibil_score > 700:\n",
    "            print('Cibil Score is greater than 700')\n",
    "            print('Loan is Approved')\n",
    "        \n",
    "        else:\n",
    "            print('Declined due to Cibil Score')\n",
    "    else:\n",
    "        print('Declined due to Salary')\n",
    "else:\n",
    "    print('Declined due to Age')"
   ]
  },
  {
   "cell_type": "code",
   "execution_count": 57,
   "id": "538058a9",
   "metadata": {},
   "outputs": [
    {
     "name": "stdout",
     "output_type": "stream",
     "text": [
      "Declined due to Age\n"
     ]
    }
   ],
   "source": [
    "age=19\n",
    "salary =50000\n",
    "cibil_score=750\n",
    "\n",
    "if age >20: \n",
    "    print('Age is greater than 20')\n",
    "    \n",
    "    if salary > 40000:\n",
    "        print('Salary is greater than 40000')\n",
    "        \n",
    "        if cibil_score > 700:\n",
    "            print('Cibil Score is greater than 700')\n",
    "            print('Loan is Approved')\n",
    "        \n",
    "        else:\n",
    "            print('Declined due to Cibil Score')\n",
    "    else:\n",
    "        print('Declined due to Salary')\n",
    "else:\n",
    "    print('Declined due to Age')"
   ]
  },
  {
   "cell_type": "code",
   "execution_count": 58,
   "id": "807652da",
   "metadata": {},
   "outputs": [
    {
     "name": "stdout",
     "output_type": "stream",
     "text": [
      "Age is greater than 20\n",
      "Declined due to Salary\n"
     ]
    }
   ],
   "source": [
    "age=25\n",
    "salary =30000\n",
    "cibil_score=750\n",
    "\n",
    "if age >20: \n",
    "    print('Age is greater than 20')\n",
    "    \n",
    "    if salary > 40000:\n",
    "        print('Salary is greater than 40000')\n",
    "        \n",
    "        if cibil_score > 700:\n",
    "            print('Cibil Score is greater than 700')\n",
    "            print('Loan is Approved')\n",
    "        \n",
    "        else:\n",
    "            print('Declined due to Cibil Score')\n",
    "    else:\n",
    "        print('Declined due to Salary')\n",
    "else:\n",
    "    print('Declined due to Age')"
   ]
  },
  {
   "cell_type": "code",
   "execution_count": 62,
   "id": "53dbf03a",
   "metadata": {},
   "outputs": [
    {
     "name": "stdout",
     "output_type": "stream",
     "text": [
      "Age is greater than 20\n",
      "Salary is greater than 40000\n",
      "Declined due to Cibil Score\n"
     ]
    }
   ],
   "source": [
    "age=25\n",
    "salary =50000\n",
    "cibil_score=650\n",
    "\n",
    "if age >20: \n",
    "    print('Age is greater than 20')\n",
    "    \n",
    "    if salary > 40000:\n",
    "        print('Salary is greater than 40000')\n",
    "        \n",
    "        if cibil_score > 700:\n",
    "            print('Cibil Score is greater than 700')\n",
    "            print('Loan is Approved')\n",
    "        \n",
    "        else:\n",
    "            print('Declined due to Cibil Score')\n",
    "    else:\n",
    "        print('Declined due to Salary')\n",
    "else:\n",
    "    print('Declined due to Age')"
   ]
  },
  {
   "cell_type": "code",
   "execution_count": null,
   "id": "c8a31bf8",
   "metadata": {},
   "outputs": [],
   "source": []
  }
 ],
 "metadata": {
  "kernelspec": {
   "display_name": "Python 3",
   "language": "python",
   "name": "python3"
  },
  "language_info": {
   "codemirror_mode": {
    "name": "ipython",
    "version": 3
   },
   "file_extension": ".py",
   "mimetype": "text/x-python",
   "name": "python",
   "nbconvert_exporter": "python",
   "pygments_lexer": "ipython3",
   "version": "3.8.8"
  }
 },
 "nbformat": 4,
 "nbformat_minor": 5
}
