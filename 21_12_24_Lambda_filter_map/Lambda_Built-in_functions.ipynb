{
 "cells": [
  {
   "cell_type": "markdown",
   "id": "3b34dc4f",
   "metadata": {},
   "source": [
    "## Lambda Function"
   ]
  },
  {
   "cell_type": "code",
   "execution_count": null,
   "id": "94237a66",
   "metadata": {},
   "outputs": [],
   "source": [
    "def square(a):\n",
    "    return a**2"
   ]
  },
  {
   "cell_type": "code",
   "execution_count": null,
   "id": "1d9ab316",
   "metadata": {},
   "outputs": [],
   "source": [
    "Function without name\n",
    "Defined by using lambda keyword\n",
    "No need to use return statement\n",
    "we do not need to define this function\n",
    "we use it for short period of time"
   ]
  },
  {
   "cell_type": "code",
   "execution_count": null,
   "id": "7f56818a",
   "metadata": {},
   "outputs": [],
   "source": [
    "lambda arguments: expression\n",
    "arguments >> 1 or more arguments\n",
    "expression >> only 1 expression\n",
    "It returns an object"
   ]
  },
  {
   "cell_type": "code",
   "execution_count": 1,
   "id": "deb10d72",
   "metadata": {},
   "outputs": [
    {
     "data": {
      "text/plain": [
       "<function __main__.<lambda>(x, y)>"
      ]
     },
     "execution_count": 1,
     "metadata": {},
     "output_type": "execute_result"
    }
   ],
   "source": [
    "lambda a:a**2\n",
    "lambda x,y : x+y"
   ]
  },
  {
   "cell_type": "code",
   "execution_count": 1,
   "id": "64fdfbd7",
   "metadata": {},
   "outputs": [
    {
     "data": {
      "text/plain": [
       "11"
      ]
     },
     "execution_count": 1,
     "metadata": {},
     "output_type": "execute_result"
    }
   ],
   "source": [
    "def my_func(x,y):\n",
    "    return x+y\n",
    "\n",
    "my_func(5,6)"
   ]
  },
  {
   "cell_type": "code",
   "execution_count": 2,
   "id": "9cc8fe9e",
   "metadata": {},
   "outputs": [
    {
     "data": {
      "text/plain": [
       "25"
      ]
     },
     "execution_count": 2,
     "metadata": {},
     "output_type": "execute_result"
    }
   ],
   "source": [
    "def square(x):\n",
    "    return x**2\n",
    "\n",
    "square(5)"
   ]
  },
  {
   "cell_type": "code",
   "execution_count": 5,
   "id": "43110a91",
   "metadata": {},
   "outputs": [
    {
     "data": {
      "text/plain": [
       "<function __main__.<lambda>(x)>"
      ]
     },
     "execution_count": 5,
     "metadata": {},
     "output_type": "execute_result"
    }
   ],
   "source": [
    "lambda x: x**2"
   ]
  },
  {
   "cell_type": "code",
   "execution_count": 4,
   "id": "c3ebecbf",
   "metadata": {},
   "outputs": [
    {
     "data": {
      "text/plain": [
       "25"
      ]
     },
     "execution_count": 4,
     "metadata": {},
     "output_type": "execute_result"
    }
   ],
   "source": [
    "sqr = lambda x: x**2\n",
    "sqr(5)"
   ]
  },
  {
   "cell_type": "code",
   "execution_count": 5,
   "id": "15ae566b",
   "metadata": {},
   "outputs": [
    {
     "data": {
      "text/plain": [
       "15"
      ]
     },
     "execution_count": 5,
     "metadata": {},
     "output_type": "execute_result"
    }
   ],
   "source": [
    "anyname = lambda x,y: x+y\n",
    "anyname(10,5)"
   ]
  },
  {
   "cell_type": "code",
   "execution_count": 7,
   "id": "a6ef39b1",
   "metadata": {},
   "outputs": [
    {
     "data": {
      "text/plain": [
       "100"
      ]
     },
     "execution_count": 7,
     "metadata": {},
     "output_type": "execute_result"
    }
   ],
   "source": [
    "(lambda x:x**2)(10)"
   ]
  },
  {
   "cell_type": "code",
   "execution_count": 9,
   "id": "0042318e",
   "metadata": {},
   "outputs": [
    {
     "data": {
      "text/plain": [
       "30"
      ]
     },
     "execution_count": 9,
     "metadata": {},
     "output_type": "execute_result"
    }
   ],
   "source": [
    "mul = lambda x,y:x*y\n",
    "mul(5,6)"
   ]
  },
  {
   "cell_type": "code",
   "execution_count": 10,
   "id": "f35c8758",
   "metadata": {},
   "outputs": [
    {
     "data": {
      "text/plain": [
       "90"
      ]
     },
     "execution_count": 10,
     "metadata": {},
     "output_type": "execute_result"
    }
   ],
   "source": [
    "mul = lambda x,y,z:x*y*z\n",
    "mul(5,6,3)"
   ]
  },
  {
   "cell_type": "code",
   "execution_count": 11,
   "id": "673a8620",
   "metadata": {},
   "outputs": [
    {
     "data": {
      "text/plain": [
       "4.666666666666667"
      ]
     },
     "execution_count": 11,
     "metadata": {},
     "output_type": "execute_result"
    }
   ],
   "source": [
    "avg = lambda x,y,z:(x+y+z)/3\n",
    "avg(5,6,3)"
   ]
  },
  {
   "cell_type": "code",
   "execution_count": 12,
   "id": "7a0d6446",
   "metadata": {},
   "outputs": [
    {
     "data": {
      "text/plain": [
       "9"
      ]
     },
     "execution_count": 12,
     "metadata": {},
     "output_type": "execute_result"
    }
   ],
   "source": [
    "add = lambda l1: sum(l1)\n",
    "add([2,3,4])"
   ]
  },
  {
   "cell_type": "code",
   "execution_count": 13,
   "id": "81c954ff",
   "metadata": {},
   "outputs": [
    {
     "data": {
      "text/plain": [
       "23.333333333333332"
      ]
     },
     "execution_count": 13,
     "metadata": {},
     "output_type": "execute_result"
    }
   ],
   "source": [
    "avg = lambda x,y,z=40:(x+y+z)/3\n",
    "avg(10,20)"
   ]
  },
  {
   "cell_type": "code",
   "execution_count": 14,
   "id": "cf37ffe0",
   "metadata": {},
   "outputs": [
    {
     "data": {
      "text/plain": [
       "20.0"
      ]
     },
     "execution_count": 14,
     "metadata": {},
     "output_type": "execute_result"
    }
   ],
   "source": [
    "avg = lambda x,y,z=40:(x+y+z)/3\n",
    "avg(10,20,30)"
   ]
  },
  {
   "cell_type": "code",
   "execution_count": 15,
   "id": "0847b0c1",
   "metadata": {},
   "outputs": [
    {
     "data": {
      "text/plain": [
       "9"
      ]
     },
     "execution_count": 15,
     "metadata": {},
     "output_type": "execute_result"
    }
   ],
   "source": [
    "add = lambda *args: sum(args)\n",
    "add(2,3,4)"
   ]
  },
  {
   "cell_type": "code",
   "execution_count": 16,
   "id": "eb586a19",
   "metadata": {},
   "outputs": [
    {
     "data": {
      "text/plain": [
       "69"
      ]
     },
     "execution_count": 16,
     "metadata": {},
     "output_type": "execute_result"
    }
   ],
   "source": [
    "add = lambda *args: sum(args)\n",
    "add(2,3,4,10,20,30)"
   ]
  },
  {
   "cell_type": "code",
   "execution_count": 3,
   "id": "69e7a0a4",
   "metadata": {},
   "outputs": [
    {
     "data": {
      "text/plain": [
       "60"
      ]
     },
     "execution_count": 3,
     "metadata": {},
     "output_type": "execute_result"
    }
   ],
   "source": [
    "add = lambda **kwargs : sum(kwargs.values())\n",
    "add(a=10,b=20,c=30)"
   ]
  },
  {
   "cell_type": "code",
   "execution_count": 18,
   "id": "da8062c2",
   "metadata": {},
   "outputs": [
    {
     "data": {
      "text/plain": [
       "[3, 4, 5, 6]"
      ]
     },
     "execution_count": 18,
     "metadata": {},
     "output_type": "execute_result"
    }
   ],
   "source": [
    "def cube(list1):\n",
    "    return list1\n",
    "\n",
    "l1= cube([3,4,5,6])\n",
    "l1"
   ]
  },
  {
   "cell_type": "code",
   "execution_count": 22,
   "id": "f6650a0e",
   "metadata": {},
   "outputs": [
    {
     "name": "stdout",
     "output_type": "stream",
     "text": [
      "[3, 4, 5, 6]\n"
     ]
    },
    {
     "data": {
      "text/plain": [
       "[27, 64, 125, 216]"
      ]
     },
     "execution_count": 22,
     "metadata": {},
     "output_type": "execute_result"
    }
   ],
   "source": [
    "def cube(list1):\n",
    "    print(list1)\n",
    "    cube_list = [i**3 for i in list1] # List comprehension\n",
    "    return cube_list\n",
    "\n",
    "l1= cube([3,4,5,6])\n",
    "l1"
   ]
  },
  {
   "cell_type": "code",
   "execution_count": 23,
   "id": "29106b35",
   "metadata": {},
   "outputs": [
    {
     "data": {
      "text/plain": [
       "[1, 8, 27, 64]"
      ]
     },
     "execution_count": 23,
     "metadata": {},
     "output_type": "execute_result"
    }
   ],
   "source": [
    "cube_num = lambda list1 : [i**3 for i in list1]\n",
    "cube_num([1,2,3,4])"
   ]
  },
  {
   "cell_type": "code",
   "execution_count": 24,
   "id": "63970e2b",
   "metadata": {},
   "outputs": [
    {
     "data": {
      "text/plain": [
       "[1, 4, 9, 16]"
      ]
     },
     "execution_count": 24,
     "metadata": {},
     "output_type": "execute_result"
    }
   ],
   "source": [
    "sqr_num = lambda list1 : [i**2 for i in list1]\n",
    "sqr_num([1,2,3,4])"
   ]
  },
  {
   "cell_type": "code",
   "execution_count": 25,
   "id": "5330490b",
   "metadata": {},
   "outputs": [
    {
     "data": {
      "text/plain": [
       "20"
      ]
     },
     "execution_count": 25,
     "metadata": {},
     "output_type": "execute_result"
    }
   ],
   "source": [
    "maximum = lambda x,y: x if x > y else y\n",
    "maximum(10,20)"
   ]
  },
  {
   "cell_type": "code",
   "execution_count": 26,
   "id": "a6ff0ac8",
   "metadata": {},
   "outputs": [
    {
     "data": {
      "text/plain": [
       "30"
      ]
     },
     "execution_count": 26,
     "metadata": {},
     "output_type": "execute_result"
    }
   ],
   "source": [
    "maximum = lambda x,y: x if x > y else y\n",
    "maximum(30,20)"
   ]
  },
  {
   "cell_type": "code",
   "execution_count": 27,
   "id": "6ca9a730",
   "metadata": {},
   "outputs": [
    {
     "data": {
      "text/plain": [
       "100"
      ]
     },
     "execution_count": 27,
     "metadata": {},
     "output_type": "execute_result"
    }
   ],
   "source": [
    "maximum(100,99)"
   ]
  },
  {
   "cell_type": "code",
   "execution_count": 28,
   "id": "53ed9aac",
   "metadata": {},
   "outputs": [
    {
     "name": "stdout",
     "output_type": "stream",
     "text": [
      "30 is greater\n"
     ]
    }
   ],
   "source": [
    "maximum = lambda x,y: print(f'{x} is greater') if x > y else print(f'{y} is greater')\n",
    "maximum(30,20)"
   ]
  },
  {
   "cell_type": "code",
   "execution_count": 29,
   "id": "7f258c9e",
   "metadata": {},
   "outputs": [
    {
     "name": "stdout",
     "output_type": "stream",
     "text": [
      "-2 is greater\n"
     ]
    }
   ],
   "source": [
    "maximum(-2,-5)"
   ]
  },
  {
   "cell_type": "markdown",
   "id": "38acb743",
   "metadata": {},
   "source": [
    "### Built in Functions"
   ]
  },
  {
   "cell_type": "markdown",
   "id": "7a2d7237",
   "metadata": {},
   "source": [
    "#### 1. filter()"
   ]
  },
  {
   "cell_type": "code",
   "execution_count": null,
   "id": "f032bec7",
   "metadata": {},
   "outputs": [],
   "source": [
    "filter(function, iterable/sequence)"
   ]
  },
  {
   "cell_type": "code",
   "execution_count": 30,
   "id": "ed766326",
   "metadata": {},
   "outputs": [
    {
     "data": {
      "text/plain": [
       "['Sunday', 'Monday', 'Tuesday', 'Wednesday', 'Thursday', 'Friday', 'Saturday']"
      ]
     },
     "execution_count": 30,
     "metadata": {},
     "output_type": "execute_result"
    }
   ],
   "source": [
    "days =['Sunday','Monday','Tuesday','Wednesday','Thursday','Friday','Saturday']\n",
    "days"
   ]
  },
  {
   "cell_type": "markdown",
   "id": "6283988f",
   "metadata": {},
   "source": [
    "filter is used when we only want elements which match certain condition\n",
    "when we are using conditonal statements"
   ]
  },
  {
   "cell_type": "code",
   "execution_count": 32,
   "id": "43539be3",
   "metadata": {},
   "outputs": [
    {
     "data": {
      "text/plain": [
       "['Sunday', 'Monday', 'Friday']"
      ]
     },
     "execution_count": 32,
     "metadata": {},
     "output_type": "execute_result"
    }
   ],
   "source": [
    "days =['Sunday','Monday','Tuesday','Wednesday','Thursday','Friday','Saturday']\n",
    "list(filter(lambda x : len(x)==6 , days))"
   ]
  },
  {
   "cell_type": "markdown",
   "id": "26204f51",
   "metadata": {},
   "source": [
    "#### 2. map"
   ]
  },
  {
   "cell_type": "markdown",
   "id": "e99abbff",
   "metadata": {},
   "source": [
    "Map is used when you want to do exact operation on each of the element.  \n",
    "When all element are not satisfies by condition then we get boolean output of all element"
   ]
  },
  {
   "cell_type": "code",
   "execution_count": null,
   "id": "131dd441",
   "metadata": {},
   "outputs": [],
   "source": [
    "map(function, iterable/sequence)"
   ]
  },
  {
   "cell_type": "code",
   "execution_count": 33,
   "id": "7d3bc5bf",
   "metadata": {},
   "outputs": [
    {
     "data": {
      "text/plain": [
       "[True, True, False, False, False, True, False]"
      ]
     },
     "execution_count": 33,
     "metadata": {},
     "output_type": "execute_result"
    }
   ],
   "source": [
    "days =['Sunday','Monday','Tuesday','Wednesday','Thursday','Friday','Saturday']\n",
    "list(map(lambda x : len(x)==6 , days))"
   ]
  },
  {
   "cell_type": "code",
   "execution_count": 34,
   "id": "02e383ec",
   "metadata": {},
   "outputs": [
    {
     "data": {
      "text/plain": [
       "['SUNDAY', 'MONDAY', 'TUESDAY', 'WEDNESDAY', 'THURSDAY', 'FRIDAY', 'SATURDAY']"
      ]
     },
     "execution_count": 34,
     "metadata": {},
     "output_type": "execute_result"
    }
   ],
   "source": [
    "days =['Sunday','Monday','Tuesday','Wednesday','Thursday','Friday','Saturday']\n",
    "list(map(lambda x : x.upper() , days))"
   ]
  },
  {
   "cell_type": "code",
   "execution_count": 5,
   "id": "8b79e422",
   "metadata": {},
   "outputs": [
    {
     "data": {
      "text/plain": [
       "['Sunday', 'Monday', 'Tuesday', 'Wednesday', 'Thursday', 'Friday', 'Saturday']"
      ]
     },
     "execution_count": 5,
     "metadata": {},
     "output_type": "execute_result"
    }
   ],
   "source": [
    "days =['Sunday','Monday','Tuesday','Wednesday','Thursday','Friday','Saturday']\n",
    "list(filter(lambda x : x.upper() , days))"
   ]
  },
  {
   "cell_type": "code",
   "execution_count": 7,
   "id": "03c1595d",
   "metadata": {},
   "outputs": [
    {
     "data": {
      "text/plain": [
       "[2, 3, 4, 5, 6]"
      ]
     },
     "execution_count": 7,
     "metadata": {},
     "output_type": "execute_result"
    }
   ],
   "source": [
    "num=[2,3,4,5,6]\n",
    "list(filter(lambda x : x**2 , num))"
   ]
  },
  {
   "cell_type": "code",
   "execution_count": 36,
   "id": "93830a96",
   "metadata": {},
   "outputs": [
    {
     "data": {
      "text/plain": [
       "[4, 9, 16, 25, 36]"
      ]
     },
     "execution_count": 36,
     "metadata": {},
     "output_type": "execute_result"
    }
   ],
   "source": [
    "num=[2,3,4,5,6]\n",
    "list(map(lambda x : x**2 , num))"
   ]
  },
  {
   "cell_type": "code",
   "execution_count": 37,
   "id": "c4464154",
   "metadata": {},
   "outputs": [
    {
     "data": {
      "text/plain": [
       "[True, False, True, False, True]"
      ]
     },
     "execution_count": 37,
     "metadata": {},
     "output_type": "execute_result"
    }
   ],
   "source": [
    "num=[2,3,4,5,6]\n",
    "list(map(lambda x : x%2==0 , num))"
   ]
  },
  {
   "cell_type": "code",
   "execution_count": 38,
   "id": "39c82db1",
   "metadata": {},
   "outputs": [
    {
     "data": {
      "text/plain": [
       "[2, 4, 6]"
      ]
     },
     "execution_count": 38,
     "metadata": {},
     "output_type": "execute_result"
    }
   ],
   "source": [
    "num=[2,3,4,5,6]\n",
    "list(filter(lambda x : x%2==0 , num))"
   ]
  },
  {
   "cell_type": "code",
   "execution_count": 40,
   "id": "14997cd5",
   "metadata": {},
   "outputs": [
    {
     "data": {
      "text/plain": [
       "['Sunday', 'Monday', 'Tuesday', 'Thursday', 'Saturday']"
      ]
     },
     "execution_count": 40,
     "metadata": {},
     "output_type": "execute_result"
    }
   ],
   "source": [
    "days =['Sunday','Monday','Tuesday','wednesday','Thursday','friday','Saturday']\n",
    "list(filter(lambda x : x.istitle() , days))"
   ]
  },
  {
   "cell_type": "code",
   "execution_count": 41,
   "id": "27643c8a",
   "metadata": {},
   "outputs": [
    {
     "data": {
      "text/plain": [
       "[True, True, True, False, True, False, True]"
      ]
     },
     "execution_count": 41,
     "metadata": {},
     "output_type": "execute_result"
    }
   ],
   "source": [
    "days =['Sunday','Monday','Tuesday','wednesday','Thursday','friday','Saturday']\n",
    "list(map(lambda x : x.istitle() , days))"
   ]
  },
  {
   "cell_type": "code",
   "execution_count": 42,
   "id": "4d9b9e93",
   "metadata": {},
   "outputs": [
    {
     "data": {
      "text/plain": [
       "['sunday', 'monday', 'tuesday', 'wednesday', 'thursday', 'friday', 'saturday']"
      ]
     },
     "execution_count": 42,
     "metadata": {},
     "output_type": "execute_result"
    }
   ],
   "source": [
    "days =['Sunday','Monday','Tuesday','wednesday','Thursday','friday','Saturday']\n",
    "list(map(lambda x : x.lower() , days))"
   ]
  },
  {
   "cell_type": "code",
   "execution_count": 43,
   "id": "0d1cd3d9",
   "metadata": {},
   "outputs": [
    {
     "data": {
      "text/plain": [
       "['Sunday', 'Monday', 'Tuesday', 'wednesday', 'Thursday', 'friday', 'Saturday']"
      ]
     },
     "execution_count": 43,
     "metadata": {},
     "output_type": "execute_result"
    }
   ],
   "source": [
    "days =['Sunday','Monday','Tuesday','wednesday','Thursday','friday','Saturday']\n",
    "list(filter(lambda x : x.lower() , days))"
   ]
  },
  {
   "cell_type": "code",
   "execution_count": 45,
   "id": "b3297f3f",
   "metadata": {},
   "outputs": [
    {
     "name": "stdout",
     "output_type": "stream",
     "text": [
      "2 is even\n",
      "3 is odd\n",
      "4 is even\n",
      "5 is odd\n",
      "6 is even\n"
     ]
    },
    {
     "data": {
      "text/plain": [
       "[]"
      ]
     },
     "execution_count": 45,
     "metadata": {},
     "output_type": "execute_result"
    }
   ],
   "source": [
    "num=[2,3,4,5,6]\n",
    "list(filter(lambda x : print(f'{x} is even') if x%2==0 else print(f'{x} is odd') , num))"
   ]
  },
  {
   "cell_type": "code",
   "execution_count": 1,
   "id": "1dff4466",
   "metadata": {},
   "outputs": [
    {
     "name": "stdout",
     "output_type": "stream",
     "text": [
      "2 is even\n",
      "3 is odd\n",
      "4 is even\n",
      "5 is odd\n",
      "6 is even\n"
     ]
    },
    {
     "data": {
      "text/plain": [
       "[None, None, None, None, None]"
      ]
     },
     "execution_count": 1,
     "metadata": {},
     "output_type": "execute_result"
    }
   ],
   "source": [
    "num=[2,3,4,5,6]\n",
    "list(map(lambda x : print(f'{x} is even') if x%2==0 else print(f'{x} is odd') , num))"
   ]
  },
  {
   "cell_type": "code",
   "execution_count": 47,
   "id": "085f6482",
   "metadata": {},
   "outputs": [
    {
     "data": {
      "text/plain": [
       "['sunday', 'monday', 'tuesday', 'wednesday', 'thursday', 'friday', 'saturday']"
      ]
     },
     "execution_count": 47,
     "metadata": {},
     "output_type": "execute_result"
    }
   ],
   "source": [
    "days =['Sunday','Monday','Tuesday','wednesday','Thursday','friday','Saturday']\n",
    "a= list(map(lambda x : x.lower() , days))\n",
    "a"
   ]
  },
  {
   "cell_type": "markdown",
   "id": "accf7a1e",
   "metadata": {},
   "source": [
    "#### 3. reduce"
   ]
  },
  {
   "cell_type": "code",
   "execution_count": 48,
   "id": "0dfb3985",
   "metadata": {},
   "outputs": [
    {
     "data": {
      "text/plain": [
       "27"
      ]
     },
     "execution_count": 48,
     "metadata": {},
     "output_type": "execute_result"
    }
   ],
   "source": [
    "from functools import reduce\n",
    "from functools import *\n",
    "l1 = [2,3,4,5,6,7]\n",
    "reduce(lambda x,y:x+y ,l1)"
   ]
  },
  {
   "cell_type": "code",
   "execution_count": 49,
   "id": "30099d3d",
   "metadata": {},
   "outputs": [
    {
     "data": {
      "text/plain": [
       "120"
      ]
     },
     "execution_count": 49,
     "metadata": {},
     "output_type": "execute_result"
    }
   ],
   "source": [
    "l1 = [2,3,4,5]\n",
    "reduce(lambda x,y:x*y ,l1)"
   ]
  },
  {
   "cell_type": "code",
   "execution_count": 50,
   "id": "658d6418",
   "metadata": {},
   "outputs": [
    {
     "data": {
      "text/plain": [
       "55"
      ]
     },
     "execution_count": 50,
     "metadata": {},
     "output_type": "execute_result"
    }
   ],
   "source": [
    "reduce(lambda x,y:x+y ,range(1,11))"
   ]
  },
  {
   "cell_type": "code",
   "execution_count": 51,
   "id": "729eff2b",
   "metadata": {},
   "outputs": [
    {
     "data": {
      "text/plain": [
       "30"
      ]
     },
     "execution_count": 51,
     "metadata": {},
     "output_type": "execute_result"
    }
   ],
   "source": [
    "a={1:10,2:20}\n",
    "reduce(lambda x,y:x+y ,a.values())"
   ]
  },
  {
   "cell_type": "markdown",
   "id": "28252e6b",
   "metadata": {},
   "source": [
    "#### 4. all"
   ]
  },
  {
   "cell_type": "code",
   "execution_count": null,
   "id": "312d97f9",
   "metadata": {},
   "outputs": [],
   "source": [
    "all(iterables)\n",
    "True >> if all the elements are True\n",
    "True >> if iterable is empty\n",
    "False >> if any of elements are 0(0, False)"
   ]
  },
  {
   "cell_type": "code",
   "execution_count": 53,
   "id": "be6558db",
   "metadata": {},
   "outputs": [
    {
     "data": {
      "text/plain": [
       "True"
      ]
     },
     "execution_count": 53,
     "metadata": {},
     "output_type": "execute_result"
    }
   ],
   "source": [
    "list1=[2,3,4,5,6]\n",
    "all(list1)"
   ]
  },
  {
   "cell_type": "code",
   "execution_count": 54,
   "id": "8fd24119",
   "metadata": {},
   "outputs": [
    {
     "data": {
      "text/plain": [
       "True"
      ]
     },
     "execution_count": 54,
     "metadata": {},
     "output_type": "execute_result"
    }
   ],
   "source": [
    "list1=[2,3,4,5,6,'data']\n",
    "all(list1)"
   ]
  },
  {
   "cell_type": "code",
   "execution_count": 55,
   "id": "0a077cf2",
   "metadata": {},
   "outputs": [
    {
     "data": {
      "text/plain": [
       "False"
      ]
     },
     "execution_count": 55,
     "metadata": {},
     "output_type": "execute_result"
    }
   ],
   "source": [
    "list1=[2,3,4,5,6,0,'data']\n",
    "all(list1)"
   ]
  },
  {
   "cell_type": "code",
   "execution_count": 56,
   "id": "ffa0291f",
   "metadata": {},
   "outputs": [
    {
     "data": {
      "text/plain": [
       "False"
      ]
     },
     "execution_count": 56,
     "metadata": {},
     "output_type": "execute_result"
    }
   ],
   "source": [
    "list1=[2,3,4,5,6,False,'data']\n",
    "all(list1)"
   ]
  },
  {
   "cell_type": "code",
   "execution_count": 57,
   "id": "db9524dd",
   "metadata": {},
   "outputs": [
    {
     "data": {
      "text/plain": [
       "True"
      ]
     },
     "execution_count": 57,
     "metadata": {},
     "output_type": "execute_result"
    }
   ],
   "source": [
    "all([])"
   ]
  },
  {
   "cell_type": "code",
   "execution_count": 58,
   "id": "26604897",
   "metadata": {},
   "outputs": [
    {
     "data": {
      "text/plain": [
       "False"
      ]
     },
     "execution_count": 58,
     "metadata": {},
     "output_type": "execute_result"
    }
   ],
   "source": [
    "list1=[2,3,4,5,6,'']\n",
    "all(list1)"
   ]
  },
  {
   "cell_type": "code",
   "execution_count": 60,
   "id": "7076d16f",
   "metadata": {},
   "outputs": [
    {
     "data": {
      "text/plain": [
       "True"
      ]
     },
     "execution_count": 60,
     "metadata": {},
     "output_type": "execute_result"
    }
   ],
   "source": [
    "all([-1,2,2,3,4,-6])"
   ]
  },
  {
   "cell_type": "code",
   "execution_count": 61,
   "id": "c979b7da",
   "metadata": {},
   "outputs": [
    {
     "data": {
      "text/plain": [
       "True"
      ]
     },
     "execution_count": 61,
     "metadata": {},
     "output_type": "execute_result"
    }
   ],
   "source": [
    "all([True, 1, True ])"
   ]
  },
  {
   "cell_type": "code",
   "execution_count": 62,
   "id": "c45ac20e",
   "metadata": {},
   "outputs": [
    {
     "data": {
      "text/plain": [
       "False"
      ]
     },
     "execution_count": 62,
     "metadata": {},
     "output_type": "execute_result"
    }
   ],
   "source": [
    "all([True, 1, 0 ])"
   ]
  },
  {
   "cell_type": "code",
   "execution_count": 63,
   "id": "e3b01609",
   "metadata": {},
   "outputs": [
    {
     "data": {
      "text/plain": [
       "False"
      ]
     },
     "execution_count": 63,
     "metadata": {},
     "output_type": "execute_result"
    }
   ],
   "source": [
    "all([True, 1, False ])"
   ]
  },
  {
   "cell_type": "code",
   "execution_count": 64,
   "id": "3452e518",
   "metadata": {},
   "outputs": [
    {
     "data": {
      "text/plain": [
       "False"
      ]
     },
     "execution_count": 64,
     "metadata": {},
     "output_type": "execute_result"
    }
   ],
   "source": [
    "all([True, 1, '' ])"
   ]
  },
  {
   "cell_type": "code",
   "execution_count": 65,
   "id": "ba56df58",
   "metadata": {},
   "outputs": [
    {
     "data": {
      "text/plain": [
       "True"
      ]
     },
     "execution_count": 65,
     "metadata": {},
     "output_type": "execute_result"
    }
   ],
   "source": [
    "all({'a':10,'b':0}) # checks keys only"
   ]
  },
  {
   "cell_type": "code",
   "execution_count": 66,
   "id": "5f70bd79",
   "metadata": {},
   "outputs": [
    {
     "data": {
      "text/plain": [
       "False"
      ]
     },
     "execution_count": 66,
     "metadata": {},
     "output_type": "execute_result"
    }
   ],
   "source": [
    "all({'a':10,'':0})"
   ]
  },
  {
   "cell_type": "code",
   "execution_count": 67,
   "id": "cef4ec99",
   "metadata": {},
   "outputs": [
    {
     "data": {
      "text/plain": [
       "False"
      ]
     },
     "execution_count": 67,
     "metadata": {},
     "output_type": "execute_result"
    }
   ],
   "source": [
    "all({'a':10,0:20})"
   ]
  },
  {
   "cell_type": "markdown",
   "id": "038b52de",
   "metadata": {},
   "source": [
    "#### 5, any()"
   ]
  },
  {
   "cell_type": "code",
   "execution_count": null,
   "id": "1f8c2ecb",
   "metadata": {},
   "outputs": [],
   "source": [
    "any(iterables)\n",
    "True >> if at least one elem is True\n",
    "False >> if all elem are false or iterable is empty"
   ]
  },
  {
   "cell_type": "code",
   "execution_count": 68,
   "id": "a56e871f",
   "metadata": {},
   "outputs": [
    {
     "data": {
      "text/plain": [
       "True"
      ]
     },
     "execution_count": 68,
     "metadata": {},
     "output_type": "execute_result"
    }
   ],
   "source": [
    "l1=[12,3,34,1,5,7]\n",
    "any(l1)"
   ]
  },
  {
   "cell_type": "code",
   "execution_count": 69,
   "id": "aef5b040",
   "metadata": {},
   "outputs": [
    {
     "data": {
      "text/plain": [
       "True"
      ]
     },
     "execution_count": 69,
     "metadata": {},
     "output_type": "execute_result"
    }
   ],
   "source": [
    "any([0,10,2])"
   ]
  },
  {
   "cell_type": "code",
   "execution_count": 70,
   "id": "63bd2797",
   "metadata": {},
   "outputs": [
    {
     "data": {
      "text/plain": [
       "False"
      ]
     },
     "execution_count": 70,
     "metadata": {},
     "output_type": "execute_result"
    }
   ],
   "source": [
    "any([0,False])"
   ]
  },
  {
   "cell_type": "code",
   "execution_count": 71,
   "id": "e5f9a92a",
   "metadata": {},
   "outputs": [
    {
     "data": {
      "text/plain": [
       "False"
      ]
     },
     "execution_count": 71,
     "metadata": {},
     "output_type": "execute_result"
    }
   ],
   "source": [
    "any([])"
   ]
  },
  {
   "cell_type": "code",
   "execution_count": 72,
   "id": "4615c0e5",
   "metadata": {},
   "outputs": [
    {
     "data": {
      "text/plain": [
       "True"
      ]
     },
     "execution_count": 72,
     "metadata": {},
     "output_type": "execute_result"
    }
   ],
   "source": [
    "any({'a':10,0:20})"
   ]
  },
  {
   "cell_type": "code",
   "execution_count": 74,
   "id": "b0cfaaf5",
   "metadata": {},
   "outputs": [
    {
     "data": {
      "text/plain": [
       "False"
      ]
     },
     "execution_count": 74,
     "metadata": {},
     "output_type": "execute_result"
    }
   ],
   "source": [
    "any({'':10,0:20})"
   ]
  },
  {
   "cell_type": "code",
   "execution_count": 73,
   "id": "0dff1abc",
   "metadata": {},
   "outputs": [
    {
     "data": {
      "text/plain": [
       "False"
      ]
     },
     "execution_count": 73,
     "metadata": {},
     "output_type": "execute_result"
    }
   ],
   "source": [
    "all({'a':10,0:20})"
   ]
  },
  {
   "cell_type": "markdown",
   "id": "147759ea",
   "metadata": {},
   "source": [
    "#### 6. chr()"
   ]
  },
  {
   "cell_type": "code",
   "execution_count": null,
   "id": "cb77c3cf",
   "metadata": {},
   "outputs": [],
   "source": [
    "ASCII CODE >> character"
   ]
  },
  {
   "cell_type": "code",
   "execution_count": 75,
   "id": "6e600179",
   "metadata": {},
   "outputs": [
    {
     "data": {
      "text/plain": [
       "'C'"
      ]
     },
     "execution_count": 75,
     "metadata": {},
     "output_type": "execute_result"
    }
   ],
   "source": [
    "chr(67)"
   ]
  },
  {
   "cell_type": "code",
   "execution_count": 76,
   "id": "fbb5a3cf",
   "metadata": {},
   "outputs": [
    {
     "data": {
      "text/plain": [
       "'d'"
      ]
     },
     "execution_count": 76,
     "metadata": {},
     "output_type": "execute_result"
    }
   ],
   "source": [
    "chr(100)"
   ]
  },
  {
   "cell_type": "markdown",
   "id": "45c9facf",
   "metadata": {},
   "source": [
    "#### 7. ord()"
   ]
  },
  {
   "cell_type": "code",
   "execution_count": 77,
   "id": "6dc7ecb3",
   "metadata": {},
   "outputs": [
    {
     "data": {
      "text/plain": [
       "97"
      ]
     },
     "execution_count": 77,
     "metadata": {},
     "output_type": "execute_result"
    }
   ],
   "source": [
    "ord('a')"
   ]
  },
  {
   "cell_type": "code",
   "execution_count": 79,
   "id": "e2290be0",
   "metadata": {},
   "outputs": [
    {
     "data": {
      "text/plain": [
       "57"
      ]
     },
     "execution_count": 79,
     "metadata": {},
     "output_type": "execute_result"
    }
   ],
   "source": [
    "ord('9')"
   ]
  },
  {
   "cell_type": "code",
   "execution_count": 80,
   "id": "16c60c28",
   "metadata": {},
   "outputs": [
    {
     "data": {
      "text/plain": [
       "59"
      ]
     },
     "execution_count": 80,
     "metadata": {},
     "output_type": "execute_result"
    }
   ],
   "source": [
    "ord(';')"
   ]
  },
  {
   "cell_type": "markdown",
   "id": "92590a8f",
   "metadata": {},
   "source": [
    "#### 8. bin()"
   ]
  },
  {
   "cell_type": "code",
   "execution_count": 81,
   "id": "03eed2dd",
   "metadata": {},
   "outputs": [
    {
     "data": {
      "text/plain": [
       "'0b1010'"
      ]
     },
     "execution_count": 81,
     "metadata": {},
     "output_type": "execute_result"
    }
   ],
   "source": [
    "bin(10)"
   ]
  },
  {
   "cell_type": "code",
   "execution_count": 82,
   "id": "20e0d5ff",
   "metadata": {},
   "outputs": [
    {
     "data": {
      "text/plain": [
       "'0b1'"
      ]
     },
     "execution_count": 82,
     "metadata": {},
     "output_type": "execute_result"
    }
   ],
   "source": [
    "bin(1)"
   ]
  },
  {
   "cell_type": "markdown",
   "id": "38e1ff3f",
   "metadata": {},
   "source": [
    "#### 9. bool"
   ]
  },
  {
   "cell_type": "code",
   "execution_count": 83,
   "id": "c5f6c6e0",
   "metadata": {},
   "outputs": [
    {
     "data": {
      "text/plain": [
       "True"
      ]
     },
     "execution_count": 83,
     "metadata": {},
     "output_type": "execute_result"
    }
   ],
   "source": [
    "bool(2)"
   ]
  },
  {
   "cell_type": "code",
   "execution_count": 84,
   "id": "a7c18f4e",
   "metadata": {},
   "outputs": [
    {
     "data": {
      "text/plain": [
       "True"
      ]
     },
     "execution_count": 84,
     "metadata": {},
     "output_type": "execute_result"
    }
   ],
   "source": [
    "bool(4==4)"
   ]
  },
  {
   "cell_type": "code",
   "execution_count": 85,
   "id": "c4780f5d",
   "metadata": {},
   "outputs": [
    {
     "data": {
      "text/plain": [
       "False"
      ]
     },
     "execution_count": 85,
     "metadata": {},
     "output_type": "execute_result"
    }
   ],
   "source": [
    "bool(0)"
   ]
  },
  {
   "cell_type": "code",
   "execution_count": 86,
   "id": "f73f1ec6",
   "metadata": {},
   "outputs": [
    {
     "data": {
      "text/plain": [
       "False"
      ]
     },
     "execution_count": 86,
     "metadata": {},
     "output_type": "execute_result"
    }
   ],
   "source": [
    "bool([])"
   ]
  },
  {
   "cell_type": "markdown",
   "id": "c1dff91b",
   "metadata": {},
   "source": [
    "#### 10. abs()"
   ]
  },
  {
   "cell_type": "code",
   "execution_count": null,
   "id": "d2a4ed23",
   "metadata": {},
   "outputs": [],
   "source": [
    "Returns absolute values(positive values)\n",
    "\n",
    "if number is complex >> abs returns its magnitude"
   ]
  },
  {
   "cell_type": "code",
   "execution_count": 87,
   "id": "7b8146c7",
   "metadata": {},
   "outputs": [
    {
     "data": {
      "text/plain": [
       "10"
      ]
     },
     "execution_count": 87,
     "metadata": {},
     "output_type": "execute_result"
    }
   ],
   "source": [
    "abs(10)"
   ]
  },
  {
   "cell_type": "code",
   "execution_count": 88,
   "id": "e0898340",
   "metadata": {},
   "outputs": [
    {
     "data": {
      "text/plain": [
       "10"
      ]
     },
     "execution_count": 88,
     "metadata": {},
     "output_type": "execute_result"
    }
   ],
   "source": [
    "abs(-10)"
   ]
  },
  {
   "cell_type": "code",
   "execution_count": 89,
   "id": "7b4e4e0f",
   "metadata": {},
   "outputs": [
    {
     "data": {
      "text/plain": [
       "5.0"
      ]
     },
     "execution_count": 89,
     "metadata": {},
     "output_type": "execute_result"
    }
   ],
   "source": [
    "abs(3+4j)"
   ]
  },
  {
   "cell_type": "code",
   "execution_count": 90,
   "id": "264951be",
   "metadata": {},
   "outputs": [
    {
     "data": {
      "text/plain": [
       "10.0"
      ]
     },
     "execution_count": 90,
     "metadata": {},
     "output_type": "execute_result"
    }
   ],
   "source": [
    "abs(6+8j) # square both values and take root "
   ]
  },
  {
   "cell_type": "markdown",
   "id": "23a93eae",
   "metadata": {},
   "source": [
    "#### 11. dir()"
   ]
  },
  {
   "cell_type": "code",
   "execution_count": null,
   "id": "3072f727",
   "metadata": {},
   "outputs": [],
   "source": [
    "dir >> directory\n",
    "List of valid attributes (variables, functions, classnames) of an object"
   ]
  },
  {
   "cell_type": "code",
   "execution_count": 91,
   "id": "d8502473",
   "metadata": {},
   "outputs": [
    {
     "name": "stdout",
     "output_type": "stream",
     "text": [
      "['DirEntry', 'F_OK', 'MutableMapping', 'O_APPEND', 'O_BINARY', 'O_CREAT', 'O_EXCL', 'O_NOINHERIT', 'O_RANDOM', 'O_RDONLY', 'O_RDWR', 'O_SEQUENTIAL', 'O_SHORT_LIVED', 'O_TEMPORARY', 'O_TEXT', 'O_TRUNC', 'O_WRONLY', 'P_DETACH', 'P_NOWAIT', 'P_NOWAITO', 'P_OVERLAY', 'P_WAIT', 'PathLike', 'R_OK', 'SEEK_CUR', 'SEEK_END', 'SEEK_SET', 'TMP_MAX', 'W_OK', 'X_OK', '_AddedDllDirectory', '_Environ', '__all__', '__builtins__', '__cached__', '__doc__', '__file__', '__loader__', '__name__', '__package__', '__spec__', '_check_methods', '_execvpe', '_exists', '_exit', '_fspath', '_get_exports_list', '_putenv', '_unsetenv', '_wrap_close', 'abc', 'abort', 'access', 'add_dll_directory', 'altsep', 'chdir', 'chmod', 'close', 'closerange', 'cpu_count', 'curdir', 'defpath', 'device_encoding', 'devnull', 'dup', 'dup2', 'environ', 'error', 'execl', 'execle', 'execlp', 'execlpe', 'execv', 'execve', 'execvp', 'execvpe', 'extsep', 'fdopen', 'fsdecode', 'fsencode', 'fspath', 'fstat', 'fsync', 'ftruncate', 'get_exec_path', 'get_handle_inheritable', 'get_inheritable', 'get_terminal_size', 'getcwd', 'getcwdb', 'getenv', 'getlogin', 'getpid', 'getppid', 'isatty', 'kill', 'linesep', 'link', 'listdir', 'lseek', 'lstat', 'makedirs', 'mkdir', 'name', 'open', 'pardir', 'path', 'pathsep', 'pipe', 'popen', 'putenv', 'read', 'readlink', 'remove', 'removedirs', 'rename', 'renames', 'replace', 'rmdir', 'scandir', 'sep', 'set_handle_inheritable', 'set_inheritable', 'spawnl', 'spawnle', 'spawnv', 'spawnve', 'st', 'startfile', 'stat', 'stat_result', 'statvfs_result', 'strerror', 'supports_bytes_environ', 'supports_dir_fd', 'supports_effective_ids', 'supports_fd', 'supports_follow_symlinks', 'symlink', 'sys', 'system', 'terminal_size', 'times', 'times_result', 'truncate', 'umask', 'uname_result', 'unlink', 'urandom', 'utime', 'waitpid', 'walk', 'write']\n"
     ]
    }
   ],
   "source": [
    "import os\n",
    "print(dir(os))"
   ]
  },
  {
   "cell_type": "code",
   "execution_count": 92,
   "id": "2402610e",
   "metadata": {},
   "outputs": [
    {
     "name": "stdout",
     "output_type": "stream",
     "text": [
      "['BooleanDtype', 'Categorical', 'CategoricalDtype', 'CategoricalIndex', 'DataFrame', 'DateOffset', 'DatetimeIndex', 'DatetimeTZDtype', 'ExcelFile', 'ExcelWriter', 'Flags', 'Float32Dtype', 'Float64Dtype', 'Float64Index', 'Grouper', 'HDFStore', 'Index', 'IndexSlice', 'Int16Dtype', 'Int32Dtype', 'Int64Dtype', 'Int64Index', 'Int8Dtype', 'Interval', 'IntervalDtype', 'IntervalIndex', 'MultiIndex', 'NA', 'NaT', 'NamedAgg', 'Period', 'PeriodDtype', 'PeriodIndex', 'RangeIndex', 'Series', 'SparseDtype', 'StringDtype', 'Timedelta', 'TimedeltaIndex', 'Timestamp', 'UInt16Dtype', 'UInt32Dtype', 'UInt64Dtype', 'UInt64Index', 'UInt8Dtype', '__builtins__', '__cached__', '__doc__', '__docformat__', '__file__', '__getattr__', '__git_version__', '__loader__', '__name__', '__package__', '__path__', '__spec__', '__version__', '_config', '_hashtable', '_is_numpy_dev', '_lib', '_libs', '_np_version_under1p17', '_np_version_under1p18', '_testing', '_tslib', '_typing', '_version', 'api', 'array', 'arrays', 'bdate_range', 'compat', 'concat', 'core', 'crosstab', 'cut', 'date_range', 'describe_option', 'errors', 'eval', 'factorize', 'get_dummies', 'get_option', 'infer_freq', 'interval_range', 'io', 'isna', 'isnull', 'json_normalize', 'lreshape', 'melt', 'merge', 'merge_asof', 'merge_ordered', 'notna', 'notnull', 'offsets', 'option_context', 'options', 'pandas', 'period_range', 'pivot', 'pivot_table', 'plotting', 'qcut', 'read_clipboard', 'read_csv', 'read_excel', 'read_feather', 'read_fwf', 'read_gbq', 'read_hdf', 'read_html', 'read_json', 'read_orc', 'read_parquet', 'read_pickle', 'read_sas', 'read_spss', 'read_sql', 'read_sql_query', 'read_sql_table', 'read_stata', 'read_table', 'reset_option', 'set_eng_float_format', 'set_option', 'show_versions', 'test', 'testing', 'timedelta_range', 'to_datetime', 'to_numeric', 'to_pickle', 'to_timedelta', 'tseries', 'unique', 'util', 'value_counts', 'wide_to_long']\n"
     ]
    }
   ],
   "source": [
    "import pandas\n",
    "print(dir(pandas))"
   ]
  },
  {
   "cell_type": "markdown",
   "id": "bfc7e21b",
   "metadata": {},
   "source": [
    "#### 12. enumerate()"
   ]
  },
  {
   "cell_type": "code",
   "execution_count": 93,
   "id": "d61098ab",
   "metadata": {},
   "outputs": [
    {
     "data": {
      "text/plain": [
       "[(0, 'p'), (1, 'y'), (2, 't'), (3, 'h'), (4, 'o'), (5, 'n')]"
      ]
     },
     "execution_count": 93,
     "metadata": {},
     "output_type": "execute_result"
    }
   ],
   "source": [
    "s= 'python'\n",
    "list(enumerate(s))"
   ]
  },
  {
   "cell_type": "code",
   "execution_count": 94,
   "id": "d2e6f809",
   "metadata": {},
   "outputs": [
    {
     "name": "stdout",
     "output_type": "stream",
     "text": [
      "i==0, val==p\n",
      "i==1, val==y\n",
      "i==2, val==t\n",
      "i==3, val==h\n",
      "i==4, val==o\n",
      "i==5, val==n\n"
     ]
    }
   ],
   "source": [
    "for i,val in enumerate(s):\n",
    "    print(f'i=={i}, val=={val}')"
   ]
  },
  {
   "cell_type": "markdown",
   "id": "3dce76ee",
   "metadata": {},
   "source": [
    "#### 13. range()"
   ]
  },
  {
   "cell_type": "code",
   "execution_count": 95,
   "id": "6b4d3c5f",
   "metadata": {},
   "outputs": [
    {
     "data": {
      "text/plain": [
       "[0, 1, 2, 3, 4, 5, 6, 7, 8, 9, 10]"
      ]
     },
     "execution_count": 95,
     "metadata": {},
     "output_type": "execute_result"
    }
   ],
   "source": [
    "list(range(11))"
   ]
  },
  {
   "cell_type": "code",
   "execution_count": 96,
   "id": "3ad4a7c3",
   "metadata": {},
   "outputs": [
    {
     "name": "stdout",
     "output_type": "stream",
     "text": [
      "0\n",
      "1\n",
      "2\n",
      "3\n",
      "4\n",
      "5\n",
      "6\n",
      "7\n",
      "8\n",
      "9\n",
      "10\n"
     ]
    }
   ],
   "source": [
    "for i in range(11):\n",
    "    print(i)"
   ]
  },
  {
   "cell_type": "code",
   "execution_count": 100,
   "id": "574d8df4",
   "metadata": {},
   "outputs": [
    {
     "name": "stdout",
     "output_type": "stream",
     "text": [
      "4\n",
      "9\n",
      "16\n",
      "25\n",
      "36\n"
     ]
    }
   ],
   "source": [
    "l1=[2,3,4,5,6]\n",
    "for i in l1:\n",
    "    print(i**2)"
   ]
  },
  {
   "cell_type": "code",
   "execution_count": 101,
   "id": "6049fe63",
   "metadata": {},
   "outputs": [
    {
     "name": "stdout",
     "output_type": "stream",
     "text": [
      "4\n",
      "9\n",
      "16\n",
      "25\n",
      "36\n"
     ]
    }
   ],
   "source": [
    "l1=[2,3,4,5,6]\n",
    "for i in range(len(l1)):\n",
    "    print(l1[i]**2)"
   ]
  },
  {
   "cell_type": "markdown",
   "id": "f5c67bc1",
   "metadata": {},
   "source": [
    "#### 14. print()"
   ]
  },
  {
   "cell_type": "code",
   "execution_count": 102,
   "id": "a0938a35",
   "metadata": {},
   "outputs": [
    {
     "name": "stdout",
     "output_type": "stream",
     "text": [
      "data\n"
     ]
    }
   ],
   "source": [
    "a= 'data'\n",
    "print(a)"
   ]
  },
  {
   "cell_type": "markdown",
   "id": "13e9262a",
   "metadata": {},
   "source": [
    "#### 15. input()"
   ]
  },
  {
   "cell_type": "code",
   "execution_count": null,
   "id": "cbe37cf9",
   "metadata": {},
   "outputs": [],
   "source": [
    "user inputs"
   ]
  },
  {
   "cell_type": "code",
   "execution_count": 104,
   "id": "3170f7f9",
   "metadata": {},
   "outputs": [
    {
     "name": "stdout",
     "output_type": "stream",
     "text": [
      "Enter a value of n:10\n"
     ]
    }
   ],
   "source": [
    "n=input('Enter a value of n:')"
   ]
  },
  {
   "cell_type": "code",
   "execution_count": 105,
   "id": "cd0b2bc5",
   "metadata": {},
   "outputs": [
    {
     "data": {
      "text/plain": [
       "'10'"
      ]
     },
     "execution_count": 105,
     "metadata": {},
     "output_type": "execute_result"
    }
   ],
   "source": [
    "n"
   ]
  },
  {
   "cell_type": "code",
   "execution_count": 106,
   "id": "5b6a9175",
   "metadata": {},
   "outputs": [
    {
     "name": "stdout",
     "output_type": "stream",
     "text": [
      "Enter a value of n:10\n"
     ]
    }
   ],
   "source": [
    "n=int(input('Enter a value of n:'))"
   ]
  },
  {
   "cell_type": "code",
   "execution_count": 107,
   "id": "f218a277",
   "metadata": {},
   "outputs": [
    {
     "data": {
      "text/plain": [
       "10"
      ]
     },
     "execution_count": 107,
     "metadata": {},
     "output_type": "execute_result"
    }
   ],
   "source": [
    "n"
   ]
  },
  {
   "cell_type": "markdown",
   "id": "8acafa23",
   "metadata": {},
   "source": [
    "#### 16. eval()"
   ]
  },
  {
   "cell_type": "code",
   "execution_count": 108,
   "id": "7707d5b3",
   "metadata": {},
   "outputs": [
    {
     "name": "stdout",
     "output_type": "stream",
     "text": [
      "enter a num100\n",
      "100.0 <class 'float'>\n"
     ]
    }
   ],
   "source": [
    "a = float(input('enter a num'))\n",
    "print(a,type(a))"
   ]
  },
  {
   "cell_type": "code",
   "execution_count": 109,
   "id": "da18cdff",
   "metadata": {},
   "outputs": [
    {
     "name": "stdout",
     "output_type": "stream",
     "text": [
      "enter a num10.5\n",
      "10.5 <class 'float'>\n"
     ]
    }
   ],
   "source": [
    "a = float(input('enter a num'))\n",
    "print(a,type(a))"
   ]
  },
  {
   "cell_type": "code",
   "execution_count": 2,
   "id": "844b74f9",
   "metadata": {},
   "outputs": [
    {
     "name": "stdout",
     "output_type": "stream",
     "text": [
      "enter a num:100\n",
      "100 <class 'int'>\n"
     ]
    }
   ],
   "source": [
    "a = eval(input('enter a num:'))\n",
    "print(a,type(a))"
   ]
  },
  {
   "cell_type": "code",
   "execution_count": 3,
   "id": "23dc0341",
   "metadata": {},
   "outputs": [
    {
     "name": "stdout",
     "output_type": "stream",
     "text": [
      "enter a num:10.5\n",
      "10.5 <class 'float'>\n"
     ]
    }
   ],
   "source": [
    "a = eval(input('enter a num:'))\n",
    "print(a,type(a))"
   ]
  },
  {
   "cell_type": "code",
   "execution_count": 5,
   "id": "18c4150e",
   "metadata": {},
   "outputs": [
    {
     "name": "stdout",
     "output_type": "stream",
     "text": [
      "enter a num:'data'\n",
      "data <class 'str'>\n"
     ]
    }
   ],
   "source": [
    "a = eval(input('enter a num:'))\n",
    "print(a,type(a))"
   ]
  },
  {
   "cell_type": "code",
   "execution_count": 6,
   "id": "6402c0c1",
   "metadata": {},
   "outputs": [
    {
     "name": "stdout",
     "output_type": "stream",
     "text": [
      "enter a num:12\n"
     ]
    },
    {
     "data": {
      "text/plain": [
       "'12'"
      ]
     },
     "execution_count": 6,
     "metadata": {},
     "output_type": "execute_result"
    }
   ],
   "source": [
    "a = input('enter a num:')\n",
    "a"
   ]
  },
  {
   "cell_type": "code",
   "execution_count": 7,
   "id": "2cc4c0e1",
   "metadata": {},
   "outputs": [
    {
     "name": "stdout",
     "output_type": "stream",
     "text": [
      "enter a num:10\n"
     ]
    },
    {
     "data": {
      "text/plain": [
       "10"
      ]
     },
     "execution_count": 7,
     "metadata": {},
     "output_type": "execute_result"
    }
   ],
   "source": [
    "a = int(input('enter a num:'))\n",
    "a"
   ]
  },
  {
   "cell_type": "code",
   "execution_count": 8,
   "id": "7e46f71a",
   "metadata": {},
   "outputs": [
    {
     "name": "stdout",
     "output_type": "stream",
     "text": [
      "enter a num:10\n"
     ]
    },
    {
     "data": {
      "text/plain": [
       "10"
      ]
     },
     "execution_count": 8,
     "metadata": {},
     "output_type": "execute_result"
    }
   ],
   "source": [
    "a = eval(input('enter a num:'))\n",
    "a"
   ]
  },
  {
   "cell_type": "code",
   "execution_count": 10,
   "id": "d8149906",
   "metadata": {},
   "outputs": [
    {
     "name": "stdout",
     "output_type": "stream",
     "text": [
      "enter a num:100.1\n"
     ]
    },
    {
     "data": {
      "text/plain": [
       "100.1"
      ]
     },
     "execution_count": 10,
     "metadata": {},
     "output_type": "execute_result"
    }
   ],
   "source": [
    "a = eval(input('enter a num:'))\n",
    "a"
   ]
  },
  {
   "cell_type": "code",
   "execution_count": 11,
   "id": "e7f0f768",
   "metadata": {},
   "outputs": [
    {
     "data": {
      "text/plain": [
       "float"
      ]
     },
     "execution_count": 11,
     "metadata": {},
     "output_type": "execute_result"
    }
   ],
   "source": [
    "type(a)"
   ]
  },
  {
   "cell_type": "code",
   "execution_count": null,
   "id": "e94671df",
   "metadata": {},
   "outputs": [],
   "source": []
  },
  {
   "cell_type": "code",
   "execution_count": null,
   "id": "b22f40c6",
   "metadata": {},
   "outputs": [],
   "source": []
  },
  {
   "cell_type": "code",
   "execution_count": null,
   "id": "4162a574",
   "metadata": {},
   "outputs": [],
   "source": []
  },
  {
   "cell_type": "code",
   "execution_count": null,
   "id": "6fc75afb",
   "metadata": {},
   "outputs": [],
   "source": []
  },
  {
   "cell_type": "code",
   "execution_count": null,
   "id": "4299d354",
   "metadata": {},
   "outputs": [],
   "source": []
  },
  {
   "cell_type": "code",
   "execution_count": null,
   "id": "66bae37e",
   "metadata": {},
   "outputs": [],
   "source": []
  },
  {
   "cell_type": "code",
   "execution_count": null,
   "id": "84b10ee3",
   "metadata": {},
   "outputs": [],
   "source": []
  },
  {
   "cell_type": "code",
   "execution_count": null,
   "id": "ab61398a",
   "metadata": {},
   "outputs": [],
   "source": []
  }
 ],
 "metadata": {
  "kernelspec": {
   "display_name": "Python 3 (ipykernel)",
   "language": "python",
   "name": "python3"
  },
  "language_info": {
   "codemirror_mode": {
    "name": "ipython",
    "version": 3
   },
   "file_extension": ".py",
   "mimetype": "text/x-python",
   "name": "python",
   "nbconvert_exporter": "python",
   "pygments_lexer": "ipython3",
   "version": "3.9.7"
  }
 },
 "nbformat": 4,
 "nbformat_minor": 5
}
