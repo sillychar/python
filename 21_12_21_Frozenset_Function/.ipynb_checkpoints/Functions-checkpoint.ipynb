{
 "cells": [
  {
   "cell_type": "markdown",
   "id": "7cfeedfc",
   "metadata": {},
   "source": [
    "## Functions"
   ]
  },
  {
   "cell_type": "code",
   "execution_count": null,
   "id": "f7aca9ba",
   "metadata": {},
   "outputs": [],
   "source": [
    "1. Built in functions:\n",
    "    id()\n",
    "    type()\n",
    "    max()\n",
    "    min()"
   ]
  },
  {
   "cell_type": "code",
   "execution_count": null,
   "id": "aab18489",
   "metadata": {},
   "outputs": [],
   "source": [
    "2. User defined function:\n",
    "functions are orgaanized block of reusable code\n",
    "\n",
    "it will executes only when it is been called explicitly"
   ]
  },
  {
   "cell_type": "code",
   "execution_count": null,
   "id": "7aa4b94a",
   "metadata": {},
   "outputs": [],
   "source": [
    "def >> definition\n",
    "\n",
    "def my_function_name(parameter1,parameter2):\n",
    "    statement1\n",
    "    statement2\n",
    "    return # optional\n",
    "my_function_name()\n",
    "my_function_name()"
   ]
  },
  {
   "cell_type": "code",
   "execution_count": 2,
   "id": "364a5a22",
   "metadata": {},
   "outputs": [],
   "source": [
    "def my_fun():\n",
    "    print('Hello')"
   ]
  },
  {
   "cell_type": "code",
   "execution_count": 3,
   "id": "52132c79",
   "metadata": {},
   "outputs": [
    {
     "name": "stdout",
     "output_type": "stream",
     "text": [
      "Hello\n"
     ]
    }
   ],
   "source": [
    "my_fun()"
   ]
  },
  {
   "cell_type": "code",
   "execution_count": 4,
   "id": "d21abccb",
   "metadata": {},
   "outputs": [
    {
     "name": "stdout",
     "output_type": "stream",
     "text": [
      "Hello\n"
     ]
    }
   ],
   "source": [
    "my_fun()"
   ]
  },
  {
   "cell_type": "code",
   "execution_count": null,
   "id": "95eec1a8",
   "metadata": {},
   "outputs": [],
   "source": [
    "Line 10 : avg of 10 num,sum, mul\n",
    "    \n",
    "Line 50 : avg of 10 num,sum, mul\n",
    "    \n",
    "Line 100 : avg of 10 num,sum, mul"
   ]
  },
  {
   "cell_type": "code",
   "execution_count": 5,
   "id": "bcfb2a88",
   "metadata": {},
   "outputs": [
    {
     "name": "stdout",
     "output_type": "stream",
     "text": [
      "We are testing functions\n",
      "Hello Python\n"
     ]
    }
   ],
   "source": [
    "def function_name():\n",
    "    print('We are testing functions')\n",
    "    print('Hello Python')\n",
    "\n",
    "function_name()"
   ]
  },
  {
   "cell_type": "code",
   "execution_count": 6,
   "id": "6c26ecda",
   "metadata": {},
   "outputs": [
    {
     "name": "stdout",
     "output_type": "stream",
     "text": [
      "We are testing functions\n",
      "Hello Python\n",
      "Function is printing here : None\n",
      "We are testing functions\n",
      "Hello Python\n",
      "Function is printing here : None\n",
      "We are testing functions\n",
      "Hello Python\n",
      "Function is printing here : None\n",
      "We are testing functions\n",
      "Hello Python\n",
      "Function is printing here : None\n",
      "We are testing functions\n",
      "Hello Python\n",
      "Function is printing here : None\n"
     ]
    }
   ],
   "source": [
    "for i in range(5):\n",
    "    print('Function is printing here :',function_name() )"
   ]
  },
  {
   "cell_type": "code",
   "execution_count": 9,
   "id": "51e0dd65",
   "metadata": {},
   "outputs": [
    {
     "name": "stdout",
     "output_type": "stream",
     "text": [
      "We are testing functions\n",
      "Hello Python\n",
      "Python is programming Language\n",
      "Python is programming Language\n",
      "Python is programming Language\n",
      "Python is programming Language\n",
      "Python is programming Language\n",
      "\n",
      "We are testing functions\n",
      "Hello Python\n",
      "Python is programming Language\n",
      "Python is programming Language\n",
      "Python is programming Language\n",
      "Python is programming Language\n",
      "Python is programming Language\n"
     ]
    }
   ],
   "source": [
    "def function_name():\n",
    "    print('We are testing functions')\n",
    "    print('Hello Python')\n",
    "    for i in range(5):\n",
    "        print('Python is programming Language')\n",
    "    \n",
    "function_name()\n",
    "print()\n",
    "function_name()"
   ]
  },
  {
   "cell_type": "code",
   "execution_count": 10,
   "id": "c40a85ea",
   "metadata": {},
   "outputs": [
    {
     "data": {
      "text/plain": [
       "5"
      ]
     },
     "execution_count": 10,
     "metadata": {},
     "output_type": "execute_result"
    }
   ],
   "source": [
    "list1 = [2,3,4,2,5]\n",
    "max(list1)"
   ]
  },
  {
   "cell_type": "code",
   "execution_count": 11,
   "id": "dcd56e5c",
   "metadata": {},
   "outputs": [
    {
     "data": {
      "text/plain": [
       "16"
      ]
     },
     "execution_count": 11,
     "metadata": {},
     "output_type": "execute_result"
    }
   ],
   "source": [
    "sum(list1)"
   ]
  },
  {
   "cell_type": "code",
   "execution_count": 14,
   "id": "0037deea",
   "metadata": {},
   "outputs": [
    {
     "name": "stdout",
     "output_type": "stream",
     "text": [
      "Average of numbers is :  15.0\n",
      "Average of numbers is :  30.0\n",
      "Average of numbers is :  300.0\n"
     ]
    }
   ],
   "source": [
    "# avg of 3 numbers\n",
    "a =10\n",
    "b =20\n",
    "c =15\n",
    "avg =(a+b+c)/3\n",
    "print('Average of numbers is : ',avg)\n",
    "\n",
    "a,b,c = 20,30,40\n",
    "avg =(a+b+c)/3\n",
    "print('Average of numbers is : ',avg)\n",
    "\n",
    "a,b,c = 200,300,400\n",
    "avg =(a+b+c)/3\n",
    "print('Average of numbers is : ',avg)"
   ]
  },
  {
   "cell_type": "code",
   "execution_count": 16,
   "id": "aa492432",
   "metadata": {},
   "outputs": [
    {
     "name": "stdout",
     "output_type": "stream",
     "text": [
      "Addition of numbers is : 75\n",
      "Average of numbers is : 25.0\n"
     ]
    }
   ],
   "source": [
    "def average(a,b,c):\n",
    "    addition= a + b + c\n",
    "    print('Addition of numbers is :', addition)\n",
    "    \n",
    "    avg = addition/3 \n",
    "    print('Average of numbers is :', avg)\n",
    "    \n",
    "a,b,c=10,25,40\n",
    "average(a,b,c) # a , b , c are arguments"
   ]
  },
  {
   "cell_type": "code",
   "execution_count": 17,
   "id": "a396ca8c",
   "metadata": {},
   "outputs": [
    {
     "name": "stdout",
     "output_type": "stream",
     "text": [
      "Addition of numbers is : 75\n",
      "Average of numbers is : 25.0\n"
     ]
    }
   ],
   "source": [
    "x,y,z=10,25,40\n",
    "average(x,y,z)"
   ]
  },
  {
   "cell_type": "code",
   "execution_count": 18,
   "id": "103020f3",
   "metadata": {},
   "outputs": [
    {
     "name": "stdout",
     "output_type": "stream",
     "text": [
      "Addition of numbers is : 75\n",
      "Average of numbers is : 25.0\n"
     ]
    }
   ],
   "source": [
    "average(10,25,40)"
   ]
  },
  {
   "cell_type": "code",
   "execution_count": 19,
   "id": "63091a5b",
   "metadata": {},
   "outputs": [
    {
     "name": "stdout",
     "output_type": "stream",
     "text": [
      "Addition of numbers is : 26\n",
      "Average of numbers is : 8.666666666666666\n"
     ]
    }
   ],
   "source": [
    "average(1,5,20)"
   ]
  },
  {
   "cell_type": "code",
   "execution_count": 20,
   "id": "bc3176a7",
   "metadata": {},
   "outputs": [
    {
     "ename": "TypeError",
     "evalue": "average() missing 1 required positional argument: 'c'",
     "output_type": "error",
     "traceback": [
      "\u001b[1;31m---------------------------------------------------------------------------\u001b[0m",
      "\u001b[1;31mTypeError\u001b[0m                                 Traceback (most recent call last)",
      "\u001b[1;32m<ipython-input-20-49dbe628647a>\u001b[0m in \u001b[0;36m<module>\u001b[1;34m\u001b[0m\n\u001b[1;32m----> 1\u001b[1;33m \u001b[0maverage\u001b[0m\u001b[1;33m(\u001b[0m\u001b[1;36m1\u001b[0m\u001b[1;33m,\u001b[0m\u001b[1;36m5\u001b[0m\u001b[1;33m)\u001b[0m\u001b[1;33m\u001b[0m\u001b[1;33m\u001b[0m\u001b[0m\n\u001b[0m",
      "\u001b[1;31mTypeError\u001b[0m: average() missing 1 required positional argument: 'c'"
     ]
    }
   ],
   "source": [
    "average(1,5)"
   ]
  },
  {
   "cell_type": "code",
   "execution_count": 23,
   "id": "c3111bd6",
   "metadata": {},
   "outputs": [
    {
     "name": "stdout",
     "output_type": "stream",
     "text": [
      "enter a:10\n",
      "enter b:20\n",
      "enter c:30\n",
      "Addition of numbers is : 60\n",
      "Average of numbers is : 20.0\n"
     ]
    }
   ],
   "source": [
    "a= int(input('enter a:'))\n",
    "b= int(input('enter b:'))\n",
    "c= int(input('enter c:'))\n",
    "average(a,b,c)"
   ]
  },
  {
   "cell_type": "code",
   "execution_count": null,
   "id": "722802b3",
   "metadata": {},
   "outputs": [],
   "source": [
    "argumets >> It is variable/value which is passed to a a function when it is called\n",
    "\n",
    "parameters >> Variable names used to define a function\n",
    "\n",
    "number of arguments == number of parameters"
   ]
  },
  {
   "cell_type": "code",
   "execution_count": 24,
   "id": "959d9348",
   "metadata": {},
   "outputs": [
    {
     "name": "stdout",
     "output_type": "stream",
     "text": [
      "Program to find even and odd Numbers from list\n",
      "Even Numbers in the list are:  [2, 4, 6, 12, 14]\n",
      "Odd Numbers in the list are:  [1, 3, 5, 7, 11, 15]\n"
     ]
    }
   ],
   "source": [
    "# Program to find even and odd Numbers from list\n",
    "\n",
    "def get_even_odd_numbers(list1):\n",
    "    \n",
    "    print('Program to find even and odd Numbers from list')\n",
    "    even_numbers= [elem for elem in list1 if elem%2==0]\n",
    "    odd_numbers= [elem for elem in list1 if elem%2!=0]\n",
    "    \n",
    "    print('Even Numbers in the list are: ',even_numbers)\n",
    "    print('Odd Numbers in the list are: ',odd_numbers)\n",
    "    \n",
    "l1=[1,2,3,4,5,6,7,11,12,14,15]\n",
    "get_even_odd_numbers(l1)"
   ]
  },
  {
   "cell_type": "code",
   "execution_count": 27,
   "id": "bba15a2a",
   "metadata": {},
   "outputs": [
    {
     "name": "stdout",
     "output_type": "stream",
     "text": [
      "Program to find even and odd Numbers from list\n",
      "Even Numbers in the list are:  [2, 4, 6, 12, 14]\n",
      "Odd Numbers in the list are:  [1, 3, 5, 7, 11, 15]\n"
     ]
    }
   ],
   "source": [
    "get_even_odd_numbers([1,2,3,4,5,6,7,11,12,14,15])"
   ]
  },
  {
   "cell_type": "code",
   "execution_count": 26,
   "id": "a8389f7c",
   "metadata": {},
   "outputs": [
    {
     "ename": "TypeError",
     "evalue": "get_even_odd_numbers() takes 1 positional argument but 2 were given",
     "output_type": "error",
     "traceback": [
      "\u001b[1;31m---------------------------------------------------------------------------\u001b[0m",
      "\u001b[1;31mTypeError\u001b[0m                                 Traceback (most recent call last)",
      "\u001b[1;32m<ipython-input-26-7f61e66479bb>\u001b[0m in \u001b[0;36m<module>\u001b[1;34m\u001b[0m\n\u001b[1;32m----> 1\u001b[1;33m \u001b[0mget_even_odd_numbers\u001b[0m\u001b[1;33m(\u001b[0m\u001b[1;33m[\u001b[0m\u001b[1;36m1\u001b[0m\u001b[1;33m,\u001b[0m\u001b[1;36m2\u001b[0m\u001b[1;33m,\u001b[0m\u001b[1;36m3\u001b[0m\u001b[1;33m,\u001b[0m\u001b[1;36m4\u001b[0m\u001b[1;33m,\u001b[0m\u001b[1;36m5\u001b[0m\u001b[1;33m,\u001b[0m\u001b[1;36m6\u001b[0m\u001b[1;33m,\u001b[0m\u001b[1;36m7\u001b[0m\u001b[1;33m,\u001b[0m\u001b[1;36m11\u001b[0m\u001b[1;33m,\u001b[0m\u001b[1;36m12\u001b[0m\u001b[1;33m,\u001b[0m\u001b[1;36m14\u001b[0m\u001b[1;33m,\u001b[0m\u001b[1;36m15\u001b[0m\u001b[1;33m]\u001b[0m\u001b[1;33m,\u001b[0m\u001b[0ml1\u001b[0m\u001b[1;33m)\u001b[0m\u001b[1;33m\u001b[0m\u001b[1;33m\u001b[0m\u001b[0m\n\u001b[0m",
      "\u001b[1;31mTypeError\u001b[0m: get_even_odd_numbers() takes 1 positional argument but 2 were given"
     ]
    }
   ],
   "source": [
    "get_even_odd_numbers([1,2,3,4,5,6,7,11,12,14,15],l1)"
   ]
  },
  {
   "cell_type": "code",
   "execution_count": 29,
   "id": "dc8b2aef",
   "metadata": {},
   "outputs": [
    {
     "name": "stdout",
     "output_type": "stream",
     "text": [
      "(2, 3, 4, 5, 6)\n",
      "Program to find even and odd Numbers from list\n",
      "Even Numbers in the list are:  [2, 4, 6]\n",
      "Odd Numbers in the list are:  [3, 5]\n"
     ]
    }
   ],
   "source": [
    "tup1 = 2,3,4,5,6\n",
    "print(tup1)\n",
    "get_even_odd_numbers(tup1)"
   ]
  },
  {
   "cell_type": "code",
   "execution_count": 30,
   "id": "51a5f56d",
   "metadata": {},
   "outputs": [
    {
     "name": "stdout",
     "output_type": "stream",
     "text": [
      "a=10, b=25, c=40\n",
      "Addition of numbers is : 75\n",
      "Average of numbers is : 25.0\n"
     ]
    }
   ],
   "source": [
    "def average(a,b,c):\n",
    "    print(f'a={a}, b={b}, c={c}')\n",
    "    addition= a + b + c\n",
    "    print('Addition of numbers is :', addition)\n",
    "    \n",
    "    avg = addition/3 \n",
    "    print('Average of numbers is :', avg)\n",
    "    \n",
    "a,b,c=10,25,40\n",
    "average(a,b,c) # a , b , c are arguments"
   ]
  },
  {
   "cell_type": "markdown",
   "id": "c89a3579",
   "metadata": {},
   "source": [
    "### WAP to find first five numbers and last 5 numbers in given range "
   ]
  },
  {
   "cell_type": "code",
   "execution_count": 39,
   "id": "0c736e2a",
   "metadata": {},
   "outputs": [
    {
     "name": "stdout",
     "output_type": "stream",
     "text": [
      "start = 11, end= 20\n",
      "Program to find first five numbers and last 5 numbers in given range\n"
     ]
    }
   ],
   "source": [
    "def square(start,end):\n",
    "    print(f'start = {start}, end= {end}')\n",
    "    print('Program to find first five numbers and last 5 numbers in given range')\n",
    "    \n",
    "square(11,20)"
   ]
  },
  {
   "cell_type": "code",
   "execution_count": 43,
   "id": "6237c0e1",
   "metadata": {},
   "outputs": [
    {
     "name": "stdout",
     "output_type": "stream",
     "text": [
      "start = 11, end= 30\n",
      "Program to find first five numbers and last 5 numbers in given range\n",
      "[121, 144, 169, 196, 225, 676, 729, 784, 841, 900]\n"
     ]
    }
   ],
   "source": [
    "def square(start,end):\n",
    "    print(f'start = {start}, end= {end}')\n",
    "    print('Program to find first five numbers and last 5 numbers in given range')\n",
    "    sqr = [i**2 for i in range(start, start+5)]\n",
    "    \n",
    "    for i in range(end-4,end+1):\n",
    "        sqr.append(i**2)\n",
    "    print(sqr)\n",
    "square(11,30)"
   ]
  },
  {
   "cell_type": "code",
   "execution_count": 44,
   "id": "bccd7879",
   "metadata": {},
   "outputs": [
    {
     "name": "stdout",
     "output_type": "stream",
     "text": [
      "start = 11, end= 30\n",
      "Program to find first five numbers and last 5 numbers in given range\n",
      "[121, 144, 169, 196, 225, 900, 841, 784, 729, 676]\n"
     ]
    }
   ],
   "source": [
    "def square(start,end):\n",
    "    print(f'start = {start}, end= {end}')\n",
    "    print('Program to find first five numbers and last 5 numbers in given range')\n",
    "    sqr = [i**2 for i in range(start, start+5)]\n",
    "    \n",
    "    for i in range(end,end-5,-1):\n",
    "        sqr.append(i**2)\n",
    "    print(sqr)\n",
    "square(11,30)"
   ]
  },
  {
   "cell_type": "code",
   "execution_count": 45,
   "id": "8565b1ee",
   "metadata": {},
   "outputs": [
    {
     "name": "stdout",
     "output_type": "stream",
     "text": [
      "start = 5, end= 100\n",
      "Program to find first five numbers and last 5 numbers in given range\n",
      "[25, 36, 49, 64, 81, 10000, 9801, 9604, 9409, 9216]\n"
     ]
    }
   ],
   "source": [
    "square(5,100)"
   ]
  },
  {
   "cell_type": "code",
   "execution_count": 55,
   "id": "549af503",
   "metadata": {},
   "outputs": [
    {
     "name": "stdout",
     "output_type": "stream",
     "text": [
      "start = 11, end= 30\n",
      "Program to find first five numbers and last 5 numbers in given range\n",
      "[121, 144, 169, 196, 225, 676, 729, 784, 841, 900]\n"
     ]
    }
   ],
   "source": [
    "def square(start,end):\n",
    "    print(f'start = {start}, end= {end}')\n",
    "    print('Program to find first five numbers and last 5 numbers in given range')\n",
    "    first= [i**2 for i in range(start, start+5)]\n",
    "    last= [i**2 for i in range(end-4,end+1)]\n",
    "    first.extend(last)\n",
    "    print(first)\n",
    "    \n",
    "square(11,30)"
   ]
  },
  {
   "cell_type": "code",
   "execution_count": 49,
   "id": "a3ed366d",
   "metadata": {},
   "outputs": [
    {
     "name": "stdout",
     "output_type": "stream",
     "text": [
      "enter a:20\n",
      "enter b:50\n",
      "start = 20, end= 50\n",
      "Program to find first five numbers and last 5 numbers in given range\n",
      "[400, 441, 484, 529, 576, 2116, 2209, 2304, 2401, 2500]\n"
     ]
    }
   ],
   "source": [
    "a= int(input('enter a:'))\n",
    "b= int(input('enter b:'))\n",
    "square(a,b)"
   ]
  },
  {
   "cell_type": "code",
   "execution_count": null,
   "id": "f55fe620",
   "metadata": {},
   "outputs": [],
   "source": []
  },
  {
   "cell_type": "code",
   "execution_count": null,
   "id": "37112034",
   "metadata": {},
   "outputs": [],
   "source": []
  },
  {
   "cell_type": "code",
   "execution_count": null,
   "id": "93cd433e",
   "metadata": {},
   "outputs": [],
   "source": []
  },
  {
   "cell_type": "code",
   "execution_count": null,
   "id": "adf3657d",
   "metadata": {},
   "outputs": [],
   "source": []
  },
  {
   "cell_type": "code",
   "execution_count": null,
   "id": "f3682888",
   "metadata": {},
   "outputs": [],
   "source": []
  },
  {
   "cell_type": "code",
   "execution_count": null,
   "id": "77ff1fe9",
   "metadata": {},
   "outputs": [],
   "source": []
  },
  {
   "cell_type": "code",
   "execution_count": null,
   "id": "351fd747",
   "metadata": {},
   "outputs": [],
   "source": []
  },
  {
   "cell_type": "code",
   "execution_count": null,
   "id": "fbffce80",
   "metadata": {},
   "outputs": [],
   "source": []
  },
  {
   "cell_type": "code",
   "execution_count": null,
   "id": "21cad1c1",
   "metadata": {},
   "outputs": [],
   "source": []
  },
  {
   "cell_type": "code",
   "execution_count": null,
   "id": "a359d8cb",
   "metadata": {},
   "outputs": [],
   "source": []
  },
  {
   "cell_type": "code",
   "execution_count": null,
   "id": "31cb2397",
   "metadata": {},
   "outputs": [],
   "source": []
  }
 ],
 "metadata": {
  "kernelspec": {
   "display_name": "Python 3",
   "language": "python",
   "name": "python3"
  },
  "language_info": {
   "codemirror_mode": {
    "name": "ipython",
    "version": 3
   },
   "file_extension": ".py",
   "mimetype": "text/x-python",
   "name": "python",
   "nbconvert_exporter": "python",
   "pygments_lexer": "ipython3",
   "version": "3.8.8"
  }
 },
 "nbformat": 4,
 "nbformat_minor": 5
}
