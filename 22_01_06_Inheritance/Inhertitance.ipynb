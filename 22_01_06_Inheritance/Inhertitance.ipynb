{
 "cells": [
  {
   "cell_type": "code",
   "execution_count": null,
   "id": "4ee1b223",
   "metadata": {},
   "outputs": [],
   "source": [
    "class Parent():\n",
    "    pass\n",
    "\n",
    "class Child(Parent):\n",
    "    pass"
   ]
  },
  {
   "cell_type": "code",
   "execution_count": 17,
   "id": "4fcaab3b",
   "metadata": {},
   "outputs": [
    {
     "name": "stdout",
     "output_type": "stream",
     "text": [
      "This is INIT function of Child Class\n",
      "Student Roll Number is: 20775\n",
      "Student Age is: 25\n",
      "Student Roll Number is: 20775\n",
      "Student Name Function\n",
      "Location is : Pune\n",
      "Student Name Function\n"
     ]
    }
   ],
   "source": [
    "class Name(): # Parent class\n",
    "    \n",
    "    def __init__(self, name):\n",
    "        self.name = name # Instance Variable\n",
    "        print('This is INIT function of Name Class')\n",
    "        \n",
    "    def StudentName(self):\n",
    "        self.location = 'Pune' # Instance Variable\n",
    "        print('Student Name Function')\n",
    "        \n",
    "class StudentInfo(Name): # Child Class\n",
    "    \n",
    "    def __init__(self, name, roll_no, age, marks):\n",
    "        print('This is INIT function of Child Class')\n",
    "        self.roll_number = roll_no\n",
    "        self.age = age\n",
    "        self.marks = marks\n",
    "        \n",
    "    def student_roll_number(self):\n",
    "        print('Student Roll Number is:',self.roll_number)\n",
    "        \n",
    "    def student_age(self):\n",
    "        print('Student Age is:', self.age)\n",
    "        self.student_roll_number()\n",
    "        self.StudentName()\n",
    "        print('Location is :', self.location)\n",
    "\n",
    "stud_obj = StudentInfo('Nitish', 20775, 25, '86%')\n",
    "stud_obj.student_roll_number()\n",
    "stud_obj.student_age() # Studentinfo class method\n",
    "stud_obj.StudentName() #  Name class method"
   ]
  },
  {
   "cell_type": "code",
   "execution_count": 22,
   "id": "1a40cd77",
   "metadata": {},
   "outputs": [],
   "source": [
    "class Name(): # Parent class\n",
    "    \n",
    "    def __init__(self, name):\n",
    "        self.name = name # Instance Variable\n",
    "        print('This is INIT function of Name Class')\n",
    "        \n",
    "    def StudentName(self):\n",
    "        self.location = 'Pune' # Instance Variable\n",
    "        print('Student Name Function')"
   ]
  },
  {
   "cell_type": "code",
   "execution_count": 39,
   "id": "6f098d82",
   "metadata": {},
   "outputs": [
    {
     "name": "stdout",
     "output_type": "stream",
     "text": [
      "This is INIT function of Child Class\n",
      "name ==  Nitish\n",
      "###################\n",
      "Student Roll Number is: 20775\n",
      "Division is  D\n",
      "###################\n",
      "Student Age is: 25\n",
      "Student Roll Number is: 20775\n",
      "Division is  A\n",
      "Student Name Function\n",
      "Location is : Pune\n",
      "THE DIVISION is  A\n"
     ]
    }
   ],
   "source": [
    "class StudentInfo(Name): # Child Class\n",
    "    \n",
    "    def __init__(self, name, roll_no, age, marks):\n",
    "        print('This is INIT function of Child Class')\n",
    "        self.name = name \n",
    "        print('name == ', self.name)\n",
    "        self.roll_number = roll_no\n",
    "        self.age = age\n",
    "        self.marks = marks\n",
    "        \n",
    "    def student_roll_number(self,div):\n",
    "        print('Student Roll Number is:',self.roll_number)\n",
    "        self.div = div\n",
    "        print('Division is ',self.div)\n",
    "        \n",
    "        \n",
    "    def student_age(self):\n",
    "        print('Student Age is:', self.age)\n",
    "        self.student_roll_number('A') # method from child class\n",
    "        self.StudentName() # method from parent class\n",
    "        print('Location is :', self.location) # variable from parent class\n",
    "        print('THE DIVISION is ',self.div)\n",
    "\n",
    "stud_obj = StudentInfo('Nitish', 20775, 25, '86%')\n",
    "print('###################')\n",
    "stud_obj.student_roll_number('D')\n",
    "print('###################')\n",
    "stud_obj.student_age() # Studentinfo class method\n",
    "# stud_obj.StudentName() #  Name class method"
   ]
  },
  {
   "cell_type": "code",
   "execution_count": 43,
   "id": "cb787294",
   "metadata": {},
   "outputs": [
    {
     "name": "stdout",
     "output_type": "stream",
     "text": [
      "This is INIT function of Child Class\n",
      "This is INIT function of Name Class\n",
      "Name is  Ishan\n"
     ]
    }
   ],
   "source": [
    "class Name(): # Parent class\n",
    "    \n",
    "    def __init__(self, name):\n",
    "        self.name = name # Instance Variable\n",
    "        print('This is INIT function of Name Class')\n",
    "        \n",
    "    def name_function(self):\n",
    "        print('Name is ',self.name)\n",
    "        \n",
    "class StudentInfo(Name): # Child Class\n",
    "    \n",
    "    def __init__(self, name, roll_no, age, marks):\n",
    "        print('This is INIT function of Child Class')\n",
    "        Name.__init__(self ,name)  # Calling Init function of Parent class\n",
    "        \n",
    "        self.roll_number = roll_no\n",
    "        self.age = age\n",
    "        self.marks = marks\n",
    "        \n",
    "    def student_roll_number(self):\n",
    "        pass\n",
    "        \n",
    "    def student_age(self):\n",
    "        pass\n",
    "\n",
    "stud_obj = StudentInfo('Ishan', 20775, 25, '86%')\n",
    "stud_obj.name_function()"
   ]
  },
  {
   "cell_type": "code",
   "execution_count": 45,
   "id": "95c2a54a",
   "metadata": {},
   "outputs": [
    {
     "name": "stdout",
     "output_type": "stream",
     "text": [
      "This is INIT function of Child Class\n",
      "This is INIT function of Name Class\n",
      "Name is  Ishan\n"
     ]
    }
   ],
   "source": [
    "class Name(): # Parent class\n",
    "    \n",
    "    def __init__(self, name):\n",
    "        self.name = name # Instance Variable\n",
    "        print('This is INIT function of Name Class')\n",
    "        \n",
    "    def name_function(self):\n",
    "        print('Name is ',self.name)\n",
    "        \n",
    "class StudentInfo(Name): # Child Class\n",
    "    \n",
    "    def __init__(self, name, roll_no, age, marks):\n",
    "        print('This is INIT function of Child Class')\n",
    "        Name.__init__(self ,name)  # Calling Init function of Parent class\n",
    "        \n",
    "        self.roll_number = roll_no\n",
    "        self.age = age\n",
    "        self.marks = marks\n",
    "        \n",
    "    def student_roll_number(self):\n",
    "        pass\n",
    "        \n",
    "    def student_age(self):\n",
    "        pass\n",
    "\n",
    "stud_obj = StudentInfo('Ishan', 20775, 25, '86%')\n",
    "stud_obj.name_function()"
   ]
  },
  {
   "cell_type": "code",
   "execution_count": 47,
   "id": "f1519594",
   "metadata": {},
   "outputs": [
    {
     "name": "stdout",
     "output_type": "stream",
     "text": [
      "This is INIT function of Child Class\n",
      "This is INIT function of Name Class\n",
      "Name is  Ishan\n"
     ]
    }
   ],
   "source": [
    "class Name(): # Parent class\n",
    "    \n",
    "    def __init__(self, name):\n",
    "        self.name = name # Instance Variable\n",
    "        print('This is INIT function of Name Class')\n",
    "        \n",
    "    def name_function(self):\n",
    "        print('Name is ',self.name)\n",
    "        \n",
    "class StudentInfo(Name): # Child Class\n",
    "    \n",
    "    def __init__(self, name, roll_no, age, marks):\n",
    "        print('This is INIT function of Child Class')\n",
    "        super().__init__(name)  # Calling Init function of Parent class\n",
    "        \n",
    "        self.roll_number = roll_no\n",
    "        self.age = age\n",
    "        self.marks = marks\n",
    "        \n",
    "    def student_roll_number(self):\n",
    "        pass\n",
    "        \n",
    "    def student_age(self):\n",
    "        pass\n",
    "\n",
    "stud_obj = StudentInfo('Ishan', 20775, 25, '86%')\n",
    "stud_obj.name_function()"
   ]
  },
  {
   "cell_type": "code",
   "execution_count": null,
   "id": "5f0b7e57",
   "metadata": {},
   "outputs": [],
   "source": [
    "for calling init method of parent class\n",
    "\n",
    "Classname.__init__(self,arg) >> we need to use self keyword\n",
    "\n",
    "super().__init__(arg) >> it is use to call init function of parent\n",
    "        >> self keyword need not to be used/assigned"
   ]
  },
  {
   "cell_type": "code",
   "execution_count": 52,
   "id": "47855b99",
   "metadata": {},
   "outputs": [
    {
     "name": "stdout",
     "output_type": "stream",
     "text": [
      "This is INIT function of Child Class\n",
      "This is INIT function of Name Class\n",
      "Student Roll Number is 90\n",
      "Student Roll Number is 45\n"
     ]
    }
   ],
   "source": [
    "class Name(): # Parent class\n",
    "    \n",
    "    def __init__(self, name):\n",
    "        self.name = name # Instance Variable\n",
    "        print('This is INIT function of Name Class')\n",
    "        \n",
    "    def student_roll_number(self):\n",
    "        print('Student Roll Number is 45')\n",
    "        \n",
    "class StudentInfo(Name): # Child Class\n",
    "    \n",
    "    def __init__(self, name, roll_no, age, marks):\n",
    "        print('This is INIT function of Child Class')\n",
    "        super().__init__(name)  # Calling Init function of Parent class\n",
    "        \n",
    "        self.roll_number = roll_no\n",
    "        self.age = age\n",
    "        self.marks = marks\n",
    "        \n",
    "    def student_roll_number(self):\n",
    "        print('Student Roll Number is 90')\n",
    "        \n",
    "    def student_age(self):\n",
    "        Name.student_roll_number(self)\n",
    "\n",
    "stud_obj = StudentInfo('Ishan', 20775, 25, '86%')\n",
    "stud_obj.student_roll_number()\n",
    "stud_obj.student_age()"
   ]
  },
  {
   "cell_type": "code",
   "execution_count": null,
   "id": "db573bd0",
   "metadata": {},
   "outputs": [],
   "source": [
    "When there are same functions in both child and parent class it is called as Overiding method\n",
    "When this happens fucntion in child class will execute"
   ]
  },
  {
   "cell_type": "code",
   "execution_count": null,
   "id": "17c07d86",
   "metadata": {},
   "outputs": [],
   "source": [
    "class parent():\n",
    "    a20= 200\n",
    "    \n",
    "class child(Parent):\n",
    "    a20="
   ]
  },
  {
   "cell_type": "code",
   "execution_count": null,
   "id": "ee532946",
   "metadata": {},
   "outputs": [],
   "source": [
    "Project: # project flow\n",
    "  \n",
    "class PreprocessingData():\n",
    "    def __init__(self, name, mobile): # constructor\n",
    "        self.name = name # instance variable\n",
    "        self.mobile = mobile\n",
    "    \n",
    "    def scaling():\n",
    "        print(self.name)\n",
    "        \n",
    "    def remove_outliers():\n",
    "        print(self.mobile)\n",
    "        pass\n",
    "    \n",
    "class ModelBulding(PreprocessingData):\n",
    "    def logistic_regression():\n",
    "        pass\n",
    "    \n",
    "    def KNN():\n",
    "        pass\n",
    "    \n",
    "    def random_forest():\n",
    "        pass\n",
    "    \n",
    "class ModelEvaluation(ModelBulding):\n",
    "    def Classification_report():\n",
    "        pass\n",
    "    \n",
    "    def Confusion_matrix():\n",
    "        pass\n",
    "    \n",
    "    def accuracy_score():\n",
    "        pass"
   ]
  },
  {
   "cell_type": "code",
   "execution_count": null,
   "id": "6813f9fa",
   "metadata": {},
   "outputs": [],
   "source": [
    "c=a+b"
   ]
  },
  {
   "cell_type": "code",
   "execution_count": null,
   "id": "badc64d4",
   "metadata": {},
   "outputs": [],
   "source": [
    "def add(a,b):\n",
    "    return a+b"
   ]
  },
  {
   "cell_type": "code",
   "execution_count": null,
   "id": "bfcffc8c",
   "metadata": {},
   "outputs": [],
   "source": [
    "add()"
   ]
  },
  {
   "cell_type": "code",
   "execution_count": null,
   "id": "a2023b0e",
   "metadata": {},
   "outputs": [],
   "source": [
    "programiz\n",
    "geeksforgeeks"
   ]
  },
  {
   "cell_type": "code",
   "execution_count": 55,
   "id": "04eadcf7",
   "metadata": {},
   "outputs": [
    {
     "name": "stdout",
     "output_type": "stream",
     "text": [
      "Child Class\n",
      "Parent Class\n"
     ]
    }
   ],
   "source": [
    "class Parent():\n",
    "    def __init__(self):\n",
    "        print('Parent Class')\n",
    "        \n",
    "class Child(Parent):\n",
    "    def __init__(self):\n",
    "        print('Child Class')\n",
    "        super().__init__()\n",
    "    \n",
    "c1 = Child() "
   ]
  },
  {
   "cell_type": "code",
   "execution_count": 56,
   "id": "e57994ad",
   "metadata": {},
   "outputs": [
    {
     "name": "stdout",
     "output_type": "stream",
     "text": [
      "Child Class\n",
      "Parent Class\n"
     ]
    }
   ],
   "source": [
    "class Parent():\n",
    "    def __init__(self):\n",
    "        print('Parent Class')\n",
    "        \n",
    "class Child(Parent):\n",
    "    def __init__(self):\n",
    "        print('Child Class')\n",
    "        Parent.__init__(self)\n",
    "    \n",
    "c1 = Child() "
   ]
  },
  {
   "cell_type": "code",
   "execution_count": 57,
   "id": "f902b3b6",
   "metadata": {},
   "outputs": [
    {
     "name": "stdout",
     "output_type": "stream",
     "text": [
      "Child Class\n",
      "Parent Class\n",
      "100\n"
     ]
    }
   ],
   "source": [
    "class Parent():\n",
    "    def __init__(self, a):\n",
    "        print('Parent Class')\n",
    "        print(a)\n",
    "        \n",
    "class Child(Parent):\n",
    "    def __init__(self):\n",
    "        print('Child Class')\n",
    "        super().__init__(100)\n",
    "    \n",
    "c1 = Child() "
   ]
  },
  {
   "cell_type": "code",
   "execution_count": 59,
   "id": "8ef16369",
   "metadata": {},
   "outputs": [
    {
     "name": "stdout",
     "output_type": "stream",
     "text": [
      "Child Class\n"
     ]
    }
   ],
   "source": [
    "class Parent():\n",
    "    def Test(self):\n",
    "        print('Parent Class')\n",
    "        \n",
    "        \n",
    "class Child(Parent):\n",
    "    def Test(self):\n",
    "        print('Child Class')\n",
    "        \n",
    "c1 = Child() \n",
    "c1.Test()"
   ]
  },
  {
   "cell_type": "markdown",
   "id": "025133f1",
   "metadata": {},
   "source": [
    "## MultiLevel inheritance"
   ]
  },
  {
   "cell_type": "code",
   "execution_count": null,
   "id": "f2ffab3e",
   "metadata": {},
   "outputs": [],
   "source": [
    "create an object of child\n",
    "\n",
    "Inherit the properties of father and grandfather class"
   ]
  },
  {
   "cell_type": "code",
   "execution_count": null,
   "id": "23a0fd5c",
   "metadata": {},
   "outputs": [],
   "source": [
    "class Grandfather(): # Parent class\n",
    "    pass\n",
    "\n",
    "class Father(Grandfather): # Child class of Grandfather\n",
    "    pass\n",
    "\n",
    "class Child(Father): # Child class of father\n",
    "    pass\n",
    "\n",
    "c1= Child()"
   ]
  },
  {
   "cell_type": "code",
   "execution_count": 60,
   "id": "524208e4",
   "metadata": {},
   "outputs": [],
   "source": [
    "class Baseclass1():\n",
    "    pass\n",
    "\n",
    "class Baseclass2(Baseclass1):  # Derivedclass1\n",
    "    pass\n",
    "\n",
    "class Baseclass3(Baseclass2): # Derivedclass2\n",
    "    pass\n",
    "\n",
    "class Derivedclass(Baseclass3): # Derivedclass2\n",
    "    pass\n",
    "\n",
    "d1 = Derivedclass()"
   ]
  },
  {
   "cell_type": "code",
   "execution_count": 66,
   "id": "9e0730d8",
   "metadata": {},
   "outputs": [
    {
     "name": "stdout",
     "output_type": "stream",
     "text": [
      "Hello Python\n",
      "Addition is,  30\n",
      "Addition of two Numbers is, 30\n"
     ]
    }
   ],
   "source": [
    "class Baseclass1():\n",
    "    def display(self):\n",
    "        print('Hello Python')\n",
    "        \n",
    "class Baseclass2(Baseclass1):\n",
    "    def addition(self, a,b):\n",
    "        add = a+b\n",
    "        self.add =add\n",
    "        print('Addition is, ',add)\n",
    "        \n",
    "class Baseclass3(Baseclass2):\n",
    "    pass\n",
    "\n",
    "class Derivedclass(Baseclass3):\n",
    "    def calculations(self):\n",
    "        print('Addition of two Numbers is,',self.add)\n",
    "        \n",
    "d1 = Derivedclass()\n",
    "d1.display()\n",
    "d1.addition(10,20)\n",
    "d1.calculations()"
   ]
  },
  {
   "cell_type": "markdown",
   "id": "134d0b76",
   "metadata": {},
   "source": [
    "## Multiple Inheritance"
   ]
  },
  {
   "cell_type": "code",
   "execution_count": null,
   "id": "7b6c11cc",
   "metadata": {},
   "outputs": [],
   "source": [
    "class Baseclass1():\n",
    "    pass\n",
    "\n",
    "class Baseclass2():  # baseclass\n",
    "    pass\n",
    "\n",
    "class Baseclass3(): # baseclass\n",
    "    pass\n",
    "\n",
    "class Derivedclass(Baseclass1, Baseclass2, Baseclass3): # Derivedclass\n",
    "    pass\n",
    "\n",
    "d1 = Derivedclass()"
   ]
  },
  {
   "cell_type": "code",
   "execution_count": null,
   "id": "59ba5b12",
   "metadata": {},
   "outputs": [],
   "source": []
  },
  {
   "cell_type": "code",
   "execution_count": null,
   "id": "f46c154e",
   "metadata": {},
   "outputs": [],
   "source": [
    "Cricket\n",
    "Ipl\n",
    "\n",
    "players\n",
    "\n",
    "mocks\n",
    "\n",
    "Velocity\n",
    "\n",
    "10th class\n",
    "\n",
    "trip locations\n",
    "\n"
   ]
  },
  {
   "cell_type": "code",
   "execution_count": null,
   "id": "b23000e1",
   "metadata": {},
   "outputs": [],
   "source": [
    "self.jury1= 'Remo'\n",
    "self.jury2= 'Terence'\n",
    "self.jury3= jury3"
   ]
  },
  {
   "cell_type": "code",
   "execution_count": null,
   "id": "647b166b",
   "metadata": {},
   "outputs": [],
   "source": []
  },
  {
   "cell_type": "code",
   "execution_count": null,
   "id": "a7175154",
   "metadata": {},
   "outputs": [],
   "source": []
  },
  {
   "cell_type": "code",
   "execution_count": null,
   "id": "f9f3c222",
   "metadata": {},
   "outputs": [],
   "source": []
  },
  {
   "cell_type": "code",
   "execution_count": null,
   "id": "488b6fe0",
   "metadata": {},
   "outputs": [],
   "source": []
  },
  {
   "cell_type": "code",
   "execution_count": null,
   "id": "0ef4b0f7",
   "metadata": {},
   "outputs": [],
   "source": []
  },
  {
   "cell_type": "code",
   "execution_count": null,
   "id": "0c031d51",
   "metadata": {},
   "outputs": [],
   "source": []
  },
  {
   "cell_type": "code",
   "execution_count": null,
   "id": "5987718d",
   "metadata": {},
   "outputs": [],
   "source": []
  },
  {
   "cell_type": "code",
   "execution_count": null,
   "id": "77c949cd",
   "metadata": {},
   "outputs": [],
   "source": []
  },
  {
   "cell_type": "code",
   "execution_count": null,
   "id": "6467716d",
   "metadata": {},
   "outputs": [],
   "source": []
  },
  {
   "cell_type": "code",
   "execution_count": null,
   "id": "5a17a413",
   "metadata": {},
   "outputs": [],
   "source": []
  },
  {
   "cell_type": "code",
   "execution_count": null,
   "id": "803f0def",
   "metadata": {},
   "outputs": [],
   "source": []
  },
  {
   "cell_type": "code",
   "execution_count": null,
   "id": "d033fa30",
   "metadata": {},
   "outputs": [],
   "source": []
  },
  {
   "cell_type": "code",
   "execution_count": null,
   "id": "935525ef",
   "metadata": {},
   "outputs": [],
   "source": []
  },
  {
   "cell_type": "code",
   "execution_count": null,
   "id": "46ebe9d0",
   "metadata": {},
   "outputs": [],
   "source": []
  },
  {
   "cell_type": "code",
   "execution_count": null,
   "id": "424d95e3",
   "metadata": {},
   "outputs": [],
   "source": []
  },
  {
   "cell_type": "code",
   "execution_count": null,
   "id": "f4d3de5e",
   "metadata": {},
   "outputs": [],
   "source": []
  },
  {
   "cell_type": "code",
   "execution_count": null,
   "id": "c7f1c2af",
   "metadata": {},
   "outputs": [],
   "source": []
  },
  {
   "cell_type": "code",
   "execution_count": null,
   "id": "41c22745",
   "metadata": {},
   "outputs": [],
   "source": []
  },
  {
   "cell_type": "code",
   "execution_count": null,
   "id": "476c60ad",
   "metadata": {},
   "outputs": [],
   "source": []
  },
  {
   "cell_type": "code",
   "execution_count": null,
   "id": "fb763020",
   "metadata": {},
   "outputs": [],
   "source": []
  },
  {
   "cell_type": "code",
   "execution_count": null,
   "id": "e42ab4ec",
   "metadata": {},
   "outputs": [],
   "source": []
  },
  {
   "cell_type": "code",
   "execution_count": null,
   "id": "e359e966",
   "metadata": {},
   "outputs": [],
   "source": []
  },
  {
   "cell_type": "code",
   "execution_count": null,
   "id": "04c3d076",
   "metadata": {},
   "outputs": [],
   "source": []
  },
  {
   "cell_type": "code",
   "execution_count": null,
   "id": "3e1d5408",
   "metadata": {},
   "outputs": [],
   "source": []
  },
  {
   "cell_type": "code",
   "execution_count": null,
   "id": "f88b5125",
   "metadata": {},
   "outputs": [],
   "source": []
  },
  {
   "cell_type": "code",
   "execution_count": null,
   "id": "3a200cea",
   "metadata": {},
   "outputs": [],
   "source": []
  },
  {
   "cell_type": "code",
   "execution_count": null,
   "id": "b43e3ebb",
   "metadata": {},
   "outputs": [],
   "source": []
  },
  {
   "cell_type": "code",
   "execution_count": null,
   "id": "9a2167d9",
   "metadata": {},
   "outputs": [],
   "source": []
  }
 ],
 "metadata": {
  "kernelspec": {
   "display_name": "Python 3 (ipykernel)",
   "language": "python",
   "name": "python3"
  },
  "language_info": {
   "codemirror_mode": {
    "name": "ipython",
    "version": 3
   },
   "file_extension": ".py",
   "mimetype": "text/x-python",
   "name": "python",
   "nbconvert_exporter": "python",
   "pygments_lexer": "ipython3",
   "version": "3.9.7"
  }
 },
 "nbformat": 4,
 "nbformat_minor": 5
}
