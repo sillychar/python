{
 "cells": [
  {
   "cell_type": "markdown",
   "id": "23354078",
   "metadata": {},
   "source": [
    "## Special Sequences"
   ]
  },
  {
   "cell_type": "code",
   "execution_count": null,
   "id": "6d949a17",
   "metadata": {},
   "outputs": [],
   "source": [
    "[abc] >> a or b or c\n",
    "[a-z] >> any lower case char\n",
    "[A-Z] >> any upper case char\n",
    "[a-zA-Z] >> any alphabet\n",
    "[A-z] >> any alphabet\n",
    "[09] >> 0 or 9\n",
    "[0-9] >> 0-9 digits\n",
    "[0-9a-zA-Z] >> alphanumeric"
   ]
  },
  {
   "cell_type": "code",
   "execution_count": 2,
   "id": "5556fdec",
   "metadata": {},
   "outputs": [
    {
     "data": {
      "text/plain": [
       "['9980345677']"
      ]
     },
     "execution_count": 2,
     "metadata": {},
     "output_type": "execute_result"
    }
   ],
   "source": [
    "import re\n",
    "a = '9980345677'\n",
    "\n",
    "mob = re.findall('[0-9]{10}', a)\n",
    "mob"
   ]
  },
  {
   "cell_type": "code",
   "execution_count": 4,
   "id": "29945d6a",
   "metadata": {},
   "outputs": [
    {
     "data": {
      "text/plain": [
       "['1234 4567 6789']"
      ]
     },
     "execution_count": 4,
     "metadata": {},
     "output_type": "execute_result"
    }
   ],
   "source": [
    "aadhar = '1234 4567 6789'\n",
    "\n",
    "adhar_num = re.findall('[0-9]{4}[ ][0-9]{4}[ ][0-9]{4}',aadhar)\n",
    "adhar_num"
   ]
  },
  {
   "cell_type": "code",
   "execution_count": 7,
   "id": "fdec9259",
   "metadata": {},
   "outputs": [
    {
     "data": {
      "text/plain": [
       "['1234 4567 6789']"
      ]
     },
     "execution_count": 7,
     "metadata": {},
     "output_type": "execute_result"
    }
   ],
   "source": [
    "aadhar = '91234 4567 6789'\n",
    "\n",
    "adhar_num = re.findall('[0-9]{4}[ ][0-9]{4}[ ][0-9]{4}',aadhar)\n",
    "adhar_num"
   ]
  },
  {
   "cell_type": "markdown",
   "id": "6d1f7d14",
   "metadata": {},
   "source": [
    "## 1. \\d"
   ]
  },
  {
   "cell_type": "code",
   "execution_count": null,
   "id": "9c9e018f",
   "metadata": {},
   "outputs": [],
   "source": [
    "\\d >> [0-9] any digit"
   ]
  },
  {
   "cell_type": "code",
   "execution_count": 8,
   "id": "c64a0199",
   "metadata": {},
   "outputs": [
    {
     "data": {
      "text/plain": [
       "['1234 4567 6789']"
      ]
     },
     "execution_count": 8,
     "metadata": {},
     "output_type": "execute_result"
    }
   ],
   "source": [
    "aadhar = '91234 4567 6789'\n",
    "\n",
    "adhar_num = re.findall('\\d{4}[ ]\\d{4}[ ]\\d{4}',aadhar)\n",
    "adhar_num"
   ]
  },
  {
   "cell_type": "code",
   "execution_count": 9,
   "id": "cde2e280",
   "metadata": {},
   "outputs": [
    {
     "data": {
      "text/plain": [
       "['1234 4567 6789']"
      ]
     },
     "execution_count": 9,
     "metadata": {},
     "output_type": "execute_result"
    }
   ],
   "source": [
    "aadhar = '91234 4567 6789'\n",
    "\n",
    "adhar_num = re.findall('\\d{4}\\s\\d{4}\\s\\d{4}',aadhar)\n",
    "adhar_num"
   ]
  },
  {
   "cell_type": "code",
   "execution_count": 10,
   "id": "0c7971a0",
   "metadata": {},
   "outputs": [
    {
     "name": "stdout",
     "output_type": "stream",
     "text": [
      "['MH28 20141234567', 'MH12 20137654321']\n"
     ]
    }
   ],
   "source": [
    "no = 'MH28 20141234567   MH12 20137654321 MH14 2020123456'\n",
    "\n",
    "DL = re.findall('[A-Z]{2}\\d{2}\\s\\d{11}', no)\n",
    "print(DL)"
   ]
  },
  {
   "cell_type": "markdown",
   "id": "a0388c01",
   "metadata": {},
   "source": [
    "## 2. \\D"
   ]
  },
  {
   "cell_type": "code",
   "execution_count": null,
   "id": "09169001",
   "metadata": {},
   "outputs": [],
   "source": [
    "\\D >> Except [0-9] >> [^0-9] >> Any character except digits"
   ]
  },
  {
   "cell_type": "code",
   "execution_count": 12,
   "id": "691a4f9b",
   "metadata": {},
   "outputs": [
    {
     "name": "stdout",
     "output_type": "stream",
     "text": [
      "['1234', '1234', '1234', '5678']\n"
     ]
    }
   ],
   "source": [
    "text = '''Data science is an interdisciplinary field that uses scientific methods, processes, 1234 12345 12345678\n",
    "algorithms and systems to extract  !@#$%^ knowledge and insights from noisy, structured and unstructured data,\n",
    "and apply knowledge and actionable insights from data across a broad range of application domains.'''\n",
    "\n",
    "result = re.findall('\\d{4}', text)\n",
    "print(result)"
   ]
  },
  {
   "cell_type": "code",
   "execution_count": 13,
   "id": "d43d4c67",
   "metadata": {},
   "outputs": [
    {
     "name": "stdout",
     "output_type": "stream",
     "text": [
      "['Data', ' sci', 'ence', ' is ', 'an i', 'nter', 'disc', 'ipli', 'nary', ' fie', 'ld t', 'hat ', 'uses', ' sci', 'enti', 'fic ', 'meth', 'ods,', ' pro', 'cess', 'es, ', '\\nalg', 'orit', 'hms ', 'and ', 'syst', 'ems ', 'to e', 'xtra', 'ct  ', '!@#$', '%^ k', 'nowl', 'edge', ' and', ' ins', 'ight', 's fr', 'om n', 'oisy', ', st', 'ruct', 'ured', ' and', ' uns', 'truc', 'ture', 'd da', 'ta,\\n', 'and ', 'appl', 'y kn', 'owle', 'dge ', 'and ', 'acti', 'onab', 'le i', 'nsig', 'hts ', 'from', ' dat', 'a ac', 'ross', ' a b', 'road', ' ran', 'ge o', 'f ap', 'plic', 'atio', 'n do', 'main']\n"
     ]
    }
   ],
   "source": [
    "text = '''Data science is an interdisciplinary field that uses scientific methods, processes, 1234 12345 123456\n",
    "algorithms and systems to extract  !@#$%^ knowledge and insights from noisy, structured and unstructured data,\n",
    "and apply knowledge and actionable insights from data across a broad range of application domains.'''\n",
    "\n",
    "result = re.findall('\\D{4}', text)\n",
    "print(result)"
   ]
  },
  {
   "cell_type": "code",
   "execution_count": 14,
   "id": "840d66ef",
   "metadata": {},
   "outputs": [
    {
     "name": "stdout",
     "output_type": "stream",
     "text": [
      "['D', 'a', 't', 'a', ' ', 'S', 'c', 'i', 'e', 'n', 'c', 'e', ' ', '@', '#', ' ', 'i', 's', ' ', ' ', ' '] 21\n"
     ]
    }
   ],
   "source": [
    "text = 'Data Science @# is 098765 345678987 678'\n",
    "\n",
    "result = re.findall('\\D' , text)\n",
    "print(result,len(result))"
   ]
  },
  {
   "cell_type": "markdown",
   "id": "716ffa5c",
   "metadata": {},
   "source": [
    "## 3. \\s"
   ]
  },
  {
   "cell_type": "code",
   "execution_count": null,
   "id": "3a3f6fde",
   "metadata": {},
   "outputs": [],
   "source": [
    "\\s >> [ ]>> white space"
   ]
  },
  {
   "cell_type": "code",
   "execution_count": 15,
   "id": "7759dca4",
   "metadata": {},
   "outputs": [
    {
     "name": "stdout",
     "output_type": "stream",
     "text": [
      "[' ', ' ', ' ', ' ', ' ', ' '] 6\n"
     ]
    }
   ],
   "source": [
    "text = 'Data Science @# is 098765 345678987 678'\n",
    "\n",
    "result = re.findall('\\s' , text)\n",
    "print(result,len(result))"
   ]
  },
  {
   "cell_type": "code",
   "execution_count": 17,
   "id": "5bb348c4",
   "metadata": {},
   "outputs": [
    {
     "name": "stdout",
     "output_type": "stream",
     "text": [
      "['  ', '  '] 2\n"
     ]
    }
   ],
   "source": [
    "text = 'Data Science  @# is 098765  345678987 678'\n",
    "\n",
    "result = re.findall('\\s{2}' , text)\n",
    "print(result,len(result))"
   ]
  },
  {
   "cell_type": "code",
   "execution_count": 20,
   "id": "a9e300be",
   "metadata": {},
   "outputs": [
    {
     "data": {
      "text/plain": [
       "['1234 4567 6789']"
      ]
     },
     "execution_count": 20,
     "metadata": {},
     "output_type": "execute_result"
    }
   ],
   "source": [
    "aadhar = '91234 4567 6789'\n",
    "\n",
    "adhar_num = re.findall('\\d{4}\\s\\d{4}\\s\\d{4}',aadhar)\n",
    "adhar_num"
   ]
  },
  {
   "cell_type": "markdown",
   "id": "b7e76674",
   "metadata": {},
   "source": [
    "## 4. \\S"
   ]
  },
  {
   "cell_type": "code",
   "execution_count": null,
   "id": "d4ff5886",
   "metadata": {},
   "outputs": [],
   "source": [
    "\\S >> Except white spaces"
   ]
  },
  {
   "cell_type": "code",
   "execution_count": 25,
   "id": "13c03c9f",
   "metadata": {},
   "outputs": [
    {
     "data": {
      "text/plain": [
       "['D', 'a', 't', 'a', '7', '8', '9', '0', '!', '@', '#', '$', '%']"
      ]
     },
     "execution_count": 25,
     "metadata": {},
     "output_type": "execute_result"
    }
   ],
   "source": [
    "text = 'Data 7890 !@#$%'\n",
    "\n",
    "result = re.findall('\\S', text)\n",
    "result"
   ]
  },
  {
   "cell_type": "code",
   "execution_count": 22,
   "id": "a7572785",
   "metadata": {},
   "outputs": [
    {
     "data": {
      "text/plain": [
       "['Data', '7890']"
      ]
     },
     "execution_count": 22,
     "metadata": {},
     "output_type": "execute_result"
    }
   ],
   "source": [
    "text = 'Data 7890'\n",
    "\n",
    "result = re.findall('\\S{4}', text)\n",
    "result"
   ]
  },
  {
   "cell_type": "code",
   "execution_count": 1,
   "id": "84409f68",
   "metadata": {},
   "outputs": [
    {
     "ename": "NameError",
     "evalue": "name 're' is not defined",
     "output_type": "error",
     "traceback": [
      "\u001b[1;31m---------------------------------------------------------------------------\u001b[0m",
      "\u001b[1;31mNameError\u001b[0m                                 Traceback (most recent call last)",
      "\u001b[1;32m~\\AppData\\Local\\Temp/ipykernel_7628/3043053967.py\u001b[0m in \u001b[0;36m<module>\u001b[1;34m\u001b[0m\n\u001b[0;32m      1\u001b[0m \u001b[0mtext\u001b[0m \u001b[1;33m=\u001b[0m \u001b[1;34m'Data 7890'\u001b[0m\u001b[1;33m\u001b[0m\u001b[1;33m\u001b[0m\u001b[0m\n\u001b[0;32m      2\u001b[0m \u001b[1;33m\u001b[0m\u001b[0m\n\u001b[1;32m----> 3\u001b[1;33m \u001b[0mresult\u001b[0m \u001b[1;33m=\u001b[0m \u001b[0mre\u001b[0m\u001b[1;33m.\u001b[0m\u001b[0mfindall\u001b[0m\u001b[1;33m(\u001b[0m\u001b[1;34m'\\S{5}'\u001b[0m\u001b[1;33m,\u001b[0m \u001b[0mtext\u001b[0m\u001b[1;33m)\u001b[0m\u001b[1;33m\u001b[0m\u001b[1;33m\u001b[0m\u001b[0m\n\u001b[0m\u001b[0;32m      4\u001b[0m \u001b[0mresult\u001b[0m\u001b[1;33m\u001b[0m\u001b[1;33m\u001b[0m\u001b[0m\n",
      "\u001b[1;31mNameError\u001b[0m: name 're' is not defined"
     ]
    }
   ],
   "source": [
    "text = 'Data 7890'\n",
    "\n",
    "result = re.findall('\\S{5}', text)\n",
    "result"
   ]
  },
  {
   "cell_type": "markdown",
   "id": "a2497b8a",
   "metadata": {},
   "source": [
    "## 5. \\w"
   ]
  },
  {
   "cell_type": "code",
   "execution_count": null,
   "id": "8dd99663",
   "metadata": {},
   "outputs": [],
   "source": [
    "\\w >> [0-9a-zA-Z] >> Alphanumeric"
   ]
  },
  {
   "cell_type": "code",
   "execution_count": 24,
   "id": "4e9dfb34",
   "metadata": {},
   "outputs": [
    {
     "name": "stdout",
     "output_type": "stream",
     "text": [
      "['Da', 'ta', 'sc', 'ie', 'nc', 'is', 'an', 'in', 'te', 'rd', 'is', 'ci', 'pl', 'in', 'ar', 'fi', 'el', 'th', 'at', 'us', 'es', 'sc', 'ie', 'nt', 'if', 'ic', 'me', 'th', 'od', 'pr', 'oc', 'es', 'se', '12', '34', '12', '34', '12', '34', '56', 'al', 'go', 'ri', 'th', 'ms', 'an', 'sy', 'st', 'em', 'to', 'ex', 'tr', 'ac', 'kn', 'ow', 'le', 'dg']\n"
     ]
    }
   ],
   "source": [
    "text = '''Data science is an interdisciplinary field that uses scientific methods, processes, 1234 12345 123456\n",
    "algorithms and systems to extract  !@#$%^ knowledge..'''\n",
    "\n",
    "result = re.findall('\\w{2}', text)\n",
    "print(result)"
   ]
  },
  {
   "cell_type": "code",
   "execution_count": 26,
   "id": "d17ffb51",
   "metadata": {},
   "outputs": [
    {
     "data": {
      "text/plain": [
       "['1234 4567 6789']"
      ]
     },
     "execution_count": 26,
     "metadata": {},
     "output_type": "execute_result"
    }
   ],
   "source": [
    "aadhar = '91234 4567 6789'\n",
    "\n",
    "adhar_num = re.findall('\\w{4}\\s\\w{4}\\s\\w{4}',aadhar)\n",
    "adhar_num"
   ]
  },
  {
   "cell_type": "code",
   "execution_count": 31,
   "id": "e71d08c5",
   "metadata": {},
   "outputs": [
    {
     "data": {
      "text/plain": [
       "['SBIN0001234', 'HDFC0009876', 'KTKB00001234']"
      ]
     },
     "execution_count": 31,
     "metadata": {},
     "output_type": "execute_result"
    }
   ],
   "source": [
    "text = '''IFSC is : SBIN0001234\n",
    "            HDFC IFSC : HDFC0009876\n",
    "            KOTAK IFSC : KTKB00001234'''\n",
    "\n",
    "ifsc = re.findall('\\w{10,15}',text)\n",
    "ifsc"
   ]
  },
  {
   "cell_type": "code",
   "execution_count": 32,
   "id": "59e189ed",
   "metadata": {},
   "outputs": [
    {
     "data": {
      "text/plain": [
       "['SBIN0001234', 'HDFC0009876', 'KTKB00001234']"
      ]
     },
     "execution_count": 32,
     "metadata": {},
     "output_type": "execute_result"
    }
   ],
   "source": [
    "text = '''IFSC is : SBIN0001234\n",
    "            HDFC IFSC : HDFC0009876\n",
    "            KOTAK IFSC : KTKB00001234'''\n",
    "\n",
    "ifsc = re.findall('[A-Z]{4}[0-9]{7,10}',text)\n",
    "ifsc"
   ]
  },
  {
   "cell_type": "code",
   "execution_count": 33,
   "id": "bdff8808",
   "metadata": {},
   "outputs": [
    {
     "data": {
      "text/plain": [
       "['SBIN0001234', 'HDFC0009876', 'KTKB00001234']"
      ]
     },
     "execution_count": 33,
     "metadata": {},
     "output_type": "execute_result"
    }
   ],
   "source": [
    "text = '''IFSC is : SBIN0001234\n",
    "            HDFC IFSC : HDFC0009876\n",
    "            KOTAK IFSC : KTKB00001234'''\n",
    "\n",
    "ifsc = re.findall('[A-Z]{4}\\d{7,10}',text)\n",
    "ifsc"
   ]
  },
  {
   "cell_type": "markdown",
   "id": "e6d8854a",
   "metadata": {},
   "source": [
    "## 6. \\W"
   ]
  },
  {
   "cell_type": "code",
   "execution_count": null,
   "id": "0c1166c8",
   "metadata": {},
   "outputs": [],
   "source": [
    "\\W >> except [0-9a-zA-Z]alphanumeric >> special characters"
   ]
  },
  {
   "cell_type": "code",
   "execution_count": 34,
   "id": "156b70ef",
   "metadata": {},
   "outputs": [
    {
     "data": {
      "text/plain": [
       "[' ', ' ', '!', '@', '#', '$', ' ', ' ', ')', '(', '*', '&', '^', '%', ')']"
      ]
     },
     "execution_count": 34,
     "metadata": {},
     "output_type": "execute_result"
    }
   ],
   "source": [
    "text = 'IFSC is !@#$ 34567 )(*&^%)'\n",
    "\n",
    "ifsc = re.findall('\\W',text)\n",
    "ifsc"
   ]
  },
  {
   "cell_type": "markdown",
   "id": "5ad7f4b1",
   "metadata": {},
   "source": [
    "## 7. \\b"
   ]
  },
  {
   "cell_type": "code",
   "execution_count": null,
   "id": "ebfae952",
   "metadata": {},
   "outputs": [],
   "source": [
    "Checks for characters at beginning  or end of word"
   ]
  },
  {
   "cell_type": "code",
   "execution_count": 38,
   "id": "f48d3be3",
   "metadata": {},
   "outputs": [
    {
     "data": {
      "text/plain": [
       "['SBIN0001234', 'HDFC0009876', 'KTKB00001234']"
      ]
     },
     "execution_count": 38,
     "metadata": {},
     "output_type": "execute_result"
    }
   ],
   "source": [
    "text = '''IFSC is : SBIN0001234\n",
    "            HDFC IFSC : HDFC0009876\n",
    "            KOTAK IFSC : KTKB00001234'''\n",
    "\n",
    "ifsc = re.findall(r'\\b[A-Z]{4}\\d{7,10}',text)\n",
    "ifsc"
   ]
  },
  {
   "cell_type": "code",
   "execution_count": 41,
   "id": "a63dd621",
   "metadata": {},
   "outputs": [
    {
     "data": {
      "text/plain": [
       "['SBIN0001234', 'HDFC0009876', 'KTKB00001234']"
      ]
     },
     "execution_count": 41,
     "metadata": {},
     "output_type": "execute_result"
    }
   ],
   "source": [
    "text = '''IFSC is : SBIN0001234    #valid\n",
    "            HDFC IFSC : HDFC0009876 # valid\n",
    "            KOTAK IFSC : KTKB00001234 #valid\n",
    "            DFGHJK12345678 # invalid\n",
    "            SDFGH456767 #invalid'''\n",
    "\n",
    "ifsc = re.findall(r'\\b[A-Z]{4}\\d{7,10}\\b',text)\n",
    "ifsc"
   ]
  },
  {
   "cell_type": "code",
   "execution_count": 42,
   "id": "03aa310e",
   "metadata": {},
   "outputs": [
    {
     "data": {
      "text/plain": [
       "['9970881215', '9988776655', '9876554435', '9864346787', '9757564788']"
      ]
     },
     "execution_count": 42,
     "metadata": {},
     "output_type": "execute_result"
    }
   ],
   "source": [
    "text = ''' MObile is : 9970881215 # valid\n",
    "                        9988776655 # valid\n",
    "                        987655443567 #invalid\n",
    "                        A9864346787 # invalid\n",
    "                        9757564788 #valid'''\n",
    "\n",
    "mobile_number = re.findall('[0-9]{10}',text)\n",
    "mobile_number"
   ]
  },
  {
   "cell_type": "code",
   "execution_count": 43,
   "id": "9d438a4d",
   "metadata": {},
   "outputs": [
    {
     "data": {
      "text/plain": [
       "['9970881215', '9988776655', '9876554435', '9864346787', '9757564788']"
      ]
     },
     "execution_count": 43,
     "metadata": {},
     "output_type": "execute_result"
    }
   ],
   "source": [
    "text = ''' MObile is : 9970881215 # valid\n",
    "                        9988776655 # valid\n",
    "                        987655443567 #invalid\n",
    "                        A9864346787 # invalid\n",
    "                        9757564788 #valid'''\n",
    "\n",
    "mobile_number = re.findall('\\d{10}',text)\n",
    "mobile_number"
   ]
  },
  {
   "cell_type": "code",
   "execution_count": 44,
   "id": "b162ef37",
   "metadata": {},
   "outputs": [
    {
     "data": {
      "text/plain": [
       "['9970881215', '9988776655', '9757564788']"
      ]
     },
     "execution_count": 44,
     "metadata": {},
     "output_type": "execute_result"
    }
   ],
   "source": [
    "text = ''' MObile is : 9970881215 # valid\n",
    "                       9988776655 # valid\n",
    "                       987655443567 #invalid\n",
    "                       A9864346787 # invalid\n",
    "                       9757564788 #valid'''\n",
    "\n",
    "mobile_number = re.findall(r'\\b\\d{10}\\b',text)\n",
    "mobile_number"
   ]
  },
  {
   "cell_type": "code",
   "execution_count": 45,
   "id": "aaa8ffc2",
   "metadata": {},
   "outputs": [
    {
     "data": {
      "text/plain": [
       "['A9864346787']"
      ]
     },
     "execution_count": 45,
     "metadata": {},
     "output_type": "execute_result"
    }
   ],
   "source": [
    "text = ''' MObile is : 9970881215 # valid\n",
    "                       9988776655 # valid\n",
    "                       987655443567 #invalid\n",
    "                       A9864346787 # invalid\n",
    "                       9757564788 #valid'''\n",
    "\n",
    "mobile_number = re.findall(r'\\b[A-Z]\\d{10}\\b',text)\n",
    "mobile_number"
   ]
  },
  {
   "cell_type": "code",
   "execution_count": 46,
   "id": "167b29fd",
   "metadata": {},
   "outputs": [
    {
     "data": {
      "text/plain": [
       "['Pytho', 'class']"
      ]
     },
     "execution_count": 46,
     "metadata": {},
     "output_type": "execute_result"
    }
   ],
   "source": [
    "text = 'Python class Pune'\n",
    "results = re.findall('\\w{5}', text)\n",
    "results"
   ]
  },
  {
   "cell_type": "code",
   "execution_count": 49,
   "id": "8d33eb71",
   "metadata": {},
   "outputs": [
    {
     "data": {
      "text/plain": [
       "['class']"
      ]
     },
     "execution_count": 49,
     "metadata": {},
     "output_type": "execute_result"
    }
   ],
   "source": [
    "text = 'Python class Pune'\n",
    "results = re.findall(r'\\b\\w{5}\\b', text)\n",
    "results"
   ]
  },
  {
   "cell_type": "code",
   "execution_count": 50,
   "id": "030d0d19",
   "metadata": {},
   "outputs": [
    {
     "data": {
      "text/plain": [
       "['ython', 'class']"
      ]
     },
     "execution_count": 50,
     "metadata": {},
     "output_type": "execute_result"
    }
   ],
   "source": [
    "text = 'Python class Pune'\n",
    "results = re.findall(r'\\w{5}\\b', text)\n",
    "results"
   ]
  },
  {
   "cell_type": "code",
   "execution_count": 51,
   "id": "c612c218",
   "metadata": {},
   "outputs": [
    {
     "data": {
      "text/plain": [
       "['ython ', 'class ']"
      ]
     },
     "execution_count": 51,
     "metadata": {},
     "output_type": "execute_result"
    }
   ],
   "source": [
    "text = 'Python class Pune'\n",
    "results = re.findall('\\w{5} ', text)\n",
    "results"
   ]
  },
  {
   "cell_type": "code",
   "execution_count": 53,
   "id": "7ed3cd2c",
   "metadata": {},
   "outputs": [
    {
     "data": {
      "text/plain": [
       "['Class']"
      ]
     },
     "execution_count": 53,
     "metadata": {},
     "output_type": "execute_result"
    }
   ],
   "source": [
    "text = 'Velocity Corporate Training Centre, Python and Data Science Class Pune'\n",
    "results = re.findall(r'\\b\\w{5}\\b', text)\n",
    "results"
   ]
  },
  {
   "cell_type": "code",
   "execution_count": 54,
   "id": "986610af",
   "metadata": {},
   "outputs": [
    {
     "data": {
      "text/plain": [
       "['Data', 'Pune']"
      ]
     },
     "execution_count": 54,
     "metadata": {},
     "output_type": "execute_result"
    }
   ],
   "source": [
    "text = 'Velocity Corporate Training Centre, Python and Data Science Class Pune'\n",
    "results = re.findall(r'\\b\\w{4}\\b', text)\n",
    "results"
   ]
  },
  {
   "cell_type": "code",
   "execution_count": 55,
   "id": "1f329cb0",
   "metadata": {},
   "outputs": [
    {
     "data": {
      "text/plain": [
       "['Centre', 'Python']"
      ]
     },
     "execution_count": 55,
     "metadata": {},
     "output_type": "execute_result"
    }
   ],
   "source": [
    "text = 'Velocity Corporate Training Centre, Python and Data Science Class Pune'\n",
    "results = re.findall(r'\\b\\w{6}\\b', text)\n",
    "results"
   ]
  },
  {
   "cell_type": "code",
   "execution_count": 56,
   "id": "cbd2ea71",
   "metadata": {},
   "outputs": [
    {
     "data": {
      "text/plain": [
       "[]"
      ]
     },
     "execution_count": 56,
     "metadata": {},
     "output_type": "execute_result"
    }
   ],
   "source": [
    "text = 'Velocity Corporate Training Centre, Python and Data Science Class Pune'\n",
    "results = re.findall('python', text)\n",
    "results"
   ]
  },
  {
   "cell_type": "code",
   "execution_count": 57,
   "id": "9c7b566e",
   "metadata": {},
   "outputs": [
    {
     "data": {
      "text/plain": [
       "['Python']"
      ]
     },
     "execution_count": 57,
     "metadata": {},
     "output_type": "execute_result"
    }
   ],
   "source": [
    "text = 'Velocity Corporate Training Centre, Python and Data Science Class Pune'\n",
    "results = re.findall('Python', text)\n",
    "results"
   ]
  },
  {
   "cell_type": "code",
   "execution_count": 58,
   "id": "928413d0",
   "metadata": {},
   "outputs": [
    {
     "data": {
      "text/plain": [
       "['Python', 'Python']"
      ]
     },
     "execution_count": 58,
     "metadata": {},
     "output_type": "execute_result"
    }
   ],
   "source": [
    "text = '''Velocity Corporate Training Centre, Python and Data Science Class Pune\n",
    "        Pythonclasspune'''\n",
    "results = re.findall(r'\\bPython', text)\n",
    "results"
   ]
  },
  {
   "cell_type": "code",
   "execution_count": 59,
   "id": "258c9df5",
   "metadata": {},
   "outputs": [
    {
     "data": {
      "text/plain": [
       "['Python']"
      ]
     },
     "execution_count": 59,
     "metadata": {},
     "output_type": "execute_result"
    }
   ],
   "source": [
    "text = '''Velocity Corporate Training Centre, Python and Data Science Class Pune\n",
    "        Pythonclasspune'''\n",
    "results = re.findall(r'\\bPython\\b', text)\n",
    "results"
   ]
  },
  {
   "cell_type": "markdown",
   "id": "b94be2a9",
   "metadata": {},
   "source": [
    "## Regex Functions"
   ]
  },
  {
   "cell_type": "code",
   "execution_count": null,
   "id": "daad806b",
   "metadata": {},
   "outputs": [],
   "source": [
    "1. findall()"
   ]
  },
  {
   "cell_type": "markdown",
   "id": "0df0e18f",
   "metadata": {},
   "source": [
    "## 2. search()"
   ]
  },
  {
   "cell_type": "code",
   "execution_count": null,
   "id": "bf0d329c",
   "metadata": {},
   "outputs": [],
   "source": [
    "It searches for a pattern and returns an object of first occurence only\n",
    "re.search(pattern, text)"
   ]
  },
  {
   "cell_type": "code",
   "execution_count": 60,
   "id": "f5dfa93d",
   "metadata": {},
   "outputs": [
    {
     "data": {
      "text/plain": [
       "<re.Match object; span=(7, 17), match='9089865765'>"
      ]
     },
     "execution_count": 60,
     "metadata": {},
     "output_type": "execute_result"
    }
   ],
   "source": [
    "text = '''Mobile 9089865765 # valid\n",
    "                8736598076 #valid'''\n",
    "\n",
    "mobile_number = re.search(r'\\b\\d{10}\\b',text)\n",
    "mobile_number"
   ]
  },
  {
   "cell_type": "code",
   "execution_count": 61,
   "id": "172d1a7a",
   "metadata": {},
   "outputs": [
    {
     "data": {
      "text/plain": [
       "(7, 17)"
      ]
     },
     "execution_count": 61,
     "metadata": {},
     "output_type": "execute_result"
    }
   ],
   "source": [
    "mobile_number.span()"
   ]
  },
  {
   "cell_type": "code",
   "execution_count": 62,
   "id": "367abd55",
   "metadata": {},
   "outputs": [
    {
     "data": {
      "text/plain": [
       "7"
      ]
     },
     "execution_count": 62,
     "metadata": {},
     "output_type": "execute_result"
    }
   ],
   "source": [
    "mobile_number.start()"
   ]
  },
  {
   "cell_type": "code",
   "execution_count": 63,
   "id": "2edf71dd",
   "metadata": {},
   "outputs": [
    {
     "data": {
      "text/plain": [
       "17"
      ]
     },
     "execution_count": 63,
     "metadata": {},
     "output_type": "execute_result"
    }
   ],
   "source": [
    "mobile_number.end()"
   ]
  },
  {
   "cell_type": "code",
   "execution_count": 65,
   "id": "4bc5dbae",
   "metadata": {},
   "outputs": [
    {
     "data": {
      "text/plain": [
       "'9089865765'"
      ]
     },
     "execution_count": 65,
     "metadata": {},
     "output_type": "execute_result"
    }
   ],
   "source": [
    "mobile_number.group()"
   ]
  },
  {
   "cell_type": "markdown",
   "id": "c256f374",
   "metadata": {},
   "source": [
    "## 3. match()"
   ]
  },
  {
   "cell_type": "code",
   "execution_count": null,
   "id": "6adb4db9",
   "metadata": {},
   "outputs": [],
   "source": [
    "Checks for first index item of string/ first position"
   ]
  },
  {
   "cell_type": "code",
   "execution_count": 69,
   "id": "35d273e0",
   "metadata": {},
   "outputs": [
    {
     "ename": "AttributeError",
     "evalue": "'NoneType' object has no attribute 'group'",
     "output_type": "error",
     "traceback": [
      "\u001b[1;31m---------------------------------------------------------------------------\u001b[0m",
      "\u001b[1;31mAttributeError\u001b[0m                            Traceback (most recent call last)",
      "\u001b[1;32m<ipython-input-69-da5112704423>\u001b[0m in \u001b[0;36m<module>\u001b[1;34m\u001b[0m\n\u001b[0;32m      3\u001b[0m \u001b[1;33m\u001b[0m\u001b[0m\n\u001b[0;32m      4\u001b[0m \u001b[0mmobile_number\u001b[0m \u001b[1;33m=\u001b[0m \u001b[0mre\u001b[0m\u001b[1;33m.\u001b[0m\u001b[0mmatch\u001b[0m\u001b[1;33m(\u001b[0m\u001b[1;34mr'\\b\\d{10}\\b'\u001b[0m\u001b[1;33m,\u001b[0m\u001b[0mtext\u001b[0m\u001b[1;33m)\u001b[0m\u001b[1;33m\u001b[0m\u001b[1;33m\u001b[0m\u001b[0m\n\u001b[1;32m----> 5\u001b[1;33m \u001b[0mmobile_number\u001b[0m\u001b[1;33m.\u001b[0m\u001b[0mgroup\u001b[0m\u001b[1;33m(\u001b[0m\u001b[1;33m)\u001b[0m\u001b[1;33m\u001b[0m\u001b[1;33m\u001b[0m\u001b[0m\n\u001b[0m",
      "\u001b[1;31mAttributeError\u001b[0m: 'NoneType' object has no attribute 'group'"
     ]
    }
   ],
   "source": [
    "text = '''Mobile 9089865765 # valid\n",
    "                8736598076 #valid'''\n",
    "\n",
    "mobile_number = re.match(r'\\b\\d{10}\\b',text)\n",
    "mobile_number.group()"
   ]
  },
  {
   "cell_type": "code",
   "execution_count": 71,
   "id": "770f6a60",
   "metadata": {},
   "outputs": [
    {
     "data": {
      "text/plain": [
       "<re.Match object; span=(0, 10), match='8736598076'>"
      ]
     },
     "execution_count": 71,
     "metadata": {},
     "output_type": "execute_result"
    }
   ],
   "source": [
    "text = '''8736598076 Mobile 9089865765 # valid\n",
    "                8736598076 #valid'''\n",
    "\n",
    "mobile_number = re.match(r'\\b\\d{10}\\b',text)\n",
    "mobile_number"
   ]
  },
  {
   "cell_type": "code",
   "execution_count": 72,
   "id": "b1cf95af",
   "metadata": {},
   "outputs": [
    {
     "data": {
      "text/plain": [
       "'8736598076'"
      ]
     },
     "execution_count": 72,
     "metadata": {},
     "output_type": "execute_result"
    }
   ],
   "source": [
    "mobile_number.group()"
   ]
  },
  {
   "cell_type": "code",
   "execution_count": 74,
   "id": "eb7e1a25",
   "metadata": {},
   "outputs": [
    {
     "name": "stdout",
     "output_type": "stream",
     "text": [
      "8736598076\n"
     ]
    }
   ],
   "source": [
    "text = '''8736598076 Mobile 9089865765 # valid\n",
    "                8736598076 #valid'''\n",
    "\n",
    "mobile_number = re.match(r'\\b\\d{10}\\b',text)\n",
    "if mobile_number:\n",
    "    print(mobile_number.group())"
   ]
  },
  {
   "cell_type": "code",
   "execution_count": 76,
   "id": "53927e1a",
   "metadata": {},
   "outputs": [
    {
     "name": "stdout",
     "output_type": "stream",
     "text": [
      "No match found\n"
     ]
    }
   ],
   "source": [
    "text = ''' 8736598076 Mobile 9089865765 # valid\n",
    "                8736598076 #valid'''\n",
    "\n",
    "mobile_number = re.match(r'\\b\\d{10}\\b',text)\n",
    "if mobile_number:\n",
    "    print(mobile_number.group())\n",
    "\n",
    "else:\n",
    "    print('No match found')"
   ]
  },
  {
   "cell_type": "code",
   "execution_count": 77,
   "id": "84e61404",
   "metadata": {},
   "outputs": [
    {
     "name": "stdout",
     "output_type": "stream",
     "text": [
      "8736598076\n"
     ]
    }
   ],
   "source": [
    "text = '''8736598076 Mobile 9089865765 # valid\n",
    "                8736598076 #valid'''\n",
    "\n",
    "mobile_number = re.match(r'\\b\\d{10}\\b',text)\n",
    "if mobile_number:\n",
    "    print(mobile_number.group())\n",
    "\n",
    "else:\n",
    "    print('No match found')"
   ]
  },
  {
   "cell_type": "markdown",
   "id": "76c38560",
   "metadata": {},
   "source": [
    "## 4. sub()"
   ]
  },
  {
   "cell_type": "code",
   "execution_count": null,
   "id": "1a2cd35b",
   "metadata": {},
   "outputs": [],
   "source": [
    "It is used to replace occurrences of particular substrings with another substring"
   ]
  },
  {
   "cell_type": "code",
   "execution_count": 78,
   "id": "eb30d5fc",
   "metadata": {},
   "outputs": [
    {
     "data": {
      "text/plain": [
       "'JAVA and Data Science'"
      ]
     },
     "execution_count": 78,
     "metadata": {},
     "output_type": "execute_result"
    }
   ],
   "source": [
    "string = 'Python and Data Science'\n",
    "string = string.replace('Python', 'JAVA')\n",
    "string"
   ]
  },
  {
   "cell_type": "code",
   "execution_count": 79,
   "id": "e98f1c2b",
   "metadata": {},
   "outputs": [
    {
     "data": {
      "text/plain": [
       "'Jython and Data Science'"
      ]
     },
     "execution_count": 79,
     "metadata": {},
     "output_type": "execute_result"
    }
   ],
   "source": [
    "string = 'Python and Data Science'\n",
    "string = string.replace('P', 'J')\n",
    "string"
   ]
  },
  {
   "cell_type": "code",
   "execution_count": 81,
   "id": "cadc09f7",
   "metadata": {},
   "outputs": [
    {
     "data": {
      "text/plain": [
       "'Python and Data Science  '"
      ]
     },
     "execution_count": 81,
     "metadata": {},
     "output_type": "execute_result"
    }
   ],
   "source": [
    "string = 'Python and Data Science 2345 !@#$'\n",
    "string = string.replace('2345', '').replace('!@#$','')\n",
    "string"
   ]
  },
  {
   "cell_type": "code",
   "execution_count": 83,
   "id": "5be0c76b",
   "metadata": {},
   "outputs": [
    {
     "name": "stdout",
     "output_type": "stream",
     "text": [
      "Mobile ++++++++++ # valid\n",
      "                ++++++++++ #valid\n"
     ]
    }
   ],
   "source": [
    "text = '''Mobile 9089865765 # valid\n",
    "                8736598076 #valid'''\n",
    "\n",
    "text = re.sub('\\d','+',text)\n",
    "print(text)"
   ]
  },
  {
   "cell_type": "code",
   "execution_count": 84,
   "id": "f3b02f3d",
   "metadata": {},
   "outputs": [
    {
     "name": "stdout",
     "output_type": "stream",
     "text": [
      "Mobile  # valid\n",
      "                 #valid\n"
     ]
    }
   ],
   "source": [
    "text = '''Mobile 9089865765 # valid\n",
    "                8736598076 #valid'''\n",
    "\n",
    "text = re.sub('\\d','',text)\n",
    "print(text)"
   ]
  },
  {
   "cell_type": "code",
   "execution_count": 85,
   "id": "16c14895",
   "metadata": {},
   "outputs": [
    {
     "name": "stdout",
     "output_type": "stream",
     "text": [
      "Mobile9089865765#valid8736598076#valid\n"
     ]
    }
   ],
   "source": [
    "text = '''Mobile 9089865765 # valid\n",
    "                8736598076 #valid'''\n",
    "\n",
    "text = re.sub('\\s','',text)\n",
    "print(text)"
   ]
  },
  {
   "cell_type": "code",
   "execution_count": 86,
   "id": "cd93414b",
   "metadata": {},
   "outputs": [
    {
     "name": "stdout",
     "output_type": "stream",
     "text": [
      "Mobile+9089865765+++valid+++++++++++++++++8736598076++valid\n"
     ]
    }
   ],
   "source": [
    "text = '''Mobile 9089865765 # valid\n",
    "                8736598076 #valid'''\n",
    "\n",
    "text = re.sub('\\W','+',text)\n",
    "print(text)"
   ]
  },
  {
   "cell_type": "code",
   "execution_count": 87,
   "id": "c5be6007",
   "metadata": {},
   "outputs": [
    {
     "name": "stdout",
     "output_type": "stream",
     "text": [
      "Mobile   9089865765         valid                                                   8736598076      valid\n"
     ]
    }
   ],
   "source": [
    "text = '''Mobile 9089865765 # valid\n",
    "                8736598076 #valid'''\n",
    "\n",
    "text = re.sub('\\W','   ',text)\n",
    "print(text)"
   ]
  },
  {
   "cell_type": "code",
   "execution_count": 88,
   "id": "4dbf6a35",
   "metadata": {},
   "outputs": [
    {
     "name": "stdout",
     "output_type": "stream",
     "text": [
      "Data        science is an      interdisciplinary field that uses scientific methods,       processes, 1234 12345 123456 algorithms and systems to        extract  !@#$%^ knowledge and insights from      noisy, structured and unstructured data, and apply        knowledge and actionable insights        from data across a broad range of application domains.\n"
     ]
    }
   ],
   "source": [
    "text = '''Data        science is an      interdisciplinary field that uses scientific methods,       processes, 1234 12345 123456\n",
    "algorithms and systems to        extract  !@#$%^ knowledge and insights from      noisy, structured and unstructured data,\n",
    "and apply        knowledge and actionable insights        from data across a broad range of application domains.'''\n",
    "\n",
    "result = re.sub('\\s',' ', text)\n",
    "print(result)"
   ]
  },
  {
   "cell_type": "code",
   "execution_count": 89,
   "id": "7b2815fa",
   "metadata": {},
   "outputs": [
    {
     "name": "stdout",
     "output_type": "stream",
     "text": [
      "Data science is an interdisciplinary field that uses scientific methods, processes, 1234 12345 123456 algorithms and systems to extract !@#$%^ knowledge and insights from noisy, structured and unstructured data, and apply knowledge and actionable insights from data across a broad range of application domains.\n"
     ]
    }
   ],
   "source": [
    "text = '''Data        science is an      interdisciplinary field that uses scientific methods,       processes, 1234 12345 123456\n",
    "algorithms and systems to        extract  !@#$%^ knowledge and insights from      noisy, structured and unstructured data,\n",
    "and apply        knowledge and actionable insights        from data across a broad range of application domains.'''\n",
    "\n",
    "result = re.sub('\\s+',' ', text)\n",
    "print(result)"
   ]
  },
  {
   "cell_type": "code",
   "execution_count": null,
   "id": "d0a9925c",
   "metadata": {},
   "outputs": [],
   "source": []
  }
 ],
 "metadata": {
  "kernelspec": {
   "display_name": "Python 3 (ipykernel)",
   "language": "python",
   "name": "python3"
  },
  "language_info": {
   "codemirror_mode": {
    "name": "ipython",
    "version": 3
   },
   "file_extension": ".py",
   "mimetype": "text/x-python",
   "name": "python",
   "nbconvert_exporter": "python",
   "pygments_lexer": "ipython3",
   "version": "3.9.7"
  }
 },
 "nbformat": 4,
 "nbformat_minor": 5
}
