{
 "cells": [
  {
   "cell_type": "markdown",
   "id": "f137eb8c",
   "metadata": {},
   "source": [
    "### 14. join()"
   ]
  },
  {
   "cell_type": "code",
   "execution_count": null,
   "id": "5f2a138f",
   "metadata": {},
   "outputs": [],
   "source": [
    "List to string"
   ]
  },
  {
   "cell_type": "code",
   "execution_count": 1,
   "id": "3c5d9438",
   "metadata": {},
   "outputs": [
    {
     "data": {
      "text/plain": [
       "['Machine', 'Learning', 'is', 'the', 'study', 'of', 'computer', 'algorithms']"
      ]
     },
     "execution_count": 1,
     "metadata": {},
     "output_type": "execute_result"
    }
   ],
   "source": [
    "a= 'Machine Learning is the study of computer algorithms'\n",
    "list1=a.split()\n",
    "list1"
   ]
  },
  {
   "cell_type": "code",
   "execution_count": 2,
   "id": "32ea9c41",
   "metadata": {},
   "outputs": [
    {
     "data": {
      "text/plain": [
       "'MachineLearningisthestudyofcomputeralgorithms'"
      ]
     },
     "execution_count": 2,
     "metadata": {},
     "output_type": "execute_result"
    }
   ],
   "source": [
    "result = ''.join(list1)\n",
    "result"
   ]
  },
  {
   "cell_type": "code",
   "execution_count": 3,
   "id": "e7c0f681",
   "metadata": {},
   "outputs": [
    {
     "data": {
      "text/plain": [
       "str"
      ]
     },
     "execution_count": 3,
     "metadata": {},
     "output_type": "execute_result"
    }
   ],
   "source": [
    "type(result)"
   ]
  },
  {
   "cell_type": "code",
   "execution_count": 8,
   "id": "863e4ed3",
   "metadata": {},
   "outputs": [
    {
     "data": {
      "text/plain": [
       "'Machine Learning is the study of computer algorithms'"
      ]
     },
     "execution_count": 8,
     "metadata": {},
     "output_type": "execute_result"
    }
   ],
   "source": [
    "spaces = ' '.join(list1)\n",
    "spaces"
   ]
  },
  {
   "cell_type": "code",
   "execution_count": 9,
   "id": "ed0821fb",
   "metadata": {},
   "outputs": [
    {
     "data": {
      "text/plain": [
       "'Machine_Learning_is_the_study_of_computer_algorithms'"
      ]
     },
     "execution_count": 9,
     "metadata": {},
     "output_type": "execute_result"
    }
   ],
   "source": [
    "under_score = '_'.join(list1)\n",
    "under_score"
   ]
  },
  {
   "cell_type": "code",
   "execution_count": 10,
   "id": "169aa3f2",
   "metadata": {},
   "outputs": [
    {
     "data": {
      "text/plain": [
       "'MachineABCLearningABCisABCtheABCstudyABCofABCcomputerABCalgorithms'"
      ]
     },
     "execution_count": 10,
     "metadata": {},
     "output_type": "execute_result"
    }
   ],
   "source": [
    "ABC = 'ABC'.join(list1)\n",
    "ABC"
   ]
  },
  {
   "cell_type": "code",
   "execution_count": 11,
   "id": "45c68d66",
   "metadata": {},
   "outputs": [
    {
     "data": {
      "text/plain": [
       "'Machine+++Learning+++is+++the+++study+++of+++computer+++algorithms'"
      ]
     },
     "execution_count": 11,
     "metadata": {},
     "output_type": "execute_result"
    }
   ],
   "source": [
    "plus = '+++'.join(list1)\n",
    "plus"
   ]
  },
  {
   "cell_type": "code",
   "execution_count": 14,
   "id": "64a25c02",
   "metadata": {},
   "outputs": [
    {
     "data": {
      "text/plain": [
       "'Nilesh Balaji Priyanka Ashwini'"
      ]
     },
     "execution_count": 14,
     "metadata": {},
     "output_type": "execute_result"
    }
   ],
   "source": [
    "a = ['Nilesh', 'Balaji', 'Priyanka', 'Ashwini']\n",
    "\" \".join(a)"
   ]
  },
  {
   "cell_type": "code",
   "execution_count": 15,
   "id": "6c90193c",
   "metadata": {},
   "outputs": [
    {
     "name": "stdout",
     "output_type": "stream",
     "text": [
      "Nilesh_Balaji_Priyanka_Ashwini\n"
     ]
    }
   ],
   "source": [
    "unde_s=\"_\".join(a)\n",
    "print(unde_s)"
   ]
  },
  {
   "cell_type": "code",
   "execution_count": 17,
   "id": "e61e509a",
   "metadata": {},
   "outputs": [
    {
     "ename": "TypeError",
     "evalue": "sequence item 1: expected str instance, float found",
     "output_type": "error",
     "traceback": [
      "\u001b[1;31m---------------------------------------------------------------------------\u001b[0m",
      "\u001b[1;31mTypeError\u001b[0m                                 Traceback (most recent call last)",
      "\u001b[1;32m<ipython-input-17-3d8fcd953c88>\u001b[0m in \u001b[0;36m<module>\u001b[1;34m\u001b[0m\n\u001b[0;32m      1\u001b[0m \u001b[0mb\u001b[0m\u001b[1;33m=\u001b[0m \u001b[1;33m[\u001b[0m\u001b[1;34m'Python'\u001b[0m\u001b[1;33m,\u001b[0m \u001b[1;36m2.2\u001b[0m\u001b[1;33m,\u001b[0m \u001b[1;32mTrue\u001b[0m\u001b[1;33m]\u001b[0m\u001b[1;33m\u001b[0m\u001b[1;33m\u001b[0m\u001b[0m\n\u001b[1;32m----> 2\u001b[1;33m \u001b[1;34m\" \"\u001b[0m\u001b[1;33m.\u001b[0m\u001b[0mjoin\u001b[0m\u001b[1;33m(\u001b[0m\u001b[0mb\u001b[0m\u001b[1;33m)\u001b[0m\u001b[1;33m\u001b[0m\u001b[1;33m\u001b[0m\u001b[0m\n\u001b[0m",
      "\u001b[1;31mTypeError\u001b[0m: sequence item 1: expected str instance, float found"
     ]
    }
   ],
   "source": [
    "b= ['Python', 2.2, True]\n",
    "\" \".join(b)"
   ]
  },
  {
   "cell_type": "code",
   "execution_count": 22,
   "id": "4b1afcde",
   "metadata": {},
   "outputs": [
    {
     "data": {
      "text/plain": [
       "'2_2.2_True'"
      ]
     },
     "execution_count": 22,
     "metadata": {},
     "output_type": "execute_result"
    }
   ],
   "source": [
    "b= ['2', '2.2', 'True']\n",
    "\"_\".join(b)"
   ]
  },
  {
   "cell_type": "code",
   "execution_count": 19,
   "id": "985ac846",
   "metadata": {},
   "outputs": [
    {
     "data": {
      "text/plain": [
       "['a', 2, 2.2]"
      ]
     },
     "execution_count": 19,
     "metadata": {},
     "output_type": "execute_result"
    }
   ],
   "source": [
    "a =['a',2,2.2]\n",
    "a"
   ]
  },
  {
   "cell_type": "code",
   "execution_count": 20,
   "id": "c42a463c",
   "metadata": {},
   "outputs": [
    {
     "data": {
      "text/plain": [
       "[2, 3, 4, 5]"
      ]
     },
     "execution_count": 20,
     "metadata": {},
     "output_type": "execute_result"
    }
   ],
   "source": [
    "a=[2,3,4,5]\n",
    "a"
   ]
  },
  {
   "cell_type": "code",
   "execution_count": 36,
   "id": "d858445b",
   "metadata": {
    "scrolled": true
   },
   "outputs": [
    {
     "name": "stdout",
     "output_type": "stream",
     "text": [
      "Length of list1 = 30\n",
      "Count of Machine is 2\n",
      "Count of learning is 1\n",
      "Count of is is 2\n",
      "Count of the is 2\n",
      "Count of study is 1\n",
      "Count of of is 3\n",
      "Count of computer is 1\n",
      "Count of algorithms is 1\n",
      "Count of that is 1\n",
      "Count of can is 1\n",
      "Count of improve is 1\n",
      "Count of automatically is 1\n",
      "Count of through is 1\n",
      "Count of experience is 1\n",
      "Count of and is 1\n",
      "Count of by is 1\n",
      "Count of the is 2\n",
      "Count of use is 1\n",
      "Count of of is 3\n",
      "Count of data. is 1\n",
      "Count of It is 1\n",
      "Count of is is 2\n",
      "Count of seen is 1\n",
      "Count of as is 1\n",
      "Count of a is 17\n",
      "Count of part is 1\n",
      "Count of of is 3\n",
      "Count of artificial is 1\n",
      "Count of intelligence is 1\n",
      "Count of Machine is 2\n"
     ]
    }
   ],
   "source": [
    "string= '''Machine learning is the study of computer algorithms that can improve automatically\n",
    "through experience and by the use of data. It is seen as a part of artificial intelligence Machine'''\n",
    "list1 = string.split()\n",
    "print('Length of list1 =', len(list1))\n",
    "\n",
    "for char in list1:\n",
    "    cnt = string.count(char)\n",
    "    print(f'Count of {char} is {cnt}')"
   ]
  },
  {
   "cell_type": "code",
   "execution_count": 39,
   "id": "53468fdf",
   "metadata": {
    "scrolled": true
   },
   "outputs": [
    {
     "name": "stdout",
     "output_type": "stream",
     "text": [
      "Length of list1 = 30\n",
      "Count of Machine is 2\n",
      "Count of learning is 1\n",
      "Count of is is 2\n",
      "Count of the is 2\n",
      "Count of study is 1\n",
      "Count of of is 3\n",
      "Count of computer is 1\n",
      "Count of algorithms is 1\n",
      "Count of that is 1\n",
      "Count of can is 1\n",
      "Count of improve is 1\n",
      "Count of automatically is 1\n",
      "Count of through is 1\n",
      "Count of experience is 1\n",
      "Count of and is 1\n",
      "Count of by is 1\n",
      "Count of the is 2\n",
      "Count of use is 1\n",
      "Count of of is 3\n",
      "Count of data. is 1\n",
      "Count of It is 1\n",
      "Count of is is 2\n",
      "Count of seen is 1\n",
      "Count of as is 1\n",
      "Count of a is 1\n",
      "Count of part is 1\n",
      "Count of of is 3\n",
      "Count of artificial is 1\n",
      "Count of intelligence is 1\n",
      "Count of Machine is 2\n"
     ]
    }
   ],
   "source": [
    "string= '''Machine learning is the study of computer algorithms that can improve automatically\n",
    "through experience and by the use of data. It is seen as a part of artificial intelligence Machine'''\n",
    "list1 = string.split()\n",
    "print('Length of list1 =', len(list1))\n",
    "\n",
    "for char in list1:\n",
    "    cnt = list1.count(char)\n",
    "    print(f'Count of {char} is {cnt}')"
   ]
  },
  {
   "cell_type": "code",
   "execution_count": 42,
   "id": "286caeb2",
   "metadata": {},
   "outputs": [
    {
     "name": "stdout",
     "output_type": "stream",
     "text": [
      "Count of Ram is 2\n",
      "Count of 1 is 2\n",
      "Count of 2 is 2\n",
      "Count of 3.3 is 1\n",
      "Count of 2 is 2\n",
      "Count of True is 2\n",
      "Count of Ram is 2\n"
     ]
    }
   ],
   "source": [
    "new_list =['Ram',1,2,3.3,2, True,'Ram']\n",
    "for char in new_list:\n",
    "    cnt = new_list.count(char)\n",
    "    print(f'Count of {char} is {cnt}')"
   ]
  },
  {
   "cell_type": "code",
   "execution_count": 43,
   "id": "06ca0d43",
   "metadata": {},
   "outputs": [
    {
     "name": "stdout",
     "output_type": "stream",
     "text": [
      "Count of M is 2\n",
      "Count of a is 17\n",
      "Count of c is 8\n",
      "Count of h is 8\n",
      "Count of i is 14\n",
      "Count of n is 10\n",
      "Count of e is 17\n",
      "Count of   is 28\n",
      "Count of l is 7\n",
      "Count of e is 17\n",
      "Count of a is 17\n",
      "Count of r is 8\n",
      "Count of n is 10\n",
      "Count of i is 14\n",
      "Count of n is 10\n",
      "Count of g is 4\n",
      "Count of   is 28\n",
      "Count of i is 14\n",
      "Count of s is 7\n",
      "Count of   is 28\n",
      "Count of t is 15\n",
      "Count of h is 8\n",
      "Count of e is 17\n",
      "Count of   is 28\n",
      "Count of s is 7\n",
      "Count of t is 15\n",
      "Count of u is 5\n",
      "Count of d is 3\n",
      "Count of y is 3\n",
      "Count of   is 28\n",
      "Count of o is 8\n",
      "Count of f is 4\n",
      "Count of   is 28\n",
      "Count of c is 8\n",
      "Count of o is 8\n",
      "Count of m is 4\n",
      "Count of p is 4\n",
      "Count of u is 5\n",
      "Count of t is 15\n",
      "Count of e is 17\n",
      "Count of r is 8\n",
      "Count of   is 28\n",
      "Count of a is 17\n",
      "Count of l is 7\n",
      "Count of g is 4\n",
      "Count of o is 8\n",
      "Count of r is 8\n",
      "Count of i is 14\n",
      "Count of t is 15\n",
      "Count of h is 8\n",
      "Count of m is 4\n",
      "Count of s is 7\n",
      "Count of   is 28\n",
      "Count of t is 15\n",
      "Count of h is 8\n",
      "Count of a is 17\n",
      "Count of t is 15\n",
      "Count of   is 28\n",
      "Count of c is 8\n",
      "Count of a is 17\n",
      "Count of n is 10\n",
      "Count of   is 28\n",
      "Count of i is 14\n",
      "Count of m is 4\n",
      "Count of p is 4\n",
      "Count of r is 8\n",
      "Count of o is 8\n",
      "Count of v is 1\n",
      "Count of e is 17\n",
      "Count of   is 28\n",
      "Count of a is 17\n",
      "Count of u is 5\n",
      "Count of t is 15\n",
      "Count of o is 8\n",
      "Count of m is 4\n",
      "Count of a is 17\n",
      "Count of t is 15\n",
      "Count of i is 14\n",
      "Count of c is 8\n",
      "Count of a is 17\n",
      "Count of l is 7\n",
      "Count of l is 7\n",
      "Count of y is 3\n",
      "Count of \n",
      " is 1\n",
      "Count of t is 15\n",
      "Count of h is 8\n",
      "Count of r is 8\n",
      "Count of o is 8\n",
      "Count of u is 5\n",
      "Count of g is 4\n",
      "Count of h is 8\n",
      "Count of   is 28\n",
      "Count of e is 17\n",
      "Count of x is 1\n",
      "Count of p is 4\n",
      "Count of e is 17\n",
      "Count of r is 8\n",
      "Count of i is 14\n",
      "Count of e is 17\n",
      "Count of n is 10\n",
      "Count of c is 8\n",
      "Count of e is 17\n",
      "Count of   is 28\n",
      "Count of a is 17\n",
      "Count of n is 10\n",
      "Count of d is 3\n",
      "Count of   is 28\n",
      "Count of b is 1\n",
      "Count of y is 3\n",
      "Count of   is 28\n",
      "Count of t is 15\n",
      "Count of h is 8\n",
      "Count of e is 17\n",
      "Count of   is 28\n",
      "Count of u is 5\n",
      "Count of s is 7\n",
      "Count of e is 17\n",
      "Count of   is 28\n",
      "Count of o is 8\n",
      "Count of f is 4\n",
      "Count of   is 28\n",
      "Count of d is 3\n",
      "Count of a is 17\n",
      "Count of t is 15\n",
      "Count of a is 17\n",
      "Count of . is 1\n",
      "Count of   is 28\n",
      "Count of I is 1\n",
      "Count of t is 15\n",
      "Count of   is 28\n",
      "Count of i is 14\n",
      "Count of s is 7\n",
      "Count of   is 28\n",
      "Count of s is 7\n",
      "Count of e is 17\n",
      "Count of e is 17\n",
      "Count of n is 10\n",
      "Count of   is 28\n",
      "Count of a is 17\n",
      "Count of s is 7\n",
      "Count of   is 28\n",
      "Count of a is 17\n",
      "Count of   is 28\n",
      "Count of p is 4\n",
      "Count of a is 17\n",
      "Count of r is 8\n",
      "Count of t is 15\n",
      "Count of   is 28\n",
      "Count of o is 8\n",
      "Count of f is 4\n",
      "Count of   is 28\n",
      "Count of a is 17\n",
      "Count of r is 8\n",
      "Count of t is 15\n",
      "Count of i is 14\n",
      "Count of f is 4\n",
      "Count of i is 14\n",
      "Count of c is 8\n",
      "Count of i is 14\n",
      "Count of a is 17\n",
      "Count of l is 7\n",
      "Count of   is 28\n",
      "Count of i is 14\n",
      "Count of n is 10\n",
      "Count of t is 15\n",
      "Count of e is 17\n",
      "Count of l is 7\n",
      "Count of l is 7\n",
      "Count of i is 14\n",
      "Count of g is 4\n",
      "Count of e is 17\n",
      "Count of n is 10\n",
      "Count of c is 8\n",
      "Count of e is 17\n",
      "Count of   is 28\n",
      "Count of M is 2\n",
      "Count of a is 17\n",
      "Count of c is 8\n",
      "Count of h is 8\n",
      "Count of i is 14\n",
      "Count of n is 10\n",
      "Count of e is 17\n"
     ]
    }
   ],
   "source": [
    "string= '''Machine learning is the study of computer algorithms that can improve automatically\n",
    "through experience and by the use of data. It is seen as a part of artificial intelligence Machine'''\n",
    "# list1 = string.split()\n",
    "# print('Length of list1 =', len(list1))\n",
    "\n",
    "for char in string:\n",
    "    cnt = string.count(char)\n",
    "    print(f'Count of {char} is {cnt}')"
   ]
  },
  {
   "cell_type": "code",
   "execution_count": 46,
   "id": "bac54d69",
   "metadata": {},
   "outputs": [
    {
     "name": "stdout",
     "output_type": "stream",
     "text": [
      "python and \n",
      "class\n"
     ]
    }
   ],
   "source": [
    "a=['python and ','class']\n",
    "for i in a:\n",
    "    print(i)"
   ]
  },
  {
   "cell_type": "markdown",
   "id": "629e0db4",
   "metadata": {},
   "source": [
    "### 15. endswith()"
   ]
  },
  {
   "cell_type": "code",
   "execution_count": null,
   "id": "212ba8ba",
   "metadata": {},
   "outputs": [],
   "source": [
    "It returns boolean values(True/False)\n",
    "Use case: To check extensions"
   ]
  },
  {
   "cell_type": "code",
   "execution_count": 49,
   "id": "6828a387",
   "metadata": {},
   "outputs": [
    {
     "data": {
      "text/plain": [
       "True"
      ]
     },
     "execution_count": 49,
     "metadata": {},
     "output_type": "execute_result"
    }
   ],
   "source": [
    "string ='Data'\n",
    "string.endswith('a')"
   ]
  },
  {
   "cell_type": "code",
   "execution_count": 51,
   "id": "6999e2f6",
   "metadata": {},
   "outputs": [
    {
     "data": {
      "text/plain": [
       "True"
      ]
     },
     "execution_count": 51,
     "metadata": {},
     "output_type": "execute_result"
    }
   ],
   "source": [
    "string = 'Python is interpreted Language'\n",
    "string.endswith('Language')"
   ]
  },
  {
   "cell_type": "code",
   "execution_count": null,
   "id": "a86a7f91",
   "metadata": {},
   "outputs": [],
   "source": [
    ".com\n",
    ".in\n",
    ".ipynb\n",
    ".xlsx\n",
    ".csv\n",
    ".txt\n",
    "r (raw string)>> when we are using raw path\n",
    "if we are not using raw string then use \\\\"
   ]
  },
  {
   "cell_type": "code",
   "execution_count": 55,
   "id": "9c537c0b",
   "metadata": {},
   "outputs": [
    {
     "data": {
      "text/plain": [
       "True"
      ]
     },
     "execution_count": 55,
     "metadata": {},
     "output_type": "execute_result"
    }
   ],
   "source": [
    "pdf_path = r'G:\\Velocity Sessions\\TSA and Hypothesis testing.pdf'\n",
    "pdf_path.endswith('.pdf')"
   ]
  },
  {
   "cell_type": "code",
   "execution_count": 53,
   "id": "7040d040",
   "metadata": {},
   "outputs": [
    {
     "data": {
      "text/plain": [
       "str"
      ]
     },
     "execution_count": 53,
     "metadata": {},
     "output_type": "execute_result"
    }
   ],
   "source": [
    "type(pdf_path)"
   ]
  },
  {
   "cell_type": "code",
   "execution_count": 56,
   "id": "ef6f0c8b",
   "metadata": {},
   "outputs": [
    {
     "data": {
      "text/plain": [
       "'PDF of the file Python is interpreted Language'"
      ]
     },
     "execution_count": 56,
     "metadata": {},
     "output_type": "execute_result"
    }
   ],
   "source": [
    "a= f'PDF of the file {string}'\n",
    "a"
   ]
  },
  {
   "cell_type": "code",
   "execution_count": 57,
   "id": "5da850fa",
   "metadata": {},
   "outputs": [
    {
     "name": "stdout",
     "output_type": "stream",
     "text": [
      "Yes, file is pdf\n"
     ]
    }
   ],
   "source": [
    "pdf_path = r'G:\\Velocity Sessions\\TSA and Hypothesis testing.pdf'\n",
    "if pdf_path.endswith('.pdf'):\n",
    "    print('Yes, file is pdf')\n",
    "else:\n",
    "    print('file is not a pdf')"
   ]
  },
  {
   "cell_type": "code",
   "execution_count": 60,
   "id": "a040c5af",
   "metadata": {},
   "outputs": [
    {
     "name": "stdout",
     "output_type": "stream",
     "text": [
      "Yes, file is pdf\n"
     ]
    }
   ],
   "source": [
    "pdf_path = r'G:\\Velocity Sessions\\TSA and Hypothesis testing.pdf'\n",
    "if pdf_path.endswith('.pdf')==1:\n",
    "    print('Yes, file is pdf')\n",
    "else:\n",
    "    print('file is not a pdf')"
   ]
  },
  {
   "cell_type": "code",
   "execution_count": 74,
   "id": "87eecd3a",
   "metadata": {},
   "outputs": [
    {
     "name": "stdout",
     "output_type": "stream",
     "text": [
      "MKV file >> 2021-10-08 19-31-55.mkv\n",
      "MKV file >> 2021-10-17 11-26-42.mkv\n",
      "MKV file >> 2021-10-25 19-21-39.mkv\n",
      "CSV file >> daily-minimum-temperatures-in-me.csv\n",
      "CSV file >> Electric_Production.csv\n",
      "CSV file >> monthly-beer-production-in-austr.csv\n",
      "CSV file >> sales-of-shampoo-over-a-three-ye.csv\n"
     ]
    }
   ],
   "source": [
    "import os \n",
    "folder_path = r'G:\\Velocity Sessions'\n",
    "files_list = os.listdir(folder_path)\n",
    "\n",
    "for file in files_list:\n",
    "    if file.endswith('.csv'):\n",
    "        print('CSV file >>', file)\n",
    "      \n",
    "    elif file.endswith('.mkv'):\n",
    "        print('MKV file >>', file)"
   ]
  },
  {
   "cell_type": "code",
   "execution_count": 71,
   "id": "0e792efe",
   "metadata": {},
   "outputs": [
    {
     "name": "stdout",
     "output_type": "stream",
     "text": [
      "CSV file >> 2021-10-08 19-31-55.mkv\n",
      "CSV file >> 2021-10-17 11-26-42.mkv\n",
      "CSV file >> 2021-10-25 19-21-39.mkv\n",
      "CSV file >> daily-minimum-temperatures-in-me.csv\n",
      "CSV file >> Electric_Production.csv\n",
      "CSV file >> monthly-beer-production-in-austr.csv\n",
      "CSV file >> sales-of-shampoo-over-a-three-ye.csv\n"
     ]
    }
   ],
   "source": [
    "import os \n",
    "folder_path = r'G:\\Velocity Sessions'\n",
    "files_list = os.listdir(folder_path)\n",
    "\n",
    "for file in files_list:\n",
    "    if file.endswith('.csv') or file.endswith('.mkv'):\n",
    "        print('CSV file >>', file)\n",
    "        \n",
    "#     elif file.endswith('.mkv'):\n",
    "#         print('MKV file >>', file)"
   ]
  },
  {
   "cell_type": "code",
   "execution_count": 75,
   "id": "3e711237",
   "metadata": {},
   "outputs": [
    {
     "data": {
      "text/plain": [
       "['.ipynb_checkpoints',\n",
       " '2021-08-21 10-38-25.mp4',\n",
       " '2021-10-08 19-31-55.mkv',\n",
       " '2021-10-17 11-26-42.mkv',\n",
       " '2021-10-25 19-21-39.mkv',\n",
       " 'Aug_7_TSA.ipynb',\n",
       " 'daily-minimum-temperatures-in-me.csv',\n",
       " 'Electric_Production.csv',\n",
       " 'FBProphet_model.ipynb',\n",
       " 'Iterators.ipynb',\n",
       " 'model_1.ipynb',\n",
       " 'monthly-beer-production-in-austr.csv',\n",
       " 'project expln.ipynb',\n",
       " 'sales-of-shampoo-over-a-three-ye.csv',\n",
       " 'TSA and Hypothesis testing.pdf',\n",
       " 'Untitled.ipynb']"
      ]
     },
     "execution_count": 75,
     "metadata": {},
     "output_type": "execute_result"
    }
   ],
   "source": [
    "files_list"
   ]
  },
  {
   "cell_type": "code",
   "execution_count": null,
   "id": "fba7781a",
   "metadata": {},
   "outputs": [],
   "source": []
  }
 ],
 "metadata": {
  "kernelspec": {
   "display_name": "Python 3",
   "language": "python",
   "name": "python3"
  },
  "language_info": {
   "codemirror_mode": {
    "name": "ipython",
    "version": 3
   },
   "file_extension": ".py",
   "mimetype": "text/x-python",
   "name": "python",
   "nbconvert_exporter": "python",
   "pygments_lexer": "ipython3",
   "version": "3.8.8"
  }
 },
 "nbformat": 4,
 "nbformat_minor": 5
}
