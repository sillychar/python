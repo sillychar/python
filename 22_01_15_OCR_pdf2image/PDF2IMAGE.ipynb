{
 "cells": [
  {
   "cell_type": "markdown",
   "id": "04248882",
   "metadata": {},
   "source": [
    "## pdf2image"
   ]
  },
  {
   "cell_type": "code",
   "execution_count": null,
   "id": "a0db286a",
   "metadata": {},
   "outputs": [],
   "source": [
    "# pip install pdf2image"
   ]
  },
  {
   "cell_type": "code",
   "execution_count": 7,
   "id": "74c8ab0b",
   "metadata": {},
   "outputs": [],
   "source": [
    "from pdf2image import convert_from_path\n",
    "import os"
   ]
  },
  {
   "cell_type": "code",
   "execution_count": 3,
   "id": "e616c25a",
   "metadata": {},
   "outputs": [],
   "source": [
    "file_path = r'G:\\Velocity 20 NOV\\97_134_bank_statement21.pdf'\n",
    "pop_path = r'C:\\Program Files\\poppler-0.68.0\\bin'\n",
    "\n",
    "images = convert_from_path(file_path,500,poppler_path=pop_path)\n",
    "for i, image in enumerate(images):\n",
    "    file_name = 'image'+str(i)+'.png'\n",
    "    image.save(file_name, 'PNG')"
   ]
  },
  {
   "cell_type": "code",
   "execution_count": 5,
   "id": "739a25c1",
   "metadata": {},
   "outputs": [],
   "source": [
    "file_path = r'G:\\Velocity 20 NOV\\grad_desc.pdf'\n",
    "pop_path = r'C:\\Program Files\\poppler-0.68.0\\bin'\n",
    "\n",
    "images = convert_from_path(file_path,500,poppler_path=pop_path)\n",
    "for page in images:\n",
    "    page.save('Gradient_Descent.jpg','JPEG')"
   ]
  },
  {
   "cell_type": "markdown",
   "id": "fc9a1d7d",
   "metadata": {},
   "source": [
    "## #######"
   ]
  },
  {
   "cell_type": "code",
   "execution_count": 16,
   "id": "6e03d2b1",
   "metadata": {},
   "outputs": [
    {
     "data": {
      "text/plain": [
       "'97_134_bank_statement21'"
      ]
     },
     "execution_count": 16,
     "metadata": {},
     "output_type": "execute_result"
    }
   ],
   "source": [
    "file_path = r'G:\\Velocity 20 NOV\\97_134_bank_statement21.pdf'\n",
    "pop_path = r'C:\\Program Files\\poppler-0.68.0\\bin'\n",
    "\n",
    "folder_name = file_path.split('\\\\')[-1].split('.')[0]\n"
   ]
  },
  {
   "cell_type": "code",
   "execution_count": 18,
   "id": "99b56d62",
   "metadata": {},
   "outputs": [
    {
     "name": "stdout",
     "output_type": "stream",
     "text": [
      "Folder Created\n"
     ]
    }
   ],
   "source": [
    "folder_path = r'G:\\Velocity 20 NOV\\01_15_OCR_pdf2image\\{}'.format(folder_name)\n",
    "if not os.path.exists(folder_path):\n",
    "    os.mkdir(folder_path)\n",
    "    print('Folder Created')    \n"
   ]
  },
  {
   "cell_type": "code",
   "execution_count": 20,
   "id": "d51e425b",
   "metadata": {},
   "outputs": [],
   "source": [
    "images = convert_from_path(file_path, first_page=4,last_page=8,dpi=100, poppler_path=pop_path)\n",
    "count = 4\n",
    "for i, image in enumerate(images):\n",
    "    image.save(f'{folder_path}\\\\bank_stat{count}.png','PNG')\n",
    "    count+=1"
   ]
  },
  {
   "cell_type": "markdown",
   "id": "39a04f10",
   "metadata": {},
   "source": [
    "## #####"
   ]
  },
  {
   "cell_type": "code",
   "execution_count": 24,
   "id": "db65711c",
   "metadata": {},
   "outputs": [
    {
     "name": "stdout",
     "output_type": "stream",
     "text": [
      "Folder Created\n"
     ]
    }
   ],
   "source": [
    "file_path = r'G:\\Velocity 20 NOV\\97_134_bank_statement21.pdf'\n",
    "pop_path = r'C:\\Program Files\\poppler-0.68.0\\bin'\n",
    "\n",
    "folder_name = file_path.split('\\\\')[-1].split('.')[0]+'_new'\n",
    "folder_name\n",
    "folder_path = r'G:\\Velocity 20 NOV\\01_15_OCR_pdf2image\\{}'.format(folder_name)\n",
    "folder_path\n",
    "if not os.path.exists(folder_path):\n",
    "    os.mkdir(folder_path)\n",
    "    print('Folder Created')    \n",
    "images = convert_from_path(file_path, first_page=2,last_page=7,dpi=500, poppler_path=pop_path)\n",
    "count = 2\n",
    "for image in images:\n",
    "    image.save(f'{folder_path}\\\\bank_stat_{count}.jpg','JPEG')\n",
    "    count+=1"
   ]
  },
  {
   "cell_type": "code",
   "execution_count": null,
   "id": "332fd149",
   "metadata": {},
   "outputs": [],
   "source": [
    "image.save(f'{folder_path}\\\\bank_stat_{count}.png', 'PNG')"
   ]
  },
  {
   "cell_type": "code",
   "execution_count": null,
   "id": "468c1bf5",
   "metadata": {},
   "outputs": [],
   "source": [
    "image.save(f'E:\\\\VELOCITY\\\\bank_stat_{count}.png', 'PNG')"
   ]
  },
  {
   "cell_type": "code",
   "execution_count": null,
   "id": "840adc35",
   "metadata": {},
   "outputs": [],
   "source": []
  },
  {
   "cell_type": "code",
   "execution_count": null,
   "id": "4f5b03e9",
   "metadata": {},
   "outputs": [],
   "source": []
  },
  {
   "cell_type": "code",
   "execution_count": null,
   "id": "155ea06b",
   "metadata": {},
   "outputs": [],
   "source": []
  },
  {
   "cell_type": "code",
   "execution_count": null,
   "id": "0a9d5e4a",
   "metadata": {},
   "outputs": [],
   "source": []
  },
  {
   "cell_type": "code",
   "execution_count": null,
   "id": "cf635076",
   "metadata": {},
   "outputs": [],
   "source": []
  },
  {
   "cell_type": "code",
   "execution_count": null,
   "id": "b4f4b658",
   "metadata": {},
   "outputs": [],
   "source": []
  },
  {
   "cell_type": "code",
   "execution_count": null,
   "id": "1d5423c7",
   "metadata": {},
   "outputs": [],
   "source": []
  },
  {
   "cell_type": "code",
   "execution_count": null,
   "id": "28eaa07e",
   "metadata": {},
   "outputs": [],
   "source": []
  },
  {
   "cell_type": "code",
   "execution_count": null,
   "id": "a99379a8",
   "metadata": {},
   "outputs": [],
   "source": []
  },
  {
   "cell_type": "code",
   "execution_count": null,
   "id": "9f5d46ba",
   "metadata": {},
   "outputs": [],
   "source": []
  },
  {
   "cell_type": "code",
   "execution_count": null,
   "id": "2b7717fa",
   "metadata": {},
   "outputs": [],
   "source": []
  },
  {
   "cell_type": "code",
   "execution_count": null,
   "id": "4a370240",
   "metadata": {},
   "outputs": [],
   "source": []
  },
  {
   "cell_type": "code",
   "execution_count": null,
   "id": "1137395c",
   "metadata": {},
   "outputs": [],
   "source": []
  },
  {
   "cell_type": "code",
   "execution_count": null,
   "id": "f392b1d3",
   "metadata": {},
   "outputs": [],
   "source": []
  },
  {
   "cell_type": "code",
   "execution_count": null,
   "id": "e3aac114",
   "metadata": {},
   "outputs": [],
   "source": []
  },
  {
   "cell_type": "code",
   "execution_count": null,
   "id": "bfae6e38",
   "metadata": {},
   "outputs": [],
   "source": []
  },
  {
   "cell_type": "code",
   "execution_count": null,
   "id": "d2cc2fa1",
   "metadata": {},
   "outputs": [],
   "source": []
  },
  {
   "cell_type": "code",
   "execution_count": null,
   "id": "3ff110c0",
   "metadata": {},
   "outputs": [],
   "source": []
  },
  {
   "cell_type": "code",
   "execution_count": null,
   "id": "7c13dee2",
   "metadata": {},
   "outputs": [],
   "source": []
  },
  {
   "cell_type": "code",
   "execution_count": null,
   "id": "5673609b",
   "metadata": {},
   "outputs": [],
   "source": []
  },
  {
   "cell_type": "code",
   "execution_count": null,
   "id": "221f3d09",
   "metadata": {},
   "outputs": [],
   "source": []
  },
  {
   "cell_type": "code",
   "execution_count": null,
   "id": "6e8a4fe0",
   "metadata": {},
   "outputs": [],
   "source": []
  },
  {
   "cell_type": "code",
   "execution_count": null,
   "id": "87c41fc5",
   "metadata": {},
   "outputs": [],
   "source": []
  },
  {
   "cell_type": "code",
   "execution_count": null,
   "id": "d73dcedd",
   "metadata": {},
   "outputs": [],
   "source": []
  },
  {
   "cell_type": "code",
   "execution_count": null,
   "id": "796d51f0",
   "metadata": {},
   "outputs": [],
   "source": []
  },
  {
   "cell_type": "code",
   "execution_count": null,
   "id": "c0ee20e2",
   "metadata": {},
   "outputs": [],
   "source": []
  },
  {
   "cell_type": "code",
   "execution_count": null,
   "id": "fa353bc0",
   "metadata": {},
   "outputs": [],
   "source": []
  },
  {
   "cell_type": "code",
   "execution_count": null,
   "id": "c5211015",
   "metadata": {},
   "outputs": [],
   "source": []
  },
  {
   "cell_type": "code",
   "execution_count": null,
   "id": "3169ed1b",
   "metadata": {},
   "outputs": [],
   "source": []
  },
  {
   "cell_type": "code",
   "execution_count": null,
   "id": "233c9298",
   "metadata": {},
   "outputs": [],
   "source": []
  },
  {
   "cell_type": "code",
   "execution_count": null,
   "id": "cc93f1a3",
   "metadata": {},
   "outputs": [],
   "source": []
  },
  {
   "cell_type": "code",
   "execution_count": null,
   "id": "d0fe37ce",
   "metadata": {},
   "outputs": [],
   "source": []
  },
  {
   "cell_type": "code",
   "execution_count": null,
   "id": "f586cf9f",
   "metadata": {},
   "outputs": [],
   "source": []
  },
  {
   "cell_type": "code",
   "execution_count": null,
   "id": "b6ed2a40",
   "metadata": {},
   "outputs": [],
   "source": []
  }
 ],
 "metadata": {
  "kernelspec": {
   "display_name": "Python 3 (ipykernel)",
   "language": "python",
   "name": "python3"
  },
  "language_info": {
   "codemirror_mode": {
    "name": "ipython",
    "version": 3
   },
   "file_extension": ".py",
   "mimetype": "text/x-python",
   "name": "python",
   "nbconvert_exporter": "python",
   "pygments_lexer": "ipython3",
   "version": "3.9.7"
  }
 },
 "nbformat": 4,
 "nbformat_minor": 5
}
