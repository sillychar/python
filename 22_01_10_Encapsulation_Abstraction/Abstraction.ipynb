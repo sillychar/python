{
 "cells": [
  {
   "cell_type": "markdown",
   "id": "3a825e52",
   "metadata": {},
   "source": [
    "## Abstraction"
   ]
  },
  {
   "cell_type": "markdown",
   "id": "017849e4",
   "metadata": {},
   "source": [
    "It is used to hide irrelevent data/unused data/attributes in order reduce complexity and enhance effiency  \n",
    "By default python does not support abstract class (we need to import abc module)  \n",
    "We can not create an object of abstract class  \n",
    "\n",
    "Abstract class is only used for declariotion purpose, does not use it for implementation"
   ]
  },
  {
   "cell_type": "code",
   "execution_count": null,
   "id": "4be8beb3",
   "metadata": {},
   "outputs": [],
   "source": [
    "1. abstact class\n",
    "2. Normal class"
   ]
  },
  {
   "cell_type": "code",
   "execution_count": null,
   "id": "a029108d",
   "metadata": {},
   "outputs": [],
   "source": [
    "API >>\n",
    "\n",
    "Registration\n",
    "Login\n",
    "Process_document\n",
    "save_Details"
   ]
  },
  {
   "cell_type": "code",
   "execution_count": null,
   "id": "4de5581c",
   "metadata": {},
   "outputs": [],
   "source": [
    "class Baseclass(ABC):  # Abstract class\n",
    "    #abstract method\n",
    "    \n",
    "    pass\n",
    "class DerivedClass(Baseclass):\n",
    "    pass"
   ]
  },
  {
   "cell_type": "code",
   "execution_count": null,
   "id": "e9017940",
   "metadata": {},
   "outputs": [],
   "source": []
  },
  {
   "cell_type": "code",
   "execution_count": 16,
   "id": "acc62d0b",
   "metadata": {},
   "outputs": [
    {
     "name": "stdout",
     "output_type": "stream",
     "text": [
      "Registration API\n",
      "Process  Document API\n",
      "Login API\n",
      "Save Documents Details API\n"
     ]
    }
   ],
   "source": [
    "from abc import ABC, abstractmethod\n",
    "\n",
    "class Project_Blueprint(ABC): # Abstract class\n",
    "    \n",
    "    @abstractmethod        # Decorator\n",
    "    def registration(self): # Abstract Method\n",
    "        print('############')\n",
    "        pass\n",
    "    \n",
    "    @abstractmethod\n",
    "    def login(self):     # Abstract Method\n",
    "        pass\n",
    "    \n",
    "    @abstractmethod\n",
    "    def process_document():\n",
    "        pass\n",
    "    \n",
    "    def save_details(self): # Normal method\n",
    "        pass \n",
    "    \n",
    "class ProjectAPI(Project_Blueprint) : # Derived class\n",
    "    \n",
    "    def registration(self):\n",
    "        print('Registration API')\n",
    "        \n",
    "    def login(self):     \n",
    "        print('Login API')\n",
    "    \n",
    "    def process_document(self):\n",
    "        print('Process  Document API')\n",
    "    \n",
    "    def save_details(self):\n",
    "        print('Save Documents Details API')\n",
    "        \n",
    "     \n",
    "proj_obj = ProjectAPI()\n",
    "proj_obj.registration()\n",
    "proj_obj.process_document()\n",
    "proj_obj.login()\n",
    "proj_obj.save_details()"
   ]
  },
  {
   "cell_type": "code",
   "execution_count": 6,
   "id": "4bcedec8",
   "metadata": {},
   "outputs": [
    {
     "ename": "TypeError",
     "evalue": "abc() missing 2 required positional arguments: 'a' and 'b'",
     "output_type": "error",
     "traceback": [
      "\u001b[1;31m---------------------------------------------------------------------------\u001b[0m",
      "\u001b[1;31mTypeError\u001b[0m                                 Traceback (most recent call last)",
      "\u001b[1;32m<ipython-input-6-ef1d61d5839f>\u001b[0m in \u001b[0;36m<module>\u001b[1;34m\u001b[0m\n\u001b[0;32m      1\u001b[0m \u001b[1;32mdef\u001b[0m \u001b[0mabc\u001b[0m\u001b[1;33m(\u001b[0m\u001b[0ma\u001b[0m\u001b[1;33m,\u001b[0m\u001b[0mb\u001b[0m\u001b[1;33m)\u001b[0m\u001b[1;33m:\u001b[0m\u001b[1;33m\u001b[0m\u001b[1;33m\u001b[0m\u001b[0m\n\u001b[0;32m      2\u001b[0m     \u001b[1;32mpass\u001b[0m\u001b[1;33m\u001b[0m\u001b[1;33m\u001b[0m\u001b[0m\n\u001b[1;32m----> 3\u001b[1;33m \u001b[0mabc\u001b[0m\u001b[1;33m(\u001b[0m\u001b[1;33m)\u001b[0m\u001b[1;33m\u001b[0m\u001b[1;33m\u001b[0m\u001b[0m\n\u001b[0m",
      "\u001b[1;31mTypeError\u001b[0m: abc() missing 2 required positional arguments: 'a' and 'b'"
     ]
    }
   ],
   "source": [
    "def abc(a,b):\n",
    "    pass\n",
    "abc()"
   ]
  },
  {
   "cell_type": "code",
   "execution_count": 17,
   "id": "972fdf89",
   "metadata": {},
   "outputs": [
    {
     "name": "stdout",
     "output_type": "stream",
     "text": [
      "Registration API\n",
      "Process  Document API\n",
      "Login API\n",
      "HIIIII\n"
     ]
    }
   ],
   "source": [
    "from abc import ABC, abstractmethod\n",
    "\n",
    "class Project_Blueprint(ABC): # Abstract class\n",
    "    \n",
    "    @abstractmethod        # Decorator\n",
    "    def registration(self): # Abstract Method\n",
    "        print('############')\n",
    "        pass\n",
    "    \n",
    "    @abstractmethod\n",
    "    def login(self):     # Abstract Method\n",
    "        pass\n",
    "    \n",
    "    @abstractmethod\n",
    "    def process_document():\n",
    "        pass\n",
    "    \n",
    "    def save_details(self): # Normal method\n",
    "        print('HIIIII') \n",
    "    \n",
    "class ProjectAPI(Project_Blueprint) : # Derived class\n",
    "    \n",
    "    def registration(self):\n",
    "        print('Registration API')\n",
    "        \n",
    "    def login(self):     \n",
    "        print('Login API')\n",
    "    \n",
    "    def process_document(self):\n",
    "        print('Process  Document API')\n",
    "    \n",
    "#     def save_details(self):\n",
    "#         print('Save Documents Details API')\n",
    "        \n",
    "     \n",
    "proj_obj = ProjectAPI()\n",
    "proj_obj.registration()\n",
    "proj_obj.process_document()\n",
    "proj_obj.login()\n",
    "proj_obj.save_details()"
   ]
  },
  {
   "cell_type": "code",
   "execution_count": 23,
   "id": "56f395c9",
   "metadata": {},
   "outputs": [
    {
     "name": "stdout",
     "output_type": "stream",
     "text": [
      "Area is  150\n",
      "Volume is  125\n"
     ]
    }
   ],
   "source": [
    "class Shape(ABC):  # Abstract Class\n",
    "    \n",
    "    @abstractmethod\n",
    "    def volume(self): pass\n",
    "    \n",
    "    @abstractmethod\n",
    "    def area(self): pass\n",
    "    \n",
    "    def triangle(self): pass\n",
    "    \n",
    "    \n",
    "class Cube(Shape):\n",
    "    \n",
    "    def __init__(self, side):\n",
    "        self.side = side\n",
    "    \n",
    "    def volume(self):\n",
    "        vol = self.side ** 3\n",
    "        print('Volume is ', vol)\n",
    "    \n",
    "    def area(self): \n",
    "        ar = 6 * (self.side ** 2 )\n",
    "        print('Area is ', ar)\n",
    "    \n",
    "c1 = Cube(5)\n",
    "c1.area()\n",
    "c1.volume()\n",
    "# c1.triangle()"
   ]
  },
  {
   "cell_type": "code",
   "execution_count": null,
   "id": "ccc4988a",
   "metadata": {},
   "outputs": [],
   "source": []
  },
  {
   "cell_type": "code",
   "execution_count": null,
   "id": "a516aabd",
   "metadata": {},
   "outputs": [],
   "source": []
  },
  {
   "cell_type": "code",
   "execution_count": null,
   "id": "bdfa6f9e",
   "metadata": {},
   "outputs": [],
   "source": []
  },
  {
   "cell_type": "code",
   "execution_count": null,
   "id": "4a20e4f4",
   "metadata": {},
   "outputs": [],
   "source": []
  },
  {
   "cell_type": "code",
   "execution_count": null,
   "id": "e48e39e6",
   "metadata": {},
   "outputs": [],
   "source": []
  },
  {
   "cell_type": "code",
   "execution_count": null,
   "id": "2f39e7db",
   "metadata": {},
   "outputs": [],
   "source": []
  },
  {
   "cell_type": "code",
   "execution_count": null,
   "id": "b3947760",
   "metadata": {},
   "outputs": [],
   "source": []
  },
  {
   "cell_type": "code",
   "execution_count": null,
   "id": "c4bb1081",
   "metadata": {},
   "outputs": [],
   "source": []
  },
  {
   "cell_type": "code",
   "execution_count": null,
   "id": "2c643a00",
   "metadata": {},
   "outputs": [],
   "source": []
  },
  {
   "cell_type": "code",
   "execution_count": null,
   "id": "1558d032",
   "metadata": {},
   "outputs": [],
   "source": []
  },
  {
   "cell_type": "code",
   "execution_count": null,
   "id": "10d7ff11",
   "metadata": {},
   "outputs": [],
   "source": []
  },
  {
   "cell_type": "code",
   "execution_count": null,
   "id": "8f326a54",
   "metadata": {},
   "outputs": [],
   "source": []
  },
  {
   "cell_type": "code",
   "execution_count": null,
   "id": "d7a0210b",
   "metadata": {},
   "outputs": [],
   "source": []
  },
  {
   "cell_type": "code",
   "execution_count": null,
   "id": "848dfc48",
   "metadata": {},
   "outputs": [],
   "source": []
  },
  {
   "cell_type": "code",
   "execution_count": null,
   "id": "cc8838a3",
   "metadata": {},
   "outputs": [],
   "source": []
  },
  {
   "cell_type": "code",
   "execution_count": null,
   "id": "63a708d5",
   "metadata": {},
   "outputs": [],
   "source": []
  },
  {
   "cell_type": "code",
   "execution_count": null,
   "id": "74e7acbf",
   "metadata": {},
   "outputs": [],
   "source": []
  },
  {
   "cell_type": "code",
   "execution_count": null,
   "id": "d2341243",
   "metadata": {},
   "outputs": [],
   "source": []
  },
  {
   "cell_type": "code",
   "execution_count": null,
   "id": "22cfb6e5",
   "metadata": {},
   "outputs": [],
   "source": []
  },
  {
   "cell_type": "code",
   "execution_count": null,
   "id": "916e34bc",
   "metadata": {},
   "outputs": [],
   "source": []
  },
  {
   "cell_type": "code",
   "execution_count": null,
   "id": "9bf17385",
   "metadata": {},
   "outputs": [],
   "source": []
  },
  {
   "cell_type": "code",
   "execution_count": null,
   "id": "f181f2dc",
   "metadata": {},
   "outputs": [],
   "source": []
  },
  {
   "cell_type": "code",
   "execution_count": null,
   "id": "621fb8a2",
   "metadata": {},
   "outputs": [],
   "source": []
  },
  {
   "cell_type": "code",
   "execution_count": null,
   "id": "cb7bf2ba",
   "metadata": {},
   "outputs": [],
   "source": []
  },
  {
   "cell_type": "code",
   "execution_count": null,
   "id": "c48cc368",
   "metadata": {},
   "outputs": [],
   "source": []
  },
  {
   "cell_type": "code",
   "execution_count": null,
   "id": "57ebd88c",
   "metadata": {},
   "outputs": [],
   "source": []
  },
  {
   "cell_type": "code",
   "execution_count": null,
   "id": "d083eb68",
   "metadata": {},
   "outputs": [],
   "source": []
  },
  {
   "cell_type": "code",
   "execution_count": null,
   "id": "3bed9c9a",
   "metadata": {},
   "outputs": [],
   "source": []
  },
  {
   "cell_type": "code",
   "execution_count": null,
   "id": "68741bad",
   "metadata": {},
   "outputs": [],
   "source": []
  },
  {
   "cell_type": "code",
   "execution_count": null,
   "id": "1f4052b5",
   "metadata": {},
   "outputs": [],
   "source": []
  },
  {
   "cell_type": "code",
   "execution_count": null,
   "id": "94a95f09",
   "metadata": {},
   "outputs": [],
   "source": []
  }
 ],
 "metadata": {
  "kernelspec": {
   "display_name": "Python 3 (ipykernel)",
   "language": "python",
   "name": "python3"
  },
  "language_info": {
   "codemirror_mode": {
    "name": "ipython",
    "version": 3
   },
   "file_extension": ".py",
   "mimetype": "text/x-python",
   "name": "python",
   "nbconvert_exporter": "python",
   "pygments_lexer": "ipython3",
   "version": "3.9.7"
  }
 },
 "nbformat": 4,
 "nbformat_minor": 5
}
