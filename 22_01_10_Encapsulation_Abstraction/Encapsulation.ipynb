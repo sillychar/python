{
 "cells": [
  {
   "cell_type": "code",
   "execution_count": 5,
   "id": "216feaba",
   "metadata": {},
   "outputs": [
    {
     "name": "stdout",
     "output_type": "stream",
     "text": [
      "Employee Name is  Swati\n",
      "Company name  TCS\n",
      "Employee ID Number is  T2001\n"
     ]
    }
   ],
   "source": [
    "class EmployeeDetails():\n",
    "    __company_name = 'TCS' # Private Class Variable\n",
    "    \n",
    "    def __init__(self, name, emp_id):\n",
    "        self.__name = name  # Private Instance Variable\n",
    "        self.emp_id = emp_id # Public Instance Variable\n",
    "        \n",
    "    def __employee_id(self):  # Private method\n",
    "        print('Employee ID Number is ', self.emp_id)\n",
    "        \n",
    "    def emp_details(self): # public method\n",
    "        print('Employee Name is ', self.__name)\n",
    "        print('Company name ', self.__company_name)\n",
    "        self.__employee_id()\n",
    "        \n",
    "emp_obj = EmployeeDetails('Swati', 'T2001')\n",
    "emp_obj.emp_details()  \n",
    "# emp_obj.__company_name # We can not access private methods from outside of the class"
   ]
  },
  {
   "cell_type": "markdown",
   "id": "e3a6babc",
   "metadata": {},
   "source": [
    "## Name Mangling"
   ]
  },
  {
   "cell_type": "code",
   "execution_count": null,
   "id": "552e68bf",
   "metadata": {},
   "outputs": [],
   "source": [
    "To access/Modify Private variables and methods from outside of the class\n",
    "\n",
    "Obj._ClassName__identifier"
   ]
  },
  {
   "cell_type": "code",
   "execution_count": 9,
   "id": "a050662f",
   "metadata": {},
   "outputs": [
    {
     "name": "stdout",
     "output_type": "stream",
     "text": [
      "Employee Name is  Swati\n",
      "Company name  Cognizant\n",
      "Employee ID Number is  T2001\n"
     ]
    }
   ],
   "source": [
    "class EmployeeDetails():\n",
    "    __company_name = 'TCS' # Private Class Variable\n",
    "    \n",
    "    def __init__(self, name, emp_id):\n",
    "        self.__name = name  # Private Instance Variable\n",
    "        self.emp_id = emp_id # Public Instance Variable\n",
    "        \n",
    "    def __employee_id(self):  # Private method\n",
    "        print('Employee ID Number is ', self.emp_id)\n",
    "        \n",
    "    def emp_details(self): # public method\n",
    "        print('Employee Name is ', self.__name)\n",
    "        print('Company name ', self.__company_name)\n",
    "        self.__employee_id()\n",
    "        \n",
    "emp_obj = EmployeeDetails('Swati', 'T2001')\n",
    "\n",
    "# Modyfying data by using Name Mangling Method\n",
    "emp_obj._EmployeeDetails__company_name = \"Cognizant\"\n",
    "emp_obj.emp_details()"
   ]
  },
  {
   "cell_type": "code",
   "execution_count": 8,
   "id": "bc446003",
   "metadata": {},
   "outputs": [
    {
     "ename": "AttributeError",
     "evalue": "'EmployeeDetails' object has no attribute '__company_name'",
     "output_type": "error",
     "traceback": [
      "\u001b[1;31m---------------------------------------------------------------------------\u001b[0m",
      "\u001b[1;31mAttributeError\u001b[0m                            Traceback (most recent call last)",
      "\u001b[1;32m<ipython-input-8-f29ea18b4b5f>\u001b[0m in \u001b[0;36m<module>\u001b[1;34m\u001b[0m\n\u001b[1;32m----> 1\u001b[1;33m \u001b[0memp_obj\u001b[0m\u001b[1;33m.\u001b[0m\u001b[0m__company_name\u001b[0m\u001b[1;33m\u001b[0m\u001b[1;33m\u001b[0m\u001b[0m\n\u001b[0m",
      "\u001b[1;31mAttributeError\u001b[0m: 'EmployeeDetails' object has no attribute '__company_name'"
     ]
    }
   ],
   "source": [
    "emp_obj.__company_name"
   ]
  },
  {
   "cell_type": "code",
   "execution_count": 12,
   "id": "268495b7",
   "metadata": {},
   "outputs": [
    {
     "name": "stdout",
     "output_type": "stream",
     "text": [
      "Employee ID Number is  T2001\n",
      "Employee Name is  Swati\n",
      "Company name  Cognizant\n",
      "Employee ID Number is  T2001\n"
     ]
    }
   ],
   "source": [
    "class EmployeeDetails():\n",
    "    __company_name = 'TCS' # Private Class Variable\n",
    "    \n",
    "    def __init__(self, name, emp_id):\n",
    "        self.__name = name  # Private Instance Variable\n",
    "        self.emp_id = emp_id # Public Instance Variable\n",
    "        \n",
    "    def __employee_id(self):  # Private method\n",
    "        print('Employee ID Number is ', self.emp_id)\n",
    "        \n",
    "    def emp_details(self): # public method\n",
    "        print('Employee Name is ', self.__name)\n",
    "        print('Company name ', self.__company_name)\n",
    "        self.__employee_id()\n",
    "        \n",
    "emp_obj = EmployeeDetails('Swati', 'T2001')\n",
    "\n",
    "# Modyfying data by using Name Mangling Method\n",
    "emp_obj._EmployeeDetails__company_name = \"Cognizant\"\n",
    "\n",
    "emp_obj._EmployeeDetails__employee_id()\n",
    "emp_obj.emp_details()"
   ]
  },
  {
   "cell_type": "code",
   "execution_count": 18,
   "id": "ce215587",
   "metadata": {},
   "outputs": [
    {
     "name": "stdout",
     "output_type": "stream",
     "text": [
      "Employee Name is  Swati\n",
      "Company name  Cognizant\n",
      "Employee ID Number is  T2001\n",
      "Designation is  Data Scientist\n"
     ]
    }
   ],
   "source": [
    "class EmployeeDetails():\n",
    "    __company_name = 'TCS' # Private Class Variable\n",
    "    \n",
    "    def __init__(self, name, emp_id, salary):\n",
    "        self.__name = name  # Private Instance Variable\n",
    "        self.emp_id = emp_id # Public Instance Variable\n",
    "        self.salary = salary\n",
    "        \n",
    "    def __employee_id(self):  # Private method\n",
    "        print('Employee ID Number is ', self.emp_id)\n",
    "        self.designation = 'Data Scientist'\n",
    "        \n",
    "    def __emp_salary(self):\n",
    "        print('Employee Salary is :', self.salary)\n",
    "        \n",
    "    def emp_details(self): # public method\n",
    "        print('Employee Name is ', self.__name)\n",
    "        print('Company name ', self.__company_name)\n",
    "        self.__employee_id()\n",
    "        print('Designation is ', self.designation)\n",
    "        \n",
    "emp_obj = EmployeeDetails('Swati', 'T2001', 80000)\n",
    "\n",
    "# Modyfying data by using Name Mangling Method\n",
    "emp_obj._EmployeeDetails__company_name = \"Cognizant\"\n",
    "\n",
    "# Accessing Method by using Name Mangling method\n",
    "# emp_obj._EmployeeDetails__employee_id()\n",
    "emp_obj.designation = 'ML Engineer'\n",
    "\n",
    "emp_obj.emp_details()"
   ]
  },
  {
   "cell_type": "code",
   "execution_count": 22,
   "id": "b6198722",
   "metadata": {},
   "outputs": [
    {
     "name": "stdout",
     "output_type": "stream",
     "text": [
      "Employee ID Number is  T2001\n",
      "Employee Salary is : 80000\n",
      "Employee Name is  Swati\n",
      "Company name  Cognizant\n",
      "Employee ID Number is  T2001\n",
      "Designation is  Data Scientist\n"
     ]
    }
   ],
   "source": [
    "class EmployeeDetails():\n",
    "    __company_name = 'TCS' # Private Class Variable\n",
    "    \n",
    "    def __init__(self, name, emp_id, salary):\n",
    "        self.__name = name  # Private Instance Variable\n",
    "        self.emp_id = emp_id # Public Instance Variable\n",
    "        self.salary = salary\n",
    "        \n",
    "    def __employee_id(self):  # Private method\n",
    "        print('Employee ID Number is ', self.emp_id)\n",
    "        self.designation = 'Data Scientist'\n",
    "        \n",
    "    def __emp_salary(self):\n",
    "        print('Employee Salary is :', self.salary)\n",
    "        \n",
    "    def emp_details(self): # public method\n",
    "        print('Employee Name is ', self.__name)\n",
    "        print('Company name ', self.__company_name)\n",
    "        self.__employee_id()\n",
    "        print('Designation is ', self.designation)\n",
    "        \n",
    "emp_obj = EmployeeDetails('Swati', 'T2001', 80000)\n",
    "\n",
    "# Modyfying data by using Name Mangling Method\n",
    "emp_obj._EmployeeDetails__company_name = \"Cognizant\"\n",
    "\n",
    "# Accessing Method by using Name Mangling method\n",
    "emp_obj._EmployeeDetails__employee_id()\n",
    "emp_obj.designation = 'ML Engineer' #  can not modify instance variable in private method\n",
    "emp_obj._EmployeeDetails__emp_salary()\n",
    "\n",
    "\n",
    "emp_obj.emp_details()"
   ]
  },
  {
   "cell_type": "code",
   "execution_count": 23,
   "id": "6d7fc5a3",
   "metadata": {},
   "outputs": [
    {
     "data": {
      "text/plain": [
       "['_EmployeeDetails__company_name',\n",
       " '_EmployeeDetails__emp_salary',\n",
       " '_EmployeeDetails__employee_id',\n",
       " '_EmployeeDetails__name',\n",
       " '__class__',\n",
       " '__delattr__',\n",
       " '__dict__',\n",
       " '__dir__',\n",
       " '__doc__',\n",
       " '__eq__',\n",
       " '__format__',\n",
       " '__ge__',\n",
       " '__getattribute__',\n",
       " '__gt__',\n",
       " '__hash__',\n",
       " '__init__',\n",
       " '__init_subclass__',\n",
       " '__le__',\n",
       " '__lt__',\n",
       " '__module__',\n",
       " '__ne__',\n",
       " '__new__',\n",
       " '__reduce__',\n",
       " '__reduce_ex__',\n",
       " '__repr__',\n",
       " '__setattr__',\n",
       " '__sizeof__',\n",
       " '__str__',\n",
       " '__subclasshook__',\n",
       " '__weakref__',\n",
       " 'designation',\n",
       " 'emp_details',\n",
       " 'emp_id',\n",
       " 'salary']"
      ]
     },
     "execution_count": 23,
     "metadata": {},
     "output_type": "execute_result"
    }
   ],
   "source": [
    "dir(emp_obj)"
   ]
  },
  {
   "cell_type": "code",
   "execution_count": null,
   "id": "c09d9630",
   "metadata": {},
   "outputs": [],
   "source": []
  },
  {
   "cell_type": "code",
   "execution_count": null,
   "id": "4a38c37b",
   "metadata": {},
   "outputs": [],
   "source": []
  },
  {
   "cell_type": "code",
   "execution_count": null,
   "id": "715273d3",
   "metadata": {},
   "outputs": [],
   "source": []
  },
  {
   "cell_type": "code",
   "execution_count": null,
   "id": "1fc05137",
   "metadata": {},
   "outputs": [],
   "source": []
  },
  {
   "cell_type": "code",
   "execution_count": null,
   "id": "7441f869",
   "metadata": {},
   "outputs": [],
   "source": []
  },
  {
   "cell_type": "code",
   "execution_count": null,
   "id": "0bed4bea",
   "metadata": {},
   "outputs": [],
   "source": []
  },
  {
   "cell_type": "code",
   "execution_count": null,
   "id": "7cde84f7",
   "metadata": {},
   "outputs": [],
   "source": []
  },
  {
   "cell_type": "code",
   "execution_count": null,
   "id": "47102537",
   "metadata": {},
   "outputs": [],
   "source": []
  },
  {
   "cell_type": "code",
   "execution_count": null,
   "id": "8c929366",
   "metadata": {},
   "outputs": [],
   "source": []
  },
  {
   "cell_type": "code",
   "execution_count": null,
   "id": "97125e8e",
   "metadata": {},
   "outputs": [],
   "source": []
  },
  {
   "cell_type": "code",
   "execution_count": null,
   "id": "28d364cd",
   "metadata": {},
   "outputs": [],
   "source": []
  },
  {
   "cell_type": "code",
   "execution_count": null,
   "id": "d55e27b3",
   "metadata": {},
   "outputs": [],
   "source": []
  },
  {
   "cell_type": "code",
   "execution_count": null,
   "id": "2ace3d10",
   "metadata": {},
   "outputs": [],
   "source": []
  },
  {
   "cell_type": "code",
   "execution_count": null,
   "id": "b7f19351",
   "metadata": {},
   "outputs": [],
   "source": []
  },
  {
   "cell_type": "code",
   "execution_count": null,
   "id": "2266b1f4",
   "metadata": {},
   "outputs": [],
   "source": []
  },
  {
   "cell_type": "code",
   "execution_count": null,
   "id": "5d285162",
   "metadata": {},
   "outputs": [],
   "source": []
  },
  {
   "cell_type": "code",
   "execution_count": null,
   "id": "df66f465",
   "metadata": {},
   "outputs": [],
   "source": []
  },
  {
   "cell_type": "code",
   "execution_count": null,
   "id": "dc449f04",
   "metadata": {},
   "outputs": [],
   "source": []
  }
 ],
 "metadata": {
  "kernelspec": {
   "display_name": "Python 3 (ipykernel)",
   "language": "python",
   "name": "python3"
  },
  "language_info": {
   "codemirror_mode": {
    "name": "ipython",
    "version": 3
   },
   "file_extension": ".py",
   "mimetype": "text/x-python",
   "name": "python",
   "nbconvert_exporter": "python",
   "pygments_lexer": "ipython3",
   "version": "3.9.7"
  }
 },
 "nbformat": 4,
 "nbformat_minor": 5
}
