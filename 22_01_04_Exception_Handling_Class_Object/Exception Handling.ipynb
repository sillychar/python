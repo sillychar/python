{
 "cells": [
  {
   "cell_type": "markdown",
   "id": "e77cd279",
   "metadata": {},
   "source": [
    "## Exception Handling"
   ]
  },
  {
   "cell_type": "code",
   "execution_count": 1,
   "id": "190d29af",
   "metadata": {},
   "outputs": [
    {
     "ename": "AttributeError",
     "evalue": "'tuple' object has no attribute 'append'",
     "output_type": "error",
     "traceback": [
      "\u001b[1;31m---------------------------------------------------------------------------\u001b[0m",
      "\u001b[1;31mAttributeError\u001b[0m                            Traceback (most recent call last)",
      "\u001b[1;32m<ipython-input-1-5ccede711407>\u001b[0m in \u001b[0;36m<module>\u001b[1;34m\u001b[0m\n\u001b[0;32m      1\u001b[0m \u001b[0ma\u001b[0m\u001b[1;33m=\u001b[0m \u001b[1;33m(\u001b[0m\u001b[1;36m1\u001b[0m\u001b[1;33m,\u001b[0m\u001b[1;36m2\u001b[0m\u001b[1;33m,\u001b[0m\u001b[1;36m3\u001b[0m\u001b[1;33m)\u001b[0m\u001b[1;33m\u001b[0m\u001b[1;33m\u001b[0m\u001b[0m\n\u001b[1;32m----> 2\u001b[1;33m \u001b[0ma\u001b[0m\u001b[1;33m.\u001b[0m\u001b[0mappend\u001b[0m\u001b[1;33m(\u001b[0m\u001b[1;36m4\u001b[0m\u001b[1;33m)\u001b[0m\u001b[1;33m\u001b[0m\u001b[1;33m\u001b[0m\u001b[0m\n\u001b[0m",
      "\u001b[1;31mAttributeError\u001b[0m: 'tuple' object has no attribute 'append'"
     ]
    }
   ],
   "source": [
    "a= (1,2,3)\n",
    "a.append(4)"
   ]
  },
  {
   "cell_type": "code",
   "execution_count": 2,
   "id": "8f3bdb35",
   "metadata": {},
   "outputs": [
    {
     "ename": "IndexError",
     "evalue": "tuple index out of range",
     "output_type": "error",
     "traceback": [
      "\u001b[1;31m---------------------------------------------------------------------------\u001b[0m",
      "\u001b[1;31mIndexError\u001b[0m                                Traceback (most recent call last)",
      "\u001b[1;32m<ipython-input-2-ed40d1f49c42>\u001b[0m in \u001b[0;36m<module>\u001b[1;34m\u001b[0m\n\u001b[1;32m----> 1\u001b[1;33m \u001b[0ma\u001b[0m\u001b[1;33m[\u001b[0m\u001b[1;36m4\u001b[0m\u001b[1;33m]\u001b[0m\u001b[1;33m\u001b[0m\u001b[1;33m\u001b[0m\u001b[0m\n\u001b[0m",
      "\u001b[1;31mIndexError\u001b[0m: tuple index out of range"
     ]
    }
   ],
   "source": [
    "a[4]"
   ]
  },
  {
   "cell_type": "code",
   "execution_count": 3,
   "id": "952512c0",
   "metadata": {},
   "outputs": [
    {
     "ename": "NameError",
     "evalue": "name 'x' is not defined",
     "output_type": "error",
     "traceback": [
      "\u001b[1;31m---------------------------------------------------------------------------\u001b[0m",
      "\u001b[1;31mNameError\u001b[0m                                 Traceback (most recent call last)",
      "\u001b[1;32m<ipython-input-3-fc17d851ef81>\u001b[0m in \u001b[0;36m<module>\u001b[1;34m\u001b[0m\n\u001b[1;32m----> 1\u001b[1;33m \u001b[0mprint\u001b[0m\u001b[1;33m(\u001b[0m\u001b[0mx\u001b[0m\u001b[1;33m)\u001b[0m\u001b[1;33m\u001b[0m\u001b[1;33m\u001b[0m\u001b[0m\n\u001b[0m",
      "\u001b[1;31mNameError\u001b[0m: name 'x' is not defined"
     ]
    }
   ],
   "source": [
    "print(x)"
   ]
  },
  {
   "cell_type": "code",
   "execution_count": 4,
   "id": "c5833ee4",
   "metadata": {},
   "outputs": [
    {
     "ename": "ZeroDivisionError",
     "evalue": "division by zero",
     "output_type": "error",
     "traceback": [
      "\u001b[1;31m---------------------------------------------------------------------------\u001b[0m",
      "\u001b[1;31mZeroDivisionError\u001b[0m                         Traceback (most recent call last)",
      "\u001b[1;32m<ipython-input-4-f83a26030bd4>\u001b[0m in \u001b[0;36m<module>\u001b[1;34m\u001b[0m\n\u001b[1;32m----> 1\u001b[1;33m \u001b[1;36m20\u001b[0m\u001b[1;33m/\u001b[0m\u001b[1;36m0\u001b[0m\u001b[1;33m\u001b[0m\u001b[1;33m\u001b[0m\u001b[0m\n\u001b[0m",
      "\u001b[1;31mZeroDivisionError\u001b[0m: division by zero"
     ]
    }
   ],
   "source": [
    "20/0"
   ]
  },
  {
   "cell_type": "markdown",
   "id": "61ec38ae",
   "metadata": {},
   "source": [
    "### Try-except"
   ]
  },
  {
   "cell_type": "code",
   "execution_count": null,
   "id": "e81c69f5",
   "metadata": {},
   "outputs": [],
   "source": [
    "x=10\n",
    "a= python >> risky code\n",
    "b='python'"
   ]
  },
  {
   "cell_type": "code",
   "execution_count": null,
   "id": "de297c9e",
   "metadata": {},
   "outputs": [],
   "source": [
    "try >> It lets you test a block of code (usually risky code)\n",
    "except >> It handles that error"
   ]
  },
  {
   "cell_type": "code",
   "execution_count": null,
   "id": "03812dce",
   "metadata": {},
   "outputs": [],
   "source": [
    "NameError\n",
    "TypeError\n",
    "ZeroDivisionError\n",
    "AttributeError\n",
    "KeyError\n",
    "IndentationError\n",
    "FileNotFoundError\n",
    "IndexError"
   ]
  },
  {
   "cell_type": "code",
   "execution_count": 5,
   "id": "5ee88584",
   "metadata": {},
   "outputs": [
    {
     "name": "stdout",
     "output_type": "stream",
     "text": [
      "This is Try Block\n"
     ]
    }
   ],
   "source": [
    "try:\n",
    "    print('This is Try Block')\n",
    "    \n",
    "except:\n",
    "    print('This is Except block')"
   ]
  },
  {
   "cell_type": "code",
   "execution_count": 1,
   "id": "dfb26990",
   "metadata": {},
   "outputs": [
    {
     "name": "stdout",
     "output_type": "stream",
     "text": [
      "This is Except block\n"
     ]
    }
   ],
   "source": [
    "try:\n",
    "    t1= (1,2,3)\n",
    "    t1.append(4)\n",
    "    print('This is Try Block')\n",
    "    \n",
    "except :\n",
    "    print('This is Except block')"
   ]
  },
  {
   "cell_type": "code",
   "execution_count": 2,
   "id": "6a92300d",
   "metadata": {},
   "outputs": [
    {
     "ename": "AttributeError",
     "evalue": "'tuple' object has no attribute 'append'",
     "output_type": "error",
     "traceback": [
      "\u001b[1;31m---------------------------------------------------------------------------\u001b[0m",
      "\u001b[1;31mAttributeError\u001b[0m                            Traceback (most recent call last)",
      "\u001b[1;32m~\\AppData\\Local\\Temp/ipykernel_9100/428232737.py\u001b[0m in \u001b[0;36m<module>\u001b[1;34m\u001b[0m\n\u001b[0;32m      1\u001b[0m \u001b[0mt1\u001b[0m\u001b[1;33m=\u001b[0m \u001b[1;33m(\u001b[0m\u001b[1;36m1\u001b[0m\u001b[1;33m,\u001b[0m\u001b[1;36m2\u001b[0m\u001b[1;33m,\u001b[0m\u001b[1;36m3\u001b[0m\u001b[1;33m)\u001b[0m\u001b[1;33m\u001b[0m\u001b[1;33m\u001b[0m\u001b[0m\n\u001b[1;32m----> 2\u001b[1;33m \u001b[0mt1\u001b[0m\u001b[1;33m.\u001b[0m\u001b[0mappend\u001b[0m\u001b[1;33m(\u001b[0m\u001b[1;36m4\u001b[0m\u001b[1;33m)\u001b[0m\u001b[1;33m\u001b[0m\u001b[1;33m\u001b[0m\u001b[0m\n\u001b[0m\u001b[0;32m      3\u001b[0m \u001b[0mprint\u001b[0m\u001b[1;33m(\u001b[0m\u001b[1;34m'This is Try Block'\u001b[0m\u001b[1;33m)\u001b[0m\u001b[1;33m\u001b[0m\u001b[1;33m\u001b[0m\u001b[0m\n",
      "\u001b[1;31mAttributeError\u001b[0m: 'tuple' object has no attribute 'append'"
     ]
    }
   ],
   "source": [
    "t1= (1,2,3)\n",
    "t1.append(4)\n",
    "print('This is Try Block')"
   ]
  },
  {
   "cell_type": "code",
   "execution_count": 9,
   "id": "e7dfb1b2",
   "metadata": {},
   "outputs": [
    {
     "name": "stdout",
     "output_type": "stream",
     "text": [
      "This is Except block\n"
     ]
    }
   ],
   "source": [
    "try:\n",
    "    t1= (1,2,3)\n",
    "    t1.append(4)\n",
    "    print('This is Try Block')\n",
    "    \n",
    "except AttributeError:\n",
    "    print('This is Except block')"
   ]
  },
  {
   "cell_type": "code",
   "execution_count": 10,
   "id": "ba30d8a2",
   "metadata": {},
   "outputs": [
    {
     "name": "stdout",
     "output_type": "stream",
     "text": [
      "Execute when error occured in try block\n",
      "This is Except block\n"
     ]
    }
   ],
   "source": [
    "try:\n",
    "    t1= (1,2,3)\n",
    "    t1.append(4)\n",
    "    print('This is Try Block')\n",
    "    \n",
    "except:\n",
    "    print('Execute when error occured in try block')\n",
    "    print('This is Except block')"
   ]
  },
  {
   "cell_type": "code",
   "execution_count": 5,
   "id": "fe3d3b5a",
   "metadata": {},
   "outputs": [
    {
     "name": "stdout",
     "output_type": "stream",
     "text": [
      "None\n",
      "Execute when error occured in try block\n",
      "This is Except block\n",
      "****************************\n"
     ]
    },
    {
     "name": "stderr",
     "output_type": "stream",
     "text": [
      "Traceback (most recent call last):\n",
      "  File \"C:\\Users\\manoj\\AppData\\Local\\Temp/ipykernel_9100/641920012.py\", line 4, in <module>\n",
      "    t1.append(4)\n",
      "AttributeError: 'tuple' object has no attribute 'append'\n"
     ]
    }
   ],
   "source": [
    "import traceback\n",
    "try:\n",
    "    t1= (1,2,3)\n",
    "    t1.append(4)\n",
    "    print('This is Try Block')\n",
    "    \n",
    "except:\n",
    "    print(traceback.print_exc())\n",
    "    print('Execute when error occured in try block')\n",
    "    print('This is Except block')\n",
    "    \n",
    "print('****************************') # seperator"
   ]
  },
  {
   "cell_type": "code",
   "execution_count": 13,
   "id": "b7582ee2",
   "metadata": {},
   "outputs": [
    {
     "name": "stdout",
     "output_type": "stream",
     "text": [
      "None\n",
      "Except Block\n"
     ]
    },
    {
     "name": "stderr",
     "output_type": "stream",
     "text": [
      "Traceback (most recent call last):\n",
      "  File \"<ipython-input-13-0587dcb0e4bd>\", line 2, in <module>\n",
      "    f = open('filename.txt','r')\n",
      "FileNotFoundError: [Errno 2] No such file or directory: 'filename.txt'\n"
     ]
    }
   ],
   "source": [
    "try:\n",
    "    f = open('filename.txt','r')\n",
    "    text= f.read()\n",
    "    print(text)\n",
    "    f.close()\n",
    "    \n",
    "except:\n",
    "    print(traceback.print_exc())\n",
    "    print('Except Block')"
   ]
  },
  {
   "cell_type": "code",
   "execution_count": 14,
   "id": "b7b5e1bf",
   "metadata": {},
   "outputs": [
    {
     "name": "stdout",
     "output_type": "stream",
     "text": [
      "Except Block\n"
     ]
    },
    {
     "name": "stderr",
     "output_type": "stream",
     "text": [
      "Traceback (most recent call last):\n",
      "  File \"<ipython-input-14-abd0733c9bd5>\", line 2, in <module>\n",
      "    f = open('filename.txt','r')\n",
      "FileNotFoundError: [Errno 2] No such file or directory: 'filename.txt'\n"
     ]
    }
   ],
   "source": [
    "try:\n",
    "    f = open('filename.txt','r')\n",
    "    text= f.read()\n",
    "    print(text)\n",
    "    f.close()\n",
    "    \n",
    "except:\n",
    "    traceback.print_exc()\n",
    "    print('Except Block')"
   ]
  },
  {
   "cell_type": "code",
   "execution_count": 15,
   "id": "0a0d4c81",
   "metadata": {},
   "outputs": [
    {
     "name": "stdout",
     "output_type": "stream",
     "text": [
      "File Created\n"
     ]
    }
   ],
   "source": [
    "try:\n",
    "    f = open('filename.txt','w')\n",
    "    f.write('Hello')\n",
    "    f.close()\n",
    "    print('File Created')\n",
    "    \n",
    "except:\n",
    "    traceback.print_exc()\n",
    "    print('Except Block')"
   ]
  },
  {
   "cell_type": "code",
   "execution_count": null,
   "id": "a05410f3",
   "metadata": {},
   "outputs": [],
   "source": [
    "try:\n",
    "    f = open('filename.txt','w')\n",
    "    f.write('Hello')\n",
    "    f.close()\n",
    "    print('File Created')\n",
    "    \n",
    "except:\n",
    "    traceback.print_exc()\n",
    "    print('Except Block')"
   ]
  },
  {
   "cell_type": "code",
   "execution_count": null,
   "id": "33c14c3b",
   "metadata": {},
   "outputs": [],
   "source": [
    "w >> create a file if not exist\n",
    "x >> generates error if file exist"
   ]
  },
  {
   "cell_type": "code",
   "execution_count": 16,
   "id": "5e8c054c",
   "metadata": {},
   "outputs": [
    {
     "name": "stdout",
     "output_type": "stream",
     "text": [
      "Except Block\n"
     ]
    }
   ],
   "source": [
    "try:\n",
    "    f = open('filename.txt','x')\n",
    "    f.write('Hello')\n",
    "    f.close()\n",
    "    print('File Created')\n",
    "    \n",
    "except:\n",
    "    f = open('filename.txt','w')\n",
    "    f.write('Python')\n",
    "    f.close()\n",
    "    print('Except Block')"
   ]
  },
  {
   "cell_type": "code",
   "execution_count": 17,
   "id": "3566e119",
   "metadata": {},
   "outputs": [
    {
     "ename": "FileNotFoundError",
     "evalue": "[Errno 2] No such file or directory: 'filename1.txt'",
     "output_type": "error",
     "traceback": [
      "\u001b[1;31m---------------------------------------------------------------------------\u001b[0m",
      "\u001b[1;31mFileNotFoundError\u001b[0m                         Traceback (most recent call last)",
      "\u001b[1;32m<ipython-input-17-e1a86034d1fb>\u001b[0m in \u001b[0;36m<module>\u001b[1;34m\u001b[0m\n\u001b[1;32m----> 1\u001b[1;33m \u001b[0mf\u001b[0m \u001b[1;33m=\u001b[0m \u001b[0mopen\u001b[0m\u001b[1;33m(\u001b[0m\u001b[1;34m'filename1.txt'\u001b[0m\u001b[1;33m,\u001b[0m\u001b[1;34m'r'\u001b[0m\u001b[1;33m)\u001b[0m\u001b[1;33m\u001b[0m\u001b[1;33m\u001b[0m\u001b[0m\n\u001b[0m\u001b[0;32m      2\u001b[0m \u001b[0mtext\u001b[0m \u001b[1;33m=\u001b[0m \u001b[0mf\u001b[0m\u001b[1;33m.\u001b[0m\u001b[0mread\u001b[0m\u001b[1;33m(\u001b[0m\u001b[1;33m)\u001b[0m\u001b[1;33m\u001b[0m\u001b[1;33m\u001b[0m\u001b[0m\n\u001b[0;32m      3\u001b[0m \u001b[0mprint\u001b[0m\u001b[1;33m(\u001b[0m\u001b[1;33m)\u001b[0m\u001b[1;33m\u001b[0m\u001b[1;33m\u001b[0m\u001b[0m\n\u001b[0;32m      4\u001b[0m \u001b[0mf\u001b[0m\u001b[1;33m.\u001b[0m\u001b[0mclose\u001b[0m\u001b[1;33m(\u001b[0m\u001b[1;33m)\u001b[0m\u001b[1;33m\u001b[0m\u001b[1;33m\u001b[0m\u001b[0m\n",
      "\u001b[1;31mFileNotFoundError\u001b[0m: [Errno 2] No such file or directory: 'filename1.txt'"
     ]
    }
   ],
   "source": [
    "f = open('filename1.txt','r')\n",
    "text = f.read()\n",
    "print()\n",
    "f.close()\n"
   ]
  },
  {
   "cell_type": "code",
   "execution_count": 18,
   "id": "439d98c5",
   "metadata": {},
   "outputs": [
    {
     "name": "stdout",
     "output_type": "stream",
     "text": [
      "[Errno 2] No such file or directory: 'filename1.txt'\n",
      "File not found\n",
      "Except Block\n"
     ]
    }
   ],
   "source": [
    "try:\n",
    "    f = open('filename1.txt','r')\n",
    "    text = f.read()\n",
    "    print(text)\n",
    "    f.close()\n",
    "    \n",
    "except FileNotFoundError as e:\n",
    "    print(e)\n",
    "    print('File not found')\n",
    "    print('Except Block')"
   ]
  },
  {
   "cell_type": "code",
   "execution_count": 19,
   "id": "e75965cd",
   "metadata": {},
   "outputs": [
    {
     "name": "stdout",
     "output_type": "stream",
     "text": [
      "Python\n"
     ]
    }
   ],
   "source": [
    "try:\n",
    "    f = open('filename.txt','r')\n",
    "    text = f.read()\n",
    "    print(text)\n",
    "    f.close()\n",
    "    \n",
    "except FileNotFoundError as e:\n",
    "    print(e)\n",
    "    print('File not found')\n",
    "    print('Except Block')"
   ]
  },
  {
   "cell_type": "code",
   "execution_count": 23,
   "id": "cfd99b23",
   "metadata": {},
   "outputs": [
    {
     "name": "stdout",
     "output_type": "stream",
     "text": [
      "Python\n",
      "None\n",
      "We are in exception\n"
     ]
    },
    {
     "name": "stderr",
     "output_type": "stream",
     "text": [
      "Traceback (most recent call last):\n",
      "  File \"<ipython-input-23-b6d65d65ec3d>\", line 6, in <module>\n",
      "    print(abc)\n",
      "NameError: name 'abc' is not defined\n"
     ]
    }
   ],
   "source": [
    "try:\n",
    "    f = open('filename.txt','r')\n",
    "    text = f.read()\n",
    "    print(text)\n",
    "    f.close()\n",
    "    print(abc)\n",
    "    \n",
    "except FileNotFoundError as e:\n",
    "    print(e)\n",
    "    print('File not found')\n",
    "    print('Except Block')\n",
    "    \n",
    "except FileExistsError as e:\n",
    "    print(e)\n",
    "    \n",
    "except:\n",
    "    print(traceback.print_exc())\n",
    "    print('We are in exception')"
   ]
  },
  {
   "cell_type": "code",
   "execution_count": 20,
   "id": "0403b6fb",
   "metadata": {},
   "outputs": [
    {
     "ename": "NameError",
     "evalue": "name 'abc' is not defined",
     "output_type": "error",
     "traceback": [
      "\u001b[1;31m---------------------------------------------------------------------------\u001b[0m",
      "\u001b[1;31mNameError\u001b[0m                                 Traceback (most recent call last)",
      "\u001b[1;32m<ipython-input-20-03cfd743661f>\u001b[0m in \u001b[0;36m<module>\u001b[1;34m\u001b[0m\n\u001b[1;32m----> 1\u001b[1;33m \u001b[0mabc\u001b[0m\u001b[1;33m\u001b[0m\u001b[1;33m\u001b[0m\u001b[0m\n\u001b[0m",
      "\u001b[1;31mNameError\u001b[0m: name 'abc' is not defined"
     ]
    }
   ],
   "source": [
    "abc"
   ]
  },
  {
   "cell_type": "markdown",
   "id": "a6ba6189",
   "metadata": {},
   "source": [
    "### try except else"
   ]
  },
  {
   "cell_type": "code",
   "execution_count": 24,
   "id": "06416bcd",
   "metadata": {},
   "outputs": [
    {
     "name": "stdout",
     "output_type": "stream",
     "text": [
      "Try Block\n",
      "Else Block\n"
     ]
    }
   ],
   "source": [
    "try:\n",
    "    print('Try Block')\n",
    "    \n",
    "except:\n",
    "    print('Except Block')\n",
    "\n",
    "else:\n",
    "    print('Else Block')"
   ]
  },
  {
   "cell_type": "code",
   "execution_count": 25,
   "id": "5ba46879",
   "metadata": {},
   "outputs": [
    {
     "name": "stdout",
     "output_type": "stream",
     "text": [
      "Try Block\n",
      "Except Block\n"
     ]
    }
   ],
   "source": [
    "try:\n",
    "    print('Try Block')\n",
    "    print(python)\n",
    "    \n",
    "except:\n",
    "    print('Except Block')\n",
    "\n",
    "else:\n",
    "    print('Else Block')"
   ]
  },
  {
   "cell_type": "code",
   "execution_count": 26,
   "id": "3a38d2fb",
   "metadata": {},
   "outputs": [
    {
     "name": "stdout",
     "output_type": "stream",
     "text": [
      "Except Block\n"
     ]
    }
   ],
   "source": [
    "try:\n",
    "    print(python)\n",
    "    print('Try Block')\n",
    "    \n",
    "except:\n",
    "    print('Except Block')\n",
    "\n",
    "else:\n",
    "    print('Else Block')"
   ]
  },
  {
   "cell_type": "markdown",
   "id": "9b7786f8",
   "metadata": {},
   "source": [
    "### try except finally"
   ]
  },
  {
   "cell_type": "code",
   "execution_count": 28,
   "id": "2459b834",
   "metadata": {},
   "outputs": [
    {
     "name": "stdout",
     "output_type": "stream",
     "text": [
      "Try Block\n",
      "Finally Block\n"
     ]
    }
   ],
   "source": [
    "try:\n",
    "    print('Try Block')\n",
    "#     print(python)\n",
    "    \n",
    "except:\n",
    "    print('Except Block')\n",
    "\n",
    "finally:\n",
    "    print('Finally Block')"
   ]
  },
  {
   "cell_type": "code",
   "execution_count": 29,
   "id": "50775b11",
   "metadata": {},
   "outputs": [
    {
     "name": "stdout",
     "output_type": "stream",
     "text": [
      "Try Block\n",
      "Except Block\n",
      "Finally Block\n"
     ]
    }
   ],
   "source": [
    "try:\n",
    "    print('Try Block')\n",
    "    print(python)\n",
    "    \n",
    "except:\n",
    "    print('Except Block')\n",
    "\n",
    "finally:\n",
    "    print('Finally Block')"
   ]
  },
  {
   "cell_type": "code",
   "execution_count": null,
   "id": "0ffa232d",
   "metadata": {},
   "outputs": [],
   "source": [
    "try:\n",
    "    risky code\n",
    "except:\n",
    "    if exception in try block this will execute\n",
    "else:\n",
    "    if there is no exception in try block it will execute\n",
    "finally:\n",
    "    whether u handle error or not, or there is exception or not, it will always print"
   ]
  },
  {
   "cell_type": "markdown",
   "id": "fbaa880c",
   "metadata": {},
   "source": [
    "### raise"
   ]
  },
  {
   "cell_type": "code",
   "execution_count": 30,
   "id": "bf7b4928",
   "metadata": {},
   "outputs": [
    {
     "name": "stdout",
     "output_type": "stream",
     "text": [
      "Addition of 10 and  20 is 30 \n"
     ]
    }
   ],
   "source": [
    "x = 10\n",
    "y = 20\n",
    "\n",
    "if type(x)== int and type(y)== int :\n",
    "    add = x + y\n",
    "    print(f'Addition of {x} and  {y} is {add} ')\n",
    "    "
   ]
  },
  {
   "cell_type": "code",
   "execution_count": 34,
   "id": "f3e5b6a5",
   "metadata": {},
   "outputs": [
    {
     "ename": "TypeError",
     "evalue": "Error raised",
     "output_type": "error",
     "traceback": [
      "\u001b[1;31m---------------------------------------------------------------------------\u001b[0m",
      "\u001b[1;31mTypeError\u001b[0m                                 Traceback (most recent call last)",
      "\u001b[1;32m<ipython-input-34-db43c7e2b53c>\u001b[0m in \u001b[0;36m<module>\u001b[1;34m\u001b[0m\n\u001b[0;32m      7\u001b[0m \u001b[1;33m\u001b[0m\u001b[0m\n\u001b[0;32m      8\u001b[0m \u001b[1;32melse\u001b[0m\u001b[1;33m:\u001b[0m\u001b[1;33m\u001b[0m\u001b[1;33m\u001b[0m\u001b[0m\n\u001b[1;32m----> 9\u001b[1;33m     \u001b[1;32mraise\u001b[0m \u001b[0mTypeError\u001b[0m \u001b[1;33m(\u001b[0m\u001b[1;34m'Error raised'\u001b[0m\u001b[1;33m)\u001b[0m\u001b[1;33m\u001b[0m\u001b[1;33m\u001b[0m\u001b[0m\n\u001b[0m",
      "\u001b[1;31mTypeError\u001b[0m: Error raised"
     ]
    }
   ],
   "source": [
    "x = 10\n",
    "y = '20'\n",
    "\n",
    "if type(x)== int and type(y)== int : # False\n",
    "    add = x + y\n",
    "    print(f'Addition of {x} and  {y} is {add} ')\n",
    "    \n",
    "else:\n",
    "    raise TypeError ('Error raised')"
   ]
  },
  {
   "cell_type": "code",
   "execution_count": 35,
   "id": "ce64d65f",
   "metadata": {},
   "outputs": [
    {
     "ename": "TypeError",
     "evalue": "10 or 20 is not an integer",
     "output_type": "error",
     "traceback": [
      "\u001b[1;31m---------------------------------------------------------------------------\u001b[0m",
      "\u001b[1;31mTypeError\u001b[0m                                 Traceback (most recent call last)",
      "\u001b[1;32m<ipython-input-35-a987eecc4201>\u001b[0m in \u001b[0;36m<module>\u001b[1;34m\u001b[0m\n\u001b[0;32m      7\u001b[0m \u001b[1;33m\u001b[0m\u001b[0m\n\u001b[0;32m      8\u001b[0m \u001b[1;32melse\u001b[0m\u001b[1;33m:\u001b[0m\u001b[1;33m\u001b[0m\u001b[1;33m\u001b[0m\u001b[0m\n\u001b[1;32m----> 9\u001b[1;33m     \u001b[1;32mraise\u001b[0m \u001b[0mTypeError\u001b[0m \u001b[1;33m(\u001b[0m\u001b[1;34mf'{x} or {y} is not an integer'\u001b[0m\u001b[1;33m)\u001b[0m\u001b[1;33m\u001b[0m\u001b[1;33m\u001b[0m\u001b[0m\n\u001b[0m",
      "\u001b[1;31mTypeError\u001b[0m: 10 or 20 is not an integer"
     ]
    }
   ],
   "source": [
    "x = 10\n",
    "y = '20'\n",
    "\n",
    "if type(x)== int and type(y)== int : # False\n",
    "    add = x + y\n",
    "    print(f'Addition of {x} and  {y} is {add} ')\n",
    "    \n",
    "else:\n",
    "    raise TypeError (f'{x} or {y} is not an integer')"
   ]
  },
  {
   "cell_type": "code",
   "execution_count": 36,
   "id": "7fd6624d",
   "metadata": {},
   "outputs": [],
   "source": [
    "model = []\n",
    "if model:\n",
    "    print('hello')"
   ]
  },
  {
   "cell_type": "code",
   "execution_count": 38,
   "id": "649bc839",
   "metadata": {},
   "outputs": [
    {
     "ename": "FileNotFoundError",
     "evalue": "RandomForest model not found",
     "output_type": "error",
     "traceback": [
      "\u001b[1;31m---------------------------------------------------------------------------\u001b[0m",
      "\u001b[1;31mFileNotFoundError\u001b[0m                         Traceback (most recent call last)",
      "\u001b[1;32m<ipython-input-38-bc19fc6fac59>\u001b[0m in \u001b[0;36m<module>\u001b[1;34m\u001b[0m\n\u001b[0;32m      1\u001b[0m \u001b[0mmodel\u001b[0m \u001b[1;33m=\u001b[0m \u001b[1;33m[\u001b[0m\u001b[1;33m]\u001b[0m\u001b[1;33m\u001b[0m\u001b[1;33m\u001b[0m\u001b[0m\n\u001b[0;32m      2\u001b[0m \u001b[1;32mif\u001b[0m \u001b[1;32mnot\u001b[0m \u001b[0mmodel\u001b[0m\u001b[1;33m:\u001b[0m\u001b[1;33m\u001b[0m\u001b[1;33m\u001b[0m\u001b[0m\n\u001b[1;32m----> 3\u001b[1;33m     \u001b[1;32mraise\u001b[0m \u001b[0mFileNotFoundError\u001b[0m \u001b[1;33m(\u001b[0m\u001b[1;34m'RandomForest model not found'\u001b[0m\u001b[1;33m)\u001b[0m\u001b[1;33m\u001b[0m\u001b[1;33m\u001b[0m\u001b[0m\n\u001b[0m",
      "\u001b[1;31mFileNotFoundError\u001b[0m: RandomForest model not found"
     ]
    }
   ],
   "source": [
    "model = []\n",
    "if not model:\n",
    "    raise FileNotFoundError ('RandomForest model not found')"
   ]
  },
  {
   "cell_type": "code",
   "execution_count": 39,
   "id": "224e48f5",
   "metadata": {},
   "outputs": [
    {
     "ename": "TypeError",
     "evalue": "RandomForest model not found",
     "output_type": "error",
     "traceback": [
      "\u001b[1;31m---------------------------------------------------------------------------\u001b[0m",
      "\u001b[1;31mTypeError\u001b[0m                                 Traceback (most recent call last)",
      "\u001b[1;32m<ipython-input-39-532f4bae8cb1>\u001b[0m in \u001b[0;36m<module>\u001b[1;34m\u001b[0m\n\u001b[0;32m      1\u001b[0m \u001b[0mmodel\u001b[0m \u001b[1;33m=\u001b[0m \u001b[1;33m[\u001b[0m\u001b[1;33m]\u001b[0m\u001b[1;33m\u001b[0m\u001b[1;33m\u001b[0m\u001b[0m\n\u001b[0;32m      2\u001b[0m \u001b[1;32mif\u001b[0m \u001b[1;32mnot\u001b[0m \u001b[0mmodel\u001b[0m\u001b[1;33m:\u001b[0m\u001b[1;33m\u001b[0m\u001b[1;33m\u001b[0m\u001b[0m\n\u001b[1;32m----> 3\u001b[1;33m     \u001b[1;32mraise\u001b[0m \u001b[0mTypeError\u001b[0m \u001b[1;33m(\u001b[0m\u001b[1;34m'RandomForest model not found'\u001b[0m\u001b[1;33m)\u001b[0m\u001b[1;33m\u001b[0m\u001b[1;33m\u001b[0m\u001b[0m\n\u001b[0m",
      "\u001b[1;31mTypeError\u001b[0m: RandomForest model not found"
     ]
    }
   ],
   "source": [
    "model = []\n",
    "if not model:\n",
    "    raise TypeError ('RandomForest model not found')"
   ]
  },
  {
   "cell_type": "code",
   "execution_count": null,
   "id": "1f27b5bc",
   "metadata": {},
   "outputs": [],
   "source": []
  },
  {
   "cell_type": "code",
   "execution_count": null,
   "id": "0584f54e",
   "metadata": {},
   "outputs": [],
   "source": []
  },
  {
   "cell_type": "code",
   "execution_count": null,
   "id": "69475015",
   "metadata": {},
   "outputs": [],
   "source": []
  },
  {
   "cell_type": "code",
   "execution_count": null,
   "id": "9f606ec2",
   "metadata": {},
   "outputs": [],
   "source": []
  },
  {
   "cell_type": "code",
   "execution_count": null,
   "id": "4bfb7ef2",
   "metadata": {},
   "outputs": [],
   "source": []
  },
  {
   "cell_type": "code",
   "execution_count": null,
   "id": "3febc9ab",
   "metadata": {},
   "outputs": [],
   "source": []
  },
  {
   "cell_type": "code",
   "execution_count": null,
   "id": "8841b119",
   "metadata": {},
   "outputs": [],
   "source": []
  },
  {
   "cell_type": "code",
   "execution_count": null,
   "id": "e70a1e57",
   "metadata": {},
   "outputs": [],
   "source": []
  }
 ],
 "metadata": {
  "kernelspec": {
   "display_name": "Python 3 (ipykernel)",
   "language": "python",
   "name": "python3"
  },
  "language_info": {
   "codemirror_mode": {
    "name": "ipython",
    "version": 3
   },
   "file_extension": ".py",
   "mimetype": "text/x-python",
   "name": "python",
   "nbconvert_exporter": "python",
   "pygments_lexer": "ipython3",
   "version": "3.9.7"
  }
 },
 "nbformat": 4,
 "nbformat_minor": 5
}
