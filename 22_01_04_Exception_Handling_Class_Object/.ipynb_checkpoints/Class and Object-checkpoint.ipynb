{
 "cells": [
  {
   "cell_type": "code",
   "execution_count": null,
   "id": "ba113a02",
   "metadata": {},
   "outputs": [],
   "source": [
    "Python support Object Oriented Programming Language (OOPs)"
   ]
  },
  {
   "cell_type": "code",
   "execution_count": null,
   "id": "8bc20d3c",
   "metadata": {},
   "outputs": [],
   "source": [
    "Object >> Real world Entities >> Laptop, mobile, mouse, notebook\n",
    "Evrything in python is  an object\n",
    "str, list, tuple, \n",
    "'hello', [12,3],(2,34)\n",
    "\n",
    "Class >> Blueprint of an object that defines variables and methods(function)\n",
    "Class is collection of an Objects\n",
    "\n",
    "Object >> Instance of a class / Variable of a class"
   ]
  },
  {
   "cell_type": "code",
   "execution_count": null,
   "id": "eae58128",
   "metadata": {},
   "outputs": [],
   "source": [
    "class my_fun"
   ]
  },
  {
   "cell_type": "code",
   "execution_count": null,
   "id": "0a0e39f0",
   "metadata": {},
   "outputs": [],
   "source": [
    "class >> house ()\n",
    "variables and methods >> Mobile, dining table, Sofa, (objects)"
   ]
  },
  {
   "cell_type": "code",
   "execution_count": null,
   "id": "22dae276",
   "metadata": {},
   "outputs": [],
   "source": [
    "Mobile >>\n",
    "color\n",
    "apps\n",
    "RAM\n",
    "Memory\n",
    "Brand\n",
    "\n",
    "iphone >> object\n",
    "oneplus >> object"
   ]
  },
  {
   "cell_type": "code",
   "execution_count": 1,
   "id": "a76d1979",
   "metadata": {},
   "outputs": [
    {
     "name": "stdout",
     "output_type": "stream",
     "text": [
      "Hello we are testing Class\n"
     ]
    }
   ],
   "source": [
    "class Classname():\n",
    "    print('Hello we are testing Class')"
   ]
  },
  {
   "cell_type": "code",
   "execution_count": 4,
   "id": "c6b79551",
   "metadata": {},
   "outputs": [
    {
     "name": "stdout",
     "output_type": "stream",
     "text": [
      "Hello we are testing Class\n"
     ]
    }
   ],
   "source": [
    "def class_name():\n",
    "    print('Hello we are testing Class')\n",
    "    \n",
    "class_name()"
   ]
  },
  {
   "cell_type": "code",
   "execution_count": 6,
   "id": "833bdca7",
   "metadata": {},
   "outputs": [
    {
     "name": "stdout",
     "output_type": "stream",
     "text": [
      "100\n",
      "Value of x is  100\n"
     ]
    }
   ],
   "source": [
    "x = 100 # global variable\n",
    "print(x)\n",
    "\n",
    "def my_fun():\n",
    "    print('Value of x is ',x)\n",
    "    \n",
    "my_fun()"
   ]
  },
  {
   "cell_type": "code",
   "execution_count": 7,
   "id": "ba6b1a75",
   "metadata": {},
   "outputs": [
    {
     "name": "stdout",
     "output_type": "stream",
     "text": [
      "100\n",
      "Value of x is  100\n",
      "Value of y is  200\n"
     ]
    }
   ],
   "source": [
    "x = 100 # global variable\n",
    "print(x)\n",
    "\n",
    "def my_fun():\n",
    "    y = 200 # local variable\n",
    "    print('Value of x is ',x)\n",
    "    \n",
    "    print('Value of y is ',y)\n",
    "    \n",
    "my_fun()"
   ]
  },
  {
   "cell_type": "code",
   "execution_count": 8,
   "id": "ad9e59dd",
   "metadata": {},
   "outputs": [
    {
     "name": "stdout",
     "output_type": "stream",
     "text": [
      "Hello we are testing Class\n"
     ]
    }
   ],
   "source": [
    "x = 100 # global variable\n",
    "\n",
    "class ClassName():\n",
    "    a = 200 # Class Variable\n",
    "    print('Hello we are testing Class')\n",
    "    \n",
    "    "
   ]
  },
  {
   "cell_type": "code",
   "execution_count": 14,
   "id": "83b471a0",
   "metadata": {},
   "outputs": [
    {
     "name": "stdout",
     "output_type": "stream",
     "text": [
      "Price of Mobile is :  30000\n",
      "Color Function\n"
     ]
    }
   ],
   "source": [
    "class Mobile ():  # Class Name\n",
    "    x = 'Python'  # Class variable\n",
    "    \n",
    "    def price(self): # methods / functions\n",
    "        p = 30000\n",
    "        print('Price of Mobile is : ',p)\n",
    "    \n",
    "    def color(self): # method\n",
    "        print('Color Function')\n",
    "        \n",
    "# Creating object of a class\n",
    "ObjectName = Mobile()\n",
    "ObjectName.price()\n",
    "\n",
    "ObjectName.color()"
   ]
  },
  {
   "cell_type": "code",
   "execution_count": 16,
   "id": "a5c3e54c",
   "metadata": {},
   "outputs": [],
   "source": [
    "Project:\n",
    "  \n",
    "class PreprocessingData():\n",
    "    def __init__(self, name, mobile): # constructor\n",
    "        self.name = name # instance variable\n",
    "        self.mobile = mobile\n",
    "    \n",
    "    def scaling():\n",
    "        print(self.name)\n",
    "        \n",
    "    def remove_outliers():\n",
    "        print(self.mobile)\n",
    "        pass\n",
    "    \n",
    "class ModelBulding():\n",
    "    def logistic_regression():\n",
    "        pass\n",
    "    \n",
    "    def KNN():\n",
    "        pass\n",
    "    \n",
    "    def random_forest():\n",
    "        pass\n",
    "    \n",
    "class ModelEvaluation():\n",
    "    def Classification_report():\n",
    "        pass\n",
    "    \n",
    "    def Confusion_matrix():\n",
    "        pass\n",
    "    \n",
    "    def accuracy_score():\n",
    "        pass"
   ]
  },
  {
   "cell_type": "code",
   "execution_count": null,
   "id": "ff31a564",
   "metadata": {},
   "outputs": [],
   "source": [
    "Four Fundamental concepts in OOPs:\n",
    "    1. Inheritance\n",
    "    2. Encapsulation\n",
    "    3. Polymorphism\n",
    "    4. Abstraction"
   ]
  },
  {
   "cell_type": "code",
   "execution_count": 25,
   "id": "2e1d16a5",
   "metadata": {},
   "outputs": [
    {
     "name": "stdout",
     "output_type": "stream",
     "text": [
      "We are in INIT Function\n",
      "10 DATA\n",
      "We are in method1\n"
     ]
    }
   ],
   "source": [
    "global_var = 'Python'\n",
    "\n",
    "class ClassName():  # class name\n",
    "    \n",
    "    class_variable1 = 100 # class variable\n",
    "    class_variable2 = 200 # class variable\n",
    "    \n",
    "    def __init__(self,arg1,arg2): # It execute automatially when we create an object\n",
    "        # Constructor\n",
    "        print('We are in INIT Function')\n",
    "        print(arg1,arg2)\n",
    "        self.argument = arg1 # Instance variable\n",
    "        self.arg2 = arg2\n",
    "        \n",
    "        self.instance_variable1 = 'This is instance var1'\n",
    "        self.instance_variable2 = 'This is instance var2'\n",
    "    \n",
    "    def my_method1(self,value):\n",
    "        print('We are in method1')\n",
    "#         print('Value is:',value)\n",
    "#         self.instance_variable3 = '300'\n",
    "#         print('argument1 ',self.argument)\n",
    "#         print('instance_variable1',self.instance_variable1)\n",
    "        \n",
    "obj = ClassName(10, 'DATA')\n",
    "obj.my_method1(500)"
   ]
  },
  {
   "cell_type": "code",
   "execution_count": null,
   "id": "8e6c4a07",
   "metadata": {},
   "outputs": [],
   "source": []
  },
  {
   "cell_type": "code",
   "execution_count": null,
   "id": "8447419f",
   "metadata": {},
   "outputs": [],
   "source": [
    "800"
   ]
  },
  {
   "cell_type": "code",
   "execution_count": null,
   "id": "8ec006ca",
   "metadata": {},
   "outputs": [],
   "source": []
  },
  {
   "cell_type": "code",
   "execution_count": null,
   "id": "f0301780",
   "metadata": {},
   "outputs": [],
   "source": []
  },
  {
   "cell_type": "code",
   "execution_count": null,
   "id": "c7c0a928",
   "metadata": {},
   "outputs": [],
   "source": []
  },
  {
   "cell_type": "code",
   "execution_count": null,
   "id": "03197538",
   "metadata": {},
   "outputs": [],
   "source": []
  },
  {
   "cell_type": "code",
   "execution_count": null,
   "id": "0329fd7d",
   "metadata": {},
   "outputs": [],
   "source": []
  },
  {
   "cell_type": "code",
   "execution_count": null,
   "id": "89bb4d60",
   "metadata": {},
   "outputs": [],
   "source": []
  },
  {
   "cell_type": "code",
   "execution_count": null,
   "id": "abdcd696",
   "metadata": {},
   "outputs": [],
   "source": []
  }
 ],
 "metadata": {
  "kernelspec": {
   "display_name": "Python 3",
   "language": "python",
   "name": "python3"
  },
  "language_info": {
   "codemirror_mode": {
    "name": "ipython",
    "version": 3
   },
   "file_extension": ".py",
   "mimetype": "text/x-python",
   "name": "python",
   "nbconvert_exporter": "python",
   "pygments_lexer": "ipython3",
   "version": "3.8.8"
  }
 },
 "nbformat": 4,
 "nbformat_minor": 5
}
