{
 "cells": [
  {
   "cell_type": "markdown",
   "id": "2b2fd287",
   "metadata": {},
   "source": [
    "## OS Module"
   ]
  },
  {
   "cell_type": "code",
   "execution_count": null,
   "id": "97cfdf9f",
   "metadata": {},
   "outputs": [],
   "source": [
    "1. os.rename() # To rename folder/file\n",
    "2. os.remove() # To remove folder/file\n",
    "3. os.rmdir()  # TO remove folder\n",
    "4. os.mkdir()  # To create folder\n",
    "   os.makedirs() # To create folder\n",
    "5. os.getcwd() # CWD\n",
    "6. os.path.exists # To check folder/file exists or not\n",
    "7. os.listdir() # List of all files in folder\n",
    "8. glob.glob() # extract files with extension\n",
    "9. shutil.copy() # COpy files from 1 destn to another\n",
    "10.shutil.move() # Move files from 1 destn to another"
   ]
  },
  {
   "cell_type": "code",
   "execution_count": 1,
   "id": "3a1042a2",
   "metadata": {},
   "outputs": [],
   "source": [
    "# Operating System\n",
    "import os"
   ]
  },
  {
   "cell_type": "code",
   "execution_count": 3,
   "id": "1d930dfe",
   "metadata": {},
   "outputs": [
    {
     "data": {
      "text/plain": [
       "153"
      ]
     },
     "execution_count": 3,
     "metadata": {},
     "output_type": "execute_result"
    }
   ],
   "source": [
    "len(dir(os))"
   ]
  },
  {
   "cell_type": "code",
   "execution_count": null,
   "id": "091aefef",
   "metadata": {},
   "outputs": [],
   "source": [
    "1. Create folder /File\n",
    "2. Delete Folder /File\n",
    "3. Rename\n",
    "4. Copy/ Move\n",
    "5. Current Directory"
   ]
  },
  {
   "cell_type": "code",
   "execution_count": 4,
   "id": "004daa74",
   "metadata": {},
   "outputs": [
    {
     "data": {
      "text/plain": [
       "'G:\\\\Velocity 20 NOV\\\\12_30_OS_Module'"
      ]
     },
     "execution_count": 4,
     "metadata": {},
     "output_type": "execute_result"
    }
   ],
   "source": [
    "os.getcwd()"
   ]
  },
  {
   "cell_type": "code",
   "execution_count": 5,
   "id": "c5b3ca68",
   "metadata": {},
   "outputs": [],
   "source": [
    "f = open('sample_text.txt','w')\n",
    "f.write('Testing')\n",
    "f.close()"
   ]
  },
  {
   "cell_type": "markdown",
   "id": "4dd0e54e",
   "metadata": {},
   "source": [
    "### 1. rename()"
   ]
  },
  {
   "cell_type": "markdown",
   "id": "779bc2a4",
   "metadata": {},
   "source": [
    "os.rename('old_file_name','new_file_name')"
   ]
  },
  {
   "cell_type": "code",
   "execution_count": 6,
   "id": "390f6386",
   "metadata": {},
   "outputs": [],
   "source": [
    "os.rename('sample_text.txt','new_sample.txt')"
   ]
  },
  {
   "cell_type": "markdown",
   "id": "0ea68916",
   "metadata": {},
   "source": [
    "### 2. remove()"
   ]
  },
  {
   "cell_type": "code",
   "execution_count": null,
   "id": "1a93fab8",
   "metadata": {},
   "outputs": [],
   "source": [
    "os.remove('file_name')"
   ]
  },
  {
   "cell_type": "code",
   "execution_count": 7,
   "id": "5a47424d",
   "metadata": {},
   "outputs": [],
   "source": [
    "os.remove(r'G:\\Velocity 20 NOV\\12_30_OS_Module\\new_sample.txt')"
   ]
  },
  {
   "cell_type": "code",
   "execution_count": 8,
   "id": "2271bf86",
   "metadata": {},
   "outputs": [
    {
     "ename": "FileNotFoundError",
     "evalue": "[WinError 2] The system cannot find the file specified: 'G:\\\\Velocity 20 NOV\\\\12_30_OS_Module\\\\new_sample.txt'",
     "output_type": "error",
     "traceback": [
      "\u001b[1;31m---------------------------------------------------------------------------\u001b[0m",
      "\u001b[1;31mFileNotFoundError\u001b[0m                         Traceback (most recent call last)",
      "\u001b[1;32m<ipython-input-8-a39d9be608d8>\u001b[0m in \u001b[0;36m<module>\u001b[1;34m\u001b[0m\n\u001b[1;32m----> 1\u001b[1;33m \u001b[0mos\u001b[0m\u001b[1;33m.\u001b[0m\u001b[0mremove\u001b[0m\u001b[1;33m(\u001b[0m\u001b[1;34mr'G:\\Velocity 20 NOV\\12_30_OS_Module\\new_sample.txt'\u001b[0m\u001b[1;33m)\u001b[0m\u001b[1;33m\u001b[0m\u001b[1;33m\u001b[0m\u001b[0m\n\u001b[0m",
      "\u001b[1;31mFileNotFoundError\u001b[0m: [WinError 2] The system cannot find the file specified: 'G:\\\\Velocity 20 NOV\\\\12_30_OS_Module\\\\new_sample.txt'"
     ]
    }
   ],
   "source": [
    "os.remove(r'G:\\Velocity 20 NOV\\12_30_OS_Module\\new_sample.txt')"
   ]
  },
  {
   "cell_type": "markdown",
   "id": "7378e542",
   "metadata": {},
   "source": [
    "### 3. check file exist or not"
   ]
  },
  {
   "cell_type": "code",
   "execution_count": 9,
   "id": "3e38cfa1",
   "metadata": {},
   "outputs": [
    {
     "name": "stdout",
     "output_type": "stream",
     "text": [
      "File not Exists\n"
     ]
    }
   ],
   "source": [
    "if os.path.exists(r'G:\\Velocity 20 NOV\\12_30_OS_Module\\new_sample.txt'):\n",
    "    print('File Exists')\n",
    "else:\n",
    "    print('File not Exists')"
   ]
  },
  {
   "cell_type": "code",
   "execution_count": 11,
   "id": "09b5210f",
   "metadata": {},
   "outputs": [
    {
     "name": "stdout",
     "output_type": "stream",
     "text": [
      "File Exists\n"
     ]
    }
   ],
   "source": [
    "if os.path.exists(r'G:\\Velocity 20 NOV\\12_30_OS_Module'):\n",
    "    print('File Exists')\n",
    "else:\n",
    "    print('File not Exists')"
   ]
  },
  {
   "cell_type": "code",
   "execution_count": 12,
   "id": "34997765",
   "metadata": {},
   "outputs": [
    {
     "name": "stdout",
     "output_type": "stream",
     "text": [
      "File Exists\n"
     ]
    }
   ],
   "source": [
    "if os.path.exists(r'G:\\Velocity 20 NOV\\12_30_OS_Module\\txt\\bank_data.txt'):\n",
    "    print('File Exists')\n",
    "else:\n",
    "    print('File not Exists')"
   ]
  },
  {
   "cell_type": "code",
   "execution_count": 13,
   "id": "d4cf0c8c",
   "metadata": {},
   "outputs": [
    {
     "name": "stdout",
     "output_type": "stream",
     "text": [
      "File Exists\n"
     ]
    }
   ],
   "source": [
    "file_name = r'G:\\Velocity 20 NOV\\12_30_OS_Module\\txt\\ml.txt'\n",
    "if os.path.exists(file_name):\n",
    "    print('File Exists')\n",
    "else:\n",
    "    print('File not Exists')"
   ]
  },
  {
   "cell_type": "code",
   "execution_count": 14,
   "id": "950ca363",
   "metadata": {},
   "outputs": [
    {
     "name": "stdout",
     "output_type": "stream",
     "text": [
      "File Exists\n"
     ]
    }
   ],
   "source": [
    "file_name = r'G:\\Velocity 20 NOV\\12_30_OS_Module\\txt\\ml.txt'\n",
    "if not os.path.exists(file_name):\n",
    "    print('File not Exists')\n",
    "else:\n",
    "    print('File Exists')"
   ]
  },
  {
   "cell_type": "markdown",
   "id": "898efd22",
   "metadata": {},
   "source": [
    "### Create Directory"
   ]
  },
  {
   "cell_type": "code",
   "execution_count": null,
   "id": "51e29447",
   "metadata": {},
   "outputs": [],
   "source": [
    "os.mkdir(folder_path) # make directory"
   ]
  },
  {
   "cell_type": "code",
   "execution_count": 15,
   "id": "37c5ae2e",
   "metadata": {},
   "outputs": [],
   "source": [
    "folder_name = 'Data Science'\n",
    "os.mkdir(folder_name)"
   ]
  },
  {
   "cell_type": "code",
   "execution_count": 16,
   "id": "c5bdf80f",
   "metadata": {},
   "outputs": [
    {
     "name": "stdout",
     "output_type": "stream",
     "text": [
      "Folder Exists\n"
     ]
    }
   ],
   "source": [
    "file_name = r'G:\\Velocity 20 NOV\\12_30_OS_Module\\Data Science'\n",
    "if os.path.exists(file_name):\n",
    "    print('Folder Exists')\n",
    "else:\n",
    "    print('Folder not Exists')"
   ]
  },
  {
   "cell_type": "code",
   "execution_count": 17,
   "id": "62a6d61f",
   "metadata": {},
   "outputs": [
    {
     "ename": "FileExistsError",
     "evalue": "[WinError 183] Cannot create a file when that file already exists: 'PYTHON'",
     "output_type": "error",
     "traceback": [
      "\u001b[1;31m---------------------------------------------------------------------------\u001b[0m",
      "\u001b[1;31mFileExistsError\u001b[0m                           Traceback (most recent call last)",
      "\u001b[1;32m<ipython-input-17-dd0757105578>\u001b[0m in \u001b[0;36m<module>\u001b[1;34m\u001b[0m\n\u001b[0;32m      1\u001b[0m \u001b[0mfolder_name\u001b[0m \u001b[1;33m=\u001b[0m \u001b[1;34m'PYTHON'\u001b[0m\u001b[1;33m\u001b[0m\u001b[1;33m\u001b[0m\u001b[0m\n\u001b[1;32m----> 2\u001b[1;33m \u001b[0mos\u001b[0m\u001b[1;33m.\u001b[0m\u001b[0mmkdir\u001b[0m\u001b[1;33m(\u001b[0m\u001b[0mfolder_name\u001b[0m\u001b[1;33m)\u001b[0m\u001b[1;33m\u001b[0m\u001b[1;33m\u001b[0m\u001b[0m\n\u001b[0m",
      "\u001b[1;31mFileExistsError\u001b[0m: [WinError 183] Cannot create a file when that file already exists: 'PYTHON'"
     ]
    }
   ],
   "source": [
    "folder_name = 'PYTHON'\n",
    "os.mkdir(folder_name)"
   ]
  },
  {
   "cell_type": "code",
   "execution_count": 18,
   "id": "6d6bb49b",
   "metadata": {},
   "outputs": [],
   "source": [
    "folder_name = 'PYTHON1'\n",
    "os.mkdir(folder_name)"
   ]
  },
  {
   "cell_type": "code",
   "execution_count": 19,
   "id": "81051e44",
   "metadata": {},
   "outputs": [
    {
     "name": "stdout",
     "output_type": "stream",
     "text": [
      "Folder not Exists\n",
      "Folder Created\n"
     ]
    }
   ],
   "source": [
    "folder_path = 'DATA1'\n",
    "if os.path.exists(folder_path):\n",
    "    print('Folder already exists')\n",
    "else:\n",
    "    print('Folder not Exists')\n",
    "    os.mkdir(folder_path)\n",
    "    print('Folder Created')"
   ]
  },
  {
   "cell_type": "code",
   "execution_count": 20,
   "id": "54fdfe34",
   "metadata": {},
   "outputs": [
    {
     "name": "stdout",
     "output_type": "stream",
     "text": [
      "Folder already exists\n"
     ]
    }
   ],
   "source": [
    "folder_path = 'DATA1'\n",
    "if not os.path.exists(folder_path):\n",
    "    print('Folder not Exists')\n",
    "    os.mkdir(folder_path)\n",
    "    print('Folder Created')\n",
    "    \n",
    "else:\n",
    "    print('Folder already exists')"
   ]
  },
  {
   "cell_type": "code",
   "execution_count": 21,
   "id": "1797e27a",
   "metadata": {},
   "outputs": [
    {
     "name": "stdout",
     "output_type": "stream",
     "text": [
      "Folder not Exists\n",
      "Folder Created\n"
     ]
    }
   ],
   "source": [
    "folder_path = 'DATA2'\n",
    "if not os.path.exists(folder_path):\n",
    "    print('Folder not Exists')\n",
    "    os.mkdir(folder_path)\n",
    "    print('Folder Created')\n",
    "    \n",
    "else:\n",
    "    print('Folder already exists')"
   ]
  },
  {
   "cell_type": "markdown",
   "id": "a0b7ab14",
   "metadata": {},
   "source": [
    "### Remove Directory"
   ]
  },
  {
   "cell_type": "code",
   "execution_count": 22,
   "id": "20f54efb",
   "metadata": {},
   "outputs": [],
   "source": [
    "folder_path = 'DATA1' \n",
    "os.rmdir(folder_path)     # remove directory"
   ]
  },
  {
   "cell_type": "code",
   "execution_count": 23,
   "id": "8c556989",
   "metadata": {},
   "outputs": [
    {
     "name": "stdout",
     "output_type": "stream",
     "text": [
      "Folder Exists\n",
      "Folder Deleted\n"
     ]
    }
   ],
   "source": [
    "folder_path = 'DATA2'\n",
    "\n",
    "if os.path.exists(folder_path): # True\n",
    "    print('Folder Exists')\n",
    "    os.rmdir(folder_path)\n",
    "    print('Folder Deleted')\n",
    "    \n",
    "else: \n",
    "    print('Folder Not Exist')\n",
    "    "
   ]
  },
  {
   "cell_type": "code",
   "execution_count": 24,
   "id": "b7168975",
   "metadata": {},
   "outputs": [
    {
     "name": "stdout",
     "output_type": "stream",
     "text": [
      "Folder Not Exist\n"
     ]
    }
   ],
   "source": [
    "folder_path = 'DATA2'\n",
    "\n",
    "if os.path.exists(folder_path): # False\n",
    "    print('Folder Exists')\n",
    "    os.rmdir(folder_path)\n",
    "    print('Folder Deleted')\n",
    "    \n",
    "else: \n",
    "    print('Folder Not Exist')\n",
    "    "
   ]
  },
  {
   "cell_type": "markdown",
   "id": "7437bff6",
   "metadata": {},
   "source": [
    "### Current Working Directory"
   ]
  },
  {
   "cell_type": "code",
   "execution_count": 25,
   "id": "bbc5dc58",
   "metadata": {},
   "outputs": [
    {
     "data": {
      "text/plain": [
       "'G:\\\\Velocity 20 NOV\\\\12_30_OS_Module'"
      ]
     },
     "execution_count": 25,
     "metadata": {},
     "output_type": "execute_result"
    }
   ],
   "source": [
    "os.getcwd()"
   ]
  },
  {
   "cell_type": "code",
   "execution_count": 26,
   "id": "26e33e7b",
   "metadata": {},
   "outputs": [],
   "source": [
    "os.makedirs('G:\\\\Velocity 20 NOV\\\\12_30_OS_Module\\\\Data1')"
   ]
  },
  {
   "cell_type": "code",
   "execution_count": null,
   "id": "e346b167",
   "metadata": {},
   "outputs": [],
   "source": []
  },
  {
   "cell_type": "markdown",
   "id": "e907a280",
   "metadata": {},
   "source": [
    "### Extract Text file from Directory"
   ]
  },
  {
   "cell_type": "code",
   "execution_count": null,
   "id": "3da97d35",
   "metadata": {},
   "outputs": [],
   "source": [
    "text files\n",
    "png files \n",
    "JSON files\n",
    "Pdf"
   ]
  },
  {
   "cell_type": "code",
   "execution_count": 35,
   "id": "fc8dc05a",
   "metadata": {},
   "outputs": [
    {
     "name": "stdout",
     "output_type": "stream",
     "text": [
      "['.ipynb_checkpoints', 'autos_dataset.csv', 'best fit line.gif', 'certificate.jpg', 'Customers.csv', 'cv006_15448.txt', 'cv007_4968.txt', 'cv008_29435.txt', 'cv009_29592.txt', 'cv010_29198.txt', 'cv011_12166.txt', 'cv012_29576.txt', 'cv013_10159.txt', 'Gradient Descent.png', 'OS Module.ipynb', 'person_details.json', 'risks-09-00042-v2.pdf']\n"
     ]
    }
   ],
   "source": [
    "path=r'G:\\Velocity 20 NOV\\12_30_OS_Module\\Data'\n",
    "file_list = os.listdir(path) # list of all files\n",
    "print(file_list)"
   ]
  },
  {
   "cell_type": "code",
   "execution_count": 36,
   "id": "fd4187ef",
   "metadata": {},
   "outputs": [
    {
     "name": "stdout",
     "output_type": "stream",
     "text": [
      ":::::::::::::::::::::::::::: risks-09-00042-v2.pdf\n",
      "\n",
      "PDF files are : \n",
      " ['risks-09-00042-v2.pdf']\n",
      "\n",
      "CSV files are : \n",
      " ['autos_dataset.csv', 'Customers.csv']\n",
      "\n",
      "image files are : \n",
      " ['best fit line.gif', 'certificate.jpg', 'Gradient Descent.png']\n",
      "\n",
      "text files are : \n",
      " ['cv006_15448.txt', 'cv007_4968.txt', 'cv008_29435.txt', 'cv009_29592.txt', 'cv010_29198.txt', 'cv011_12166.txt', 'cv012_29576.txt', 'cv013_10159.txt']\n",
      "\n",
      "other files are : \n",
      " ['.ipynb_checkpoints', 'OS Module.ipynb', 'person_details.json']\n"
     ]
    }
   ],
   "source": [
    "text_files =[]\n",
    "pdf_files = []\n",
    "image_files = []\n",
    "csv_files = []\n",
    "other_files = []\n",
    "\n",
    "for file in file_list:\n",
    "    \n",
    "    if file.endswith('.txt'):\n",
    "        text_files.append(file)\n",
    "        \n",
    "    elif file.endswith('.pdf'):\n",
    "        print('::::::::::::::::::::::::::::',file)\n",
    "        pdf_files.append(file)\n",
    "        \n",
    "    elif file.endswith('.png') or file.endswith('.jpg') or file.endswith('.gif'):\n",
    "        image_files.append(file)\n",
    "        \n",
    "    elif file.endswith('.csv'):\n",
    "        csv_files.append(file)\n",
    "    \n",
    "    else:\n",
    "        other_files.append(file)\n",
    "        \n",
    "print('\\nPDF files are : \\n', pdf_files)\n",
    "print('\\nCSV files are : \\n', csv_files)\n",
    "print('\\nimage files are : \\n', image_files)\n",
    "print('\\ntext files are : \\n', text_files)\n",
    "print('\\nother files are : \\n', other_files)\n"
   ]
  },
  {
   "cell_type": "code",
   "execution_count": 47,
   "id": "04cabdb0",
   "metadata": {},
   "outputs": [
    {
     "name": "stdout",
     "output_type": "stream",
     "text": [
      "Data\\cv006_15448.txt\n",
      "Data\\cv007_4968.txt\n",
      "Data\\cv008_29435.txt\n",
      "Data\\cv009_29592.txt\n",
      "Data\\cv010_29198.txt\n",
      "Data\\cv011_12166.txt\n",
      "Data\\cv012_29576.txt\n",
      "Data\\cv013_10159.txt\n",
      ":::::::::::::::::::::::::::: risks-09-00042-v2.pdf\n",
      "\n",
      "PDF files are : \n",
      " ['risks-09-00042-v2.pdf']\n",
      "\n",
      "CSV files are : \n",
      " ['autos_dataset.csv', 'Customers.csv']\n",
      "\n",
      "image files are : \n",
      " ['best fit line.gif', 'certificate.jpg', 'Gradient Descent.png']\n",
      "\n",
      "text files are : \n",
      " ['Data\\\\cv006_15448.txt', 'Data\\\\cv007_4968.txt', 'Data\\\\cv008_29435.txt', 'Data\\\\cv009_29592.txt', 'Data\\\\cv010_29198.txt', 'Data\\\\cv011_12166.txt', 'Data\\\\cv012_29576.txt', 'Data\\\\cv013_10159.txt']\n",
      "\n",
      "other files are : \n",
      " ['.ipynb_checkpoints', 'OS Module.ipynb', 'person_details.json']\n"
     ]
    }
   ],
   "source": [
    "text_files =[]\n",
    "pdf_files = []\n",
    "image_files = []\n",
    "csv_files = []\n",
    "other_files = []\n",
    "\n",
    "for file in file_list:\n",
    "    \n",
    "    if file.endswith('.txt'):\n",
    "#         print(file)\n",
    "        file = 'Data\\\\' + file # G:\\\\Velocity 20 NOV\\\\12_30_OS_Module\\\\Data\\\\cv006_15448.txt\n",
    "#         print(file)\n",
    "        \n",
    "        text_files.append(file)\n",
    "       \n",
    "        \n",
    "    elif file.endswith('.pdf'):\n",
    "        print('::::::::::::::::::::::::::::',file)\n",
    "        pdf_files.append(file)\n",
    "        \n",
    "    elif file.endswith('.png') or file.endswith('.jpg') or file.endswith('.gif'):\n",
    "        image_files.append(file)\n",
    "        \n",
    "    elif file.endswith('.csv'):\n",
    "        csv_files.append(file)\n",
    "    \n",
    "    else:\n",
    "        other_files.append(file)\n",
    "        \n",
    "print('\\nPDF files are : \\n', pdf_files)\n",
    "print('\\nCSV files are : \\n', csv_files)\n",
    "print('\\nimage files are : \\n', image_files)\n",
    "print('\\ntext files are : \\n', text_files)\n",
    "print('\\nother files are : \\n', other_files)\n"
   ]
  },
  {
   "cell_type": "code",
   "execution_count": 37,
   "id": "150edaaf",
   "metadata": {},
   "outputs": [
    {
     "data": {
      "text/plain": [
       "'G:\\\\Velocity 20 NOV\\\\12_30_OS_Module'"
      ]
     },
     "execution_count": 37,
     "metadata": {},
     "output_type": "execute_result"
    }
   ],
   "source": [
    "os.getcwd()"
   ]
  },
  {
   "cell_type": "code",
   "execution_count": 44,
   "id": "77be0c47",
   "metadata": {
    "collapsed": true
   },
   "outputs": [
    {
     "data": {
      "text/plain": [
       "['DirEntry',\n",
       " 'F_OK',\n",
       " 'MutableMapping',\n",
       " 'O_APPEND',\n",
       " 'O_BINARY',\n",
       " 'O_CREAT',\n",
       " 'O_EXCL',\n",
       " 'O_NOINHERIT',\n",
       " 'O_RANDOM',\n",
       " 'O_RDONLY',\n",
       " 'O_RDWR',\n",
       " 'O_SEQUENTIAL',\n",
       " 'O_SHORT_LIVED',\n",
       " 'O_TEMPORARY',\n",
       " 'O_TEXT',\n",
       " 'O_TRUNC',\n",
       " 'O_WRONLY',\n",
       " 'P_DETACH',\n",
       " 'P_NOWAIT',\n",
       " 'P_NOWAITO',\n",
       " 'P_OVERLAY',\n",
       " 'P_WAIT',\n",
       " 'PathLike',\n",
       " 'R_OK',\n",
       " 'SEEK_CUR',\n",
       " 'SEEK_END',\n",
       " 'SEEK_SET',\n",
       " 'TMP_MAX',\n",
       " 'W_OK',\n",
       " 'X_OK',\n",
       " '_AddedDllDirectory',\n",
       " '_Environ',\n",
       " '__all__',\n",
       " '__builtins__',\n",
       " '__cached__',\n",
       " '__doc__',\n",
       " '__file__',\n",
       " '__loader__',\n",
       " '__name__',\n",
       " '__package__',\n",
       " '__spec__',\n",
       " '_check_methods',\n",
       " '_execvpe',\n",
       " '_exists',\n",
       " '_exit',\n",
       " '_fspath',\n",
       " '_get_exports_list',\n",
       " '_putenv',\n",
       " '_unsetenv',\n",
       " '_wrap_close',\n",
       " 'abc',\n",
       " 'abort',\n",
       " 'access',\n",
       " 'add_dll_directory',\n",
       " 'altsep',\n",
       " 'chdir',\n",
       " 'chmod',\n",
       " 'close',\n",
       " 'closerange',\n",
       " 'cpu_count',\n",
       " 'curdir',\n",
       " 'defpath',\n",
       " 'device_encoding',\n",
       " 'devnull',\n",
       " 'dup',\n",
       " 'dup2',\n",
       " 'environ',\n",
       " 'error',\n",
       " 'execl',\n",
       " 'execle',\n",
       " 'execlp',\n",
       " 'execlpe',\n",
       " 'execv',\n",
       " 'execve',\n",
       " 'execvp',\n",
       " 'execvpe',\n",
       " 'extsep',\n",
       " 'fdopen',\n",
       " 'fsdecode',\n",
       " 'fsencode',\n",
       " 'fspath',\n",
       " 'fstat',\n",
       " 'fsync',\n",
       " 'ftruncate',\n",
       " 'get_exec_path',\n",
       " 'get_handle_inheritable',\n",
       " 'get_inheritable',\n",
       " 'get_terminal_size',\n",
       " 'getcwd',\n",
       " 'getcwdb',\n",
       " 'getenv',\n",
       " 'getlogin',\n",
       " 'getpid',\n",
       " 'getppid',\n",
       " 'isatty',\n",
       " 'kill',\n",
       " 'linesep',\n",
       " 'link',\n",
       " 'listdir',\n",
       " 'lseek',\n",
       " 'lstat',\n",
       " 'makedirs',\n",
       " 'mkdir',\n",
       " 'name',\n",
       " 'open',\n",
       " 'pardir',\n",
       " 'path',\n",
       " 'pathsep',\n",
       " 'pipe',\n",
       " 'popen',\n",
       " 'putenv',\n",
       " 'read',\n",
       " 'readlink',\n",
       " 'remove',\n",
       " 'removedirs',\n",
       " 'rename',\n",
       " 'renames',\n",
       " 'replace',\n",
       " 'rmdir',\n",
       " 'scandir',\n",
       " 'sep',\n",
       " 'set_handle_inheritable',\n",
       " 'set_inheritable',\n",
       " 'spawnl',\n",
       " 'spawnle',\n",
       " 'spawnv',\n",
       " 'spawnve',\n",
       " 'st',\n",
       " 'startfile',\n",
       " 'stat',\n",
       " 'stat_result',\n",
       " 'statvfs_result',\n",
       " 'strerror',\n",
       " 'supports_bytes_environ',\n",
       " 'supports_dir_fd',\n",
       " 'supports_effective_ids',\n",
       " 'supports_fd',\n",
       " 'supports_follow_symlinks',\n",
       " 'symlink',\n",
       " 'sys',\n",
       " 'system',\n",
       " 'terminal_size',\n",
       " 'times',\n",
       " 'times_result',\n",
       " 'truncate',\n",
       " 'umask',\n",
       " 'uname_result',\n",
       " 'unlink',\n",
       " 'urandom',\n",
       " 'utime',\n",
       " 'waitpid',\n",
       " 'walk',\n",
       " 'write']"
      ]
     },
     "execution_count": 44,
     "metadata": {},
     "output_type": "execute_result"
    }
   ],
   "source": [
    "dir(os)"
   ]
  },
  {
   "cell_type": "code",
   "execution_count": 52,
   "id": "e804cd17",
   "metadata": {
    "scrolled": true
   },
   "outputs": [],
   "source": [
    "f = open(r'Data\\cv006_15448.txt')\n",
    "text=f.read()\n",
    "# print(text)\n",
    "f.close()"
   ]
  },
  {
   "cell_type": "code",
   "execution_count": 49,
   "id": "31a068f0",
   "metadata": {},
   "outputs": [
    {
     "data": {
      "text/plain": [
       "'G:\\\\Velocity 20 NOV\\\\12_30_OS_Module'"
      ]
     },
     "execution_count": 49,
     "metadata": {},
     "output_type": "execute_result"
    }
   ],
   "source": [
    "os.getcwd()"
   ]
  },
  {
   "cell_type": "code",
   "execution_count": 54,
   "id": "8dfce8b0",
   "metadata": {},
   "outputs": [],
   "source": [
    "f = open('Data\\cv012_29576.txt')\n",
    "text = f.read()\n",
    "# print(text)\n",
    "f.close()"
   ]
  },
  {
   "cell_type": "code",
   "execution_count": 81,
   "id": "ce923d6a",
   "metadata": {},
   "outputs": [
    {
     "name": "stdout",
     "output_type": "stream",
     "text": [
      "G:\\Velocity 20 NOV\\12_30_OS_Module\\Data\\cv012_29576.txt\n",
      "synopsis : bobby garfield ( yelchin ) lives in a small town with his mirthless widowed mother ( hope\n"
     ]
    }
   ],
   "source": [
    "file_path = os.getcwd() + '\\\\Data\\\\' + 'cv012_29576.txt'\n",
    "print(file_path)\n",
    "f = open(file_path)\n",
    "text = f.read()\n",
    "# print(text)\n",
    "f.close()\n"
   ]
  },
  {
   "cell_type": "code",
   "execution_count": 83,
   "id": "bc83f8b9",
   "metadata": {},
   "outputs": [
    {
     "name": "stdout",
     "output_type": "stream",
     "text": [
      " davis ) . \n",
      "bobby's world revolves around his friends , especially the spritely carol ( boorem ) . \n",
      "then one day , a new boarder arrives at bobby's house . \n",
      "ted brautigan ( hopkins ) is an enigmatic man to whom bobby takes an immediate liking . \n",
      "as the bond between bobby and ted deepens , bobby becomes privy to ted's great secret , an event which will change both of their lives forever . \n",
      "review : a small but enchanting movie , \" hearts in atlantis \" easily recalls another king-inspired coming-of-age film , \" stand by me \" , both in terms of its setting and the sentiment it conveys . \n",
      " \" hearts \" is a tribute to the magic of childhood , to those summers when the days seem neverending , and nothing means more than your closest friends . \n",
      "unlike \" stand by me \" , there is a supernatural element to \" hearts \" , but although it is key to the plot , it is not prominent . \n",
      "like \" stand by me \" , this is a mostly character-driven film , and as such it benefits greatly from superb casting . \n",
      "yelchin is very good as bobby , finding a good mix of innocence and resignation . \n",
      "more splendid still is boorem , whom i praised highly for her work in \" along came a spider \" and who is simply radiant here as carol . \n",
      "and then there is hopkins , who despite playing such a quiet , introspective character as ted , nonetheless commands our attention every time he is onscreen . \n",
      "less successful is davis , whose strident elizabeth comes across as overly cartoonish . \n",
      "i also found it odd that bobby and carol's other friend , sully ( whose death as an adult sets up the movie's flashback framing device ) , is paid virtually no attention . \n",
      "but hicks' direction is lovely without being cloying , and despite the movie's general lack of incident , it never ceases to weave its spell over the audience . \n",
      "\n"
     ]
    }
   ],
   "source": [
    "file_path = os.getcwd() + '\\\\Data\\\\' + 'cv012_29576.txt'\n",
    "# print(file_path)\n",
    "f = open(file_path)\n",
    "text = f.read()\n",
    "f.seek(100)\n",
    "text = f.read()\n",
    "print(text)\n",
    "# f.close()\n"
   ]
  },
  {
   "cell_type": "markdown",
   "id": "5d4ac037",
   "metadata": {},
   "source": [
    "## glob\n"
   ]
  },
  {
   "cell_type": "code",
   "execution_count": 65,
   "id": "017f4116",
   "metadata": {},
   "outputs": [],
   "source": [
    "import glob"
   ]
  },
  {
   "cell_type": "code",
   "execution_count": 66,
   "id": "f34c7883",
   "metadata": {},
   "outputs": [
    {
     "name": "stdout",
     "output_type": "stream",
     "text": [
      "['.ipynb_checkpoints', 'autos_dataset.csv', 'best fit line.gif', 'certificate.jpg', 'Customers.csv', 'cv006_15448.txt', 'cv007_4968.txt', 'cv008_29435.txt', 'cv009_29592.txt', 'cv010_29198.txt', 'cv011_12166.txt', 'cv012_29576.txt', 'cv013_10159.txt', 'Gradient Descent.png', 'OS Module.ipynb', 'person_details.json', 'risks-09-00042-v2.pdf']\n"
     ]
    }
   ],
   "source": [
    "path = 'Data'\n",
    "files = os.listdir(path)\n",
    "print(files)"
   ]
  },
  {
   "cell_type": "code",
   "execution_count": 68,
   "id": "3e032c08",
   "metadata": {},
   "outputs": [
    {
     "name": "stdout",
     "output_type": "stream",
     "text": [
      "['Data\\\\risks-09-00042-v2.pdf']\n"
     ]
    }
   ],
   "source": [
    "path = 'Data\\\\'\n",
    "files= glob.glob(path + '*.pdf')\n",
    "print(files)"
   ]
  },
  {
   "cell_type": "code",
   "execution_count": 71,
   "id": "c2fcb7d8",
   "metadata": {},
   "outputs": [
    {
     "name": "stdout",
     "output_type": "stream",
     "text": [
      "['Data\\\\cv006_15448.txt', 'Data\\\\cv007_4968.txt', 'Data\\\\cv008_29435.txt', 'Data\\\\cv009_29592.txt', 'Data\\\\cv010_29198.txt', 'Data\\\\cv011_12166.txt', 'Data\\\\cv012_29576.txt', 'Data\\\\cv013_10159.txt']\n"
     ]
    }
   ],
   "source": [
    "path = 'Data\\\\'\n",
    "files= glob.glob(path + '*.txt')\n",
    "print(files)"
   ]
  },
  {
   "cell_type": "code",
   "execution_count": 72,
   "id": "0d31c7e4",
   "metadata": {},
   "outputs": [
    {
     "data": {
      "text/plain": [
       "['Data\\\\autos_dataset.csv', 'Data\\\\Customers.csv']"
      ]
     },
     "execution_count": 72,
     "metadata": {},
     "output_type": "execute_result"
    }
   ],
   "source": [
    "glob.glob(path+'*.csv')"
   ]
  },
  {
   "cell_type": "markdown",
   "id": "28fbb4f0",
   "metadata": {},
   "source": [
    "## shutil"
   ]
  },
  {
   "cell_type": "code",
   "execution_count": 73,
   "id": "14dbf83e",
   "metadata": {},
   "outputs": [],
   "source": [
    "import shutil"
   ]
  },
  {
   "cell_type": "code",
   "execution_count": 74,
   "id": "6d62f68f",
   "metadata": {
    "collapsed": true
   },
   "outputs": [
    {
     "data": {
      "text/plain": [
       "['COPY_BUFSIZE',\n",
       " 'Error',\n",
       " 'ExecError',\n",
       " 'ReadError',\n",
       " 'RegistryError',\n",
       " 'SameFileError',\n",
       " 'SpecialFileError',\n",
       " '_ARCHIVE_FORMATS',\n",
       " '_BZ2_SUPPORTED',\n",
       " '_GiveupOnFastCopy',\n",
       " '_HAS_FCOPYFILE',\n",
       " '_LZMA_SUPPORTED',\n",
       " '_UNPACK_FORMATS',\n",
       " '_USE_CP_SENDFILE',\n",
       " '_WINDOWS',\n",
       " '_WIN_DEFAULT_PATHEXT',\n",
       " '_ZLIB_SUPPORTED',\n",
       " '__all__',\n",
       " '__builtins__',\n",
       " '__cached__',\n",
       " '__doc__',\n",
       " '__file__',\n",
       " '__loader__',\n",
       " '__name__',\n",
       " '__package__',\n",
       " '__spec__',\n",
       " '_access_check',\n",
       " '_basename',\n",
       " '_check_unpack_options',\n",
       " '_copyfileobj_readinto',\n",
       " '_copytree',\n",
       " '_copyxattr',\n",
       " '_destinsrc',\n",
       " '_ensure_directory',\n",
       " '_fastcopy_fcopyfile',\n",
       " '_fastcopy_sendfile',\n",
       " '_find_unpack_format',\n",
       " '_get_gid',\n",
       " '_get_uid',\n",
       " '_islink',\n",
       " '_make_tarball',\n",
       " '_make_zipfile',\n",
       " '_ntuple_diskusage',\n",
       " '_rmtree_isdir',\n",
       " '_rmtree_islink',\n",
       " '_rmtree_safe_fd',\n",
       " '_rmtree_unsafe',\n",
       " '_samefile',\n",
       " '_stat',\n",
       " '_unpack_tarfile',\n",
       " '_unpack_zipfile',\n",
       " '_use_fd_functions',\n",
       " 'chown',\n",
       " 'collections',\n",
       " 'copy',\n",
       " 'copy2',\n",
       " 'copyfile',\n",
       " 'copyfileobj',\n",
       " 'copymode',\n",
       " 'copystat',\n",
       " 'copytree',\n",
       " 'disk_usage',\n",
       " 'errno',\n",
       " 'fnmatch',\n",
       " 'get_archive_formats',\n",
       " 'get_terminal_size',\n",
       " 'get_unpack_formats',\n",
       " 'getgrnam',\n",
       " 'getpwnam',\n",
       " 'ignore_patterns',\n",
       " 'make_archive',\n",
       " 'move',\n",
       " 'nt',\n",
       " 'os',\n",
       " 'posix',\n",
       " 'register_archive_format',\n",
       " 'register_unpack_format',\n",
       " 'rmtree',\n",
       " 'stat',\n",
       " 'sys',\n",
       " 'unpack_archive',\n",
       " 'unregister_archive_format',\n",
       " 'unregister_unpack_format',\n",
       " 'which']"
      ]
     },
     "execution_count": 74,
     "metadata": {},
     "output_type": "execute_result"
    }
   ],
   "source": [
    "dir(shutil)"
   ]
  },
  {
   "cell_type": "code",
   "execution_count": 75,
   "id": "66e75bf8",
   "metadata": {},
   "outputs": [
    {
     "data": {
      "text/plain": [
       "'Data Science\\\\risks-09-00042-v2.pdf'"
      ]
     },
     "execution_count": 75,
     "metadata": {},
     "output_type": "execute_result"
    }
   ],
   "source": [
    "source = 'Data\\\\risks-09-00042-v2.pdf'\n",
    "destination = 'Data Science\\\\risks-09-00042-v2.pdf'\n",
    "shutil.copy(source, destination)"
   ]
  },
  {
   "cell_type": "code",
   "execution_count": null,
   "id": "5eacf928",
   "metadata": {},
   "outputs": [],
   "source": [
    "shutil.copy2()"
   ]
  },
  {
   "cell_type": "code",
   "execution_count": 77,
   "id": "a9b27d86",
   "metadata": {},
   "outputs": [
    {
     "ename": "OSError",
     "evalue": "[Errno 22] Invalid argument: 'Data\\\\*.txt'",
     "output_type": "error",
     "traceback": [
      "\u001b[1;31m---------------------------------------------------------------------------\u001b[0m",
      "\u001b[1;31mOSError\u001b[0m                                   Traceback (most recent call last)",
      "\u001b[1;32m<ipython-input-77-364a6dc8d481>\u001b[0m in \u001b[0;36m<module>\u001b[1;34m\u001b[0m\n\u001b[0;32m      1\u001b[0m \u001b[0msource\u001b[0m \u001b[1;33m=\u001b[0m \u001b[1;34m'Data\\\\*.txt'\u001b[0m\u001b[1;33m\u001b[0m\u001b[1;33m\u001b[0m\u001b[0m\n\u001b[0;32m      2\u001b[0m \u001b[0mdestination\u001b[0m \u001b[1;33m=\u001b[0m \u001b[1;34m'Data Science\\\\*.txt'\u001b[0m\u001b[1;33m\u001b[0m\u001b[1;33m\u001b[0m\u001b[0m\n\u001b[1;32m----> 3\u001b[1;33m \u001b[0mshutil\u001b[0m\u001b[1;33m.\u001b[0m\u001b[0mcopy2\u001b[0m\u001b[1;33m(\u001b[0m\u001b[0msource\u001b[0m\u001b[1;33m,\u001b[0m \u001b[0mdestination\u001b[0m\u001b[1;33m)\u001b[0m\u001b[1;33m\u001b[0m\u001b[1;33m\u001b[0m\u001b[0m\n\u001b[0m",
      "\u001b[1;32m~\\anaconda3\\lib\\shutil.py\u001b[0m in \u001b[0;36mcopy2\u001b[1;34m(src, dst, follow_symlinks)\u001b[0m\n\u001b[0;32m    433\u001b[0m     \u001b[1;32mif\u001b[0m \u001b[0mos\u001b[0m\u001b[1;33m.\u001b[0m\u001b[0mpath\u001b[0m\u001b[1;33m.\u001b[0m\u001b[0misdir\u001b[0m\u001b[1;33m(\u001b[0m\u001b[0mdst\u001b[0m\u001b[1;33m)\u001b[0m\u001b[1;33m:\u001b[0m\u001b[1;33m\u001b[0m\u001b[1;33m\u001b[0m\u001b[0m\n\u001b[0;32m    434\u001b[0m         \u001b[0mdst\u001b[0m \u001b[1;33m=\u001b[0m \u001b[0mos\u001b[0m\u001b[1;33m.\u001b[0m\u001b[0mpath\u001b[0m\u001b[1;33m.\u001b[0m\u001b[0mjoin\u001b[0m\u001b[1;33m(\u001b[0m\u001b[0mdst\u001b[0m\u001b[1;33m,\u001b[0m \u001b[0mos\u001b[0m\u001b[1;33m.\u001b[0m\u001b[0mpath\u001b[0m\u001b[1;33m.\u001b[0m\u001b[0mbasename\u001b[0m\u001b[1;33m(\u001b[0m\u001b[0msrc\u001b[0m\u001b[1;33m)\u001b[0m\u001b[1;33m)\u001b[0m\u001b[1;33m\u001b[0m\u001b[1;33m\u001b[0m\u001b[0m\n\u001b[1;32m--> 435\u001b[1;33m     \u001b[0mcopyfile\u001b[0m\u001b[1;33m(\u001b[0m\u001b[0msrc\u001b[0m\u001b[1;33m,\u001b[0m \u001b[0mdst\u001b[0m\u001b[1;33m,\u001b[0m \u001b[0mfollow_symlinks\u001b[0m\u001b[1;33m=\u001b[0m\u001b[0mfollow_symlinks\u001b[0m\u001b[1;33m)\u001b[0m\u001b[1;33m\u001b[0m\u001b[1;33m\u001b[0m\u001b[0m\n\u001b[0m\u001b[0;32m    436\u001b[0m     \u001b[0mcopystat\u001b[0m\u001b[1;33m(\u001b[0m\u001b[0msrc\u001b[0m\u001b[1;33m,\u001b[0m \u001b[0mdst\u001b[0m\u001b[1;33m,\u001b[0m \u001b[0mfollow_symlinks\u001b[0m\u001b[1;33m=\u001b[0m\u001b[0mfollow_symlinks\u001b[0m\u001b[1;33m)\u001b[0m\u001b[1;33m\u001b[0m\u001b[1;33m\u001b[0m\u001b[0m\n\u001b[0;32m    437\u001b[0m     \u001b[1;32mreturn\u001b[0m \u001b[0mdst\u001b[0m\u001b[1;33m\u001b[0m\u001b[1;33m\u001b[0m\u001b[0m\n",
      "\u001b[1;32m~\\anaconda3\\lib\\shutil.py\u001b[0m in \u001b[0;36mcopyfile\u001b[1;34m(src, dst, follow_symlinks)\u001b[0m\n\u001b[0;32m    262\u001b[0m         \u001b[0mos\u001b[0m\u001b[1;33m.\u001b[0m\u001b[0msymlink\u001b[0m\u001b[1;33m(\u001b[0m\u001b[0mos\u001b[0m\u001b[1;33m.\u001b[0m\u001b[0mreadlink\u001b[0m\u001b[1;33m(\u001b[0m\u001b[0msrc\u001b[0m\u001b[1;33m)\u001b[0m\u001b[1;33m,\u001b[0m \u001b[0mdst\u001b[0m\u001b[1;33m)\u001b[0m\u001b[1;33m\u001b[0m\u001b[1;33m\u001b[0m\u001b[0m\n\u001b[0;32m    263\u001b[0m     \u001b[1;32melse\u001b[0m\u001b[1;33m:\u001b[0m\u001b[1;33m\u001b[0m\u001b[1;33m\u001b[0m\u001b[0m\n\u001b[1;32m--> 264\u001b[1;33m         \u001b[1;32mwith\u001b[0m \u001b[0mopen\u001b[0m\u001b[1;33m(\u001b[0m\u001b[0msrc\u001b[0m\u001b[1;33m,\u001b[0m \u001b[1;34m'rb'\u001b[0m\u001b[1;33m)\u001b[0m \u001b[1;32mas\u001b[0m \u001b[0mfsrc\u001b[0m\u001b[1;33m,\u001b[0m \u001b[0mopen\u001b[0m\u001b[1;33m(\u001b[0m\u001b[0mdst\u001b[0m\u001b[1;33m,\u001b[0m \u001b[1;34m'wb'\u001b[0m\u001b[1;33m)\u001b[0m \u001b[1;32mas\u001b[0m \u001b[0mfdst\u001b[0m\u001b[1;33m:\u001b[0m\u001b[1;33m\u001b[0m\u001b[1;33m\u001b[0m\u001b[0m\n\u001b[0m\u001b[0;32m    265\u001b[0m             \u001b[1;31m# macOS\u001b[0m\u001b[1;33m\u001b[0m\u001b[1;33m\u001b[0m\u001b[1;33m\u001b[0m\u001b[0m\n\u001b[0;32m    266\u001b[0m             \u001b[1;32mif\u001b[0m \u001b[0m_HAS_FCOPYFILE\u001b[0m\u001b[1;33m:\u001b[0m\u001b[1;33m\u001b[0m\u001b[1;33m\u001b[0m\u001b[0m\n",
      "\u001b[1;31mOSError\u001b[0m: [Errno 22] Invalid argument: 'Data\\\\*.txt'"
     ]
    }
   ],
   "source": [
    "source = 'Data\\\\*.txt'\n",
    "destination = 'Data Science\\\\*.txt'\n",
    "shutil.copy2(source, destination)"
   ]
  },
  {
   "cell_type": "code",
   "execution_count": 78,
   "id": "2f0162b6",
   "metadata": {},
   "outputs": [
    {
     "data": {
      "text/plain": [
       "'Data Science\\\\autos_dataset.csv'"
      ]
     },
     "execution_count": 78,
     "metadata": {},
     "output_type": "execute_result"
    }
   ],
   "source": [
    "source = 'Data\\\\autos_dataset.csv'\n",
    "destination = 'Data Science\\\\autos_dataset.csv'\n",
    "shutil.move(source, destination)"
   ]
  },
  {
   "cell_type": "code",
   "execution_count": null,
   "id": "d8980da9",
   "metadata": {},
   "outputs": [],
   "source": []
  },
  {
   "cell_type": "code",
   "execution_count": null,
   "id": "7c1f1fef",
   "metadata": {},
   "outputs": [],
   "source": []
  },
  {
   "cell_type": "code",
   "execution_count": null,
   "id": "ab46bf37",
   "metadata": {},
   "outputs": [],
   "source": []
  },
  {
   "cell_type": "code",
   "execution_count": null,
   "id": "0eb0bb1c",
   "metadata": {},
   "outputs": [],
   "source": []
  },
  {
   "cell_type": "code",
   "execution_count": null,
   "id": "9cc2e69c",
   "metadata": {},
   "outputs": [],
   "source": []
  },
  {
   "cell_type": "code",
   "execution_count": null,
   "id": "48c0cb08",
   "metadata": {},
   "outputs": [],
   "source": []
  },
  {
   "cell_type": "code",
   "execution_count": null,
   "id": "4b909420",
   "metadata": {},
   "outputs": [],
   "source": []
  },
  {
   "cell_type": "code",
   "execution_count": null,
   "id": "dd84ecfe",
   "metadata": {},
   "outputs": [],
   "source": []
  },
  {
   "cell_type": "code",
   "execution_count": null,
   "id": "d2395103",
   "metadata": {},
   "outputs": [],
   "source": []
  },
  {
   "cell_type": "code",
   "execution_count": null,
   "id": "9ae4ba31",
   "metadata": {},
   "outputs": [],
   "source": []
  },
  {
   "cell_type": "code",
   "execution_count": null,
   "id": "deabd37c",
   "metadata": {},
   "outputs": [],
   "source": []
  },
  {
   "cell_type": "code",
   "execution_count": null,
   "id": "0e0fcaa2",
   "metadata": {},
   "outputs": [],
   "source": []
  },
  {
   "cell_type": "code",
   "execution_count": null,
   "id": "dfb368f9",
   "metadata": {},
   "outputs": [],
   "source": []
  },
  {
   "cell_type": "code",
   "execution_count": null,
   "id": "2e5845d2",
   "metadata": {},
   "outputs": [],
   "source": []
  },
  {
   "cell_type": "code",
   "execution_count": null,
   "id": "d6da727e",
   "metadata": {},
   "outputs": [],
   "source": []
  },
  {
   "cell_type": "code",
   "execution_count": null,
   "id": "db9c1396",
   "metadata": {},
   "outputs": [],
   "source": []
  },
  {
   "cell_type": "code",
   "execution_count": null,
   "id": "ca1a8765",
   "metadata": {},
   "outputs": [],
   "source": []
  },
  {
   "cell_type": "code",
   "execution_count": null,
   "id": "3c276669",
   "metadata": {},
   "outputs": [],
   "source": []
  },
  {
   "cell_type": "code",
   "execution_count": null,
   "id": "295c59c9",
   "metadata": {},
   "outputs": [],
   "source": []
  },
  {
   "cell_type": "code",
   "execution_count": null,
   "id": "df9505e4",
   "metadata": {},
   "outputs": [],
   "source": []
  },
  {
   "cell_type": "code",
   "execution_count": null,
   "id": "39e33dd9",
   "metadata": {},
   "outputs": [],
   "source": []
  },
  {
   "cell_type": "code",
   "execution_count": null,
   "id": "b3f71706",
   "metadata": {},
   "outputs": [],
   "source": []
  },
  {
   "cell_type": "code",
   "execution_count": null,
   "id": "4d56b898",
   "metadata": {},
   "outputs": [],
   "source": []
  },
  {
   "cell_type": "code",
   "execution_count": null,
   "id": "325c4c11",
   "metadata": {},
   "outputs": [],
   "source": []
  },
  {
   "cell_type": "code",
   "execution_count": null,
   "id": "7417c2c1",
   "metadata": {},
   "outputs": [],
   "source": []
  },
  {
   "cell_type": "code",
   "execution_count": null,
   "id": "0cc854b8",
   "metadata": {},
   "outputs": [],
   "source": []
  }
 ],
 "metadata": {
  "kernelspec": {
   "display_name": "Python 3",
   "language": "python",
   "name": "python3"
  },
  "language_info": {
   "codemirror_mode": {
    "name": "ipython",
    "version": 3
   },
   "file_extension": ".py",
   "mimetype": "text/x-python",
   "name": "python",
   "nbconvert_exporter": "python",
   "pygments_lexer": "ipython3",
   "version": "3.8.8"
  }
 },
 "nbformat": 4,
 "nbformat_minor": 5
}
