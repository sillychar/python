{
 "cells": [
  {
   "cell_type": "markdown",
   "id": "9bcf1167",
   "metadata": {},
   "source": [
    "## File Handling"
   ]
  },
  {
   "cell_type": "code",
   "execution_count": null,
   "id": "11737d8d",
   "metadata": {},
   "outputs": [],
   "source": [
    "Access Modes:\n",
    "    1. Write >> 'w'\n",
    "    2. Read >> 'r'\n",
    "    3. append >> 'a'"
   ]
  },
  {
   "cell_type": "code",
   "execution_count": null,
   "id": "1b2be690",
   "metadata": {},
   "outputs": [],
   "source": [
    "# Opening A file\n",
    "\n",
    "f=open(file_name, mode)\n",
    "\n",
    "Default mode >> read\n",
    "open(file, 'r')\n",
    "\n",
    "Open Function will return a file object"
   ]
  },
  {
   "cell_type": "code",
   "execution_count": null,
   "id": "5b88bf25",
   "metadata": {},
   "outputs": [],
   "source": [
    "# Closing a file \n",
    "f.close()"
   ]
  },
  {
   "cell_type": "markdown",
   "id": "e057fa43",
   "metadata": {},
   "source": [
    "### 1. Write"
   ]
  },
  {
   "cell_type": "code",
   "execution_count": null,
   "id": "4c60cc78",
   "metadata": {},
   "outputs": [],
   "source": [
    "write >> 'w'\n",
    "Create a file if not exist\n",
    "Overwrite file if file already exist"
   ]
  },
  {
   "cell_type": "code",
   "execution_count": 3,
   "id": "8d24396e",
   "metadata": {},
   "outputs": [],
   "source": [
    "file_ptr = open('test.txt', 'w')\n",
    "file_ptr.write('Hello')\n",
    "file_ptr.close()"
   ]
  },
  {
   "cell_type": "code",
   "execution_count": 5,
   "id": "256e7e62",
   "metadata": {},
   "outputs": [],
   "source": [
    "file_ptr = open('myfile.txt','w')\n",
    "file_ptr.write('We are learning Python and Data Science')\n",
    "file_ptr.close()"
   ]
  },
  {
   "cell_type": "code",
   "execution_count": 13,
   "id": "e281ee7e",
   "metadata": {},
   "outputs": [],
   "source": [
    "file_ptr = open('myfile4.txt','w')\n",
    "file_ptr.write('Machine Learning')\n",
    "file_ptr.close()"
   ]
  },
  {
   "cell_type": "code",
   "execution_count": 7,
   "id": "c37cd88e",
   "metadata": {},
   "outputs": [],
   "source": [
    "f = open('myfile1.txt','w')\n",
    "f.write('Machine Learning')\n",
    "f.close()"
   ]
  },
  {
   "cell_type": "code",
   "execution_count": 87,
   "id": "ab94ff64",
   "metadata": {},
   "outputs": [
    {
     "ename": "OSError",
     "evalue": "[Errno 22] Invalid argument: 'G:\\\\Velocity 30 OCT\\x019-11-21 Dictionary\\\\myfile0.txt'",
     "output_type": "error",
     "traceback": [
      "\u001b[1;31m---------------------------------------------------------------------------\u001b[0m",
      "\u001b[1;31mOSError\u001b[0m                                   Traceback (most recent call last)",
      "\u001b[1;32m<ipython-input-87-228c6a1729fd>\u001b[0m in \u001b[0;36m<module>\u001b[1;34m\u001b[0m\n\u001b[1;32m----> 1\u001b[1;33m \u001b[0mf\u001b[0m \u001b[1;33m=\u001b[0m \u001b[0mopen\u001b[0m\u001b[1;33m(\u001b[0m\u001b[1;34m'G:\\Velocity 30 OCT\\19-11-21 Dictionary\\myfile0.txt'\u001b[0m\u001b[1;33m,\u001b[0m\u001b[1;34m'w'\u001b[0m\u001b[1;33m)\u001b[0m \u001b[1;31m# error because of backslash assignment\u001b[0m\u001b[1;33m\u001b[0m\u001b[1;33m\u001b[0m\u001b[0m\n\u001b[0m\u001b[0;32m      2\u001b[0m \u001b[0mf\u001b[0m\u001b[1;33m.\u001b[0m\u001b[0mwrite\u001b[0m\u001b[1;33m(\u001b[0m\u001b[1;34m'Machine Learning'\u001b[0m\u001b[1;33m)\u001b[0m\u001b[1;33m\u001b[0m\u001b[1;33m\u001b[0m\u001b[0m\n\u001b[0;32m      3\u001b[0m \u001b[0mf\u001b[0m\u001b[1;33m.\u001b[0m\u001b[0mclose\u001b[0m\u001b[1;33m(\u001b[0m\u001b[1;33m)\u001b[0m\u001b[1;33m\u001b[0m\u001b[1;33m\u001b[0m\u001b[0m\n",
      "\u001b[1;31mOSError\u001b[0m: [Errno 22] Invalid argument: 'G:\\\\Velocity 30 OCT\\x019-11-21 Dictionary\\\\myfile0.txt'"
     ]
    }
   ],
   "source": [
    "f = open('G:\\Velocity 30 OCT\\19-11-21 Dictionary\\myfile0.txt','w') # error because of backslash assignment \n",
    "f.write('Machine Learning')\n",
    "f.close()"
   ]
  },
  {
   "cell_type": "code",
   "execution_count": 9,
   "id": "eeb0393f",
   "metadata": {},
   "outputs": [],
   "source": [
    "f = open('G:/Velocity 30 OCT/19-11-21 Dictionary/myfile1.txt','w') ## use forward slash \n",
    "f.write('Machine Learning')\n",
    "f.close()"
   ]
  },
  {
   "cell_type": "code",
   "execution_count": 10,
   "id": "ed7b7892",
   "metadata": {},
   "outputs": [],
   "source": [
    "f = open(r'G:\\Velocity 30 OCT\\19-11-21 Dictionary\\myfile2.txt','w') ## if using backward slash, use r string\n",
    "f.write('Machine Learning and Data Science')\n",
    "f.close()"
   ]
  },
  {
   "cell_type": "code",
   "execution_count": 12,
   "id": "5b80f9b7",
   "metadata": {},
   "outputs": [],
   "source": [
    "f = open('G:\\\\Velocity 30 OCT\\\\19-11-21 Dictionary\\\\myfile3.txt','w') ## if using backward slash, use double backward slash\n",
    "f.write('Machine Learning and Data Science and Deep Learning')\n",
    "f.close()"
   ]
  },
  {
   "cell_type": "code",
   "execution_count": 21,
   "id": "1d83f28f",
   "metadata": {},
   "outputs": [
    {
     "data": {
      "text/plain": [
       "4"
      ]
     },
     "execution_count": 21,
     "metadata": {},
     "output_type": "execute_result"
    }
   ],
   "source": [
    "f = open('ml.txt','w')\n",
    "f.write('text')\n"
   ]
  },
  {
   "cell_type": "code",
   "execution_count": 26,
   "id": "0fc4f248",
   "metadata": {},
   "outputs": [
    {
     "data": {
      "text/plain": [
       "175"
      ]
     },
     "execution_count": 26,
     "metadata": {},
     "output_type": "execute_result"
    }
   ],
   "source": [
    "text = '''Machine learning is the study of computer algorithms that can improve automatically\n",
    "through experience and by the use of data. It is seen as a part of artificial intelligence.'''\n",
    "f = open('ml.txt','w')\n",
    "f.write(text)\n",
    "# f.close()"
   ]
  },
  {
   "cell_type": "code",
   "execution_count": 27,
   "id": "23696569",
   "metadata": {},
   "outputs": [],
   "source": [
    "data_science = '''\\n\\nData science is an interdisciplinary field that uses scientific methods, processes,\n",
    "algorithms and systems to extract knowledge and insights from noisy, structured and unstructured data,\n",
    "and apply knowledge and actionable insights from data across a broad range of application domains. '''\n",
    "\n",
    "f.write(data_science)\n",
    "f.close()"
   ]
  },
  {
   "cell_type": "code",
   "execution_count": 28,
   "id": "e5765e81",
   "metadata": {},
   "outputs": [],
   "source": [
    "f= open('data.txt','w')\n",
    "f.write('Python')\n",
    "f.write('\\nData Science')\n",
    "f.close()"
   ]
  },
  {
   "cell_type": "code",
   "execution_count": null,
   "id": "fcf4b392",
   "metadata": {},
   "outputs": [],
   "source": [
    "OCR(Optical Character Recongnition) >> image to text conversion\n",
    "1. Pytesseract >> freeware\n",
    "2. Google vision\n",
    "3. AWS Textract\n",
    "\n",
    "image >> text"
   ]
  },
  {
   "cell_type": "code",
   "execution_count": 32,
   "id": "fbf69bc6",
   "metadata": {},
   "outputs": [],
   "source": [
    "bank_data='''Anand Electricals\n",
    "Joint holder :- \n",
    "SHOP NO 01 BABA MARKET HAROLA\n",
    "SECTOR 05\n",
    "NOIDA Customer No:-74125863\n",
    "UTTAR PRADESH SCHEME : CURRENT ACCOUNT-NORMAL\n",
    "201301 Curency: INR'''\n",
    "\n",
    "f= open('bank_data.txt','w')\n",
    "f.write(bank_data)\n",
    "f.close()"
   ]
  },
  {
   "cell_type": "code",
   "execution_count": 36,
   "id": "a0228b6e",
   "metadata": {},
   "outputs": [],
   "source": [
    "old_bank_data='''Anand Electricals\n",
    "Joint holder :- \n",
    "SHOP NO 01 BABA MARKET HAROLA\n",
    "SECTOR 05'''\n",
    "\n",
    "f= open('bank.txt','w')\n",
    "f.write(old_bank_data)\n",
    "f.close()"
   ]
  },
  {
   "cell_type": "markdown",
   "id": "78397865",
   "metadata": {},
   "source": [
    "### 2. append()"
   ]
  },
  {
   "cell_type": "code",
   "execution_count": null,
   "id": "0d58b439",
   "metadata": {},
   "outputs": [],
   "source": [
    "append >> 'a'\n",
    "creates a file, if not exist\n",
    "add text if already exist"
   ]
  },
  {
   "cell_type": "code",
   "execution_count": 37,
   "id": "f1e8e66e",
   "metadata": {},
   "outputs": [],
   "source": [
    "new_bank_data='''\n",
    "NOIDA Customer No:-74125863\n",
    "UTTAR PRADESH SCHEME : CURRENT ACCOUNT-NORMAL\n",
    "201301 Curency: INR'''\n",
    "\n",
    "f = open('bank.txt','a')\n",
    "f.write(new_bank_data)\n",
    "f.close()"
   ]
  },
  {
   "cell_type": "code",
   "execution_count": 40,
   "id": "0377c784",
   "metadata": {},
   "outputs": [],
   "source": [
    "f= open('test_file.txt','w')\n",
    "f.write('Machine Learning')\n",
    "f.close()"
   ]
  },
  {
   "cell_type": "code",
   "execution_count": 41,
   "id": "2da9c105",
   "metadata": {},
   "outputs": [],
   "source": [
    "f= open('test_file.txt','a')\n",
    "f.write(' Data Science')\n",
    "f.close()"
   ]
  },
  {
   "cell_type": "code",
   "execution_count": 42,
   "id": "31c28bc2",
   "metadata": {},
   "outputs": [],
   "source": [
    "f= open('test_file.txt','a')\n",
    "f.write('\\nDeep Learning')\n",
    "f.close()"
   ]
  },
  {
   "cell_type": "code",
   "execution_count": 43,
   "id": "7441c79a",
   "metadata": {},
   "outputs": [],
   "source": [
    "f= open('test_file.txt','a')\n",
    "f.write('\\nDeep Learning')\n",
    "f.close()"
   ]
  },
  {
   "cell_type": "code",
   "execution_count": 44,
   "id": "3513c9a9",
   "metadata": {},
   "outputs": [],
   "source": [
    "f= open('test_file.txt','a')\n",
    "f.write('\\nTime Series Analysis')\n",
    "f.close()"
   ]
  },
  {
   "cell_type": "markdown",
   "id": "b1a96ef5",
   "metadata": {},
   "source": [
    "### 3. read()"
   ]
  },
  {
   "cell_type": "code",
   "execution_count": null,
   "id": "e8aa7715",
   "metadata": {},
   "outputs": [],
   "source": [
    "read >> 'r'\n",
    "default open function mode is read\n",
    "\n",
    "USed to read content of file"
   ]
  },
  {
   "cell_type": "code",
   "execution_count": 46,
   "id": "3dd4a3fc",
   "metadata": {},
   "outputs": [
    {
     "name": "stdout",
     "output_type": "stream",
     "text": [
      "Machine Learning Data Science\n",
      "Deep Learning\n",
      "Deep Learning\n",
      "Time Series Analysis\n"
     ]
    }
   ],
   "source": [
    "f=open('test_file.txt')\n",
    "text =f.read()\n",
    "print(text)\n",
    "f.close()"
   ]
  },
  {
   "cell_type": "code",
   "execution_count": 48,
   "id": "8d438533",
   "metadata": {},
   "outputs": [
    {
     "name": "stdout",
     "output_type": "stream",
     "text": [
      "Machine Learning Data Science\n",
      "Deep Learning\n",
      "Deep Learning\n",
      "Time Series Analysis\n"
     ]
    }
   ],
   "source": [
    "print(text)"
   ]
  },
  {
   "cell_type": "code",
   "execution_count": 50,
   "id": "a11ca35a",
   "metadata": {},
   "outputs": [
    {
     "name": "stdout",
     "output_type": "stream",
     "text": [
      "Machine learning is the study of computer algorithms that can improve automatically\n",
      "through experience and by the use of data. It is seen as a part of artificial intelligence.\n",
      "\n",
      "Data science is an interdisciplinary field that uses scientific methods, processes,\n",
      "algorithms and systems to extract knowledge and insights from noisy, structured and unstructured data,\n",
      "and apply knowledge and actionable insights from data across a broad range of application domains. \n"
     ]
    }
   ],
   "source": [
    "f= open('ml.txt','r')\n",
    "text = f.read()\n",
    "print(text)\n",
    "f.close()"
   ]
  },
  {
   "cell_type": "code",
   "execution_count": 51,
   "id": "89a9f8ae",
   "metadata": {},
   "outputs": [
    {
     "data": {
      "text/plain": [
       "'Machine learning is the study of computer algorithms that can improve automatically\\nthrough experience and by the use of data. It is seen as a part of artificial intelligence.\\n\\nData science is an interdisciplinary field that uses scientific methods, processes,\\nalgorithms and systems to extract knowledge and insights from noisy, structured and unstructured data,\\nand apply knowledge and actionable insights from data across a broad range of application domains. '"
      ]
     },
     "execution_count": 51,
     "metadata": {},
     "output_type": "execute_result"
    }
   ],
   "source": [
    "text"
   ]
  },
  {
   "cell_type": "code",
   "execution_count": 52,
   "id": "d4f6632c",
   "metadata": {},
   "outputs": [
    {
     "name": "stdout",
     "output_type": "stream",
     "text": [
      "Machine learning is the study of computer algorithms that can improve automatically\n",
      "through experien\n"
     ]
    }
   ],
   "source": [
    "f= open('ml.txt','r')\n",
    "text = f.read(100) ## first 100 char\n",
    "print(text)\n",
    "f.close()"
   ]
  },
  {
   "cell_type": "markdown",
   "id": "2aff2d3c",
   "metadata": {},
   "source": [
    "#### 3.1 readline()"
   ]
  },
  {
   "cell_type": "code",
   "execution_count": null,
   "id": "6103042f",
   "metadata": {},
   "outputs": [],
   "source": [
    "readline >> gives output line by line, it reads only one line"
   ]
  },
  {
   "cell_type": "code",
   "execution_count": 56,
   "id": "7adc4c97",
   "metadata": {},
   "outputs": [
    {
     "name": "stdout",
     "output_type": "stream",
     "text": [
      "Anand Electricals\n",
      "\n",
      "Joint holder :- \n",
      "\n",
      "SHOP NO 01 BABA MARKET HAROLA\n",
      "\n",
      "SECTOR 05\n",
      "\n"
     ]
    }
   ],
   "source": [
    "file = open('bank_data.txt','r')\n",
    "text=file.readline()\n",
    "print(text)\n",
    "text1 = file.readline()\n",
    "print(text1)\n",
    "text2 = file.readline()\n",
    "print(text2)\n",
    "text3 = file.readline()\n",
    "print(text3)\n",
    "file.close()"
   ]
  },
  {
   "cell_type": "code",
   "execution_count": 57,
   "id": "3d50b70e",
   "metadata": {},
   "outputs": [
    {
     "ename": "ValueError",
     "evalue": "I/O operation on closed file.",
     "output_type": "error",
     "traceback": [
      "\u001b[1;31m---------------------------------------------------------------------------\u001b[0m",
      "\u001b[1;31mValueError\u001b[0m                                Traceback (most recent call last)",
      "\u001b[1;32m<ipython-input-57-9e3bdcd3681b>\u001b[0m in \u001b[0;36m<module>\u001b[1;34m\u001b[0m\n\u001b[1;32m----> 1\u001b[1;33m \u001b[0mtext4\u001b[0m \u001b[1;33m=\u001b[0m \u001b[0mfile\u001b[0m\u001b[1;33m.\u001b[0m\u001b[0mreadline\u001b[0m\u001b[1;33m(\u001b[0m\u001b[1;33m)\u001b[0m\u001b[1;33m\u001b[0m\u001b[1;33m\u001b[0m\u001b[0m\n\u001b[0m\u001b[0;32m      2\u001b[0m \u001b[0mprint\u001b[0m\u001b[1;33m(\u001b[0m\u001b[0mtext4\u001b[0m\u001b[1;33m)\u001b[0m\u001b[1;33m\u001b[0m\u001b[1;33m\u001b[0m\u001b[0m\n",
      "\u001b[1;31mValueError\u001b[0m: I/O operation on closed file."
     ]
    }
   ],
   "source": [
    "text4 = file.readline()\n",
    "print(text4)"
   ]
  },
  {
   "cell_type": "markdown",
   "id": "eeefcb67",
   "metadata": {},
   "source": [
    "#### 3.2 readlines()"
   ]
  },
  {
   "cell_type": "code",
   "execution_count": null,
   "id": "bba53ac9",
   "metadata": {},
   "outputs": [],
   "source": [
    "it returns list of all lines"
   ]
  },
  {
   "cell_type": "code",
   "execution_count": 58,
   "id": "b281e0c8",
   "metadata": {},
   "outputs": [
    {
     "name": "stdout",
     "output_type": "stream",
     "text": [
      "['Anand Electricals\\n', 'Joint holder :- \\n', 'SHOP NO 01 BABA MARKET HAROLA\\n', 'SECTOR 05\\n', 'NOIDA Customer No:-74125863\\n', 'UTTAR PRADESH SCHEME : CURRENT ACCOUNT-NORMAL\\n', '201301 Curency: INR']\n"
     ]
    }
   ],
   "source": [
    "file = open('bank_data.txt','r')\n",
    "text=file.readlines()\n",
    "print(text)"
   ]
  },
  {
   "cell_type": "code",
   "execution_count": null,
   "id": "74f3c929",
   "metadata": {},
   "outputs": [],
   "source": []
  },
  {
   "cell_type": "code",
   "execution_count": 61,
   "id": "6c2e5fef",
   "metadata": {},
   "outputs": [
    {
     "name": "stdout",
     "output_type": "stream",
     "text": [
      "Anand Electricals\n",
      "Joint holder :- \n",
      "SHOP NO 01 BABA MARKET HAROLA\n",
      "SECTOR 05\n",
      "NOIDA Customer No:-74125863\n",
      "UTTAR PRADESH SCHEME : CURRENT ACCOUNT-NORMAL\n",
      "201301 Curency: INR\n",
      "\n",
      "anand electricals\n",
      "joint holder :- \n",
      "shop no 01 baba market harola\n",
      "sector 05\n",
      "noida customer no:-74125863\n",
      "uttar pradesh scheme : current account-normal\n",
      "201301 curency: inr\n"
     ]
    }
   ],
   "source": [
    "file = open('bank_data.txt','r')\n",
    "text = file.read()\n",
    "print(text)\n",
    "file.close()\n",
    "print()\n",
    "\n",
    "file = open('bank_data.txt','w')\n",
    "text =text.lower()\n",
    "file.write(text)\n",
    "file.close()\n",
    "print(text)"
   ]
  },
  {
   "cell_type": "markdown",
   "id": "f56233ee",
   "metadata": {},
   "source": [
    "### with Statement"
   ]
  },
  {
   "cell_type": "code",
   "execution_count": null,
   "id": "6fee0ffd",
   "metadata": {},
   "outputs": [],
   "source": [
    "no need to use close() function\n",
    "File will be closed automatically"
   ]
  },
  {
   "cell_type": "code",
   "execution_count": 62,
   "id": "b17e1d94",
   "metadata": {},
   "outputs": [],
   "source": [
    "file = open('xyz.txt','w')\n",
    "file.write('Testing With Statement')\n",
    "file.close()"
   ]
  },
  {
   "cell_type": "code",
   "execution_count": 63,
   "id": "c09b4824",
   "metadata": {},
   "outputs": [],
   "source": [
    "with open('xyz.txt','w') as file:\n",
    "    file.write('With statement')"
   ]
  },
  {
   "cell_type": "code",
   "execution_count": 64,
   "id": "26dbf50c",
   "metadata": {},
   "outputs": [],
   "source": [
    "with open('xyz.txt','a') as file:\n",
    "    file.write('\\nPython')"
   ]
  },
  {
   "cell_type": "code",
   "execution_count": 65,
   "id": "af063029",
   "metadata": {},
   "outputs": [
    {
     "name": "stdout",
     "output_type": "stream",
     "text": [
      "With statement\n",
      "Python\n"
     ]
    }
   ],
   "source": [
    "with open('xyz.txt','r') as f:\n",
    "    text=f.read()\n",
    "    print(text)"
   ]
  },
  {
   "cell_type": "code",
   "execution_count": 66,
   "id": "8630dd52",
   "metadata": {},
   "outputs": [
    {
     "ename": "ValueError",
     "evalue": "I/O operation on closed file.",
     "output_type": "error",
     "traceback": [
      "\u001b[1;31m---------------------------------------------------------------------------\u001b[0m",
      "\u001b[1;31mValueError\u001b[0m                                Traceback (most recent call last)",
      "\u001b[1;32m<ipython-input-66-e1c25175a553>\u001b[0m in \u001b[0;36m<module>\u001b[1;34m\u001b[0m\n\u001b[0;32m      1\u001b[0m \u001b[1;32mwith\u001b[0m \u001b[0mopen\u001b[0m\u001b[1;33m(\u001b[0m\u001b[1;34m'abc.txt'\u001b[0m\u001b[1;33m,\u001b[0m\u001b[1;34m'w'\u001b[0m\u001b[1;33m)\u001b[0m \u001b[1;32mas\u001b[0m \u001b[0mfile\u001b[0m\u001b[1;33m:\u001b[0m\u001b[1;33m\u001b[0m\u001b[1;33m\u001b[0m\u001b[0m\n\u001b[0;32m      2\u001b[0m     \u001b[0mfile\u001b[0m\u001b[1;33m.\u001b[0m\u001b[0mwrite\u001b[0m\u001b[1;33m(\u001b[0m\u001b[1;34m'With statement'\u001b[0m\u001b[1;33m)\u001b[0m\u001b[1;33m\u001b[0m\u001b[1;33m\u001b[0m\u001b[0m\n\u001b[1;32m----> 3\u001b[1;33m \u001b[0mfile\u001b[0m\u001b[1;33m.\u001b[0m\u001b[0mwrite\u001b[0m\u001b[1;33m(\u001b[0m\u001b[1;34m'\\nPYTHON'\u001b[0m\u001b[1;33m)\u001b[0m\u001b[1;33m\u001b[0m\u001b[1;33m\u001b[0m\u001b[0m\n\u001b[0m",
      "\u001b[1;31mValueError\u001b[0m: I/O operation on closed file."
     ]
    }
   ],
   "source": [
    "with open('abc.txt','w') as file:\n",
    "    file.write('With statement')\n",
    "file.write('\\nPYTHON')"
   ]
  },
  {
   "cell_type": "code",
   "execution_count": 67,
   "id": "d8a63516",
   "metadata": {},
   "outputs": [],
   "source": [
    "with open('abc.txt','w') as file:\n",
    "    file.write('With statement')\n",
    "    file.write('\\nPYTHON')"
   ]
  },
  {
   "cell_type": "code",
   "execution_count": 68,
   "id": "5d025640",
   "metadata": {},
   "outputs": [
    {
     "name": "stdout",
     "output_type": "stream",
     "text": [
      "Machine learning is the study of computer algorithms that can improve automatically\n",
      "through experience and by the use of data. It is seen as a part of artificial intelligence.\n",
      "\n",
      "Data science is an interdisciplinary field that uses scientific methods, processes,\n",
      "algorithms and systems to extract knowledge and insights from noisy, structured and unstructured data,\n",
      "and apply knowledge and actionable insights from data across a broad range of application domains. \n"
     ]
    }
   ],
   "source": [
    "with open('ml.txt','r') as f:\n",
    "    text=f.read()\n",
    "    print(text)"
   ]
  },
  {
   "cell_type": "code",
   "execution_count": 69,
   "id": "3073b8a2",
   "metadata": {},
   "outputs": [
    {
     "name": "stdout",
     "output_type": "stream",
     "text": [
      "Machine learning is the study of computer algorithms that can improve automatically\n",
      "\n"
     ]
    }
   ],
   "source": [
    "with open('ml.txt','r') as f:\n",
    "    text=f.readline()\n",
    "    print(text)"
   ]
  },
  {
   "cell_type": "code",
   "execution_count": 70,
   "id": "3d903549",
   "metadata": {},
   "outputs": [
    {
     "name": "stdout",
     "output_type": "stream",
     "text": [
      "['Machine learning is the study of computer algorithms that can improve automatically\\n', 'through experience and by the use of data. It is seen as a part of artificial intelligence.\\n', '\\n', 'Data science is an interdisciplinary field that uses scientific methods, processes,\\n', 'algorithms and systems to extract knowledge and insights from noisy, structured and unstructured data,\\n', 'and apply knowledge and actionable insights from data across a broad range of application domains. ']\n"
     ]
    }
   ],
   "source": [
    "with open('ml.txt','r') as f:\n",
    "    text=f.readlines()\n",
    "    print(text)"
   ]
  },
  {
   "cell_type": "code",
   "execution_count": null,
   "id": "e512a14b",
   "metadata": {},
   "outputs": [],
   "source": []
  },
  {
   "cell_type": "code",
   "execution_count": 71,
   "id": "8ecdffef",
   "metadata": {},
   "outputs": [],
   "source": [
    "text ='''Anand Electricals\n",
    "Joint holder :- \n",
    "\n",
    "    SHOP NO 01 BABA MARKET HAROLA\n",
    "SECTOR 05\n",
    "\n",
    "    NOIDA Customer No:-74125863\n",
    "    \n",
    "        UTTAR PRADESH SCHEME : CURRENT ACCOUNT-NORMAL\n",
    "201301 Curency: INR'''\n",
    "\n",
    "with open('customer_data.txt','w') as f:\n",
    "    f.write(text)"
   ]
  },
  {
   "cell_type": "markdown",
   "id": "13211100",
   "metadata": {},
   "source": [
    "### Remove unwanted data from text file"
   ]
  },
  {
   "cell_type": "code",
   "execution_count": 1,
   "id": "736e5994",
   "metadata": {},
   "outputs": [
    {
     "name": "stdout",
     "output_type": "stream",
     "text": [
      "['Anand Electricals\\n', 'Joint holder :-\\n', 'SHOP NO 01 BABA MARKET HAROLA\\n', 'SECTOR 05\\n', 'NOIDA Customer No:-74125863\\n', 'UTTAR PRADESH SCHEME : CURRENT ACCOUNT-NORMAL\\n', '201301 Curency: INR']\n"
     ]
    }
   ],
   "source": [
    "with open('customer_data.txt') as f:\n",
    "    text_list = f.readlines()\n",
    "    print(text_list)"
   ]
  },
  {
   "cell_type": "code",
   "execution_count": 78,
   "id": "1a771a79",
   "metadata": {
    "scrolled": true
   },
   "outputs": [
    {
     "name": "stdout",
     "output_type": "stream",
     "text": [
      "Anand Electricals\n",
      "Joint holder :-\n",
      "SHOP NO 01 BABA MARKET HAROLA\n",
      "SECTOR 05\n",
      "NOIDA Customer No:-74125863\n",
      "UTTAR PRADESH SCHEME : CURRENT ACCOUNT-NORMAL\n",
      "201301 Curency: INR\n"
     ]
    }
   ],
   "source": [
    "new_text_list=[]\n",
    "for line in text_list:\n",
    "    if line.isspace():\n",
    "        continue\n",
    "    line = line.strip()\n",
    "    new_text_list.append(line)\n",
    "new_text_list\n",
    "text = '\\n'.join(new_text_list)\n",
    "print(text)\n",
    "\n",
    "with open('customer_data.txt','w') as f:\n",
    "    f.write(text)"
   ]
  },
  {
   "cell_type": "markdown",
   "id": "df8f1c2d",
   "metadata": {},
   "source": [
    "### JSON Files"
   ]
  },
  {
   "cell_type": "code",
   "execution_count": 79,
   "id": "e7a0e10f",
   "metadata": {},
   "outputs": [],
   "source": [
    "dict1 = {'Name':'Dhoni','Age':39}"
   ]
  },
  {
   "cell_type": "code",
   "execution_count": 80,
   "id": "c586a714",
   "metadata": {},
   "outputs": [],
   "source": [
    "import json\n",
    "with open('player_details.json','w') as f:\n",
    "    json.dump(dict1, f)"
   ]
  },
  {
   "cell_type": "code",
   "execution_count": 81,
   "id": "3b03dc34",
   "metadata": {},
   "outputs": [
    {
     "name": "stdout",
     "output_type": "stream",
     "text": [
      "{'Name': 'Dhoni', 'Age': 39}\n"
     ]
    }
   ],
   "source": [
    "with open('player_details.json') as f:\n",
    "    data=json.load(f)\n",
    "    print(data)"
   ]
  },
  {
   "cell_type": "code",
   "execution_count": null,
   "id": "0208b938",
   "metadata": {},
   "outputs": [],
   "source": []
  },
  {
   "cell_type": "code",
   "execution_count": null,
   "id": "445ca8ea",
   "metadata": {},
   "outputs": [],
   "source": [
    "'x' >> mode\n",
    "if file exist, gives an error\n",
    "if file not exist , creates ne file\n"
   ]
  },
  {
   "cell_type": "code",
   "execution_count": 82,
   "id": "5678cb30",
   "metadata": {},
   "outputs": [],
   "source": [
    "with open('sample1.txt','w') as file:\n",
    "    file.write('Hey siri')"
   ]
  },
  {
   "cell_type": "code",
   "execution_count": 83,
   "id": "b9cbbe78",
   "metadata": {},
   "outputs": [
    {
     "ename": "FileExistsError",
     "evalue": "[Errno 17] File exists: 'sample1.txt'",
     "output_type": "error",
     "traceback": [
      "\u001b[1;31m---------------------------------------------------------------------------\u001b[0m",
      "\u001b[1;31mFileExistsError\u001b[0m                           Traceback (most recent call last)",
      "\u001b[1;32m<ipython-input-83-a8b37da5bdec>\u001b[0m in \u001b[0;36m<module>\u001b[1;34m\u001b[0m\n\u001b[1;32m----> 1\u001b[1;33m \u001b[1;32mwith\u001b[0m \u001b[0mopen\u001b[0m\u001b[1;33m(\u001b[0m\u001b[1;34m'sample1.txt'\u001b[0m\u001b[1;33m,\u001b[0m\u001b[1;34m'x'\u001b[0m\u001b[1;33m)\u001b[0m\u001b[1;32mas\u001b[0m \u001b[0mfile\u001b[0m\u001b[1;33m:\u001b[0m\u001b[1;33m\u001b[0m\u001b[1;33m\u001b[0m\u001b[0m\n\u001b[0m\u001b[0;32m      2\u001b[0m     \u001b[0mfile\u001b[0m\u001b[1;33m.\u001b[0m\u001b[0mwrite\u001b[0m\u001b[1;33m(\u001b[0m\u001b[1;34m'Hey Alexa'\u001b[0m\u001b[1;33m)\u001b[0m\u001b[1;33m\u001b[0m\u001b[1;33m\u001b[0m\u001b[0m\n\u001b[0;32m      3\u001b[0m \u001b[1;33m\u001b[0m\u001b[0m\n",
      "\u001b[1;31mFileExistsError\u001b[0m: [Errno 17] File exists: 'sample1.txt'"
     ]
    }
   ],
   "source": [
    "with open('sample1.txt','x')as file:\n",
    "    file.write('Hey Alexa')\n",
    "    "
   ]
  },
  {
   "cell_type": "code",
   "execution_count": 84,
   "id": "3ede88be",
   "metadata": {},
   "outputs": [],
   "source": [
    "with open('sample2.txt','x')as file:\n",
    "    file.write('Hey Alexa')\n",
    "    "
   ]
  },
  {
   "cell_type": "code",
   "execution_count": null,
   "id": "cd6a422f",
   "metadata": {},
   "outputs": [],
   "source": []
  },
  {
   "cell_type": "code",
   "execution_count": 86,
   "id": "a9a75708",
   "metadata": {},
   "outputs": [],
   "source": [
    "data = {'column_names':['Age','weight','Height']}\n",
    "with open('variable_names.json','w') as f:\n",
    "    json.dump(data, f)"
   ]
  },
  {
   "cell_type": "code",
   "execution_count": null,
   "id": "a5494e50",
   "metadata": {},
   "outputs": [],
   "source": []
  }
 ],
 "metadata": {
  "kernelspec": {
   "display_name": "Python 3 (ipykernel)",
   "language": "python",
   "name": "python3"
  },
  "language_info": {
   "codemirror_mode": {
    "name": "ipython",
    "version": 3
   },
   "file_extension": ".py",
   "mimetype": "text/x-python",
   "name": "python",
   "nbconvert_exporter": "python",
   "pygments_lexer": "ipython3",
   "version": "3.9.7"
  }
 },
 "nbformat": 4,
 "nbformat_minor": 5
}
