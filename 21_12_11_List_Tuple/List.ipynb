{
 "cells": [
  {
   "cell_type": "markdown",
   "id": "ae927226",
   "metadata": {},
   "source": [
    "### List Comprehension"
   ]
  },
  {
   "cell_type": "code",
   "execution_count": 5,
   "id": "cf9fdcb6",
   "metadata": {},
   "outputs": [
    {
     "name": "stdout",
     "output_type": "stream",
     "text": [
      "[4]\n",
      "[4, 9]\n",
      "[4, 9, 16]\n",
      "[4, 9, 16, 25]\n",
      "[4, 9, 16, 25, 36]\n"
     ]
    }
   ],
   "source": [
    "num= [2,3,4,5,6]\n",
    "sqlst=[]\n",
    "for i in num:\n",
    "    sqr=i**2\n",
    "    sqlst.append(sqr)\n",
    "    print(sqlst)\n"
   ]
  },
  {
   "cell_type": "code",
   "execution_count": 2,
   "id": "6cf9b7af",
   "metadata": {},
   "outputs": [
    {
     "name": "stdout",
     "output_type": "stream",
     "text": [
      "[4, 9, 16, 25, 36]\n"
     ]
    }
   ],
   "source": [
    "num= [2,3,4,5,6]\n",
    "sqlst=[]\n",
    "for i in num:\n",
    "#     sqr=i**2\n",
    "    sqlst.append(i**2)\n",
    "    \n",
    "print(sqlst)"
   ]
  },
  {
   "cell_type": "code",
   "execution_count": 6,
   "id": "13888d3b",
   "metadata": {},
   "outputs": [
    {
     "name": "stdout",
     "output_type": "stream",
     "text": [
      "['PHY']\n",
      "['PHY', 'CHE']\n",
      "['PHY', 'CHE', 'MATH']\n",
      "['PHY', 'CHE', 'MATH', 'BIO']\n",
      "['PHY', 'CHE', 'MATH', 'BIO', 'ENG']\n"
     ]
    }
   ],
   "source": [
    "sub_names = ['Phy' ,'Che','Math','Bio','Eng']\n",
    "sub_upper=[]\n",
    "for sub in sub_names:\n",
    "    sub_upper.append(sub.upper())\n",
    "    print(sub_upper)"
   ]
  },
  {
   "cell_type": "code",
   "execution_count": 9,
   "id": "58bd68e8",
   "metadata": {},
   "outputs": [
    {
     "name": "stdout",
     "output_type": "stream",
     "text": [
      "[1]\n",
      "[1, 8]\n",
      "[1, 8, 27]\n",
      "[1, 8, 27, 64]\n",
      "[1, 8, 27, 64, 125]\n",
      "[1, 8, 27, 64, 125, 216]\n",
      "[1, 8, 27, 64, 125, 216, 343]\n",
      "[1, 8, 27, 64, 125, 216, 343, 512]\n",
      "[1, 8, 27, 64, 125, 216, 343, 512, 729]\n",
      "[1, 8, 27, 64, 125, 216, 343, 512, 729, 1000]\n"
     ]
    }
   ],
   "source": [
    "# Cube of 1 to 10\n",
    "cube_list=[]\n",
    "for i in range(1,11):\n",
    "    cube_list.append(i**3)\n",
    "    print(cube_list)"
   ]
  },
  {
   "cell_type": "code",
   "execution_count": 10,
   "id": "b23f194a",
   "metadata": {},
   "outputs": [
    {
     "name": "stdout",
     "output_type": "stream",
     "text": [
      "[441]\n",
      "[441, 484]\n",
      "[441, 484, 529]\n",
      "[441, 484, 529, 576]\n",
      "[441, 484, 529, 576, 625]\n",
      "[441, 484, 529, 576, 625, 676]\n",
      "[441, 484, 529, 576, 625, 676, 729]\n",
      "[441, 484, 529, 576, 625, 676, 729, 784]\n",
      "[441, 484, 529, 576, 625, 676, 729, 784, 841]\n",
      "[441, 484, 529, 576, 625, 676, 729, 784, 841, 900]\n"
     ]
    }
   ],
   "source": [
    "# square of 21 to 30\n",
    "sqr_list=[]\n",
    "for i in range(21,31):\n",
    "    sqr_list.append(i**2)\n",
    "    print(sqr_list)"
   ]
  },
  {
   "cell_type": "code",
   "execution_count": 11,
   "id": "d84931a2",
   "metadata": {},
   "outputs": [
    {
     "name": "stdout",
     "output_type": "stream",
     "text": [
      "[144]\n",
      "[144, 196]\n",
      "[144, 196, 256]\n",
      "[144, 196, 256, 324]\n",
      "[144, 196, 256, 324, 400]\n"
     ]
    }
   ],
   "source": [
    "# square of 11 to 20\n",
    "sqr_list=[]\n",
    "for i in range(11,21):\n",
    "    if i%2==0:\n",
    "        sqr_list.append(i**2)\n",
    "        print(sqr_list)"
   ]
  },
  {
   "cell_type": "code",
   "execution_count": 13,
   "id": "05c5b2e8",
   "metadata": {},
   "outputs": [
    {
     "name": "stdout",
     "output_type": "stream",
     "text": [
      "[144, 196, 256, 324, 400]\n",
      "[121, 169, 225, 289, 361]\n"
     ]
    }
   ],
   "source": [
    "# square of 11 to 20\n",
    "even_list=[]\n",
    "odd_list=[]\n",
    "for i in range(11,21):\n",
    "    if i%2==0:\n",
    "        even_list.append(i**2)\n",
    "        \n",
    "    else:\n",
    "        odd_list.append(i**2)\n",
    "print(even_list)\n",
    "print(odd_list)"
   ]
  },
  {
   "cell_type": "code",
   "execution_count": null,
   "id": "31b0b223",
   "metadata": {},
   "outputs": [],
   "source": [
    "updated_list= [expression for i in list1 if condtion== True]"
   ]
  },
  {
   "cell_type": "code",
   "execution_count": 15,
   "id": "7f85aeaa",
   "metadata": {},
   "outputs": [
    {
     "data": {
      "text/plain": [
       "[1, 4, 9, 16, 25, 36, 49, 64, 81]"
      ]
     },
     "execution_count": 15,
     "metadata": {},
     "output_type": "execute_result"
    }
   ],
   "source": [
    "num=[1,2,3,4,5,6,7,8,9]\n",
    "sqr_list=[i**2 for i in num]\n",
    "sqr_list"
   ]
  },
  {
   "cell_type": "code",
   "execution_count": 16,
   "id": "60bd0cfd",
   "metadata": {},
   "outputs": [
    {
     "data": {
      "text/plain": [
       "[4, 16, 36, 64]"
      ]
     },
     "execution_count": 16,
     "metadata": {},
     "output_type": "execute_result"
    }
   ],
   "source": [
    "num=[1,2,3,4,5,6,7,8,9]\n",
    "sqr_list=[i**2 for i in num if i%2==0]\n",
    "sqr_list"
   ]
  },
  {
   "cell_type": "code",
   "execution_count": 17,
   "id": "6e9dd5be",
   "metadata": {},
   "outputs": [
    {
     "name": "stdout",
     "output_type": "stream",
     "text": [
      "['PHY']\n",
      "['PHY', 'CHE']\n",
      "['PHY', 'CHE', 'MATH']\n",
      "['PHY', 'CHE', 'MATH', 'BIO']\n",
      "['PHY', 'CHE', 'MATH', 'BIO', 'ENG']\n"
     ]
    }
   ],
   "source": [
    "sub_names = ['Phy' ,'Che','Math','Bio','Eng']\n",
    "sub_upper=[]\n",
    "for sub in sub_names:\n",
    "    sub_upper.append(sub.upper())\n",
    "    print(sub_upper)"
   ]
  },
  {
   "cell_type": "code",
   "execution_count": 18,
   "id": "803d4526",
   "metadata": {},
   "outputs": [
    {
     "data": {
      "text/plain": [
       "['PHY', 'CHE', 'MATH', 'BIO', 'ENG']"
      ]
     },
     "execution_count": 18,
     "metadata": {},
     "output_type": "execute_result"
    }
   ],
   "source": [
    "sub_names = ['Phy' ,'Che','Math','Bio','Eng']\n",
    "sub_upper=[sub.upper() for sub in sub_names]\n",
    "sub_upper"
   ]
  },
  {
   "cell_type": "code",
   "execution_count": 19,
   "id": "262d2016",
   "metadata": {},
   "outputs": [
    {
     "data": {
      "text/plain": [
       "[1, 27, 125, 343, 729]"
      ]
     },
     "execution_count": 19,
     "metadata": {},
     "output_type": "execute_result"
    }
   ],
   "source": [
    "num=[1,2,3,4,5,6,7,8,9]\n",
    "odd_cb_list=[i**3 for i in num if i%2!=0]\n",
    "odd_cb_list"
   ]
  },
  {
   "cell_type": "markdown",
   "id": "08011880",
   "metadata": {},
   "source": [
    "### copy function"
   ]
  },
  {
   "cell_type": "code",
   "execution_count": 22,
   "id": "f963a41f",
   "metadata": {},
   "outputs": [
    {
     "name": "stdout",
     "output_type": "stream",
     "text": [
      "[2, 3, 4, 5, 6, 100]\n",
      "[2, 3, 4, 5, 6, 100]\n"
     ]
    }
   ],
   "source": [
    "list1=[2,3,4,5,6]\n",
    "\n",
    "list2=list1\n",
    "list2.append(100)\n",
    "\n",
    "print(list1)\n",
    "print(list2)"
   ]
  },
  {
   "cell_type": "code",
   "execution_count": 23,
   "id": "733445e5",
   "metadata": {},
   "outputs": [
    {
     "name": "stdout",
     "output_type": "stream",
     "text": [
      "[2, 3, 4, 5, 6]\n",
      "[2, 3, 4, 5, 6, 100]\n"
     ]
    }
   ],
   "source": [
    "list1=[2,3,4,5,6]\n",
    "\n",
    "list2=list1.copy()\n",
    "list2.append(100)\n",
    "\n",
    "print(list1)\n",
    "print(list2)"
   ]
  },
  {
   "cell_type": "code",
   "execution_count": 24,
   "id": "28e3f202",
   "metadata": {},
   "outputs": [
    {
     "name": "stdout",
     "output_type": "stream",
     "text": [
      "[2, 3, 100, 5, 6]\n",
      "[2, 3, 100, 5, 6]\n"
     ]
    }
   ],
   "source": [
    "list1=[2,3,4,5,6]\n",
    "\n",
    "list2=list1\n",
    "list1[2]=100\n",
    "\n",
    "print(list1)\n",
    "print(list2)"
   ]
  },
  {
   "cell_type": "code",
   "execution_count": 25,
   "id": "484232a5",
   "metadata": {},
   "outputs": [
    {
     "name": "stdout",
     "output_type": "stream",
     "text": [
      "[2, 3, 100, 5, 6]\n",
      "[2, 3, 4, 5, 6]\n"
     ]
    }
   ],
   "source": [
    "list1=[2,3,4,5,6]\n",
    "\n",
    "list2=list1.copy() # shallow copy\n",
    "list1[2]=100\n",
    "\n",
    "print(list1)\n",
    "print(list2)"
   ]
  },
  {
   "cell_type": "markdown",
   "id": "3bd7fc71",
   "metadata": {},
   "source": [
    "### Nested List"
   ]
  },
  {
   "cell_type": "code",
   "execution_count": 26,
   "id": "0f17be9d",
   "metadata": {},
   "outputs": [
    {
     "data": {
      "text/plain": [
       "4"
      ]
     },
     "execution_count": 26,
     "metadata": {},
     "output_type": "execute_result"
    }
   ],
   "source": [
    "list1= [[2,3],[3,4],[4,5],[5,6]]\n",
    "list1[1][1]"
   ]
  },
  {
   "cell_type": "code",
   "execution_count": 27,
   "id": "534270a4",
   "metadata": {},
   "outputs": [
    {
     "name": "stdout",
     "output_type": "stream",
     "text": [
      "[2, 3]\n",
      "[3, 4]\n",
      "[4, 5]\n",
      "[5, 6]\n"
     ]
    }
   ],
   "source": [
    "list1= [[2,3],[3,4],[4,5],[5,6]]\n",
    "for i in list1:\n",
    "    print(i)"
   ]
  },
  {
   "cell_type": "code",
   "execution_count": 29,
   "id": "e5f509a5",
   "metadata": {},
   "outputs": [
    {
     "name": "stdout",
     "output_type": "stream",
     "text": [
      "[[2, 3], [3, 'Python'], [4, 5], [5, 6]]\n"
     ]
    }
   ],
   "source": [
    "list1= [[2,3],[3,4],[4,5],[5,6]]\n",
    "list1[1][1]='Python'\n",
    "print(list1)"
   ]
  },
  {
   "cell_type": "code",
   "execution_count": 30,
   "id": "a35568a2",
   "metadata": {},
   "outputs": [
    {
     "name": "stdout",
     "output_type": "stream",
     "text": [
      "[[2, 3], [3, 'Python'], [4, 5], [5, 6]]\n",
      "[[2, 3], [3, 'Python'], [4, 5], [5, 6]]\n"
     ]
    }
   ],
   "source": [
    "list1= [[2,3],[3,4],[4,5],[5,6]]\n",
    "\n",
    "list2=list1.copy() # shallow copy\n",
    "list1[1][1]='Python'\n",
    "\n",
    "print(list1)\n",
    "print(list2)"
   ]
  },
  {
   "cell_type": "markdown",
   "id": "2cf27d17",
   "metadata": {},
   "source": [
    "### deepcopy()"
   ]
  },
  {
   "cell_type": "code",
   "execution_count": 32,
   "id": "ae676297",
   "metadata": {},
   "outputs": [
    {
     "name": "stdout",
     "output_type": "stream",
     "text": [
      "[[2, 3], [3, 4], [4, 5], [5, 6]]\n",
      "[[2, 3], [3, 4], [4, 5], [5, 6]]\n",
      "\n",
      "[[2, 3], [3, 'Python'], [4, 5], [5, 6]]\n",
      "[[2, 3], [3, 4], [4, 5], [5, 6]]\n"
     ]
    }
   ],
   "source": [
    "import copy\n",
    "list1= [[2,3],[3,4],[4,5],[5,6]]\n",
    "list2= copy.deepcopy(list1) # deep copy\n",
    "print(list1)\n",
    "print(list2)\n",
    "print()\n",
    "list1[1][1]='Python'\n",
    "\n",
    "print(list1)\n",
    "print(list2)"
   ]
  },
  {
   "cell_type": "code",
   "execution_count": null,
   "id": "bc08950f",
   "metadata": {},
   "outputs": [],
   "source": []
  },
  {
   "cell_type": "code",
   "execution_count": null,
   "id": "d012a142",
   "metadata": {},
   "outputs": [],
   "source": []
  },
  {
   "cell_type": "code",
   "execution_count": null,
   "id": "2332bb12",
   "metadata": {},
   "outputs": [],
   "source": []
  },
  {
   "cell_type": "code",
   "execution_count": null,
   "id": "3949c858",
   "metadata": {},
   "outputs": [],
   "source": []
  },
  {
   "cell_type": "code",
   "execution_count": null,
   "id": "81a2c879",
   "metadata": {},
   "outputs": [],
   "source": []
  },
  {
   "cell_type": "code",
   "execution_count": null,
   "id": "218642e7",
   "metadata": {},
   "outputs": [],
   "source": []
  },
  {
   "cell_type": "code",
   "execution_count": null,
   "id": "cab7ffa2",
   "metadata": {},
   "outputs": [],
   "source": []
  },
  {
   "cell_type": "code",
   "execution_count": null,
   "id": "391aeb24",
   "metadata": {},
   "outputs": [],
   "source": []
  },
  {
   "cell_type": "code",
   "execution_count": null,
   "id": "1c65229d",
   "metadata": {},
   "outputs": [],
   "source": []
  }
 ],
 "metadata": {
  "kernelspec": {
   "display_name": "Python 3 (ipykernel)",
   "language": "python",
   "name": "python3"
  },
  "language_info": {
   "codemirror_mode": {
    "name": "ipython",
    "version": 3
   },
   "file_extension": ".py",
   "mimetype": "text/x-python",
   "name": "python",
   "nbconvert_exporter": "python",
   "pygments_lexer": "ipython3",
   "version": "3.9.7"
  }
 },
 "nbformat": 4,
 "nbformat_minor": 5
}
