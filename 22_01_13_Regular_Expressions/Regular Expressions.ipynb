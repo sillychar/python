{
 "cells": [
  {
   "cell_type": "code",
   "execution_count": null,
   "id": "d076fb31",
   "metadata": {},
   "outputs": [],
   "source": [
    "Special Sequences >> Pre defined characters\n",
    "Characters with Special Meaning >> Qunatifiers >> Metacharacters"
   ]
  },
  {
   "cell_type": "markdown",
   "id": "bf239f58",
   "metadata": {},
   "source": [
    "## Characters with Special Meaning"
   ]
  },
  {
   "cell_type": "markdown",
   "id": "895e8b0c",
   "metadata": {},
   "source": [
    "### 1. (+)plus"
   ]
  },
  {
   "cell_type": "code",
   "execution_count": null,
   "id": "219f15c4",
   "metadata": {},
   "outputs": [],
   "source": [
    "+ >> one or more occurrences"
   ]
  },
  {
   "cell_type": "code",
   "execution_count": 2,
   "id": "168d38aa",
   "metadata": {},
   "outputs": [],
   "source": [
    "import re"
   ]
  },
  {
   "cell_type": "code",
   "execution_count": 3,
   "id": "6d302ec8",
   "metadata": {},
   "outputs": [
    {
     "data": {
      "text/plain": [
       "'        Data science          is an interdisciplinary field that uses       scientific methods,\\nprocesses,          algorithms and systems to extract knowledge    and insights from noisy,  123456 456 345 678 \\nstructured and            @#$%^&*         unstructured data, and apply knowledge        and actionable insights from\\ndata across a broad         range of application domains.'"
      ]
     },
     "execution_count": 3,
     "metadata": {},
     "output_type": "execute_result"
    }
   ],
   "source": [
    "text = '''        Data science          is an interdisciplinary field that uses       scientific methods,\n",
    "processes,          algorithms and systems to extract knowledge    and insights from noisy,  123456 456 345 678 \n",
    "structured and            @#$%^&*         unstructured data, and apply knowledge        and actionable insights from\n",
    "data across a broad         range of application domains.'''\n",
    "\n",
    "text = re.sub('[ ]',' ', text )\n",
    "text"
   ]
  },
  {
   "cell_type": "code",
   "execution_count": 4,
   "id": "c46b0356",
   "metadata": {},
   "outputs": [
    {
     "data": {
      "text/plain": [
       "' Data science is an interdisciplinary field that uses scientific methods,\\nprocesses, algorithms and systems to extract knowledge and insights from noisy, 123456 456 345 678 \\nstructured and @#$%^&* unstructured data, and apply knowledge and actionable insights from\\ndata across a broad range of application domains.'"
      ]
     },
     "execution_count": 4,
     "metadata": {},
     "output_type": "execute_result"
    }
   ],
   "source": [
    "text = '''        Data science          is an interdisciplinary field that uses       scientific methods,\n",
    "processes,          algorithms and systems to extract knowledge    and insights from noisy,  123456 456 345 678 \n",
    "structured and            @#$%^&*         unstructured data, and apply knowledge        and actionable insights from\n",
    "data across a broad         range of application domains.'''\n",
    "\n",
    "text = re.sub('[ ]+',' ', text )\n",
    "text"
   ]
  },
  {
   "cell_type": "code",
   "execution_count": 9,
   "id": "377e540c",
   "metadata": {},
   "outputs": [
    {
     "name": "stdout",
     "output_type": "stream",
     "text": [
      "['        ', ' ', '          ', ' ', ' ', ' ', ' ', ' ', '       ', ' ', '\\n', '          ', ' ', ' ', ' ', ' ', ' ', '    ', ' ', ' ', ' ', '  ', ' ', ' ', ' ', ' \\n', ' ', '            ', '         ', ' ', ' ', ' ', ' ', '        ', ' ', ' ', ' ', '\\n', ' ', ' ', ' ', '         ', ' ', ' ', ' ']\n"
     ]
    }
   ],
   "source": [
    "text = '''        Data science          is an interdisciplinary field that uses       scientific methods,\n",
    "processes,          algorithms and systems to extract knowledge    and insights from noisy,  123456 456 345 678 \n",
    "structured and            @#$%^&*         unstructured data, and apply knowledge        and actionable insights from\n",
    "data across a broad         range of application domains.'''\n",
    "\n",
    "text = re.findall('\\s+', text)\n",
    "print(text)"
   ]
  },
  {
   "cell_type": "code",
   "execution_count": 11,
   "id": "b3dfd84b",
   "metadata": {},
   "outputs": [
    {
     "name": "stdout",
     "output_type": "stream",
     "text": [
      "['pyt', 'pyt', 'pyt', 'pyt'] 4\n"
     ]
    }
   ],
   "source": [
    "string = 'python and Data Science pythonnn pytthon pyttttthon'\n",
    "\n",
    "text = re.findall('pyt', string)\n",
    "print(text ,len(text))"
   ]
  },
  {
   "cell_type": "code",
   "execution_count": 12,
   "id": "c0ee2d6a",
   "metadata": {},
   "outputs": [
    {
     "name": "stdout",
     "output_type": "stream",
     "text": [
      "['pyt', 'pyt', 'pytt', 'pyttttt'] 4\n"
     ]
    }
   ],
   "source": [
    "string = 'python and Data Science pythonnn pytthon pyttttthon'\n",
    "\n",
    "text = re.findall('pyt+', string)\n",
    "print(text ,len(text))"
   ]
  },
  {
   "cell_type": "code",
   "execution_count": 13,
   "id": "e8dad8c5",
   "metadata": {},
   "outputs": [
    {
     "name": "stdout",
     "output_type": "stream",
     "text": [
      "python and Data Science pythonnn pytthon pyttttthon 51\n"
     ]
    }
   ],
   "source": [
    "string = 'python and Data Science pythonnn      pytthon pyttttthon'\n",
    "\n",
    "text = re.sub('\\s+',' ', string)\n",
    "print(text ,len(text))"
   ]
  },
  {
   "cell_type": "code",
   "execution_count": 14,
   "id": "2335aa0f",
   "metadata": {},
   "outputs": [
    {
     "name": "stdout",
     "output_type": "stream",
     "text": [
      "[' ', ' ', ' ', ' ', '       ', ' '] 6\n"
     ]
    }
   ],
   "source": [
    "string = 'python and Data Science pythonnn       pytthon pyttttthon'\n",
    "\n",
    "text = re.findall('\\s+', string)\n",
    "print(text ,len(text))"
   ]
  },
  {
   "cell_type": "markdown",
   "id": "f14c3684",
   "metadata": {},
   "source": [
    "### 2. *"
   ]
  },
  {
   "cell_type": "code",
   "execution_count": null,
   "id": "9d7b589d",
   "metadata": {},
   "outputs": [],
   "source": [
    "* >> Zero or more Occurrences"
   ]
  },
  {
   "cell_type": "code",
   "execution_count": 15,
   "id": "5c45f065",
   "metadata": {},
   "outputs": [
    {
     "name": "stdout",
     "output_type": "stream",
     "text": [
      "['pyt', 'pyt', 'pyt'] 3\n"
     ]
    }
   ],
   "source": [
    "string = 'python and Data Science pythonnn pyhon  pyttttthon pyhonnn'\n",
    "\n",
    "text = re.findall('pyt', string)\n",
    "print(text ,len(text))"
   ]
  },
  {
   "cell_type": "code",
   "execution_count": 16,
   "id": "409bb9a4",
   "metadata": {},
   "outputs": [
    {
     "name": "stdout",
     "output_type": "stream",
     "text": [
      "['pyt', 'pyt', 'pyttttt'] 3\n"
     ]
    }
   ],
   "source": [
    "string = 'python and Data Science pythonnn pyhon  pyttttthon pyhonnn'\n",
    "\n",
    "text = re.findall('pyt+', string)\n",
    "print(text ,len(text))"
   ]
  },
  {
   "cell_type": "code",
   "execution_count": 17,
   "id": "8a32b66b",
   "metadata": {},
   "outputs": [
    {
     "name": "stdout",
     "output_type": "stream",
     "text": [
      "['pyt', 'pyt', 'py', 'pyttttt', 'py'] 5\n"
     ]
    }
   ],
   "source": [
    "string = 'python and Data Science pythonnn pyhon  pyttttthon pyhonnn'\n",
    "\n",
    "text = re.findall('pyt*', string)\n",
    "print(text ,len(text))"
   ]
  },
  {
   "cell_type": "code",
   "execution_count": 18,
   "id": "5c248bb3",
   "metadata": {},
   "outputs": [
    {
     "name": "stdout",
     "output_type": "stream",
     "text": [
      "['python', 'python', 'pyhon', 'pyttttthon', 'pyhon'] 5\n"
     ]
    }
   ],
   "source": [
    "string = 'python and Data Science pythonnn pyhon  pyttttthon pyhonnn'\n",
    "\n",
    "text = re.findall('pyt*hon', string)\n",
    "print(text ,len(text)) # py hon"
   ]
  },
  {
   "cell_type": "code",
   "execution_count": 19,
   "id": "13485185",
   "metadata": {},
   "outputs": [
    {
     "name": "stdout",
     "output_type": "stream",
     "text": [
      "['python', 'pythonnn', 'pyhon', 'pyttttthon', 'pyhonnn'] 5\n"
     ]
    }
   ],
   "source": [
    "string = 'python and Data Science pythonnn pyhon  pyttttthon pyhonnn'\n",
    "\n",
    "text = re.findall('pyt*hon*', string)\n",
    "print(text ,len(text))"
   ]
  },
  {
   "cell_type": "code",
   "execution_count": 20,
   "id": "2bbc2585",
   "metadata": {},
   "outputs": [
    {
     "name": "stdout",
     "output_type": "stream",
     "text": [
      "['98765', '12345'] 2\n"
     ]
    }
   ],
   "source": [
    "string = 'python and Data Science pythonnn pyhon  pyttttthon pyhonnn 98765abcde 12345'\n",
    "\n",
    "text = re.findall('[0-9]{5}', string)\n",
    "print(text ,len(text))"
   ]
  },
  {
   "cell_type": "code",
   "execution_count": 22,
   "id": "d72789bc",
   "metadata": {},
   "outputs": [
    {
     "name": "stdout",
     "output_type": "stream",
     "text": [
      "['98765abcde'] 1\n"
     ]
    }
   ],
   "source": [
    "string = 'python and Data Science pythonnn pyhon  pyttttthon pyhonnn 98765abcde 12345'\n",
    "\n",
    "text = re.findall('[0-9]{5}[a-z]+', string)\n",
    "print(text ,len(text))"
   ]
  },
  {
   "cell_type": "code",
   "execution_count": 23,
   "id": "fe8a7d13",
   "metadata": {},
   "outputs": [
    {
     "name": "stdout",
     "output_type": "stream",
     "text": [
      "['98765abcde', '12345'] 2\n"
     ]
    }
   ],
   "source": [
    "string = 'python and Data Science pythonnn pyhon  pyttttthon pyhonnn 98765abcde 12345'\n",
    "\n",
    "text = re.findall('[0-9]{5}[a-z]*', string)\n",
    "print(text ,len(text))"
   ]
  },
  {
   "cell_type": "markdown",
   "id": "217cc0b9",
   "metadata": {},
   "source": [
    "### 3. .(dot)"
   ]
  },
  {
   "cell_type": "code",
   "execution_count": null,
   "id": "6c2937f1",
   "metadata": {},
   "outputs": [],
   "source": [
    ". >> Any Character (Except new line) \\n"
   ]
  },
  {
   "cell_type": "code",
   "execution_count": 25,
   "id": "a0dbfb15",
   "metadata": {},
   "outputs": [
    {
     "name": "stdout",
     "output_type": "stream",
     "text": [
      "['pyth']\n"
     ]
    }
   ],
   "source": [
    "string = 'python and data science'\n",
    "\n",
    "result = re.findall('pyt.',string)\n",
    "print(result)"
   ]
  },
  {
   "cell_type": "code",
   "execution_count": 26,
   "id": "f241bf63",
   "metadata": {},
   "outputs": [
    {
     "name": "stdout",
     "output_type": "stream",
     "text": [
      "['python']\n"
     ]
    }
   ],
   "source": [
    "string = 'python and data science'\n",
    "\n",
    "result = re.findall('pyt...',string)\n",
    "print(result)"
   ]
  },
  {
   "cell_type": "code",
   "execution_count": 30,
   "id": "cf58ad20",
   "metadata": {},
   "outputs": [
    {
     "name": "stdout",
     "output_type": "stream",
     "text": [
      "['python', 'python', 'pyt112']\n"
     ]
    }
   ],
   "source": [
    "string = '''python and data science pyt\n",
    "hon           python pyt112'''\n",
    "\n",
    "result = re.findall('pyt...',string)\n",
    "print(result)"
   ]
  },
  {
   "cell_type": "code",
   "execution_count": 31,
   "id": "e1154626",
   "metadata": {},
   "outputs": [
    {
     "data": {
      "text/plain": [
       "'python and data science pyt\\nhon           python pyt112'"
      ]
     },
     "execution_count": 31,
     "metadata": {},
     "output_type": "execute_result"
    }
   ],
   "source": [
    "string"
   ]
  },
  {
   "cell_type": "code",
   "execution_count": 32,
   "id": "a62553b0",
   "metadata": {},
   "outputs": [
    {
     "name": "stdout",
     "output_type": "stream",
     "text": [
      "['pyt', 'pyt', 'pyt', 'pyt']\n"
     ]
    }
   ],
   "source": [
    "string = '''python and data science pyt\n",
    "hon           python pyt112'''\n",
    "\n",
    "result = re.findall('py.',string)\n",
    "print(result)"
   ]
  },
  {
   "cell_type": "markdown",
   "id": "61bff54a",
   "metadata": {},
   "source": [
    "## 4. ?"
   ]
  },
  {
   "cell_type": "code",
   "execution_count": null,
   "id": "57890250",
   "metadata": {},
   "outputs": [],
   "source": [
    "It matches exactly zero or one char"
   ]
  },
  {
   "cell_type": "code",
   "execution_count": 36,
   "id": "0dcb0ac7",
   "metadata": {},
   "outputs": [
    {
     "name": "stdout",
     "output_type": "stream",
     "text": [
      "['pyt', 'pyt', 'py', 'pyttttt', 'py'] 5\n"
     ]
    }
   ],
   "source": [
    "string = 'python and Data Science pythonnn pyhon  pyttttthon pyhonnn 98765abcde 12345 pthon'\n",
    "\n",
    "text = re.findall('pyt*', string)\n",
    "print(text ,len(text))"
   ]
  },
  {
   "cell_type": "code",
   "execution_count": 37,
   "id": "cdb55d2e",
   "metadata": {},
   "outputs": [
    {
     "name": "stdout",
     "output_type": "stream",
     "text": [
      "['pyt', 'pyt', 'py', 'pyt', 'py'] 5\n"
     ]
    }
   ],
   "source": [
    "string = 'python and Data Science pythonnn pyhon  pyttttthon pyhonnn 98765abcde 12345 pthon'\n",
    "\n",
    "text = re.findall('pyt?', string)\n",
    "print(text ,len(text))"
   ]
  },
  {
   "cell_type": "code",
   "execution_count": 38,
   "id": "8bd5ed88",
   "metadata": {},
   "outputs": [
    {
     "name": "stdout",
     "output_type": "stream",
     "text": [
      "['pyt', 'pyt', 'pyttttt'] 3\n"
     ]
    }
   ],
   "source": [
    "string = 'python and Data Science pythonnn pyhon  pyttttthon pyhonnn 98765abcde 12345 pthon'\n",
    "\n",
    "text = re.findall('pyt+', string)\n",
    "print(text ,len(text))"
   ]
  },
  {
   "cell_type": "code",
   "execution_count": null,
   "id": "35d6e488",
   "metadata": {},
   "outputs": [],
   "source": [
    "1. + >> One or more occurrences\n",
    "2. * >> zero or more occurrences\n",
    "3. . >> any char except \\n(new line)\n",
    "4. ? >> exactly zero or one occurrence"
   ]
  },
  {
   "cell_type": "markdown",
   "id": "fae2cdf1",
   "metadata": {},
   "source": [
    "### 5. ^"
   ]
  },
  {
   "cell_type": "code",
   "execution_count": null,
   "id": "41d663d4",
   "metadata": {},
   "outputs": [],
   "source": [
    "^ >> startswith (first index/position)"
   ]
  },
  {
   "cell_type": "code",
   "execution_count": 45,
   "id": "b651f85c",
   "metadata": {},
   "outputs": [
    {
     "data": {
      "text/plain": [
       "True"
      ]
     },
     "execution_count": 45,
     "metadata": {},
     "output_type": "execute_result"
    }
   ],
   "source": [
    "string = 'python and Data Science pythonnn pyhon  pyttttthon pyhonnn 98765abcde 12345 pthon'\n",
    "\n",
    "string.startswith('p')"
   ]
  },
  {
   "cell_type": "code",
   "execution_count": 41,
   "id": "571ad863",
   "metadata": {},
   "outputs": [
    {
     "name": "stdout",
     "output_type": "stream",
     "text": [
      "['p'] 1\n"
     ]
    }
   ],
   "source": [
    "string = 'python and Data Science pythonnn pyhon  pyttttthon pyhonnn 98765abcde 12345 pthon'\n",
    "\n",
    "text = re.findall('^p', string)\n",
    "print(text ,len(text))"
   ]
  },
  {
   "cell_type": "code",
   "execution_count": 42,
   "id": "a6368163",
   "metadata": {},
   "outputs": [
    {
     "name": "stdout",
     "output_type": "stream",
     "text": [
      "['pytho'] 1\n"
     ]
    }
   ],
   "source": [
    "string = 'python and Data Science pythonnn pyhon  pyttttthon pyhonnn 98765abcde 12345 pthon'\n",
    "\n",
    "text = re.findall('^[a-z]{5}', string)\n",
    "print(text ,len(text))"
   ]
  },
  {
   "cell_type": "code",
   "execution_count": 43,
   "id": "b938b4be",
   "metadata": {},
   "outputs": [
    {
     "name": "stdout",
     "output_type": "stream",
     "text": [
      "[] 0\n"
     ]
    }
   ],
   "source": [
    "string = 'data and Data Science pythonnn pyhon  pyttttthon pyhonnn 98765abcde 12345 pthon'\n",
    "\n",
    "text = re.findall('^[a-z]{5}', string)\n",
    "print(text ,len(text))"
   ]
  },
  {
   "cell_type": "code",
   "execution_count": 46,
   "id": "7f1fa0f3",
   "metadata": {},
   "outputs": [
    {
     "name": "stdout",
     "output_type": "stream",
     "text": [
      "[' 9876', ' 1234'] 2\n"
     ]
    }
   ],
   "source": [
    "# if you use ^ inside [ ] this brackets it works as except\n",
    "string = 'python and Data Science pythonnn pyhon  pyttttthon pyhonnn 98765abcde 12345 pthon'\n",
    "\n",
    "text = re.findall('[^a-z]{5}', string)\n",
    "print(text ,len(text))"
   ]
  },
  {
   "cell_type": "code",
   "execution_count": 49,
   "id": "1048281f",
   "metadata": {},
   "outputs": [
    {
     "name": "stdout",
     "output_type": "stream",
     "text": [
      "[' ', ' D', ' S', ' ', ' ', '  ', ' ', ' 98765', ' 12345 '] 9\n"
     ]
    }
   ],
   "source": [
    "# if you use ^ inside [ ] this brackets it works as except\n",
    "string = 'python and Data Science pythonnn pyhon  pyttttthon pyhonnn 98765abcde 12345 pthon'\n",
    "\n",
    "text = re.findall('[^a-z]+', string)\n",
    "print(text ,len(text))"
   ]
  },
  {
   "cell_type": "code",
   "execution_count": 47,
   "id": "7410d078",
   "metadata": {},
   "outputs": [
    {
     "data": {
      "text/plain": [
       "[' ', ' ', ' sdfghj']"
      ]
     },
     "execution_count": 47,
     "metadata": {},
     "output_type": "execute_result"
    }
   ],
   "source": [
    "num = '12345 4567 9876 sdfghj'\n",
    "result = re.findall('[^0-9]+',num)\n",
    "result"
   ]
  },
  {
   "cell_type": "code",
   "execution_count": 48,
   "id": "136f3316",
   "metadata": {},
   "outputs": [
    {
     "data": {
      "text/plain": [
       "['12345']"
      ]
     },
     "execution_count": 48,
     "metadata": {},
     "output_type": "execute_result"
    }
   ],
   "source": [
    "# if you use ^ outside [] bracket it is startswith\n",
    "num = '12345 4567 9876 sdfghj'\n",
    "result = re.findall('^[0-9]+',num)\n",
    "result"
   ]
  },
  {
   "cell_type": "code",
   "execution_count": 50,
   "id": "7462af34",
   "metadata": {},
   "outputs": [
    {
     "name": "stdout",
     "output_type": "stream",
     "text": [
      "['python'] 1\n"
     ]
    }
   ],
   "source": [
    "string = 'python and Data Science pythonnn pyhon  pyttttthon pyhonnn 98765abcde 12345 pthon'\n",
    "\n",
    "text = re.findall('^[a-z]{6}', string)\n",
    "print(text ,len(text))"
   ]
  },
  {
   "cell_type": "code",
   "execution_count": 51,
   "id": "71c42ff4",
   "metadata": {},
   "outputs": [
    {
     "name": "stdout",
     "output_type": "stream",
     "text": [
      "['python', 'cience', 'python', 'pytttt', 'pyhonn'] 5\n"
     ]
    }
   ],
   "source": [
    "string = 'python and Data Science pythonnn pyhon  pyttttthon pyhonnn 98765abcde 12345 pthon'\n",
    "\n",
    "text = re.findall('[a-z]{6}', string)\n",
    "print(text ,len(text))"
   ]
  },
  {
   "cell_type": "code",
   "execution_count": 52,
   "id": "5f38ab23",
   "metadata": {},
   "outputs": [
    {
     "name": "stdout",
     "output_type": "stream",
     "text": [
      "['PYTHON'] 1\n"
     ]
    }
   ],
   "source": [
    "string = 'PYTHON and Data Science pythonnn pyhon  pyttttthon pyhonnn 98765abcde 12345 pthon'\n",
    "\n",
    "text = re.findall('^[A-Za-z]{6}', string)\n",
    "print(text ,len(text))"
   ]
  },
  {
   "cell_type": "code",
   "execution_count": 53,
   "id": "ff225813",
   "metadata": {},
   "outputs": [
    {
     "name": "stdout",
     "output_type": "stream",
     "text": [
      "String is starting with digits\n"
     ]
    }
   ],
   "source": [
    "string = '98908 and Data Science pythonnn pyhon  pyttttthon pyhonnn 98765abcde 12345 pthon'\n",
    "\n",
    "text = re.findall('^\\d', string)\n",
    "if text:\n",
    "    print('String is starting with digits')\n",
    "    \n",
    "else:\n",
    "    print('String is not starting with digits')"
   ]
  },
  {
   "cell_type": "code",
   "execution_count": 54,
   "id": "8627cd16",
   "metadata": {},
   "outputs": [
    {
     "name": "stdout",
     "output_type": "stream",
     "text": [
      "String is not starting with digits\n"
     ]
    }
   ],
   "source": [
    "string = ' 98908 and Data Science pythonnn pyhon  pyttttthon pyhonnn 98765abcde 12345 pthon'\n",
    "\n",
    "text = re.findall('^\\d', string)\n",
    "if text:\n",
    "    print('String is starting with digits')\n",
    "    \n",
    "else:\n",
    "    print('String is not starting with digits')"
   ]
  },
  {
   "cell_type": "code",
   "execution_count": 55,
   "id": "60998169",
   "metadata": {},
   "outputs": [
    {
     "name": "stdout",
     "output_type": "stream",
     "text": [
      "String is starting with space\n"
     ]
    }
   ],
   "source": [
    "string = ' 98908 and Data Science pythonnn pyhon  pyttttthon pyhonnn 98765abcde 12345 pthon'\n",
    "\n",
    "text = re.findall('^\\s', string)\n",
    "if text:\n",
    "    print('String is starting with space')\n",
    "    \n",
    "else:\n",
    "    print('String is not starting with space')"
   ]
  },
  {
   "cell_type": "markdown",
   "id": "400f332e",
   "metadata": {},
   "source": [
    "### 6. $"
   ]
  },
  {
   "cell_type": "code",
   "execution_count": null,
   "id": "2b47293b",
   "metadata": {},
   "outputs": [],
   "source": [
    "$ >> endswith"
   ]
  },
  {
   "cell_type": "code",
   "execution_count": 59,
   "id": "12bcf364",
   "metadata": {},
   "outputs": [
    {
     "name": "stdout",
     "output_type": "stream",
     "text": [
      "String is ending with s\n"
     ]
    }
   ],
   "source": [
    "string = ' 98908 and Data Science pythonnn pyhon  pyttttthon pyhonnn class'\n",
    "\n",
    "text = re.findall('s$', string)\n",
    "if text:\n",
    "    print('String is ending with s')\n",
    "    \n",
    "else:\n",
    "    print('String is not ending with s')"
   ]
  },
  {
   "cell_type": "code",
   "execution_count": 57,
   "id": "db84303a",
   "metadata": {},
   "outputs": [
    {
     "data": {
      "text/plain": [
       "['s']"
      ]
     },
     "execution_count": 57,
     "metadata": {},
     "output_type": "execute_result"
    }
   ],
   "source": [
    "text"
   ]
  },
  {
   "cell_type": "code",
   "execution_count": 60,
   "id": "080db2e7",
   "metadata": {},
   "outputs": [
    {
     "name": "stdout",
     "output_type": "stream",
     "text": [
      "String is not ending with S\n"
     ]
    }
   ],
   "source": [
    "string = ' 98908 and Data Science pythonnn pyhon  pyttttthon pyhonnn class'\n",
    "\n",
    "text = re.findall('S$', string)\n",
    "if text:\n",
    "    print('String is ending with S')\n",
    "    \n",
    "else:\n",
    "    print('String is not ending with S')"
   ]
  },
  {
   "cell_type": "code",
   "execution_count": 61,
   "id": "6bd37659",
   "metadata": {},
   "outputs": [
    {
     "name": "stdout",
     "output_type": "stream",
     "text": [
      "String is ending with digits\n"
     ]
    }
   ],
   "source": [
    "string = ' 98908 and Data Science pythonnn pyhon  pyttttthon pyhonnn class 12335'\n",
    "\n",
    "text = re.findall('\\d$', string)\n",
    "if text:\n",
    "    print('String is ending with digits')\n",
    "    \n",
    "else:\n",
    "    print('String is not ending with digits')"
   ]
  },
  {
   "cell_type": "code",
   "execution_count": 66,
   "id": "019d7401",
   "metadata": {},
   "outputs": [
    {
     "data": {
      "text/plain": [
       "['python and Data Science pythonnn pyhon  pyttttthon pyhonnn class']"
      ]
     },
     "execution_count": 66,
     "metadata": {},
     "output_type": "execute_result"
    }
   ],
   "source": [
    "string = 'python and Data Science pythonnn pyhon  pyttttthon pyhonnn class'\n",
    "\n",
    "text = re.findall('^p.*s$',string)\n",
    "text"
   ]
  },
  {
   "cell_type": "code",
   "execution_count": 67,
   "id": "a2f534e8",
   "metadata": {},
   "outputs": [
    {
     "data": {
      "text/plain": [
       "['python and Data Science pythonnn pyhon  pyttttthon pyhonnn class']"
      ]
     },
     "execution_count": 67,
     "metadata": {},
     "output_type": "execute_result"
    }
   ],
   "source": [
    "string = 'python and Data Science pythonnn pyhon  pyttttthon pyhonnn class'\n",
    "\n",
    "text = re.findall('^p.*',string)\n",
    "text"
   ]
  },
  {
   "cell_type": "code",
   "execution_count": 68,
   "id": "d9820efa",
   "metadata": {},
   "outputs": [
    {
     "data": {
      "text/plain": [
       "['python and Data Science pythonnn pyhon  pyttttthon pyhonnn class']"
      ]
     },
     "execution_count": 68,
     "metadata": {},
     "output_type": "execute_result"
    }
   ],
   "source": [
    "string = '''python and Data Science pythonnn pyhon  pyttttthon pyhonnn class\n",
    "sajdgvh'''\n",
    "\n",
    "text = re.findall('^p.*',string)\n",
    "text"
   ]
  },
  {
   "cell_type": "markdown",
   "id": "e327b887",
   "metadata": {},
   "source": [
    "### 7. | (or)"
   ]
  },
  {
   "cell_type": "code",
   "execution_count": 69,
   "id": "c2a6fe34",
   "metadata": {},
   "outputs": [
    {
     "data": {
      "text/plain": [
       "['python', 'python']"
      ]
     },
     "execution_count": 69,
     "metadata": {},
     "output_type": "execute_result"
    }
   ],
   "source": [
    "string = 'python and data science python'\n",
    "\n",
    "result = re.findall('python',string)\n",
    "result"
   ]
  },
  {
   "cell_type": "code",
   "execution_count": 70,
   "id": "697cb7c3",
   "metadata": {},
   "outputs": [
    {
     "data": {
      "text/plain": [
       "['python', 'data', 'python']"
      ]
     },
     "execution_count": 70,
     "metadata": {},
     "output_type": "execute_result"
    }
   ],
   "source": [
    "string = 'python and data science python'\n",
    "\n",
    "result = re.findall('python|data',string)\n",
    "result"
   ]
  },
  {
   "cell_type": "code",
   "execution_count": 71,
   "id": "92b0c19a",
   "metadata": {},
   "outputs": [
    {
     "data": {
      "text/plain": [
       "['13-01-2022', '13/01/2022']"
      ]
     },
     "execution_count": 71,
     "metadata": {},
     "output_type": "execute_result"
    }
   ],
   "source": [
    "string = '13-01-2022 and 13/01/2022 13 Jan 2022'\n",
    "result = re.findall('\\d{2}[/-]\\d{2}[/-]\\d{4}',string)\n",
    "result"
   ]
  },
  {
   "cell_type": "code",
   "execution_count": 72,
   "id": "48f37354",
   "metadata": {},
   "outputs": [
    {
     "data": {
      "text/plain": [
       "['13-01-2022', '13/01/2022', '13-01-2022']"
      ]
     },
     "execution_count": 72,
     "metadata": {},
     "output_type": "execute_result"
    }
   ],
   "source": [
    "string = '''13-01-2022 and 13/01/2022 13 Jan 2022\n",
    "224313-01-20221234'''\n",
    "result = re.findall('\\d{2}[/-]\\d{2}[/-]\\d{4}',string)\n",
    "result"
   ]
  },
  {
   "cell_type": "code",
   "execution_count": 74,
   "id": "a06fe0fc",
   "metadata": {},
   "outputs": [
    {
     "data": {
      "text/plain": [
       "['13-01-2022', '13/01/2022', '13 Jan 2022']"
      ]
     },
     "execution_count": 74,
     "metadata": {},
     "output_type": "execute_result"
    }
   ],
   "source": [
    "string = '''13-01-2022 and 13/01/2022 13 Jan 2022\n",
    "224313-01-20221234'''\n",
    "result = re.findall(r'\\b\\d{2}[/-]\\d{2}[/-]\\d{4}|13 Jan 2022',string)\n",
    "result"
   ]
  },
  {
   "cell_type": "code",
   "execution_count": 76,
   "id": "de0b6204",
   "metadata": {},
   "outputs": [
    {
     "data": {
      "text/plain": [
       "['13-01-2022', '13/01/2022', '13 Jan 2022', '13-Jan-2022', '15 Jan 2022']"
      ]
     },
     "execution_count": 76,
     "metadata": {},
     "output_type": "execute_result"
    }
   ],
   "source": [
    "string = '''13-01-2022 and 13/01/2022 13 Jan 2022\n",
    "224313-01-20221234\n",
    "13-Jan-2022\n",
    "15 Jan 2022'''\n",
    "result = re.findall(r'\\b\\d{2}[/-]\\d{2}[/-]\\d{4}|\\d{2}[ -]\\w{3}[ -]\\d{4}',string)\n",
    "result"
   ]
  },
  {
   "cell_type": "code",
   "execution_count": null,
   "id": "fa948d94",
   "metadata": {},
   "outputs": [],
   "source": [
    "# 8. [] pattern or sequence or range\n"
   ]
  },
  {
   "cell_type": "markdown",
   "id": "1edd0c4b",
   "metadata": {},
   "source": [
    "### 9. ()"
   ]
  },
  {
   "cell_type": "code",
   "execution_count": null,
   "id": "11bc5eac",
   "metadata": {},
   "outputs": [],
   "source": [
    "group of char >> sequence"
   ]
  },
  {
   "cell_type": "code",
   "execution_count": 77,
   "id": "526e4d29",
   "metadata": {},
   "outputs": [
    {
     "data": {
      "text/plain": [
       "['13-01-2022', '13/01/2022']"
      ]
     },
     "execution_count": 77,
     "metadata": {},
     "output_type": "execute_result"
    }
   ],
   "source": [
    "string = '''13-01-2022 and 13/01/2022 13 Jan 2022\n",
    "224313-01-20221234\n",
    "13-Jan-2022\n",
    "15 Jan 2022'''\n",
    "result = re.findall(r'(\\b\\d{2}[/-]\\d{2}[/-]\\d{4})',string)\n",
    "result"
   ]
  },
  {
   "cell_type": "code",
   "execution_count": 79,
   "id": "605ea1e1",
   "metadata": {},
   "outputs": [
    {
     "data": {
      "text/plain": [
       "['batman and batwoman']"
      ]
     },
     "execution_count": 79,
     "metadata": {},
     "output_type": "execute_result"
    }
   ],
   "source": [
    "text = 'batman and batwoman'\n",
    "results = re.findall('bat.*',text)\n",
    "results"
   ]
  },
  {
   "cell_type": "code",
   "execution_count": 81,
   "id": "1215e0f4",
   "metadata": {},
   "outputs": [
    {
     "data": {
      "text/plain": [
       "['batman', 'batwoman']"
      ]
     },
     "execution_count": 81,
     "metadata": {},
     "output_type": "execute_result"
    }
   ],
   "source": [
    "text = 'batman and batwoman'\n",
    "results = re.findall('[a-z]{8}|[a-z]{6}',text)\n",
    "results"
   ]
  },
  {
   "cell_type": "code",
   "execution_count": 83,
   "id": "b47988da",
   "metadata": {},
   "outputs": [
    {
     "data": {
      "text/plain": [
       "['batman', 'batwoman']"
      ]
     },
     "execution_count": 83,
     "metadata": {},
     "output_type": "execute_result"
    }
   ],
   "source": [
    "text = 'batman and batwoman batwoooman'\n",
    "results = re.findall('batw?o?man',text)\n",
    "results"
   ]
  },
  {
   "cell_type": "markdown",
   "id": "1cfb98a1",
   "metadata": {},
   "source": [
    "## Compile"
   ]
  },
  {
   "cell_type": "code",
   "execution_count": null,
   "id": "ece110c1",
   "metadata": {},
   "outputs": [],
   "source": [
    "To convert pattern into object"
   ]
  },
  {
   "cell_type": "code",
   "execution_count": 84,
   "id": "50a4f7df",
   "metadata": {},
   "outputs": [
    {
     "data": {
      "text/plain": [
       "['235-2345-8765']"
      ]
     },
     "execution_count": 84,
     "metadata": {},
     "output_type": "execute_result"
    }
   ],
   "source": [
    "string = 'Number 235-2345-8765'\n",
    "result = re.findall('\\d{3}-\\d{4}-\\d{4}',string)\n",
    "result"
   ]
  },
  {
   "cell_type": "code",
   "execution_count": 85,
   "id": "8e608c77",
   "metadata": {},
   "outputs": [
    {
     "data": {
      "text/plain": [
       "['826-8345-8765']"
      ]
     },
     "execution_count": 85,
     "metadata": {},
     "output_type": "execute_result"
    }
   ],
   "source": [
    "string1 = 'Number 826-8345-8765'\n",
    "result = re.findall('\\d{3}-\\d{4}-\\d{4}',string1)\n",
    "result"
   ]
  },
  {
   "cell_type": "code",
   "execution_count": 86,
   "id": "2aefaea4",
   "metadata": {},
   "outputs": [
    {
     "data": {
      "text/plain": [
       "re.compile(r'\\d{3}-\\d{4}-\\d{4}', re.UNICODE)"
      ]
     },
     "execution_count": 86,
     "metadata": {},
     "output_type": "execute_result"
    }
   ],
   "source": [
    "pattern = re.compile('\\d{3}-\\d{4}-\\d{4}')\n",
    "pattern"
   ]
  },
  {
   "cell_type": "code",
   "execution_count": 88,
   "id": "a76cee98",
   "metadata": {},
   "outputs": [
    {
     "data": {
      "text/plain": [
       "'826-8345-8765'"
      ]
     },
     "execution_count": 88,
     "metadata": {},
     "output_type": "execute_result"
    }
   ],
   "source": [
    "string1 = 'Number 826-8345-8765'\n",
    "result = pattern.search(string1)\n",
    "result.group()"
   ]
  },
  {
   "cell_type": "code",
   "execution_count": 89,
   "id": "45205d65",
   "metadata": {},
   "outputs": [
    {
     "data": {
      "text/plain": [
       "'235-2345-8765'"
      ]
     },
     "execution_count": 89,
     "metadata": {},
     "output_type": "execute_result"
    }
   ],
   "source": [
    "result = pattern.search(string)\n",
    "result.group()"
   ]
  },
  {
   "cell_type": "code",
   "execution_count": 91,
   "id": "8a91fea2",
   "metadata": {},
   "outputs": [
    {
     "name": "stdout",
     "output_type": "stream",
     "text": [
      "123-456-7890\n",
      "123-4567\n",
      "456-4567\n",
      "1234-456-7890\n"
     ]
    }
   ],
   "source": [
    "string1 = '123-456-7890'\n",
    "string2 = '123-4567'\n",
    "string3 = '456-4567'\n",
    "string4 = '1234-456-7890'\n",
    "pattern = re.compile('(\\d{3,4}[-])?\\d{3}[-]\\d{4}')\n",
    "\n",
    "result1 = pattern.search(string1)\n",
    "result2 = pattern.search(string2)\n",
    "result3 = pattern.search(string3)\n",
    "result4 = pattern.search(string4)\n",
    "\n",
    "print(result1.group())\n",
    "print(result2.group())\n",
    "print(result3.group())\n",
    "print(result4.group())"
   ]
  },
  {
   "cell_type": "markdown",
   "id": "ccddcd58",
   "metadata": {},
   "source": [
    "## Split"
   ]
  },
  {
   "cell_type": "code",
   "execution_count": 92,
   "id": "73c9882f",
   "metadata": {},
   "outputs": [
    {
     "data": {
      "text/plain": [
       "['python', 'and', 'data', 'science', 'python']"
      ]
     },
     "execution_count": 92,
     "metadata": {},
     "output_type": "execute_result"
    }
   ],
   "source": [
    "string = 'python and data science python'\n",
    "string.split()"
   ]
  },
  {
   "cell_type": "code",
   "execution_count": 93,
   "id": "ebf19460",
   "metadata": {},
   "outputs": [
    {
     "data": {
      "text/plain": [
       "['python', 'and', 'data', 'science', 'python']"
      ]
     },
     "execution_count": 93,
     "metadata": {},
     "output_type": "execute_result"
    }
   ],
   "source": [
    "re.split(' ',string)"
   ]
  },
  {
   "cell_type": "code",
   "execution_count": 96,
   "id": "00d76fcd",
   "metadata": {},
   "outputs": [
    {
     "data": {
      "text/plain": [
       "['python ', ' and ', 'ata ', ' science ', ' python']"
      ]
     },
     "execution_count": 96,
     "metadata": {},
     "output_type": "execute_result"
    }
   ],
   "source": [
    "string = 'python A and Data B science C python'\n",
    "\n",
    "re.split('[A-Z]',string)"
   ]
  },
  {
   "cell_type": "code",
   "execution_count": 95,
   "id": "53cf376a",
   "metadata": {},
   "outputs": [
    {
     "data": {
      "text/plain": [
       "['python ', ' and data ', ' science ', ' python']"
      ]
     },
     "execution_count": 95,
     "metadata": {},
     "output_type": "execute_result"
    }
   ],
   "source": [
    "string = 'python 1 and data 2 science 3 python'\n",
    "\n",
    "re.split('[0-9]',string)"
   ]
  },
  {
   "cell_type": "code",
   "execution_count": 97,
   "id": "80c5f538",
   "metadata": {},
   "outputs": [
    {
     "data": {
      "text/plain": [
       "['python ', ' and Data ', ' science ', ' python']"
      ]
     },
     "execution_count": 97,
     "metadata": {},
     "output_type": "execute_result"
    }
   ],
   "source": [
    "string = 'python A and Data B science C python'\n",
    "\n",
    "re.split(r'\\b[A-Z]\\b',string)"
   ]
  },
  {
   "cell_type": "markdown",
   "id": "b40d522c",
   "metadata": {},
   "source": [
    "## Regex Functions"
   ]
  },
  {
   "cell_type": "code",
   "execution_count": null,
   "id": "dc9f2bee",
   "metadata": {},
   "outputs": [],
   "source": [
    "import re\n",
    "1. findall\n",
    "2. search\n",
    "3. Match\n",
    "4. sub\n",
    "5. compile\n",
    "6. split"
   ]
  },
  {
   "cell_type": "markdown",
   "id": "67750ea4",
   "metadata": {},
   "source": [
    "## Special Sequences"
   ]
  },
  {
   "cell_type": "code",
   "execution_count": null,
   "id": "0c066de4",
   "metadata": {},
   "outputs": [],
   "source": [
    "\\d >> imp\n",
    "\\D\n",
    "\\s \n",
    "\\S\n",
    "\\w >> imp\n",
    "\\W\n",
    "\\b >> imp"
   ]
  },
  {
   "cell_type": "markdown",
   "id": "5b13187f",
   "metadata": {},
   "source": [
    "## Metacharacters"
   ]
  },
  {
   "cell_type": "code",
   "execution_count": null,
   "id": "69b32092",
   "metadata": {},
   "outputs": [],
   "source": [
    "+ \n",
    "*\n",
    ".\n",
    "?\n",
    "^\n",
    "$\n",
    "[]\n",
    "()\n",
    "{}\n",
    "|"
   ]
  },
  {
   "cell_type": "code",
   "execution_count": null,
   "id": "7f94ea11",
   "metadata": {},
   "outputs": [],
   "source": []
  },
  {
   "cell_type": "code",
   "execution_count": null,
   "id": "cfb8bdbb",
   "metadata": {},
   "outputs": [],
   "source": []
  },
  {
   "cell_type": "code",
   "execution_count": null,
   "id": "1704e495",
   "metadata": {},
   "outputs": [],
   "source": []
  },
  {
   "cell_type": "code",
   "execution_count": null,
   "id": "78fc1dfa",
   "metadata": {},
   "outputs": [],
   "source": []
  },
  {
   "cell_type": "code",
   "execution_count": null,
   "id": "7dc6be21",
   "metadata": {},
   "outputs": [],
   "source": []
  },
  {
   "cell_type": "code",
   "execution_count": null,
   "id": "4fdf7ccd",
   "metadata": {},
   "outputs": [],
   "source": []
  },
  {
   "cell_type": "code",
   "execution_count": null,
   "id": "a8d698c5",
   "metadata": {},
   "outputs": [],
   "source": []
  },
  {
   "cell_type": "code",
   "execution_count": null,
   "id": "032eb94e",
   "metadata": {},
   "outputs": [],
   "source": []
  },
  {
   "cell_type": "code",
   "execution_count": null,
   "id": "5a7b3401",
   "metadata": {},
   "outputs": [],
   "source": []
  }
 ],
 "metadata": {
  "kernelspec": {
   "display_name": "Python 3 (ipykernel)",
   "language": "python",
   "name": "python3"
  },
  "language_info": {
   "codemirror_mode": {
    "name": "ipython",
    "version": 3
   },
   "file_extension": ".py",
   "mimetype": "text/x-python",
   "name": "python",
   "nbconvert_exporter": "python",
   "pygments_lexer": "ipython3",
   "version": "3.9.7"
  }
 },
 "nbformat": 4,
 "nbformat_minor": 5
}
