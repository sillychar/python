{
 "cells": [
  {
   "cell_type": "markdown",
   "id": "8067345c",
   "metadata": {},
   "source": [
    "### 16. startswith()"
   ]
  },
  {
   "cell_type": "code",
   "execution_count": null,
   "id": "b9b4c9fd",
   "metadata": {},
   "outputs": [],
   "source": [
    "# It return boolean values (T/F)\n",
    "# Prefix"
   ]
  },
  {
   "cell_type": "code",
   "execution_count": 1,
   "id": "55c2c5c1",
   "metadata": {},
   "outputs": [
    {
     "data": {
      "text/plain": [
       "True"
      ]
     },
     "execution_count": 1,
     "metadata": {},
     "output_type": "execute_result"
    }
   ],
   "source": [
    "string= 'Machine Learning'\n",
    "string.startswith('M')"
   ]
  },
  {
   "cell_type": "code",
   "execution_count": 2,
   "id": "9061dcb7",
   "metadata": {},
   "outputs": [
    {
     "data": {
      "text/plain": [
       "False"
      ]
     },
     "execution_count": 2,
     "metadata": {},
     "output_type": "execute_result"
    }
   ],
   "source": [
    "string= 'Machine Learning'\n",
    "string.startswith('m')"
   ]
  },
  {
   "cell_type": "code",
   "execution_count": null,
   "id": "4efb0d4e",
   "metadata": {},
   "outputs": [],
   "source": [
    "string= 'Machine Learning'\n",
    "string.startswith('m')"
   ]
  },
  {
   "cell_type": "code",
   "execution_count": 3,
   "id": "b2b357f7",
   "metadata": {},
   "outputs": [
    {
     "data": {
      "text/plain": [
       "True"
      ]
     },
     "execution_count": 3,
     "metadata": {},
     "output_type": "execute_result"
    }
   ],
   "source": [
    "string= 'Machine Learning'\n",
    "string.startswith('Machine')"
   ]
  },
  {
   "cell_type": "code",
   "execution_count": 4,
   "id": "9a2add91",
   "metadata": {},
   "outputs": [
    {
     "data": {
      "text/plain": [
       "True"
      ]
     },
     "execution_count": 4,
     "metadata": {},
     "output_type": "execute_result"
    }
   ],
   "source": [
    "string ='Python is interpreted language'\n",
    "string.startswith('Python is')"
   ]
  },
  {
   "cell_type": "markdown",
   "id": "bd538754",
   "metadata": {},
   "source": [
    "### 17. isalnum()"
   ]
  },
  {
   "cell_type": "code",
   "execution_count": null,
   "id": "839198fb",
   "metadata": {},
   "outputs": [],
   "source": [
    "# True or False\n",
    "# True >> if the string is alphanumeric\n",
    "# alphanumeric >> alphabets and numbers\n",
    "# alphanumeric >> [A-Z a-z 0-9]\n",
    "# It does not allow any special char and spaces"
   ]
  },
  {
   "cell_type": "code",
   "execution_count": 5,
   "id": "61f1ec70",
   "metadata": {},
   "outputs": [
    {
     "data": {
      "text/plain": [
       "True"
      ]
     },
     "execution_count": 5,
     "metadata": {},
     "output_type": "execute_result"
    }
   ],
   "source": [
    "string = 'Python'\n",
    "string.isalnum()"
   ]
  },
  {
   "cell_type": "code",
   "execution_count": 6,
   "id": "455b07af",
   "metadata": {},
   "outputs": [
    {
     "data": {
      "text/plain": [
       "True"
      ]
     },
     "execution_count": 6,
     "metadata": {},
     "output_type": "execute_result"
    }
   ],
   "source": [
    "string = 'Python1234'\n",
    "string.isalnum()"
   ]
  },
  {
   "cell_type": "code",
   "execution_count": 7,
   "id": "c60479ff",
   "metadata": {},
   "outputs": [
    {
     "data": {
      "text/plain": [
       "True"
      ]
     },
     "execution_count": 7,
     "metadata": {},
     "output_type": "execute_result"
    }
   ],
   "source": [
    "string = '1234'\n",
    "string.isalnum()"
   ]
  },
  {
   "cell_type": "code",
   "execution_count": 8,
   "id": "87685dbb",
   "metadata": {},
   "outputs": [
    {
     "data": {
      "text/plain": [
       "False"
      ]
     },
     "execution_count": 8,
     "metadata": {},
     "output_type": "execute_result"
    }
   ],
   "source": [
    "string = 'Python 12354'\n",
    "string.isalnum()"
   ]
  },
  {
   "cell_type": "code",
   "execution_count": 9,
   "id": "58b93d1b",
   "metadata": {},
   "outputs": [
    {
     "data": {
      "text/plain": [
       "False"
      ]
     },
     "execution_count": 9,
     "metadata": {},
     "output_type": "execute_result"
    }
   ],
   "source": [
    "string = 'Python@'\n",
    "string.isalnum()"
   ]
  },
  {
   "cell_type": "code",
   "execution_count": 12,
   "id": "9f10c19d",
   "metadata": {},
   "outputs": [
    {
     "data": {
      "text/plain": [
       "True"
      ]
     },
     "execution_count": 12,
     "metadata": {},
     "output_type": "execute_result"
    }
   ],
   "source": [
    "string = 'Python'\n",
    "string.isalnum()"
   ]
  },
  {
   "cell_type": "code",
   "execution_count": 13,
   "id": "ca94fb29",
   "metadata": {},
   "outputs": [
    {
     "data": {
      "text/plain": [
       "True"
      ]
     },
     "execution_count": 13,
     "metadata": {},
     "output_type": "execute_result"
    }
   ],
   "source": [
    "string = 'ABCSD9897E'\n",
    "string.isalnum()"
   ]
  },
  {
   "cell_type": "code",
   "execution_count": 14,
   "id": "64520322",
   "metadata": {},
   "outputs": [
    {
     "name": "stdout",
     "output_type": "stream",
     "text": [
      "Yes this PAN is alphanumeric\n"
     ]
    }
   ],
   "source": [
    "pan_num = '   ABCSD9897E    '\n",
    "if pan_num.strip().isalnum():\n",
    "    print('Yes this PAN is alphanumeric')\n",
    "else:\n",
    "    print('No this PAN ia not alphanumeric')"
   ]
  },
  {
   "cell_type": "markdown",
   "id": "4fa40d52",
   "metadata": {},
   "source": [
    "### 18. isalpha()"
   ]
  },
  {
   "cell_type": "code",
   "execution_count": null,
   "id": "747e05a0",
   "metadata": {},
   "outputs": [],
   "source": [
    "# Returns True or False\n",
    "# True >> if string contains only alphabets\n",
    "# alphabets >> [A-Z a-z]\n",
    "# It does not allowed special char and spaces and numbers "
   ]
  },
  {
   "cell_type": "code",
   "execution_count": 15,
   "id": "9394ae52",
   "metadata": {},
   "outputs": [
    {
     "data": {
      "text/plain": [
       "False"
      ]
     },
     "execution_count": 15,
     "metadata": {},
     "output_type": "execute_result"
    }
   ],
   "source": [
    "string ='Data Science'\n",
    "string.isalpha()"
   ]
  },
  {
   "cell_type": "code",
   "execution_count": 16,
   "id": "b8481864",
   "metadata": {},
   "outputs": [
    {
     "data": {
      "text/plain": [
       "True"
      ]
     },
     "execution_count": 16,
     "metadata": {},
     "output_type": "execute_result"
    }
   ],
   "source": [
    "string ='DataScience'\n",
    "string.isalpha()"
   ]
  },
  {
   "cell_type": "code",
   "execution_count": 17,
   "id": "aea3db97",
   "metadata": {},
   "outputs": [
    {
     "data": {
      "text/plain": [
       "False"
      ]
     },
     "execution_count": 17,
     "metadata": {},
     "output_type": "execute_result"
    }
   ],
   "source": [
    "string ='Data1Science'\n",
    "string.isalpha()"
   ]
  },
  {
   "cell_type": "code",
   "execution_count": 19,
   "id": "7a0215a9",
   "metadata": {},
   "outputs": [
    {
     "data": {
      "text/plain": [
       "True"
      ]
     },
     "execution_count": 19,
     "metadata": {},
     "output_type": "execute_result"
    }
   ],
   "source": [
    "string ='RoHiT ShArMa'\n",
    "string.replace(' ','').isalpha()"
   ]
  },
  {
   "cell_type": "code",
   "execution_count": 20,
   "id": "4b0906f7",
   "metadata": {},
   "outputs": [
    {
     "data": {
      "text/plain": [
       "'R o H i T   S h A r M a'"
      ]
     },
     "execution_count": 20,
     "metadata": {},
     "output_type": "execute_result"
    }
   ],
   "source": [
    "' '.join(string)"
   ]
  },
  {
   "cell_type": "markdown",
   "id": "d3c06f72",
   "metadata": {},
   "source": [
    "### 19. isdecimal()"
   ]
  },
  {
   "cell_type": "code",
   "execution_count": null,
   "id": "75703191",
   "metadata": {},
   "outputs": [],
   "source": [
    "# True>> It contains digits/ numbers\n",
    "# It does not allow special char and spaces and alphabets\n",
    "# unicode >> universal code >> range(0 - 9)"
   ]
  },
  {
   "cell_type": "code",
   "execution_count": 21,
   "id": "cc0f2bc4",
   "metadata": {},
   "outputs": [
    {
     "data": {
      "text/plain": [
       "False"
      ]
     },
     "execution_count": 21,
     "metadata": {},
     "output_type": "execute_result"
    }
   ],
   "source": [
    "number = 'python'\n",
    "number.isdecimal()"
   ]
  },
  {
   "cell_type": "code",
   "execution_count": 22,
   "id": "edf1fb48",
   "metadata": {},
   "outputs": [
    {
     "data": {
      "text/plain": [
       "False"
      ]
     },
     "execution_count": 22,
     "metadata": {},
     "output_type": "execute_result"
    }
   ],
   "source": [
    "number = 'python12'\n",
    "number.isdecimal()"
   ]
  },
  {
   "cell_type": "code",
   "execution_count": 23,
   "id": "800331bf",
   "metadata": {},
   "outputs": [
    {
     "data": {
      "text/plain": [
       "True"
      ]
     },
     "execution_count": 23,
     "metadata": {},
     "output_type": "execute_result"
    }
   ],
   "source": [
    "number = '1234'\n",
    "number.isdecimal()"
   ]
  },
  {
   "cell_type": "code",
   "execution_count": 24,
   "id": "6dd8c6e9",
   "metadata": {},
   "outputs": [
    {
     "data": {
      "text/plain": [
       "False"
      ]
     },
     "execution_count": 24,
     "metadata": {},
     "output_type": "execute_result"
    }
   ],
   "source": [
    "number = '1 2 3'\n",
    "number.isdecimal()"
   ]
  },
  {
   "cell_type": "code",
   "execution_count": 25,
   "id": "fa5fdd58",
   "metadata": {},
   "outputs": [
    {
     "data": {
      "text/plain": [
       "True"
      ]
     },
     "execution_count": 25,
     "metadata": {},
     "output_type": "execute_result"
    }
   ],
   "source": [
    "number = '1 2 3'\n",
    "number.replace(' ','').isdecimal()"
   ]
  },
  {
   "cell_type": "code",
   "execution_count": 26,
   "id": "979e7811",
   "metadata": {},
   "outputs": [
    {
     "data": {
      "text/plain": [
       "False"
      ]
     },
     "execution_count": 26,
     "metadata": {},
     "output_type": "execute_result"
    }
   ],
   "source": [
    "number = '1.34'\n",
    "number.isdecimal()"
   ]
  },
  {
   "cell_type": "code",
   "execution_count": 27,
   "id": "d6981e6b",
   "metadata": {},
   "outputs": [
    {
     "data": {
      "text/plain": [
       "True"
      ]
     },
     "execution_count": 27,
     "metadata": {},
     "output_type": "execute_result"
    }
   ],
   "source": [
    "num ='\\u0030' # unicode for 0\n",
    "num.isdecimal()"
   ]
  },
  {
   "cell_type": "code",
   "execution_count": 28,
   "id": "d0916c63",
   "metadata": {},
   "outputs": [
    {
     "data": {
      "text/plain": [
       "True"
      ]
     },
     "execution_count": 28,
     "metadata": {},
     "output_type": "execute_result"
    }
   ],
   "source": [
    "num ='\\u0039' # unicode for 9\n",
    "num.isdecimal()"
   ]
  },
  {
   "cell_type": "code",
   "execution_count": 29,
   "id": "e749f426",
   "metadata": {},
   "outputs": [
    {
     "data": {
      "text/plain": [
       "9"
      ]
     },
     "execution_count": 29,
     "metadata": {},
     "output_type": "execute_result"
    }
   ],
   "source": [
    "num ='\\u0039' # unicode for 9\n",
    "int(num)"
   ]
  },
  {
   "cell_type": "code",
   "execution_count": 30,
   "id": "58c94725",
   "metadata": {},
   "outputs": [
    {
     "ename": "ValueError",
     "evalue": "invalid literal for int() with base 10: '@'",
     "output_type": "error",
     "traceback": [
      "\u001b[1;31m---------------------------------------------------------------------------\u001b[0m",
      "\u001b[1;31mValueError\u001b[0m                                Traceback (most recent call last)",
      "\u001b[1;32m<ipython-input-30-b4b15b94f340>\u001b[0m in \u001b[0;36m<module>\u001b[1;34m\u001b[0m\n\u001b[0;32m      1\u001b[0m \u001b[0mnum\u001b[0m \u001b[1;33m=\u001b[0m\u001b[1;34m'\\u0040'\u001b[0m \u001b[1;31m# unicode for 9\u001b[0m\u001b[1;33m\u001b[0m\u001b[1;33m\u001b[0m\u001b[0m\n\u001b[1;32m----> 2\u001b[1;33m \u001b[0mint\u001b[0m\u001b[1;33m(\u001b[0m\u001b[0mnum\u001b[0m\u001b[1;33m)\u001b[0m\u001b[1;33m\u001b[0m\u001b[1;33m\u001b[0m\u001b[0m\n\u001b[0m",
      "\u001b[1;31mValueError\u001b[0m: invalid literal for int() with base 10: '@'"
     ]
    }
   ],
   "source": [
    "num ='\\u0040' # unicode out of range\n",
    "int(num)"
   ]
  },
  {
   "cell_type": "code",
   "execution_count": 1,
   "id": "12c2fc84",
   "metadata": {},
   "outputs": [
    {
     "data": {
      "text/plain": [
       "False"
      ]
     },
     "execution_count": 1,
     "metadata": {},
     "output_type": "execute_result"
    }
   ],
   "source": [
    "num ='\\u0040\n",
    "' # unicode for 9\n",
    "num.isdecimal()"
   ]
  },
  {
   "cell_type": "markdown",
   "id": "30ab429a",
   "metadata": {},
   "source": [
    "ASCII >>\n",
    "a >> 97\n",
    "b >> 98\n",
    "z >> 122\n",
    "\n",
    "A >> 65\n",
    "B >> 66\n",
    "Z >> 90"
   ]
  },
  {
   "cell_type": "code",
   "execution_count": 10,
   "id": "fe31d3e4",
   "metadata": {},
   "outputs": [
    {
     "data": {
      "text/plain": [
       "35"
      ]
     },
     "execution_count": 10,
     "metadata": {},
     "output_type": "execute_result"
    }
   ],
   "source": [
    "ord('#') #ordinal"
   ]
  },
  {
   "cell_type": "code",
   "execution_count": 14,
   "id": "c2027557",
   "metadata": {},
   "outputs": [
    {
     "data": {
      "text/plain": [
       "'?'"
      ]
     },
     "execution_count": 14,
     "metadata": {},
     "output_type": "execute_result"
    }
   ],
   "source": [
    "chr(63) #character"
   ]
  },
  {
   "cell_type": "markdown",
   "id": "a6281d7f",
   "metadata": {},
   "source": [
    "### 20. isdigit()"
   ]
  },
  {
   "cell_type": "code",
   "execution_count": null,
   "id": "b10439e8",
   "metadata": {},
   "outputs": [],
   "source": [
    "# True >> if all char are digits, subscipts and superscripts"
   ]
  },
  {
   "cell_type": "code",
   "execution_count": 15,
   "id": "f2b8d48c",
   "metadata": {},
   "outputs": [
    {
     "data": {
      "text/plain": [
       "False"
      ]
     },
     "execution_count": 15,
     "metadata": {},
     "output_type": "execute_result"
    }
   ],
   "source": [
    "string= 'Python'\n",
    "string.isdigit()"
   ]
  },
  {
   "cell_type": "code",
   "execution_count": 16,
   "id": "25ad6fc7",
   "metadata": {},
   "outputs": [
    {
     "data": {
      "text/plain": [
       "True"
      ]
     },
     "execution_count": 16,
     "metadata": {},
     "output_type": "execute_result"
    }
   ],
   "source": [
    "string= '123'\n",
    "string.isdigit()"
   ]
  },
  {
   "cell_type": "code",
   "execution_count": 17,
   "id": "92575f2b",
   "metadata": {},
   "outputs": [
    {
     "data": {
      "text/plain": [
       "False"
      ]
     },
     "execution_count": 17,
     "metadata": {},
     "output_type": "execute_result"
    }
   ],
   "source": [
    "string= '1 2 3'\n",
    "string.isdigit()"
   ]
  },
  {
   "cell_type": "code",
   "execution_count": 18,
   "id": "850a6b46",
   "metadata": {},
   "outputs": [
    {
     "data": {
      "text/plain": [
       "True"
      ]
     },
     "execution_count": 18,
     "metadata": {},
     "output_type": "execute_result"
    }
   ],
   "source": [
    "num ='\\u0039' # unicode for 9\n",
    "num.isdigit()"
   ]
  },
  {
   "cell_type": "code",
   "execution_count": 19,
   "id": "a6d66e59",
   "metadata": {},
   "outputs": [
    {
     "data": {
      "text/plain": [
       "False"
      ]
     },
     "execution_count": 19,
     "metadata": {},
     "output_type": "execute_result"
    }
   ],
   "source": [
    "num ='\\u0040' # unicode out of range\n",
    "num.isdigit()"
   ]
  },
  {
   "cell_type": "code",
   "execution_count": 20,
   "id": "0b0fbc77",
   "metadata": {},
   "outputs": [
    {
     "data": {
      "text/plain": [
       "True"
      ]
     },
     "execution_count": 20,
     "metadata": {},
     "output_type": "execute_result"
    }
   ],
   "source": [
    "num ='\\u00B2' # superscript\n",
    "num.isdigit()"
   ]
  },
  {
   "cell_type": "code",
   "execution_count": 21,
   "id": "0062dbf6",
   "metadata": {},
   "outputs": [
    {
     "data": {
      "text/plain": [
       "True"
      ]
     },
     "execution_count": 21,
     "metadata": {},
     "output_type": "execute_result"
    }
   ],
   "source": [
    "num ='\\u00B3' # superscript\n",
    "num.isdigit()"
   ]
  },
  {
   "cell_type": "code",
   "execution_count": 22,
   "id": "b92a6fca",
   "metadata": {},
   "outputs": [
    {
     "data": {
      "text/plain": [
       "False"
      ]
     },
     "execution_count": 22,
     "metadata": {},
     "output_type": "execute_result"
    }
   ],
   "source": [
    "num ='\\u00B5' # superscript\n",
    "num.isdigit()"
   ]
  },
  {
   "cell_type": "code",
   "execution_count": 23,
   "id": "cf6bb98c",
   "metadata": {},
   "outputs": [
    {
     "data": {
      "text/plain": [
       "False"
      ]
     },
     "execution_count": 23,
     "metadata": {},
     "output_type": "execute_result"
    }
   ],
   "source": [
    "num ='\\u00B4' # superscript\n",
    "num.isdigit()"
   ]
  },
  {
   "cell_type": "code",
   "execution_count": 24,
   "id": "cb979bd8",
   "metadata": {},
   "outputs": [
    {
     "data": {
      "text/plain": [
       "False"
      ]
     },
     "execution_count": 24,
     "metadata": {},
     "output_type": "execute_result"
    }
   ],
   "source": [
    "num ='\\u00B6' # superscript\n",
    "num.isdigit()"
   ]
  },
  {
   "cell_type": "code",
   "execution_count": 25,
   "id": "91d8edc7",
   "metadata": {},
   "outputs": [
    {
     "data": {
      "text/plain": [
       "False"
      ]
     },
     "execution_count": 25,
     "metadata": {},
     "output_type": "execute_result"
    }
   ],
   "source": [
    "num ='\\u00B1' # superscript\n",
    "num.isdigit()"
   ]
  },
  {
   "cell_type": "code",
   "execution_count": 26,
   "id": "55441fd6",
   "metadata": {},
   "outputs": [
    {
     "name": "stdout",
     "output_type": "stream",
     "text": [
      "False\n",
      "False\n"
     ]
    }
   ],
   "source": [
    "string ='python'\n",
    "print(string.isdecimal())\n",
    "print(string.isdigit())"
   ]
  },
  {
   "cell_type": "code",
   "execution_count": 27,
   "id": "46c95151",
   "metadata": {},
   "outputs": [
    {
     "name": "stdout",
     "output_type": "stream",
     "text": [
      "False\n",
      "False\n"
     ]
    }
   ],
   "source": [
    "string ='python123'\n",
    "print(string.isdecimal())\n",
    "print(string.isdigit())"
   ]
  },
  {
   "cell_type": "code",
   "execution_count": 28,
   "id": "a3b80960",
   "metadata": {},
   "outputs": [
    {
     "name": "stdout",
     "output_type": "stream",
     "text": [
      "False\n",
      "True\n"
     ]
    }
   ],
   "source": [
    "string ='\\u00B2'\n",
    "print(string.isdecimal())\n",
    "print(string.isdigit())"
   ]
  },
  {
   "cell_type": "markdown",
   "id": "d23a802b",
   "metadata": {},
   "source": [
    "### 21. isnumeric()"
   ]
  },
  {
   "cell_type": "code",
   "execution_count": null,
   "id": "fd7c3b43",
   "metadata": {},
   "outputs": [],
   "source": [
    "# True >> if all char are digits, superscripts, vulgar fraction(1/2,3/4)"
   ]
  },
  {
   "cell_type": "code",
   "execution_count": 29,
   "id": "6d64e6e9",
   "metadata": {},
   "outputs": [
    {
     "name": "stdout",
     "output_type": "stream",
     "text": [
      "False\n",
      "False\n",
      "False\n"
     ]
    }
   ],
   "source": [
    "string ='python'\n",
    "print(string.isdecimal())\n",
    "print(string.isdigit())\n",
    "print(string.isnumeric())"
   ]
  },
  {
   "cell_type": "code",
   "execution_count": 30,
   "id": "3a98b593",
   "metadata": {},
   "outputs": [
    {
     "name": "stdout",
     "output_type": "stream",
     "text": [
      "True\n",
      "True\n",
      "True\n"
     ]
    }
   ],
   "source": [
    "string ='123'\n",
    "print(string.isdecimal())\n",
    "print(string.isdigit())\n",
    "print(string.isnumeric())"
   ]
  },
  {
   "cell_type": "code",
   "execution_count": 31,
   "id": "410dd907",
   "metadata": {},
   "outputs": [
    {
     "name": "stdout",
     "output_type": "stream",
     "text": [
      "True\n",
      "True\n",
      "True\n"
     ]
    }
   ],
   "source": [
    "string ='\\u0030'\n",
    "print(string.isdecimal())\n",
    "print(string.isdigit())\n",
    "print(string.isnumeric())"
   ]
  },
  {
   "cell_type": "code",
   "execution_count": 32,
   "id": "682e541b",
   "metadata": {},
   "outputs": [
    {
     "name": "stdout",
     "output_type": "stream",
     "text": [
      "False\n",
      "True\n",
      "True\n"
     ]
    }
   ],
   "source": [
    "string ='\\u00B2'\n",
    "print(string.isdecimal())\n",
    "print(string.isdigit())\n",
    "print(string.isnumeric())"
   ]
  },
  {
   "cell_type": "code",
   "execution_count": 33,
   "id": "8e703c71",
   "metadata": {},
   "outputs": [
    {
     "name": "stdout",
     "output_type": "stream",
     "text": [
      "False\n",
      "False\n",
      "True\n"
     ]
    }
   ],
   "source": [
    "string ='\\u00BD'\n",
    "print(string.isdecimal())\n",
    "print(string.isdigit())\n",
    "print(string.isnumeric())"
   ]
  },
  {
   "cell_type": "code",
   "execution_count": 34,
   "id": "3a62fdde",
   "metadata": {},
   "outputs": [
    {
     "name": "stdout",
     "output_type": "stream",
     "text": [
      "False\n",
      "False\n",
      "False\n"
     ]
    }
   ],
   "source": [
    "string ='1/2'\n",
    "print(string.isdecimal())\n",
    "print(string.isdigit())\n",
    "print(string.isnumeric())"
   ]
  },
  {
   "cell_type": "code",
   "execution_count": 39,
   "id": "88ccbbc7",
   "metadata": {},
   "outputs": [
    {
     "name": "stdout",
     "output_type": "stream",
     "text": [
      "False\n",
      "False\n",
      "False\n"
     ]
    }
   ],
   "source": [
    "string ='\\u00BC'   # True for C,D,E\n",
    "print(string.isdecimal())\n",
    "print(string.isdigit())\n",
    "print(string.isnumeric())"
   ]
  },
  {
   "cell_type": "code",
   "execution_count": null,
   "id": "2fae2150",
   "metadata": {},
   "outputs": [],
   "source": [
    "isdecimal >>> digits\n",
    "isdigit   >>> digits, subscript, superscripts\n",
    "isnumeric >>> digits, subscript, superscripts, vulgar fractions"
   ]
  },
  {
   "cell_type": "markdown",
   "id": "7b34694c",
   "metadata": {},
   "source": [
    "### 22. islower()"
   ]
  },
  {
   "cell_type": "code",
   "execution_count": null,
   "id": "42bbc435",
   "metadata": {},
   "outputs": [],
   "source": [
    "# True >> if all the char of string in lower case\n",
    "# space allowed"
   ]
  },
  {
   "cell_type": "code",
   "execution_count": 40,
   "id": "abb110be",
   "metadata": {},
   "outputs": [
    {
     "data": {
      "text/plain": [
       "False"
      ]
     },
     "execution_count": 40,
     "metadata": {},
     "output_type": "execute_result"
    }
   ],
   "source": [
    "s='Data Science'\n",
    "s.islower()"
   ]
  },
  {
   "cell_type": "code",
   "execution_count": 41,
   "id": "e18e5325",
   "metadata": {},
   "outputs": [
    {
     "data": {
      "text/plain": [
       "True"
      ]
     },
     "execution_count": 41,
     "metadata": {},
     "output_type": "execute_result"
    }
   ],
   "source": [
    "s='Data Science'\n",
    "s=s.lower()\n",
    "s.islower()"
   ]
  },
  {
   "cell_type": "code",
   "execution_count": 43,
   "id": "b6f040f0",
   "metadata": {},
   "outputs": [
    {
     "data": {
      "text/plain": [
       "True"
      ]
     },
     "execution_count": 43,
     "metadata": {},
     "output_type": "execute_result"
    }
   ],
   "source": [
    "s='data science12'\n",
    "s.islower()"
   ]
  },
  {
   "cell_type": "code",
   "execution_count": 44,
   "id": "8c480f9c",
   "metadata": {},
   "outputs": [
    {
     "data": {
      "text/plain": [
       "False"
      ]
     },
     "execution_count": 44,
     "metadata": {},
     "output_type": "execute_result"
    }
   ],
   "source": [
    "s='12'\n",
    "s.islower()"
   ]
  },
  {
   "cell_type": "code",
   "execution_count": 45,
   "id": "cef074fb",
   "metadata": {},
   "outputs": [
    {
     "data": {
      "text/plain": [
       "True"
      ]
     },
     "execution_count": 45,
     "metadata": {},
     "output_type": "execute_result"
    }
   ],
   "source": [
    "s='data science ###'\n",
    "s.islower()"
   ]
  },
  {
   "cell_type": "code",
   "execution_count": 47,
   "id": "f420d996",
   "metadata": {},
   "outputs": [
    {
     "data": {
      "text/plain": [
       "False"
      ]
     },
     "execution_count": 47,
     "metadata": {},
     "output_type": "execute_result"
    }
   ],
   "source": [
    "s='$$$ Data science'\n",
    "s.islower()"
   ]
  },
  {
   "cell_type": "markdown",
   "id": "b76ac775",
   "metadata": {},
   "source": [
    "### 23. isupper()"
   ]
  },
  {
   "cell_type": "code",
   "execution_count": null,
   "id": "97bb2e1c",
   "metadata": {},
   "outputs": [],
   "source": [
    "# True >> if all the char of string in upper case\n",
    "# space allowed"
   ]
  },
  {
   "cell_type": "code",
   "execution_count": 48,
   "id": "72986012",
   "metadata": {},
   "outputs": [
    {
     "data": {
      "text/plain": [
       "False"
      ]
     },
     "execution_count": 48,
     "metadata": {},
     "output_type": "execute_result"
    }
   ],
   "source": [
    "string = 'Akshay Kumar'\n",
    "string.isupper()"
   ]
  },
  {
   "cell_type": "code",
   "execution_count": 50,
   "id": "1c68fcbf",
   "metadata": {},
   "outputs": [
    {
     "name": "stdout",
     "output_type": "stream",
     "text": [
      "AKSHAY KUMAR\n"
     ]
    },
    {
     "data": {
      "text/plain": [
       "True"
      ]
     },
     "execution_count": 50,
     "metadata": {},
     "output_type": "execute_result"
    }
   ],
   "source": [
    "string = 'Akshay Kumar'\n",
    "string = string.upper()\n",
    "print(string)\n",
    "string.isupper()"
   ]
  },
  {
   "cell_type": "markdown",
   "id": "728d71fd",
   "metadata": {},
   "source": [
    "### 24. istitle()"
   ]
  },
  {
   "cell_type": "code",
   "execution_count": 51,
   "id": "a889cd88",
   "metadata": {},
   "outputs": [
    {
     "data": {
      "text/plain": [
       "True"
      ]
     },
     "execution_count": 51,
     "metadata": {},
     "output_type": "execute_result"
    }
   ],
   "source": [
    "string = 'Akshay Kumar'\n",
    "string.istitle()"
   ]
  },
  {
   "cell_type": "code",
   "execution_count": 55,
   "id": "4398937b",
   "metadata": {},
   "outputs": [
    {
     "data": {
      "text/plain": [
       "False"
      ]
     },
     "execution_count": 55,
     "metadata": {},
     "output_type": "execute_result"
    }
   ],
   "source": [
    "string = 'Akshay kumar'\n",
    "string.istitle()"
   ]
  },
  {
   "cell_type": "code",
   "execution_count": null,
   "id": "19305f7d",
   "metadata": {},
   "outputs": [],
   "source": [
    "string = 'Akshay Kumar'\n",
    "string."
   ]
  },
  {
   "cell_type": "code",
   "execution_count": null,
   "id": "7b43896f",
   "metadata": {},
   "outputs": [],
   "source": []
  }
 ],
 "metadata": {
  "kernelspec": {
   "display_name": "Python 3 (ipykernel)",
   "language": "python",
   "name": "python3"
  },
  "language_info": {
   "codemirror_mode": {
    "name": "ipython",
    "version": 3
   },
   "file_extension": ".py",
   "mimetype": "text/x-python",
   "name": "python",
   "nbconvert_exporter": "python",
   "pygments_lexer": "ipython3",
   "version": "3.9.7"
  }
 },
 "nbformat": 4,
 "nbformat_minor": 5
}
