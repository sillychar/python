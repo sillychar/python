{
 "cells": [
  {
   "cell_type": "markdown",
   "id": "59b39f22",
   "metadata": {},
   "source": [
    "### While Loop"
   ]
  },
  {
   "cell_type": "code",
   "execution_count": null,
   "id": "27a50928",
   "metadata": {},
   "outputs": [],
   "source": [
    "While loop is used to execute a block of code until a given condition is True\n",
    "\n",
    "while condition: #True\n",
    "    Code\n",
    "    \n",
    "while condition: #True\n",
    "    statement1\n",
    "    statement2\n",
    "    \n",
    "Condition:\n",
    "    1. True >> Executes block of code\n",
    "    2. False >> Exit while loop"
   ]
  },
  {
   "cell_type": "code",
   "execution_count": 4,
   "id": "1c2cf00d",
   "metadata": {},
   "outputs": [
    {
     "name": "stdout",
     "output_type": "stream",
     "text": [
      "Hello\n",
      "We are testing while loop\n",
      "Hello\n",
      "We are testing while loop\n",
      "Hello\n",
      "We are testing while loop\n",
      "Hello\n",
      "We are testing while loop\n",
      "Loop Executed\n"
     ]
    }
   ],
   "source": [
    "i=0\n",
    "while i<4: # False i>>4 i==4\n",
    "    print('Hello')\n",
    "    print('We are testing while loop')\n",
    "    i+=1\n",
    "print('Loop Executed')"
   ]
  },
  {
   "cell_type": "code",
   "execution_count": 13,
   "id": "0339a210",
   "metadata": {},
   "outputs": [
    {
     "name": "stdout",
     "output_type": "stream",
     "text": [
      "1\n",
      "3\n",
      "6\n",
      "10\n",
      "15\n",
      "21\n",
      "28\n",
      "36\n",
      "45\n",
      "55\n"
     ]
    }
   ],
   "source": [
    "n=10\n",
    "num=1\n",
    "addition=0\n",
    "while num <=n:\n",
    "    addition+=num\n",
    "    num+=1\n",
    "    print(addition)\n",
    "# print(f'Sum of First {n} numbers is {addition}')"
   ]
  },
  {
   "cell_type": "code",
   "execution_count": null,
   "id": "ed2792a0",
   "metadata": {},
   "outputs": [],
   "source": [
    "1+2+3+4+5"
   ]
  },
  {
   "cell_type": "code",
   "execution_count": null,
   "id": "eca5c6a4",
   "metadata": {},
   "outputs": [],
   "source": [
    "1<=10\n",
    "2<=10\n",
    ".\n",
    ".\n",
    "10<=10\n",
    "11<=10# False"
   ]
  },
  {
   "cell_type": "code",
   "execution_count": 14,
   "id": "535e931b",
   "metadata": {},
   "outputs": [
    {
     "name": "stdout",
     "output_type": "stream",
     "text": [
      "1\n",
      "3\n",
      "6\n",
      "10\n",
      "15\n",
      "21\n",
      "28\n",
      "36\n",
      "45\n",
      "55\n"
     ]
    }
   ],
   "source": [
    "addition=0\n",
    "for i in range(1,11):\n",
    "    addition=addition+i\n",
    "    print(addition)"
   ]
  },
  {
   "cell_type": "markdown",
   "id": "870ae8cd",
   "metadata": {},
   "source": [
    "## Loop Control Statements"
   ]
  },
  {
   "cell_type": "markdown",
   "id": "9fe2f3bb",
   "metadata": {},
   "source": [
    "### 1. Break"
   ]
  },
  {
   "cell_type": "code",
   "execution_count": 17,
   "id": "a314961d",
   "metadata": {},
   "outputs": [
    {
     "name": "stdout",
     "output_type": "stream",
     "text": [
      "Char is  p\n",
      "Char is  y\n",
      "Char is  t\n",
      "h character found\n"
     ]
    }
   ],
   "source": [
    "string = 'python'\n",
    "for char in string:\n",
    "    if char =='h':\n",
    "        print('h character found')\n",
    "        break # loop exit\n",
    "    print('Char is ',char)"
   ]
  },
  {
   "cell_type": "code",
   "execution_count": 20,
   "id": "90ddaaba",
   "metadata": {},
   "outputs": [
    {
     "name": "stdout",
     "output_type": "stream",
     "text": [
      "i == 1\n",
      "i == 2\n",
      "i == 3\n",
      "i == 4\n",
      "i == 5\n",
      "Value of i is 6\n",
      "i == 6\n",
      "i == 7\n",
      "i == 8\n",
      "i == 9\n",
      "i == 10\n"
     ]
    }
   ],
   "source": [
    "i=1\n",
    "while i<=10:\n",
    "    print(f'i == {i}')\n",
    "    i+=1\n",
    "    if i==6:\n",
    "        print('Value of i is 6')"
   ]
  },
  {
   "cell_type": "code",
   "execution_count": 22,
   "id": "4e670a1f",
   "metadata": {},
   "outputs": [
    {
     "name": "stdout",
     "output_type": "stream",
     "text": [
      "i == 1\n",
      "i == 2\n",
      "i == 3\n",
      "i == 4\n",
      "i == 5\n",
      "Value of i is 6\n"
     ]
    }
   ],
   "source": [
    "i=1\n",
    "while i<=10:\n",
    "    print(f'i == {i}')\n",
    "    i+=1\n",
    "    if i==6:\n",
    "        print('Value of i is 6')\n",
    "        break # To exit the loop"
   ]
  },
  {
   "cell_type": "markdown",
   "id": "43f87871",
   "metadata": {},
   "source": [
    "### 2. continue"
   ]
  },
  {
   "cell_type": "code",
   "execution_count": 26,
   "id": "d80181e5",
   "metadata": {},
   "outputs": [
    {
     "name": "stdout",
     "output_type": "stream",
     "text": [
      "i == 1\n",
      "python\n",
      "class\n",
      "i == 2\n",
      "python\n",
      "class\n",
      "i == 3\n",
      "python\n",
      "class\n",
      "i == 4\n",
      "python\n",
      "class\n",
      "i == 5\n",
      "Value of i is 6\n",
      "i == 6\n",
      "python\n",
      "class\n",
      "i == 7\n",
      "python\n",
      "class\n",
      "i == 8\n",
      "python\n",
      "class\n",
      "i == 9\n",
      "python\n",
      "class\n",
      "i == 10\n",
      "python\n",
      "class\n"
     ]
    }
   ],
   "source": [
    "i=1\n",
    "while i<=10:\n",
    "    print(f'i == {i}')\n",
    "    i+=1\n",
    "    if i==6:\n",
    "        print('Value of i is 6')\n",
    "        continue # To stop current iteration\n",
    "    print('python')\n",
    "    print('class')"
   ]
  },
  {
   "cell_type": "code",
   "execution_count": 28,
   "id": "a845f401",
   "metadata": {},
   "outputs": [
    {
     "name": "stdout",
     "output_type": "stream",
     "text": [
      "i == 1\n",
      "python\n",
      "class\n",
      "i == 2\n",
      "python\n",
      "class\n",
      "i == 3\n",
      "python\n",
      "class\n",
      "i == 4\n",
      "python\n",
      "class\n",
      "i == 5\n",
      "i == 6\n",
      "python\n",
      "class\n",
      "i == 7\n",
      "python\n",
      "class\n",
      "i == 8\n",
      "python\n",
      "class\n",
      "i == 9\n",
      "python\n",
      "class\n",
      "i == 10\n",
      "python\n",
      "class\n"
     ]
    }
   ],
   "source": [
    "i=1\n",
    "while i<=10:\n",
    "    print(f'i == {i}')\n",
    "    i+=1\n",
    "    if i==6:\n",
    "        continue\n",
    "        print('Value of i is 6')\n",
    "#         continue # To stop current iteration\n",
    "    print('python')\n",
    "    print('class')"
   ]
  },
  {
   "cell_type": "markdown",
   "id": "4bc23db8",
   "metadata": {},
   "source": [
    "### 3. pass"
   ]
  },
  {
   "cell_type": "code",
   "execution_count": null,
   "id": "c8a13f7c",
   "metadata": {},
   "outputs": [],
   "source": [
    "To avoid errors\n"
   ]
  },
  {
   "cell_type": "markdown",
   "id": "87c2963e",
   "metadata": {},
   "source": [
    "### While-else"
   ]
  },
  {
   "cell_type": "code",
   "execution_count": 31,
   "id": "1572de49",
   "metadata": {},
   "outputs": [
    {
     "name": "stdout",
     "output_type": "stream",
     "text": [
      "1\n",
      "2\n",
      "3\n",
      "4\n",
      "5\n",
      "6\n",
      "7\n",
      "8\n",
      "9\n",
      "Loop is Completed\n"
     ]
    }
   ],
   "source": [
    "for i in range(1,10):\n",
    "    print(i)\n",
    "else:\n",
    "    print('Loop is Completed')"
   ]
  },
  {
   "cell_type": "code",
   "execution_count": 32,
   "id": "cab65bc5",
   "metadata": {},
   "outputs": [
    {
     "name": "stdout",
     "output_type": "stream",
     "text": [
      "1\n",
      "2\n",
      "3\n",
      "4\n",
      "5\n",
      "6\n",
      "7\n",
      "8\n",
      "9\n",
      "Loop is Completed\n"
     ]
    }
   ],
   "source": [
    "i=1 \n",
    "while i<10:\n",
    "    print(i)\n",
    "    i+=1\n",
    "else:\n",
    "    print('Loop is Completed')"
   ]
  },
  {
   "cell_type": "code",
   "execution_count": 33,
   "id": "9587ebfc",
   "metadata": {},
   "outputs": [
    {
     "name": "stdout",
     "output_type": "stream",
     "text": [
      "1\n",
      "2\n",
      "3\n",
      "4\n"
     ]
    }
   ],
   "source": [
    "i=1 \n",
    "while i<10:\n",
    "    print(i)\n",
    "    i+=1\n",
    "    if i==5:\n",
    "        break\n",
    "else:\n",
    "    print('Loop is Completed')"
   ]
  },
  {
   "cell_type": "code",
   "execution_count": 35,
   "id": "38413975",
   "metadata": {},
   "outputs": [
    {
     "name": "stdout",
     "output_type": "stream",
     "text": [
      "1\n",
      "2\n",
      "3\n",
      "4\n",
      "5\n",
      "6\n",
      "7\n",
      "8\n",
      "9\n",
      "Loop is Completed\n"
     ]
    }
   ],
   "source": [
    "i=1 \n",
    "while i<10:\n",
    "    print(i)\n",
    "    i+=1\n",
    "    if i==5:\n",
    "        continue\n",
    "        print('Hello')\n",
    "else:\n",
    "    print('Loop is Completed')"
   ]
  },
  {
   "cell_type": "markdown",
   "id": "47a4ffbd",
   "metadata": {},
   "source": [
    "### Access Values from Sequences"
   ]
  },
  {
   "cell_type": "code",
   "execution_count": 36,
   "id": "bede9597",
   "metadata": {},
   "outputs": [
    {
     "name": "stdout",
     "output_type": "stream",
     "text": [
      "Char is : P\n",
      "Char is : y\n",
      "Char is : t\n",
      "Char is : h\n",
      "Char is : o\n",
      "Char is : n\n"
     ]
    }
   ],
   "source": [
    "string= 'Python'\n",
    "i=0\n",
    "while i<len(string):\n",
    "    print('Char is :',string[i])\n",
    "    i+=1"
   ]
  },
  {
   "cell_type": "code",
   "execution_count": 37,
   "id": "3ab2dbc7",
   "metadata": {},
   "outputs": [
    {
     "name": "stdout",
     "output_type": "stream",
     "text": [
      "Char is at index 0 is : P\n",
      "Char is at index 1 is : y\n",
      "Char is at index 2 is : t\n",
      "Char is at index 3 is : h\n",
      "Char is at index 4 is : o\n",
      "Char is at index 5 is : n\n"
     ]
    }
   ],
   "source": [
    "string= 'Python'\n",
    "i=0\n",
    "while i<len(string):\n",
    "    print(f'Char is at index {i} is :',string[i])\n",
    "    i+=1"
   ]
  },
  {
   "cell_type": "code",
   "execution_count": 40,
   "id": "a20a50a0",
   "metadata": {},
   "outputs": [
    {
     "name": "stdout",
     "output_type": "stream",
     "text": [
      "Even list  [10, 20, 30, 100]\n",
      "Odd list  [3, 5, 123]\n"
     ]
    }
   ],
   "source": [
    "list1= [10,20,3,5,30,100,123]\n",
    "i=0\n",
    "even,odd=[],[]\n",
    "# even=[];odd=[]\n",
    "\n",
    "while i<len(list1):\n",
    "#     print(i)\n",
    "    if list1[i]%2==0:\n",
    "        even.append(list1[i])\n",
    "     \n",
    "    else:\n",
    "        odd.append(list1[i])\n",
    "    i+=1\n",
    "print('Even list ',even)\n",
    "print('Odd list ',odd)"
   ]
  },
  {
   "cell_type": "markdown",
   "id": "a0e62617",
   "metadata": {},
   "source": [
    "### Factorial"
   ]
  },
  {
   "cell_type": "code",
   "execution_count": null,
   "id": "55e1b377",
   "metadata": {},
   "outputs": [],
   "source": [
    "1*2*3*4*5 = factorial of 5 is 120"
   ]
  },
  {
   "cell_type": "code",
   "execution_count": 42,
   "id": "3e707720",
   "metadata": {},
   "outputs": [
    {
     "name": "stdout",
     "output_type": "stream",
     "text": [
      "Enter a number: 5\n",
      "factorial of 5 is 120\n"
     ]
    }
   ],
   "source": [
    "n= int(input('Enter a number: '))\n",
    "a=1\n",
    "for i in range(1,n+1):\n",
    "    a=a*i\n",
    "#     print(a)\n",
    "print('factorial of {} is {}'.format(n,a))"
   ]
  },
  {
   "cell_type": "code",
   "execution_count": 44,
   "id": "d2725cfc",
   "metadata": {},
   "outputs": [
    {
     "name": "stdout",
     "output_type": "stream",
     "text": [
      "Enter a number: 5\n",
      "factorial of 5 is 120\n"
     ]
    }
   ],
   "source": [
    "n= int(input('Enter a number: '))\n",
    "a=1\n",
    "while n>0: # or n>=1\n",
    "    a=a*n\n",
    "    n=n-1\n",
    "print('factorial of 5 is {}'.format(a))"
   ]
  },
  {
   "cell_type": "code",
   "execution_count": null,
   "id": "bfa4c5a6",
   "metadata": {},
   "outputs": [],
   "source": []
  },
  {
   "cell_type": "code",
   "execution_count": null,
   "id": "bfe61300",
   "metadata": {},
   "outputs": [],
   "source": []
  },
  {
   "cell_type": "code",
   "execution_count": null,
   "id": "aa16362f",
   "metadata": {},
   "outputs": [],
   "source": []
  },
  {
   "cell_type": "code",
   "execution_count": null,
   "id": "b6d9dd2b",
   "metadata": {},
   "outputs": [],
   "source": []
  },
  {
   "cell_type": "code",
   "execution_count": null,
   "id": "957b4ec8",
   "metadata": {},
   "outputs": [],
   "source": []
  }
 ],
 "metadata": {
  "kernelspec": {
   "display_name": "Python 3",
   "language": "python",
   "name": "python3"
  },
  "language_info": {
   "codemirror_mode": {
    "name": "ipython",
    "version": 3
   },
   "file_extension": ".py",
   "mimetype": "text/x-python",
   "name": "python",
   "nbconvert_exporter": "python",
   "pygments_lexer": "ipython3",
   "version": "3.8.8"
  }
 },
 "nbformat": 4,
 "nbformat_minor": 5
}
