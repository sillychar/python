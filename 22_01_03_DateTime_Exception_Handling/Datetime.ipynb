{
 "cells": [
  {
   "cell_type": "markdown",
   "id": "7928aa69",
   "metadata": {},
   "source": [
    "## Datetime"
   ]
  },
  {
   "cell_type": "code",
   "execution_count": 2,
   "id": "84af8773",
   "metadata": {},
   "outputs": [],
   "source": [
    "import datetime"
   ]
  },
  {
   "cell_type": "code",
   "execution_count": 2,
   "id": "b5709f87",
   "metadata": {},
   "outputs": [
    {
     "name": "stdout",
     "output_type": "stream",
     "text": [
      "Today's date is :  2022-01-03 07:09:04.516034\n"
     ]
    }
   ],
   "source": [
    "todays_date = datetime.datetime.now()\n",
    "print('Today\\'s date is : ',todays_date)"
   ]
  },
  {
   "cell_type": "code",
   "execution_count": 20,
   "id": "1aa4eda9",
   "metadata": {},
   "outputs": [
    {
     "name": "stdout",
     "output_type": "stream",
     "text": [
      "2022-07-22 07:15:30.668488\n"
     ]
    }
   ],
   "source": [
    "new_date = todays_date + datetime.timedelta(days = 200)\n",
    "print(new_date)"
   ]
  },
  {
   "cell_type": "code",
   "execution_count": 4,
   "id": "6874ba5e",
   "metadata": {},
   "outputs": [
    {
     "name": "stdout",
     "output_type": "stream",
     "text": [
      "2022-01-24 07:09:04.516034\n"
     ]
    }
   ],
   "source": [
    "new_date = todays_date + datetime.timedelta(weeks = 3)\n",
    "print(new_date)"
   ]
  },
  {
   "cell_type": "markdown",
   "id": "a7a97b55",
   "metadata": {},
   "source": [
    "### strftime"
   ]
  },
  {
   "cell_type": "markdown",
   "id": "ef57092e",
   "metadata": {},
   "source": [
    "strftime >> string formatter >> datetime object to string format\n",
    "strftime >> string from time object\n",
    "return string"
   ]
  },
  {
   "cell_type": "code",
   "execution_count": 35,
   "id": "81cacca7",
   "metadata": {},
   "outputs": [
    {
     "name": "stdout",
     "output_type": "stream",
     "text": [
      "Today's date is :  2022-01-03 07:37:52.200321\n"
     ]
    }
   ],
   "source": [
    "todays_date = datetime.datetime.now()\n",
    "print('Today\\'s date is : ',todays_date)"
   ]
  },
  {
   "cell_type": "code",
   "execution_count": 36,
   "id": "6317e094",
   "metadata": {},
   "outputs": [
    {
     "data": {
      "text/plain": [
       "'2022'"
      ]
     },
     "execution_count": 36,
     "metadata": {},
     "output_type": "execute_result"
    }
   ],
   "source": [
    "todays_date.strftime('%Y') # Year 2022"
   ]
  },
  {
   "cell_type": "code",
   "execution_count": 37,
   "id": "d061ee01",
   "metadata": {},
   "outputs": [
    {
     "data": {
      "text/plain": [
       "'22'"
      ]
     },
     "execution_count": 37,
     "metadata": {},
     "output_type": "execute_result"
    }
   ],
   "source": [
    "todays_date.strftime('%y') # Year 22"
   ]
  },
  {
   "cell_type": "code",
   "execution_count": 38,
   "id": "df8d067d",
   "metadata": {},
   "outputs": [
    {
     "data": {
      "text/plain": [
       "'03'"
      ]
     },
     "execution_count": 38,
     "metadata": {},
     "output_type": "execute_result"
    }
   ],
   "source": [
    "todays_date.strftime('%d') # Date"
   ]
  },
  {
   "cell_type": "code",
   "execution_count": 39,
   "id": "9d9726bb",
   "metadata": {},
   "outputs": [
    {
     "data": {
      "text/plain": [
       "'01'"
      ]
     },
     "execution_count": 39,
     "metadata": {},
     "output_type": "execute_result"
    }
   ],
   "source": [
    "todays_date.strftime('%m') # month in number"
   ]
  },
  {
   "cell_type": "code",
   "execution_count": 40,
   "id": "30c5ec62",
   "metadata": {},
   "outputs": [
    {
     "data": {
      "text/plain": [
       "'Jan'"
      ]
     },
     "execution_count": 40,
     "metadata": {},
     "output_type": "execute_result"
    }
   ],
   "source": [
    "todays_date.strftime('%b') # Abbreviated month name"
   ]
  },
  {
   "cell_type": "code",
   "execution_count": 41,
   "id": "e3734a3a",
   "metadata": {},
   "outputs": [
    {
     "data": {
      "text/plain": [
       "'January'"
      ]
     },
     "execution_count": 41,
     "metadata": {},
     "output_type": "execute_result"
    }
   ],
   "source": [
    "todays_date.strftime('%B') # Full month name"
   ]
  },
  {
   "cell_type": "code",
   "execution_count": 42,
   "id": "df773846",
   "metadata": {},
   "outputs": [
    {
     "data": {
      "text/plain": [
       "'01/03/22'"
      ]
     },
     "execution_count": 42,
     "metadata": {},
     "output_type": "execute_result"
    }
   ],
   "source": [
    "todays_date.strftime('%D') # mm/dd/yy Date"
   ]
  },
  {
   "cell_type": "code",
   "execution_count": 43,
   "id": "d7145463",
   "metadata": {},
   "outputs": [
    {
     "data": {
      "text/plain": [
       "'Mon'"
      ]
     },
     "execution_count": 43,
     "metadata": {},
     "output_type": "execute_result"
    }
   ],
   "source": [
    "todays_date.strftime('%a') # Abbreviated weekday"
   ]
  },
  {
   "cell_type": "code",
   "execution_count": 44,
   "id": "a6c64761",
   "metadata": {},
   "outputs": [
    {
     "data": {
      "text/plain": [
       "'Monday'"
      ]
     },
     "execution_count": 44,
     "metadata": {},
     "output_type": "execute_result"
    }
   ],
   "source": [
    "todays_date.strftime('%A') # Abbreviated weekday"
   ]
  },
  {
   "cell_type": "code",
   "execution_count": 45,
   "id": "b9bc634a",
   "metadata": {},
   "outputs": [
    {
     "data": {
      "text/plain": [
       "'1'"
      ]
     },
     "execution_count": 45,
     "metadata": {},
     "output_type": "execute_result"
    }
   ],
   "source": [
    "todays_date.strftime('%w') #  weekday number 0,1,2,3"
   ]
  },
  {
   "cell_type": "code",
   "execution_count": 46,
   "id": "3993a286",
   "metadata": {},
   "outputs": [
    {
     "data": {
      "text/plain": [
       "'003'"
      ]
     },
     "execution_count": 46,
     "metadata": {},
     "output_type": "execute_result"
    }
   ],
   "source": [
    "todays_date.strftime('%j') # Day number in year >> 003"
   ]
  },
  {
   "cell_type": "code",
   "execution_count": 47,
   "id": "6a5e178b",
   "metadata": {},
   "outputs": [
    {
     "data": {
      "text/plain": [
       "'AM'"
      ]
     },
     "execution_count": 47,
     "metadata": {},
     "output_type": "execute_result"
    }
   ],
   "source": [
    "todays_date.strftime('%p') # AM/PM"
   ]
  },
  {
   "cell_type": "code",
   "execution_count": 48,
   "id": "adde99a6",
   "metadata": {},
   "outputs": [
    {
     "data": {
      "text/plain": [
       "'01'"
      ]
     },
     "execution_count": 48,
     "metadata": {},
     "output_type": "execute_result"
    }
   ],
   "source": [
    "todays_date.strftime('%U') # week number in year"
   ]
  },
  {
   "cell_type": "code",
   "execution_count": 49,
   "id": "e877c474",
   "metadata": {},
   "outputs": [
    {
     "data": {
      "text/plain": [
       "'29'"
      ]
     },
     "execution_count": 49,
     "metadata": {},
     "output_type": "execute_result"
    }
   ],
   "source": [
    "new_date.strftime('%U')"
   ]
  },
  {
   "cell_type": "code",
   "execution_count": 50,
   "id": "5cecbcff",
   "metadata": {},
   "outputs": [
    {
     "data": {
      "text/plain": [
       "'07'"
      ]
     },
     "execution_count": 50,
     "metadata": {},
     "output_type": "execute_result"
    }
   ],
   "source": [
    "todays_date.strftime('%H') # hour 24hrs"
   ]
  },
  {
   "cell_type": "code",
   "execution_count": 51,
   "id": "7f3ae033",
   "metadata": {},
   "outputs": [
    {
     "data": {
      "text/plain": [
       "'07'"
      ]
     },
     "execution_count": 51,
     "metadata": {},
     "output_type": "execute_result"
    }
   ],
   "source": [
    "todays_date.strftime('%I') # hour 12hrs"
   ]
  },
  {
   "cell_type": "code",
   "execution_count": 52,
   "id": "bdbc8462",
   "metadata": {},
   "outputs": [
    {
     "data": {
      "text/plain": [
       "'37'"
      ]
     },
     "execution_count": 52,
     "metadata": {},
     "output_type": "execute_result"
    }
   ],
   "source": [
    "todays_date.strftime('%M') # Minuts as number"
   ]
  },
  {
   "cell_type": "code",
   "execution_count": 53,
   "id": "063634f2",
   "metadata": {},
   "outputs": [
    {
     "data": {
      "text/plain": [
       "'52'"
      ]
     },
     "execution_count": 53,
     "metadata": {},
     "output_type": "execute_result"
    }
   ],
   "source": [
    "todays_date.strftime('%S') # Seconds as number"
   ]
  },
  {
   "cell_type": "code",
   "execution_count": 55,
   "id": "43caf2ea",
   "metadata": {},
   "outputs": [
    {
     "data": {
      "text/plain": [
       "'200321'"
      ]
     },
     "execution_count": 55,
     "metadata": {},
     "output_type": "execute_result"
    }
   ],
   "source": [
    "todays_date.strftime('%f') # microseconds as number"
   ]
  },
  {
   "cell_type": "code",
   "execution_count": 56,
   "id": "f351d521",
   "metadata": {},
   "outputs": [
    {
     "data": {
      "text/plain": [
       "'01'"
      ]
     },
     "execution_count": 56,
     "metadata": {},
     "output_type": "execute_result"
    }
   ],
   "source": [
    "todays_date.strftime('%W') # Week number of year"
   ]
  },
  {
   "cell_type": "code",
   "execution_count": 57,
   "id": "7000d5f8",
   "metadata": {},
   "outputs": [
    {
     "data": {
      "text/plain": [
       "'Mon Jan  3 07:37:52 2022'"
      ]
     },
     "execution_count": 57,
     "metadata": {},
     "output_type": "execute_result"
    }
   ],
   "source": [
    "todays_date.strftime('%c') # local appropriate datetime"
   ]
  },
  {
   "cell_type": "code",
   "execution_count": 58,
   "id": "a273b8af",
   "metadata": {},
   "outputs": [
    {
     "data": {
      "text/plain": [
       "'01/03/22'"
      ]
     },
     "execution_count": 58,
     "metadata": {},
     "output_type": "execute_result"
    }
   ],
   "source": [
    "todays_date.strftime('%x') # local appropriate date"
   ]
  },
  {
   "cell_type": "code",
   "execution_count": 59,
   "id": "342d9df5",
   "metadata": {},
   "outputs": [
    {
     "data": {
      "text/plain": [
       "'07:37:52'"
      ]
     },
     "execution_count": 59,
     "metadata": {},
     "output_type": "execute_result"
    }
   ],
   "source": [
    "todays_date.strftime('%X') # local appropriate time"
   ]
  },
  {
   "cell_type": "code",
   "execution_count": null,
   "id": "9ddbf1b8",
   "metadata": {},
   "outputs": [],
   "source": []
  },
  {
   "cell_type": "code",
   "execution_count": 61,
   "id": "4bfd5a03",
   "metadata": {},
   "outputs": [
    {
     "name": "stdout",
     "output_type": "stream",
     "text": [
      "2022-01-03 07:40:13.024832\n"
     ]
    }
   ],
   "source": [
    "todays_date = datetime.datetime.now()\n",
    "print(todays_date)"
   ]
  },
  {
   "cell_type": "code",
   "execution_count": 62,
   "id": "378e38ee",
   "metadata": {},
   "outputs": [
    {
     "data": {
      "text/plain": [
       "'03-01-2022'"
      ]
     },
     "execution_count": 62,
     "metadata": {},
     "output_type": "execute_result"
    }
   ],
   "source": [
    "todays_date.strftime('%d-%m-%Y')"
   ]
  },
  {
   "cell_type": "code",
   "execution_count": 63,
   "id": "9ea0e7bd",
   "metadata": {},
   "outputs": [
    {
     "data": {
      "text/plain": [
       "'03 01 2022'"
      ]
     },
     "execution_count": 63,
     "metadata": {},
     "output_type": "execute_result"
    }
   ],
   "source": [
    "todays_date.strftime('%d %m %Y')"
   ]
  },
  {
   "cell_type": "code",
   "execution_count": 64,
   "id": "03e702d5",
   "metadata": {},
   "outputs": [
    {
     "data": {
      "text/plain": [
       "'03 Jan 2022'"
      ]
     },
     "execution_count": 64,
     "metadata": {},
     "output_type": "execute_result"
    }
   ],
   "source": [
    "# 03 Jan 2022\n",
    "todays_date.strftime('%d %b %Y')"
   ]
  },
  {
   "cell_type": "code",
   "execution_count": 67,
   "id": "088700b9",
   "metadata": {},
   "outputs": [
    {
     "name": "stdout",
     "output_type": "stream",
     "text": [
      "2022-12-15 00:00:00\n"
     ]
    }
   ],
   "source": [
    "random_date = datetime.datetime(2022,12,15)\n",
    "print(random_date)"
   ]
  },
  {
   "cell_type": "code",
   "execution_count": 68,
   "id": "e3d6e986",
   "metadata": {},
   "outputs": [
    {
     "name": "stdout",
     "output_type": "stream",
     "text": [
      "1947-08-15 00:00:00\n"
     ]
    }
   ],
   "source": [
    "random_date = datetime.datetime(1947,8,15)\n",
    "print(random_date)"
   ]
  },
  {
   "cell_type": "code",
   "execution_count": 71,
   "id": "6ca4fe5a",
   "metadata": {},
   "outputs": [
    {
     "data": {
      "text/plain": [
       "'Fri'"
      ]
     },
     "execution_count": 71,
     "metadata": {},
     "output_type": "execute_result"
    }
   ],
   "source": [
    "random_date.strftime('%a')"
   ]
  },
  {
   "cell_type": "code",
   "execution_count": 72,
   "id": "a9e2b870",
   "metadata": {},
   "outputs": [
    {
     "name": "stdout",
     "output_type": "stream",
     "text": [
      "1995-08-15 00:00:00\n"
     ]
    },
    {
     "data": {
      "text/plain": [
       "'Tue'"
      ]
     },
     "execution_count": 72,
     "metadata": {},
     "output_type": "execute_result"
    }
   ],
   "source": [
    "random_date = datetime.datetime(1995,8,15)\n",
    "print(random_date)\n",
    "random_date.strftime('%a')"
   ]
  },
  {
   "cell_type": "markdown",
   "id": "608a5dc1",
   "metadata": {},
   "source": [
    "### strptime"
   ]
  },
  {
   "cell_type": "code",
   "execution_count": null,
   "id": "f0b05189",
   "metadata": {},
   "outputs": [],
   "source": [
    "strptime >> string parser >> string format to datetime\n",
    "string points to time/string parser to time \n",
    "Create an datetime object from given string"
   ]
  },
  {
   "cell_type": "code",
   "execution_count": null,
   "id": "a8af3311",
   "metadata": {},
   "outputs": [],
   "source": [
    "date = '20 Aug 2021'\n",
    "\n",
    "d1 = datetime.datetime.strptime(date, dateformat)"
   ]
  },
  {
   "cell_type": "code",
   "execution_count": 75,
   "id": "a82859f3",
   "metadata": {},
   "outputs": [
    {
     "name": "stdout",
     "output_type": "stream",
     "text": [
      "2021-08-20\n"
     ]
    }
   ],
   "source": [
    "string = '20 Aug 2021'\n",
    "\n",
    "d1 = datetime.datetime.strptime(string, '%d %b %Y')\n",
    "print(d1.date())"
   ]
  },
  {
   "cell_type": "code",
   "execution_count": 77,
   "id": "bf958278",
   "metadata": {},
   "outputs": [
    {
     "name": "stdout",
     "output_type": "stream",
     "text": [
      "2021-08-21 00:00:00\n"
     ]
    }
   ],
   "source": [
    "string = 'Aug 21 2021'\n",
    "\n",
    "d1 = datetime.datetime.strptime(string, '%b %d %Y')\n",
    "print(d1)"
   ]
  },
  {
   "cell_type": "code",
   "execution_count": 80,
   "id": "63f1d74f",
   "metadata": {},
   "outputs": [
    {
     "data": {
      "text/plain": [
       "'08/20/21'"
      ]
     },
     "execution_count": 80,
     "metadata": {},
     "output_type": "execute_result"
    }
   ],
   "source": [
    "string = '20 Aug 2021'\n",
    "\n",
    "d1 = datetime.datetime.strptime(string, '%d %b %Y')\n",
    "d1.strftime('%D')"
   ]
  },
  {
   "cell_type": "code",
   "execution_count": 81,
   "id": "e7222f8d",
   "metadata": {},
   "outputs": [
    {
     "ename": "AttributeError",
     "evalue": "'str' object has no attribute 'strftime'",
     "output_type": "error",
     "traceback": [
      "\u001b[1;31m---------------------------------------------------------------------------\u001b[0m",
      "\u001b[1;31mAttributeError\u001b[0m                            Traceback (most recent call last)",
      "\u001b[1;32m<ipython-input-81-b3c8aff4746c>\u001b[0m in \u001b[0;36m<module>\u001b[1;34m\u001b[0m\n\u001b[1;32m----> 1\u001b[1;33m \u001b[0mstring\u001b[0m\u001b[1;33m.\u001b[0m\u001b[0mstrftime\u001b[0m\u001b[1;33m(\u001b[0m\u001b[1;34m'%D'\u001b[0m\u001b[1;33m)\u001b[0m\u001b[1;33m\u001b[0m\u001b[1;33m\u001b[0m\u001b[0m\n\u001b[0m",
      "\u001b[1;31mAttributeError\u001b[0m: 'str' object has no attribute 'strftime'"
     ]
    }
   ],
   "source": [
    "string.strftime('%D')"
   ]
  },
  {
   "cell_type": "code",
   "execution_count": 83,
   "id": "3f901452",
   "metadata": {},
   "outputs": [
    {
     "name": "stdout",
     "output_type": "stream",
     "text": [
      "2021-08-20 00:00:00\n"
     ]
    }
   ],
   "source": [
    "string = '20-August-2021'\n",
    "\n",
    "d1 = datetime.datetime.strptime(string, '%d-%B-%Y')\n",
    "print(d1)"
   ]
  },
  {
   "cell_type": "code",
   "execution_count": 85,
   "id": "7fb42fac",
   "metadata": {},
   "outputs": [
    {
     "name": "stdout",
     "output_type": "stream",
     "text": [
      "2021-10-13 00:00:00\n"
     ]
    }
   ],
   "source": [
    "string = '13/10/2021'\n",
    "\n",
    "d1 = datetime.datetime.strptime(string, '%d/%m/%Y')\n",
    "print(d1)"
   ]
  },
  {
   "cell_type": "code",
   "execution_count": 86,
   "id": "d1cfd52e",
   "metadata": {},
   "outputs": [
    {
     "name": "stdout",
     "output_type": "stream",
     "text": [
      "2021-10-13 00:00:00\n"
     ]
    }
   ],
   "source": [
    "string = '13102021'\n",
    "\n",
    "d1 = datetime.datetime.strptime(string, '%d%m%Y')\n",
    "print(d1)"
   ]
  },
  {
   "cell_type": "code",
   "execution_count": 4,
   "id": "e09d8563",
   "metadata": {},
   "outputs": [
    {
     "ename": "ValueError",
     "evalue": "unconverted data remains: 1",
     "output_type": "error",
     "traceback": [
      "\u001b[1;31m---------------------------------------------------------------------------\u001b[0m",
      "\u001b[1;31mValueError\u001b[0m                                Traceback (most recent call last)",
      "\u001b[1;32m~\\AppData\\Local\\Temp/ipykernel_5416/3945896565.py\u001b[0m in \u001b[0;36m<module>\u001b[1;34m\u001b[0m\n\u001b[0;32m      1\u001b[0m \u001b[0mstring\u001b[0m \u001b[1;33m=\u001b[0m \u001b[1;34m'12232021'\u001b[0m\u001b[1;33m\u001b[0m\u001b[1;33m\u001b[0m\u001b[0m\n\u001b[0;32m      2\u001b[0m \u001b[1;33m\u001b[0m\u001b[0m\n\u001b[1;32m----> 3\u001b[1;33m \u001b[0md1\u001b[0m \u001b[1;33m=\u001b[0m \u001b[0mdatetime\u001b[0m\u001b[1;33m.\u001b[0m\u001b[0mdatetime\u001b[0m\u001b[1;33m.\u001b[0m\u001b[0mstrptime\u001b[0m\u001b[1;33m(\u001b[0m\u001b[0mstring\u001b[0m\u001b[1;33m,\u001b[0m \u001b[1;34m'%d%m%Y'\u001b[0m\u001b[1;33m)\u001b[0m\u001b[1;33m\u001b[0m\u001b[1;33m\u001b[0m\u001b[0m\n\u001b[0m\u001b[0;32m      4\u001b[0m \u001b[0mprint\u001b[0m\u001b[1;33m(\u001b[0m\u001b[0md1\u001b[0m\u001b[1;33m)\u001b[0m\u001b[1;33m\u001b[0m\u001b[1;33m\u001b[0m\u001b[0m\n",
      "\u001b[1;32mC:\\ProgramData\\Anaconda3\\lib\\_strptime.py\u001b[0m in \u001b[0;36m_strptime_datetime\u001b[1;34m(cls, data_string, format)\u001b[0m\n\u001b[0;32m    566\u001b[0m     \"\"\"Return a class cls instance based on the input string and the\n\u001b[0;32m    567\u001b[0m     format string.\"\"\"\n\u001b[1;32m--> 568\u001b[1;33m     \u001b[0mtt\u001b[0m\u001b[1;33m,\u001b[0m \u001b[0mfraction\u001b[0m\u001b[1;33m,\u001b[0m \u001b[0mgmtoff_fraction\u001b[0m \u001b[1;33m=\u001b[0m \u001b[0m_strptime\u001b[0m\u001b[1;33m(\u001b[0m\u001b[0mdata_string\u001b[0m\u001b[1;33m,\u001b[0m \u001b[0mformat\u001b[0m\u001b[1;33m)\u001b[0m\u001b[1;33m\u001b[0m\u001b[1;33m\u001b[0m\u001b[0m\n\u001b[0m\u001b[0;32m    569\u001b[0m     \u001b[0mtzname\u001b[0m\u001b[1;33m,\u001b[0m \u001b[0mgmtoff\u001b[0m \u001b[1;33m=\u001b[0m \u001b[0mtt\u001b[0m\u001b[1;33m[\u001b[0m\u001b[1;33m-\u001b[0m\u001b[1;36m2\u001b[0m\u001b[1;33m:\u001b[0m\u001b[1;33m]\u001b[0m\u001b[1;33m\u001b[0m\u001b[1;33m\u001b[0m\u001b[0m\n\u001b[0;32m    570\u001b[0m     \u001b[0margs\u001b[0m \u001b[1;33m=\u001b[0m \u001b[0mtt\u001b[0m\u001b[1;33m[\u001b[0m\u001b[1;33m:\u001b[0m\u001b[1;36m6\u001b[0m\u001b[1;33m]\u001b[0m \u001b[1;33m+\u001b[0m \u001b[1;33m(\u001b[0m\u001b[0mfraction\u001b[0m\u001b[1;33m,\u001b[0m\u001b[1;33m)\u001b[0m\u001b[1;33m\u001b[0m\u001b[1;33m\u001b[0m\u001b[0m\n",
      "\u001b[1;32mC:\\ProgramData\\Anaconda3\\lib\\_strptime.py\u001b[0m in \u001b[0;36m_strptime\u001b[1;34m(data_string, format)\u001b[0m\n\u001b[0;32m    350\u001b[0m                          (data_string, format))\n\u001b[0;32m    351\u001b[0m     \u001b[1;32mif\u001b[0m \u001b[0mlen\u001b[0m\u001b[1;33m(\u001b[0m\u001b[0mdata_string\u001b[0m\u001b[1;33m)\u001b[0m \u001b[1;33m!=\u001b[0m \u001b[0mfound\u001b[0m\u001b[1;33m.\u001b[0m\u001b[0mend\u001b[0m\u001b[1;33m(\u001b[0m\u001b[1;33m)\u001b[0m\u001b[1;33m:\u001b[0m\u001b[1;33m\u001b[0m\u001b[1;33m\u001b[0m\u001b[0m\n\u001b[1;32m--> 352\u001b[1;33m         raise ValueError(\"unconverted data remains: %s\" %\n\u001b[0m\u001b[0;32m    353\u001b[0m                           data_string[found.end():])\n\u001b[0;32m    354\u001b[0m \u001b[1;33m\u001b[0m\u001b[0m\n",
      "\u001b[1;31mValueError\u001b[0m: unconverted data remains: 1"
     ]
    }
   ],
   "source": [
    "string = '12232021'\n",
    "\n",
    "d1 = datetime.datetime.strptime(string, '%d%m%Y')\n",
    "print(d1)"
   ]
  },
  {
   "cell_type": "code",
   "execution_count": 89,
   "id": "0c251c5c",
   "metadata": {},
   "outputs": [
    {
     "name": "stdout",
     "output_type": "stream",
     "text": [
      "2021-02-01 00:00:00\n"
     ]
    }
   ],
   "source": [
    "string = '122021'\n",
    "\n",
    "d1 = datetime.datetime.strptime(string, '%d%m%Y')\n",
    "print(d1)"
   ]
  },
  {
   "cell_type": "code",
   "execution_count": 92,
   "id": "942df2dc",
   "metadata": {},
   "outputs": [
    {
     "name": "stdout",
     "output_type": "stream",
     "text": [
      "Date is : 13/10/2021 2021-10-13\n",
      "Date is : 13 Oct 2021 2021-10-13\n",
      "Date is : 13-10-2021 2021-10-13\n",
      "Date is : 15/10/2021 2021-10-15\n",
      "Date is : 2021 Oct 13 2021-10-13\n",
      "Date is : 2021/10/13 2021-10-13\n",
      "Date is : 15-Oct-2021 2021-10-15\n",
      "Date is : 10/13/2021 2021-10-13\n",
      "Date is : 20/10/2021 2021-10-20\n"
     ]
    }
   ],
   "source": [
    "date_list = ['13/10/2021', '13 Oct 2021', '13-10-2021','15/10/2021','2021 Oct 13', '2021/10/13', '15-Oct-2021', \n",
    "            '10/13/2021','20/10/2021']\n",
    "\n",
    "date_format_list = ['%d/%m/%Y', '%d/%m/%y', '%d %b %Y', '%d-%m-%Y', '%Y %b %d', '%d-%b-%Y', '%Y/%m/%d', '%m/%d/%Y' ]\n",
    "\n",
    "for date in date_list:\n",
    "    for date_format in date_format_list:\n",
    "#         print('date format ', date_format)\n",
    "        try:\n",
    "            d1 = datetime.datetime.strptime(date, date_format)\n",
    "        except:\n",
    "            continue\n",
    "    print('Date is :',date , d1.date())"
   ]
  },
  {
   "cell_type": "code",
   "execution_count": 93,
   "id": "901b0248",
   "metadata": {},
   "outputs": [
    {
     "ename": "ValueError",
     "evalue": "time data '13/10/2021' does not match format '%d %b %Y'",
     "output_type": "error",
     "traceback": [
      "\u001b[1;31m---------------------------------------------------------------------------\u001b[0m",
      "\u001b[1;31mValueError\u001b[0m                                Traceback (most recent call last)",
      "\u001b[1;32m<ipython-input-93-84a310f1456a>\u001b[0m in \u001b[0;36m<module>\u001b[1;34m\u001b[0m\n\u001b[0;32m      8\u001b[0m \u001b[1;31m#         print('date format ', date_format)\u001b[0m\u001b[1;33m\u001b[0m\u001b[1;33m\u001b[0m\u001b[1;33m\u001b[0m\u001b[0m\n\u001b[0;32m      9\u001b[0m \u001b[1;33m\u001b[0m\u001b[0m\n\u001b[1;32m---> 10\u001b[1;33m         \u001b[0md1\u001b[0m \u001b[1;33m=\u001b[0m \u001b[0mdatetime\u001b[0m\u001b[1;33m.\u001b[0m\u001b[0mdatetime\u001b[0m\u001b[1;33m.\u001b[0m\u001b[0mstrptime\u001b[0m\u001b[1;33m(\u001b[0m\u001b[0mdate\u001b[0m\u001b[1;33m,\u001b[0m \u001b[0mdate_format\u001b[0m\u001b[1;33m)\u001b[0m\u001b[1;33m\u001b[0m\u001b[1;33m\u001b[0m\u001b[0m\n\u001b[0m\u001b[0;32m     11\u001b[0m \u001b[1;33m\u001b[0m\u001b[0m\n\u001b[0;32m     12\u001b[0m     \u001b[0mprint\u001b[0m\u001b[1;33m(\u001b[0m\u001b[1;34m'Date is :'\u001b[0m\u001b[1;33m,\u001b[0m\u001b[0mdate\u001b[0m \u001b[1;33m,\u001b[0m \u001b[0md1\u001b[0m\u001b[1;33m.\u001b[0m\u001b[0mdate\u001b[0m\u001b[1;33m(\u001b[0m\u001b[1;33m)\u001b[0m\u001b[1;33m)\u001b[0m\u001b[1;33m\u001b[0m\u001b[1;33m\u001b[0m\u001b[0m\n",
      "\u001b[1;32m~\\anaconda3\\lib\\_strptime.py\u001b[0m in \u001b[0;36m_strptime_datetime\u001b[1;34m(cls, data_string, format)\u001b[0m\n\u001b[0;32m    566\u001b[0m     \"\"\"Return a class cls instance based on the input string and the\n\u001b[0;32m    567\u001b[0m     format string.\"\"\"\n\u001b[1;32m--> 568\u001b[1;33m     \u001b[0mtt\u001b[0m\u001b[1;33m,\u001b[0m \u001b[0mfraction\u001b[0m\u001b[1;33m,\u001b[0m \u001b[0mgmtoff_fraction\u001b[0m \u001b[1;33m=\u001b[0m \u001b[0m_strptime\u001b[0m\u001b[1;33m(\u001b[0m\u001b[0mdata_string\u001b[0m\u001b[1;33m,\u001b[0m \u001b[0mformat\u001b[0m\u001b[1;33m)\u001b[0m\u001b[1;33m\u001b[0m\u001b[1;33m\u001b[0m\u001b[0m\n\u001b[0m\u001b[0;32m    569\u001b[0m     \u001b[0mtzname\u001b[0m\u001b[1;33m,\u001b[0m \u001b[0mgmtoff\u001b[0m \u001b[1;33m=\u001b[0m \u001b[0mtt\u001b[0m\u001b[1;33m[\u001b[0m\u001b[1;33m-\u001b[0m\u001b[1;36m2\u001b[0m\u001b[1;33m:\u001b[0m\u001b[1;33m]\u001b[0m\u001b[1;33m\u001b[0m\u001b[1;33m\u001b[0m\u001b[0m\n\u001b[0;32m    570\u001b[0m     \u001b[0margs\u001b[0m \u001b[1;33m=\u001b[0m \u001b[0mtt\u001b[0m\u001b[1;33m[\u001b[0m\u001b[1;33m:\u001b[0m\u001b[1;36m6\u001b[0m\u001b[1;33m]\u001b[0m \u001b[1;33m+\u001b[0m \u001b[1;33m(\u001b[0m\u001b[0mfraction\u001b[0m\u001b[1;33m,\u001b[0m\u001b[1;33m)\u001b[0m\u001b[1;33m\u001b[0m\u001b[1;33m\u001b[0m\u001b[0m\n",
      "\u001b[1;32m~\\anaconda3\\lib\\_strptime.py\u001b[0m in \u001b[0;36m_strptime\u001b[1;34m(data_string, format)\u001b[0m\n\u001b[0;32m    347\u001b[0m     \u001b[0mfound\u001b[0m \u001b[1;33m=\u001b[0m \u001b[0mformat_regex\u001b[0m\u001b[1;33m.\u001b[0m\u001b[0mmatch\u001b[0m\u001b[1;33m(\u001b[0m\u001b[0mdata_string\u001b[0m\u001b[1;33m)\u001b[0m\u001b[1;33m\u001b[0m\u001b[1;33m\u001b[0m\u001b[0m\n\u001b[0;32m    348\u001b[0m     \u001b[1;32mif\u001b[0m \u001b[1;32mnot\u001b[0m \u001b[0mfound\u001b[0m\u001b[1;33m:\u001b[0m\u001b[1;33m\u001b[0m\u001b[1;33m\u001b[0m\u001b[0m\n\u001b[1;32m--> 349\u001b[1;33m         raise ValueError(\"time data %r does not match format %r\" %\n\u001b[0m\u001b[0;32m    350\u001b[0m                          (data_string, format))\n\u001b[0;32m    351\u001b[0m     \u001b[1;32mif\u001b[0m \u001b[0mlen\u001b[0m\u001b[1;33m(\u001b[0m\u001b[0mdata_string\u001b[0m\u001b[1;33m)\u001b[0m \u001b[1;33m!=\u001b[0m \u001b[0mfound\u001b[0m\u001b[1;33m.\u001b[0m\u001b[0mend\u001b[0m\u001b[1;33m(\u001b[0m\u001b[1;33m)\u001b[0m\u001b[1;33m:\u001b[0m\u001b[1;33m\u001b[0m\u001b[1;33m\u001b[0m\u001b[0m\n",
      "\u001b[1;31mValueError\u001b[0m: time data '13/10/2021' does not match format '%d %b %Y'"
     ]
    }
   ],
   "source": [
    "date_list = ['13/10/2021', '13 Oct 2021', '13-10-2021','15/10/2021','2021 Oct 13', '2021/10/13', '15-Oct-2021', \n",
    "            '10/13/2021','20/10/2021']\n",
    "\n",
    "date_format_list = ['%d/%m/%Y', '%d %b %Y', '%d-%m-%Y', '%Y %b %d', '%d-%b-%Y', '%Y/%m/%d', '%m/%d/%Y' ]\n",
    "\n",
    "for date in date_list:\n",
    "    for date_format in date_format_list:\n",
    "#         print('date format ', date_format)\n",
    "        \n",
    "        d1 = datetime.datetime.strptime(date, date_format)\n",
    "        \n",
    "    print('Date is :',date , d1.date())"
   ]
  },
  {
   "cell_type": "code",
   "execution_count": 94,
   "id": "fb18ef1c",
   "metadata": {},
   "outputs": [
    {
     "ename": "ValueError",
     "evalue": "time data '13/10/2021' does not match format '%d %b %y'",
     "output_type": "error",
     "traceback": [
      "\u001b[1;31m---------------------------------------------------------------------------\u001b[0m",
      "\u001b[1;31mValueError\u001b[0m                                Traceback (most recent call last)",
      "\u001b[1;32m<ipython-input-94-322f46fffc5d>\u001b[0m in \u001b[0;36m<module>\u001b[1;34m\u001b[0m\n\u001b[0;32m      8\u001b[0m \u001b[1;31m#         print('date format ', date_format)\u001b[0m\u001b[1;33m\u001b[0m\u001b[1;33m\u001b[0m\u001b[1;33m\u001b[0m\u001b[0m\n\u001b[0;32m      9\u001b[0m \u001b[1;31m#         try:\u001b[0m\u001b[1;33m\u001b[0m\u001b[1;33m\u001b[0m\u001b[1;33m\u001b[0m\u001b[0m\n\u001b[1;32m---> 10\u001b[1;33m         \u001b[0md1\u001b[0m \u001b[1;33m=\u001b[0m \u001b[0mdatetime\u001b[0m\u001b[1;33m.\u001b[0m\u001b[0mdatetime\u001b[0m\u001b[1;33m.\u001b[0m\u001b[0mstrptime\u001b[0m\u001b[1;33m(\u001b[0m\u001b[0mdate\u001b[0m\u001b[1;33m,\u001b[0m \u001b[0mdate_format\u001b[0m\u001b[1;33m)\u001b[0m\u001b[1;33m\u001b[0m\u001b[1;33m\u001b[0m\u001b[0m\n\u001b[0m\u001b[0;32m     11\u001b[0m \u001b[1;31m#         except:\u001b[0m\u001b[1;33m\u001b[0m\u001b[1;33m\u001b[0m\u001b[1;33m\u001b[0m\u001b[0m\n\u001b[0;32m     12\u001b[0m \u001b[1;31m#             continue\u001b[0m\u001b[1;33m\u001b[0m\u001b[1;33m\u001b[0m\u001b[1;33m\u001b[0m\u001b[0m\n",
      "\u001b[1;32m~\\anaconda3\\lib\\_strptime.py\u001b[0m in \u001b[0;36m_strptime_datetime\u001b[1;34m(cls, data_string, format)\u001b[0m\n\u001b[0;32m    566\u001b[0m     \"\"\"Return a class cls instance based on the input string and the\n\u001b[0;32m    567\u001b[0m     format string.\"\"\"\n\u001b[1;32m--> 568\u001b[1;33m     \u001b[0mtt\u001b[0m\u001b[1;33m,\u001b[0m \u001b[0mfraction\u001b[0m\u001b[1;33m,\u001b[0m \u001b[0mgmtoff_fraction\u001b[0m \u001b[1;33m=\u001b[0m \u001b[0m_strptime\u001b[0m\u001b[1;33m(\u001b[0m\u001b[0mdata_string\u001b[0m\u001b[1;33m,\u001b[0m \u001b[0mformat\u001b[0m\u001b[1;33m)\u001b[0m\u001b[1;33m\u001b[0m\u001b[1;33m\u001b[0m\u001b[0m\n\u001b[0m\u001b[0;32m    569\u001b[0m     \u001b[0mtzname\u001b[0m\u001b[1;33m,\u001b[0m \u001b[0mgmtoff\u001b[0m \u001b[1;33m=\u001b[0m \u001b[0mtt\u001b[0m\u001b[1;33m[\u001b[0m\u001b[1;33m-\u001b[0m\u001b[1;36m2\u001b[0m\u001b[1;33m:\u001b[0m\u001b[1;33m]\u001b[0m\u001b[1;33m\u001b[0m\u001b[1;33m\u001b[0m\u001b[0m\n\u001b[0;32m    570\u001b[0m     \u001b[0margs\u001b[0m \u001b[1;33m=\u001b[0m \u001b[0mtt\u001b[0m\u001b[1;33m[\u001b[0m\u001b[1;33m:\u001b[0m\u001b[1;36m6\u001b[0m\u001b[1;33m]\u001b[0m \u001b[1;33m+\u001b[0m \u001b[1;33m(\u001b[0m\u001b[0mfraction\u001b[0m\u001b[1;33m,\u001b[0m\u001b[1;33m)\u001b[0m\u001b[1;33m\u001b[0m\u001b[1;33m\u001b[0m\u001b[0m\n",
      "\u001b[1;32m~\\anaconda3\\lib\\_strptime.py\u001b[0m in \u001b[0;36m_strptime\u001b[1;34m(data_string, format)\u001b[0m\n\u001b[0;32m    347\u001b[0m     \u001b[0mfound\u001b[0m \u001b[1;33m=\u001b[0m \u001b[0mformat_regex\u001b[0m\u001b[1;33m.\u001b[0m\u001b[0mmatch\u001b[0m\u001b[1;33m(\u001b[0m\u001b[0mdata_string\u001b[0m\u001b[1;33m)\u001b[0m\u001b[1;33m\u001b[0m\u001b[1;33m\u001b[0m\u001b[0m\n\u001b[0;32m    348\u001b[0m     \u001b[1;32mif\u001b[0m \u001b[1;32mnot\u001b[0m \u001b[0mfound\u001b[0m\u001b[1;33m:\u001b[0m\u001b[1;33m\u001b[0m\u001b[1;33m\u001b[0m\u001b[0m\n\u001b[1;32m--> 349\u001b[1;33m         raise ValueError(\"time data %r does not match format %r\" %\n\u001b[0m\u001b[0;32m    350\u001b[0m                          (data_string, format))\n\u001b[0;32m    351\u001b[0m     \u001b[1;32mif\u001b[0m \u001b[0mlen\u001b[0m\u001b[1;33m(\u001b[0m\u001b[0mdata_string\u001b[0m\u001b[1;33m)\u001b[0m \u001b[1;33m!=\u001b[0m \u001b[0mfound\u001b[0m\u001b[1;33m.\u001b[0m\u001b[0mend\u001b[0m\u001b[1;33m(\u001b[0m\u001b[1;33m)\u001b[0m\u001b[1;33m:\u001b[0m\u001b[1;33m\u001b[0m\u001b[1;33m\u001b[0m\u001b[0m\n",
      "\u001b[1;31mValueError\u001b[0m: time data '13/10/2021' does not match format '%d %b %y'"
     ]
    }
   ],
   "source": [
    "date_list = ['13/10/2021', '13 Oct 21', '13-10-2021','15/10/2021','2021 Oct 13', '2021/10/13', '15-Oct-2021', \n",
    "            '10/13/2021','20/10/2021']\n",
    "\n",
    "date_format_list = ['%d/%m/%Y', '%d %b %y', '%d %b %Y', '%d-%m-%Y', '%Y %b %d', '%d-%b-%Y', '%Y/%m/%d', '%m/%d/%Y' ]\n",
    "\n",
    "for date in date_list:\n",
    "    for date_format in date_format_list:\n",
    "#         print('date format ', date_format)\n",
    "#         try:\n",
    "        d1 = datetime.datetime.strptime(date, date_format)\n",
    "#         except:\n",
    "#             continue\n",
    "    print('Date is :',date , d1.date())"
   ]
  },
  {
   "cell_type": "code",
   "execution_count": 106,
   "id": "8980c358",
   "metadata": {},
   "outputs": [
    {
     "name": "stdout",
     "output_type": "stream",
     "text": [
      "2021-10-20\n"
     ]
    }
   ],
   "source": [
    "date_list = ['13/10/2021', '13 Oct 21', '13-10-2021','15/10/2021','2021 Oct 13', '2021/10/13', '15-Oct-2021', \n",
    "            '10/13/2021','20/10/2021']\n",
    "\n",
    "date_format_list = ['%d/%m/%Y', '%d %b %y', '%d %b %Y', '%d-%m-%Y', '%Y %b %d', '%d-%b-%Y', '%Y/%m/%d', '%m/%d/%Y' ]\n",
    "\n",
    "\n",
    "def get_date(input_date):\n",
    "    for date_format in date_format_list:\n",
    "        try:\n",
    "            d1 = datetime.datetime.strptime(input_date , date_format)\n",
    "            return d1\n",
    "        except:\n",
    "            continue\n",
    "            \n",
    "print(get_date('20/10/2021').date())"
   ]
  },
  {
   "cell_type": "code",
   "execution_count": 108,
   "id": "4ef4687c",
   "metadata": {},
   "outputs": [
    {
     "name": "stdout",
     "output_type": "stream",
     "text": [
      "2021-10-13 13/10/2021\n",
      "2021-10-13 13 Oct 21\n",
      "2021-10-13 13-10-2021\n",
      "2021-10-15 15/10/2021\n",
      "2021-10-13 2021 Oct 13\n",
      "2021-10-13 2021/10/13\n",
      "2021-10-15 15-Oct-2021\n",
      "2021-10-13 10/13/2021\n",
      "2021-10-20 20/10/2021\n"
     ]
    }
   ],
   "source": [
    "for date in date_list:\n",
    "#     print(date)\n",
    "    new_date = get_date(date)\n",
    "    print(new_date.date(), date)"
   ]
  },
  {
   "cell_type": "code",
   "execution_count": 101,
   "id": "f4d71e86",
   "metadata": {},
   "outputs": [
    {
     "ename": "AttributeError",
     "evalue": "'NoneType' object has no attribute 'date'",
     "output_type": "error",
     "traceback": [
      "\u001b[1;31m---------------------------------------------------------------------------\u001b[0m",
      "\u001b[1;31mAttributeError\u001b[0m                            Traceback (most recent call last)",
      "\u001b[1;32m<ipython-input-101-457a9d2d557a>\u001b[0m in \u001b[0;36m<module>\u001b[1;34m\u001b[0m\n\u001b[0;32m     13\u001b[0m             \u001b[1;32mcontinue\u001b[0m\u001b[1;33m\u001b[0m\u001b[1;33m\u001b[0m\u001b[0m\n\u001b[0;32m     14\u001b[0m \u001b[1;33m\u001b[0m\u001b[0m\n\u001b[1;32m---> 15\u001b[1;33m \u001b[0mprint\u001b[0m\u001b[1;33m(\u001b[0m\u001b[0mget_date\u001b[0m\u001b[1;33m(\u001b[0m\u001b[1;33m*\u001b[0m\u001b[0mdate_list\u001b[0m\u001b[1;33m)\u001b[0m\u001b[1;33m.\u001b[0m\u001b[0mdate\u001b[0m\u001b[1;33m(\u001b[0m\u001b[1;33m)\u001b[0m\u001b[1;33m)\u001b[0m\u001b[1;33m\u001b[0m\u001b[1;33m\u001b[0m\u001b[0m\n\u001b[0m",
      "\u001b[1;31mAttributeError\u001b[0m: 'NoneType' object has no attribute 'date'"
     ]
    }
   ],
   "source": [
    "date_list = ['13/10/2021', '13 Oct 21', '13-10-2021','15/10/2021','2021 Oct 13', '2021/10/13', '15-Oct-2021', \n",
    "            '10/13/2021','20/10/2021']\n",
    "\n",
    "date_format_list = ['%d/%m/%Y', '%d %b %y', '%d %b %Y', '%d-%m-%Y', '%Y %b %d', '%d-%b-%Y', '%Y/%m/%d', '%m/%d/%Y' ]\n",
    "\n",
    "\n",
    "def get_date(*input_date):\n",
    "    for date_format in date_format_list:\n",
    "        try:\n",
    "            d1 = datetime.datetime.strptime(input_date , date_format)\n",
    "            return d1\n",
    "        except:\n",
    "            continue\n",
    "            \n",
    "print(get_date(date_list).date())"
   ]
  },
  {
   "cell_type": "code",
   "execution_count": null,
   "id": "fdb4e6ca",
   "metadata": {},
   "outputs": [],
   "source": []
  },
  {
   "cell_type": "code",
   "execution_count": null,
   "id": "56c59833",
   "metadata": {},
   "outputs": [],
   "source": []
  },
  {
   "cell_type": "code",
   "execution_count": null,
   "id": "f2da27ee",
   "metadata": {},
   "outputs": [],
   "source": []
  },
  {
   "cell_type": "code",
   "execution_count": null,
   "id": "d401b172",
   "metadata": {},
   "outputs": [],
   "source": []
  },
  {
   "cell_type": "code",
   "execution_count": null,
   "id": "d3690402",
   "metadata": {},
   "outputs": [],
   "source": []
  },
  {
   "cell_type": "code",
   "execution_count": null,
   "id": "2c84b62c",
   "metadata": {},
   "outputs": [],
   "source": []
  },
  {
   "cell_type": "code",
   "execution_count": null,
   "id": "1e8d34e7",
   "metadata": {},
   "outputs": [],
   "source": []
  },
  {
   "cell_type": "code",
   "execution_count": null,
   "id": "44afc59b",
   "metadata": {},
   "outputs": [],
   "source": []
  }
 ],
 "metadata": {
  "kernelspec": {
   "display_name": "Python 3 (ipykernel)",
   "language": "python",
   "name": "python3"
  },
  "language_info": {
   "codemirror_mode": {
    "name": "ipython",
    "version": 3
   },
   "file_extension": ".py",
   "mimetype": "text/x-python",
   "name": "python",
   "nbconvert_exporter": "python",
   "pygments_lexer": "ipython3",
   "version": "3.9.7"
  }
 },
 "nbformat": 4,
 "nbformat_minor": 5
}
