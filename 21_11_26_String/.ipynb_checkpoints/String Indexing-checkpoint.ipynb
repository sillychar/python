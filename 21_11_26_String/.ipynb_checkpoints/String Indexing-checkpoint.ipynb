{
 "cells": [
  {
   "cell_type": "markdown",
   "id": "50f255a2",
   "metadata": {},
   "source": [
    "String is immutable data type\n",
    ">>>immutable = we cannot perform any changes \n",
    "Once string is created we can not change it"
   ]
  },
  {
   "cell_type": "markdown",
   "id": "c8ec8c45",
   "metadata": {},
   "source": [
    "### 1. Positive Indexing"
   ]
  },
  {
   "cell_type": "markdown",
   "id": "6727f8d1",
   "metadata": {},
   "source": [
    "Indexing will start from 0 index"
   ]
  },
  {
   "cell_type": "code",
   "execution_count": 7,
   "id": "6b477b59",
   "metadata": {},
   "outputs": [
    {
     "name": "stdout",
     "output_type": "stream",
     "text": [
      "Length of string is : 6\n"
     ]
    }
   ],
   "source": [
    "str1 = 'Python'\n",
    "length= len(str1)\n",
    "print('Length of string is :',length)"
   ]
  },
  {
   "cell_type": "code",
   "execution_count": null,
   "id": "10349d1e",
   "metadata": {},
   "outputs": [],
   "source": [
    "str1 = 'Python'\n",
    "P  y  t  h  o  n\n",
    "0  1  2  3  4  5"
   ]
  },
  {
   "cell_type": "code",
   "execution_count": 11,
   "id": "1659338f",
   "metadata": {},
   "outputs": [
    {
     "data": {
      "text/plain": [
       "'h'"
      ]
     },
     "execution_count": 11,
     "metadata": {},
     "output_type": "execute_result"
    }
   ],
   "source": [
    "str1[3]"
   ]
  },
  {
   "cell_type": "code",
   "execution_count": 12,
   "id": "d2a4aba9",
   "metadata": {},
   "outputs": [
    {
     "data": {
      "text/plain": [
       "12"
      ]
     },
     "execution_count": 12,
     "metadata": {},
     "output_type": "execute_result"
    }
   ],
   "source": [
    "str2='Python class'\n",
    "len(str2)"
   ]
  },
  {
   "cell_type": "code",
   "execution_count": 14,
   "id": "12285790",
   "metadata": {},
   "outputs": [
    {
     "data": {
      "text/plain": [
       "' '"
      ]
     },
     "execution_count": 14,
     "metadata": {},
     "output_type": "execute_result"
    }
   ],
   "source": [
    "str2[6]"
   ]
  },
  {
   "cell_type": "code",
   "execution_count": 15,
   "id": "1f3d5bf2",
   "metadata": {},
   "outputs": [
    {
     "data": {
      "text/plain": [
       "'c'"
      ]
     },
     "execution_count": 15,
     "metadata": {},
     "output_type": "execute_result"
    }
   ],
   "source": [
    "str2[7]"
   ]
  },
  {
   "cell_type": "code",
   "execution_count": 16,
   "id": "59e7a127",
   "metadata": {},
   "outputs": [
    {
     "data": {
      "text/plain": [
       "'o'"
      ]
     },
     "execution_count": 16,
     "metadata": {},
     "output_type": "execute_result"
    }
   ],
   "source": [
    "str2[7-3]"
   ]
  },
  {
   "cell_type": "markdown",
   "id": "063106af",
   "metadata": {},
   "source": [
    "### 2. Negative Indexing"
   ]
  },
  {
   "cell_type": "code",
   "execution_count": 22,
   "id": "d054c101",
   "metadata": {},
   "outputs": [
    {
     "data": {
      "text/plain": [
       "8"
      ]
     },
     "execution_count": 22,
     "metadata": {},
     "output_type": "execute_result"
    }
   ],
   "source": [
    "str1= 'Velocity'\n",
    "len(str1)"
   ]
  },
  {
   "cell_type": "code",
   "execution_count": 18,
   "id": "bef7c177",
   "metadata": {},
   "outputs": [],
   "source": [
    "V  e  l  o  c  i  t  y\n",
    "-8 -7 -6 -5 -4-3 -2  -1"
   ]
  },
  {
   "cell_type": "code",
   "execution_count": 20,
   "id": "92d4b267",
   "metadata": {},
   "outputs": [
    {
     "data": {
      "text/plain": [
       "'i'"
      ]
     },
     "execution_count": 20,
     "metadata": {},
     "output_type": "execute_result"
    }
   ],
   "source": [
    "str1[-3]"
   ]
  },
  {
   "cell_type": "code",
   "execution_count": 21,
   "id": "890daee3",
   "metadata": {},
   "outputs": [
    {
     "data": {
      "text/plain": [
       "'i'"
      ]
     },
     "execution_count": 21,
     "metadata": {},
     "output_type": "execute_result"
    }
   ],
   "source": [
    "str1[5]"
   ]
  },
  {
   "cell_type": "code",
   "execution_count": 23,
   "id": "e52e405f",
   "metadata": {},
   "outputs": [
    {
     "data": {
      "text/plain": [
       "'y'"
      ]
     },
     "execution_count": 23,
     "metadata": {},
     "output_type": "execute_result"
    }
   ],
   "source": [
    "str1[len(str1)-1]"
   ]
  },
  {
   "cell_type": "code",
   "execution_count": 24,
   "id": "5cc966cd",
   "metadata": {},
   "outputs": [
    {
     "data": {
      "text/plain": [
       "8"
      ]
     },
     "execution_count": 24,
     "metadata": {},
     "output_type": "execute_result"
    }
   ],
   "source": [
    "len(str1)"
   ]
  },
  {
   "cell_type": "code",
   "execution_count": 27,
   "id": "f4f49388",
   "metadata": {},
   "outputs": [
    {
     "data": {
      "text/plain": [
       "'y'"
      ]
     },
     "execution_count": 27,
     "metadata": {},
     "output_type": "execute_result"
    }
   ],
   "source": [
    "str1[8-1]"
   ]
  },
  {
   "cell_type": "code",
   "execution_count": null,
   "id": "a57f92e4",
   "metadata": {},
   "outputs": [],
   "source": []
  }
 ],
 "metadata": {
  "kernelspec": {
   "display_name": "Python 3",
   "language": "python",
   "name": "python3"
  },
  "language_info": {
   "codemirror_mode": {
    "name": "ipython",
    "version": 3
   },
   "file_extension": ".py",
   "mimetype": "text/x-python",
   "name": "python",
   "nbconvert_exporter": "python",
   "pygments_lexer": "ipython3",
   "version": "3.8.8"
  }
 },
 "nbformat": 4,
 "nbformat_minor": 5
}
