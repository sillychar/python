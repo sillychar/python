{
 "cells": [
  {
   "cell_type": "markdown",
   "id": "f654c0b2",
   "metadata": {},
   "source": [
    "# String"
   ]
  },
  {
   "cell_type": "code",
   "execution_count": null,
   "id": "39368b44",
   "metadata": {},
   "outputs": [],
   "source": [
    "1. Collection of characters surrounded by single qoutes, double qoutes or triple qoutes\n",
    "2. We can not use single qoute inside single qoute\n",
    "3. We can not use double qoute inside double qoute"
   ]
  },
  {
   "cell_type": "code",
   "execution_count": 1,
   "id": "bd9c5d99",
   "metadata": {},
   "outputs": [],
   "source": [
    "single_qoute = 'Python and Data Science'\n",
    "double_qoute = \"Python and Data Science\""
   ]
  },
  {
   "cell_type": "code",
   "execution_count": 3,
   "id": "a6e58a7c",
   "metadata": {},
   "outputs": [
    {
     "name": "stdout",
     "output_type": "stream",
     "text": [
      "Python and Data Science\n",
      "Python and Data Science\n"
     ]
    }
   ],
   "source": [
    "print(single_qoute)\n",
    "print(double_qoute)"
   ]
  },
  {
   "cell_type": "code",
   "execution_count": 4,
   "id": "b55f07ee",
   "metadata": {},
   "outputs": [
    {
     "data": {
      "text/plain": [
       "'Python and Data Science'"
      ]
     },
     "execution_count": 4,
     "metadata": {},
     "output_type": "execute_result"
    }
   ],
   "source": [
    "single_qoute"
   ]
  },
  {
   "cell_type": "code",
   "execution_count": 5,
   "id": "f1a2993d",
   "metadata": {},
   "outputs": [],
   "source": [
    "str1 = 'Python\"s class'"
   ]
  },
  {
   "cell_type": "code",
   "execution_count": 7,
   "id": "1d41c441",
   "metadata": {},
   "outputs": [],
   "source": [
    "str2 = \"Python's Class\""
   ]
  },
  {
   "cell_type": "code",
   "execution_count": 8,
   "id": "c71b993c",
   "metadata": {},
   "outputs": [
    {
     "data": {
      "text/plain": [
       "'Velocity\"s Class'"
      ]
     },
     "execution_count": 8,
     "metadata": {},
     "output_type": "execute_result"
    }
   ],
   "source": [
    "str3 = \"\"\"Velocity\"s Class\"\"\"T\n",
    "str3"
   ]
  },
  {
   "cell_type": "code",
   "execution_count": null,
   "id": "0fd37833",
   "metadata": {},
   "outputs": [],
   "source": [
    "Triple Qoutes >> Multiline String"
   ]
  },
  {
   "cell_type": "code",
   "execution_count": 10,
   "id": "27ec2ba8",
   "metadata": {},
   "outputs": [
    {
     "name": "stdout",
     "output_type": "stream",
     "text": [
      "Data science is an interdisciplinary field that uses scientific methods,\n",
      "processes, algorithms and systems to extract knowledge and insights from noisy, \n",
      "structured and unstructured data, and apply knowledge and actionable insights from \n",
      "data across a broad range of application domains\n"
     ]
    }
   ],
   "source": [
    "data_science= '''Data science is an interdisciplinary field that uses scientific methods,\n",
    "processes, algorithms and systems to extract knowledge and insights from noisy, \n",
    "structured and unstructured data, and apply knowledge and actionable insights from \n",
    "data across a broad range of application domains'''\n",
    "print(data_science)"
   ]
  },
  {
   "cell_type": "markdown",
   "id": "617a0853",
   "metadata": {},
   "source": [
    "### Escape Character"
   ]
  },
  {
   "cell_type": "code",
   "execution_count": null,
   "id": "639b1bd9",
   "metadata": {},
   "outputs": [],
   "source": [
    "backslash (\\) >> Escape char"
   ]
  },
  {
   "cell_type": "code",
   "execution_count": 13,
   "id": "745aa64c",
   "metadata": {},
   "outputs": [
    {
     "name": "stdout",
     "output_type": "stream",
     "text": [
      "Python's class\n"
     ]
    }
   ],
   "source": [
    "string = 'Python\\'s class'\n",
    "print(string)"
   ]
  },
  {
   "cell_type": "code",
   "execution_count": 14,
   "id": "1e33fbb5",
   "metadata": {},
   "outputs": [
    {
     "name": "stdout",
     "output_type": "stream",
     "text": [
      "We are learning \"Python\" and Data Science\n"
     ]
    }
   ],
   "source": [
    "string1 = \"We are learning \\\"Python\\\" and Data Science\"\n",
    "print(string1)"
   ]
  },
  {
   "cell_type": "code",
   "execution_count": 15,
   "id": "dad8d9e6",
   "metadata": {},
   "outputs": [
    {
     "name": "stdout",
     "output_type": "stream",
     "text": [
      "We are learning \"Python\" and Data Science\n"
     ]
    }
   ],
   "source": [
    "string1 = 'We are learning \"Python\" and Data Science'\n",
    "print(string1)"
   ]
  },
  {
   "cell_type": "code",
   "execution_count": 16,
   "id": "75a56e67",
   "metadata": {},
   "outputs": [
    {
     "name": "stdout",
     "output_type": "stream",
     "text": [
      "We are learning 'Python' and Data Science\n"
     ]
    }
   ],
   "source": [
    "string1 = \"We are learning 'Python' and Data Science\"\n",
    "print(string1)"
   ]
  },
  {
   "cell_type": "markdown",
   "id": "34979376",
   "metadata": {},
   "source": [
    "### \\n >> New line"
   ]
  },
  {
   "cell_type": "code",
   "execution_count": 22,
   "id": "0594840f",
   "metadata": {},
   "outputs": [
    {
     "name": "stdout",
     "output_type": "stream",
     "text": [
      "python\n",
      "class\n"
     ]
    }
   ],
   "source": [
    "a= 'python'\n",
    "b= 'class'\n",
    "print(a)\n",
    "print(b)"
   ]
  },
  {
   "cell_type": "code",
   "execution_count": 24,
   "id": "8b8fdcaf",
   "metadata": {},
   "outputs": [
    {
     "name": "stdout",
     "output_type": "stream",
     "text": [
      "python class\n"
     ]
    }
   ],
   "source": [
    "a= 'python'\n",
    "b= 'class'\n",
    "print(a, end=' ')\n",
    "print(b)"
   ]
  },
  {
   "cell_type": "code",
   "execution_count": 26,
   "id": "6fed7409",
   "metadata": {},
   "outputs": [
    {
     "name": "stdout",
     "output_type": "stream",
     "text": [
      "python\n",
      "\n",
      "\n",
      "\t\tclass\n"
     ]
    }
   ],
   "source": [
    "a= 'python'\n",
    "b= 'class'\n",
    "print(a, end='\\n\\n\\n\\t\\t')\n",
    "print(b)"
   ]
  },
  {
   "cell_type": "code",
   "execution_count": 28,
   "id": "62917ba5",
   "metadata": {},
   "outputs": [
    {
     "name": "stdout",
     "output_type": "stream",
     "text": [
      "python\t\tclass\n"
     ]
    }
   ],
   "source": [
    "a= 'python'\n",
    "b= 'class'\n",
    "print(a, end='\\t\\t')\n",
    "print(b)"
   ]
  },
  {
   "cell_type": "code",
   "execution_count": 21,
   "id": "8b5de82a",
   "metadata": {},
   "outputs": [
    {
     "name": "stdout",
     "output_type": "stream",
     "text": [
      "python++class\n"
     ]
    }
   ],
   "source": [
    "a= 'python'\n",
    "b= 'class'\n",
    "print(a, end='++')\n",
    "print(b)"
   ]
  },
  {
   "cell_type": "code",
   "execution_count": 29,
   "id": "be8d1fdc",
   "metadata": {},
   "outputs": [
    {
     "name": "stdout",
     "output_type": "stream",
     "text": [
      "Data science is an interdisciplinary field that uses scientific methods\n"
     ]
    }
   ],
   "source": [
    "data= 'Data science is an interdisciplinary field that uses scientific methods'\n",
    "print(data)"
   ]
  },
  {
   "cell_type": "code",
   "execution_count": 30,
   "id": "e7f99658",
   "metadata": {},
   "outputs": [
    {
     "name": "stdout",
     "output_type": "stream",
     "text": [
      "Data science is an interdisciplinary \n",
      "field that uses scientific methods\n"
     ]
    }
   ],
   "source": [
    "data= 'Data science is an interdisciplinary \\nfield that uses scientific methods'\n",
    "print(data) # \\n"
   ]
  },
  {
   "cell_type": "markdown",
   "id": "28116414",
   "metadata": {},
   "source": [
    "### \\t >> tab"
   ]
  },
  {
   "cell_type": "code",
   "execution_count": 42,
   "id": "b15f248d",
   "metadata": {},
   "outputs": [
    {
     "name": "stdout",
     "output_type": "stream",
     "text": [
      "datascience\n"
     ]
    }
   ],
   "source": [
    "str4= 'datascience'\n",
    "print(str4)"
   ]
  },
  {
   "cell_type": "code",
   "execution_count": 43,
   "id": "c58a1235",
   "metadata": {},
   "outputs": [
    {
     "name": "stdout",
     "output_type": "stream",
     "text": [
      "data\tscience\n"
     ]
    }
   ],
   "source": [
    "str4= 'data\\tscience'\n",
    "print(str4)"
   ]
  },
  {
   "cell_type": "code",
   "execution_count": 45,
   "id": "940a3cc3",
   "metadata": {},
   "outputs": [
    {
     "name": "stdout",
     "output_type": "stream",
     "text": [
      "\tdata\n",
      "science\n"
     ]
    }
   ],
   "source": [
    "str4= '\\tdata\\nscience'\n",
    "print(str4)"
   ]
  }
 ],
 "metadata": {
  "kernelspec": {
   "display_name": "Python 3 (ipykernel)",
   "language": "python",
   "name": "python3"
  },
  "language_info": {
   "codemirror_mode": {
    "name": "ipython",
    "version": 3
   },
   "file_extension": ".py",
   "mimetype": "text/x-python",
   "name": "python",
   "nbconvert_exporter": "python",
   "pygments_lexer": "ipython3",
   "version": "3.9.7"
  }
 },
 "nbformat": 4,
 "nbformat_minor": 5
}
