{
 "cells": [
  {
   "cell_type": "markdown",
   "id": "4edd0aab",
   "metadata": {},
   "source": [
    "String is immutable data type\n",
    "immutable = we cannot perform any changes \n",
    "Once string is created we can not change it"
   ]
  },
  {
   "cell_type": "markdown",
   "id": "b311e4d3",
   "metadata": {},
   "source": [
    "### 1. Positive Indexing"
   ]
  },
  {
   "cell_type": "markdown",
   "id": "6fff8214",
   "metadata": {},
   "source": [
    "Indexing will start from 0 index"
   ]
  },
  {
   "cell_type": "code",
   "execution_count": 7,
   "id": "2f36b149",
   "metadata": {},
   "outputs": [
    {
     "name": "stdout",
     "output_type": "stream",
     "text": [
      "Length of string is : 6\n"
     ]
    }
   ],
   "source": [
    "str1 = 'Python'\n",
    "length= len(str1)\n",
    "print('Length of string is :',length)"
   ]
  },
  {
   "cell_type": "code",
   "execution_count": null,
   "id": "bc73e3db",
   "metadata": {},
   "outputs": [],
   "source": [
    "str1 = 'Python'\n",
    "P  y  t  h  o  n\n",
    "0  1  2  3  4  5"
   ]
  },
  {
   "cell_type": "code",
   "execution_count": 11,
   "id": "c417ba7b",
   "metadata": {},
   "outputs": [
    {
     "data": {
      "text/plain": [
       "'h'"
      ]
     },
     "execution_count": 11,
     "metadata": {},
     "output_type": "execute_result"
    }
   ],
   "source": [
    "str1[3]"
   ]
  },
  {
   "cell_type": "code",
   "execution_count": 12,
   "id": "78e453dc",
   "metadata": {},
   "outputs": [
    {
     "data": {
      "text/plain": [
       "12"
      ]
     },
     "execution_count": 12,
     "metadata": {},
     "output_type": "execute_result"
    }
   ],
   "source": [
    "str2='Python class'\n",
    "len(str2)"
   ]
  },
  {
   "cell_type": "code",
   "execution_count": 14,
   "id": "f3ac3cf9",
   "metadata": {},
   "outputs": [
    {
     "data": {
      "text/plain": [
       "' '"
      ]
     },
     "execution_count": 14,
     "metadata": {},
     "output_type": "execute_result"
    }
   ],
   "source": [
    "str2[6]"
   ]
  },
  {
   "cell_type": "code",
   "execution_count": 15,
   "id": "5fb3a3a4",
   "metadata": {},
   "outputs": [
    {
     "data": {
      "text/plain": [
       "'c'"
      ]
     },
     "execution_count": 15,
     "metadata": {},
     "output_type": "execute_result"
    }
   ],
   "source": [
    "str2[7]"
   ]
  },
  {
   "cell_type": "code",
   "execution_count": 16,
   "id": "4f071902",
   "metadata": {},
   "outputs": [
    {
     "data": {
      "text/plain": [
       "'o'"
      ]
     },
     "execution_count": 16,
     "metadata": {},
     "output_type": "execute_result"
    }
   ],
   "source": [
    "str2[7-3]"
   ]
  },
  {
   "cell_type": "markdown",
   "id": "88f22d5b",
   "metadata": {},
   "source": [
    "### 2. Negative Indexing"
   ]
  },
  {
   "cell_type": "code",
   "execution_count": 22,
   "id": "6c4ae1bc",
   "metadata": {},
   "outputs": [
    {
     "data": {
      "text/plain": [
       "8"
      ]
     },
     "execution_count": 22,
     "metadata": {},
     "output_type": "execute_result"
    }
   ],
   "source": [
    "str1= 'Velocity'\n",
    "len(str1)"
   ]
  },
  {
   "cell_type": "code",
   "execution_count": 18,
   "id": "e7c61832",
   "metadata": {},
   "outputs": [],
   "source": [
    "V  e  l  o  c  i  t  y\n",
    "-8 -7 -6 -5 -4-3 -2  -1"
   ]
  },
  {
   "cell_type": "code",
   "execution_count": 20,
   "id": "c4123ff4",
   "metadata": {},
   "outputs": [
    {
     "data": {
      "text/plain": [
       "'i'"
      ]
     },
     "execution_count": 20,
     "metadata": {},
     "output_type": "execute_result"
    }
   ],
   "source": [
    "str1[-3]"
   ]
  },
  {
   "cell_type": "code",
   "execution_count": 29,
   "id": "14431740",
   "metadata": {},
   "outputs": [
    {
     "data": {
      "text/plain": [
       "'i'"
      ]
     },
     "execution_count": 29,
     "metadata": {},
     "output_type": "execute_result"
    }
   ],
   "source": [
    "str1[5]"
   ]
  },
  {
   "cell_type": "code",
   "execution_count": 23,
   "id": "bada28a3",
   "metadata": {},
   "outputs": [
    {
     "data": {
      "text/plain": [
       "'y'"
      ]
     },
     "execution_count": 23,
     "metadata": {},
     "output_type": "execute_result"
    }
   ],
   "source": [
    "str1[len(str1)-1]"
   ]
  },
  {
   "cell_type": "code",
   "execution_count": 24,
   "id": "2afca0b9",
   "metadata": {},
   "outputs": [
    {
     "data": {
      "text/plain": [
       "8"
      ]
     },
     "execution_count": 24,
     "metadata": {},
     "output_type": "execute_result"
    }
   ],
   "source": [
    "len(str1)"
   ]
  },
  {
   "cell_type": "code",
   "execution_count": 27,
   "id": "9ad88844",
   "metadata": {},
   "outputs": [
    {
     "data": {
      "text/plain": [
       "'y'"
      ]
     },
     "execution_count": 27,
     "metadata": {},
     "output_type": "execute_result"
    }
   ],
   "source": [
    "str1[8-1]"
   ]
  },
  {
   "cell_type": "code",
   "execution_count": null,
   "id": "d9d14542",
   "metadata": {},
   "outputs": [],
   "source": []
  }
 ],
 "metadata": {
  "kernelspec": {
   "display_name": "Python 3 (ipykernel)",
   "language": "python",
   "name": "python3"
  },
  "language_info": {
   "codemirror_mode": {
    "name": "ipython",
    "version": 3
   },
   "file_extension": ".py",
   "mimetype": "text/x-python",
   "name": "python",
   "nbconvert_exporter": "python",
   "pygments_lexer": "ipython3",
   "version": "3.9.7"
  }
 },
 "nbformat": 4,
 "nbformat_minor": 5
}
