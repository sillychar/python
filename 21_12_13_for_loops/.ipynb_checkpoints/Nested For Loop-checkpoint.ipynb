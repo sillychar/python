{
 "cells": [
  {
   "cell_type": "markdown",
   "id": "dee7b4f7",
   "metadata": {},
   "source": [
    "## Nested For loop"
   ]
  },
  {
   "cell_type": "code",
   "execution_count": null,
   "id": "5c641a2c",
   "metadata": {},
   "outputs": [],
   "source": [
    "For loop inside For loop"
   ]
  },
  {
   "cell_type": "code",
   "execution_count": 11,
   "id": "378a037f",
   "metadata": {},
   "outputs": [
    {
     "name": "stdout",
     "output_type": "stream",
     "text": [
      "* \n",
      "* * \n",
      "* * * \n",
      "* * * * \n",
      "* * * * * \n",
      "* * * * * * \n",
      "* * * * * * * \n",
      "* * * * * * * * \n",
      "* * * * * * * * * \n"
     ]
    }
   ],
   "source": [
    "for i in range(1,10):\n",
    "    print('* '*i)"
   ]
  },
  {
   "cell_type": "code",
   "execution_count": 23,
   "id": "d67049ec",
   "metadata": {},
   "outputs": [
    {
     "name": "stdout",
     "output_type": "stream",
     "text": [
      "char is p\n",
      "char is y\n",
      "char is t\n",
      "char is h\n",
      "char is o\n",
      "char is n\n"
     ]
    }
   ],
   "source": [
    "for char in ('python'):\n",
    "    print('char is',char)"
   ]
  },
  {
   "cell_type": "code",
   "execution_count": 29,
   "id": "2e4677f1",
   "metadata": {},
   "outputs": [
    {
     "name": "stdout",
     "output_type": "stream",
     "text": [
      "char is p\n",
      "Main loop\n",
      "Number is : 1\n",
      "Number is : 2\n",
      "Number is : 3\n",
      "Number is : 4\n",
      "Number is : 5\n",
      "char is y\n",
      "Main loop\n",
      "Number is : 1\n",
      "Number is : 2\n",
      "Number is : 3\n",
      "Number is : 4\n",
      "Number is : 5\n",
      "char is t\n",
      "Main loop\n",
      "Number is : 1\n",
      "Number is : 2\n",
      "Number is : 3\n",
      "Number is : 4\n",
      "Number is : 5\n",
      "char is h\n",
      "Main loop\n",
      "Number is : 1\n",
      "Number is : 2\n",
      "Number is : 3\n",
      "Number is : 4\n",
      "Number is : 5\n",
      "char is o\n",
      "Main loop\n",
      "Number is : 1\n",
      "Number is : 2\n",
      "Number is : 3\n",
      "Number is : 4\n",
      "Number is : 5\n",
      "char is n\n",
      "Main loop\n",
      "Number is : 1\n",
      "Number is : 2\n",
      "Number is : 3\n",
      "Number is : 4\n",
      "Number is : 5\n"
     ]
    }
   ],
   "source": [
    "for char in ('python'):\n",
    "    print('char is',char)\n",
    "    print('Main loop')\n",
    "    for i in range(1,6): # 1 2 3 4 5\n",
    "        print('Number is :',i)"
   ]
  },
  {
   "cell_type": "code",
   "execution_count": 33,
   "id": "d9a9cc20",
   "metadata": {},
   "outputs": [
    {
     "name": "stdout",
     "output_type": "stream",
     "text": [
      "char is p\n",
      "Number is : 1\n",
      "Number is : 2\n",
      "\n",
      "char is y\n",
      "Number is : 1\n",
      "Number is : 2\n",
      "\n",
      "char is t\n",
      "Number is : 1\n",
      "Number is : 2\n",
      "\n",
      "char is h\n",
      "Number is : 1\n",
      "Number is : 2\n",
      "\n",
      "char is o\n",
      "Number is : 1\n",
      "Number is : 2\n",
      "\n",
      "char is n\n",
      "Number is : 1\n",
      "Number is : 2\n",
      "\n"
     ]
    }
   ],
   "source": [
    "for char in ('python'): # char p\n",
    "    print('char is',char)\n",
    "    for i in range(1,3):\n",
    "        print(\"Number is :\",i)\n",
    "    print()"
   ]
  },
  {
   "cell_type": "code",
   "execution_count": 36,
   "id": "8fad1655",
   "metadata": {},
   "outputs": [
    {
     "name": "stdout",
     "output_type": "stream",
     "text": [
      "char is p\n",
      "Number is : 1\n",
      "Second loop val is : 0\n",
      "Second loop val is : 1\n",
      "Number is : 2\n",
      "Second loop val is : 0\n",
      "Second loop val is : 1\n",
      "\n",
      "char is y\n",
      "Number is : 1\n",
      "Second loop val is : 0\n",
      "Second loop val is : 1\n",
      "Number is : 2\n",
      "Second loop val is : 0\n",
      "Second loop val is : 1\n",
      "\n",
      "char is t\n",
      "Number is : 1\n",
      "Second loop val is : 0\n",
      "Second loop val is : 1\n",
      "Number is : 2\n",
      "Second loop val is : 0\n",
      "Second loop val is : 1\n",
      "\n",
      "char is h\n",
      "Number is : 1\n",
      "Second loop val is : 0\n",
      "Second loop val is : 1\n",
      "Number is : 2\n",
      "Second loop val is : 0\n",
      "Second loop val is : 1\n",
      "\n",
      "char is o\n",
      "Number is : 1\n",
      "Second loop val is : 0\n",
      "Second loop val is : 1\n",
      "Number is : 2\n",
      "Second loop val is : 0\n",
      "Second loop val is : 1\n",
      "\n",
      "char is n\n",
      "Number is : 1\n",
      "Second loop val is : 0\n",
      "Second loop val is : 1\n",
      "Number is : 2\n",
      "Second loop val is : 0\n",
      "Second loop val is : 1\n",
      "\n"
     ]
    }
   ],
   "source": [
    "for char in ('python'): # char p\n",
    "    print('char is',char)\n",
    "    for i in range(1,3):\n",
    "        print(\"Number is :\",i)\n",
    "        for j in range(2):\n",
    "            print('Second loop val is :',j)\n",
    "    print()"
   ]
  },
  {
   "cell_type": "code",
   "execution_count": null,
   "id": "3ca4196c",
   "metadata": {},
   "outputs": [],
   "source": []
  },
  {
   "cell_type": "code",
   "execution_count": null,
   "id": "3d81147c",
   "metadata": {},
   "outputs": [],
   "source": []
  },
  {
   "cell_type": "code",
   "execution_count": null,
   "id": "995263e3",
   "metadata": {},
   "outputs": [],
   "source": []
  },
  {
   "cell_type": "code",
   "execution_count": null,
   "id": "e4dd2013",
   "metadata": {},
   "outputs": [],
   "source": []
  },
  {
   "cell_type": "code",
   "execution_count": null,
   "id": "4e6da206",
   "metadata": {},
   "outputs": [],
   "source": []
  },
  {
   "cell_type": "code",
   "execution_count": null,
   "id": "db57151e",
   "metadata": {},
   "outputs": [],
   "source": []
  },
  {
   "cell_type": "code",
   "execution_count": null,
   "id": "d2dd4fa2",
   "metadata": {},
   "outputs": [],
   "source": []
  },
  {
   "cell_type": "code",
   "execution_count": null,
   "id": "6849975f",
   "metadata": {},
   "outputs": [],
   "source": []
  },
  {
   "cell_type": "code",
   "execution_count": null,
   "id": "94023033",
   "metadata": {},
   "outputs": [],
   "source": []
  },
  {
   "cell_type": "code",
   "execution_count": null,
   "id": "55207e6e",
   "metadata": {},
   "outputs": [],
   "source": []
  },
  {
   "cell_type": "code",
   "execution_count": null,
   "id": "033e19f2",
   "metadata": {},
   "outputs": [],
   "source": []
  },
  {
   "cell_type": "code",
   "execution_count": null,
   "id": "a4159788",
   "metadata": {},
   "outputs": [],
   "source": []
  },
  {
   "cell_type": "code",
   "execution_count": null,
   "id": "3df6edb1",
   "metadata": {},
   "outputs": [],
   "source": []
  },
  {
   "cell_type": "code",
   "execution_count": null,
   "id": "88cdc4ca",
   "metadata": {},
   "outputs": [],
   "source": []
  },
  {
   "cell_type": "code",
   "execution_count": null,
   "id": "dae7a7ce",
   "metadata": {},
   "outputs": [],
   "source": []
  },
  {
   "cell_type": "code",
   "execution_count": null,
   "id": "8467825b",
   "metadata": {},
   "outputs": [],
   "source": []
  },
  {
   "cell_type": "code",
   "execution_count": null,
   "id": "73dc576f",
   "metadata": {},
   "outputs": [],
   "source": []
  },
  {
   "cell_type": "code",
   "execution_count": null,
   "id": "38c0cd6b",
   "metadata": {},
   "outputs": [],
   "source": []
  },
  {
   "cell_type": "code",
   "execution_count": null,
   "id": "91115193",
   "metadata": {},
   "outputs": [],
   "source": []
  },
  {
   "cell_type": "code",
   "execution_count": null,
   "id": "c6584da9",
   "metadata": {},
   "outputs": [],
   "source": []
  },
  {
   "cell_type": "code",
   "execution_count": null,
   "id": "bb14f05d",
   "metadata": {},
   "outputs": [],
   "source": []
  },
  {
   "cell_type": "code",
   "execution_count": null,
   "id": "887bf9cf",
   "metadata": {},
   "outputs": [],
   "source": []
  }
 ],
 "metadata": {
  "kernelspec": {
   "display_name": "Python 3",
   "language": "python",
   "name": "python3"
  },
  "language_info": {
   "codemirror_mode": {
    "name": "ipython",
    "version": 3
   },
   "file_extension": ".py",
   "mimetype": "text/x-python",
   "name": "python",
   "nbconvert_exporter": "python",
   "pygments_lexer": "ipython3",
   "version": "3.8.8"
  }
 },
 "nbformat": 4,
 "nbformat_minor": 5
}
