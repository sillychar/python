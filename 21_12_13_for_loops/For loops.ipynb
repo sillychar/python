{
 "cells": [
  {
   "cell_type": "markdown",
   "id": "f3e5d19e",
   "metadata": {},
   "source": [
    "### Loops in Python"
   ]
  },
  {
   "cell_type": "markdown",
   "id": "b7bdad41",
   "metadata": {},
   "source": [
    "1. For loop\n",
    "2. while loop\n",
    "Same functionality but different syntax\n",
    "It executes set of statements/code"
   ]
  },
  {
   "cell_type": "markdown",
   "id": "7c31299e",
   "metadata": {},
   "source": [
    "#### For loop"
   ]
  },
  {
   "cell_type": "code",
   "execution_count": null,
   "id": "590ba31f",
   "metadata": {},
   "outputs": [],
   "source": [
    "It works like an iterator sequence >> str, list, tuple, set ,range, dict etc.(iterables)\n",
    "Iterables >> any sequence of character which we can iterate through will be iterables.\n",
    "syntax of for loop:\n",
    "for variable_name in sequence/iterables:\n",
    "    print(variable_name)\n",
    "    statement1/code1\n",
    "    statement2/code2"
   ]
  },
  {
   "cell_type": "code",
   "execution_count": 2,
   "id": "97b612f0",
   "metadata": {},
   "outputs": [
    {
     "name": "stdout",
     "output_type": "stream",
     "text": [
      "We are learning Python Language\n",
      "We are learning Python Language\n",
      "We are learning Python Language\n",
      "We are learning Python Language\n"
     ]
    }
   ],
   "source": [
    "string = 'We are learning Python Language'\n",
    "print(string)\n",
    "print(string)\n",
    "print(string)\n",
    "print(string)"
   ]
  },
  {
   "cell_type": "code",
   "execution_count": 5,
   "id": "8e2e7c19",
   "metadata": {},
   "outputs": [
    {
     "name": "stdout",
     "output_type": "stream",
     "text": [
      "We are learning Python Language\n",
      "hi\n",
      "\n",
      "We are learning Python Language\n",
      "hi\n",
      "\n",
      "We are learning Python Language\n",
      "hi\n",
      "\n",
      "We are learning Python Language\n",
      "hi\n",
      "\n",
      "We are learning Python Language\n",
      "hi\n",
      "\n"
     ]
    }
   ],
   "source": [
    "string = 'We are learning Python Language'\n",
    "for i in range(5): # 0 1 2 3 4\n",
    "    print(string)\n",
    "    print('hi')\n",
    "    print()"
   ]
  },
  {
   "cell_type": "code",
   "execution_count": 7,
   "id": "699b404c",
   "metadata": {},
   "outputs": [
    {
     "name": "stdout",
     "output_type": "stream",
     "text": [
      "0 We are learning Python Language\n",
      "1 We are learning Python Language\n",
      "2 We are learning Python Language\n",
      "3 We are learning Python Language\n",
      "4 We are learning Python Language\n",
      "5 We are learning Python Language\n",
      "6 We are learning Python Language\n",
      "7 We are learning Python Language\n",
      "8 We are learning Python Language\n",
      "9 We are learning Python Language\n"
     ]
    }
   ],
   "source": [
    "string = 'We are learning Python Language'\n",
    "for i in range(10): # 0 1 2 3 4 5 6 7 8 9\n",
    "    print(i,string)\n"
   ]
  },
  {
   "cell_type": "markdown",
   "id": "d7fc6bc5",
   "metadata": {},
   "source": [
    "#### 1. for loop using string"
   ]
  },
  {
   "cell_type": "code",
   "execution_count": 9,
   "id": "cc42f0f1",
   "metadata": {},
   "outputs": [
    {
     "name": "stdout",
     "output_type": "stream",
     "text": [
      "P\n",
      "y\n",
      "t\n",
      "h\n",
      "o\n",
      "n\n",
      " \n",
      "L\n",
      "a\n",
      "n\n",
      "g\n",
      "u\n",
      "a\n",
      "g\n",
      "e\n"
     ]
    }
   ],
   "source": [
    "str1 = 'Python Language' # length >>15\n",
    "for char in str1:\n",
    "    print(char)"
   ]
  },
  {
   "cell_type": "code",
   "execution_count": 11,
   "id": "f90c71cd",
   "metadata": {},
   "outputs": [
    {
     "name": "stdout",
     "output_type": "stream",
     "text": [
      "P\n",
      "Python is Programming Language\n",
      "\n",
      "y\n",
      "Python is Programming Language\n",
      "\n",
      "t\n",
      "Python is Programming Language\n",
      "\n",
      "h\n",
      "Python is Programming Language\n",
      "\n",
      "o\n",
      "Python is Programming Language\n",
      "\n",
      "n\n",
      "Python is Programming Language\n",
      "\n"
     ]
    }
   ],
   "source": [
    "str1= 'Python' # length >>6\n",
    "for char in str1:\n",
    "    print(char)\n",
    "    print('Python is Programming Language')\n",
    "    print()"
   ]
  },
  {
   "cell_type": "code",
   "execution_count": 12,
   "id": "49546d60",
   "metadata": {},
   "outputs": [
    {
     "name": "stdout",
     "output_type": "stream",
     "text": [
      "Char is  P\n",
      "Python is Programming Language\n",
      "\n",
      "Char is  y\n",
      "Python is Programming Language\n",
      "\n",
      "Char is  t\n",
      "Python is Programming Language\n",
      "\n",
      "Char is  h\n",
      "Python is Programming Language\n",
      "\n",
      "Char is  o\n",
      "Python is Programming Language\n",
      "\n",
      "Char is  n\n",
      "Python is Programming Language\n",
      "\n"
     ]
    }
   ],
   "source": [
    "str1= 'Python' # length >>6\n",
    "for char in str1:\n",
    "    print('Char is ',char)\n",
    "    print('Python is Programming Language')\n",
    "    print()"
   ]
  },
  {
   "cell_type": "code",
   "execution_count": 13,
   "id": "2997308d",
   "metadata": {},
   "outputs": [
    {
     "name": "stdout",
     "output_type": "stream",
     "text": [
      "2\n",
      "3\n",
      "4\n",
      "5\n",
      "6\n"
     ]
    }
   ],
   "source": [
    "list1 = [2,3,4,5,6]\n",
    "for i in list1:\n",
    "    print(i)"
   ]
  },
  {
   "cell_type": "code",
   "execution_count": 15,
   "id": "88796a06",
   "metadata": {},
   "outputs": [
    {
     "name": "stdout",
     "output_type": "stream",
     "text": [
      "2\n",
      "3\n",
      "4\n",
      "5\n",
      "6\n"
     ]
    }
   ],
   "source": [
    "list1 = [2,3,4,5,6]\n",
    "for var in list1:\n",
    "    print(var)"
   ]
  },
  {
   "cell_type": "code",
   "execution_count": 17,
   "id": "85fe5d95",
   "metadata": {},
   "outputs": [
    {
     "name": "stdout",
     "output_type": "stream",
     "text": [
      "2\n",
      "3\n",
      "4\n",
      "python\n",
      "5\n",
      "Class\n",
      "7\n"
     ]
    }
   ],
   "source": [
    "list1 = [2,3,4,'python',5,'Class',7]\n",
    "\n",
    "for char in list1:\n",
    "    print(char)"
   ]
  },
  {
   "cell_type": "code",
   "execution_count": 18,
   "id": "cc0bb3ba",
   "metadata": {},
   "outputs": [
    {
     "name": "stdout",
     "output_type": "stream",
     "text": [
      "2\n",
      "3\n",
      "4\n",
      "python\n",
      "5\n",
      "Class\n",
      "7\n"
     ]
    }
   ],
   "source": [
    "list1 = [2,3,4,'python',5,'Class',7]\n",
    "\n",
    "for char in list1:\n",
    "    print(char)"
   ]
  },
  {
   "cell_type": "code",
   "execution_count": 19,
   "id": "e4706b4e",
   "metadata": {},
   "outputs": [
    {
     "name": "stdout",
     "output_type": "stream",
     "text": [
      "Character is  2\n",
      "Character is  3\n",
      "Character is  4\n",
      "Character is  5\n",
      "Character is  7\n"
     ]
    }
   ],
   "source": [
    "list1 = [2,3,4,'python',5,'Class',7]\n",
    "\n",
    "for char in list1:\n",
    "    if type(char) == int:\n",
    "        print('Character is ',char)"
   ]
  },
  {
   "cell_type": "code",
   "execution_count": 20,
   "id": "05a61f69",
   "metadata": {},
   "outputs": [
    {
     "name": "stdout",
     "output_type": "stream",
     "text": [
      "Character is  python\n",
      "Character is  Class\n"
     ]
    }
   ],
   "source": [
    "list1 = [2,3,4,'python',5,'Class',7]\n",
    "\n",
    "for char in list1:\n",
    "    if type(char) == str:\n",
    "        print('Character is ',char)"
   ]
  },
  {
   "cell_type": "code",
   "execution_count": 24,
   "id": "aa086988",
   "metadata": {},
   "outputs": [
    {
     "name": "stdout",
     "output_type": "stream",
     "text": [
      "2 is int\n",
      "\n",
      "3.5 is float\n",
      "\n",
      "4 is int\n",
      "\n",
      "python is string\n",
      "\n",
      "5 is int\n",
      "\n",
      "Class is string\n",
      "\n",
      "7 is int\n",
      "\n"
     ]
    }
   ],
   "source": [
    "list1 = [2,3.5,4,'python',5,'Class',7]\n",
    "\n",
    "for char in list1:\n",
    "    if type(char) == int:\n",
    "        print(f'{char} is int')\n",
    "        print()\n",
    "    elif type(char) == float:\n",
    "        print(f'{char} is float')\n",
    "        print()\n",
    "    else:\n",
    "        print(f'{char} is string')\n",
    "        print()"
   ]
  },
  {
   "cell_type": "code",
   "execution_count": 27,
   "id": "25d90854",
   "metadata": {},
   "outputs": [
    {
     "name": "stdout",
     "output_type": "stream",
     "text": [
      "['python', 'Class']\n"
     ]
    }
   ],
   "source": [
    "list1 = [2,3.5,4,'python',5,'Class',7]\n",
    "int1=[]\n",
    "float1=[]\n",
    "string1=[]\n",
    "for char in list1:\n",
    "    if type(char) == int:\n",
    "        int1.append(char)\n",
    "    elif type(char) == float:\n",
    "        float1.append(char)\n",
    "    else:\n",
    "        string1.append(char)\n",
    "print(int1)\n",
    "print(float1)\n",
    "print(string1)"
   ]
  },
  {
   "cell_type": "code",
   "execution_count": 28,
   "id": "ee9546c3",
   "metadata": {},
   "outputs": [
    {
     "name": "stdout",
     "output_type": "stream",
     "text": [
      "i == 2\n",
      "i == 3\n",
      "i == 4\n",
      "i == 5\n"
     ]
    }
   ],
   "source": [
    "tuple1 = (2,3,4,5)\n",
    "for i in tuple1:\n",
    "    print(f'i == {i}')"
   ]
  },
  {
   "cell_type": "markdown",
   "id": "9e4b13dc",
   "metadata": {},
   "source": [
    "### enumerate function"
   ]
  },
  {
   "cell_type": "markdown",
   "id": "a2f51528",
   "metadata": {},
   "source": [
    "for index,value in enumerate(sequence):\n",
    "    print(index,value)\n",
    "    code1\n",
    "    code2"
   ]
  },
  {
   "cell_type": "code",
   "execution_count": 29,
   "id": "70048e48",
   "metadata": {},
   "outputs": [
    {
     "name": "stdout",
     "output_type": "stream",
     "text": [
      "0 P\n",
      "1 y\n",
      "2 t\n",
      "3 h\n",
      "4 o\n",
      "5 n\n"
     ]
    }
   ],
   "source": [
    "for index,value in enumerate('Python'):\n",
    "    print(index, value)"
   ]
  },
  {
   "cell_type": "code",
   "execution_count": 31,
   "id": "0d456b57",
   "metadata": {},
   "outputs": [
    {
     "name": "stdout",
     "output_type": "stream",
     "text": [
      "0 >> 10\n",
      "1 >> 20\n",
      "2 >> 30\n",
      "3 >> 40\n"
     ]
    }
   ],
   "source": [
    "l1= [10,20,30,40]\n",
    "for i, v in enumerate(l1):\n",
    "    print(i,'>>',v)"
   ]
  },
  {
   "cell_type": "code",
   "execution_count": 32,
   "id": "ab77ecf6",
   "metadata": {},
   "outputs": [
    {
     "name": "stdout",
     "output_type": "stream",
     "text": [
      "value at index 0 is 10\n",
      "value at index 1 is 20\n",
      "value at index 2 is 30\n",
      "value at index 3 is 40\n"
     ]
    }
   ],
   "source": [
    "l1= [10,20,30,40]\n",
    "for i, v in enumerate(l1):\n",
    "    print(f'value at index {i} is {v}')"
   ]
  },
  {
   "cell_type": "markdown",
   "id": "86efc9e3",
   "metadata": {},
   "source": [
    "### Range Function in loop"
   ]
  },
  {
   "cell_type": "code",
   "execution_count": 33,
   "id": "3844687e",
   "metadata": {},
   "outputs": [
    {
     "data": {
      "text/plain": [
       "range(0, 10)"
      ]
     },
     "execution_count": 33,
     "metadata": {},
     "output_type": "execute_result"
    }
   ],
   "source": [
    "range(0,10)"
   ]
  },
  {
   "cell_type": "code",
   "execution_count": 34,
   "id": "66e1abdf",
   "metadata": {},
   "outputs": [
    {
     "name": "stdout",
     "output_type": "stream",
     "text": [
      "0\n",
      "1\n",
      "2\n"
     ]
    }
   ],
   "source": [
    "for i in range(0,3):\n",
    "    print(i)"
   ]
  },
  {
   "cell_type": "code",
   "execution_count": 35,
   "id": "4c213978",
   "metadata": {},
   "outputs": [
    {
     "name": "stdout",
     "output_type": "stream",
     "text": [
      "0\n",
      "1\n",
      "2\n"
     ]
    }
   ],
   "source": [
    "for i in range(3):\n",
    "    print(i)"
   ]
  },
  {
   "cell_type": "code",
   "execution_count": 36,
   "id": "010b0e65",
   "metadata": {},
   "outputs": [
    {
     "name": "stdout",
     "output_type": "stream",
     "text": [
      "3\n",
      "4\n",
      "5\n",
      "6\n"
     ]
    }
   ],
   "source": [
    "for i in range(3,7):\n",
    "    print(i)"
   ]
  },
  {
   "cell_type": "code",
   "execution_count": 37,
   "id": "c140eac3",
   "metadata": {},
   "outputs": [
    {
     "name": "stdout",
     "output_type": "stream",
     "text": [
      "0\n",
      "1\n",
      "2\n",
      "3\n",
      "4\n",
      "5\n"
     ]
    }
   ],
   "source": [
    "string = 'python'\n",
    "for i in range(len(string)):\n",
    "    print(i)"
   ]
  },
  {
   "cell_type": "code",
   "execution_count": 38,
   "id": "b11e9bb3",
   "metadata": {},
   "outputs": [
    {
     "ename": "TypeError",
     "evalue": "'int' object is not iterable",
     "output_type": "error",
     "traceback": [
      "\u001b[1;31m---------------------------------------------------------------------------\u001b[0m",
      "\u001b[1;31mTypeError\u001b[0m                                 Traceback (most recent call last)",
      "\u001b[1;32m<ipython-input-38-fd3638bd8b5d>\u001b[0m in \u001b[0;36m<module>\u001b[1;34m\u001b[0m\n\u001b[0;32m      1\u001b[0m \u001b[0mstring\u001b[0m \u001b[1;33m=\u001b[0m \u001b[1;34m'python'\u001b[0m\u001b[1;33m\u001b[0m\u001b[1;33m\u001b[0m\u001b[0m\n\u001b[1;32m----> 2\u001b[1;33m \u001b[1;32mfor\u001b[0m \u001b[0mi\u001b[0m \u001b[1;32min\u001b[0m \u001b[0mlen\u001b[0m\u001b[1;33m(\u001b[0m\u001b[0mstring\u001b[0m\u001b[1;33m)\u001b[0m\u001b[1;33m:\u001b[0m\u001b[1;33m\u001b[0m\u001b[1;33m\u001b[0m\u001b[0m\n\u001b[0m\u001b[0;32m      3\u001b[0m     \u001b[0mprint\u001b[0m\u001b[1;33m(\u001b[0m\u001b[0mi\u001b[0m\u001b[1;33m)\u001b[0m\u001b[1;33m\u001b[0m\u001b[1;33m\u001b[0m\u001b[0m\n",
      "\u001b[1;31mTypeError\u001b[0m: 'int' object is not iterable"
     ]
    }
   ],
   "source": [
    "string = 'python'\n",
    "for i in len(string):\n",
    "    print(i)"
   ]
  },
  {
   "cell_type": "code",
   "execution_count": 39,
   "id": "d9e9e6fe",
   "metadata": {},
   "outputs": [
    {
     "name": "stdout",
     "output_type": "stream",
     "text": [
      "2\n",
      "3\n",
      "4\n",
      "5\n"
     ]
    }
   ],
   "source": [
    "string = 'python'\n",
    "for i in range(2,len(string)):\n",
    "    print(i)"
   ]
  },
  {
   "cell_type": "code",
   "execution_count": 40,
   "id": "26385897",
   "metadata": {},
   "outputs": [
    {
     "ename": "TypeError",
     "evalue": "'str' object cannot be interpreted as an integer",
     "output_type": "error",
     "traceback": [
      "\u001b[1;31m---------------------------------------------------------------------------\u001b[0m",
      "\u001b[1;31mTypeError\u001b[0m                                 Traceback (most recent call last)",
      "\u001b[1;32m<ipython-input-40-206ff977b4f3>\u001b[0m in \u001b[0;36m<module>\u001b[1;34m\u001b[0m\n\u001b[0;32m      1\u001b[0m \u001b[0mstring\u001b[0m \u001b[1;33m=\u001b[0m \u001b[1;34m'python'\u001b[0m\u001b[1;33m\u001b[0m\u001b[1;33m\u001b[0m\u001b[0m\n\u001b[1;32m----> 2\u001b[1;33m \u001b[1;32mfor\u001b[0m \u001b[0mi\u001b[0m \u001b[1;32min\u001b[0m \u001b[0mrange\u001b[0m\u001b[1;33m(\u001b[0m\u001b[0mstring\u001b[0m\u001b[1;33m)\u001b[0m\u001b[1;33m:\u001b[0m\u001b[1;33m\u001b[0m\u001b[1;33m\u001b[0m\u001b[0m\n\u001b[0m\u001b[0;32m      3\u001b[0m     \u001b[0mprint\u001b[0m\u001b[1;33m(\u001b[0m\u001b[0mi\u001b[0m\u001b[1;33m)\u001b[0m\u001b[1;33m\u001b[0m\u001b[1;33m\u001b[0m\u001b[0m\n",
      "\u001b[1;31mTypeError\u001b[0m: 'str' object cannot be interpreted as an integer"
     ]
    }
   ],
   "source": [
    "string = 'python'\n",
    "for i in range(string):\n",
    "    print(i)"
   ]
  },
  {
   "cell_type": "code",
   "execution_count": null,
   "id": "59832282",
   "metadata": {},
   "outputs": [],
   "source": []
  }
 ],
 "metadata": {
  "kernelspec": {
   "display_name": "Python 3 (ipykernel)",
   "language": "python",
   "name": "python3"
  },
  "language_info": {
   "codemirror_mode": {
    "name": "ipython",
    "version": 3
   },
   "file_extension": ".py",
   "mimetype": "text/x-python",
   "name": "python",
   "nbconvert_exporter": "python",
   "pygments_lexer": "ipython3",
   "version": "3.9.7"
  }
 },
 "nbformat": 4,
 "nbformat_minor": 5
}
