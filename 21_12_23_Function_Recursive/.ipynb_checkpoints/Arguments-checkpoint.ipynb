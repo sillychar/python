{
 "cells": [
  {
   "cell_type": "markdown",
   "id": "42b3cb5f",
   "metadata": {},
   "source": [
    "#### 4. Arbitary Keyword Arguments"
   ]
  },
  {
   "cell_type": "code",
   "execution_count": null,
   "id": "e55266e2",
   "metadata": {},
   "outputs": [],
   "source": [
    "**kwargs >> keyword arguments\n",
    "Datatype of kwargs will be dict\n",
    "When we dont know number of keyword arguments"
   ]
  },
  {
   "cell_type": "code",
   "execution_count": 7,
   "id": "eec1ea07",
   "metadata": {},
   "outputs": [
    {
     "name": "stdout",
     "output_type": "stream",
     "text": [
      "Phy==90, Che==95, Math==93\n",
      "()\n"
     ]
    }
   ],
   "source": [
    "def marks(*args,phy=90, che=95, math=93):\n",
    "    print(f'Phy=={phy}, Che=={che}, Math=={math}')\n",
    "    print(args)\n",
    "    \n",
    "marks()"
   ]
  },
  {
   "cell_type": "code",
   "execution_count": 3,
   "id": "f54f78e2",
   "metadata": {},
   "outputs": [
    {
     "name": "stdout",
     "output_type": "stream",
     "text": [
      "Phy==80, Che==95, Math==93\n"
     ]
    }
   ],
   "source": [
    "marks(80)"
   ]
  },
  {
   "cell_type": "code",
   "execution_count": 6,
   "id": "f2692b99",
   "metadata": {},
   "outputs": [
    {
     "name": "stdout",
     "output_type": "stream",
     "text": [
      "Phy==92, Che==80, Math==70\n"
     ]
    }
   ],
   "source": [
    "marks(math=70,che=80,phy=92)"
   ]
  },
  {
   "cell_type": "code",
   "execution_count": 8,
   "id": "c7d8abc9",
   "metadata": {},
   "outputs": [
    {
     "name": "stdout",
     "output_type": "stream",
     "text": [
      "Phy==92, Che==80, Math==70\n",
      "(1, 2, 3, 4)\n"
     ]
    }
   ],
   "source": [
    "marks(1,2,3,4,math=70,che=80,phy=92)"
   ]
  },
  {
   "cell_type": "code",
   "execution_count": 9,
   "id": "9f12b59f",
   "metadata": {},
   "outputs": [
    {
     "ename": "SyntaxError",
     "evalue": "positional argument follows keyword argument (<ipython-input-9-3713242efab3>, line 1)",
     "output_type": "error",
     "traceback": [
      "\u001b[1;36m  File \u001b[1;32m\"<ipython-input-9-3713242efab3>\"\u001b[1;36m, line \u001b[1;32m1\u001b[0m\n\u001b[1;33m    marks(math=70,che=80,phy=92,1,2,3,4)\u001b[0m\n\u001b[1;37m                                ^\u001b[0m\n\u001b[1;31mSyntaxError\u001b[0m\u001b[1;31m:\u001b[0m positional argument follows keyword argument\n"
     ]
    }
   ],
   "source": [
    "marks(math=70,che=80,phy=92,1,2,3,4)"
   ]
  },
  {
   "cell_type": "code",
   "execution_count": 14,
   "id": "165df2b8",
   "metadata": {},
   "outputs": [
    {
     "name": "stdout",
     "output_type": "stream",
     "text": [
      "Kwargs >>  {'phy': 80}\n",
      "Percentage == 80.0 %\n"
     ]
    }
   ],
   "source": [
    "def marks(**kwargs): # Keyword Arguments\n",
    "    print('Kwargs >> ',kwargs) # dict\n",
    "    percentage = sum(kwargs.values()) /len(kwargs) \n",
    "    print(f'Percentage == {round(percentage,2)} %')\n",
    "marks(phy=80)"
   ]
  },
  {
   "cell_type": "code",
   "execution_count": 15,
   "id": "36aac39a",
   "metadata": {},
   "outputs": [
    {
     "name": "stdout",
     "output_type": "stream",
     "text": [
      "Kwargs >>  {'phy': 80, 'che': 84, 'math': 93}\n",
      "Percentage == 85.67 %\n"
     ]
    }
   ],
   "source": [
    "marks(phy=80, che=84, math=93)"
   ]
  },
  {
   "cell_type": "code",
   "execution_count": 17,
   "id": "2c201d24",
   "metadata": {
    "scrolled": true
   },
   "outputs": [
    {
     "name": "stdout",
     "output_type": "stream",
     "text": [
      "v1==10, v2==20, v3==30\n",
      "Args==()\n",
      "Phy==95, Che==88\n",
      "kwargs=={}\n"
     ]
    }
   ],
   "source": [
    "def test_parameters(v1 , v2, v3, *args, phy=95, che=88, **kwargs):\n",
    "    print(f'v1=={v1}, v2=={v2}, v3=={v3}')\n",
    "    print(f'Args=={args}')\n",
    "    print(f'Phy=={phy}, Che=={che}')\n",
    "    print(f'kwargs=={kwargs}')\n",
    "    \n",
    "test_parameters(10,20,30)"
   ]
  },
  {
   "cell_type": "code",
   "execution_count": 18,
   "id": "4fdb58f7",
   "metadata": {},
   "outputs": [
    {
     "name": "stdout",
     "output_type": "stream",
     "text": [
      "v1==10, v2==20, v3==30\n",
      "Args==()\n",
      "Phy==92, Che==90\n",
      "kwargs=={}\n"
     ]
    }
   ],
   "source": [
    "test_parameters(10,20,30,phy=92, che=90)"
   ]
  },
  {
   "cell_type": "code",
   "execution_count": 19,
   "id": "952a18f5",
   "metadata": {},
   "outputs": [
    {
     "name": "stdout",
     "output_type": "stream",
     "text": [
      "v1==10, v2==20, v3==30\n",
      "Args==(40, 50, 60)\n",
      "Phy==92, Che==90\n",
      "kwargs=={}\n"
     ]
    }
   ],
   "source": [
    "test_parameters(10,20,30,40,50,60,phy=92, che=90)"
   ]
  },
  {
   "cell_type": "code",
   "execution_count": 20,
   "id": "1ced876b",
   "metadata": {},
   "outputs": [
    {
     "name": "stdout",
     "output_type": "stream",
     "text": [
      "v1==10, v2==20, v3==30\n",
      "Args==(40, 50, 60)\n",
      "Phy==92, Che==90\n",
      "kwargs=={'math': 81, 'bio': 78}\n"
     ]
    }
   ],
   "source": [
    "test_parameters(10,20,30,40,50,60,phy=92, che=90,math=81,bio=78)"
   ]
  },
  {
   "cell_type": "code",
   "execution_count": 21,
   "id": "3fb12203",
   "metadata": {},
   "outputs": [
    {
     "ename": "SyntaxError",
     "evalue": "keyword argument repeated (<ipython-input-21-8425a4c24413>, line 1)",
     "output_type": "error",
     "traceback": [
      "\u001b[1;36m  File \u001b[1;32m\"<ipython-input-21-8425a4c24413>\"\u001b[1;36m, line \u001b[1;32m1\u001b[0m\n\u001b[1;33m    test_parameters(10,20,30,40,50,60,phy=92, che=90,phy=92,math=81,bio=78)\u001b[0m\n\u001b[1;37m                                                     ^\u001b[0m\n\u001b[1;31mSyntaxError\u001b[0m\u001b[1;31m:\u001b[0m keyword argument repeated\n"
     ]
    }
   ],
   "source": [
    "test_parameters(10,20,30,40,50,60,phy=92, che=90,phy=92,math=81,bio=78)"
   ]
  },
  {
   "cell_type": "code",
   "execution_count": 22,
   "id": "8bdb3254",
   "metadata": {},
   "outputs": [
    {
     "name": "stdout",
     "output_type": "stream",
     "text": [
      "v1==10, v2==20, v3==30\n",
      "Phy==40, Che==50\n",
      "kwargs=={'math': 100}\n"
     ]
    }
   ],
   "source": [
    "def test_parameters(v1 , v2, v3, phy=95, che=88, **kwargs):\n",
    "    print(f'v1=={v1}, v2=={v2}, v3=={v3}')\n",
    "#     print(f'Args=={args}')\n",
    "    print(f'Phy=={phy}, Che=={che}')\n",
    "    print(f'kwargs=={kwargs}')\n",
    "    \n",
    "test_parameters(10,20,30,40,50,math=100)"
   ]
  },
  {
   "cell_type": "code",
   "execution_count": 23,
   "id": "ca888b09",
   "metadata": {},
   "outputs": [
    {
     "ename": "TypeError",
     "evalue": "test_parameters() got multiple values for argument 'phy'",
     "output_type": "error",
     "traceback": [
      "\u001b[1;31m---------------------------------------------------------------------------\u001b[0m",
      "\u001b[1;31mTypeError\u001b[0m                                 Traceback (most recent call last)",
      "\u001b[1;32m<ipython-input-23-ce5c5bb43537>\u001b[0m in \u001b[0;36m<module>\u001b[1;34m\u001b[0m\n\u001b[1;32m----> 1\u001b[1;33m \u001b[0mtest_parameters\u001b[0m\u001b[1;33m(\u001b[0m\u001b[1;36m10\u001b[0m\u001b[1;33m,\u001b[0m\u001b[1;36m20\u001b[0m\u001b[1;33m,\u001b[0m\u001b[1;36m30\u001b[0m\u001b[1;33m,\u001b[0m\u001b[1;36m40\u001b[0m\u001b[1;33m,\u001b[0m\u001b[1;36m50\u001b[0m\u001b[1;33m,\u001b[0m\u001b[0mphy\u001b[0m\u001b[1;33m=\u001b[0m\u001b[1;36m100\u001b[0m\u001b[1;33m)\u001b[0m\u001b[1;33m\u001b[0m\u001b[1;33m\u001b[0m\u001b[0m\n\u001b[0m",
      "\u001b[1;31mTypeError\u001b[0m: test_parameters() got multiple values for argument 'phy'"
     ]
    }
   ],
   "source": [
    "test_parameters(10,20,30,40,50,phy=100)"
   ]
  },
  {
   "cell_type": "code",
   "execution_count": 24,
   "id": "4e78ea54",
   "metadata": {},
   "outputs": [
    {
     "name": "stdout",
     "output_type": "stream",
     "text": [
      "v1==10, v2==20, v3==30\n",
      "Phy==95, Che==88\n",
      "kwargs=={'math': 100}\n"
     ]
    }
   ],
   "source": [
    "test_parameters(10,20,30,math=100)"
   ]
  },
  {
   "cell_type": "code",
   "execution_count": 25,
   "id": "4910ec90",
   "metadata": {},
   "outputs": [
    {
     "name": "stdout",
     "output_type": "stream",
     "text": [
      "10 20\n"
     ]
    }
   ],
   "source": [
    "def my_fun(a,b):\n",
    "    print(a,b)\n",
    "\n",
    "my_fun(10,20)"
   ]
  },
  {
   "cell_type": "code",
   "execution_count": 26,
   "id": "274474ba",
   "metadata": {},
   "outputs": [
    {
     "ename": "TypeError",
     "evalue": "my_fun() missing 1 required positional argument: 'c'",
     "output_type": "error",
     "traceback": [
      "\u001b[1;31m---------------------------------------------------------------------------\u001b[0m",
      "\u001b[1;31mTypeError\u001b[0m                                 Traceback (most recent call last)",
      "\u001b[1;32m<ipython-input-26-df051cc26c54>\u001b[0m in \u001b[0;36m<module>\u001b[1;34m\u001b[0m\n\u001b[0;32m      2\u001b[0m     \u001b[0mprint\u001b[0m\u001b[1;33m(\u001b[0m\u001b[0ma\u001b[0m\u001b[1;33m,\u001b[0m\u001b[0mb\u001b[0m\u001b[1;33m)\u001b[0m\u001b[1;33m\u001b[0m\u001b[1;33m\u001b[0m\u001b[0m\n\u001b[0;32m      3\u001b[0m \u001b[1;33m\u001b[0m\u001b[0m\n\u001b[1;32m----> 4\u001b[1;33m \u001b[0mmy_fun\u001b[0m\u001b[1;33m(\u001b[0m\u001b[1;36m10\u001b[0m\u001b[1;33m,\u001b[0m\u001b[1;36m20\u001b[0m\u001b[1;33m)\u001b[0m\u001b[1;33m\u001b[0m\u001b[1;33m\u001b[0m\u001b[0m\n\u001b[0m",
      "\u001b[1;31mTypeError\u001b[0m: my_fun() missing 1 required positional argument: 'c'"
     ]
    }
   ],
   "source": [
    "def my_fun(a,b,c):\n",
    "    print(a,b)\n",
    "\n",
    "my_fun(10,20)"
   ]
  },
  {
   "cell_type": "code",
   "execution_count": 27,
   "id": "da67dae7",
   "metadata": {},
   "outputs": [
    {
     "ename": "TypeError",
     "evalue": "my_fun() takes 3 positional arguments but 4 were given",
     "output_type": "error",
     "traceback": [
      "\u001b[1;31m---------------------------------------------------------------------------\u001b[0m",
      "\u001b[1;31mTypeError\u001b[0m                                 Traceback (most recent call last)",
      "\u001b[1;32m<ipython-input-27-2b002a1032d6>\u001b[0m in \u001b[0;36m<module>\u001b[1;34m\u001b[0m\n\u001b[0;32m      2\u001b[0m     \u001b[0mprint\u001b[0m\u001b[1;33m(\u001b[0m\u001b[0ma\u001b[0m\u001b[1;33m,\u001b[0m\u001b[0mb\u001b[0m\u001b[1;33m)\u001b[0m\u001b[1;33m\u001b[0m\u001b[1;33m\u001b[0m\u001b[0m\n\u001b[0;32m      3\u001b[0m \u001b[1;33m\u001b[0m\u001b[0m\n\u001b[1;32m----> 4\u001b[1;33m \u001b[0mmy_fun\u001b[0m\u001b[1;33m(\u001b[0m\u001b[1;36m10\u001b[0m\u001b[1;33m,\u001b[0m\u001b[1;36m20\u001b[0m\u001b[1;33m,\u001b[0m\u001b[1;36m30\u001b[0m\u001b[1;33m,\u001b[0m\u001b[1;36m40\u001b[0m\u001b[1;33m)\u001b[0m\u001b[1;33m\u001b[0m\u001b[1;33m\u001b[0m\u001b[0m\n\u001b[0m",
      "\u001b[1;31mTypeError\u001b[0m: my_fun() takes 3 positional arguments but 4 were given"
     ]
    }
   ],
   "source": [
    "def my_fun(a,b,c):\n",
    "    print(a,b)\n",
    "\n",
    "my_fun(10,20,30,40)"
   ]
  },
  {
   "cell_type": "code",
   "execution_count": 28,
   "id": "b3f54e70",
   "metadata": {},
   "outputs": [
    {
     "name": "stdout",
     "output_type": "stream",
     "text": [
      "10 20 100\n"
     ]
    }
   ],
   "source": [
    "def my_fun(a,b,c=100):\n",
    "    print(a,b,c)\n",
    "\n",
    "my_fun(10,20)"
   ]
  },
  {
   "cell_type": "code",
   "execution_count": 29,
   "id": "57eef0f8",
   "metadata": {},
   "outputs": [
    {
     "name": "stdout",
     "output_type": "stream",
     "text": [
      "10 20 30\n"
     ]
    }
   ],
   "source": [
    "def my_fun(a,b,c=100):\n",
    "    print(a,b,c)\n",
    "\n",
    "my_fun(10,20,30)"
   ]
  },
  {
   "cell_type": "code",
   "execution_count": 30,
   "id": "a95a308c",
   "metadata": {},
   "outputs": [
    {
     "name": "stdout",
     "output_type": "stream",
     "text": [
      "10 20 30\n"
     ]
    }
   ],
   "source": [
    "def my_fun(a,b=50,c=100):\n",
    "    print(a,b,c)\n",
    "\n",
    "my_fun(10,20,30)"
   ]
  },
  {
   "cell_type": "code",
   "execution_count": 31,
   "id": "a7c817cc",
   "metadata": {},
   "outputs": [
    {
     "name": "stdout",
     "output_type": "stream",
     "text": [
      "(10, 20, 30, 40)\n"
     ]
    }
   ],
   "source": [
    "def test(*args):\n",
    "    print(args)\n",
    "    \n",
    "test(10,20,30,40)"
   ]
  },
  {
   "cell_type": "code",
   "execution_count": 34,
   "id": "f12fdc73",
   "metadata": {},
   "outputs": [
    {
     "name": "stdout",
     "output_type": "stream",
     "text": [
      "(10, 20, 30, '40')\n"
     ]
    }
   ],
   "source": [
    "def test(*args):\n",
    "    print(args)\n",
    "    \n",
    "test(10,20,30,'40')"
   ]
  },
  {
   "cell_type": "code",
   "execution_count": 33,
   "id": "02fd5f99",
   "metadata": {},
   "outputs": [
    {
     "name": "stdout",
     "output_type": "stream",
     "text": [
      "(10, 20, 30, 40)\n",
      "100\n"
     ]
    }
   ],
   "source": [
    "def test(*v):\n",
    "    print(v)\n",
    "    print(sum(v))\n",
    "test(10,20,30,40)"
   ]
  },
  {
   "cell_type": "code",
   "execution_count": 35,
   "id": "8da9f779",
   "metadata": {},
   "outputs": [
    {
     "name": "stdout",
     "output_type": "stream",
     "text": [
      "{'a': 100, 'b': 200, 'c': 300}\n"
     ]
    }
   ],
   "source": [
    "def numbers(**kwargs): # Arbitary keyword arguments\n",
    "    print(kwargs) # dict\n",
    "\n",
    "numbers(a=100, b=200, c=300)"
   ]
  },
  {
   "cell_type": "code",
   "execution_count": 36,
   "id": "c68f77f6",
   "metadata": {},
   "outputs": [
    {
     "name": "stdout",
     "output_type": "stream",
     "text": [
      "2 3\n",
      "()\n",
      "100 200\n",
      "{}\n"
     ]
    }
   ],
   "source": [
    "\n",
    "def testing_arguments(n1,n2,*values, a=100,b=200,**kwargs):\n",
    "    print(n1,n2)\n",
    "    print(values)\n",
    "    print(a,b)\n",
    "    print(kwargs)\n",
    "\n",
    "testing_arguments(2,3)"
   ]
  },
  {
   "cell_type": "code",
   "execution_count": 37,
   "id": "984c5b51",
   "metadata": {},
   "outputs": [
    {
     "name": "stdout",
     "output_type": "stream",
     "text": [
      "2 3\n",
      "(10, 20, 30)\n",
      "100 200\n",
      "{}\n"
     ]
    }
   ],
   "source": [
    "testing_arguments(2,3,10,20,30)"
   ]
  },
  {
   "cell_type": "code",
   "execution_count": 38,
   "id": "dff93166",
   "metadata": {},
   "outputs": [
    {
     "name": "stdout",
     "output_type": "stream",
     "text": [
      "2 3\n",
      "(10, 20, 30)\n",
      "python data science\n",
      "{}\n"
     ]
    }
   ],
   "source": [
    "testing_arguments(2,3,10,20,30,a='python', b='data science')"
   ]
  },
  {
   "cell_type": "code",
   "execution_count": 39,
   "id": "2ab23f0f",
   "metadata": {},
   "outputs": [
    {
     "name": "stdout",
     "output_type": "stream",
     "text": [
      "2 3\n",
      "(10, 20, 30)\n",
      "python data science\n",
      "{'c': 11, 'd': 22, 'e': 33}\n"
     ]
    }
   ],
   "source": [
    "testing_arguments(2,3,10,20,30,a='python', b='data science',c=11,d=22,e=33)"
   ]
  },
  {
   "cell_type": "code",
   "execution_count": 40,
   "id": "f157de6d",
   "metadata": {},
   "outputs": [
    {
     "ename": "SyntaxError",
     "evalue": "positional argument follows keyword argument (<ipython-input-40-2248874a1e94>, line 2)",
     "output_type": "error",
     "traceback": [
      "\u001b[1;36m  File \u001b[1;32m\"<ipython-input-40-2248874a1e94>\"\u001b[1;36m, line \u001b[1;32m2\u001b[0m\n\u001b[1;33m    testing_arguments(2,3,10,20,30,a='python', b='data science',d)\u001b[0m\n\u001b[1;37m                                                                ^\u001b[0m\n\u001b[1;31mSyntaxError\u001b[0m\u001b[1;31m:\u001b[0m positional argument follows keyword argument\n"
     ]
    }
   ],
   "source": [
    "d={c:11,d:22,e:33}\n",
    "testing_arguments(2,3,10,20,30,a='python', b='data science',d)"
   ]
  },
  {
   "cell_type": "code",
   "execution_count": 41,
   "id": "54d9909c",
   "metadata": {},
   "outputs": [
    {
     "ename": "NameError",
     "evalue": "name 'd' is not defined",
     "output_type": "error",
     "traceback": [
      "\u001b[1;31m---------------------------------------------------------------------------\u001b[0m",
      "\u001b[1;31mNameError\u001b[0m                                 Traceback (most recent call last)",
      "\u001b[1;32m<ipython-input-41-792e3cf85bd5>\u001b[0m in \u001b[0;36m<module>\u001b[1;34m\u001b[0m\n\u001b[1;32m----> 1\u001b[1;33m \u001b[0mtesting_arguments\u001b[0m\u001b[1;33m(\u001b[0m\u001b[1;36m2\u001b[0m\u001b[1;33m,\u001b[0m\u001b[1;36m3\u001b[0m\u001b[1;33m,\u001b[0m\u001b[1;36m10\u001b[0m\u001b[1;33m,\u001b[0m\u001b[1;36m20\u001b[0m\u001b[1;33m,\u001b[0m\u001b[1;36m30\u001b[0m\u001b[1;33m,\u001b[0m\u001b[0md\u001b[0m\u001b[1;33m,\u001b[0m\u001b[0ma\u001b[0m\u001b[1;33m=\u001b[0m\u001b[1;34m'python'\u001b[0m\u001b[1;33m,\u001b[0m \u001b[0mb\u001b[0m\u001b[1;33m=\u001b[0m\u001b[1;34m'data science'\u001b[0m\u001b[1;33m)\u001b[0m\u001b[1;33m\u001b[0m\u001b[1;33m\u001b[0m\u001b[0m\n\u001b[0m",
      "\u001b[1;31mNameError\u001b[0m: name 'd' is not defined"
     ]
    }
   ],
   "source": [
    "testing_arguments(2,3,10,20,30,d,a='python', b='data science')"
   ]
  },
  {
   "cell_type": "code",
   "execution_count": 43,
   "id": "5ae2fd35",
   "metadata": {},
   "outputs": [
    {
     "name": "stdout",
     "output_type": "stream",
     "text": [
      "{'c': 11, 'd': 22, 'e': 33} 2\n",
      "(3, 10, 20, 30)\n",
      "python data science\n",
      "{}\n"
     ]
    }
   ],
   "source": [
    "\n",
    "def testing_arguments(n1,n2,*values, a=100,b=200,**kwargs):\n",
    "    print(n1,n2)\n",
    "    print(values)\n",
    "    print(a,b)\n",
    "    print(kwargs)\n",
    "\n",
    "d={'c':11,'d':22,'e':33}\n",
    "testing_arguments(d,2,3,10,20,30,a='python', b='data science')"
   ]
  },
  {
   "cell_type": "markdown",
   "id": "8eefb7f5",
   "metadata": {},
   "source": [
    "## Types of Variable"
   ]
  },
  {
   "cell_type": "code",
   "execution_count": null,
   "id": "19d701ba",
   "metadata": {},
   "outputs": [],
   "source": [
    "1. Global var\n",
    "2. Local Var"
   ]
  },
  {
   "cell_type": "code",
   "execution_count": 44,
   "id": "e0a04d05",
   "metadata": {},
   "outputs": [
    {
     "name": "stdout",
     "output_type": "stream",
     "text": [
      "10\n"
     ]
    }
   ],
   "source": [
    "def beta():\n",
    "    a=10 # local variable\n",
    "    print(a)\n",
    "beta()"
   ]
  },
  {
   "cell_type": "code",
   "execution_count": 45,
   "id": "40e869f7",
   "metadata": {},
   "outputs": [
    {
     "ename": "NameError",
     "evalue": "name 'a' is not defined",
     "output_type": "error",
     "traceback": [
      "\u001b[1;31m---------------------------------------------------------------------------\u001b[0m",
      "\u001b[1;31mNameError\u001b[0m                                 Traceback (most recent call last)",
      "\u001b[1;32m<ipython-input-45-3f786850e387>\u001b[0m in \u001b[0;36m<module>\u001b[1;34m\u001b[0m\n\u001b[1;32m----> 1\u001b[1;33m \u001b[0ma\u001b[0m\u001b[1;33m\u001b[0m\u001b[1;33m\u001b[0m\u001b[0m\n\u001b[0m",
      "\u001b[1;31mNameError\u001b[0m: name 'a' is not defined"
     ]
    }
   ],
   "source": [
    "a"
   ]
  },
  {
   "cell_type": "code",
   "execution_count": 47,
   "id": "fbbbd5ef",
   "metadata": {},
   "outputs": [
    {
     "name": "stdout",
     "output_type": "stream",
     "text": [
      "11\n"
     ]
    }
   ],
   "source": [
    "a=11 # gloabl Variable\n",
    "def beta():\n",
    "    print(a)\n",
    "beta()"
   ]
  },
  {
   "cell_type": "code",
   "execution_count": 48,
   "id": "1fdf7535",
   "metadata": {},
   "outputs": [
    {
     "data": {
      "text/plain": [
       "11"
      ]
     },
     "execution_count": 48,
     "metadata": {},
     "output_type": "execute_result"
    }
   ],
   "source": [
    "a"
   ]
  },
  {
   "cell_type": "code",
   "execution_count": 49,
   "id": "2c753748",
   "metadata": {},
   "outputs": [
    {
     "name": "stdout",
     "output_type": "stream",
     "text": [
      "9\n"
     ]
    }
   ],
   "source": [
    "a=11 # gloabl Variable\n",
    "def beta():\n",
    "    a=9\n",
    "    print(a)\n",
    "beta()"
   ]
  },
  {
   "cell_type": "code",
   "execution_count": 50,
   "id": "d5633f35",
   "metadata": {},
   "outputs": [
    {
     "data": {
      "text/plain": [
       "11"
      ]
     },
     "execution_count": 50,
     "metadata": {},
     "output_type": "execute_result"
    }
   ],
   "source": [
    "a"
   ]
  },
  {
   "cell_type": "code",
   "execution_count": 54,
   "id": "26a9ddfd",
   "metadata": {},
   "outputs": [],
   "source": [
    "def beta():\n",
    "    global a # converting local var to global\n",
    "    a=20 # local variable\n",
    "#     print(a)\n",
    "beta()"
   ]
  },
  {
   "cell_type": "code",
   "execution_count": 55,
   "id": "f44d2221",
   "metadata": {},
   "outputs": [
    {
     "data": {
      "text/plain": [
       "20"
      ]
     },
     "execution_count": 55,
     "metadata": {},
     "output_type": "execute_result"
    }
   ],
   "source": [
    "a"
   ]
  },
  {
   "cell_type": "code",
   "execution_count": 56,
   "id": "da84bad9",
   "metadata": {},
   "outputs": [
    {
     "ename": "SyntaxError",
     "evalue": "name 'a' is assigned to before global declaration (<ipython-input-56-c3265429baad>, line 4)",
     "output_type": "error",
     "traceback": [
      "\u001b[1;36m  File \u001b[1;32m\"<ipython-input-56-c3265429baad>\"\u001b[1;36m, line \u001b[1;32m4\u001b[0m\n\u001b[1;33m    global a # converting local var to global\u001b[0m\n\u001b[1;37m    ^\u001b[0m\n\u001b[1;31mSyntaxError\u001b[0m\u001b[1;31m:\u001b[0m name 'a' is assigned to before global declaration\n"
     ]
    }
   ],
   "source": [
    "def beta():\n",
    "    \n",
    "    a=20 # local variable\n",
    "    global a # converting local var to global\n",
    "#     print(a)\n",
    "beta()"
   ]
  },
  {
   "cell_type": "code",
   "execution_count": null,
   "id": "441ed969",
   "metadata": {},
   "outputs": [],
   "source": []
  },
  {
   "cell_type": "code",
   "execution_count": null,
   "id": "b40232ec",
   "metadata": {},
   "outputs": [],
   "source": []
  },
  {
   "cell_type": "code",
   "execution_count": null,
   "id": "1dd2ffb0",
   "metadata": {},
   "outputs": [],
   "source": []
  },
  {
   "cell_type": "code",
   "execution_count": null,
   "id": "e34380af",
   "metadata": {},
   "outputs": [],
   "source": []
  },
  {
   "cell_type": "code",
   "execution_count": null,
   "id": "a2441282",
   "metadata": {},
   "outputs": [],
   "source": []
  },
  {
   "cell_type": "code",
   "execution_count": null,
   "id": "cf8caaf1",
   "metadata": {},
   "outputs": [],
   "source": []
  },
  {
   "cell_type": "code",
   "execution_count": null,
   "id": "e1c5f077",
   "metadata": {},
   "outputs": [],
   "source": []
  },
  {
   "cell_type": "code",
   "execution_count": null,
   "id": "5ce1995c",
   "metadata": {},
   "outputs": [],
   "source": []
  },
  {
   "cell_type": "code",
   "execution_count": null,
   "id": "a022bde0",
   "metadata": {},
   "outputs": [],
   "source": []
  },
  {
   "cell_type": "code",
   "execution_count": null,
   "id": "66241c85",
   "metadata": {},
   "outputs": [],
   "source": []
  },
  {
   "cell_type": "code",
   "execution_count": null,
   "id": "9a30fa26",
   "metadata": {},
   "outputs": [],
   "source": []
  },
  {
   "cell_type": "code",
   "execution_count": null,
   "id": "483a6a88",
   "metadata": {},
   "outputs": [],
   "source": []
  },
  {
   "cell_type": "code",
   "execution_count": null,
   "id": "65571c3f",
   "metadata": {},
   "outputs": [],
   "source": []
  },
  {
   "cell_type": "code",
   "execution_count": null,
   "id": "72bb1cb7",
   "metadata": {},
   "outputs": [],
   "source": []
  },
  {
   "cell_type": "code",
   "execution_count": null,
   "id": "266d1284",
   "metadata": {},
   "outputs": [],
   "source": []
  },
  {
   "cell_type": "code",
   "execution_count": null,
   "id": "406014ef",
   "metadata": {},
   "outputs": [],
   "source": []
  },
  {
   "cell_type": "code",
   "execution_count": null,
   "id": "fcb02dae",
   "metadata": {},
   "outputs": [],
   "source": []
  },
  {
   "cell_type": "code",
   "execution_count": null,
   "id": "0577d8fb",
   "metadata": {},
   "outputs": [],
   "source": []
  },
  {
   "cell_type": "code",
   "execution_count": null,
   "id": "ea278be7",
   "metadata": {},
   "outputs": [],
   "source": []
  },
  {
   "cell_type": "code",
   "execution_count": null,
   "id": "59f0ef6f",
   "metadata": {},
   "outputs": [],
   "source": []
  },
  {
   "cell_type": "code",
   "execution_count": null,
   "id": "20b1666a",
   "metadata": {},
   "outputs": [],
   "source": []
  },
  {
   "cell_type": "code",
   "execution_count": null,
   "id": "482cd795",
   "metadata": {},
   "outputs": [],
   "source": []
  },
  {
   "cell_type": "code",
   "execution_count": null,
   "id": "d5e21aef",
   "metadata": {},
   "outputs": [],
   "source": []
  },
  {
   "cell_type": "code",
   "execution_count": null,
   "id": "b6381b95",
   "metadata": {},
   "outputs": [],
   "source": []
  },
  {
   "cell_type": "code",
   "execution_count": null,
   "id": "2dbaede8",
   "metadata": {},
   "outputs": [],
   "source": []
  },
  {
   "cell_type": "code",
   "execution_count": null,
   "id": "e3a93250",
   "metadata": {},
   "outputs": [],
   "source": []
  },
  {
   "cell_type": "code",
   "execution_count": null,
   "id": "ef965fa9",
   "metadata": {},
   "outputs": [],
   "source": []
  },
  {
   "cell_type": "code",
   "execution_count": null,
   "id": "23071326",
   "metadata": {},
   "outputs": [],
   "source": []
  },
  {
   "cell_type": "code",
   "execution_count": null,
   "id": "9fa78e2d",
   "metadata": {},
   "outputs": [],
   "source": []
  },
  {
   "cell_type": "code",
   "execution_count": null,
   "id": "def24563",
   "metadata": {},
   "outputs": [],
   "source": []
  },
  {
   "cell_type": "code",
   "execution_count": null,
   "id": "66ce6bf6",
   "metadata": {},
   "outputs": [],
   "source": []
  },
  {
   "cell_type": "code",
   "execution_count": null,
   "id": "a0911f2e",
   "metadata": {},
   "outputs": [],
   "source": []
  },
  {
   "cell_type": "code",
   "execution_count": null,
   "id": "4b9bf6ea",
   "metadata": {},
   "outputs": [],
   "source": []
  },
  {
   "cell_type": "code",
   "execution_count": null,
   "id": "485a58f7",
   "metadata": {},
   "outputs": [],
   "source": []
  },
  {
   "cell_type": "code",
   "execution_count": null,
   "id": "f1fecfcb",
   "metadata": {},
   "outputs": [],
   "source": []
  },
  {
   "cell_type": "code",
   "execution_count": null,
   "id": "2d7375e4",
   "metadata": {},
   "outputs": [],
   "source": []
  },
  {
   "cell_type": "code",
   "execution_count": null,
   "id": "3778aae1",
   "metadata": {},
   "outputs": [],
   "source": []
  },
  {
   "cell_type": "code",
   "execution_count": null,
   "id": "f083fb4f",
   "metadata": {},
   "outputs": [],
   "source": []
  },
  {
   "cell_type": "code",
   "execution_count": null,
   "id": "e279b79e",
   "metadata": {},
   "outputs": [],
   "source": []
  },
  {
   "cell_type": "code",
   "execution_count": null,
   "id": "ace1a8a9",
   "metadata": {},
   "outputs": [],
   "source": []
  },
  {
   "cell_type": "code",
   "execution_count": null,
   "id": "5862f26c",
   "metadata": {},
   "outputs": [],
   "source": []
  },
  {
   "cell_type": "code",
   "execution_count": null,
   "id": "7c0d180c",
   "metadata": {},
   "outputs": [],
   "source": []
  },
  {
   "cell_type": "code",
   "execution_count": null,
   "id": "158f1e6c",
   "metadata": {},
   "outputs": [],
   "source": []
  },
  {
   "cell_type": "code",
   "execution_count": null,
   "id": "7e1b188b",
   "metadata": {},
   "outputs": [],
   "source": []
  },
  {
   "cell_type": "code",
   "execution_count": null,
   "id": "d439d51f",
   "metadata": {},
   "outputs": [],
   "source": []
  },
  {
   "cell_type": "code",
   "execution_count": null,
   "id": "af8cb693",
   "metadata": {},
   "outputs": [],
   "source": []
  },
  {
   "cell_type": "code",
   "execution_count": null,
   "id": "49d0c9cc",
   "metadata": {},
   "outputs": [],
   "source": []
  },
  {
   "cell_type": "code",
   "execution_count": null,
   "id": "e76de885",
   "metadata": {},
   "outputs": [],
   "source": []
  },
  {
   "cell_type": "code",
   "execution_count": null,
   "id": "9a0db7f9",
   "metadata": {},
   "outputs": [],
   "source": []
  },
  {
   "cell_type": "code",
   "execution_count": null,
   "id": "edafe4ae",
   "metadata": {},
   "outputs": [],
   "source": []
  },
  {
   "cell_type": "code",
   "execution_count": null,
   "id": "612209b9",
   "metadata": {},
   "outputs": [],
   "source": []
  },
  {
   "cell_type": "code",
   "execution_count": null,
   "id": "df1f47ff",
   "metadata": {},
   "outputs": [],
   "source": []
  },
  {
   "cell_type": "code",
   "execution_count": null,
   "id": "639ba268",
   "metadata": {},
   "outputs": [],
   "source": []
  },
  {
   "cell_type": "code",
   "execution_count": null,
   "id": "0f18b927",
   "metadata": {},
   "outputs": [],
   "source": []
  },
  {
   "cell_type": "code",
   "execution_count": null,
   "id": "88e6eb1e",
   "metadata": {},
   "outputs": [],
   "source": []
  },
  {
   "cell_type": "code",
   "execution_count": null,
   "id": "b5402a7c",
   "metadata": {},
   "outputs": [],
   "source": []
  },
  {
   "cell_type": "code",
   "execution_count": null,
   "id": "130a0e2c",
   "metadata": {},
   "outputs": [],
   "source": []
  }
 ],
 "metadata": {
  "kernelspec": {
   "display_name": "Python 3",
   "language": "python",
   "name": "python3"
  },
  "language_info": {
   "codemirror_mode": {
    "name": "ipython",
    "version": 3
   },
   "file_extension": ".py",
   "mimetype": "text/x-python",
   "name": "python",
   "nbconvert_exporter": "python",
   "pygments_lexer": "ipython3",
   "version": "3.8.8"
  }
 },
 "nbformat": 4,
 "nbformat_minor": 5
}
