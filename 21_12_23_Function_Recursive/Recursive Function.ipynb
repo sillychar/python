{
 "cells": [
  {
   "cell_type": "markdown",
   "id": "f4703fd9",
   "metadata": {},
   "source": [
    "## Recursive Function"
   ]
  },
  {
   "cell_type": "code",
   "execution_count": null,
   "id": "6b66bbb6",
   "metadata": {},
   "outputs": [],
   "source": [
    "When function calls iteself called as recursive function"
   ]
  },
  {
   "cell_type": "code",
   "execution_count": 1,
   "id": "71566011",
   "metadata": {},
   "outputs": [
    {
     "name": "stdout",
     "output_type": "stream",
     "text": [
      "Factorial of 5 is 120\n"
     ]
    }
   ],
   "source": [
    "n=5\n",
    "fact=1\n",
    "for i in range(1,n+1):\n",
    "    fact*=i\n",
    "print(f'Factorial of {n} is {fact}')"
   ]
  },
  {
   "cell_type": "code",
   "execution_count": 4,
   "id": "ae9cca6d",
   "metadata": {},
   "outputs": [
    {
     "name": "stdout",
     "output_type": "stream",
     "text": [
      "Factorial of 6 is 720\n"
     ]
    }
   ],
   "source": [
    "def factorial(n):\n",
    "    fact=1\n",
    "    for i in range(1,n+1):\n",
    "        fact*=i\n",
    "    return fact\n",
    "\n",
    "n=6\n",
    "val =factorial(n)\n",
    "print(f'Factorial of {n} is {val}')"
   ]
  },
  {
   "cell_type": "code",
   "execution_count": 5,
   "id": "16af3751",
   "metadata": {},
   "outputs": [
    {
     "data": {
      "text/plain": [
       "120"
      ]
     },
     "execution_count": 5,
     "metadata": {},
     "output_type": "execute_result"
    }
   ],
   "source": [
    "def factorial(n):\n",
    "    if n <=1:\n",
    "        return 1\n",
    "    else:\n",
    "        return n*factorial(n-1) # 5*4*3*2*1=120\n",
    "\n",
    "factorial(5)"
   ]
  },
  {
   "cell_type": "markdown",
   "id": "6650a555",
   "metadata": {},
   "source": [
    "n=5\n",
    "factorial(5)\n",
    "5 * factorial(4)\n",
    "5 * 4 * factorial(3)\n",
    "5 * 4 * 3 * factorial(2)\n",
    "5 * 4 * 3 * 2 * factorial(1)\n",
    "5 * 4 * 3 * 2 * 1"
   ]
  },
  {
   "cell_type": "code",
   "execution_count": 8,
   "id": "fc9d6b66",
   "metadata": {},
   "outputs": [
    {
     "name": "stdout",
     "output_type": "stream",
     "text": [
      "enter a number8\n",
      "0 1 1 2 3 5 8 13 "
     ]
    }
   ],
   "source": [
    "def fib(n):\n",
    "    if n <=1:\n",
    "        return n\n",
    "    else:\n",
    "        return (fib(n-1)+fib(n-2))\n",
    "\n",
    "num =int(input('enter a number'))\n",
    "if num < 0:\n",
    "    pass\n",
    "else:\n",
    "    for i in range(num):\n",
    "        print(fib(i),end=' ')"
   ]
  },
  {
   "cell_type": "code",
   "execution_count": null,
   "id": "0bb69b60",
   "metadata": {},
   "outputs": [],
   "source": [
    "# 1 2 3 4 5\n",
    "0 1 1 2 3 5 8 13"
   ]
  },
  {
   "cell_type": "code",
   "execution_count": null,
   "id": "83ff1651",
   "metadata": {},
   "outputs": [],
   "source": [
    "# Nested Function >> Function inside function \n",
    "\n",
    "def a():\n",
    "    def b():\n"
   ]
  },
  {
   "cell_type": "code",
   "execution_count": null,
   "id": "5da019b2",
   "metadata": {},
   "outputs": [],
   "source": [
    "# higher order function\n",
    "When we are using a function as a parameter to other function "
   ]
  },
  {
   "cell_type": "code",
   "execution_count": null,
   "id": "70d971fb",
   "metadata": {},
   "outputs": [],
   "source": [
    "fact(n,fib(n))"
   ]
  },
  {
   "cell_type": "code",
   "execution_count": 9,
   "id": "54cd20ab",
   "metadata": {},
   "outputs": [
    {
     "data": {
      "text/plain": [
       "15"
      ]
     },
     "execution_count": 9,
     "metadata": {},
     "output_type": "execute_result"
    }
   ],
   "source": [
    "def new():\n",
    "    a=10\n",
    "    return a\n",
    "\n",
    "def test(n,b):\n",
    "    return n+b\n",
    "\n",
    "val= test(5,new())\n",
    "val"
   ]
  },
  {
   "cell_type": "code",
   "execution_count": null,
   "id": "1d0bbd09",
   "metadata": {},
   "outputs": [],
   "source": []
  },
  {
   "cell_type": "code",
   "execution_count": null,
   "id": "d553b37d",
   "metadata": {},
   "outputs": [],
   "source": []
  },
  {
   "cell_type": "code",
   "execution_count": null,
   "id": "f9a25885",
   "metadata": {},
   "outputs": [],
   "source": []
  }
 ],
 "metadata": {
  "kernelspec": {
   "display_name": "Python 3 (ipykernel)",
   "language": "python",
   "name": "python3"
  },
  "language_info": {
   "codemirror_mode": {
    "name": "ipython",
    "version": 3
   },
   "file_extension": ".py",
   "mimetype": "text/x-python",
   "name": "python",
   "nbconvert_exporter": "python",
   "pygments_lexer": "ipython3",
   "version": "3.9.7"
  }
 },
 "nbformat": 4,
 "nbformat_minor": 5
}
