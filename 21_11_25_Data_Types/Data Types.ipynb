{
 "cells": [
  {
   "cell_type": "markdown",
   "id": "af04aae6",
   "metadata": {},
   "source": [
    "# Data Types"
   ]
  },
  {
   "cell_type": "code",
   "execution_count": null,
   "id": "b7b3bf6a",
   "metadata": {},
   "outputs": [],
   "source": [
    "Numeric : int, float, complex\n",
    "    \n",
    "text : str\n",
    "\n",
    "sequence : list , tuple, range\n",
    "    \n",
    "setDt: set, frozenset\n",
    "    \n",
    "mapping : dict(dictionary)[ key and pair values]\n",
    "    \n",
    "Boolean : bool (True & False)\n",
    "    \n",
    "Binary : bytes"
   ]
  },
  {
   "cell_type": "markdown",
   "id": "96198bbc",
   "metadata": {},
   "source": [
    "### int Data Type"
   ]
  },
  {
   "cell_type": "code",
   "execution_count": null,
   "id": "8a6e839e",
   "metadata": {},
   "outputs": [],
   "source": [
    "Whole Numbers\n",
    "+ve or -ve\n",
    "without decimal numbers"
   ]
  },
  {
   "cell_type": "code",
   "execution_count": 13,
   "id": "cdf7915b",
   "metadata": {},
   "outputs": [
    {
     "data": {
      "text/plain": [
       "int"
      ]
     },
     "execution_count": 13,
     "metadata": {},
     "output_type": "execute_result"
    }
   ],
   "source": [
    "x=10\n",
    "type(x)"
   ]
  },
  {
   "cell_type": "code",
   "execution_count": 14,
   "id": "7f0d5b0b",
   "metadata": {},
   "outputs": [
    {
     "data": {
      "text/plain": [
       "int"
      ]
     },
     "execution_count": 14,
     "metadata": {},
     "output_type": "execute_result"
    }
   ],
   "source": [
    "z=-10\n",
    "type(z)"
   ]
  },
  {
   "cell_type": "code",
   "execution_count": 15,
   "id": "ad886d30",
   "metadata": {},
   "outputs": [
    {
     "data": {
      "text/plain": [
       "int"
      ]
     },
     "execution_count": 15,
     "metadata": {},
     "output_type": "execute_result"
    }
   ],
   "source": [
    "x=1000\n",
    "type(x)"
   ]
  },
  {
   "cell_type": "markdown",
   "id": "72c589f8",
   "metadata": {},
   "source": [
    "### Float Data Type"
   ]
  },
  {
   "cell_type": "code",
   "execution_count": null,
   "id": "bd531502",
   "metadata": {},
   "outputs": [],
   "source": [
    "+ve or -ve\n",
    "with decimal numbers"
   ]
  },
  {
   "cell_type": "code",
   "execution_count": 16,
   "id": "cbf0fcce",
   "metadata": {},
   "outputs": [
    {
     "name": "stdout",
     "output_type": "stream",
     "text": [
      "Data type of variable is : <class 'float'>\n"
     ]
    }
   ],
   "source": [
    "fl_num=20.23\n",
    "print('Data type of variable is :', type(fl_num))"
   ]
  },
  {
   "cell_type": "code",
   "execution_count": 17,
   "id": "c532d7b4",
   "metadata": {},
   "outputs": [
    {
     "name": "stdout",
     "output_type": "stream",
     "text": [
      "Data type of variable is : <class 'float'>\n"
     ]
    }
   ],
   "source": [
    "fl_num=-20.23\n",
    "print('Data type of variable is :', type(fl_num))"
   ]
  },
  {
   "cell_type": "code",
   "execution_count": 18,
   "id": "ecb0969e",
   "metadata": {},
   "outputs": [
    {
     "name": "stdout",
     "output_type": "stream",
     "text": [
      "Data type of variable is : <class 'float'>\n"
     ]
    }
   ],
   "source": [
    "fl_num=1.0\n",
    "print('Data type of variable is :', type(fl_num))"
   ]
  },
  {
   "cell_type": "code",
   "execution_count": 20,
   "id": "a7adb5e0",
   "metadata": {},
   "outputs": [
    {
     "name": "stdout",
     "output_type": "stream",
     "text": [
      "0.148\n"
     ]
    }
   ],
   "source": [
    "a=27\n",
    "b=4\n",
    "c=b/a\n",
    "print(round(c, 3))"
   ]
  },
  {
   "cell_type": "code",
   "execution_count": 22,
   "id": "bd901416",
   "metadata": {},
   "outputs": [
    {
     "name": "stdout",
     "output_type": "stream",
     "text": [
      "0.14814815\n"
     ]
    }
   ],
   "source": [
    "a=27\n",
    "b=4\n",
    "c=b/a\n",
    "print(round(c, 8))"
   ]
  },
  {
   "cell_type": "code",
   "execution_count": null,
   "id": "6ab8753e",
   "metadata": {},
   "outputs": [],
   "source": [
    "shft + tab (docstring: which specify specs of that function)\n",
    "shft + tab+tab"
   ]
  },
  {
   "cell_type": "markdown",
   "id": "a3a2d722",
   "metadata": {},
   "source": [
    "### Complex Data Type"
   ]
  },
  {
   "cell_type": "code",
   "execution_count": null,
   "id": "e8d38073",
   "metadata": {},
   "outputs": [],
   "source": [
    "Contains Real and Imaginary Part\n",
    "in imaginary part only (j) should be use"
   ]
  },
  {
   "cell_type": "code",
   "execution_count": null,
   "id": "4716b0c6",
   "metadata": {},
   "outputs": [],
   "source": [
    "var(a) = real(3) + imaginary(4j)"
   ]
  },
  {
   "cell_type": "code",
   "execution_count": 23,
   "id": "c9d9b639",
   "metadata": {},
   "outputs": [
    {
     "data": {
      "text/plain": [
       "complex"
      ]
     },
     "execution_count": 23,
     "metadata": {},
     "output_type": "execute_result"
    }
   ],
   "source": [
    "a=3+4j\n",
    "type(a)"
   ]
  },
  {
   "cell_type": "code",
   "execution_count": 26,
   "id": "279811ff",
   "metadata": {},
   "outputs": [
    {
     "data": {
      "text/plain": [
       "complex"
      ]
     },
     "execution_count": 26,
     "metadata": {},
     "output_type": "execute_result"
    }
   ],
   "source": [
    "a=3.5+4.5j\n",
    "type(a)"
   ]
  },
  {
   "cell_type": "code",
   "execution_count": 29,
   "id": "c9218dfa",
   "metadata": {},
   "outputs": [
    {
     "data": {
      "text/plain": [
       "int"
      ]
     },
     "execution_count": 29,
     "metadata": {},
     "output_type": "execute_result"
    }
   ],
   "source": [
    "x= 3\n",
    "type(x)"
   ]
  },
  {
   "cell_type": "code",
   "execution_count": 30,
   "id": "8282ab04",
   "metadata": {},
   "outputs": [
    {
     "data": {
      "text/plain": [
       "complex"
      ]
     },
     "execution_count": 30,
     "metadata": {},
     "output_type": "execute_result"
    }
   ],
   "source": [
    "z = 4j\n",
    "type(z)"
   ]
  },
  {
   "cell_type": "code",
   "execution_count": 31,
   "id": "35117f6f",
   "metadata": {},
   "outputs": [
    {
     "data": {
      "text/plain": [
       "10"
      ]
     },
     "execution_count": 31,
     "metadata": {},
     "output_type": "execute_result"
    }
   ],
   "source": [
    "abs(10)"
   ]
  },
  {
   "cell_type": "code",
   "execution_count": 32,
   "id": "4476026b",
   "metadata": {},
   "outputs": [
    {
     "data": {
      "text/plain": [
       "10.1"
      ]
     },
     "execution_count": 32,
     "metadata": {},
     "output_type": "execute_result"
    }
   ],
   "source": [
    "abs(10.1)"
   ]
  },
  {
   "cell_type": "code",
   "execution_count": 33,
   "id": "e900aaca",
   "metadata": {},
   "outputs": [
    {
     "data": {
      "text/plain": [
       "10"
      ]
     },
     "execution_count": 33,
     "metadata": {},
     "output_type": "execute_result"
    }
   ],
   "source": [
    "abs(-10)"
   ]
  },
  {
   "cell_type": "markdown",
   "id": "d6cb2a4a",
   "metadata": {},
   "source": [
    "## Python Casting"
   ]
  },
  {
   "cell_type": "code",
   "execution_count": null,
   "id": "2b70e04c",
   "metadata": {},
   "outputs": [],
   "source": [
    "change data type of variables\n",
    "specify variable type"
   ]
  },
  {
   "cell_type": "markdown",
   "id": "a3bd87c8",
   "metadata": {},
   "source": [
    "#### 1. int to float "
   ]
  },
  {
   "cell_type": "code",
   "execution_count": 36,
   "id": "fdf1cb2e",
   "metadata": {},
   "outputs": [
    {
     "name": "stdout",
     "output_type": "stream",
     "text": [
      "actual data type is : <class 'int'>\n",
      "Updated type of num is : <class 'float'> 20.0\n"
     ]
    }
   ],
   "source": [
    "num=20\n",
    "print('actual data type is :', type(num))\n",
    "num= float(num)\n",
    "print('Updated type of num is :', type(num), num)"
   ]
  },
  {
   "cell_type": "markdown",
   "id": "73a35069",
   "metadata": {},
   "source": [
    "#### 2. float to int"
   ]
  },
  {
   "cell_type": "code",
   "execution_count": 53,
   "id": "409867a9",
   "metadata": {},
   "outputs": [
    {
     "name": "stdout",
     "output_type": "stream",
     "text": [
      "actual data type is : <class 'float'>\n",
      "Updated type of num is : <class 'int'> 10\n"
     ]
    }
   ],
   "source": [
    "num=10.84\n",
    "print('actual data type is :', type(num))\n",
    "num= int(num)\n",
    "print('Updated type of num is :', type(num), num)"
   ]
  },
  {
   "cell_type": "code",
   "execution_count": 38,
   "id": "185131ea",
   "metadata": {},
   "outputs": [
    {
     "data": {
      "text/plain": [
       "11"
      ]
     },
     "execution_count": 38,
     "metadata": {},
     "output_type": "execute_result"
    }
   ],
   "source": [
    "int(11.99)"
   ]
  },
  {
   "cell_type": "code",
   "execution_count": 41,
   "id": "50865f30",
   "metadata": {},
   "outputs": [
    {
     "data": {
      "text/plain": [
       "11.97"
      ]
     },
     "execution_count": 41,
     "metadata": {},
     "output_type": "execute_result"
    }
   ],
   "source": [
    "round(11.9674,2)"
   ]
  },
  {
   "cell_type": "markdown",
   "id": "13216d75",
   "metadata": {},
   "source": [
    "#### 3. int to complex"
   ]
  },
  {
   "cell_type": "code",
   "execution_count": 43,
   "id": "9e7ccecd",
   "metadata": {},
   "outputs": [
    {
     "name": "stdout",
     "output_type": "stream",
     "text": [
      "Value of a is 88 and its data type is<class 'int'>\n",
      "Value of a is (88+0j) and its data type is<class 'complex'>\n"
     ]
    }
   ],
   "source": [
    "a=88\n",
    "print(f'Value of a is {a} and its data type is{type(a)}')\n",
    "\n",
    "a=complex(a)\n",
    "print(f'Value of a is {a} and its data type is{type(a)}')"
   ]
  },
  {
   "cell_type": "code",
   "execution_count": 44,
   "id": "f8f0449e",
   "metadata": {},
   "outputs": [
    {
     "name": "stdout",
     "output_type": "stream",
     "text": [
      "Value of a is 7 and its data type is<class 'int'>\n",
      "Value of a is (7+0j) and its data type is<class 'complex'>\n"
     ]
    }
   ],
   "source": [
    "a=7\n",
    "print(f'Value of a is {a} and its data type is{type(a)}')\n",
    "\n",
    "a=complex(a)\n",
    "print(f'Value of a is {a} and its data type is{type(a)}')"
   ]
  },
  {
   "cell_type": "markdown",
   "id": "0a7b2257",
   "metadata": {},
   "source": [
    "#### 4.float to complex"
   ]
  },
  {
   "cell_type": "code",
   "execution_count": 47,
   "id": "09e3563e",
   "metadata": {},
   "outputs": [
    {
     "name": "stdout",
     "output_type": "stream",
     "text": [
      "Value of x is 7.8 and its data type is<class 'float'>\n",
      "Value of x is (7.8+0j) and its data type is<class 'complex'>\n"
     ]
    }
   ],
   "source": [
    "x=7.8\n",
    "print(f'Value of x is {x} and its data type is{type(x)}')\n",
    "\n",
    "x=complex(x)\n",
    "print(f'Value of x is {x} and its data type is{type(x)}')"
   ]
  },
  {
   "cell_type": "code",
   "execution_count": 48,
   "id": "14b64cfa",
   "metadata": {},
   "outputs": [
    {
     "name": "stdout",
     "output_type": "stream",
     "text": [
      "Value of x is 877.49 and its data type is<class 'float'>\n",
      "Value of x is (877.49+0j) and its data type is<class 'complex'>\n"
     ]
    }
   ],
   "source": [
    "x=877.49\n",
    "print(f'Value of x is {x} and its data type is{type(x)}')\n",
    "\n",
    "x=complex(x)\n",
    "print(f'Value of x is {x} and its data type is{type(x)}')"
   ]
  },
  {
   "cell_type": "markdown",
   "id": "8e70cbd3",
   "metadata": {},
   "source": [
    "#### 5. Complex to int"
   ]
  },
  {
   "cell_type": "code",
   "execution_count": null,
   "id": "a57d9e54",
   "metadata": {},
   "outputs": [],
   "source": [
    "complex to int or float is not possible"
   ]
  },
  {
   "cell_type": "code",
   "execution_count": 50,
   "id": "091523da",
   "metadata": {},
   "outputs": [
    {
     "name": "stdout",
     "output_type": "stream",
     "text": [
      "Value of x is (877.49+4j) and its data type is<class 'complex'>\n"
     ]
    },
    {
     "ename": "TypeError",
     "evalue": "can't convert complex to int",
     "output_type": "error",
     "traceback": [
      "\u001b[1;31m---------------------------------------------------------------------------\u001b[0m",
      "\u001b[1;31mTypeError\u001b[0m                                 Traceback (most recent call last)",
      "\u001b[1;32m<ipython-input-50-7257b57db572>\u001b[0m in \u001b[0;36m<module>\u001b[1;34m\u001b[0m\n\u001b[0;32m      2\u001b[0m \u001b[0mprint\u001b[0m\u001b[1;33m(\u001b[0m\u001b[1;34mf'Value of x is {x} and its data type is{type(x)}'\u001b[0m\u001b[1;33m)\u001b[0m\u001b[1;33m\u001b[0m\u001b[1;33m\u001b[0m\u001b[0m\n\u001b[0;32m      3\u001b[0m \u001b[1;33m\u001b[0m\u001b[0m\n\u001b[1;32m----> 4\u001b[1;33m \u001b[0mx\u001b[0m\u001b[1;33m=\u001b[0m\u001b[0mint\u001b[0m\u001b[1;33m(\u001b[0m\u001b[0mx\u001b[0m\u001b[1;33m)\u001b[0m\u001b[1;33m\u001b[0m\u001b[1;33m\u001b[0m\u001b[0m\n\u001b[0m\u001b[0;32m      5\u001b[0m \u001b[0mprint\u001b[0m\u001b[1;33m(\u001b[0m\u001b[1;34mf'Value of x is {x} and its data type is{type(x)}'\u001b[0m\u001b[1;33m)\u001b[0m\u001b[1;33m\u001b[0m\u001b[1;33m\u001b[0m\u001b[0m\n",
      "\u001b[1;31mTypeError\u001b[0m: can't convert complex to int"
     ]
    }
   ],
   "source": [
    "x=877.49+4j\n",
    "print(f'Value of x is {x} and its data type is{type(x)}')\n",
    "\n",
    "x=int(x)\n",
    "print(f'Value of x is {x} and its data type is{type(x)}')"
   ]
  },
  {
   "cell_type": "code",
   "execution_count": 51,
   "id": "6f5ba83d",
   "metadata": {},
   "outputs": [
    {
     "name": "stdout",
     "output_type": "stream",
     "text": [
      "Value of x is (877.49+4j) and its data type is<class 'complex'>\n"
     ]
    },
    {
     "ename": "TypeError",
     "evalue": "can't convert complex to float",
     "output_type": "error",
     "traceback": [
      "\u001b[1;31m---------------------------------------------------------------------------\u001b[0m",
      "\u001b[1;31mTypeError\u001b[0m                                 Traceback (most recent call last)",
      "\u001b[1;32m<ipython-input-51-6118c79473d2>\u001b[0m in \u001b[0;36m<module>\u001b[1;34m\u001b[0m\n\u001b[0;32m      2\u001b[0m \u001b[0mprint\u001b[0m\u001b[1;33m(\u001b[0m\u001b[1;34mf'Value of x is {x} and its data type is{type(x)}'\u001b[0m\u001b[1;33m)\u001b[0m\u001b[1;33m\u001b[0m\u001b[1;33m\u001b[0m\u001b[0m\n\u001b[0;32m      3\u001b[0m \u001b[1;33m\u001b[0m\u001b[0m\n\u001b[1;32m----> 4\u001b[1;33m \u001b[0mx\u001b[0m\u001b[1;33m=\u001b[0m\u001b[0mfloat\u001b[0m\u001b[1;33m(\u001b[0m\u001b[0mx\u001b[0m\u001b[1;33m)\u001b[0m\u001b[1;33m\u001b[0m\u001b[1;33m\u001b[0m\u001b[0m\n\u001b[0m\u001b[0;32m      5\u001b[0m \u001b[0mprint\u001b[0m\u001b[1;33m(\u001b[0m\u001b[1;34mf'Value of x is {x} and its data type is{type(x)}'\u001b[0m\u001b[1;33m)\u001b[0m\u001b[1;33m\u001b[0m\u001b[1;33m\u001b[0m\u001b[0m\n",
      "\u001b[1;31mTypeError\u001b[0m: can't convert complex to float"
     ]
    }
   ],
   "source": [
    "x=877.49+4j\n",
    "print(f'Value of x is {x} and its data type is{type(x)}')\n",
    "\n",
    "x=float(x)\n",
    "print(f'Value of x is {x} and its data type is{type(x)}')"
   ]
  },
  {
   "cell_type": "code",
   "execution_count": null,
   "id": "b6111a80",
   "metadata": {},
   "outputs": [],
   "source": []
  }
 ],
 "metadata": {
  "kernelspec": {
   "display_name": "Python 3 (ipykernel)",
   "language": "python",
   "name": "python3"
  },
  "language_info": {
   "codemirror_mode": {
    "name": "ipython",
    "version": 3
   },
   "file_extension": ".py",
   "mimetype": "text/x-python",
   "name": "python",
   "nbconvert_exporter": "python",
   "pygments_lexer": "ipython3",
   "version": "3.9.7"
  }
 },
 "nbformat": 4,
 "nbformat_minor": 5
}
