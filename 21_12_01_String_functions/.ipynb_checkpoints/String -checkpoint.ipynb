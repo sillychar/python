{
 "cells": [
  {
   "cell_type": "markdown",
   "id": "c572e841",
   "metadata": {},
   "source": [
    "### String Slicing"
   ]
  },
  {
   "cell_type": "markdown",
   "id": "5c298f7b",
   "metadata": {},
   "source": [
    "string[start_index(included) : end_index(exclude) : step_size] #step size is optional \n",
    "Default start_index >> 0\n",
    "Default end_index >> Length of the string\n",
    "default step_size >> 1\n",
    "step_size is positive >> left to right\n",
    "step_size is negative >> right to left"
   ]
  },
  {
   "cell_type": "code",
   "execution_count": 1,
   "id": "5027d62b",
   "metadata": {},
   "outputs": [
    {
     "data": {
      "text/plain": [
       "'ac'"
      ]
     },
     "execution_count": 1,
     "metadata": {},
     "output_type": "execute_result"
    }
   ],
   "source": [
    "s='machine'\n",
    "s[1:3]"
   ]
  },
  {
   "cell_type": "code",
   "execution_count": 2,
   "id": "c931faa6",
   "metadata": {},
   "outputs": [
    {
     "data": {
      "text/plain": [
       "'mac'"
      ]
     },
     "execution_count": 2,
     "metadata": {},
     "output_type": "execute_result"
    }
   ],
   "source": [
    "s[:3]"
   ]
  },
  {
   "cell_type": "code",
   "execution_count": 3,
   "id": "169dca1e",
   "metadata": {},
   "outputs": [
    {
     "data": {
      "text/plain": [
       "'hine'"
      ]
     },
     "execution_count": 3,
     "metadata": {},
     "output_type": "execute_result"
    }
   ],
   "source": [
    "s[3:]"
   ]
  },
  {
   "cell_type": "code",
   "execution_count": 4,
   "id": "706071da",
   "metadata": {},
   "outputs": [
    {
     "data": {
      "text/plain": [
       "'Machine'"
      ]
     },
     "execution_count": 4,
     "metadata": {},
     "output_type": "execute_result"
    }
   ],
   "source": [
    "str1 = 'Machine Learning'\n",
    "str1[:7]"
   ]
  },
  {
   "cell_type": "code",
   "execution_count": 5,
   "id": "81e902f8",
   "metadata": {},
   "outputs": [
    {
     "data": {
      "text/plain": [
       "'Machine '"
      ]
     },
     "execution_count": 5,
     "metadata": {},
     "output_type": "execute_result"
    }
   ],
   "source": [
    "str1[:8]"
   ]
  },
  {
   "cell_type": "code",
   "execution_count": 6,
   "id": "e8a33f26",
   "metadata": {},
   "outputs": [
    {
     "data": {
      "text/plain": [
       "'Learning'"
      ]
     },
     "execution_count": 6,
     "metadata": {},
     "output_type": "execute_result"
    }
   ],
   "source": [
    "str1[8:]"
   ]
  },
  {
   "cell_type": "code",
   "execution_count": 12,
   "id": "a0f17e7e",
   "metadata": {},
   "outputs": [
    {
     "data": {
      "text/plain": [
       "33"
      ]
     },
     "execution_count": 12,
     "metadata": {},
     "output_type": "execute_result"
    }
   ],
   "source": [
    "str2='Data Science and machine learning'\n",
    "len(str2)"
   ]
  },
  {
   "cell_type": "code",
   "execution_count": 15,
   "id": "72e8da79",
   "metadata": {},
   "outputs": [
    {
     "data": {
      "text/plain": [
       "'ata Science and'"
      ]
     },
     "execution_count": 15,
     "metadata": {},
     "output_type": "execute_result"
    }
   ],
   "source": [
    "str1[1:len(str2)] #str1[1:12]"
   ]
  },
  {
   "cell_type": "code",
   "execution_count": 14,
   "id": "5e19b13b",
   "metadata": {},
   "outputs": [
    {
     "ename": "IndexError",
     "evalue": "string index out of range",
     "output_type": "error",
     "traceback": [
      "\u001b[1;31m---------------------------------------------------------------------------\u001b[0m",
      "\u001b[1;31mIndexError\u001b[0m                                Traceback (most recent call last)",
      "\u001b[1;32m<ipython-input-14-cba6937a2447>\u001b[0m in \u001b[0;36m<module>\u001b[1;34m\u001b[0m\n\u001b[0;32m      1\u001b[0m \u001b[0ma\u001b[0m\u001b[1;33m=\u001b[0m\u001b[1;34m'string'\u001b[0m\u001b[1;33m\u001b[0m\u001b[1;33m\u001b[0m\u001b[0m\n\u001b[1;32m----> 2\u001b[1;33m \u001b[0ma\u001b[0m\u001b[1;33m[\u001b[0m\u001b[1;36m9\u001b[0m\u001b[1;33m]\u001b[0m\u001b[1;33m\u001b[0m\u001b[1;33m\u001b[0m\u001b[0m\n\u001b[0m",
      "\u001b[1;31mIndexError\u001b[0m: string index out of range"
     ]
    }
   ],
   "source": [
    "a='string' # 6\n",
    "a[9]"
   ]
  },
  {
   "cell_type": "code",
   "execution_count": 17,
   "id": "829c0016",
   "metadata": {},
   "outputs": [
    {
     "data": {
      "text/plain": [
       "''"
      ]
     },
     "execution_count": 17,
     "metadata": {},
     "output_type": "execute_result"
    }
   ],
   "source": [
    "str1[len(str2)-5:len(str2)]"
   ]
  },
  {
   "cell_type": "code",
   "execution_count": 16,
   "id": "6df8dbc0",
   "metadata": {},
   "outputs": [
    {
     "data": {
      "text/plain": [
       "33"
      ]
     },
     "execution_count": 16,
     "metadata": {},
     "output_type": "execute_result"
    }
   ],
   "source": [
    "len(str2)"
   ]
  },
  {
   "cell_type": "code",
   "execution_count": 22,
   "id": "fba89870",
   "metadata": {},
   "outputs": [
    {
     "data": {
      "text/plain": [
       "'Machine Learning'"
      ]
     },
     "execution_count": 22,
     "metadata": {},
     "output_type": "execute_result"
    }
   ],
   "source": [
    "str1[:]"
   ]
  },
  {
   "cell_type": "code",
   "execution_count": 23,
   "id": "85c24417",
   "metadata": {},
   "outputs": [
    {
     "data": {
      "text/plain": [
       "'achine '"
      ]
     },
     "execution_count": 23,
     "metadata": {},
     "output_type": "execute_result"
    }
   ],
   "source": [
    "str1[1:8]"
   ]
  },
  {
   "cell_type": "code",
   "execution_count": 24,
   "id": "7d4140d9",
   "metadata": {},
   "outputs": [
    {
     "data": {
      "text/plain": [
       "'achine '"
      ]
     },
     "execution_count": 24,
     "metadata": {},
     "output_type": "execute_result"
    }
   ],
   "source": [
    "str1[1:8:1]"
   ]
  },
  {
   "cell_type": "code",
   "execution_count": 25,
   "id": "6a6b618f",
   "metadata": {},
   "outputs": [
    {
     "data": {
      "text/plain": [
       "'ahn '"
      ]
     },
     "execution_count": 25,
     "metadata": {},
     "output_type": "execute_result"
    }
   ],
   "source": [
    "str1[1:8:2]"
   ]
  },
  {
   "cell_type": "code",
   "execution_count": 27,
   "id": "06d5c458",
   "metadata": {},
   "outputs": [
    {
     "data": {
      "text/plain": [
       "'McieLann'"
      ]
     },
     "execution_count": 27,
     "metadata": {},
     "output_type": "execute_result"
    }
   ],
   "source": [
    "str1[::2]"
   ]
  },
  {
   "cell_type": "code",
   "execution_count": 34,
   "id": "1374f169",
   "metadata": {},
   "outputs": [
    {
     "data": {
      "text/plain": [
       "'Mheeng'"
      ]
     },
     "execution_count": 34,
     "metadata": {},
     "output_type": "execute_result"
    }
   ],
   "source": [
    "str1[::3]"
   ]
  },
  {
   "cell_type": "code",
   "execution_count": 37,
   "id": "35028a13",
   "metadata": {},
   "outputs": [
    {
     "data": {
      "text/plain": [
       "'Machine Learning'"
      ]
     },
     "execution_count": 37,
     "metadata": {},
     "output_type": "execute_result"
    }
   ],
   "source": [
    "str1"
   ]
  },
  {
   "cell_type": "code",
   "execution_count": 39,
   "id": "fc16dfc4",
   "metadata": {},
   "outputs": [
    {
     "data": {
      "text/plain": [
       "''"
      ]
     },
     "execution_count": 39,
     "metadata": {},
     "output_type": "execute_result"
    }
   ],
   "source": [
    "str1[4:1]"
   ]
  },
  {
   "cell_type": "markdown",
   "id": "07ea80c1",
   "metadata": {},
   "source": [
    "### String Slicing with Negative Indexing"
   ]
  },
  {
   "cell_type": "code",
   "execution_count": 1,
   "id": "9c748979",
   "metadata": {},
   "outputs": [
    {
     "data": {
      "text/plain": [
       "16"
      ]
     },
     "execution_count": 1,
     "metadata": {},
     "output_type": "execute_result"
    }
   ],
   "source": [
    "str1='Velocity Classes'\n",
    "len(str1)"
   ]
  },
  {
   "cell_type": "code",
   "execution_count": 41,
   "id": "d66ef4e2",
   "metadata": {},
   "outputs": [
    {
     "data": {
      "text/plain": [
       "'eloc'"
      ]
     },
     "execution_count": 41,
     "metadata": {},
     "output_type": "execute_result"
    }
   ],
   "source": [
    "str1[1:5]"
   ]
  },
  {
   "cell_type": "code",
   "execution_count": 44,
   "id": "c36052dd",
   "metadata": {},
   "outputs": [
    {
     "data": {
      "text/plain": [
       "'Classe'"
      ]
     },
     "execution_count": 44,
     "metadata": {},
     "output_type": "execute_result"
    }
   ],
   "source": [
    "str1[-7:-1]"
   ]
  },
  {
   "cell_type": "code",
   "execution_count": 45,
   "id": "882210f7",
   "metadata": {},
   "outputs": [
    {
     "data": {
      "text/plain": [
       "''"
      ]
     },
     "execution_count": 45,
     "metadata": {},
     "output_type": "execute_result"
    }
   ],
   "source": [
    "str1[-7:-10]"
   ]
  },
  {
   "cell_type": "markdown",
   "id": "7d4cbb37",
   "metadata": {},
   "source": [
    "### Reverse the string"
   ]
  },
  {
   "cell_type": "code",
   "execution_count": 47,
   "id": "dbffcf7e",
   "metadata": {},
   "outputs": [
    {
     "data": {
      "text/plain": [
       "''"
      ]
     },
     "execution_count": 47,
     "metadata": {},
     "output_type": "execute_result"
    }
   ],
   "source": [
    "str1[-7:-1:-1]"
   ]
  },
  {
   "cell_type": "code",
   "execution_count": 48,
   "id": "cbcc97c0",
   "metadata": {},
   "outputs": [
    {
     "data": {
      "text/plain": [
       "'sessalC yticoleV'"
      ]
     },
     "execution_count": 48,
     "metadata": {},
     "output_type": "execute_result"
    }
   ],
   "source": [
    "str1[::-1]"
   ]
  },
  {
   "cell_type": "code",
   "execution_count": 49,
   "id": "e631a902",
   "metadata": {},
   "outputs": [
    {
     "data": {
      "text/plain": [
       "'Velocity Classes'"
      ]
     },
     "execution_count": 49,
     "metadata": {},
     "output_type": "execute_result"
    }
   ],
   "source": [
    "str1"
   ]
  },
  {
   "cell_type": "code",
   "execution_count": 2,
   "id": "18c362fc",
   "metadata": {},
   "outputs": [
    {
     "data": {
      "text/plain": [
       "'sessalC'"
      ]
     },
     "execution_count": 2,
     "metadata": {},
     "output_type": "execute_result"
    }
   ],
   "source": [
    "str1[:8:-1]"
   ]
  },
  {
   "cell_type": "code",
   "execution_count": 4,
   "id": "1d9c4e7f",
   "metadata": {},
   "outputs": [
    {
     "data": {
      "text/plain": [
       "''"
      ]
     },
     "execution_count": 4,
     "metadata": {},
     "output_type": "execute_result"
    }
   ],
   "source": [
    "str1[-1:8:1]"
   ]
  },
  {
   "cell_type": "code",
   "execution_count": 3,
   "id": "b4fb78ca",
   "metadata": {},
   "outputs": [
    {
     "data": {
      "text/plain": [
       "'sessalC'"
      ]
     },
     "execution_count": 3,
     "metadata": {},
     "output_type": "execute_result"
    }
   ],
   "source": [
    "str1[-1:8:-1]"
   ]
  },
  {
   "cell_type": "code",
   "execution_count": 5,
   "id": "c63f7a41",
   "metadata": {},
   "outputs": [
    {
     "data": {
      "text/plain": [
       "'Velocity Classes'"
      ]
     },
     "execution_count": 5,
     "metadata": {},
     "output_type": "execute_result"
    }
   ],
   "source": [
    "str1"
   ]
  },
  {
   "cell_type": "code",
   "execution_count": 8,
   "id": "c91bde9a",
   "metadata": {},
   "outputs": [
    {
     "data": {
      "text/plain": [
       "' yti'"
      ]
     },
     "execution_count": 8,
     "metadata": {},
     "output_type": "execute_result"
    }
   ],
   "source": [
    "str1[8:-12:-1]"
   ]
  },
  {
   "cell_type": "code",
   "execution_count": 56,
   "id": "58cddd65",
   "metadata": {},
   "outputs": [
    {
     "data": {
      "text/plain": [
       "' yticoleV'"
      ]
     },
     "execution_count": 56,
     "metadata": {},
     "output_type": "execute_result"
    }
   ],
   "source": [
    "str1[-8::-1]"
   ]
  },
  {
   "cell_type": "code",
   "execution_count": 57,
   "id": "34fe5b97",
   "metadata": {},
   "outputs": [
    {
     "data": {
      "text/plain": [
       "'Velocity Classes'"
      ]
     },
     "execution_count": 57,
     "metadata": {},
     "output_type": "execute_result"
    }
   ],
   "source": [
    "str1"
   ]
  },
  {
   "cell_type": "code",
   "execution_count": 60,
   "id": "77733c39",
   "metadata": {},
   "outputs": [
    {
     "data": {
      "text/plain": [
       "'sessalC'"
      ]
     },
     "execution_count": 60,
     "metadata": {},
     "output_type": "execute_result"
    }
   ],
   "source": [
    "str1[:8:-1]"
   ]
  },
  {
   "cell_type": "code",
   "execution_count": 62,
   "id": "459bab88",
   "metadata": {},
   "outputs": [
    {
     "data": {
      "text/plain": [
       "' yticoleV'"
      ]
     },
     "execution_count": 62,
     "metadata": {},
     "output_type": "execute_result"
    }
   ],
   "source": [
    "str1[8::-1]"
   ]
  },
  {
   "cell_type": "code",
   "execution_count": 69,
   "id": "5bbad987",
   "metadata": {},
   "outputs": [
    {
     "data": {
      "text/plain": [
       "'ssCtoV'"
      ]
     },
     "execution_count": 69,
     "metadata": {},
     "output_type": "execute_result"
    }
   ],
   "source": [
    "str1[::-3]"
   ]
  },
  {
   "cell_type": "code",
   "execution_count": 65,
   "id": "08dbe7ad",
   "metadata": {},
   "outputs": [
    {
     "data": {
      "text/plain": [
       "'Velocity Classes'"
      ]
     },
     "execution_count": 65,
     "metadata": {},
     "output_type": "execute_result"
    }
   ],
   "source": [
    "str1"
   ]
  },
  {
   "cell_type": "code",
   "execution_count": 70,
   "id": "cb86cd95",
   "metadata": {},
   "outputs": [
    {
     "data": {
      "text/plain": [
       "' Classes'"
      ]
     },
     "execution_count": 70,
     "metadata": {},
     "output_type": "execute_result"
    }
   ],
   "source": [
    "str1[8:]"
   ]
  },
  {
   "cell_type": "markdown",
   "id": "e697f8b6",
   "metadata": {},
   "source": [
    "### Adding of String"
   ]
  },
  {
   "cell_type": "code",
   "execution_count": 71,
   "id": "8531d43d",
   "metadata": {},
   "outputs": [
    {
     "name": "stdout",
     "output_type": "stream",
     "text": [
      "<class 'str'>\n",
      "<class 'str'>\n"
     ]
    }
   ],
   "source": [
    "s1 = 'Python'\n",
    "s2 = 'Data Science'\n",
    "print(type(s1))\n",
    "print(type(s2))"
   ]
  },
  {
   "cell_type": "code",
   "execution_count": 72,
   "id": "84c95f70",
   "metadata": {},
   "outputs": [
    {
     "data": {
      "text/plain": [
       "'Python '"
      ]
     },
     "execution_count": 72,
     "metadata": {},
     "output_type": "execute_result"
    }
   ],
   "source": [
    "s1 = s1 + ' '\n",
    "s1"
   ]
  },
  {
   "cell_type": "code",
   "execution_count": 73,
   "id": "6816461e",
   "metadata": {},
   "outputs": [
    {
     "ename": "TypeError",
     "evalue": "'str' object doesn't support item deletion",
     "output_type": "error",
     "traceback": [
      "\u001b[1;31m---------------------------------------------------------------------------\u001b[0m",
      "\u001b[1;31mTypeError\u001b[0m                                 Traceback (most recent call last)",
      "\u001b[1;32m<ipython-input-73-e827cf2a75bc>\u001b[0m in \u001b[0;36m<module>\u001b[1;34m\u001b[0m\n\u001b[1;32m----> 1\u001b[1;33m \u001b[1;32mdel\u001b[0m \u001b[0ms1\u001b[0m\u001b[1;33m[\u001b[0m\u001b[1;33m-\u001b[0m\u001b[1;36m1\u001b[0m\u001b[1;33m]\u001b[0m\u001b[1;33m\u001b[0m\u001b[1;33m\u001b[0m\u001b[0m\n\u001b[0m",
      "\u001b[1;31mTypeError\u001b[0m: 'str' object doesn't support item deletion"
     ]
    }
   ],
   "source": [
    "del s1[-1]"
   ]
  },
  {
   "cell_type": "code",
   "execution_count": 75,
   "id": "5759297f",
   "metadata": {},
   "outputs": [
    {
     "data": {
      "text/plain": [
       "'Python ABC'"
      ]
     },
     "execution_count": 75,
     "metadata": {},
     "output_type": "execute_result"
    }
   ],
   "source": [
    "s1 = 'Python'\n",
    "s2 = 'Data Science'\n",
    "s1 = s1 + ' ' +'ABC'\n",
    "s1"
   ]
  },
  {
   "cell_type": "code",
   "execution_count": 76,
   "id": "aa2c0102",
   "metadata": {},
   "outputs": [
    {
     "ename": "TypeError",
     "evalue": "unsupported operand type(s) for -: 'str' and 'str'",
     "output_type": "error",
     "traceback": [
      "\u001b[1;31m---------------------------------------------------------------------------\u001b[0m",
      "\u001b[1;31mTypeError\u001b[0m                                 Traceback (most recent call last)",
      "\u001b[1;32m<ipython-input-76-ea9722d1150f>\u001b[0m in \u001b[0;36m<module>\u001b[1;34m\u001b[0m\n\u001b[1;32m----> 1\u001b[1;33m \u001b[0ms1\u001b[0m\u001b[1;33m-\u001b[0m \u001b[1;34m'on'\u001b[0m\u001b[1;33m\u001b[0m\u001b[1;33m\u001b[0m\u001b[0m\n\u001b[0m",
      "\u001b[1;31mTypeError\u001b[0m: unsupported operand type(s) for -: 'str' and 'str'"
     ]
    }
   ],
   "source": [
    "s1- 'on'"
   ]
  },
  {
   "cell_type": "code",
   "execution_count": 77,
   "id": "76a1bef9",
   "metadata": {},
   "outputs": [
    {
     "data": {
      "text/plain": [
       "'Python ABCData Science'"
      ]
     },
     "execution_count": 77,
     "metadata": {},
     "output_type": "execute_result"
    }
   ],
   "source": [
    "s3 = s1 +s2\n",
    "s3"
   ]
  },
  {
   "cell_type": "code",
   "execution_count": 9,
   "id": "5737e4c0",
   "metadata": {},
   "outputs": [
    {
     "data": {
      "text/plain": [
       "'PythonPythonPython'"
      ]
     },
     "execution_count": 9,
     "metadata": {},
     "output_type": "execute_result"
    }
   ],
   "source": [
    "s1 = 'Python'\n",
    "s2 = 'Data Science'\n",
    "s4 = s1 * 3\n",
    "s4"
   ]
  },
  {
   "cell_type": "code",
   "execution_count": 10,
   "id": "4ab6dfcb",
   "metadata": {},
   "outputs": [
    {
     "ename": "TypeError",
     "evalue": "can't multiply sequence by non-int of type 'float'",
     "output_type": "error",
     "traceback": [
      "\u001b[1;31m---------------------------------------------------------------------------\u001b[0m",
      "\u001b[1;31mTypeError\u001b[0m                                 Traceback (most recent call last)",
      "\u001b[1;32m<ipython-input-10-81487c3268cc>\u001b[0m in \u001b[0;36m<module>\u001b[1;34m\u001b[0m\n\u001b[1;32m----> 1\u001b[1;33m \u001b[0ms1\u001b[0m\u001b[1;33m*\u001b[0m\u001b[1;36m2.5\u001b[0m\u001b[1;33m\u001b[0m\u001b[1;33m\u001b[0m\u001b[0m\n\u001b[0m",
      "\u001b[1;31mTypeError\u001b[0m: can't multiply sequence by non-int of type 'float'"
     ]
    }
   ],
   "source": [
    "s1*2.5"
   ]
  },
  {
   "cell_type": "code",
   "execution_count": 81,
   "id": "96f2faa1",
   "metadata": {},
   "outputs": [
    {
     "data": {
      "text/plain": [
       "'PythonPython'"
      ]
     },
     "execution_count": 81,
     "metadata": {},
     "output_type": "execute_result"
    }
   ],
   "source": [
    "s1 +s1"
   ]
  },
  {
   "cell_type": "markdown",
   "id": "acc49d5a",
   "metadata": {},
   "source": [
    "concatination >> Addition"
   ]
  },
  {
   "cell_type": "code",
   "execution_count": 88,
   "id": "4f7f6c16",
   "metadata": {},
   "outputs": [
    {
     "name": "stdout",
     "output_type": "stream",
     "text": [
      "nythop\n"
     ]
    }
   ],
   "source": [
    "s = 'python'\n",
    "a = s[-1] + s[1:len(s)-1] + s[0]\n",
    "print(a)"
   ]
  },
  {
   "cell_type": "code",
   "execution_count": 85,
   "id": "10a82849",
   "metadata": {},
   "outputs": [
    {
     "data": {
      "text/plain": [
       "'ytho'"
      ]
     },
     "execution_count": 85,
     "metadata": {},
     "output_type": "execute_result"
    }
   ],
   "source": [
    "s[1:-1]"
   ]
  },
  {
   "cell_type": "code",
   "execution_count": 86,
   "id": "91b1f243",
   "metadata": {},
   "outputs": [
    {
     "data": {
      "text/plain": [
       "'ytho'"
      ]
     },
     "execution_count": 86,
     "metadata": {},
     "output_type": "execute_result"
    }
   ],
   "source": [
    "s[1:len(s)-1]"
   ]
  },
  {
   "cell_type": "code",
   "execution_count": 87,
   "id": "346813eb",
   "metadata": {},
   "outputs": [
    {
     "data": {
      "text/plain": [
       "'ytho'"
      ]
     },
     "execution_count": 87,
     "metadata": {},
     "output_type": "execute_result"
    }
   ],
   "source": [
    "s[1:5]"
   ]
  },
  {
   "cell_type": "markdown",
   "id": "2c61f8e2",
   "metadata": {},
   "source": [
    "### String Casting"
   ]
  },
  {
   "cell_type": "code",
   "execution_count": 98,
   "id": "513022e7",
   "metadata": {},
   "outputs": [
    {
     "name": "stdout",
     "output_type": "stream",
     "text": [
      "Data\n"
     ]
    }
   ],
   "source": [
    "string = input() "
   ]
  },
  {
   "cell_type": "code",
   "execution_count": 97,
   "id": "ce63c3d1",
   "metadata": {},
   "outputs": [
    {
     "name": "stdout",
     "output_type": "stream",
     "text": [
      "Enter a value for str1: Concat\n"
     ]
    },
    {
     "data": {
      "text/plain": [
       "'Concat'"
      ]
     },
     "execution_count": 97,
     "metadata": {},
     "output_type": "execute_result"
    }
   ],
   "source": [
    "str1 = input('Enter a value for str1: ') \n",
    "str1    # Data type of variable will be string"
   ]
  },
  {
   "cell_type": "code",
   "execution_count": 99,
   "id": "8a92b3ca",
   "metadata": {},
   "outputs": [
    {
     "data": {
      "text/plain": [
       "str"
      ]
     },
     "execution_count": 99,
     "metadata": {},
     "output_type": "execute_result"
    }
   ],
   "source": [
    "type(str1)"
   ]
  },
  {
   "cell_type": "code",
   "execution_count": 100,
   "id": "7aa26667",
   "metadata": {},
   "outputs": [
    {
     "name": "stdout",
     "output_type": "stream",
     "text": [
      "Enter a number: 12\n"
     ]
    }
   ],
   "source": [
    "str2= input('Enter a number: ')"
   ]
  },
  {
   "cell_type": "code",
   "execution_count": 101,
   "id": "ae309d49",
   "metadata": {},
   "outputs": [
    {
     "data": {
      "text/plain": [
       "str"
      ]
     },
     "execution_count": 101,
     "metadata": {},
     "output_type": "execute_result"
    }
   ],
   "source": [
    "type(str2)"
   ]
  },
  {
   "cell_type": "code",
   "execution_count": 102,
   "id": "33feea3d",
   "metadata": {},
   "outputs": [
    {
     "name": "stdout",
     "output_type": "stream",
     "text": [
      "Value of a is 1234 and its datatype is <class 'int'>\n"
     ]
    }
   ],
   "source": [
    "str3 = '1234'\n",
    "a = int(str3)\n",
    "print(f'Value of a is {a} and its datatype is {type(a)}')"
   ]
  },
  {
   "cell_type": "code",
   "execution_count": 103,
   "id": "032e4140",
   "metadata": {},
   "outputs": [
    {
     "data": {
      "text/plain": [
       "int"
      ]
     },
     "execution_count": 103,
     "metadata": {},
     "output_type": "execute_result"
    }
   ],
   "source": [
    "type(a)"
   ]
  },
  {
   "cell_type": "code",
   "execution_count": 104,
   "id": "5f874adf",
   "metadata": {},
   "outputs": [
    {
     "ename": "ValueError",
     "evalue": "invalid literal for int() with base 10: '1234.34'",
     "output_type": "error",
     "traceback": [
      "\u001b[1;31m---------------------------------------------------------------------------\u001b[0m",
      "\u001b[1;31mValueError\u001b[0m                                Traceback (most recent call last)",
      "\u001b[1;32m<ipython-input-104-4bf6bc4e31e1>\u001b[0m in \u001b[0;36m<module>\u001b[1;34m\u001b[0m\n\u001b[0;32m      1\u001b[0m \u001b[0mstr3\u001b[0m \u001b[1;33m=\u001b[0m \u001b[1;34m'1234.34'\u001b[0m\u001b[1;33m\u001b[0m\u001b[1;33m\u001b[0m\u001b[0m\n\u001b[1;32m----> 2\u001b[1;33m \u001b[0ma\u001b[0m \u001b[1;33m=\u001b[0m \u001b[0mint\u001b[0m\u001b[1;33m(\u001b[0m\u001b[0mstr3\u001b[0m\u001b[1;33m)\u001b[0m\u001b[1;33m\u001b[0m\u001b[1;33m\u001b[0m\u001b[0m\n\u001b[0m\u001b[0;32m      3\u001b[0m \u001b[0mprint\u001b[0m\u001b[1;33m(\u001b[0m\u001b[1;34mf'Value of a is {a} and its datatype is {type(a)}'\u001b[0m\u001b[1;33m)\u001b[0m\u001b[1;33m\u001b[0m\u001b[1;33m\u001b[0m\u001b[0m\n",
      "\u001b[1;31mValueError\u001b[0m: invalid literal for int() with base 10: '1234.34'"
     ]
    }
   ],
   "source": [
    "str3 = '1234.34'\n",
    "a = int(str3)\n",
    "print(f'Value of a is {a} and its datatype is {type(a)}')"
   ]
  },
  {
   "cell_type": "code",
   "execution_count": 105,
   "id": "1f9b2480",
   "metadata": {},
   "outputs": [
    {
     "name": "stdout",
     "output_type": "stream",
     "text": [
      "Value of a is 1234.34 and its datatype is <class 'float'>\n"
     ]
    }
   ],
   "source": [
    "str3 = '1234.34'\n",
    "a = float(str3)\n",
    "print(f'Value of a is {a} and its datatype is {type(a)}')"
   ]
  },
  {
   "cell_type": "code",
   "execution_count": 106,
   "id": "913cd5b7",
   "metadata": {},
   "outputs": [
    {
     "name": "stdout",
     "output_type": "stream",
     "text": [
      "Value of a is 1234.0 and its datatype is <class 'float'>\n"
     ]
    }
   ],
   "source": [
    "str3 = '1234'\n",
    "a = float(str3)\n",
    "print(f'Value of a is {a} and its datatype is {type(a)}')"
   ]
  },
  {
   "cell_type": "code",
   "execution_count": 107,
   "id": "338ef7f4",
   "metadata": {},
   "outputs": [
    {
     "name": "stdout",
     "output_type": "stream",
     "text": [
      "Value of a is 1234 and its datatype is <class 'int'>\n",
      "2234\n"
     ]
    }
   ],
   "source": [
    "str3 = '1234'\n",
    "a = int(str3)\n",
    "print(f'Value of a is {a} and its datatype is {type(a)}')\n",
    "print(a+1000)"
   ]
  },
  {
   "cell_type": "code",
   "execution_count": 109,
   "id": "6eb9b580",
   "metadata": {},
   "outputs": [
    {
     "ename": "TypeError",
     "evalue": "type str doesn't define __round__ method",
     "output_type": "error",
     "traceback": [
      "\u001b[1;31m---------------------------------------------------------------------------\u001b[0m",
      "\u001b[1;31mTypeError\u001b[0m                                 Traceback (most recent call last)",
      "\u001b[1;32m<ipython-input-109-ff223456de54>\u001b[0m in \u001b[0;36m<module>\u001b[1;34m\u001b[0m\n\u001b[0;32m      1\u001b[0m \u001b[0mstr3\u001b[0m \u001b[1;33m=\u001b[0m \u001b[1;34m'1234.34'\u001b[0m\u001b[1;33m\u001b[0m\u001b[1;33m\u001b[0m\u001b[0m\n\u001b[1;32m----> 2\u001b[1;33m \u001b[0ma\u001b[0m \u001b[1;33m=\u001b[0m \u001b[0mround\u001b[0m\u001b[1;33m(\u001b[0m\u001b[0mstr3\u001b[0m\u001b[1;33m)\u001b[0m\u001b[1;33m\u001b[0m\u001b[1;33m\u001b[0m\u001b[0m\n\u001b[0m\u001b[0;32m      3\u001b[0m \u001b[0mprint\u001b[0m\u001b[1;33m(\u001b[0m\u001b[1;34mf'Value of a is {a} and its datatype is {type(a)}'\u001b[0m\u001b[1;33m)\u001b[0m\u001b[1;33m\u001b[0m\u001b[1;33m\u001b[0m\u001b[0m\n",
      "\u001b[1;31mTypeError\u001b[0m: type str doesn't define __round__ method"
     ]
    }
   ],
   "source": [
    "str3 = '1234.34'\n",
    "a = round(str3)\n",
    "print(f'Value of a is {a} and its datatype is {type(a)}')"
   ]
  },
  {
   "cell_type": "markdown",
   "id": "6cc26a9d",
   "metadata": {},
   "source": [
    "### 1. string to int"
   ]
  },
  {
   "cell_type": "code",
   "execution_count": 11,
   "id": "53d73c2b",
   "metadata": {},
   "outputs": [
    {
     "name": "stdout",
     "output_type": "stream",
     "text": [
      "Value of a is 1000 and its datatype is <class 'int'>\n"
     ]
    }
   ],
   "source": [
    "string ='1000'\n",
    "a = int(string)\n",
    "print(f'Value of a is {a} and its datatype is {type(a)}')"
   ]
  },
  {
   "cell_type": "code",
   "execution_count": 12,
   "id": "410b2a32",
   "metadata": {},
   "outputs": [
    {
     "data": {
      "text/plain": [
       "str"
      ]
     },
     "execution_count": 12,
     "metadata": {},
     "output_type": "execute_result"
    }
   ],
   "source": [
    "type(string)"
   ]
  },
  {
   "cell_type": "markdown",
   "id": "02a59f09",
   "metadata": {},
   "source": [
    "### 2. string to float"
   ]
  },
  {
   "cell_type": "code",
   "execution_count": 13,
   "id": "ff81f74e",
   "metadata": {},
   "outputs": [
    {
     "name": "stdout",
     "output_type": "stream",
     "text": [
      "<class 'str'>\n",
      "Value of a is 45.86 and its datatype is <class 'float'>\n"
     ]
    }
   ],
   "source": [
    "string ='45.86'\n",
    "print(type(string))\n",
    "a = float(string)\n",
    "print(f'Value of a is {a} and its datatype is {type(a)}')"
   ]
  },
  {
   "cell_type": "code",
   "execution_count": 14,
   "id": "d0b7afd8",
   "metadata": {},
   "outputs": [
    {
     "name": "stdout",
     "output_type": "stream",
     "text": [
      "<class 'str'>\n",
      "Value of a is 45.0 and its datatype is <class 'float'>\n"
     ]
    }
   ],
   "source": [
    "string ='45'\n",
    "print(type(string))\n",
    "a = float(string)\n",
    "print(f'Value of a is {a} and its datatype is {type(a)}')"
   ]
  },
  {
   "cell_type": "code",
   "execution_count": 16,
   "id": "1771425e",
   "metadata": {},
   "outputs": [
    {
     "name": "stdout",
     "output_type": "stream",
     "text": [
      "<class 'str'>\n",
      "Value of a is 45 and its datatype is <class 'int'>\n"
     ]
    }
   ],
   "source": [
    "string ='45.86'\n",
    "print(type(string))\n",
    "string=float(string)\n",
    "a = int(string)\n",
    "print(f'Value of a is {a} and its datatype is {type(a)}')"
   ]
  },
  {
   "cell_type": "markdown",
   "id": "1c713365",
   "metadata": {},
   "source": [
    "### 3. int to string"
   ]
  },
  {
   "cell_type": "code",
   "execution_count": 18,
   "id": "b11a0992",
   "metadata": {},
   "outputs": [
    {
     "name": "stdout",
     "output_type": "stream",
     "text": [
      "<class 'int'>\n",
      "Value of a is 90 and its datatype is <class 'str'>\n"
     ]
    }
   ],
   "source": [
    "a = 90\n",
    "print(type(a))\n",
    "a = str(a)\n",
    "print(f'Value of a is {a} and its datatype is {type(a)}')"
   ]
  },
  {
   "cell_type": "markdown",
   "id": "90d5d742",
   "metadata": {},
   "source": [
    "### 4. float to string"
   ]
  },
  {
   "cell_type": "code",
   "execution_count": 19,
   "id": "c33adf9f",
   "metadata": {},
   "outputs": [
    {
     "name": "stdout",
     "output_type": "stream",
     "text": [
      "<class 'float'>\n",
      "Value of a is 100.6 and its datatype is <class 'str'>\n"
     ]
    }
   ],
   "source": [
    "a = 100.6\n",
    "print(type(a))\n",
    "a = str(a)\n",
    "print(f'Value of a is {a} and its datatype is {type(a)}')"
   ]
  },
  {
   "cell_type": "code",
   "execution_count": 21,
   "id": "a32396f5",
   "metadata": {},
   "outputs": [
    {
     "name": "stdout",
     "output_type": "stream",
     "text": [
      "Enter a value of X: 10\n",
      "Enter a value of Y: 20\n",
      "10 20\n",
      "Addition of 10 and 20 is 1020\n"
     ]
    }
   ],
   "source": [
    "x = input('Enter a value of X: ') #10\n",
    "y = input('Enter a value of Y: ') #20 \n",
    "print(x, y) #10 20\n",
    "\n",
    "add = x+y\n",
    "print(f'Addition of {x} and {y} is {add}')"
   ]
  },
  {
   "cell_type": "code",
   "execution_count": 22,
   "id": "6117bb7d",
   "metadata": {},
   "outputs": [
    {
     "name": "stdout",
     "output_type": "stream",
     "text": [
      "Enter a value of X: 10\n",
      "Enter a value of Y: 20\n",
      "10 20\n",
      "Addition of 10 and 20 is 30\n"
     ]
    }
   ],
   "source": [
    "x = int(input('Enter a value of X: ')) #10\n",
    "y = int(input('Enter a value of Y: ')) #20 \n",
    "print(x, y) #10 20\n",
    "\n",
    "add = x+y\n",
    "print(f'Addition of {x} and {y} is {add}')"
   ]
  },
  {
   "cell_type": "code",
   "execution_count": 23,
   "id": "4b7e2c24",
   "metadata": {},
   "outputs": [
    {
     "name": "stdout",
     "output_type": "stream",
     "text": [
      "Enter a value of X: 10.5\n",
      "Enter a value of Y: 20\n",
      "10.5 20\n",
      "Addition of 10.5 and 20 is 30.5\n"
     ]
    }
   ],
   "source": [
    "x = float(input('Enter a value of X: ')) #10.5\n",
    "y = int(input('Enter a value of Y: ')) #20 \n",
    "print(x, y) #10.5 20\n",
    "\n",
    "add = x+y\n",
    "print(f'Addition of {x} and {y} is {add}')"
   ]
  },
  {
   "cell_type": "code",
   "execution_count": 25,
   "id": "b024f4b2",
   "metadata": {},
   "outputs": [
    {
     "name": "stdout",
     "output_type": "stream",
     "text": [
      "<class 'tuple'>\n"
     ]
    },
    {
     "data": {
      "text/plain": [
       "list"
      ]
     },
     "execution_count": 25,
     "metadata": {},
     "output_type": "execute_result"
    }
   ],
   "source": [
    "a= (1,2)\n",
    "print(type(a))\n",
    "b=list(a)\n",
    "type(b)"
   ]
  },
  {
   "cell_type": "markdown",
   "id": "51909a88",
   "metadata": {},
   "source": [
    "# Access String items/ characters"
   ]
  },
  {
   "cell_type": "code",
   "execution_count": null,
   "id": "6cb35e7c",
   "metadata": {},
   "outputs": [],
   "source": [
    "Indexing #a[1]\n",
    "Slicing #a[1:8]\n",
    "for loop"
   ]
  },
  {
   "cell_type": "code",
   "execution_count": null,
   "id": "dabadcf4",
   "metadata": {},
   "outputs": [],
   "source": [
    "a[1]\n",
    "a[1:8]"
   ]
  },
  {
   "cell_type": "code",
   "execution_count": 26,
   "id": "9db5ac32",
   "metadata": {},
   "outputs": [
    {
     "data": {
      "text/plain": [
       "'V'"
      ]
     },
     "execution_count": 26,
     "metadata": {},
     "output_type": "execute_result"
    }
   ],
   "source": [
    "string = 'Velocity'\n",
    "string[0]"
   ]
  },
  {
   "cell_type": "code",
   "execution_count": 27,
   "id": "fdad61a2",
   "metadata": {},
   "outputs": [
    {
     "data": {
      "text/plain": [
       "'Velo'"
      ]
     },
     "execution_count": 27,
     "metadata": {},
     "output_type": "execute_result"
    }
   ],
   "source": [
    "string[:4]\n"
   ]
  },
  {
   "cell_type": "code",
   "execution_count": 28,
   "id": "d049878c",
   "metadata": {},
   "outputs": [
    {
     "name": "stdout",
     "output_type": "stream",
     "text": [
      "V\n",
      "e\n",
      "l\n",
      "o\n",
      "c\n",
      "i\n",
      "t\n",
      "y\n"
     ]
    }
   ],
   "source": [
    "for char in string:\n",
    "    print(char)"
   ]
  },
  {
   "cell_type": "code",
   "execution_count": 31,
   "id": "c919f7df",
   "metadata": {},
   "outputs": [
    {
     "name": "stdout",
     "output_type": "stream",
     "text": [
      "V+e+l+o+c+i+t+y+"
     ]
    }
   ],
   "source": [
    "string = 'Velocity'\n",
    "for variable_name in string:\n",
    "    print(variable_name, end='+')"
   ]
  },
  {
   "cell_type": "code",
   "execution_count": 34,
   "id": "4a1b06b8",
   "metadata": {},
   "outputs": [
    {
     "name": "stdout",
     "output_type": "stream",
     "text": [
      "Char is : e\n",
      "Char is : l\n",
      "Char is : o\n",
      "Char is : c\n"
     ]
    }
   ],
   "source": [
    "string = 'Velocity'\n",
    "for variable_name in string[1:5]:\n",
    "    print(f'Char is : {variable_name}')"
   ]
  },
  {
   "cell_type": "code",
   "execution_count": 36,
   "id": "d733082f",
   "metadata": {},
   "outputs": [
    {
     "name": "stdout",
     "output_type": "stream",
     "text": [
      "Character at index 0 is V\n",
      "Character at index 1 is e\n",
      "Character at index 2 is l\n",
      "Character at index 3 is o\n",
      "Character at index 4 is c\n",
      "Character at index 5 is i\n",
      "Character at index 6 is t\n",
      "Character at index 7 is y\n"
     ]
    }
   ],
   "source": [
    "string = 'Velocity'\n",
    "count = 0\n",
    "for i in string:\n",
    "    print(f'Character at index {count} is {string[count]}') #string[0]\n",
    "    count=count+1 #count+=1"
   ]
  },
  {
   "cell_type": "code",
   "execution_count": 6,
   "id": "5f02dddc",
   "metadata": {},
   "outputs": [
    {
     "name": "stdout",
     "output_type": "stream",
     "text": [
      "Character at index 0 is V\n",
      "Character at index 1 is e\n",
      "Character at index 2 is l\n",
      "Character at index 3 is o\n",
      "Character at index 4 is c\n",
      "Character at index 5 is i\n",
      "Character at index 6 is t\n",
      "Character at index 7 is y\n"
     ]
    }
   ],
   "source": [
    "string = 'Velocity'\n",
    "count = 0\n",
    "for i in string:\n",
    "    print(f'Character at index {count} is {string[count]}') #string[0]\n",
    "    count=count+1 #count+=1"
   ]
  },
  {
   "cell_type": "code",
   "execution_count": 11,
   "id": "b6c663f0",
   "metadata": {},
   "outputs": [
    {
     "name": "stdout",
     "output_type": "stream",
     "text": [
      "Character at index 0 is V\n",
      "Character at index 2 is l\n",
      "Character at index 4 is c\n",
      "Character at index 6 is t\n",
      "Character at index 8 is  \n",
      "Character at index 10 is l\n",
      "Character at index 12 is s\n",
      "Character at index 14 is e\n",
      "Character at index 16 is  \n",
      "Character at index 18 is g\n",
      "Character at index 20 is c\n",
      "Character at index 22 is z\n"
     ]
    }
   ],
   "source": [
    "string = 'Velocity Classes jgvcgzj'\n",
    "count = 0\n",
    "for i in string:\n",
    "    print(f'Character at index {count} is {string[count]}') #string[0]\n",
    "    count=count+2 #count+=1\n",
    "    if count == len(string):\n",
    "        break"
   ]
  },
  {
   "cell_type": "code",
   "execution_count": 41,
   "id": "73245dad",
   "metadata": {},
   "outputs": [
    {
     "name": "stdout",
     "output_type": "stream",
     "text": [
      "Character at index 0 is V\n",
      "Character at index 1 is e\n",
      "Character at index 2 is l\n",
      "Character at index 3 is o\n",
      "Character at index 4 is c\n",
      "Character at index 5 is i\n",
      "Character at index 6 is t\n",
      "Character at index 7 is y\n"
     ]
    }
   ],
   "source": [
    "string = 'Velocity'\n",
    "count = 0\n",
    "for i in string:\n",
    "    print(f'Character at index {count} is {i}') #string[0]\n",
    "    count+=1 #count=count+1"
   ]
  },
  {
   "cell_type": "code",
   "execution_count": 44,
   "id": "3ff3444b",
   "metadata": {},
   "outputs": [
    {
     "name": "stdout",
     "output_type": "stream",
     "text": [
      "Character at index 0 is V\n",
      "Character at index 1 is e\n",
      "Character at index 2 is l\n",
      "Character at index 3 is o\n",
      "Character at index 4 is c\n",
      "Character at index 5 is i\n",
      "Character at index 6 is t\n",
      "Character at index 7 is y\n"
     ]
    }
   ],
   "source": [
    "string = 'Velocity'\n",
    "for index, val in enumerate(string):\n",
    "    print(f'Character at index {index} is {val}')"
   ]
  },
  {
   "cell_type": "code",
   "execution_count": 45,
   "id": "efe9875a",
   "metadata": {},
   "outputs": [
    {
     "name": "stdout",
     "output_type": "stream",
     "text": [
      "Character at index 0 is M\n",
      "Character at index 1 is a\n",
      "Character at index 2 is c\n",
      "Character at index 3 is h\n",
      "Character at index 4 is i\n",
      "Character at index 5 is n\n",
      "Character at index 6 is e\n",
      "Character at index 7 is  \n",
      "Character at index 8 is L\n",
      "Character at index 9 is e\n",
      "Character at index 10 is a\n",
      "Character at index 11 is r\n",
      "Character at index 12 is n\n",
      "Character at index 13 is i\n",
      "Character at index 14 is n\n",
      "Character at index 15 is g\n"
     ]
    }
   ],
   "source": [
    "string = 'Machine Learning'\n",
    "for index, val in enumerate(string):\n",
    "    print(f'Character at index {index} is {val}')"
   ]
  },
  {
   "cell_type": "code",
   "execution_count": 48,
   "id": "8a36452b",
   "metadata": {},
   "outputs": [
    {
     "name": "stdout",
     "output_type": "stream",
     "text": [
      "Hello D\n",
      "Hello a\n",
      "Hello t\n",
      "Hello a\n"
     ]
    }
   ],
   "source": [
    "string ='Data'\n",
    "for i in string:\n",
    "    print('Hello', i)"
   ]
  },
  {
   "cell_type": "code",
   "execution_count": 49,
   "id": "4bcdce1a",
   "metadata": {},
   "outputs": [
    {
     "name": "stdout",
     "output_type": "stream",
     "text": [
      "Hello D Hello a Hello t Hello a "
     ]
    }
   ],
   "source": [
    "string ='Data'\n",
    "for i in string:\n",
    "    print('Hello', i, end=' ')"
   ]
  },
  {
   "cell_type": "markdown",
   "id": "77b24ffb",
   "metadata": {},
   "source": [
    "# String Formatting"
   ]
  },
  {
   "cell_type": "code",
   "execution_count": null,
   "id": "28370188",
   "metadata": {},
   "outputs": [],
   "source": [
    "1. Formatting using format() string method >> .format()\n",
    "2. Formatting using String literals, f-string >> Leading f-char\n",
    "3. Formatting with % operator"
   ]
  },
  {
   "cell_type": "markdown",
   "id": "aae5898b",
   "metadata": {},
   "source": [
    "### 1. format()"
   ]
  },
  {
   "cell_type": "code",
   "execution_count": 50,
   "id": "8dd67ce1",
   "metadata": {},
   "outputs": [
    {
     "name": "stdout",
     "output_type": "stream",
     "text": [
      "Character at index 0 is D\n",
      "Character at index 1 is a\n",
      "Character at index 2 is t\n",
      "Character at index 3 is a\n"
     ]
    }
   ],
   "source": [
    "string = 'Data'\n",
    "for index, char in enumerate(string):\n",
    "    print('Character at index {} is {}'.format(index, char))"
   ]
  },
  {
   "cell_type": "code",
   "execution_count": 51,
   "id": "2ea7d3c5",
   "metadata": {},
   "outputs": [
    {
     "name": "stdout",
     "output_type": "stream",
     "text": [
      "addition of 10 and 20 is 30\n"
     ]
    }
   ],
   "source": [
    "a= 10\n",
    "b=20\n",
    "print('addition of {} and {} is {}'.format(a,b,a+b))"
   ]
  },
  {
   "cell_type": "markdown",
   "id": "40c44dab",
   "metadata": {},
   "source": [
    "### 2. f-string"
   ]
  },
  {
   "cell_type": "code",
   "execution_count": 52,
   "id": "190bf078",
   "metadata": {},
   "outputs": [
    {
     "name": "stdout",
     "output_type": "stream",
     "text": [
      "Character at index 0 is D\n",
      "Character at index 1 is a\n",
      "Character at index 2 is t\n",
      "Character at index 3 is a\n"
     ]
    }
   ],
   "source": [
    "string = 'Data'\n",
    "for index, char in enumerate(string):\n",
    "    print(f'Character at index {index} is {char}')"
   ]
  },
  {
   "cell_type": "code",
   "execution_count": 53,
   "id": "032fad14",
   "metadata": {},
   "outputs": [
    {
     "name": "stdout",
     "output_type": "stream",
     "text": [
      "addition of 10 and 20 is 30\n"
     ]
    }
   ],
   "source": [
    "a= 10\n",
    "b=20\n",
    "print(f'addition of {a} and {b} is {a+b}')"
   ]
  },
  {
   "cell_type": "markdown",
   "id": "fbcb86c8",
   "metadata": {},
   "source": [
    "### 3. Percent Operator (%)"
   ]
  },
  {
   "cell_type": "code",
   "execution_count": null,
   "id": "657f6b3b",
   "metadata": {},
   "outputs": [],
   "source": [
    "%d >> int\n",
    "%f >> float\n",
    "%s >> str"
   ]
  },
  {
   "cell_type": "code",
   "execution_count": 54,
   "id": "b74f5b42",
   "metadata": {},
   "outputs": [
    {
     "name": "stdout",
     "output_type": "stream",
     "text": [
      "Addition of 10 and 20 is 30\n"
     ]
    }
   ],
   "source": [
    "a=10\n",
    "b=20\n",
    "res='Addition of %d and %d is %d'%(a,b,a+b)\n",
    "print(res)"
   ]
  },
  {
   "cell_type": "code",
   "execution_count": 55,
   "id": "f8d56a95",
   "metadata": {},
   "outputs": [
    {
     "name": "stdout",
     "output_type": "stream",
     "text": [
      "Addition of 1.500000 and 20 is 21\n"
     ]
    }
   ],
   "source": [
    "a=1.5\n",
    "b=20\n",
    "res='Addition of %f and %d is %d'%(a,b,a+b)\n",
    "print(res)"
   ]
  },
  {
   "cell_type": "code",
   "execution_count": 56,
   "id": "724786da",
   "metadata": {},
   "outputs": [
    {
     "name": "stdout",
     "output_type": "stream",
     "text": [
      "Addition of 1.500000 and 20 is 21.500000\n"
     ]
    }
   ],
   "source": [
    "a=1.5\n",
    "b=20\n",
    "res='Addition of %f and %d is %f'%(a,b,a+b)\n",
    "print(res)"
   ]
  },
  {
   "cell_type": "code",
   "execution_count": 57,
   "id": "18c15832",
   "metadata": {},
   "outputs": [
    {
     "name": "stdout",
     "output_type": "stream",
     "text": [
      "concat of 1.5 and 20 is 1.520\n"
     ]
    }
   ],
   "source": [
    "a='1.5'\n",
    "b='20'\n",
    "res='concat of %s and %s is %s'%(a,b,a+b)\n",
    "print(res)"
   ]
  },
  {
   "cell_type": "markdown",
   "id": "ad8e1627",
   "metadata": {},
   "source": [
    "### Check String items"
   ]
  },
  {
   "cell_type": "code",
   "execution_count": 14,
   "id": "b06f2836",
   "metadata": {},
   "outputs": [],
   "source": [
    "data = 'We are learning Data Science'\n",
    "a='Science' in data"
   ]
  },
  {
   "cell_type": "code",
   "execution_count": null,
   "id": "e809d48c",
   "metadata": {},
   "outputs": [],
   "source": [
    "bool >> True(1), False(0)"
   ]
  },
  {
   "cell_type": "code",
   "execution_count": 15,
   "id": "ae6bb940",
   "metadata": {},
   "outputs": [
    {
     "data": {
      "text/plain": [
       "bool"
      ]
     },
     "execution_count": 15,
     "metadata": {},
     "output_type": "execute_result"
    }
   ],
   "source": [
    "type(a)"
   ]
  },
  {
   "cell_type": "code",
   "execution_count": 16,
   "id": "61627d2c",
   "metadata": {},
   "outputs": [
    {
     "data": {
      "text/plain": [
       "False"
      ]
     },
     "execution_count": 16,
     "metadata": {},
     "output_type": "execute_result"
    }
   ],
   "source": [
    "'science' in data"
   ]
  },
  {
   "cell_type": "code",
   "execution_count": 17,
   "id": "e5f25843",
   "metadata": {},
   "outputs": [
    {
     "data": {
      "text/plain": [
       "True"
      ]
     },
     "execution_count": 17,
     "metadata": {},
     "output_type": "execute_result"
    }
   ],
   "source": [
    "x=100\n",
    "y=100\n",
    "\n",
    "x==y"
   ]
  },
  {
   "cell_type": "code",
   "execution_count": 18,
   "id": "82471176",
   "metadata": {},
   "outputs": [
    {
     "data": {
      "text/plain": [
       "False"
      ]
     },
     "execution_count": 18,
     "metadata": {},
     "output_type": "execute_result"
    }
   ],
   "source": [
    "x = 100\n",
    "y = 50\n",
    "\n",
    "x==y"
   ]
  },
  {
   "cell_type": "code",
   "execution_count": 19,
   "id": "1c99ba30",
   "metadata": {},
   "outputs": [
    {
     "data": {
      "text/plain": [
       "True"
      ]
     },
     "execution_count": 19,
     "metadata": {},
     "output_type": "execute_result"
    }
   ],
   "source": [
    "x = 100\n",
    "y =50\n",
    "x > y"
   ]
  },
  {
   "cell_type": "code",
   "execution_count": 20,
   "id": "cc135dc9",
   "metadata": {},
   "outputs": [
    {
     "data": {
      "text/plain": [
       "False"
      ]
     },
     "execution_count": 20,
     "metadata": {},
     "output_type": "execute_result"
    }
   ],
   "source": [
    "x = 100\n",
    "y =50\n",
    "x < y"
   ]
  },
  {
   "cell_type": "code",
   "execution_count": 21,
   "id": "223ecb88",
   "metadata": {},
   "outputs": [
    {
     "name": "stdout",
     "output_type": "stream",
     "text": [
      "x is greater than y\n"
     ]
    }
   ],
   "source": [
    "x = 100\n",
    "y = 50\n",
    "if x > y: # True\n",
    "    print('x is greater than y')"
   ]
  },
  {
   "cell_type": "code",
   "execution_count": 25,
   "id": "14287139",
   "metadata": {},
   "outputs": [
    {
     "name": "stdout",
     "output_type": "stream",
     "text": [
      "y is smaller than x\n"
     ]
    }
   ],
   "source": [
    "x = 100\n",
    "y = 50\n",
    "if x < y: # False\n",
    "    print('x is greater than y')\n",
    "\n",
    "else:\n",
    "    print('y is smaller than x')"
   ]
  },
  {
   "cell_type": "code",
   "execution_count": 26,
   "id": "dfb36cc1",
   "metadata": {},
   "outputs": [
    {
     "name": "stdout",
     "output_type": "stream",
     "text": [
      "x is greater than y\n"
     ]
    }
   ],
   "source": [
    "x = 100\n",
    "y = 50\n",
    "if x > y: # True\n",
    "    print('x is greater than y')\n",
    "\n",
    "else:\n",
    "    print('y is smaller than x')"
   ]
  },
  {
   "cell_type": "code",
   "execution_count": 27,
   "id": "aa24a308",
   "metadata": {},
   "outputs": [
    {
     "name": "stdout",
     "output_type": "stream",
     "text": [
      "Yes, Science is present\n"
     ]
    }
   ],
   "source": [
    "data = 'We are learning Data Science'\n",
    "if 'Science' in data:\n",
    "    print('Yes, Science is present')\n",
    "else:\n",
    "    print('No, Science is not present in given string')"
   ]
  },
  {
   "cell_type": "code",
   "execution_count": 28,
   "id": "89535783",
   "metadata": {},
   "outputs": [
    {
     "name": "stdout",
     "output_type": "stream",
     "text": [
      "No, Science is not present in given string\n"
     ]
    }
   ],
   "source": [
    "data = 'We are learning Data Science'\n",
    "if 'science' in data:\n",
    "    print('Yes, Science is present')\n",
    "else:\n",
    "    print('No, Science is not present in given string')"
   ]
  },
  {
   "cell_type": "code",
   "execution_count": 29,
   "id": "b2e18fc8",
   "metadata": {},
   "outputs": [
    {
     "name": "stdout",
     "output_type": "stream",
     "text": [
      "Yes, Science is present\n"
     ]
    }
   ],
   "source": [
    "data = 'We are learning Data Science'\n",
    "val= 'Science'\n",
    "if val in data:\n",
    "    print('Yes, Science is present')\n",
    "else:\n",
    "    print('No, Science is not present in given string')"
   ]
  },
  {
   "cell_type": "code",
   "execution_count": null,
   "id": "fe2e1ca6",
   "metadata": {},
   "outputs": [],
   "source": []
  },
  {
   "cell_type": "code",
   "execution_count": null,
   "id": "6c1b9e20",
   "metadata": {},
   "outputs": [],
   "source": []
  },
  {
   "cell_type": "code",
   "execution_count": null,
   "id": "a3159589",
   "metadata": {},
   "outputs": [],
   "source": []
  }
 ],
 "metadata": {
  "kernelspec": {
   "display_name": "Python 3",
   "language": "python",
   "name": "python3"
  },
  "language_info": {
   "codemirror_mode": {
    "name": "ipython",
    "version": 3
   },
   "file_extension": ".py",
   "mimetype": "text/x-python",
   "name": "python",
   "nbconvert_exporter": "python",
   "pygments_lexer": "ipython3",
   "version": "3.8.8"
  }
 },
 "nbformat": 4,
 "nbformat_minor": 5
}
