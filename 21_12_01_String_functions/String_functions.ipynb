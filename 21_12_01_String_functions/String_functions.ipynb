{
 "cells": [
  {
   "cell_type": "markdown",
   "id": "0f947470",
   "metadata": {},
   "source": [
    "### 1. Capitalize()"
   ]
  },
  {
   "cell_type": "code",
   "execution_count": null,
   "id": "ffa27c3d",
   "metadata": {},
   "outputs": [],
   "source": [
    "It only capitalize first character\n",
    "zero index item"
   ]
  },
  {
   "cell_type": "code",
   "execution_count": 1,
   "id": "915dcbe7",
   "metadata": {},
   "outputs": [
    {
     "data": {
      "text/plain": [
       "' india'"
      ]
     },
     "execution_count": 1,
     "metadata": {},
     "output_type": "execute_result"
    }
   ],
   "source": [
    "country = 'india'\n",
    "country=country.capitalize()\n",
    "country"
   ]
  },
  {
   "cell_type": "code",
   "execution_count": 4,
   "id": "2aa3d54e",
   "metadata": {},
   "outputs": [
    {
     "data": {
      "text/plain": [
       "'India'"
      ]
     },
     "execution_count": 4,
     "metadata": {},
     "output_type": "execute_result"
    }
   ],
   "source": [
    "country"
   ]
  },
  {
   "cell_type": "code",
   "execution_count": 5,
   "id": "5c401d16",
   "metadata": {},
   "outputs": [
    {
     "data": {
      "text/plain": [
       "'Machine learning engineer'"
      ]
     },
     "execution_count": 5,
     "metadata": {},
     "output_type": "execute_result"
    }
   ],
   "source": [
    "a = 'machine learning engineer'\n",
    "a.capitalize()"
   ]
  },
  {
   "cell_type": "markdown",
   "id": "7e341d6d",
   "metadata": {},
   "source": [
    "### 2. upper()"
   ]
  },
  {
   "cell_type": "code",
   "execution_count": 6,
   "id": "88c2c41d",
   "metadata": {},
   "outputs": [
    {
     "data": {
      "text/plain": [
       "'INDIA'"
      ]
     },
     "execution_count": 6,
     "metadata": {},
     "output_type": "execute_result"
    }
   ],
   "source": [
    "country='india' # lower case\n",
    "country.upper()"
   ]
  },
  {
   "cell_type": "code",
   "execution_count": 7,
   "id": "cf45a171",
   "metadata": {},
   "outputs": [
    {
     "data": {
      "text/plain": [
       "'MACHINE LEARNING ENGINEER'"
      ]
     },
     "execution_count": 7,
     "metadata": {},
     "output_type": "execute_result"
    }
   ],
   "source": [
    "a = 'machine learning engineer'\n",
    "a.upper()"
   ]
  },
  {
   "cell_type": "code",
   "execution_count": 8,
   "id": "306c2aaf",
   "metadata": {},
   "outputs": [
    {
     "data": {
      "text/plain": [
       "'INDIA'"
      ]
     },
     "execution_count": 8,
     "metadata": {},
     "output_type": "execute_result"
    }
   ],
   "source": [
    "b= 'InDiA'\n",
    "b.upper()"
   ]
  },
  {
   "cell_type": "code",
   "execution_count": 9,
   "id": "2c349c04",
   "metadata": {},
   "outputs": [
    {
     "data": {
      "text/plain": [
       "'SBIN00001234'"
      ]
     },
     "execution_count": 9,
     "metadata": {},
     "output_type": "execute_result"
    }
   ],
   "source": [
    "ifsc_code ='sbin00001234'\n",
    "ifsc_code.upper()"
   ]
  },
  {
   "cell_type": "markdown",
   "id": "d6eefa58",
   "metadata": {},
   "source": [
    "### 3. lower()"
   ]
  },
  {
   "cell_type": "code",
   "execution_count": 10,
   "id": "b997b497",
   "metadata": {},
   "outputs": [
    {
     "data": {
      "text/plain": [
       "'maharashtra'"
      ]
     },
     "execution_count": 10,
     "metadata": {},
     "output_type": "execute_result"
    }
   ],
   "source": [
    "state= 'MAHARASHTRA'\n",
    "state.lower()"
   ]
  },
  {
   "cell_type": "code",
   "execution_count": 11,
   "id": "4354b61c",
   "metadata": {},
   "outputs": [
    {
     "data": {
      "text/plain": [
       "'maharashtra'"
      ]
     },
     "execution_count": 11,
     "metadata": {},
     "output_type": "execute_result"
    }
   ],
   "source": [
    "state='Maharashtra'\n",
    "state.lower()"
   ]
  },
  {
   "cell_type": "code",
   "execution_count": 14,
   "id": "0cd1568a",
   "metadata": {},
   "outputs": [
    {
     "name": "stdout",
     "output_type": "stream",
     "text": [
      "we\n",
      "are\n",
      "in a class\n"
     ]
    }
   ],
   "source": [
    "data= '''We\n",
    "Are\n",
    "in a Class'''\n",
    "print(data.lower())"
   ]
  },
  {
   "cell_type": "markdown",
   "id": "b403742f",
   "metadata": {},
   "source": [
    "### 4. title()"
   ]
  },
  {
   "cell_type": "code",
   "execution_count": null,
   "id": "fe669442",
   "metadata": {},
   "outputs": [],
   "source": [
    "Convert string into title case\n",
    "Capitalize first char of every word in string"
   ]
  },
  {
   "cell_type": "code",
   "execution_count": 15,
   "id": "a497bb1b",
   "metadata": {},
   "outputs": [
    {
     "data": {
      "text/plain": [
       "'Machine Learning Engineer'"
      ]
     },
     "execution_count": 15,
     "metadata": {},
     "output_type": "execute_result"
    }
   ],
   "source": [
    "design='machine learning engineer'\n",
    "design.title()"
   ]
  },
  {
   "cell_type": "code",
   "execution_count": 16,
   "id": "75f44312",
   "metadata": {},
   "outputs": [
    {
     "data": {
      "text/plain": [
       "'Machine learning engineer'"
      ]
     },
     "execution_count": 16,
     "metadata": {},
     "output_type": "execute_result"
    }
   ],
   "source": [
    "design.capitalize()"
   ]
  },
  {
   "cell_type": "code",
   "execution_count": 17,
   "id": "7819e6a3",
   "metadata": {},
   "outputs": [
    {
     "data": {
      "text/plain": [
       "'Machine learning is the study of computer algorithms that can improve automatically through experience and by the use of data. it is seen as a part of artificial intelligence.'"
      ]
     },
     "execution_count": 17,
     "metadata": {},
     "output_type": "execute_result"
    }
   ],
   "source": [
    "ml='Machine learning is the study of computer algorithms that can improve automatically through experience and by the use of data. It is seen as a part of artificial intelligence.'\n",
    "ml.capitalize()"
   ]
  },
  {
   "cell_type": "code",
   "execution_count": 18,
   "id": "395e3858",
   "metadata": {},
   "outputs": [
    {
     "data": {
      "text/plain": [
       "'Machine Learning Is The Study Of Computer Algorithms That Can Improve Automatically Through Experience And By The Use Of Data. It Is Seen As A Part Of Artificial Intelligence.'"
      ]
     },
     "execution_count": 18,
     "metadata": {},
     "output_type": "execute_result"
    }
   ],
   "source": [
    "ml.title()"
   ]
  },
  {
   "cell_type": "code",
   "execution_count": 20,
   "id": "4f1d2b2f",
   "metadata": {},
   "outputs": [
    {
     "data": {
      "text/plain": [
       "'MACHINE LEARNING IS THE STUDY OF COMPUTER ALGORITHMS THAT CAN IMPROVE AUTOMATICALLY THROUGH EXPERIENCE AND BY THE USE OF DATA. IT IS SEEN AS A PART OF ARTIFICIAL INTELLIGENCE.'"
      ]
     },
     "execution_count": 20,
     "metadata": {},
     "output_type": "execute_result"
    }
   ],
   "source": [
    "ml.upper()"
   ]
  },
  {
   "cell_type": "code",
   "execution_count": 21,
   "id": "4424007e",
   "metadata": {},
   "outputs": [
    {
     "data": {
      "text/plain": [
       "'machine learning is the study of computer algorithms that can improve automatically through experience and by the use of data. it is seen as a part of artificial intelligence.'"
      ]
     },
     "execution_count": 21,
     "metadata": {},
     "output_type": "execute_result"
    }
   ],
   "source": [
    "ml.lower()"
   ]
  },
  {
   "cell_type": "code",
   "execution_count": 25,
   "id": "b158b301",
   "metadata": {},
   "outputs": [
    {
     "name": "stdout",
     "output_type": "stream",
     "text": [
      "MACHINE LEARNING IS THE STUDY OF COMPUTER ALGORITHMS THAT CAN IMPROVE AUTOMATICALLY THROUGH EXPERIENCE AND BY THE USE OF DATA. IT IS SEEN AS A PART OF ARTIFICIAL INTELLIGENCE.\n"
     ]
    }
   ],
   "source": [
    "if 'learning' in ml:\n",
    "    \n",
    "    print(ml.upper())"
   ]
  },
  {
   "cell_type": "markdown",
   "id": "6f9a886c",
   "metadata": {},
   "source": [
    "### 5. lstrip()"
   ]
  },
  {
   "cell_type": "code",
   "execution_count": null,
   "id": "bfe1c631",
   "metadata": {},
   "outputs": [],
   "source": [
    "to remove leading white spaces"
   ]
  },
  {
   "cell_type": "code",
   "execution_count": 26,
   "id": "e742d75d",
   "metadata": {},
   "outputs": [
    {
     "data": {
      "text/plain": [
       "'united states'"
      ]
     },
     "execution_count": 26,
     "metadata": {},
     "output_type": "execute_result"
    }
   ],
   "source": [
    "country_name = '    united states'\n",
    "country_name.lstrip()"
   ]
  },
  {
   "cell_type": "code",
   "execution_count": 27,
   "id": "24a603c7",
   "metadata": {},
   "outputs": [
    {
     "data": {
      "text/plain": [
       "'united states    '"
      ]
     },
     "execution_count": 27,
     "metadata": {},
     "output_type": "execute_result"
    }
   ],
   "source": [
    "country_name = '    united states    '\n",
    "country_name.lstrip()"
   ]
  },
  {
   "cell_type": "code",
   "execution_count": 28,
   "id": "6363c9d5",
   "metadata": {},
   "outputs": [
    {
     "data": {
      "text/plain": [
       "',  united states    '"
      ]
     },
     "execution_count": 28,
     "metadata": {},
     "output_type": "execute_result"
    }
   ],
   "source": [
    "country_name = '  ,  united states    '\n",
    "country_name.lstrip()"
   ]
  },
  {
   "cell_type": "code",
   "execution_count": 30,
   "id": "7d189c02",
   "metadata": {},
   "outputs": [
    {
     "data": {
      "text/plain": [
       "'    United States    '"
      ]
     },
     "execution_count": 30,
     "metadata": {},
     "output_type": "execute_result"
    }
   ],
   "source": [
    "country_name = '    united states    '\n",
    "country_name.capitalize()\n",
    "country_name.title()"
   ]
  },
  {
   "cell_type": "code",
   "execution_count": 31,
   "id": "1598f887",
   "metadata": {},
   "outputs": [
    {
     "data": {
      "text/plain": [
       "'UNITED STATES    '"
      ]
     },
     "execution_count": 31,
     "metadata": {},
     "output_type": "execute_result"
    }
   ],
   "source": [
    "country_name = '    united states    '\n",
    "country_name = country_name.lstrip()\n",
    "country_name.upper()"
   ]
  },
  {
   "cell_type": "markdown",
   "id": "98112d68",
   "metadata": {},
   "source": [
    "### 6. rstrip()"
   ]
  },
  {
   "cell_type": "code",
   "execution_count": null,
   "id": "2c13d447",
   "metadata": {},
   "outputs": [],
   "source": [
    "it remove trailing white spaces"
   ]
  },
  {
   "cell_type": "code",
   "execution_count": 32,
   "id": "82c0f1cb",
   "metadata": {},
   "outputs": [
    {
     "data": {
      "text/plain": [
       "'    united states'"
      ]
     },
     "execution_count": 32,
     "metadata": {},
     "output_type": "execute_result"
    }
   ],
   "source": [
    "country_name = '    united states    '\n",
    "country_name.rstrip()"
   ]
  },
  {
   "cell_type": "code",
   "execution_count": 34,
   "id": "bd85bfef",
   "metadata": {},
   "outputs": [
    {
     "data": {
      "text/plain": [
       "'UNITED STATES'"
      ]
     },
     "execution_count": 34,
     "metadata": {},
     "output_type": "execute_result"
    }
   ],
   "source": [
    "country_name = '    united states    '\n",
    "country_name = country_name.lstrip()\n",
    "country_name=country_name.rstrip()\n",
    "country_name.upper()"
   ]
  },
  {
   "cell_type": "markdown",
   "id": "1c9d142c",
   "metadata": {},
   "source": [
    "### 7. strip()"
   ]
  },
  {
   "cell_type": "code",
   "execution_count": 35,
   "id": "336840c0",
   "metadata": {},
   "outputs": [
    {
     "data": {
      "text/plain": [
       "'united states'"
      ]
     },
     "execution_count": 35,
     "metadata": {},
     "output_type": "execute_result"
    }
   ],
   "source": [
    "country_name = '    united states    '\n",
    "country_name.strip()"
   ]
  },
  {
   "cell_type": "code",
   "execution_count": 36,
   "id": "52b26a46",
   "metadata": {},
   "outputs": [
    {
     "name": "stdout",
     "output_type": "stream",
     "text": [
      "Both cards are of same person\n"
     ]
    }
   ],
   "source": [
    "adhar_card ='  Ms Dhoni   '\n",
    "pan_card   ='  MS DHONI   '\n",
    "\n",
    "if adhar_card.strip().upper() == pan_card.strip().upper():\n",
    "    print('Both cards are of same person')\n",
    "    \n",
    "else:\n",
    "    print('Both cards are of different persons')"
   ]
  },
  {
   "cell_type": "code",
   "execution_count": 37,
   "id": "634cffa7",
   "metadata": {},
   "outputs": [
    {
     "name": "stdout",
     "output_type": "stream",
     "text": [
      "Both cards are of different persons\n"
     ]
    }
   ],
   "source": [
    "adhar_card ='  Virat Kohli   '\n",
    "pan_card   ='  MS DHONI   '\n",
    "\n",
    "if adhar_card.strip().upper() == pan_card.strip().upper():\n",
    "    print('Both cards are of same person')\n",
    "    \n",
    "else:\n",
    "    print('Both cards are of different persons')"
   ]
  },
  {
   "cell_type": "code",
   "execution_count": 41,
   "id": "eb7fe7d4",
   "metadata": {},
   "outputs": [
    {
     "name": "stdout",
     "output_type": "stream",
     "text": [
      "Both cards are of different persons\n"
     ]
    }
   ],
   "source": [
    "adhar_card ='  Virat Kohli   '\n",
    "pan_card   ='  VIrat Kohlii   '\n",
    "\n",
    "if adhar_card.strip().lower() == pan_card.strip().lower():\n",
    "    print('Both cards are of same person')\n",
    "    \n",
    "else:\n",
    "    print('Both cards are of different persons')"
   ]
  },
  {
   "cell_type": "code",
   "execution_count": 42,
   "id": "d4edadf1",
   "metadata": {},
   "outputs": [
    {
     "name": "stdout",
     "output_type": "stream",
     "text": [
      "Both cards are of same person\n"
     ]
    }
   ],
   "source": [
    "adhar_card ='  Virat Kohli   '\n",
    "pan_card   ='  VIrat Kohli   '\n",
    "\n",
    "if adhar_card.strip().lower() == pan_card.strip().lower():\n",
    "    print('Both cards are of same person')\n",
    "    \n",
    "else:\n",
    "    print('Both cards are of different persons')"
   ]
  },
  {
   "cell_type": "code",
   "execution_count": 43,
   "id": "2d5ad227",
   "metadata": {},
   "outputs": [
    {
     "name": "stdout",
     "output_type": "stream",
     "text": [
      "Both cards are of different persons\n"
     ]
    }
   ],
   "source": [
    "adhar_card ='  Virat Kohli   '\n",
    "pan_card   ='  Kohli VIrat   '\n",
    "\n",
    "if adhar_card.strip().lower() == pan_card.strip().lower():\n",
    "    print('Both cards are of same person')\n",
    "    \n",
    "else:\n",
    "    print('Both cards are of different persons')"
   ]
  },
  {
   "cell_type": "code",
   "execution_count": 44,
   "id": "88da9e86",
   "metadata": {},
   "outputs": [
    {
     "name": "stdout",
     "output_type": "stream",
     "text": [
      "Both cards are of different persons\n"
     ]
    }
   ],
   "source": [
    "adhar_card ='  Virat Kohli   '\n",
    "pan_card   ='  virat kohli   '\n",
    "\n",
    "if adhar_card == pan_card:\n",
    "    print('Both cards are of same person')\n",
    "    \n",
    "else:\n",
    "    print('Both cards are of different persons')"
   ]
  },
  {
   "cell_type": "code",
   "execution_count": 45,
   "id": "124219ff",
   "metadata": {},
   "outputs": [
    {
     "data": {
      "text/plain": [
       "'abd'"
      ]
     },
     "execution_count": 45,
     "metadata": {},
     "output_type": "execute_result"
    }
   ],
   "source": [
    "a='   abd'\n",
    "a.strip()"
   ]
  },
  {
   "cell_type": "code",
   "execution_count": 46,
   "id": "e09fd1bf",
   "metadata": {},
   "outputs": [
    {
     "data": {
      "text/plain": [
       "'ab         d'"
      ]
     },
     "execution_count": 46,
     "metadata": {},
     "output_type": "execute_result"
    }
   ],
   "source": [
    "a='   ab         d'\n",
    "a.strip()"
   ]
  },
  {
   "cell_type": "code",
   "execution_count": 53,
   "id": "148101e8",
   "metadata": {},
   "outputs": [
    {
     "data": {
      "text/plain": [
       "'ab     /    d'"
      ]
     },
     "execution_count": 53,
     "metadata": {},
     "output_type": "execute_result"
    }
   ],
   "source": [
    "a='   ab     /    d'\n",
    "a.strip()"
   ]
  },
  {
   "cell_type": "code",
   "execution_count": 56,
   "id": "8f63b470",
   "metadata": {},
   "outputs": [
    {
     "data": {
      "text/plain": [
       "'machine lear'"
      ]
     },
     "execution_count": 56,
     "metadata": {},
     "output_type": "execute_result"
    }
   ],
   "source": [
    "design='machine learning'\n",
    "design.strip('ing')"
   ]
  },
  {
   "cell_type": "code",
   "execution_count": null,
   "id": "63247f39",
   "metadata": {},
   "outputs": [],
   "source": []
  }
 ],
 "metadata": {
  "kernelspec": {
   "display_name": "Python 3 (ipykernel)",
   "language": "python",
   "name": "python3"
  },
  "language_info": {
   "codemirror_mode": {
    "name": "ipython",
    "version": 3
   },
   "file_extension": ".py",
   "mimetype": "text/x-python",
   "name": "python",
   "nbconvert_exporter": "python",
   "pygments_lexer": "ipython3",
   "version": "3.9.7"
  }
 },
 "nbformat": 4,
 "nbformat_minor": 5
}
