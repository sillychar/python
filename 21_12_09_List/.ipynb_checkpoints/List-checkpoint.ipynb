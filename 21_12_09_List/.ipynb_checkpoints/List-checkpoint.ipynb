{
 "cells": [
  {
   "cell_type": "markdown",
   "id": "356fa07d",
   "metadata": {},
   "source": [
    "# List"
   ]
  },
  {
   "cell_type": "code",
   "execution_count": null,
   "id": "166468ae",
   "metadata": {},
   "outputs": [],
   "source": [
    "It is collection of items\n",
    "Used to store sequence of various data types(int, float, list, tuple, set, dict, dataframe)\n",
    "\n",
    "duplicates are allowed\n",
    "ordered data type\n",
    "Mutable data type(changable)\n",
    "It is enclosed by square brackets >> []\n",
    "Comma seperated values"
   ]
  },
  {
   "cell_type": "code",
   "execution_count": 1,
   "id": "e0d37fab",
   "metadata": {},
   "outputs": [
    {
     "name": "stdout",
     "output_type": "stream",
     "text": [
      "<class 'list'>\n"
     ]
    },
    {
     "data": {
      "text/plain": [
       "[1, 2, 4, 3, 2, 1]"
      ]
     },
     "execution_count": 1,
     "metadata": {},
     "output_type": "execute_result"
    }
   ],
   "source": [
    "a=[1,2,4,3,2,1]\n",
    "print(type(a))\n",
    "a"
   ]
  },
  {
   "cell_type": "code",
   "execution_count": 2,
   "id": "8f55e203",
   "metadata": {},
   "outputs": [
    {
     "data": {
      "text/plain": [
       "3"
      ]
     },
     "execution_count": 2,
     "metadata": {},
     "output_type": "execute_result"
    }
   ],
   "source": [
    "list1=[2,3,5,10.5,'a']\n",
    "list1[1] # index"
   ]
  },
  {
   "cell_type": "code",
   "execution_count": 3,
   "id": "1d4df5b4",
   "metadata": {},
   "outputs": [
    {
     "name": "stdout",
     "output_type": "stream",
     "text": [
      "[2, 3, 5, 10.5, 'a']\n",
      "[2, 1000, 5, 10.5, 'a']\n"
     ]
    }
   ],
   "source": [
    "list1=[2,3,5,10.5,'a']\n",
    "print(list1)\n",
    "list1[1]=1000\n",
    "print(list1)"
   ]
  },
  {
   "cell_type": "code",
   "execution_count": 4,
   "id": "bc0d290d",
   "metadata": {},
   "outputs": [
    {
     "name": "stdout",
     "output_type": "stream",
     "text": [
      "[2, 1000, 5, 10.5, 'a', 2000]\n"
     ]
    }
   ],
   "source": [
    "list1.append(2000) # add a perticular character\n",
    "print(list1)"
   ]
  },
  {
   "cell_type": "code",
   "execution_count": 5,
   "id": "21c0f1fb",
   "metadata": {},
   "outputs": [
    {
     "name": "stdout",
     "output_type": "stream",
     "text": [
      "[3, 4, 5, 6, 2, 3, 4, 5] >> 8\n"
     ]
    }
   ],
   "source": [
    "l1= [3,4,5,6,2,3,4,5]\n",
    "print(l1,'>>',len(l1))"
   ]
  },
  {
   "cell_type": "code",
   "execution_count": 6,
   "id": "f2d1009d",
   "metadata": {},
   "outputs": [
    {
     "name": "stdout",
     "output_type": "stream",
     "text": [
      "{2, 3, 4, 5, 6} >> 5\n"
     ]
    }
   ],
   "source": [
    "set1= {3,4,5,6,2,3,4,5}\n",
    "print(set1,'>>',len(set1))"
   ]
  },
  {
   "cell_type": "code",
   "execution_count": 7,
   "id": "1bc61b11",
   "metadata": {},
   "outputs": [
    {
     "data": {
      "text/plain": [
       "10"
      ]
     },
     "execution_count": 7,
     "metadata": {},
     "output_type": "execute_result"
    }
   ],
   "source": [
    "data= [2,3,45,56,[100,200,300],'Python',10.34,3+4j,{'a':100,'b':200},(2,3,4,5)]\n",
    "len(data)"
   ]
  },
  {
   "cell_type": "code",
   "execution_count": 10,
   "id": "fa198ec3",
   "metadata": {},
   "outputs": [
    {
     "data": {
      "text/plain": [
       "300"
      ]
     },
     "execution_count": 10,
     "metadata": {},
     "output_type": "execute_result"
    }
   ],
   "source": [
    "data[4][2]"
   ]
  },
  {
   "cell_type": "markdown",
   "id": "5d6c3f69",
   "metadata": {},
   "source": [
    "### Indexing"
   ]
  },
  {
   "cell_type": "code",
   "execution_count": null,
   "id": "2009a14c",
   "metadata": {},
   "outputs": [],
   "source": [
    "index will starts from 0 to len -1"
   ]
  },
  {
   "cell_type": "code",
   "execution_count": 11,
   "id": "a4783e12",
   "metadata": {},
   "outputs": [
    {
     "data": {
      "text/plain": [
       "[10, 20, 30, 25, 15, 'Python', 'Data Science']"
      ]
     },
     "execution_count": 11,
     "metadata": {},
     "output_type": "execute_result"
    }
   ],
   "source": [
    "list1= [10,20,30,25,15,\"Python\",'Data Science']\n",
    "list1"
   ]
  },
  {
   "cell_type": "code",
   "execution_count": 17,
   "id": "774ec438",
   "metadata": {},
   "outputs": [
    {
     "data": {
      "text/plain": [
       "25"
      ]
     },
     "execution_count": 17,
     "metadata": {},
     "output_type": "execute_result"
    }
   ],
   "source": [
    "list1[0]\n",
    "list1[-1]\n",
    "list1[3]"
   ]
  },
  {
   "cell_type": "code",
   "execution_count": 15,
   "id": "f09e1a0a",
   "metadata": {},
   "outputs": [
    {
     "data": {
      "text/plain": [
       "'Data Science'"
      ]
     },
     "execution_count": 15,
     "metadata": {},
     "output_type": "execute_result"
    }
   ],
   "source": [
    "list1[len(list1)-1]"
   ]
  },
  {
   "cell_type": "markdown",
   "id": "74b1db73",
   "metadata": {},
   "source": [
    "### Slicing"
   ]
  },
  {
   "cell_type": "code",
   "execution_count": 24,
   "id": "7e5cdaf9",
   "metadata": {},
   "outputs": [
    {
     "data": {
      "text/plain": [
       "[10, 20, 30, 25, 15]"
      ]
     },
     "execution_count": 24,
     "metadata": {},
     "output_type": "execute_result"
    }
   ],
   "source": [
    "list1= [10,20,30,25,15,\"Python\",'Data Science']\n",
    "list1[:5]"
   ]
  },
  {
   "cell_type": "code",
   "execution_count": 25,
   "id": "b47c3072",
   "metadata": {},
   "outputs": [
    {
     "data": {
      "text/plain": [
       "'Python'"
      ]
     },
     "execution_count": 25,
     "metadata": {},
     "output_type": "execute_result"
    }
   ],
   "source": [
    "string='Python'\n",
    "string[:8]"
   ]
  },
  {
   "cell_type": "code",
   "execution_count": 29,
   "id": "c660fff3",
   "metadata": {},
   "outputs": [
    {
     "data": {
      "text/plain": [
       "[10, 20, 30, 25, 15, 'Python', 'Data Science']"
      ]
     },
     "execution_count": 29,
     "metadata": {},
     "output_type": "execute_result"
    }
   ],
   "source": [
    "list1[-7:len(list1)]"
   ]
  },
  {
   "cell_type": "code",
   "execution_count": 30,
   "id": "fd8b320f",
   "metadata": {},
   "outputs": [
    {
     "data": {
      "text/plain": [
       "[30, 25, 15, 'Python', 'Data Science']"
      ]
     },
     "execution_count": 30,
     "metadata": {},
     "output_type": "execute_result"
    }
   ],
   "source": [
    "list1[-5:]"
   ]
  },
  {
   "cell_type": "code",
   "execution_count": 31,
   "id": "d35e2659",
   "metadata": {},
   "outputs": [
    {
     "data": {
      "text/plain": [
       "[10, 30, 15, 'Data Science']"
      ]
     },
     "execution_count": 31,
     "metadata": {},
     "output_type": "execute_result"
    }
   ],
   "source": [
    "list1[::2]"
   ]
  },
  {
   "cell_type": "markdown",
   "id": "6bba5b22",
   "metadata": {},
   "source": [
    "### Check items in list"
   ]
  },
  {
   "cell_type": "code",
   "execution_count": 32,
   "id": "48528def",
   "metadata": {},
   "outputs": [
    {
     "data": {
      "text/plain": [
       "True"
      ]
     },
     "execution_count": 32,
     "metadata": {},
     "output_type": "execute_result"
    }
   ],
   "source": [
    "city_names=['Pune',\"Nagpur\",'Mumbai','Nashik']\n",
    "'Mumbai' in city_names"
   ]
  },
  {
   "cell_type": "code",
   "execution_count": 33,
   "id": "8d87d817",
   "metadata": {},
   "outputs": [
    {
     "data": {
      "text/plain": [
       "'Mumbai'"
      ]
     },
     "execution_count": 33,
     "metadata": {},
     "output_type": "execute_result"
    }
   ],
   "source": [
    "city_names[2]"
   ]
  },
  {
   "cell_type": "code",
   "execution_count": 34,
   "id": "bb08bf71",
   "metadata": {},
   "outputs": [
    {
     "name": "stdout",
     "output_type": "stream",
     "text": [
      "Mumbai is in city names list\n"
     ]
    }
   ],
   "source": [
    "city_names=['Pune',\"Nagpur\",'Mumbai','Nashik']\n",
    "if 'Mumbai' in city_names:\n",
    "    print('Mumbai is in city names list')\n",
    "else:\n",
    "    print('Mumbai is not in city list')"
   ]
  },
  {
   "cell_type": "code",
   "execution_count": 35,
   "id": "b1b87c51",
   "metadata": {},
   "outputs": [
    {
     "name": "stdout",
     "output_type": "stream",
     "text": [
      "Mumbai is not in city list\n"
     ]
    }
   ],
   "source": [
    "city_names=['Pune',\"Nagpur\",'Mumbai','Nashik']\n",
    "if 'mumbai' in city_names:\n",
    "    print('Mumbai is in city names list')\n",
    "else:\n",
    "    print('Mumbai is not in city list')"
   ]
  },
  {
   "cell_type": "code",
   "execution_count": 37,
   "id": "0224ff57",
   "metadata": {},
   "outputs": [
    {
     "name": "stdout",
     "output_type": "stream",
     "text": [
      "Pune <class 'str'>\n",
      "Nagpur <class 'str'>\n",
      "Mumbai <class 'str'>\n",
      "Nashik <class 'str'>\n"
     ]
    }
   ],
   "source": [
    "city_names=['Pune',\"Nagpur\",'Mumbai','Nashik']\n",
    "for i in city_names:\n",
    "    print(i,type(i))"
   ]
  },
  {
   "cell_type": "markdown",
   "id": "fc64b834",
   "metadata": {},
   "source": [
    "### Access items of list using for loop"
   ]
  },
  {
   "cell_type": "code",
   "execution_count": 40,
   "id": "21dfb19d",
   "metadata": {},
   "outputs": [
    {
     "name": "stdout",
     "output_type": "stream",
     "text": [
      "Pune\n",
      "Nagpur\n",
      "Mumbai\n",
      "Nashik\n"
     ]
    }
   ],
   "source": [
    "city_names=['Pune',\"Nagpur\",'Mumbai','Nashik']\n",
    "\n",
    "for city in city_names:\n",
    "    print(city)\n",
    "    "
   ]
  },
  {
   "cell_type": "code",
   "execution_count": 41,
   "id": "603b8987",
   "metadata": {},
   "outputs": [
    {
     "name": "stdout",
     "output_type": "stream",
     "text": [
      "Pune\n",
      "Nagpur\n",
      "Mumbai\n",
      "HIIII\n",
      "Nashik\n"
     ]
    }
   ],
   "source": [
    "city_names=['Pune',\"Nagpur\",'Mumbai','Nashik']\n",
    "\n",
    "for city in city_names:\n",
    "    print(city)\n",
    "    if city=='Mumbai':\n",
    "        print('HIIII')"
   ]
  },
  {
   "cell_type": "code",
   "execution_count": 42,
   "id": "7c2e2870",
   "metadata": {},
   "outputs": [
    {
     "name": "stdout",
     "output_type": "stream",
     "text": [
      "Item in Index0 is Pune\n",
      "Item in Index0 is Nagpur\n",
      "Item in Index0 is Mumbai\n",
      "Item in Index0 is Nashik\n"
     ]
    }
   ],
   "source": [
    "city_names=['Pune',\"Nagpur\",'Mumbai','Nashik']\n",
    "\n",
    "count=0\n",
    "for city in city_names:\n",
    "    print(f'Item in Index {count} is {city}')"
   ]
  },
  {
   "cell_type": "code",
   "execution_count": 43,
   "id": "e3143e24",
   "metadata": {},
   "outputs": [
    {
     "name": "stdout",
     "output_type": "stream",
     "text": [
      "Item in Index 0 is Pune\n",
      "Item in Index 1 is Nagpur\n",
      "Item in Index 2 is Mumbai\n",
      "Item in Index 3 is Nashik\n"
     ]
    }
   ],
   "source": [
    "city_names=['Pune',\"Nagpur\",'Mumbai','Nashik']\n",
    "\n",
    "count=0\n",
    "for city in city_names:\n",
    "    print(f'Item in Index {count} is {city}')\n",
    "    count+=1"
   ]
  },
  {
   "cell_type": "code",
   "execution_count": 44,
   "id": "fbc9e30e",
   "metadata": {},
   "outputs": [
    {
     "name": "stdout",
     "output_type": "stream",
     "text": [
      "Item in Index 0 is Pune\n",
      "Item in Index 1 is Nagpur\n",
      "Item in Index 2 is Mumbai\n",
      "Item in Index 3 is Nashik\n"
     ]
    }
   ],
   "source": [
    "city_names=['Pune',\"Nagpur\",'Mumbai','Nashik','Sangli']\n",
    "\n",
    "for index, city in enumerate(city_names):\n",
    "    print(f'Item in Index {index} is {city}')"
   ]
  },
  {
   "cell_type": "code",
   "execution_count": 45,
   "id": "c2c09c1a",
   "metadata": {},
   "outputs": [
    {
     "data": {
      "text/plain": [
       "range(0, 5)"
      ]
     },
     "execution_count": 45,
     "metadata": {},
     "output_type": "execute_result"
    }
   ],
   "source": [
    "range(0,5) # 0,1,2,3,4"
   ]
  },
  {
   "cell_type": "code",
   "execution_count": 46,
   "id": "01ace59e",
   "metadata": {},
   "outputs": [
    {
     "data": {
      "text/plain": [
       "[0, 1, 2, 3, 4]"
      ]
     },
     "execution_count": 46,
     "metadata": {},
     "output_type": "execute_result"
    }
   ],
   "source": [
    "list(range(0,5))"
   ]
  },
  {
   "cell_type": "code",
   "execution_count": 48,
   "id": "26b02531",
   "metadata": {},
   "outputs": [
    {
     "data": {
      "text/plain": [
       "[1, 2, 3, 4]"
      ]
     },
     "execution_count": 48,
     "metadata": {},
     "output_type": "execute_result"
    }
   ],
   "source": [
    "list(range(1,5))"
   ]
  },
  {
   "cell_type": "code",
   "execution_count": 49,
   "id": "3011480a",
   "metadata": {},
   "outputs": [
    {
     "data": {
      "text/plain": [
       "[0, 1, 2, 3, 4]"
      ]
     },
     "execution_count": 49,
     "metadata": {},
     "output_type": "execute_result"
    }
   ],
   "source": [
    "list(range(5))"
   ]
  },
  {
   "cell_type": "code",
   "execution_count": 53,
   "id": "0f8d6e38",
   "metadata": {},
   "outputs": [
    {
     "data": {
      "text/plain": [
       "[5, 8, 11]"
      ]
     },
     "execution_count": 53,
     "metadata": {},
     "output_type": "execute_result"
    }
   ],
   "source": [
    "list(range(5,14,3))"
   ]
  },
  {
   "cell_type": "code",
   "execution_count": 56,
   "id": "7c9926c5",
   "metadata": {},
   "outputs": [
    {
     "data": {
      "text/plain": [
       "list"
      ]
     },
     "execution_count": 56,
     "metadata": {},
     "output_type": "execute_result"
    }
   ],
   "source": [
    "list1=[]\n",
    "type(list1)"
   ]
  },
  {
   "cell_type": "code",
   "execution_count": 58,
   "id": "c5dcfc32",
   "metadata": {},
   "outputs": [
    {
     "name": "stdout",
     "output_type": "stream",
     "text": [
      "Item in Index 0 is Pune\n",
      "Item in Index 1 is Nagpur\n",
      "Item in Index 2 is Mumbai\n",
      "Item in Index 3 is Nashik\n"
     ]
    }
   ],
   "source": [
    "city_names=['Pune',\"Nagpur\",'Mumbai','Nashik']\n",
    "\n",
    "\n",
    "for i in range(len(city_names)):\n",
    "    print(f'Item in Index {i} is {city_names[i]}')\n",
    "    "
   ]
  },
  {
   "cell_type": "code",
   "execution_count": 62,
   "id": "35debbc1",
   "metadata": {},
   "outputs": [
    {
     "name": "stdout",
     "output_type": "stream",
     "text": [
      "0\n",
      "1\n",
      "2\n",
      "3\n",
      "4\n"
     ]
    }
   ],
   "source": [
    "for i in range(5):\n",
    "    print(i)"
   ]
  },
  {
   "cell_type": "markdown",
   "id": "62ddc53b",
   "metadata": {},
   "source": [
    "### Add items in list"
   ]
  },
  {
   "cell_type": "markdown",
   "id": "cfe06b76",
   "metadata": {},
   "source": [
    "#### 1. append()"
   ]
  },
  {
   "cell_type": "code",
   "execution_count": 64,
   "id": "9598c170",
   "metadata": {},
   "outputs": [
    {
     "name": "stdout",
     "output_type": "stream",
     "text": [
      "['Pune', 'Nagpur', 'Mumbai', 'Nashik']\n",
      "['Pune', 'Nagpur', 'Mumbai', 'Nashik', 1000]\n"
     ]
    }
   ],
   "source": [
    "city_list=['Pune',\"Nagpur\",'Mumbai','Nashik']\n",
    "print(city_list)\n",
    "city_list.append(1000)\n",
    "print(city_list)"
   ]
  },
  {
   "cell_type": "code",
   "execution_count": 65,
   "id": "3b620231",
   "metadata": {},
   "outputs": [
    {
     "name": "stdout",
     "output_type": "stream",
     "text": [
      "['Pune', 'Nagpur', 'Mumbai', 'Nashik'] 4\n",
      "['Pune', 'Nagpur', 'Mumbai', 'Nashik', 'Aurangabad'] 5\n"
     ]
    }
   ],
   "source": [
    "city_list=['Pune',\"Nagpur\",'Mumbai','Nashik']\n",
    "print(city_list,len(city_list)) # 4\n",
    "city_list.append('Aurangabad')\n",
    "print(city_list, len(city_list)) # 5"
   ]
  },
  {
   "cell_type": "code",
   "execution_count": 67,
   "id": "7b2cc0b0",
   "metadata": {},
   "outputs": [
    {
     "name": "stdout",
     "output_type": "stream",
     "text": [
      "['Pune', 'Nagpur', 'Mumbai', 'Nashik'] 4\n",
      "['Pune', 'Nagpur', 'Mumbai', 'Nashik', 'Aurangabad'] 5\n",
      "['Pune', 'Nagpur', 'Mumbai', 'Nashik', 'Aurangabad', ['Kolhapur', 'Dhule']] 6\n"
     ]
    }
   ],
   "source": [
    "city_list=['Pune',\"Nagpur\",'Mumbai','Nashik']\n",
    "print(city_list,len(city_list)) # 4\n",
    "city_list.append('Aurangabad')\n",
    "print(city_list, len(city_list)) # 5\n",
    "city_list.append(['Kolhapur','Dhule'])\n",
    "print(city_list, len(city_list)) #6"
   ]
  },
  {
   "cell_type": "markdown",
   "id": "4f4d8500",
   "metadata": {},
   "source": [
    "#### 2, extend()"
   ]
  },
  {
   "cell_type": "code",
   "execution_count": 69,
   "id": "ad625d50",
   "metadata": {},
   "outputs": [
    {
     "name": "stdout",
     "output_type": "stream",
     "text": [
      "['Pune', 'Nagpur', 'Mumbai', 'Nashik', ['Kolhapur', 'Dhule']]\n"
     ]
    }
   ],
   "source": [
    "city_list=['Pune',\"Nagpur\",'Mumbai','Nashik']\n",
    "new_city_list=['Kolhapur','Dhule']\n",
    "city_list.append(new_city_list)\n",
    "print(city_list)"
   ]
  },
  {
   "cell_type": "code",
   "execution_count": 70,
   "id": "a1501112",
   "metadata": {},
   "outputs": [
    {
     "name": "stdout",
     "output_type": "stream",
     "text": [
      "['Pune', 'Nagpur', 'Mumbai', 'Nashik', 'Kolhapur', 'Dhule']\n"
     ]
    }
   ],
   "source": [
    "city_list=['Pune',\"Nagpur\",'Mumbai','Nashik']\n",
    "new_city_list=['Kolhapur','Dhule']\n",
    "city_list.extend(new_city_list)\n",
    "print(city_list)"
   ]
  },
  {
   "cell_type": "code",
   "execution_count": 71,
   "id": "75720425",
   "metadata": {},
   "outputs": [
    {
     "name": "stdout",
     "output_type": "stream",
     "text": [
      "[1, 2, 3, 4, 5, 4, 5, 6, 7, 8]\n"
     ]
    }
   ],
   "source": [
    "l1=[1,2,3,4,5]\n",
    "l2=[4,5,6,7,8]\n",
    "l1.extend(l2)\n",
    "print(l1)"
   ]
  },
  {
   "cell_type": "code",
   "execution_count": 72,
   "id": "74f6cdfb",
   "metadata": {},
   "outputs": [
    {
     "name": "stdout",
     "output_type": "stream",
     "text": [
      "[1, 2, 3, 4, 5]\n",
      "[4, 5, 6, 7, 8, 1, 2, 3, 4, 5]\n"
     ]
    }
   ],
   "source": [
    "l1=[1,2,3,4,5]\n",
    "l2=[4,5,6,7,8]\n",
    "l2.extend(l1)\n",
    "print(l1)\n",
    "print(l2)"
   ]
  },
  {
   "cell_type": "code",
   "execution_count": 73,
   "id": "1246582d",
   "metadata": {},
   "outputs": [
    {
     "data": {
      "text/plain": [
       "{1, 2, 3, 4, 5, 6, 7, 8}"
      ]
     },
     "execution_count": 73,
     "metadata": {},
     "output_type": "execute_result"
    }
   ],
   "source": [
    "set(l2)"
   ]
  },
  {
   "cell_type": "code",
   "execution_count": 74,
   "id": "3475e423",
   "metadata": {},
   "outputs": [
    {
     "name": "stdout",
     "output_type": "stream",
     "text": [
      "[1, 2, 3, 4, 5]\n",
      "[4, 5, 6, 7, 8]\n",
      "[1, 2, 3, 4, 5, 4, 5, 6, 7, 8]\n"
     ]
    }
   ],
   "source": [
    "l1=[1,2,3,4,5]\n",
    "l2=[4,5,6,7,8]\n",
    "l3=l1+l2\n",
    "print(l1)\n",
    "print(l2)\n",
    "print(l3)"
   ]
  },
  {
   "cell_type": "markdown",
   "id": "d422042c",
   "metadata": {},
   "source": [
    "#### 3. insert()"
   ]
  },
  {
   "cell_type": "code",
   "execution_count": null,
   "id": "114630da",
   "metadata": {},
   "outputs": [],
   "source": [
    "insert(index, value)"
   ]
  },
  {
   "cell_type": "code",
   "execution_count": 75,
   "id": "5dc32662",
   "metadata": {},
   "outputs": [
    {
     "data": {
      "text/plain": [
       "[3, 4, 5, 6, 100]"
      ]
     },
     "execution_count": 75,
     "metadata": {},
     "output_type": "execute_result"
    }
   ],
   "source": [
    "l1 =[3,4,5,6]\n",
    "l1.append(100)\n",
    "l1"
   ]
  },
  {
   "cell_type": "code",
   "execution_count": 76,
   "id": "15e25a0d",
   "metadata": {},
   "outputs": [
    {
     "data": {
      "text/plain": [
       "[3, 4, 100, 5, 6]"
      ]
     },
     "execution_count": 76,
     "metadata": {},
     "output_type": "execute_result"
    }
   ],
   "source": [
    "l1=[3,4,5,6]\n",
    "l1.insert(2, 100)\n",
    "l1"
   ]
  },
  {
   "cell_type": "code",
   "execution_count": 77,
   "id": "697780a4",
   "metadata": {},
   "outputs": [
    {
     "data": {
      "text/plain": [
       "[3, 4, 5, 100, 6]"
      ]
     },
     "execution_count": 77,
     "metadata": {},
     "output_type": "execute_result"
    }
   ],
   "source": [
    "l1=[3,4,5,6]\n",
    "l1.insert(-1, 100)\n",
    "l1"
   ]
  },
  {
   "cell_type": "code",
   "execution_count": 78,
   "id": "06724ea9",
   "metadata": {},
   "outputs": [
    {
     "data": {
      "text/plain": [
       "[3, 4, 100, 5, 6]"
      ]
     },
     "execution_count": 78,
     "metadata": {},
     "output_type": "execute_result"
    }
   ],
   "source": [
    "l1=[3,4,5,6]\n",
    "l1.insert(-2, 100)\n",
    "l1"
   ]
  },
  {
   "cell_type": "markdown",
   "id": "26b331d9",
   "metadata": {},
   "source": [
    "### Delete Items"
   ]
  },
  {
   "cell_type": "code",
   "execution_count": null,
   "id": "f98cf73a",
   "metadata": {},
   "outputs": [],
   "source": [
    "1. remove\n",
    "2. pop\n",
    "3. clear\n",
    "4. del"
   ]
  },
  {
   "cell_type": "markdown",
   "id": "dfd8954d",
   "metadata": {},
   "source": [
    "#### 1. remove()"
   ]
  },
  {
   "cell_type": "code",
   "execution_count": null,
   "id": "3fc9c8c3",
   "metadata": {},
   "outputs": [],
   "source": [
    "list1.remove(item)\n",
    "It removes only first occurence of element in list"
   ]
  },
  {
   "cell_type": "code",
   "execution_count": 80,
   "id": "aa1e82de",
   "metadata": {},
   "outputs": [
    {
     "data": {
      "text/plain": [
       "[1, 2, 3, 4, 6, 67, 5, 8, 9]"
      ]
     },
     "execution_count": 80,
     "metadata": {},
     "output_type": "execute_result"
    }
   ],
   "source": [
    "l1=[1,2,3,4,5,6,67,5,8,9]\n",
    "l1.remove(5)\n",
    "l1"
   ]
  },
  {
   "cell_type": "code",
   "execution_count": 81,
   "id": "88a1d651",
   "metadata": {},
   "outputs": [
    {
     "data": {
      "text/plain": [
       "[2, 3, 4, 5, 6, 67, 5, 8, 9]"
      ]
     },
     "execution_count": 81,
     "metadata": {},
     "output_type": "execute_result"
    }
   ],
   "source": [
    "l1=[1,2,3,4,5,6,67,5,8,9]\n",
    "l1.remove(1)\n",
    "l1"
   ]
  },
  {
   "cell_type": "code",
   "execution_count": 82,
   "id": "8170f64c",
   "metadata": {},
   "outputs": [
    {
     "data": {
      "text/plain": [
       "['Pune', 'Nagpur', 'Mumbai', 'Nashik', 'Kolhapur']"
      ]
     },
     "execution_count": 82,
     "metadata": {},
     "output_type": "execute_result"
    }
   ],
   "source": [
    "cities=['Pune', 'Nagpur', 'Mumbai', 'Nashik', 'Kolhapur', 'Dhule']\n",
    "cities.remove('Dhule')\n",
    "cities"
   ]
  },
  {
   "cell_type": "code",
   "execution_count": 83,
   "id": "331757ca",
   "metadata": {},
   "outputs": [
    {
     "data": {
      "text/plain": [
       "['Pune', 'Nagpur', 'Mumbai', 'Nashik', 'Kolhapur', 'Dhule']"
      ]
     },
     "execution_count": 83,
     "metadata": {},
     "output_type": "execute_result"
    }
   ],
   "source": [
    "cities=['Pune', 'Nagpur', 'Mumbai','Mumbai', 'Nashik', 'Kolhapur', 'Dhule']\n",
    "cities.remove('Mumbai')\n",
    "cities"
   ]
  },
  {
   "cell_type": "code",
   "execution_count": 89,
   "id": "e45e702b",
   "metadata": {},
   "outputs": [
    {
     "name": "stdout",
     "output_type": "stream",
     "text": [
      "['Pune', 'Nagpur', 'Mumbai', 'Mumbai', 'Nashik', 'Kolhapur', 'Dhule']\n",
      "['Nashik', 'Kolhapur', 'Nagpur', 'Mumbai', 'Pune', 'Dhule']\n"
     ]
    },
    {
     "data": {
      "text/plain": [
       "['Nashik', 'Kolhapur', 'Nagpur', 'Pune', 'Dhule']"
      ]
     },
     "execution_count": 89,
     "metadata": {},
     "output_type": "execute_result"
    }
   ],
   "source": [
    "cities=['Pune', 'Nagpur', 'Mumbai','Mumbai', 'Nashik', 'Kolhapur', 'Dhule']\n",
    "print(cities)\n",
    "l1=list(set(cities))\n",
    "print(l1)\n",
    "l1.remove('Mumbai')\n",
    "l1"
   ]
  },
  {
   "cell_type": "code",
   "execution_count": 90,
   "id": "2ed06d32",
   "metadata": {},
   "outputs": [
    {
     "name": "stdout",
     "output_type": "stream",
     "text": [
      "[1, 2, 3, 4, 5, 6, 7, 2, 4, 2, 3, 4] 12\n"
     ]
    }
   ],
   "source": [
    "l1=[1,2,3,4,5,6,7,2,4,2,3,4]\n",
    "if 8 in l1: # False\n",
    "    l1.remove(8)\n",
    "print(l1, len(l1))"
   ]
  },
  {
   "cell_type": "code",
   "execution_count": 91,
   "id": "47f0e637",
   "metadata": {},
   "outputs": [
    {
     "name": "stdout",
     "output_type": "stream",
     "text": [
      "[1, 2, 4, 5, 6, 7, 2, 4, 2, 3, 4] 11\n"
     ]
    }
   ],
   "source": [
    "l1=[1,2,3,4,5,6,7,2,4,2,3,4]\n",
    "if 3 in l1: # True\n",
    "    l1.remove(3)\n",
    "print(l1, len(l1))"
   ]
  },
  {
   "cell_type": "code",
   "execution_count": 92,
   "id": "8b6a429b",
   "metadata": {},
   "outputs": [
    {
     "name": "stdout",
     "output_type": "stream",
     "text": [
      "['Nagpur', 'Mumbai', 'Mumbai', 'Nashik', 'Kolhapur', 'Dhule'] 6\n"
     ]
    }
   ],
   "source": [
    "cities=['Pune', 'Nagpur', 'Mumbai','Mumbai', 'Nashik', 'Kolhapur', 'Dhule']\n",
    "if 'Pune' in cities:\n",
    "    cities.remove('Pune')\n",
    "print(cities, len(cities))"
   ]
  },
  {
   "cell_type": "code",
   "execution_count": null,
   "id": "5b11cff9",
   "metadata": {},
   "outputs": [],
   "source": []
  }
 ],
 "metadata": {
  "kernelspec": {
   "display_name": "Python 3",
   "language": "python",
   "name": "python3"
  },
  "language_info": {
   "codemirror_mode": {
    "name": "ipython",
    "version": 3
   },
   "file_extension": ".py",
   "mimetype": "text/x-python",
   "name": "python",
   "nbconvert_exporter": "python",
   "pygments_lexer": "ipython3",
   "version": "3.8.8"
  }
 },
 "nbformat": 4,
 "nbformat_minor": 5
}
