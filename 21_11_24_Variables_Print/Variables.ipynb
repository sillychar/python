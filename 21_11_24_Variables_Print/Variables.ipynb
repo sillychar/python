{
 "cells": [
  {
   "cell_type": "markdown",
   "id": "8e556f00",
   "metadata": {},
   "source": [
    "# Features of Python"
   ]
  },
  {
   "cell_type": "markdown",
   "id": "3a43ae33",
   "metadata": {},
   "source": [
    "1. Programmer friendly Language( Easy to write, learn, read)\n",
    "2. Simple to debug\n",
    "3. Free and open source\n",
    "4. Vast Library support()\n",
    "5. Dynamically typed Language ( do not need to specify data type)\n",
    "6. Object Oriented Language,  High level Prgramming\n",
    "7. Python is Interpreted Language ( do not require prior compilation) "
   ]
  },
  {
   "cell_type": "code",
   "execution_count": 1,
   "id": "7f0c68f0",
   "metadata": {},
   "outputs": [
    {
     "data": {
      "text/plain": [
       "int"
      ]
     },
     "execution_count": 1,
     "metadata": {},
     "output_type": "execute_result"
    }
   ],
   "source": [
    "a=1    \n",
    "type(a)"
   ]
  },
  {
   "cell_type": "code",
   "execution_count": null,
   "id": "219e90a8",
   "metadata": {},
   "outputs": [],
   "source": [
    "thg\n",
    "nchjg'jgfuyg\n",
    "jgfhyg'\n",
    "hfyf"
   ]
  },
  {
   "cell_type": "code",
   "execution_count": 2,
   "id": "3b228282",
   "metadata": {},
   "outputs": [
    {
     "ename": "NameError",
     "evalue": "name 'hab' is not defined",
     "output_type": "error",
     "traceback": [
      "\u001b[1;31m---------------------------------------------------------------------------\u001b[0m",
      "\u001b[1;31mNameError\u001b[0m                                 Traceback (most recent call last)",
      "\u001b[1;32m<ipython-input-2-b745fa52e471>\u001b[0m in \u001b[0;36m<module>\u001b[1;34m\u001b[0m\n\u001b[0;32m      1\u001b[0m \u001b[0ma\u001b[0m\u001b[1;33m=\u001b[0m\u001b[1;36m10\u001b[0m\u001b[1;33m\u001b[0m\u001b[1;33m\u001b[0m\u001b[0m\n\u001b[0;32m      2\u001b[0m \u001b[0mb\u001b[0m\u001b[1;33m=\u001b[0m\u001b[1;36m2\u001b[0m\u001b[1;33m\u001b[0m\u001b[1;33m\u001b[0m\u001b[0m\n\u001b[1;32m----> 3\u001b[1;33m \u001b[0mc\u001b[0m\u001b[1;33m=\u001b[0m\u001b[0mhab\u001b[0m\u001b[1;33m\u001b[0m\u001b[1;33m\u001b[0m\u001b[0m\n\u001b[0m\u001b[0;32m      4\u001b[0m \u001b[0md\u001b[0m\u001b[1;33m=\u001b[0m\u001b[1;36m30\u001b[0m\u001b[1;33m\u001b[0m\u001b[1;33m\u001b[0m\u001b[0m\n",
      "\u001b[1;31mNameError\u001b[0m: name 'hab' is not defined"
     ]
    }
   ],
   "source": [
    "a=10\n",
    "b=2\n",
    "c=hab\n",
    "d=30"
   ]
  },
  {
   "cell_type": "code",
   "execution_count": 7,
   "id": "043613da",
   "metadata": {},
   "outputs": [],
   "source": [
    "a1=10"
   ]
  },
  {
   "cell_type": "code",
   "execution_count": 4,
   "id": "cb58200f",
   "metadata": {},
   "outputs": [
    {
     "data": {
      "text/plain": [
       "30"
      ]
     },
     "execution_count": 4,
     "metadata": {},
     "output_type": "execute_result"
    }
   ],
   "source": [
    "def addition(a,b):\n",
    "    return a+b\n",
    "addition(10,20)"
   ]
  },
  {
   "cell_type": "code",
   "execution_count": 6,
   "id": "d573a5eb",
   "metadata": {},
   "outputs": [
    {
     "data": {
      "text/plain": [
       "28.4"
      ]
     },
     "execution_count": 6,
     "metadata": {},
     "output_type": "execute_result"
    }
   ],
   "source": [
    "addition(20,8.4)"
   ]
  },
  {
   "cell_type": "code",
   "execution_count": 8,
   "id": "92ed4a94",
   "metadata": {},
   "outputs": [
    {
     "data": {
      "text/plain": [
       "1"
      ]
     },
     "execution_count": 8,
     "metadata": {},
     "output_type": "execute_result"
    }
   ],
   "source": [
    "a1=1\n",
    "a1"
   ]
  },
  {
   "cell_type": "code",
   "execution_count": 9,
   "id": "bed85f9f",
   "metadata": {},
   "outputs": [
    {
     "ename": "SyntaxError",
     "evalue": "invalid syntax (<ipython-input-9-fbf1bec92ff8>, line 1)",
     "output_type": "error",
     "traceback": [
      "\u001b[1;36m  File \u001b[1;32m\"<ipython-input-9-fbf1bec92ff8>\"\u001b[1;36m, line \u001b[1;32m1\u001b[0m\n\u001b[1;33m    1a=1\u001b[0m\n\u001b[1;37m     ^\u001b[0m\n\u001b[1;31mSyntaxError\u001b[0m\u001b[1;31m:\u001b[0m invalid syntax\n"
     ]
    }
   ],
   "source": [
    "1a=1"
   ]
  },
  {
   "cell_type": "code",
   "execution_count": 12,
   "id": "b50f9585",
   "metadata": {},
   "outputs": [
    {
     "ename": "SyntaxError",
     "evalue": "cannot assign to operator (<ipython-input-12-5e4eaed9f655>, line 1)",
     "output_type": "error",
     "traceback": [
      "\u001b[1;36m  File \u001b[1;32m\"<ipython-input-12-5e4eaed9f655>\"\u001b[1;36m, line \u001b[1;32m1\u001b[0m\n\u001b[1;33m    a-b=1\u001b[0m\n\u001b[1;37m    ^\u001b[0m\n\u001b[1;31mSyntaxError\u001b[0m\u001b[1;31m:\u001b[0m cannot assign to operator\n"
     ]
    }
   ],
   "source": [
    "a-b=1"
   ]
  },
  {
   "cell_type": "code",
   "execution_count": 17,
   "id": "a6f58bd2",
   "metadata": {},
   "outputs": [],
   "source": [
    "del b"
   ]
  },
  {
   "cell_type": "markdown",
   "id": "25af5aad",
   "metadata": {},
   "source": [
    "# Type of Variable"
   ]
  },
  {
   "cell_type": "markdown",
   "id": "b4010ee9",
   "metadata": {},
   "source": [
    "1. Global variable # Declare outside function\n",
    "2. Local Variable # Declare inside Function"
   ]
  },
  {
   "cell_type": "code",
   "execution_count": 18,
   "id": "c9392122",
   "metadata": {},
   "outputs": [
    {
     "name": "stdout",
     "output_type": "stream",
     "text": [
      "val of b+a is 300\n",
      "200\n"
     ]
    },
    {
     "ename": "NameError",
     "evalue": "name 'b' is not defined",
     "output_type": "error",
     "traceback": [
      "\u001b[1;31m---------------------------------------------------------------------------\u001b[0m",
      "\u001b[1;31mNameError\u001b[0m                                 Traceback (most recent call last)",
      "\u001b[1;32m<ipython-input-18-74fe7acd3961>\u001b[0m in \u001b[0;36m<module>\u001b[1;34m\u001b[0m\n\u001b[0;32m      8\u001b[0m \u001b[1;33m\u001b[0m\u001b[0m\n\u001b[0;32m      9\u001b[0m \u001b[0mprint\u001b[0m\u001b[1;33m(\u001b[0m\u001b[0ma\u001b[0m\u001b[1;33m)\u001b[0m\u001b[1;33m\u001b[0m\u001b[1;33m\u001b[0m\u001b[0m\n\u001b[1;32m---> 10\u001b[1;33m \u001b[0mprint\u001b[0m\u001b[1;33m(\u001b[0m\u001b[0mb\u001b[0m\u001b[1;33m)\u001b[0m\u001b[1;33m\u001b[0m\u001b[1;33m\u001b[0m\u001b[0m\n\u001b[0m",
      "\u001b[1;31mNameError\u001b[0m: name 'b' is not defined"
     ]
    }
   ],
   "source": [
    "a=200 #global var\n",
    "\n",
    "def my_fun(): # user defined function\n",
    "    b=100  # local var\n",
    "    print('val of b+a is', b+a)\n",
    "    \n",
    "my_fun() # calling function\n",
    "\n",
    "print(a)\n",
    "print(b)"
   ]
  },
  {
   "cell_type": "code",
   "execution_count": null,
   "id": "74c70f4b",
   "metadata": {},
   "outputs": [],
   "source": [
    "a=10\n",
    "a=5\n",
    "a"
   ]
  },
  {
   "cell_type": "markdown",
   "id": "93f58a71",
   "metadata": {},
   "source": [
    "## Assigning single value to multiple variables"
   ]
  },
  {
   "cell_type": "code",
   "execution_count": 19,
   "id": "51957714",
   "metadata": {},
   "outputs": [
    {
     "name": "stdout",
     "output_type": "stream",
     "text": [
      "10 20 30\n"
     ]
    }
   ],
   "source": [
    "x=10\n",
    "y=20\n",
    "z=30\n",
    "print(x,y,z)"
   ]
  },
  {
   "cell_type": "code",
   "execution_count": 42,
   "id": "baef7c5a",
   "metadata": {},
   "outputs": [
    {
     "name": "stdout",
     "output_type": "stream",
     "text": [
      "10 \n",
      "\n",
      "\t 20\n",
      "30\n"
     ]
    }
   ],
   "source": [
    "x=10\n",
    "y=20\n",
    "z=30\n",
    "print(x,'\\n')\n",
    "# print('\\n')\n",
    "print('\\t',y)\n",
    "print(z)"
   ]
  },
  {
   "cell_type": "code",
   "execution_count": 30,
   "id": "7b01b0b7",
   "metadata": {},
   "outputs": [
    {
     "name": "stdout",
     "output_type": "stream",
     "text": [
      "x=10 ,y=20,z=30\n"
     ]
    }
   ],
   "source": [
    "x=10\n",
    "\n",
    "y=20\n",
    "\n",
    "z=30\n",
    "\n",
    "print(f'x={x} ,y={y},z={z}')"
   ]
  },
  {
   "cell_type": "code",
   "execution_count": 63,
   "id": "fdbfaf51",
   "metadata": {},
   "outputs": [
    {
     "name": "stdout",
     "output_type": "stream",
     "text": [
      "x=10 ,y=20,z=30\n"
     ]
    }
   ],
   "source": [
    "x=10\n",
    "y=20\n",
    "z=30\n",
    "print('x={} ,y={},z={}'.format(x,y,z))"
   ]
  },
  {
   "cell_type": "code",
   "execution_count": 69,
   "id": "4b4bf25a",
   "metadata": {},
   "outputs": [
    {
     "name": "stdout",
     "output_type": "stream",
     "text": [
      "x=30 ,y=10,z=20, x+y+z==60\n"
     ]
    }
   ],
   "source": [
    "x=10\n",
    "y=20\n",
    "z=30\n",
    "print('x={} ,y={},z={}, x+y+z=={}'.format(z,x,y,x+y+z))"
   ]
  },
  {
   "cell_type": "code",
   "execution_count": 71,
   "id": "3cea861f",
   "metadata": {},
   "outputs": [
    {
     "name": "stdout",
     "output_type": "stream",
     "text": [
      "x == 10\n"
     ]
    }
   ],
   "source": [
    "x=10\n",
    "y=20\n",
    "z=30\n",
    "print('x == %d' %x) # for int"
   ]
  },
  {
   "cell_type": "code",
   "execution_count": 74,
   "id": "85ba2b63",
   "metadata": {},
   "outputs": [
    {
     "name": "stdout",
     "output_type": "stream",
     "text": [
      "x == 10\n"
     ]
    }
   ],
   "source": [
    "x=10.67\n",
    "y=20\n",
    "z=30\n",
    "print('x == %d' %x) # for int"
   ]
  },
  {
   "cell_type": "code",
   "execution_count": 76,
   "id": "8c0d198b",
   "metadata": {},
   "outputs": [
    {
     "name": "stdout",
     "output_type": "stream",
     "text": [
      "x == 10.600000\n"
     ]
    }
   ],
   "source": [
    "x=10.6\n",
    "y=20\n",
    "z=30\n",
    "print('x == %f' %x) # for FLoat"
   ]
  },
  {
   "cell_type": "code",
   "execution_count": 73,
   "id": "0f25d7df",
   "metadata": {},
   "outputs": [
    {
     "name": "stdout",
     "output_type": "stream",
     "text": [
      "s== Python\n"
     ]
    }
   ],
   "source": [
    "s='Python'\n",
    "print('s== %s' %s) # for string"
   ]
  },
  {
   "cell_type": "code",
   "execution_count": null,
   "id": "501d044b",
   "metadata": {},
   "outputs": [],
   "source": []
  },
  {
   "cell_type": "code",
   "execution_count": null,
   "id": "d8839dcc",
   "metadata": {},
   "outputs": [],
   "source": []
  },
  {
   "cell_type": "code",
   "execution_count": 62,
   "id": "8e6a024a",
   "metadata": {},
   "outputs": [
    {
     "name": "stdout",
     "output_type": "stream",
     "text": [
      "x={x} ,y={y},z={z}\n"
     ]
    }
   ],
   "source": [
    "x=10\n",
    "y=20\n",
    "z=30\n",
    "print('x={x} ,y={y},z={z}')"
   ]
  },
  {
   "cell_type": "code",
   "execution_count": 38,
   "id": "62f4f863",
   "metadata": {},
   "outputs": [],
   "source": [
    "del _"
   ]
  },
  {
   "cell_type": "code",
   "execution_count": 39,
   "id": "5367e0cb",
   "metadata": {},
   "outputs": [
    {
     "ename": "NameError",
     "evalue": "name '_' is not defined",
     "output_type": "error",
     "traceback": [
      "\u001b[1;31m---------------------------------------------------------------------------\u001b[0m",
      "\u001b[1;31mNameError\u001b[0m                                 Traceback (most recent call last)",
      "\u001b[1;32m<ipython-input-39-cf67143d1bb2>\u001b[0m in \u001b[0;36m<module>\u001b[1;34m\u001b[0m\n\u001b[1;32m----> 1\u001b[1;33m \u001b[0mprint\u001b[0m\u001b[1;33m(\u001b[0m\u001b[0m_\u001b[0m\u001b[1;33m)\u001b[0m\u001b[1;33m\u001b[0m\u001b[1;33m\u001b[0m\u001b[0m\n\u001b[0m",
      "\u001b[1;31mNameError\u001b[0m: name '_' is not defined"
     ]
    }
   ],
   "source": [
    "print(_)"
   ]
  },
  {
   "cell_type": "code",
   "execution_count": 41,
   "id": "dfe28632",
   "metadata": {},
   "outputs": [
    {
     "name": "stdout",
     "output_type": "stream",
     "text": [
      "10\n"
     ]
    }
   ],
   "source": [
    "_Sa=10\n",
    "print(_Sa)"
   ]
  },
  {
   "cell_type": "code",
   "execution_count": 47,
   "id": "0ea1bc76",
   "metadata": {},
   "outputs": [
    {
     "name": "stdout",
     "output_type": "stream",
     "text": [
      "30             200\n"
     ]
    }
   ],
   "source": [
    "print(z,'           ',a)"
   ]
  },
  {
   "cell_type": "code",
   "execution_count": 48,
   "id": "95886b9e",
   "metadata": {},
   "outputs": [
    {
     "name": "stdout",
     "output_type": "stream",
     "text": [
      "30 \t 200\n"
     ]
    }
   ],
   "source": [
    "print(z,'\\t',a)"
   ]
  },
  {
   "cell_type": "code",
   "execution_count": 61,
   "id": "c1452ae2",
   "metadata": {},
   "outputs": [
    {
     "name": "stdout",
     "output_type": "stream",
     "text": [
      "10\n"
     ]
    }
   ],
   "source": [
    "x=y=z=10\n",
    "print(z)"
   ]
  },
  {
   "cell_type": "markdown",
   "id": "ddb3bd5d",
   "metadata": {},
   "source": [
    "# Multiple Values to multiple variable"
   ]
  },
  {
   "cell_type": "code",
   "execution_count": 1,
   "id": "d6eda40b",
   "metadata": {},
   "outputs": [
    {
     "name": "stdout",
     "output_type": "stream",
     "text": [
      "10 20 Python\n"
     ]
    }
   ],
   "source": [
    "a=10\n",
    "b=20\n",
    "c='Python'\n",
    "print(a,b,c)"
   ]
  },
  {
   "cell_type": "code",
   "execution_count": 2,
   "id": "6abd2d4a",
   "metadata": {},
   "outputs": [
    {
     "ename": "SyntaxError",
     "evalue": "cannot assign to literal (Temp/ipykernel_9124/3796739844.py, line 1)",
     "output_type": "error",
     "traceback": [
      "\u001b[1;36m  File \u001b[1;32m\"C:\\Users\\manoj\\AppData\\Local\\Temp/ipykernel_9124/3796739844.py\"\u001b[1;36m, line \u001b[1;32m1\u001b[0m\n\u001b[1;33m    a=b, b=20, c='Python'\u001b[0m\n\u001b[1;37m           ^\u001b[0m\n\u001b[1;31mSyntaxError\u001b[0m\u001b[1;31m:\u001b[0m cannot assign to literal\n"
     ]
    }
   ],
   "source": [
    "a=b, b=20, c='Python'"
   ]
  },
  {
   "cell_type": "code",
   "execution_count": 53,
   "id": "0a693649",
   "metadata": {},
   "outputs": [
    {
     "name": "stdout",
     "output_type": "stream",
     "text": [
      "10 20 Python\n"
     ]
    }
   ],
   "source": [
    "a=10; b=20; c='Python'\n",
    "print(a,b,c)"
   ]
  },
  {
   "cell_type": "code",
   "execution_count": null,
   "id": "bcb37554",
   "metadata": {},
   "outputs": [],
   "source": [
    "() parenthesis"
   ]
  },
  {
   "cell_type": "code",
   "execution_count": 59,
   "id": "2d7b3b59",
   "metadata": {},
   "outputs": [
    {
     "name": "stdout",
     "output_type": "stream",
     "text": [
      "10 20 30\n"
     ]
    }
   ],
   "source": [
    "a,b,c=10,20,30\n",
    "print(a,b,c)"
   ]
  },
  {
   "cell_type": "markdown",
   "id": "745e09ac",
   "metadata": {},
   "source": [
    "### Delete Variable"
   ]
  },
  {
   "cell_type": "code",
   "execution_count": 55,
   "id": "60f85dd9",
   "metadata": {},
   "outputs": [
    {
     "name": "stdout",
     "output_type": "stream",
     "text": [
      "Pune\n"
     ]
    },
    {
     "ename": "NameError",
     "evalue": "name 'str1' is not defined",
     "output_type": "error",
     "traceback": [
      "\u001b[1;31m---------------------------------------------------------------------------\u001b[0m",
      "\u001b[1;31mNameError\u001b[0m                                 Traceback (most recent call last)",
      "\u001b[1;32m<ipython-input-55-1f151e81bbc8>\u001b[0m in \u001b[0;36m<module>\u001b[1;34m\u001b[0m\n\u001b[0;32m      2\u001b[0m \u001b[0mprint\u001b[0m\u001b[1;33m(\u001b[0m\u001b[0mstr1\u001b[0m\u001b[1;33m)\u001b[0m\u001b[1;33m\u001b[0m\u001b[1;33m\u001b[0m\u001b[0m\n\u001b[0;32m      3\u001b[0m \u001b[1;32mdel\u001b[0m \u001b[0mstr1\u001b[0m\u001b[1;33m\u001b[0m\u001b[1;33m\u001b[0m\u001b[0m\n\u001b[1;32m----> 4\u001b[1;33m \u001b[0mprint\u001b[0m\u001b[1;33m(\u001b[0m\u001b[0mstr1\u001b[0m\u001b[1;33m)\u001b[0m\u001b[1;33m\u001b[0m\u001b[1;33m\u001b[0m\u001b[0m\n\u001b[0m",
      "\u001b[1;31mNameError\u001b[0m: name 'str1' is not defined"
     ]
    }
   ],
   "source": [
    "str1='Pune'\n",
    "print(str1)\n",
    "del str1\n",
    "print(str1)"
   ]
  },
  {
   "cell_type": "code",
   "execution_count": 77,
   "id": "b01b617f",
   "metadata": {},
   "outputs": [
    {
     "name": "stdout",
     "output_type": "stream",
     "text": [
      "Python\n",
      "Data Science\n"
     ]
    }
   ],
   "source": [
    "print('Python')\n",
    "print('Data Science')"
   ]
  },
  {
   "cell_type": "code",
   "execution_count": 78,
   "id": "b074c705",
   "metadata": {},
   "outputs": [
    {
     "name": "stdout",
     "output_type": "stream",
     "text": [
      "PythonData Science\n"
     ]
    }
   ],
   "source": [
    "print('Python', end='')\n",
    "print('Data Science')"
   ]
  },
  {
   "cell_type": "code",
   "execution_count": 79,
   "id": "baa2e64f",
   "metadata": {},
   "outputs": [
    {
     "name": "stdout",
     "output_type": "stream",
     "text": [
      "Python Data Science\n"
     ]
    }
   ],
   "source": [
    "print('Python', end=' ')\n",
    "print('Data Science')"
   ]
  },
  {
   "cell_type": "code",
   "execution_count": 83,
   "id": "79ecc645",
   "metadata": {},
   "outputs": [
    {
     "name": "stdout",
     "output_type": "stream",
     "text": [
      "Python\n",
      "\n",
      "\tData Science\n"
     ]
    }
   ],
   "source": [
    "print('Python', end='\\n\\n\\t')\n",
    "print('Data Science')"
   ]
  },
  {
   "cell_type": "code",
   "execution_count": 82,
   "id": "322ae967",
   "metadata": {},
   "outputs": [
    {
     "name": "stdout",
     "output_type": "stream",
     "text": [
      "Python_Data Science\n"
     ]
    }
   ],
   "source": [
    "print('Python', end='_')\n",
    "print('Data Science')"
   ]
  },
  {
   "cell_type": "code",
   "execution_count": null,
   "id": "4f72d8b9",
   "metadata": {},
   "outputs": [],
   "source": []
  }
 ],
 "metadata": {
  "kernelspec": {
   "display_name": "Python 3 (ipykernel)",
   "language": "python",
   "name": "python3"
  },
  "language_info": {
   "codemirror_mode": {
    "name": "ipython",
    "version": 3
   },
   "file_extension": ".py",
   "mimetype": "text/x-python",
   "name": "python",
   "nbconvert_exporter": "python",
   "pygments_lexer": "ipython3",
   "version": "3.9.7"
  }
 },
 "nbformat": 4,
 "nbformat_minor": 5
}
