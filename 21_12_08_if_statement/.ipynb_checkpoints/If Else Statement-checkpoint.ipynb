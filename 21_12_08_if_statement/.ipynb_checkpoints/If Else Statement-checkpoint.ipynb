{
 "cells": [
  {
   "cell_type": "markdown",
   "id": "8a324af1",
   "metadata": {},
   "source": [
    "### Short Hand If Statement"
   ]
  },
  {
   "cell_type": "code",
   "execution_count": null,
   "id": "2d6b63c2",
   "metadata": {},
   "outputs": [],
   "source": [
    "if you have only one statement to execute then use short hand if statement"
   ]
  },
  {
   "cell_type": "code",
   "execution_count": 2,
   "id": "0069ba7d",
   "metadata": {},
   "outputs": [
    {
     "name": "stdout",
     "output_type": "stream",
     "text": [
      "Salary is greater than 50000\n"
     ]
    }
   ],
   "source": [
    "age= 60\n",
    "salary=70000\n",
    "\n",
    "if salary > 50000:\n",
    "    print('Salary is greater than 50000')"
   ]
  },
  {
   "cell_type": "code",
   "execution_count": 3,
   "id": "dd4bac54",
   "metadata": {},
   "outputs": [
    {
     "name": "stdout",
     "output_type": "stream",
     "text": [
      "Salary is greater than 50000\n"
     ]
    }
   ],
   "source": [
    "age= 60\n",
    "salary=70000\n",
    "if salary > 50000: print('Salary is greater than 50000')"
   ]
  },
  {
   "cell_type": "markdown",
   "id": "73a02d1a",
   "metadata": {},
   "source": [
    "### Short Hand If Else Statement"
   ]
  },
  {
   "cell_type": "code",
   "execution_count": 4,
   "id": "6265bea3",
   "metadata": {},
   "outputs": [
    {
     "name": "stdout",
     "output_type": "stream",
     "text": [
      "Salary is greater than 50000\n"
     ]
    }
   ],
   "source": [
    "salary=70000\n",
    "\n",
    "if salary >50000:\n",
    "    print('Salary is greater than 50000')\n",
    "    \n",
    "else:\n",
    "    print('Salary is less than 50000')"
   ]
  },
  {
   "cell_type": "code",
   "execution_count": 5,
   "id": "c1bc4f80",
   "metadata": {},
   "outputs": [
    {
     "name": "stdout",
     "output_type": "stream",
     "text": [
      "Salary is less than 50000\n"
     ]
    }
   ],
   "source": [
    "salary=40000\n",
    "\n",
    "if salary >50000:\n",
    "    print('Salary is greater than 50000')\n",
    "    \n",
    "else:\n",
    "    print('Salary is less than 50000')"
   ]
  },
  {
   "cell_type": "code",
   "execution_count": 6,
   "id": "0b7f9fe3",
   "metadata": {},
   "outputs": [
    {
     "name": "stdout",
     "output_type": "stream",
     "text": [
      "Salary is less than 50000\n"
     ]
    }
   ],
   "source": [
    "salary = 30000\n",
    "print('Salary is greater than 50000') if salary >50000 else print('Salary is less than 50000')"
   ]
  },
  {
   "cell_type": "code",
   "execution_count": 7,
   "id": "88313fea",
   "metadata": {},
   "outputs": [
    {
     "name": "stdout",
     "output_type": "stream",
     "text": [
      "Salary is greater than 50000\n"
     ]
    }
   ],
   "source": [
    "salary = 60000\n",
    "print('Salary is greater than 50000') if salary >50000 else print('Salary is less than 50000')"
   ]
  },
  {
   "cell_type": "markdown",
   "id": "afe00d58",
   "metadata": {},
   "source": [
    "### Arithmatic Operators"
   ]
  },
  {
   "cell_type": "code",
   "execution_count": null,
   "id": "076fd532",
   "metadata": {},
   "outputs": [],
   "source": [
    "+  >> Addition\n",
    "-  >> Substraction\n",
    "*  >> Multiplication\n",
    "/  >> Division (float)\n",
    "// >> Floar Division(int)\n",
    "%  >> Modulus\n",
    "** >> Exponent"
   ]
  },
  {
   "cell_type": "code",
   "execution_count": 8,
   "id": "16c6a2e0",
   "metadata": {},
   "outputs": [
    {
     "data": {
      "text/plain": [
       "15"
      ]
     },
     "execution_count": 8,
     "metadata": {},
     "output_type": "execute_result"
    }
   ],
   "source": [
    "10+5"
   ]
  },
  {
   "cell_type": "code",
   "execution_count": 9,
   "id": "699c830b",
   "metadata": {},
   "outputs": [
    {
     "data": {
      "text/plain": [
       "5"
      ]
     },
     "execution_count": 9,
     "metadata": {},
     "output_type": "execute_result"
    }
   ],
   "source": [
    "10-5"
   ]
  },
  {
   "cell_type": "code",
   "execution_count": 10,
   "id": "4960e183",
   "metadata": {},
   "outputs": [
    {
     "data": {
      "text/plain": [
       "50"
      ]
     },
     "execution_count": 10,
     "metadata": {},
     "output_type": "execute_result"
    }
   ],
   "source": [
    "10*5"
   ]
  },
  {
   "cell_type": "code",
   "execution_count": 40,
   "id": "994b7dc9",
   "metadata": {},
   "outputs": [
    {
     "data": {
      "text/plain": [
       "2.8"
      ]
     },
     "execution_count": 40,
     "metadata": {},
     "output_type": "execute_result"
    }
   ],
   "source": [
    "14/5"
   ]
  },
  {
   "cell_type": "code",
   "execution_count": 41,
   "id": "3fb852bb",
   "metadata": {},
   "outputs": [
    {
     "data": {
      "text/plain": [
       "2"
      ]
     },
     "execution_count": 41,
     "metadata": {},
     "output_type": "execute_result"
    }
   ],
   "source": [
    "12//5"
   ]
  },
  {
   "cell_type": "code",
   "execution_count": 13,
   "id": "e8e99466",
   "metadata": {},
   "outputs": [
    {
     "data": {
      "text/plain": [
       "0"
      ]
     },
     "execution_count": 13,
     "metadata": {},
     "output_type": "execute_result"
    }
   ],
   "source": [
    "10%5"
   ]
  },
  {
   "cell_type": "code",
   "execution_count": 14,
   "id": "efa56e93",
   "metadata": {},
   "outputs": [
    {
     "data": {
      "text/plain": [
       "2"
      ]
     },
     "execution_count": 14,
     "metadata": {},
     "output_type": "execute_result"
    }
   ],
   "source": [
    "12%5"
   ]
  },
  {
   "cell_type": "code",
   "execution_count": 15,
   "id": "ef5bcfbf",
   "metadata": {},
   "outputs": [
    {
     "data": {
      "text/plain": [
       "8"
      ]
     },
     "execution_count": 15,
     "metadata": {},
     "output_type": "execute_result"
    }
   ],
   "source": [
    "2**3"
   ]
  },
  {
   "cell_type": "code",
   "execution_count": 16,
   "id": "a42f54e7",
   "metadata": {},
   "outputs": [
    {
     "data": {
      "text/plain": [
       "9"
      ]
     },
     "execution_count": 16,
     "metadata": {},
     "output_type": "execute_result"
    }
   ],
   "source": [
    "3**2"
   ]
  },
  {
   "cell_type": "code",
   "execution_count": 17,
   "id": "eff9211d",
   "metadata": {},
   "outputs": [
    {
     "data": {
      "text/plain": [
       "'pythonClass'"
      ]
     },
     "execution_count": 17,
     "metadata": {},
     "output_type": "execute_result"
    }
   ],
   "source": [
    "'python'+'Class'"
   ]
  },
  {
   "cell_type": "code",
   "execution_count": 18,
   "id": "2c53cde2",
   "metadata": {},
   "outputs": [
    {
     "ename": "TypeError",
     "evalue": "can't multiply sequence by non-int of type 'str'",
     "output_type": "error",
     "traceback": [
      "\u001b[1;31m---------------------------------------------------------------------------\u001b[0m",
      "\u001b[1;31mTypeError\u001b[0m                                 Traceback (most recent call last)",
      "\u001b[1;32m<ipython-input-18-4fc357719033>\u001b[0m in \u001b[0;36m<module>\u001b[1;34m\u001b[0m\n\u001b[1;32m----> 1\u001b[1;33m \u001b[1;34m'python'\u001b[0m\u001b[1;33m*\u001b[0m\u001b[1;34m'Class'\u001b[0m\u001b[1;33m\u001b[0m\u001b[1;33m\u001b[0m\u001b[0m\n\u001b[0m",
      "\u001b[1;31mTypeError\u001b[0m: can't multiply sequence by non-int of type 'str'"
     ]
    }
   ],
   "source": [
    "'python'*'Class'"
   ]
  },
  {
   "cell_type": "code",
   "execution_count": 19,
   "id": "755c4058",
   "metadata": {},
   "outputs": [
    {
     "data": {
      "text/plain": [
       "'pythonpythonpython'"
      ]
     },
     "execution_count": 19,
     "metadata": {},
     "output_type": "execute_result"
    }
   ],
   "source": [
    "'python'*3"
   ]
  },
  {
   "cell_type": "markdown",
   "id": "010115d7",
   "metadata": {},
   "source": [
    "### To Check Even or Odd Numbers"
   ]
  },
  {
   "cell_type": "code",
   "execution_count": 21,
   "id": "bf2a1783",
   "metadata": {},
   "outputs": [
    {
     "name": "stdout",
     "output_type": "stream",
     "text": [
      "Enter any Numbers: 11\n",
      "count of even is:  0\n",
      "count of odd is:  2\n"
     ]
    }
   ],
   "source": [
    "a = input(\"Enter any Numbers: \")\n",
    "\n",
    "even = 0\n",
    "odd = 0\n",
    "\n",
    "for i in a:\n",
    "    if int(i) % 2 == 0:\n",
    "        even +=1\n",
    "    else :\n",
    "        odd +=1\n",
    "        \n",
    "print('count of even is: ',even)\n",
    "print('count of odd is: ',odd)"
   ]
  },
  {
   "cell_type": "code",
   "execution_count": 23,
   "id": "9bdf45a0",
   "metadata": {},
   "outputs": [
    {
     "name": "stdout",
     "output_type": "stream",
     "text": [
      "enter the number12\n",
      "number is even\n"
     ]
    }
   ],
   "source": [
    "x = int(input('enter the number'))\n",
    "if (x%2)==0:\n",
    "    print('number is even')\n",
    "else:\n",
    "    print('number is odd')"
   ]
  },
  {
   "cell_type": "markdown",
   "id": "c4c61e07",
   "metadata": {},
   "source": [
    "### Assignment Operators"
   ]
  },
  {
   "cell_type": "code",
   "execution_count": null,
   "id": "c1f878e4",
   "metadata": {},
   "outputs": [],
   "source": [
    "=\n",
    "+=  >> a+=1 >> a=a+1\n",
    "-=  >> a-=1 >> a=a-1\n",
    "*=  >> a*=2 >> a=a*2\n",
    "/=  >> a/=2 >> a=a/2\n",
    "//= >> a//=2>> a=a//2\n",
    "**= >> a**=2>> a=a**2"
   ]
  },
  {
   "cell_type": "code",
   "execution_count": null,
   "id": "6d49042f",
   "metadata": {},
   "outputs": [],
   "source": [
    "x=10"
   ]
  },
  {
   "cell_type": "code",
   "execution_count": 25,
   "id": "d26ee918",
   "metadata": {},
   "outputs": [
    {
     "data": {
      "text/plain": [
       "11"
      ]
     },
     "execution_count": 25,
     "metadata": {},
     "output_type": "execute_result"
    }
   ],
   "source": [
    "x=10\n",
    "# x+=1\n",
    "x=x+1\n",
    "x"
   ]
  },
  {
   "cell_type": "code",
   "execution_count": 26,
   "id": "9e23a5cf",
   "metadata": {},
   "outputs": [
    {
     "data": {
      "text/plain": [
       "'0b1010'"
      ]
     },
     "execution_count": 26,
     "metadata": {},
     "output_type": "execute_result"
    }
   ],
   "source": [
    "bin(10)"
   ]
  },
  {
   "cell_type": "code",
   "execution_count": 27,
   "id": "3ea5a50b",
   "metadata": {},
   "outputs": [
    {
     "data": {
      "text/plain": [
       "'0b1110'"
      ]
     },
     "execution_count": 27,
     "metadata": {},
     "output_type": "execute_result"
    }
   ],
   "source": [
    "bin(14)"
   ]
  },
  {
   "cell_type": "code",
   "execution_count": 28,
   "id": "fa1dfd44",
   "metadata": {},
   "outputs": [
    {
     "data": {
      "text/plain": [
       "7"
      ]
     },
     "execution_count": 28,
     "metadata": {},
     "output_type": "execute_result"
    }
   ],
   "source": [
    "5 and 7"
   ]
  },
  {
   "cell_type": "code",
   "execution_count": 29,
   "id": "e7b6eae5",
   "metadata": {},
   "outputs": [
    {
     "data": {
      "text/plain": [
       "5"
      ]
     },
     "execution_count": 29,
     "metadata": {},
     "output_type": "execute_result"
    }
   ],
   "source": [
    "5 & 7 |"
   ]
  },
  {
   "cell_type": "code",
   "execution_count": 30,
   "id": "4e58f934",
   "metadata": {},
   "outputs": [
    {
     "data": {
      "text/plain": [
       "True"
      ]
     },
     "execution_count": 30,
     "metadata": {},
     "output_type": "execute_result"
    }
   ],
   "source": [
    "5 and True"
   ]
  },
  {
   "cell_type": "code",
   "execution_count": 31,
   "id": "03ec4e84",
   "metadata": {},
   "outputs": [
    {
     "data": {
      "text/plain": [
       "5"
      ]
     },
     "execution_count": 31,
     "metadata": {},
     "output_type": "execute_result"
    }
   ],
   "source": [
    "5 or True"
   ]
  },
  {
   "cell_type": "markdown",
   "id": "3022e08f",
   "metadata": {},
   "source": [
    "### Polynomial Equation"
   ]
  },
  {
   "cell_type": "code",
   "execution_count": 34,
   "id": "9a46f7fe",
   "metadata": {},
   "outputs": [
    {
     "name": "stdout",
     "output_type": "stream",
     "text": [
      "301\n"
     ]
    }
   ],
   "source": [
    "x =6 \n",
    "y=(x**3) + (3*(x**2)) - (5*x)+7\n",
    "print(y)"
   ]
  },
  {
   "cell_type": "code",
   "execution_count": null,
   "id": "01dc318d",
   "metadata": {},
   "outputs": [],
   "source": [
    "Preference of Arithmetic Operator\n",
    "\n",
    "1. () >> Parenthesis\n",
    "2. ** >> Exponent\n",
    "3.  / , // ,*\n",
    "4. + , -"
   ]
  },
  {
   "cell_type": "code",
   "execution_count": 37,
   "id": "7c23618e",
   "metadata": {},
   "outputs": [
    {
     "data": {
      "text/plain": [
       "-85"
      ]
     },
     "execution_count": 37,
     "metadata": {},
     "output_type": "execute_result"
    }
   ],
   "source": [
    "(5*(x^4))-(3*(x^3))+(4*(x^2)) -(8*(x+6))"
   ]
  },
  {
   "cell_type": "code",
   "execution_count": null,
   "id": "8c0c0477",
   "metadata": {},
   "outputs": [],
   "source": [
    "XOR"
   ]
  },
  {
   "cell_type": "code",
   "execution_count": 35,
   "id": "70a196c5",
   "metadata": {},
   "outputs": [
    {
     "data": {
      "text/plain": [
       "3"
      ]
     },
     "execution_count": 35,
     "metadata": {},
     "output_type": "execute_result"
    }
   ],
   "source": [
    "5^6"
   ]
  },
  {
   "cell_type": "markdown",
   "id": "fe228df7",
   "metadata": {},
   "source": [
    "### Membership Operator"
   ]
  },
  {
   "cell_type": "code",
   "execution_count": null,
   "id": "00b711c9",
   "metadata": {},
   "outputs": [],
   "source": [
    "in\n",
    "not in"
   ]
  },
  {
   "cell_type": "code",
   "execution_count": 42,
   "id": "fd7e482f",
   "metadata": {},
   "outputs": [
    {
     "data": {
      "text/plain": [
       "True"
      ]
     },
     "execution_count": 42,
     "metadata": {},
     "output_type": "execute_result"
    }
   ],
   "source": [
    "string = 'Data Science'\n",
    "'Data' in string"
   ]
  },
  {
   "cell_type": "code",
   "execution_count": 43,
   "id": "1c711e11",
   "metadata": {},
   "outputs": [
    {
     "data": {
      "text/plain": [
       "False"
      ]
     },
     "execution_count": 43,
     "metadata": {},
     "output_type": "execute_result"
    }
   ],
   "source": [
    "string = 'Data Science'\n",
    "'data' in string"
   ]
  },
  {
   "cell_type": "code",
   "execution_count": 45,
   "id": "04d6efe9",
   "metadata": {},
   "outputs": [
    {
     "data": {
      "text/plain": [
       "False"
      ]
     },
     "execution_count": 45,
     "metadata": {},
     "output_type": "execute_result"
    }
   ],
   "source": [
    "string = 'Data Science'\n",
    "'Data' not in string"
   ]
  },
  {
   "cell_type": "code",
   "execution_count": 46,
   "id": "6ee1d671",
   "metadata": {},
   "outputs": [
    {
     "data": {
      "text/plain": [
       "True"
      ]
     },
     "execution_count": 46,
     "metadata": {},
     "output_type": "execute_result"
    }
   ],
   "source": [
    "string = 'Data Science'\n",
    "'data' not in string"
   ]
  },
  {
   "cell_type": "markdown",
   "id": "6da9c402",
   "metadata": {},
   "source": [
    "### Logical Operator"
   ]
  },
  {
   "cell_type": "code",
   "execution_count": null,
   "id": "d2380f44",
   "metadata": {},
   "outputs": [],
   "source": [
    "and \n",
    "or\n",
    "not\n",
    "\n",
    "not True >> False\n",
    "not False >> True"
   ]
  },
  {
   "cell_type": "code",
   "execution_count": 48,
   "id": "e072cb5c",
   "metadata": {},
   "outputs": [
    {
     "name": "stdout",
     "output_type": "stream",
     "text": [
      "Hello\n"
     ]
    }
   ],
   "source": [
    "if 5>2: # True\n",
    "    print('Hello')"
   ]
  },
  {
   "cell_type": "code",
   "execution_count": 49,
   "id": "b520cbf2",
   "metadata": {},
   "outputs": [],
   "source": [
    "if not 5>2:  # not True >> False\n",
    "    print('Hello')"
   ]
  },
  {
   "cell_type": "markdown",
   "id": "61ca43d7",
   "metadata": {},
   "source": [
    "## Operators"
   ]
  },
  {
   "cell_type": "markdown",
   "id": "7adc0bea",
   "metadata": {},
   "source": [
    "### 1. Arithmetic Opeartor"
   ]
  },
  {
   "cell_type": "code",
   "execution_count": null,
   "id": "e930c7c7",
   "metadata": {},
   "outputs": [],
   "source": [
    "+\n",
    "-\n",
    "*\n",
    "/\n",
    "//\n",
    "%\n",
    "**"
   ]
  },
  {
   "cell_type": "markdown",
   "id": "9c6d53d4",
   "metadata": {},
   "source": [
    "### 2. Assignment Operator"
   ]
  },
  {
   "cell_type": "code",
   "execution_count": null,
   "id": "72d15490",
   "metadata": {},
   "outputs": [],
   "source": [
    "=\n",
    "+=\n",
    "-=\n",
    "*=\n",
    "/=\n",
    "//=\n",
    "**="
   ]
  },
  {
   "cell_type": "markdown",
   "id": "ff63be18",
   "metadata": {},
   "source": [
    "### 3. Comparison Operator"
   ]
  },
  {
   "cell_type": "code",
   "execution_count": null,
   "id": "aebcbf5a",
   "metadata": {},
   "outputs": [],
   "source": [
    "==\n",
    "!=\n",
    "<=\n",
    ">=\n",
    "<\n",
    ">"
   ]
  },
  {
   "cell_type": "markdown",
   "id": "29243d89",
   "metadata": {},
   "source": [
    "### 4. Membership Operator"
   ]
  },
  {
   "cell_type": "code",
   "execution_count": null,
   "id": "7530b853",
   "metadata": {},
   "outputs": [],
   "source": [
    "in >> True/False\n",
    "not in"
   ]
  },
  {
   "cell_type": "markdown",
   "id": "079c9113",
   "metadata": {},
   "source": [
    "### 5. Logical Operator"
   ]
  },
  {
   "cell_type": "code",
   "execution_count": null,
   "id": "5e242a68",
   "metadata": {},
   "outputs": [],
   "source": [
    "and \n",
    "or \n",
    "not"
   ]
  },
  {
   "cell_type": "code",
   "execution_count": 52,
   "id": "fe0a67a0",
   "metadata": {},
   "outputs": [
    {
     "name": "stdout",
     "output_type": "stream",
     "text": [
      "hello\n"
     ]
    }
   ],
   "source": [
    "a=5\n",
    "b=10\n",
    "c=15\n",
    "if not a>b and not a>c:\n",
    "    print('hello')"
   ]
  },
  {
   "cell_type": "code",
   "execution_count": 53,
   "id": "d075b60b",
   "metadata": {},
   "outputs": [
    {
     "name": "stdout",
     "output_type": "stream",
     "text": [
      "hello\n"
     ]
    }
   ],
   "source": [
    "a=5\n",
    "b=10\n",
    "c=15\n",
    "if not a>b or not a>c:\n",
    "    print('hello')"
   ]
  },
  {
   "cell_type": "code",
   "execution_count": 54,
   "id": "9ba858f9",
   "metadata": {},
   "outputs": [],
   "source": [
    "a=5\n",
    "b=10\n",
    "c=15\n",
    "if not a<b or not a<c:\n",
    "    print('hello')"
   ]
  },
  {
   "cell_type": "markdown",
   "id": "7e8b0d52",
   "metadata": {},
   "source": [
    "### 6. Bitwise Operator"
   ]
  },
  {
   "cell_type": "code",
   "execution_count": null,
   "id": "4e30dd10",
   "metadata": {},
   "outputs": [],
   "source": [
    "& == Bitwise AND\n",
    "| == Bitwise OR\n",
    "^ == Bitwise XOR\n",
    ">>== Right shift\n",
    "<<== Left shift\n",
    "~ == Bitwise NOT(Complement/TILDE)"
   ]
  },
  {
   "cell_type": "markdown",
   "id": "7691dedb",
   "metadata": {},
   "source": [
    "### 7. Identity Operator"
   ]
  },
  {
   "cell_type": "code",
   "execution_count": null,
   "id": "b88e7d5a",
   "metadata": {},
   "outputs": [],
   "source": [
    "is\n",
    "is not"
   ]
  },
  {
   "cell_type": "code",
   "execution_count": 55,
   "id": "c36e8aff",
   "metadata": {},
   "outputs": [
    {
     "data": {
      "text/plain": [
       "False"
      ]
     },
     "execution_count": 55,
     "metadata": {},
     "output_type": "execute_result"
    }
   ],
   "source": [
    "a='python'\n",
    "b='Python'\n",
    "a is b"
   ]
  },
  {
   "cell_type": "code",
   "execution_count": 56,
   "id": "46eb5986",
   "metadata": {},
   "outputs": [
    {
     "data": {
      "text/plain": [
       "True"
      ]
     },
     "execution_count": 56,
     "metadata": {},
     "output_type": "execute_result"
    }
   ],
   "source": [
    "a='Python'\n",
    "b='Python'\n",
    "a is b"
   ]
  },
  {
   "cell_type": "code",
   "execution_count": 57,
   "id": "089f643f",
   "metadata": {},
   "outputs": [
    {
     "data": {
      "text/plain": [
       "True"
      ]
     },
     "execution_count": 57,
     "metadata": {},
     "output_type": "execute_result"
    }
   ],
   "source": [
    "a='python'\n",
    "b='Python'\n",
    "a is not b"
   ]
  },
  {
   "cell_type": "code",
   "execution_count": null,
   "id": "f1e960e2",
   "metadata": {},
   "outputs": [],
   "source": []
  },
  {
   "cell_type": "code",
   "execution_count": null,
   "id": "e559561e",
   "metadata": {},
   "outputs": [],
   "source": []
  },
  {
   "cell_type": "code",
   "execution_count": null,
   "id": "259ef7b9",
   "metadata": {},
   "outputs": [],
   "source": []
  },
  {
   "cell_type": "code",
   "execution_count": null,
   "id": "c2f5dfe9",
   "metadata": {},
   "outputs": [],
   "source": []
  },
  {
   "cell_type": "code",
   "execution_count": null,
   "id": "4bed6b73",
   "metadata": {},
   "outputs": [],
   "source": []
  },
  {
   "cell_type": "code",
   "execution_count": null,
   "id": "43106eb5",
   "metadata": {},
   "outputs": [],
   "source": []
  },
  {
   "cell_type": "code",
   "execution_count": null,
   "id": "86670381",
   "metadata": {},
   "outputs": [],
   "source": []
  },
  {
   "cell_type": "code",
   "execution_count": null,
   "id": "f1243653",
   "metadata": {},
   "outputs": [],
   "source": []
  },
  {
   "cell_type": "code",
   "execution_count": null,
   "id": "f3c1a6b7",
   "metadata": {},
   "outputs": [],
   "source": []
  }
 ],
 "metadata": {
  "kernelspec": {
   "display_name": "Python 3",
   "language": "python",
   "name": "python3"
  },
  "language_info": {
   "codemirror_mode": {
    "name": "ipython",
    "version": 3
   },
   "file_extension": ".py",
   "mimetype": "text/x-python",
   "name": "python",
   "nbconvert_exporter": "python",
   "pygments_lexer": "ipython3",
   "version": "3.8.8"
  }
 },
 "nbformat": 4,
 "nbformat_minor": 5
}
