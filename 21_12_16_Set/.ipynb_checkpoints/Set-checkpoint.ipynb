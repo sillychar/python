{
 "cells": [
  {
   "cell_type": "markdown",
   "id": "dc786fe2",
   "metadata": {},
   "source": [
    "## Set"
   ]
  },
  {
   "cell_type": "markdown",
   "id": "d7519f73",
   "metadata": {},
   "source": [
    "string : Ordered, Immutable, Duplicates are allowed\n",
    "List : Ordered , Mutable, Duplicates are allowed\n",
    "Tuple: Ordered, Immuatble, Duplicates are allowed\n",
    "Set : Unorderd, Mutable, Duplicates are not allowed"
   ]
  },
  {
   "cell_type": "code",
   "execution_count": null,
   "id": "3515d0f0",
   "metadata": {},
   "outputs": [],
   "source": [
    "Set:Unorderd, Mutable, Duplicates are not allowed\n",
    "    We can only add immutable items\n",
    "    \n",
    "Mutable: list, set , dict\n",
    "Immutable: int, float, tuple, bool, str\n",
    "    \n",
    "Enclosed by {}"
   ]
  },
  {
   "cell_type": "code",
   "execution_count": null,
   "id": "380849c9",
   "metadata": {},
   "outputs": [],
   "source": [
    "str =' '\n",
    "list= []\n",
    "tuple=()\n",
    "set= set()\n",
    "dict={}"
   ]
  },
  {
   "cell_type": "code",
   "execution_count": 1,
   "id": "411dc8c8",
   "metadata": {},
   "outputs": [
    {
     "data": {
      "text/plain": [
       "dict"
      ]
     },
     "execution_count": 1,
     "metadata": {},
     "output_type": "execute_result"
    }
   ],
   "source": [
    "a={}\n",
    "type(a)"
   ]
  },
  {
   "cell_type": "code",
   "execution_count": 3,
   "id": "751c5363",
   "metadata": {},
   "outputs": [
    {
     "data": {
      "text/plain": [
       "set"
      ]
     },
     "execution_count": 3,
     "metadata": {},
     "output_type": "execute_result"
    }
   ],
   "source": [
    "var=set()\n",
    "type(var)"
   ]
  },
  {
   "cell_type": "code",
   "execution_count": 6,
   "id": "a0a058bc",
   "metadata": {},
   "outputs": [
    {
     "data": {
      "text/plain": [
       "set()"
      ]
     },
     "execution_count": 6,
     "metadata": {},
     "output_type": "execute_result"
    }
   ],
   "source": [
    "var"
   ]
  },
  {
   "cell_type": "code",
   "execution_count": 5,
   "id": "0bdd40e6",
   "metadata": {},
   "outputs": [
    {
     "name": "stdout",
     "output_type": "stream",
     "text": [
      "{2, 3, 4, 5, 6, 7}\n"
     ]
    },
    {
     "data": {
      "text/plain": [
       "set"
      ]
     },
     "execution_count": 5,
     "metadata": {},
     "output_type": "execute_result"
    }
   ],
   "source": [
    "s1 = {2,3,4,5,4,5,6,3,7}\n",
    "print(s1) # duplicates are not allowed\n",
    "type(s1)"
   ]
  },
  {
   "cell_type": "code",
   "execution_count": 7,
   "id": "95db2d51",
   "metadata": {},
   "outputs": [
    {
     "name": "stdout",
     "output_type": "stream",
     "text": [
      "{2, 3, 4, 4.4, 'python', 7, 8, 'a'}\n"
     ]
    }
   ],
   "source": [
    "s1 = {2,3,4,4.4,'a','python',3,2,4,7,8}\n",
    "print(s1)"
   ]
  },
  {
   "cell_type": "code",
   "execution_count": 8,
   "id": "9da0c1ba",
   "metadata": {},
   "outputs": [
    {
     "ename": "TypeError",
     "evalue": "'set' object is not subscriptable",
     "output_type": "error",
     "traceback": [
      "\u001b[1;31m---------------------------------------------------------------------------\u001b[0m",
      "\u001b[1;31mTypeError\u001b[0m                                 Traceback (most recent call last)",
      "\u001b[1;32m<ipython-input-8-bfed54b371ac>\u001b[0m in \u001b[0;36m<module>\u001b[1;34m\u001b[0m\n\u001b[1;32m----> 1\u001b[1;33m \u001b[0ms1\u001b[0m\u001b[1;33m[\u001b[0m\u001b[1;36m0\u001b[0m\u001b[1;33m]\u001b[0m\u001b[1;33m\u001b[0m\u001b[1;33m\u001b[0m\u001b[0m\n\u001b[0m",
      "\u001b[1;31mTypeError\u001b[0m: 'set' object is not subscriptable"
     ]
    }
   ],
   "source": [
    "s1[0]"
   ]
  },
  {
   "cell_type": "code",
   "execution_count": 9,
   "id": "24d9e143",
   "metadata": {},
   "outputs": [
    {
     "ename": "TypeError",
     "evalue": "'set' object is not subscriptable",
     "output_type": "error",
     "traceback": [
      "\u001b[1;31m---------------------------------------------------------------------------\u001b[0m",
      "\u001b[1;31mTypeError\u001b[0m                                 Traceback (most recent call last)",
      "\u001b[1;32m<ipython-input-9-9ebf5f496e74>\u001b[0m in \u001b[0;36m<module>\u001b[1;34m\u001b[0m\n\u001b[1;32m----> 1\u001b[1;33m \u001b[0ms1\u001b[0m\u001b[1;33m[\u001b[0m\u001b[1;33m:\u001b[0m\u001b[1;36m3\u001b[0m\u001b[1;33m]\u001b[0m\u001b[1;33m\u001b[0m\u001b[1;33m\u001b[0m\u001b[0m\n\u001b[0m",
      "\u001b[1;31mTypeError\u001b[0m: 'set' object is not subscriptable"
     ]
    }
   ],
   "source": [
    "s1[:3]"
   ]
  },
  {
   "cell_type": "code",
   "execution_count": 11,
   "id": "e1cbd11f",
   "metadata": {},
   "outputs": [
    {
     "data": {
      "text/plain": [
       "{(3+4j), 1, 2.2, 'a'}"
      ]
     },
     "execution_count": 11,
     "metadata": {},
     "output_type": "execute_result"
    }
   ],
   "source": [
    "set1= {1,2.2,3+4j,'a'}\n",
    "set1"
   ]
  },
  {
   "cell_type": "code",
   "execution_count": 12,
   "id": "2c53e63d",
   "metadata": {},
   "outputs": [
    {
     "ename": "TypeError",
     "evalue": "unhashable type: 'list'",
     "output_type": "error",
     "traceback": [
      "\u001b[1;31m---------------------------------------------------------------------------\u001b[0m",
      "\u001b[1;31mTypeError\u001b[0m                                 Traceback (most recent call last)",
      "\u001b[1;32m<ipython-input-12-c1c2c46ca1fc>\u001b[0m in \u001b[0;36m<module>\u001b[1;34m\u001b[0m\n\u001b[1;32m----> 1\u001b[1;33m \u001b[0mset1\u001b[0m\u001b[1;33m=\u001b[0m \u001b[1;33m{\u001b[0m\u001b[1;36m1\u001b[0m\u001b[1;33m,\u001b[0m\u001b[1;36m2.2\u001b[0m\u001b[1;33m,\u001b[0m\u001b[1;36m3\u001b[0m\u001b[1;33m+\u001b[0m\u001b[1;36m4j\u001b[0m\u001b[1;33m,\u001b[0m\u001b[1;34m'a'\u001b[0m\u001b[1;33m,\u001b[0m\u001b[1;33m[\u001b[0m\u001b[1;36m2\u001b[0m\u001b[1;33m,\u001b[0m\u001b[1;36m3\u001b[0m\u001b[1;33m,\u001b[0m\u001b[1;36m4\u001b[0m\u001b[1;33m]\u001b[0m\u001b[1;33m}\u001b[0m\u001b[1;33m\u001b[0m\u001b[1;33m\u001b[0m\u001b[0m\n\u001b[0m\u001b[0;32m      2\u001b[0m \u001b[0mset1\u001b[0m\u001b[1;33m\u001b[0m\u001b[1;33m\u001b[0m\u001b[0m\n",
      "\u001b[1;31mTypeError\u001b[0m: unhashable type: 'list'"
     ]
    }
   ],
   "source": [
    "set1= {1,2.2,3+4j,'a',[2,3,4]}\n",
    "set1"
   ]
  },
  {
   "cell_type": "code",
   "execution_count": 13,
   "id": "8f256e4e",
   "metadata": {},
   "outputs": [
    {
     "ename": "TypeError",
     "evalue": "unhashable type: 'set'",
     "output_type": "error",
     "traceback": [
      "\u001b[1;31m---------------------------------------------------------------------------\u001b[0m",
      "\u001b[1;31mTypeError\u001b[0m                                 Traceback (most recent call last)",
      "\u001b[1;32m<ipython-input-13-a6151fe0f8dd>\u001b[0m in \u001b[0;36m<module>\u001b[1;34m\u001b[0m\n\u001b[1;32m----> 1\u001b[1;33m \u001b[0mset1\u001b[0m\u001b[1;33m=\u001b[0m \u001b[1;33m{\u001b[0m\u001b[1;36m1\u001b[0m\u001b[1;33m,\u001b[0m\u001b[1;36m2.2\u001b[0m\u001b[1;33m,\u001b[0m\u001b[1;36m3\u001b[0m\u001b[1;33m+\u001b[0m\u001b[1;36m4j\u001b[0m\u001b[1;33m,\u001b[0m\u001b[1;34m'a'\u001b[0m\u001b[1;33m,\u001b[0m\u001b[1;33m{\u001b[0m\u001b[1;36m2\u001b[0m\u001b[1;33m,\u001b[0m\u001b[1;36m3\u001b[0m\u001b[1;33m,\u001b[0m\u001b[1;36m4\u001b[0m\u001b[1;33m}\u001b[0m\u001b[1;33m}\u001b[0m\u001b[1;33m\u001b[0m\u001b[1;33m\u001b[0m\u001b[0m\n\u001b[0m\u001b[0;32m      2\u001b[0m \u001b[0mset1\u001b[0m\u001b[1;33m\u001b[0m\u001b[1;33m\u001b[0m\u001b[0m\n",
      "\u001b[1;31mTypeError\u001b[0m: unhashable type: 'set'"
     ]
    }
   ],
   "source": [
    "set1= {1,2.2,3+4j,'a',{2,3,4}}\n",
    "set1"
   ]
  },
  {
   "cell_type": "code",
   "execution_count": 14,
   "id": "cbd939d3",
   "metadata": {},
   "outputs": [
    {
     "data": {
      "text/plain": [
       "{(2, 3, 4), (3+4j), 1, 2.2, 'a'}"
      ]
     },
     "execution_count": 14,
     "metadata": {},
     "output_type": "execute_result"
    }
   ],
   "source": [
    "set1= {1,2.2,3+4j,'a',(2,3,4)}\n",
    "set1"
   ]
  },
  {
   "cell_type": "code",
   "execution_count": 15,
   "id": "671b24f7",
   "metadata": {},
   "outputs": [
    {
     "ename": "TypeError",
     "evalue": "unhashable type: 'dict'",
     "output_type": "error",
     "traceback": [
      "\u001b[1;31m---------------------------------------------------------------------------\u001b[0m",
      "\u001b[1;31mTypeError\u001b[0m                                 Traceback (most recent call last)",
      "\u001b[1;32m<ipython-input-15-5b13c3b07dfe>\u001b[0m in \u001b[0;36m<module>\u001b[1;34m\u001b[0m\n\u001b[1;32m----> 1\u001b[1;33m \u001b[0mset1\u001b[0m\u001b[1;33m=\u001b[0m \u001b[1;33m{\u001b[0m\u001b[1;36m1\u001b[0m\u001b[1;33m,\u001b[0m\u001b[1;36m2.2\u001b[0m\u001b[1;33m,\u001b[0m\u001b[1;36m3\u001b[0m\u001b[1;33m+\u001b[0m\u001b[1;36m4j\u001b[0m\u001b[1;33m,\u001b[0m\u001b[1;34m'a'\u001b[0m\u001b[1;33m,\u001b[0m\u001b[1;33m{\u001b[0m\u001b[1;34m'a'\u001b[0m\u001b[1;33m:\u001b[0m\u001b[1;36m1\u001b[0m\u001b[1;33m,\u001b[0m\u001b[1;34m'b'\u001b[0m\u001b[1;33m:\u001b[0m\u001b[1;36m3\u001b[0m\u001b[1;33m}\u001b[0m\u001b[1;33m}\u001b[0m\u001b[1;33m\u001b[0m\u001b[1;33m\u001b[0m\u001b[0m\n\u001b[0m\u001b[0;32m      2\u001b[0m \u001b[0mset1\u001b[0m\u001b[1;33m\u001b[0m\u001b[1;33m\u001b[0m\u001b[0m\n",
      "\u001b[1;31mTypeError\u001b[0m: unhashable type: 'dict'"
     ]
    }
   ],
   "source": [
    "set1= {1,2.2,3+4j,'a',{'a':1,'b':3}}\n",
    "set1 "
   ]
  },
  {
   "cell_type": "code",
   "execution_count": 20,
   "id": "73d975c0",
   "metadata": {},
   "outputs": [
    {
     "data": {
      "text/plain": [
       "{(3+4j), 0, 1, 2.2, 'a'}"
      ]
     },
     "execution_count": 20,
     "metadata": {},
     "output_type": "execute_result"
    }
   ],
   "source": [
    "set1= {1,2.2,0,3+4j,'a',True, False,0}\n",
    "set1"
   ]
  },
  {
   "cell_type": "code",
   "execution_count": 17,
   "id": "4f9bd5dd",
   "metadata": {},
   "outputs": [
    {
     "data": {
      "text/plain": [
       "{False, True}"
      ]
     },
     "execution_count": 17,
     "metadata": {},
     "output_type": "execute_result"
    }
   ],
   "source": [
    "set1= {True, False}\n",
    "set1"
   ]
  },
  {
   "cell_type": "code",
   "execution_count": 22,
   "id": "f1de2546",
   "metadata": {},
   "outputs": [
    {
     "data": {
      "text/plain": [
       "{2, 3, 4, 5}"
      ]
     },
     "execution_count": 22,
     "metadata": {},
     "output_type": "execute_result"
    }
   ],
   "source": [
    "t1 =2,3,4,5\n",
    "t1\n",
    "set(t1)"
   ]
  },
  {
   "cell_type": "code",
   "execution_count": 23,
   "id": "5f83c8d2",
   "metadata": {},
   "outputs": [
    {
     "data": {
      "text/plain": [
       "{2, 3, 4, 5}"
      ]
     },
     "execution_count": 23,
     "metadata": {},
     "output_type": "execute_result"
    }
   ],
   "source": [
    "t1 =(2,3,4,5)\n",
    "s1=set(t1)\n",
    "s1"
   ]
  },
  {
   "cell_type": "code",
   "execution_count": 24,
   "id": "412c5a39",
   "metadata": {},
   "outputs": [
    {
     "data": {
      "text/plain": [
       "{2, 3, 4, 5}"
      ]
     },
     "execution_count": 24,
     "metadata": {},
     "output_type": "execute_result"
    }
   ],
   "source": [
    "list1=[2,3,4,5]\n",
    "s2= set(list1)\n",
    "s2"
   ]
  },
  {
   "cell_type": "code",
   "execution_count": 25,
   "id": "416a9535",
   "metadata": {},
   "outputs": [
    {
     "data": {
      "text/plain": [
       "[2, 3, 4, 5]"
      ]
     },
     "execution_count": 25,
     "metadata": {},
     "output_type": "execute_result"
    }
   ],
   "source": [
    "list(s2)"
   ]
  },
  {
   "cell_type": "code",
   "execution_count": 26,
   "id": "ff5526cb",
   "metadata": {},
   "outputs": [
    {
     "data": {
      "text/plain": [
       "[2, 3, 4, 5, '1000', 7, 10, '100']"
      ]
     },
     "execution_count": 26,
     "metadata": {},
     "output_type": "execute_result"
    }
   ],
   "source": [
    "list1= [2,3,4,5,'100','1000',3,4,5,10,7]\n",
    "new =list(set(list1))\n",
    "new"
   ]
  },
  {
   "cell_type": "code",
   "execution_count": 27,
   "id": "316950bd",
   "metadata": {},
   "outputs": [
    {
     "data": {
      "text/plain": [
       "[2, 3, 4, 5, '1000', 7, 10, '100']"
      ]
     },
     "execution_count": 27,
     "metadata": {},
     "output_type": "execute_result"
    }
   ],
   "source": [
    "new"
   ]
  },
  {
   "cell_type": "markdown",
   "id": "389d274d",
   "metadata": {},
   "source": [
    "### How to access set items"
   ]
  },
  {
   "cell_type": "code",
   "execution_count": 29,
   "id": "b7a1f01b",
   "metadata": {},
   "outputs": [
    {
     "name": "stdout",
     "output_type": "stream",
     "text": [
      "{'data', 'science', 2, 3, 4, 'python', 6, 7, 600}\n",
      "data\n",
      "science\n",
      "2\n",
      "3\n",
      "4\n",
      "python\n",
      "6\n",
      "7\n",
      "600\n"
     ]
    }
   ],
   "source": [
    "set1 ={2,3,'python', 'data', 'science', 4,600,6,7}\n",
    "print(set1)\n",
    "\n",
    "for i in set1:\n",
    "    print(i)"
   ]
  },
  {
   "cell_type": "markdown",
   "id": "7d2f8ee5",
   "metadata": {},
   "source": [
    "## Set Functions"
   ]
  },
  {
   "cell_type": "markdown",
   "id": "0b838a1f",
   "metadata": {},
   "source": [
    "### Delete items from set"
   ]
  },
  {
   "cell_type": "markdown",
   "id": "323f4b5d",
   "metadata": {},
   "source": [
    "1. remove\n",
    "2. pop\n",
    "3. clear\n",
    "4. del\n",
    "5. discard"
   ]
  },
  {
   "cell_type": "markdown",
   "id": "67689337",
   "metadata": {},
   "source": [
    "#### 1. remove"
   ]
  },
  {
   "cell_type": "markdown",
   "id": "b3dfb861",
   "metadata": {},
   "source": [
    "Error >> if item is not present in set"
   ]
  },
  {
   "cell_type": "code",
   "execution_count": 31,
   "id": "ae3a7b03",
   "metadata": {},
   "outputs": [
    {
     "name": "stdout",
     "output_type": "stream",
     "text": [
      "{'data', 'science', 2, 3, 4, 'python', 6, 7}\n"
     ]
    }
   ],
   "source": [
    "set1 ={2,3,'python', 'data', 'science', 4,600,6,7} # len=9\n",
    "set1. remove(600)\n",
    "print(set1)"
   ]
  },
  {
   "cell_type": "code",
   "execution_count": 35,
   "id": "278fbedc",
   "metadata": {},
   "outputs": [
    {
     "name": "stdout",
     "output_type": "stream",
     "text": [
      "{'science', 2, 3, 4, 'python', 6, 7, 600}\n"
     ]
    }
   ],
   "source": [
    "set1 ={2,3,'python', 'data', 'science', 4,600,6,7} # len=9\n",
    "set1.remove('data')\n",
    "print(set1)"
   ]
  },
  {
   "cell_type": "code",
   "execution_count": 36,
   "id": "7cc7ffd9",
   "metadata": {},
   "outputs": [
    {
     "ename": "KeyError",
     "evalue": "100",
     "output_type": "error",
     "traceback": [
      "\u001b[1;31m---------------------------------------------------------------------------\u001b[0m",
      "\u001b[1;31mKeyError\u001b[0m                                  Traceback (most recent call last)",
      "\u001b[1;32m<ipython-input-36-9cd281432ce5>\u001b[0m in \u001b[0;36m<module>\u001b[1;34m\u001b[0m\n\u001b[0;32m      1\u001b[0m \u001b[0mset1\u001b[0m \u001b[1;33m=\u001b[0m\u001b[1;33m{\u001b[0m\u001b[1;36m2\u001b[0m\u001b[1;33m,\u001b[0m\u001b[1;36m3\u001b[0m\u001b[1;33m,\u001b[0m\u001b[1;34m'python'\u001b[0m\u001b[1;33m,\u001b[0m \u001b[1;34m'data'\u001b[0m\u001b[1;33m,\u001b[0m \u001b[1;34m'science'\u001b[0m\u001b[1;33m,\u001b[0m \u001b[1;36m4\u001b[0m\u001b[1;33m,\u001b[0m\u001b[1;36m600\u001b[0m\u001b[1;33m,\u001b[0m\u001b[1;36m6\u001b[0m\u001b[1;33m,\u001b[0m\u001b[1;36m7\u001b[0m\u001b[1;33m}\u001b[0m \u001b[1;31m# len=9\u001b[0m\u001b[1;33m\u001b[0m\u001b[1;33m\u001b[0m\u001b[0m\n\u001b[1;32m----> 2\u001b[1;33m \u001b[0mset1\u001b[0m\u001b[1;33m.\u001b[0m\u001b[0mremove\u001b[0m\u001b[1;33m(\u001b[0m\u001b[1;36m100\u001b[0m\u001b[1;33m)\u001b[0m\u001b[1;33m\u001b[0m\u001b[1;33m\u001b[0m\u001b[0m\n\u001b[0m\u001b[0;32m      3\u001b[0m \u001b[0mprint\u001b[0m\u001b[1;33m(\u001b[0m\u001b[0mset1\u001b[0m\u001b[1;33m)\u001b[0m\u001b[1;33m\u001b[0m\u001b[1;33m\u001b[0m\u001b[0m\n",
      "\u001b[1;31mKeyError\u001b[0m: 100"
     ]
    }
   ],
   "source": [
    "set1 ={2,3,'python', 'data', 'science', 4,600,6,7} # len=9\n",
    "set1.remove(100)\n",
    "print(set1)"
   ]
  },
  {
   "cell_type": "markdown",
   "id": "30c7a46a",
   "metadata": {},
   "source": [
    "#### 2. discard()"
   ]
  },
  {
   "cell_type": "markdown",
   "id": "fd8dfd39",
   "metadata": {},
   "source": [
    "if element is not present it wont give any error"
   ]
  },
  {
   "cell_type": "code",
   "execution_count": 37,
   "id": "b881a1f8",
   "metadata": {},
   "outputs": [
    {
     "name": "stdout",
     "output_type": "stream",
     "text": [
      "{'science', 2, 3, 4, 'python', 6, 7, 600}\n"
     ]
    }
   ],
   "source": [
    "set1 ={2,3,'python', 'data', 'science', 4,600,6,7} # len=9\n",
    "set1.discard('data')\n",
    "print(set1)"
   ]
  },
  {
   "cell_type": "code",
   "execution_count": 42,
   "id": "0143e3f2",
   "metadata": {},
   "outputs": [
    {
     "name": "stdout",
     "output_type": "stream",
     "text": [
      "{'data', 'science', 2, 3, 4, 'python', 6, 7}\n"
     ]
    }
   ],
   "source": [
    "set1 ={2,3,'python', 'data', 'science', 4,600,6,7} # len=9\n",
    "set1.discard(600)\n",
    "print(set1)"
   ]
  },
  {
   "cell_type": "code",
   "execution_count": 43,
   "id": "56edba1a",
   "metadata": {},
   "outputs": [
    {
     "ename": "AttributeError",
     "evalue": "'NoneType' object has no attribute 'discard'",
     "output_type": "error",
     "traceback": [
      "\u001b[1;31m---------------------------------------------------------------------------\u001b[0m",
      "\u001b[1;31mAttributeError\u001b[0m                            Traceback (most recent call last)",
      "\u001b[1;32m<ipython-input-43-36861bb1460b>\u001b[0m in \u001b[0;36m<module>\u001b[1;34m\u001b[0m\n\u001b[0;32m      1\u001b[0m \u001b[0mset1\u001b[0m \u001b[1;33m=\u001b[0m\u001b[1;33m{\u001b[0m\u001b[1;36m2\u001b[0m\u001b[1;33m,\u001b[0m\u001b[1;36m3\u001b[0m\u001b[1;33m,\u001b[0m\u001b[1;34m'python'\u001b[0m\u001b[1;33m,\u001b[0m \u001b[1;34m'data'\u001b[0m\u001b[1;33m,\u001b[0m \u001b[1;34m'science'\u001b[0m\u001b[1;33m,\u001b[0m \u001b[1;36m4\u001b[0m\u001b[1;33m,\u001b[0m\u001b[1;36m600\u001b[0m\u001b[1;33m,\u001b[0m\u001b[1;36m6\u001b[0m\u001b[1;33m,\u001b[0m\u001b[1;36m7\u001b[0m\u001b[1;33m}\u001b[0m \u001b[1;31m# len=9\u001b[0m\u001b[1;33m\u001b[0m\u001b[1;33m\u001b[0m\u001b[0m\n\u001b[1;32m----> 2\u001b[1;33m \u001b[0mset1\u001b[0m\u001b[1;33m.\u001b[0m\u001b[0mdiscard\u001b[0m\u001b[1;33m(\u001b[0m\u001b[1;36m100\u001b[0m\u001b[1;33m)\u001b[0m\u001b[1;33m.\u001b[0m\u001b[0mdiscard\u001b[0m\u001b[1;33m(\u001b[0m\u001b[1;34m'data'\u001b[0m\u001b[1;33m)\u001b[0m\u001b[1;33m\u001b[0m\u001b[1;33m\u001b[0m\u001b[0m\n\u001b[0m\u001b[0;32m      3\u001b[0m \u001b[0mprint\u001b[0m\u001b[1;33m(\u001b[0m\u001b[0mset1\u001b[0m\u001b[1;33m)\u001b[0m\u001b[1;33m\u001b[0m\u001b[1;33m\u001b[0m\u001b[0m\n",
      "\u001b[1;31mAttributeError\u001b[0m: 'NoneType' object has no attribute 'discard'"
     ]
    }
   ],
   "source": [
    "set1 ={2,3,'python', 'data', 'science', 4,600,6,7} # len=9\n",
    "set1.discard(100)\n",
    "print(set1)"
   ]
  },
  {
   "cell_type": "markdown",
   "id": "716bc561",
   "metadata": {},
   "source": [
    "#### 3. pop()"
   ]
  },
  {
   "cell_type": "markdown",
   "id": "314b4411",
   "metadata": {},
   "source": [
    "It will delete random item from set"
   ]
  },
  {
   "cell_type": "code",
   "execution_count": 44,
   "id": "e36543e8",
   "metadata": {},
   "outputs": [
    {
     "name": "stdout",
     "output_type": "stream",
     "text": [
      "{'science', 2, 3, 4, 'python', 6, 7, 600}\n"
     ]
    }
   ],
   "source": [
    "set1 ={2,3,'python', 'data', 'science', 4,600,6,7} # len=9\n",
    "set1.pop()\n",
    "print(set1)"
   ]
  },
  {
   "cell_type": "code",
   "execution_count": 46,
   "id": "170af700",
   "metadata": {},
   "outputs": [
    {
     "name": "stdout",
     "output_type": "stream",
     "text": [
      "{2, 3, 4, 'python', 6, 7, 600}\n"
     ]
    }
   ],
   "source": [
    "set1.pop()\n",
    "print(set1)"
   ]
  },
  {
   "cell_type": "markdown",
   "id": "94591500",
   "metadata": {},
   "source": [
    "#### 4. clear()"
   ]
  },
  {
   "cell_type": "code",
   "execution_count": 47,
   "id": "b7ff6f97",
   "metadata": {},
   "outputs": [
    {
     "name": "stdout",
     "output_type": "stream",
     "text": [
      "set()\n"
     ]
    }
   ],
   "source": [
    "set1 ={2,3,'python', 'data', 'science', 4,600,6,7} # len=9\n",
    "set1.clear()\n",
    "print(set1)"
   ]
  },
  {
   "cell_type": "markdown",
   "id": "1a8214f4",
   "metadata": {},
   "source": [
    "#### 5. del"
   ]
  },
  {
   "cell_type": "code",
   "execution_count": 48,
   "id": "b2763ee9",
   "metadata": {},
   "outputs": [],
   "source": [
    "set1 ={2,3,'python', 'data', 'science', 4,600,6,7} # len=9\n",
    "del set1"
   ]
  },
  {
   "cell_type": "code",
   "execution_count": 49,
   "id": "35135acc",
   "metadata": {},
   "outputs": [
    {
     "ename": "NameError",
     "evalue": "name 'set1' is not defined",
     "output_type": "error",
     "traceback": [
      "\u001b[1;31m---------------------------------------------------------------------------\u001b[0m",
      "\u001b[1;31mNameError\u001b[0m                                 Traceback (most recent call last)",
      "\u001b[1;32m<ipython-input-49-d18f5a84d934>\u001b[0m in \u001b[0;36m<module>\u001b[1;34m\u001b[0m\n\u001b[1;32m----> 1\u001b[1;33m \u001b[0mset1\u001b[0m\u001b[1;33m\u001b[0m\u001b[1;33m\u001b[0m\u001b[0m\n\u001b[0m",
      "\u001b[1;31mNameError\u001b[0m: name 'set1' is not defined"
     ]
    }
   ],
   "source": [
    "set1"
   ]
  },
  {
   "cell_type": "markdown",
   "id": "bf248cfa",
   "metadata": {},
   "source": [
    "### Add items"
   ]
  },
  {
   "cell_type": "markdown",
   "id": "af8d1d6f",
   "metadata": {},
   "source": [
    "#### 6. add()"
   ]
  },
  {
   "cell_type": "code",
   "execution_count": 50,
   "id": "671d9cda",
   "metadata": {},
   "outputs": [
    {
     "data": {
      "text/plain": [
       "{100, 2, 3, 4, 6, 600, 7, 'data', 'python', 'science'}"
      ]
     },
     "execution_count": 50,
     "metadata": {},
     "output_type": "execute_result"
    }
   ],
   "source": [
    "set1 ={2,3,'python', 'data', 'science', 4,600,6,7} # len=9\n",
    "set1.add(100)\n",
    "set1"
   ]
  },
  {
   "cell_type": "code",
   "execution_count": 68,
   "id": "beafa7c7",
   "metadata": {},
   "outputs": [
    {
     "data": {
      "text/plain": [
       "{(10, 20), 2, 3, 4, 6, 600, 7, 'data', 'python', 'science'}"
      ]
     },
     "execution_count": 68,
     "metadata": {},
     "output_type": "execute_result"
    }
   ],
   "source": [
    "set1 ={2,3,'python', 'data', 'science', 4,600,6,7} # len=9\n",
    "set1.add((10,20))\n",
    "set1"
   ]
  },
  {
   "cell_type": "code",
   "execution_count": 51,
   "id": "8fe4a0d4",
   "metadata": {},
   "outputs": [
    {
     "data": {
      "text/plain": [
       "{100, 1000, 2, 3, 4, 6, 600, 7, 'data', 'python', 'science'}"
      ]
     },
     "execution_count": 51,
     "metadata": {},
     "output_type": "execute_result"
    }
   ],
   "source": [
    "set1.add(1000)\n",
    "set1"
   ]
  },
  {
   "cell_type": "markdown",
   "id": "8edc9039",
   "metadata": {},
   "source": [
    "#### 7. update()"
   ]
  },
  {
   "cell_type": "code",
   "execution_count": 53,
   "id": "44f427a7",
   "metadata": {},
   "outputs": [
    {
     "name": "stdout",
     "output_type": "stream",
     "text": [
      "{'data', 'science', 2, 3, 4, 'python', 6, 7, 1, 10, 'a', 20, 600, 30} 14\n"
     ]
    }
   ],
   "source": [
    "s1 = {2,3,'python', 'data', 'science', 4,600,6,7} # len=9\n",
    "s2 = {1,10,20,30,'a'}\n",
    "s1.update(s2)\n",
    "print(s1,len(s1))"
   ]
  },
  {
   "cell_type": "code",
   "execution_count": 54,
   "id": "e7830cc8",
   "metadata": {},
   "outputs": [
    {
     "name": "stdout",
     "output_type": "stream",
     "text": [
      "{'data', 'science', 2, 3, 4, 'python', 6, 7, 1, 10, 'a', 20, 600, 30} 14\n"
     ]
    }
   ],
   "source": [
    "s1 = {2,3,'python', 'data', 'science', 4,600,6,7} # len=9\n",
    "l2 = [1,10,20,30,'a']\n",
    "s1.update(l2)\n",
    "print(s1,len(s1))"
   ]
  },
  {
   "cell_type": "code",
   "execution_count": 55,
   "id": "acec64b1",
   "metadata": {},
   "outputs": [
    {
     "ename": "AttributeError",
     "evalue": "'list' object has no attribute 'update'",
     "output_type": "error",
     "traceback": [
      "\u001b[1;31m---------------------------------------------------------------------------\u001b[0m",
      "\u001b[1;31mAttributeError\u001b[0m                            Traceback (most recent call last)",
      "\u001b[1;32m<ipython-input-55-cb95afa81acc>\u001b[0m in \u001b[0;36m<module>\u001b[1;34m\u001b[0m\n\u001b[0;32m      1\u001b[0m \u001b[0ms1\u001b[0m \u001b[1;33m=\u001b[0m \u001b[1;33m{\u001b[0m\u001b[1;36m2\u001b[0m\u001b[1;33m,\u001b[0m\u001b[1;36m3\u001b[0m\u001b[1;33m,\u001b[0m\u001b[1;34m'python'\u001b[0m\u001b[1;33m,\u001b[0m \u001b[1;34m'data'\u001b[0m\u001b[1;33m,\u001b[0m \u001b[1;34m'science'\u001b[0m\u001b[1;33m,\u001b[0m \u001b[1;36m4\u001b[0m\u001b[1;33m,\u001b[0m\u001b[1;36m600\u001b[0m\u001b[1;33m,\u001b[0m\u001b[1;36m6\u001b[0m\u001b[1;33m,\u001b[0m\u001b[1;36m7\u001b[0m\u001b[1;33m}\u001b[0m \u001b[1;31m# len=9\u001b[0m\u001b[1;33m\u001b[0m\u001b[1;33m\u001b[0m\u001b[0m\n\u001b[0;32m      2\u001b[0m \u001b[0ml2\u001b[0m \u001b[1;33m=\u001b[0m \u001b[1;33m[\u001b[0m\u001b[1;36m1\u001b[0m\u001b[1;33m,\u001b[0m\u001b[1;36m10\u001b[0m\u001b[1;33m,\u001b[0m\u001b[1;36m20\u001b[0m\u001b[1;33m,\u001b[0m\u001b[1;36m30\u001b[0m\u001b[1;33m,\u001b[0m\u001b[1;34m'a'\u001b[0m\u001b[1;33m]\u001b[0m\u001b[1;33m\u001b[0m\u001b[1;33m\u001b[0m\u001b[0m\n\u001b[1;32m----> 3\u001b[1;33m \u001b[0ml2\u001b[0m\u001b[1;33m.\u001b[0m\u001b[0mupdate\u001b[0m\u001b[1;33m(\u001b[0m\u001b[0ms1\u001b[0m\u001b[1;33m)\u001b[0m\u001b[1;33m\u001b[0m\u001b[1;33m\u001b[0m\u001b[0m\n\u001b[0m\u001b[0;32m      4\u001b[0m \u001b[0mprint\u001b[0m\u001b[1;33m(\u001b[0m\u001b[0ms1\u001b[0m\u001b[1;33m,\u001b[0m\u001b[0mlen\u001b[0m\u001b[1;33m(\u001b[0m\u001b[0ms1\u001b[0m\u001b[1;33m)\u001b[0m\u001b[1;33m)\u001b[0m\u001b[1;33m\u001b[0m\u001b[1;33m\u001b[0m\u001b[0m\n",
      "\u001b[1;31mAttributeError\u001b[0m: 'list' object has no attribute 'update'"
     ]
    }
   ],
   "source": [
    "s1 = {2,3,'python', 'data', 'science', 4,600,6,7} # len=9\n",
    "l2 = [1,10,20,30,'a']\n",
    "l2.update(s1)\n",
    "print(s1,len(s1))"
   ]
  },
  {
   "cell_type": "code",
   "execution_count": 56,
   "id": "5ad7c452",
   "metadata": {},
   "outputs": [
    {
     "name": "stdout",
     "output_type": "stream",
     "text": [
      "{'data', 'science', 2, 3, 4, 'python', 6, 7, 1, 33, 10, 11, 44, 'a', 20, 22, 600, 30} 18\n"
     ]
    }
   ],
   "source": [
    "s1 = {2,3,'python', 'data', 'science', 4,600,6,7} # len=9\n",
    "s2 = {1,10,20,30,'a'}\n",
    "s3 = {11,22,33,44}\n",
    "s1.update(s2,s3)\n",
    "print(s1,len(s1))"
   ]
  },
  {
   "cell_type": "markdown",
   "id": "2d6153f9",
   "metadata": {},
   "source": [
    "#### 8. union"
   ]
  },
  {
   "cell_type": "code",
   "execution_count": 58,
   "id": "fa8534ca",
   "metadata": {},
   "outputs": [
    {
     "data": {
      "text/plain": [
       "{1, 10, 2, 20, 3, 30, 4, 6, 600, 7, 'a', 'data', 'python', 'science'}"
      ]
     },
     "execution_count": 58,
     "metadata": {},
     "output_type": "execute_result"
    }
   ],
   "source": [
    "s1 = {2,3,'python', 'data', 'science', 4,600,6,7} # len=9\n",
    "s2 = {1,10,20,30,'a'}\n",
    "s1.union(s2)"
   ]
  },
  {
   "cell_type": "code",
   "execution_count": 59,
   "id": "2a54419c",
   "metadata": {
    "scrolled": true
   },
   "outputs": [
    {
     "name": "stdout",
     "output_type": "stream",
     "text": [
      "{'data', 'science', 2, 3, 4, 'python', 6, 7, 600} 9\n",
      "{1, 10, 'a', 20, 30} 5\n",
      "{'data', 'science', 2, 3, 4, 'python', 6, 7, 1, 10, 'a', 20, 600, 30} 14\n"
     ]
    }
   ],
   "source": [
    "s1 = {2,3,'python', 'data', 'science', 4,600,6,7} # len=9\n",
    "s2 = {1,10,20,30,'a'}\n",
    "s3= s1.union(s2)\n",
    "print(s1,len(s1))\n",
    "print(s2,len(s2))\n",
    "print(s3,len(s3))"
   ]
  },
  {
   "cell_type": "code",
   "execution_count": 61,
   "id": "f28a2c11",
   "metadata": {},
   "outputs": [
    {
     "name": "stdout",
     "output_type": "stream",
     "text": [
      "{1, 2, 3, 40, 10, 'a', 20}\n",
      "{1, 10, 20, 'a'}\n"
     ]
    }
   ],
   "source": [
    "s1 = {2,3,40,10,20}\n",
    "s2 = {10,20,1,'a'}\n",
    "s1.update(s2)\n",
    "print(s1)\n",
    "print(s2)"
   ]
  },
  {
   "cell_type": "code",
   "execution_count": 63,
   "id": "220170b6",
   "metadata": {},
   "outputs": [
    {
     "name": "stdout",
     "output_type": "stream",
     "text": [
      "{2, 3, 40, 10, 20}\n",
      "{1, 2, 3, 40, 10, 'a', 20}\n"
     ]
    }
   ],
   "source": [
    "s1 = {2,3,40,10,20}\n",
    "s2 = {10,20,1,'a'}\n",
    "s2.update(s1)\n",
    "print(s1)\n",
    "print(s2)"
   ]
  },
  {
   "cell_type": "code",
   "execution_count": 64,
   "id": "7a87f1c4",
   "metadata": {},
   "outputs": [
    {
     "name": "stdout",
     "output_type": "stream",
     "text": [
      "{2, 3, 40, 10, 20}\n",
      "{1, 10, 20, 'a'}\n"
     ]
    }
   ],
   "source": [
    "s1 = {2,3,40,10,20}\n",
    "s2 = {10,20,1,'a'}\n",
    "s2.union(s1)\n",
    "print(s1)\n",
    "print(s2)"
   ]
  },
  {
   "cell_type": "code",
   "execution_count": 65,
   "id": "f41f2860",
   "metadata": {},
   "outputs": [
    {
     "name": "stdout",
     "output_type": "stream",
     "text": [
      "{2, 3, 40, 10, 20}\n",
      "{1, 10, 20, 'a'}\n",
      "{1, 2, 3, 40, 10, 'a', 20}\n"
     ]
    }
   ],
   "source": [
    "s1 = {2,3,40,10,20}\n",
    "s2 = {10,20,1,'a'}\n",
    "s3 = s2.union(s1)\n",
    "print(s1)\n",
    "print(s2)\n",
    "print(s3)"
   ]
  },
  {
   "cell_type": "code",
   "execution_count": 66,
   "id": "111c51c3",
   "metadata": {},
   "outputs": [
    {
     "name": "stdout",
     "output_type": "stream",
     "text": [
      "{1, 2, 3, 40, 10, 'a', 20}\n",
      "[10, 20, 1, 'a']\n"
     ]
    }
   ],
   "source": [
    "s1 = {2,3,40,10,20}\n",
    "l2 = [10,20,1,'a']\n",
    "s1.update(l2)\n",
    "print(s1)\n",
    "print(l2)"
   ]
  },
  {
   "cell_type": "code",
   "execution_count": 67,
   "id": "a69987d5",
   "metadata": {},
   "outputs": [
    {
     "name": "stdout",
     "output_type": "stream",
     "text": [
      "{1, 2, 3, 40, 10, 'a', 20}\n",
      "(10, 20, 1, 'a')\n"
     ]
    }
   ],
   "source": [
    "s1 = {2,3,40,10,20}\n",
    "l2 = (10,20,1,'a')\n",
    "s1.update(l2)\n",
    "print(s1)\n",
    "print(l2)"
   ]
  },
  {
   "cell_type": "markdown",
   "id": "91acb8a2",
   "metadata": {},
   "source": [
    "#### 9. intersection"
   ]
  },
  {
   "cell_type": "code",
   "execution_count": 71,
   "id": "3cc5a6f7",
   "metadata": {},
   "outputs": [
    {
     "name": "stdout",
     "output_type": "stream",
     "text": [
      "{2, 3, 40, 10, 20}\n",
      "{1, 10, 20, 'a'}\n",
      "{10, 20}\n"
     ]
    }
   ],
   "source": [
    "s1 = {2,3,40,10,20}\n",
    "s2 = {10,20,1,'a'}\n",
    "s3 = s1.intersection(s2)\n",
    "print(s1)\n",
    "print(s2)\n",
    "print(s3)"
   ]
  },
  {
   "cell_type": "code",
   "execution_count": 72,
   "id": "b5aadaff",
   "metadata": {},
   "outputs": [
    {
     "name": "stdout",
     "output_type": "stream",
     "text": [
      "{'Nagpur', 'Chennai', 'Pune', 'Mumbai'}\n",
      "{'Bangalore', 'Kolkata', 'Pune', 'Mumbai'}\n",
      "{'Pune', 'Mumbai'}\n"
     ]
    }
   ],
   "source": [
    "city1 = {'Pune' ,'Mumbai', \"Nagpur\",'Chennai'}\n",
    "city2 = {'Pune','Kolkata', 'Bangalore','Mumbai'}\n",
    "city3 = city1.intersection(city2)\n",
    "print(city1)\n",
    "print(city2)\n",
    "print(city3)"
   ]
  },
  {
   "cell_type": "markdown",
   "id": "30062204",
   "metadata": {},
   "source": [
    "#### 10.intersection_update"
   ]
  },
  {
   "cell_type": "code",
   "execution_count": 75,
   "id": "5fbca583",
   "metadata": {},
   "outputs": [
    {
     "name": "stdout",
     "output_type": "stream",
     "text": [
      "{10, 20}\n",
      "{1, 10, 20, 'a'}\n"
     ]
    }
   ],
   "source": [
    "s1 = {2,3,40,10,20}\n",
    "s2 = {10,20,1,'a'}\n",
    "s1.intersection_update(s2)\n",
    "print(s1)\n",
    "print(s2)"
   ]
  },
  {
   "cell_type": "code",
   "execution_count": 76,
   "id": "a9a4da07",
   "metadata": {},
   "outputs": [
    {
     "name": "stdout",
     "output_type": "stream",
     "text": [
      "{'Pune', 'Mumbai'}\n",
      "{'Bangalore', 'Kolkata', 'Pune', 'Mumbai'}\n"
     ]
    }
   ],
   "source": [
    "city1 = {'Pune' ,'Mumbai', \"Nagpur\",'Chennai'}\n",
    "city2 = {'Pune','Kolkata', 'Bangalore','Mumbai'}\n",
    "city1.intersection_update(city2)\n",
    "print(city1)\n",
    "print(city2)"
   ]
  },
  {
   "cell_type": "markdown",
   "id": "fc94f3f9",
   "metadata": {},
   "source": [
    "### 11. difference()"
   ]
  },
  {
   "cell_type": "code",
   "execution_count": 78,
   "id": "beedcbf4",
   "metadata": {},
   "outputs": [
    {
     "name": "stdout",
     "output_type": "stream",
     "text": [
      "{2, 3, 40, 10, 20}\n",
      "{1, 10, 20, 'a'}\n"
     ]
    }
   ],
   "source": [
    "s1 = {2,3,40,10,20}\n",
    "s2 = {10,20,1,'a'}\n",
    "s1.difference(s2)\n",
    "print(s1)\n",
    "print(s2)"
   ]
  },
  {
   "cell_type": "code",
   "execution_count": 79,
   "id": "b81a01fd",
   "metadata": {},
   "outputs": [
    {
     "name": "stdout",
     "output_type": "stream",
     "text": [
      "{2, 3, 40, 10, 20}\n",
      "{1, 10, 20, 'a'}\n",
      "{40, 2, 3}\n"
     ]
    }
   ],
   "source": [
    "s1 = {2,3,40,10,20}\n",
    "s2 = {10,20,1,'a'}\n",
    "s3 = s1.difference(s2)\n",
    "print(s1)\n",
    "print(s2)\n",
    "print(s3)"
   ]
  },
  {
   "cell_type": "code",
   "execution_count": 80,
   "id": "fd59447f",
   "metadata": {},
   "outputs": [
    {
     "name": "stdout",
     "output_type": "stream",
     "text": [
      "{2, 3, 40, 10, 20}\n",
      "{1, 10, 20, 'a'}\n",
      "{1, 'a'}\n"
     ]
    }
   ],
   "source": [
    "s1 = {2,3,40,10,20}\n",
    "s2 = {10,20,1,'a'}\n",
    "s3 = s2.difference(s1)\n",
    "print(s1)\n",
    "print(s2)\n",
    "print(s3)"
   ]
  },
  {
   "cell_type": "markdown",
   "id": "2d16fe00",
   "metadata": {},
   "source": [
    "#### 12. difference_update()"
   ]
  },
  {
   "cell_type": "code",
   "execution_count": 83,
   "id": "10469e11",
   "metadata": {},
   "outputs": [
    {
     "name": "stdout",
     "output_type": "stream",
     "text": [
      "{2, 3, 40, 10, 20}\n",
      "{1, 'a'}\n"
     ]
    }
   ],
   "source": [
    "s1 = {2,3,40,10,20}\n",
    "s2 = {10,20,1,'a'}\n",
    "s2.difference_update(s1)\n",
    "print(s1)\n",
    "print(s2)"
   ]
  },
  {
   "cell_type": "markdown",
   "id": "875bc334",
   "metadata": {},
   "source": [
    "#### 13. symmetric_difference"
   ]
  },
  {
   "cell_type": "code",
   "execution_count": 85,
   "id": "de5fabdf",
   "metadata": {},
   "outputs": [
    {
     "name": "stdout",
     "output_type": "stream",
     "text": [
      "{2, 3, 40, 10, 20}\n",
      "{1, 10, 20, 'a'}\n"
     ]
    }
   ],
   "source": [
    "s1 = {2,3,40,10,20}\n",
    "s2 = {10,20,1,'a'}\n",
    "s2.symmetric_difference(s1)\n",
    "print(s1)\n",
    "print(s2)"
   ]
  },
  {
   "cell_type": "code",
   "execution_count": 86,
   "id": "a7550a8c",
   "metadata": {},
   "outputs": [
    {
     "name": "stdout",
     "output_type": "stream",
     "text": [
      "{2, 3, 40, 10, 20}\n",
      "{1, 10, 20, 'a'}\n",
      "{1, 2, 3, 'a', 40}\n"
     ]
    }
   ],
   "source": [
    "s1 = {2,3,40,10,20}\n",
    "s2 = {10,20,1,'a'}\n",
    "s3 = s2.symmetric_difference(s1)\n",
    "print(s1)\n",
    "print(s2)\n",
    "print(s3)"
   ]
  },
  {
   "cell_type": "code",
   "execution_count": 87,
   "id": "b93b201c",
   "metadata": {},
   "outputs": [
    {
     "name": "stdout",
     "output_type": "stream",
     "text": [
      "{'Nagpur', 'Chennai', 'Pune', 'Mumbai'}\n",
      "{'Bangalore', 'Kolkata', 'Pune', 'Mumbai'}\n",
      "{'Nagpur', 'Kolkata', 'Bangalore', 'Chennai'}\n"
     ]
    }
   ],
   "source": [
    "city1 = {'Pune' ,'Mumbai', \"Nagpur\",'Chennai'}\n",
    "city2 = {'Pune','Kolkata', 'Bangalore','Mumbai'}\n",
    "city3 = city1.symmetric_difference(city2)\n",
    "print(city1)\n",
    "print(city2)\n",
    "print(city3)"
   ]
  },
  {
   "cell_type": "markdown",
   "id": "bd275d10",
   "metadata": {},
   "source": [
    "#### 14. symmetric_difference_update"
   ]
  },
  {
   "cell_type": "code",
   "execution_count": 90,
   "id": "552f5e23",
   "metadata": {},
   "outputs": [
    {
     "name": "stdout",
     "output_type": "stream",
     "text": [
      "{2, 3, 40, 10, 20}\n",
      "{1, 2, 3, 40, 'a'}\n"
     ]
    }
   ],
   "source": [
    "s1 = {2,3,40,10,20}\n",
    "s2 = {10,20,1,'a'}\n",
    "s2.symmetric_difference_update(s1)\n",
    "print(s1)\n",
    "print(s2)\n"
   ]
  },
  {
   "cell_type": "markdown",
   "id": "20a291d9",
   "metadata": {},
   "source": [
    "#### 15. issubset()"
   ]
  },
  {
   "cell_type": "code",
   "execution_count": 92,
   "id": "c3bd27ec",
   "metadata": {},
   "outputs": [
    {
     "data": {
      "text/plain": [
       "True"
      ]
     },
     "execution_count": 92,
     "metadata": {},
     "output_type": "execute_result"
    }
   ],
   "source": [
    "set1 = {2,3,4,5,6,10,20,'python','data'}\n",
    "set2 = {2,3,4,'python'}\n",
    "set2.issubset(set1)"
   ]
  },
  {
   "cell_type": "code",
   "execution_count": 93,
   "id": "7da36b6a",
   "metadata": {},
   "outputs": [
    {
     "data": {
      "text/plain": [
       "False"
      ]
     },
     "execution_count": 93,
     "metadata": {},
     "output_type": "execute_result"
    }
   ],
   "source": [
    "set1 = {2,3,4,5,6,10,20,'python','data'}\n",
    "set2 = {2,3,4,'python'}\n",
    "set1.issubset(set2)"
   ]
  },
  {
   "cell_type": "code",
   "execution_count": 94,
   "id": "57692804",
   "metadata": {},
   "outputs": [
    {
     "data": {
      "text/plain": [
       "False"
      ]
     },
     "execution_count": 94,
     "metadata": {},
     "output_type": "execute_result"
    }
   ],
   "source": [
    "set1 = {2,3,4,5,6,10,20,'python','data'}\n",
    "set2 = {2,3,4,'python',100}\n",
    "set2.issubset(set1)"
   ]
  },
  {
   "cell_type": "code",
   "execution_count": 95,
   "id": "d3224bed",
   "metadata": {},
   "outputs": [
    {
     "data": {
      "text/plain": [
       "True"
      ]
     },
     "execution_count": 95,
     "metadata": {},
     "output_type": "execute_result"
    }
   ],
   "source": [
    "set1 = {2,3,4}\n",
    "set2 = {2,3,4}\n",
    "set2.issubset(set1)"
   ]
  },
  {
   "cell_type": "markdown",
   "id": "e43f38d7",
   "metadata": {},
   "source": [
    "#### 16. issuperset()"
   ]
  },
  {
   "cell_type": "code",
   "execution_count": 96,
   "id": "279a0aea",
   "metadata": {},
   "outputs": [
    {
     "data": {
      "text/plain": [
       "False"
      ]
     },
     "execution_count": 96,
     "metadata": {},
     "output_type": "execute_result"
    }
   ],
   "source": [
    "set1 = {2,3,4,5,6,10,20,'python','data'}\n",
    "set2 = {2,3,4,'python'}\n",
    "set2.issuperset(set1)"
   ]
  },
  {
   "cell_type": "code",
   "execution_count": 97,
   "id": "5c9e6d36",
   "metadata": {},
   "outputs": [
    {
     "data": {
      "text/plain": [
       "True"
      ]
     },
     "execution_count": 97,
     "metadata": {},
     "output_type": "execute_result"
    }
   ],
   "source": [
    "set1 = {2,3,4,5,6,10,20,'python','data'}\n",
    "set2 = {2,3,4,'python'}\n",
    "set1.issuperset(set2)"
   ]
  },
  {
   "cell_type": "markdown",
   "id": "5886efc5",
   "metadata": {},
   "source": [
    "#### 17. isdisjoint()"
   ]
  },
  {
   "cell_type": "code",
   "execution_count": null,
   "id": "d5986635",
   "metadata": {},
   "outputs": [],
   "source": [
    "True >> no common items in two sets\n",
    "False >> if two sets have common items"
   ]
  },
  {
   "cell_type": "code",
   "execution_count": 98,
   "id": "7477463b",
   "metadata": {},
   "outputs": [
    {
     "data": {
      "text/plain": [
       "False"
      ]
     },
     "execution_count": 98,
     "metadata": {},
     "output_type": "execute_result"
    }
   ],
   "source": [
    "s1 = {2,3,40,10,20}\n",
    "s2 = {10,20,1,'a'}\n",
    "s2.isdisjoint(s1)"
   ]
  },
  {
   "cell_type": "code",
   "execution_count": 99,
   "id": "032f95da",
   "metadata": {},
   "outputs": [
    {
     "data": {
      "text/plain": [
       "False"
      ]
     },
     "execution_count": 99,
     "metadata": {},
     "output_type": "execute_result"
    }
   ],
   "source": [
    "s1 = {2,3,40,10,20}\n",
    "s2 = {10,20,1,'a'}\n",
    "s1.isdisjoint(s2)"
   ]
  },
  {
   "cell_type": "code",
   "execution_count": 100,
   "id": "63d233a6",
   "metadata": {},
   "outputs": [
    {
     "data": {
      "text/plain": [
       "True"
      ]
     },
     "execution_count": 100,
     "metadata": {},
     "output_type": "execute_result"
    }
   ],
   "source": [
    "s1 = {2,3,40,10,20}\n",
    "s2 = {1,'a'}\n",
    "s2.isdisjoint(s1)"
   ]
  },
  {
   "cell_type": "code",
   "execution_count": 101,
   "id": "a982a117",
   "metadata": {},
   "outputs": [
    {
     "data": {
      "text/plain": [
       "2"
      ]
     },
     "execution_count": 101,
     "metadata": {},
     "output_type": "execute_result"
    }
   ],
   "source": [
    "s1 = {2,3,4,10,20}\n",
    "min(s1)"
   ]
  },
  {
   "cell_type": "code",
   "execution_count": 102,
   "id": "f7fe85e6",
   "metadata": {},
   "outputs": [
    {
     "data": {
      "text/plain": [
       "20"
      ]
     },
     "execution_count": 102,
     "metadata": {},
     "output_type": "execute_result"
    }
   ],
   "source": [
    "s1 = {2,3,4,10,20}\n",
    "max(s1)"
   ]
  },
  {
   "cell_type": "code",
   "execution_count": 103,
   "id": "6ca2c564",
   "metadata": {},
   "outputs": [
    {
     "data": {
      "text/plain": [
       "5"
      ]
     },
     "execution_count": 103,
     "metadata": {},
     "output_type": "execute_result"
    }
   ],
   "source": [
    "s1 = {2,3,4,10,20}\n",
    "len(s1)"
   ]
  },
  {
   "cell_type": "code",
   "execution_count": 104,
   "id": "4adb6dfb",
   "metadata": {},
   "outputs": [
    {
     "data": {
      "text/plain": [
       "39"
      ]
     },
     "execution_count": 104,
     "metadata": {},
     "output_type": "execute_result"
    }
   ],
   "source": [
    "s1 = {2,3,4,10,20}\n",
    "sum(s1)"
   ]
  },
  {
   "cell_type": "code",
   "execution_count": null,
   "id": "45574cb3",
   "metadata": {},
   "outputs": [],
   "source": []
  }
 ],
 "metadata": {
  "kernelspec": {
   "display_name": "Python 3",
   "language": "python",
   "name": "python3"
  },
  "language_info": {
   "codemirror_mode": {
    "name": "ipython",
    "version": 3
   },
   "file_extension": ".py",
   "mimetype": "text/x-python",
   "name": "python",
   "nbconvert_exporter": "python",
   "pygments_lexer": "ipython3",
   "version": "3.8.8"
  }
 },
 "nbformat": 4,
 "nbformat_minor": 5
}
