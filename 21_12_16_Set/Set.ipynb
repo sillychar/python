{
 "cells": [
  {
   "cell_type": "markdown",
   "id": "d8578ed6",
   "metadata": {},
   "source": [
    "## Set"
   ]
  },
  {
   "cell_type": "markdown",
   "id": "5fe76acc",
   "metadata": {},
   "source": [
    "string : Ordered, Immutable, Duplicates are allowed  \n",
    "List : Ordered , Mutable, Duplicates are allowed  \n",
    "Tuple: Ordered, Immuatble, Duplicates are allowed  \n",
    "Set : Unorderd, Mutable, Duplicates are not allowed  "
   ]
  },
  {
   "cell_type": "code",
   "execution_count": 1,
   "id": "e851800d",
   "metadata": {
    "collapsed": true
   },
   "outputs": [
    {
     "ename": "SyntaxError",
     "evalue": "invalid syntax (Temp/ipykernel_7312/3629128697.py, line 1)",
     "output_type": "error",
     "traceback": [
      "\u001b[1;36m  File \u001b[1;32m\"C:\\Users\\manoj\\AppData\\Local\\Temp/ipykernel_7312/3629128697.py\"\u001b[1;36m, line \u001b[1;32m1\u001b[0m\n\u001b[1;33m    Set:Unorderd, Mutable, Duplicates are not allowed\u001b[0m\n\u001b[1;37m                ^\u001b[0m\n\u001b[1;31mSyntaxError\u001b[0m\u001b[1;31m:\u001b[0m invalid syntax\n"
     ]
    }
   ],
   "source": [
    "Set:Unorderd, Mutable, Duplicates are not allowed\n",
    "    We can only add immutable items\n",
    "    \n",
    "Mutable: list, set , dict\n",
    "Immutable: int, float, tuple, bool, str\n",
    "    \n",
    "Enclosed by {}"
   ]
  },
  {
   "cell_type": "code",
   "execution_count": null,
   "id": "7ad0e785",
   "metadata": {},
   "outputs": [],
   "source": [
    "str =' '\n",
    "list= []\n",
    "tuple=()\n",
    "set= set()\n",
    "dict={}"
   ]
  },
  {
   "cell_type": "code",
   "execution_count": 1,
   "id": "77069295",
   "metadata": {},
   "outputs": [
    {
     "data": {
      "text/plain": [
       "dict"
      ]
     },
     "execution_count": 1,
     "metadata": {},
     "output_type": "execute_result"
    }
   ],
   "source": [
    "a={}\n",
    "type(a)"
   ]
  },
  {
   "cell_type": "code",
   "execution_count": 3,
   "id": "b24bd0d6",
   "metadata": {},
   "outputs": [
    {
     "data": {
      "text/plain": [
       "set"
      ]
     },
     "execution_count": 3,
     "metadata": {},
     "output_type": "execute_result"
    }
   ],
   "source": [
    "var=set()\n",
    "type(var)"
   ]
  },
  {
   "cell_type": "code",
   "execution_count": 6,
   "id": "2f39a4d3",
   "metadata": {},
   "outputs": [
    {
     "data": {
      "text/plain": [
       "set()"
      ]
     },
     "execution_count": 6,
     "metadata": {},
     "output_type": "execute_result"
    }
   ],
   "source": [
    "var"
   ]
  },
  {
   "cell_type": "code",
   "execution_count": 5,
   "id": "f366b4ea",
   "metadata": {},
   "outputs": [
    {
     "name": "stdout",
     "output_type": "stream",
     "text": [
      "{2, 3, 4, 5, 6, 7}\n"
     ]
    },
    {
     "data": {
      "text/plain": [
       "set"
      ]
     },
     "execution_count": 5,
     "metadata": {},
     "output_type": "execute_result"
    }
   ],
   "source": [
    "s1 = {2,3,4,5,4,5,6,3,7}\n",
    "print(s1) # duplicates are not allowed\n",
    "type(s1)"
   ]
  },
  {
   "cell_type": "code",
   "execution_count": 7,
   "id": "fcc1492f",
   "metadata": {},
   "outputs": [
    {
     "name": "stdout",
     "output_type": "stream",
     "text": [
      "{2, 3, 4, 4.4, 'python', 7, 8, 'a'}\n"
     ]
    }
   ],
   "source": [
    "s1 = {2,3,4,4.4,'a','python',3,2,4,7,8}\n",
    "print(s1)"
   ]
  },
  {
   "cell_type": "code",
   "execution_count": 8,
   "id": "17ad4dfc",
   "metadata": {},
   "outputs": [
    {
     "ename": "TypeError",
     "evalue": "'set' object is not subscriptable",
     "output_type": "error",
     "traceback": [
      "\u001b[1;31m---------------------------------------------------------------------------\u001b[0m",
      "\u001b[1;31mTypeError\u001b[0m                                 Traceback (most recent call last)",
      "\u001b[1;32m<ipython-input-8-bfed54b371ac>\u001b[0m in \u001b[0;36m<module>\u001b[1;34m\u001b[0m\n\u001b[1;32m----> 1\u001b[1;33m \u001b[0ms1\u001b[0m\u001b[1;33m[\u001b[0m\u001b[1;36m0\u001b[0m\u001b[1;33m]\u001b[0m\u001b[1;33m\u001b[0m\u001b[1;33m\u001b[0m\u001b[0m\n\u001b[0m",
      "\u001b[1;31mTypeError\u001b[0m: 'set' object is not subscriptable"
     ]
    }
   ],
   "source": [
    "s1[0]"
   ]
  },
  {
   "cell_type": "code",
   "execution_count": 9,
   "id": "65ff9d2c",
   "metadata": {},
   "outputs": [
    {
     "ename": "TypeError",
     "evalue": "'set' object is not subscriptable",
     "output_type": "error",
     "traceback": [
      "\u001b[1;31m---------------------------------------------------------------------------\u001b[0m",
      "\u001b[1;31mTypeError\u001b[0m                                 Traceback (most recent call last)",
      "\u001b[1;32m<ipython-input-9-9ebf5f496e74>\u001b[0m in \u001b[0;36m<module>\u001b[1;34m\u001b[0m\n\u001b[1;32m----> 1\u001b[1;33m \u001b[0ms1\u001b[0m\u001b[1;33m[\u001b[0m\u001b[1;33m:\u001b[0m\u001b[1;36m3\u001b[0m\u001b[1;33m]\u001b[0m\u001b[1;33m\u001b[0m\u001b[1;33m\u001b[0m\u001b[0m\n\u001b[0m",
      "\u001b[1;31mTypeError\u001b[0m: 'set' object is not subscriptable"
     ]
    }
   ],
   "source": [
    "s1[:3]"
   ]
  },
  {
   "cell_type": "code",
   "execution_count": 11,
   "id": "f6bcfa78",
   "metadata": {},
   "outputs": [
    {
     "data": {
      "text/plain": [
       "{(3+4j), 1, 2.2, 'a'}"
      ]
     },
     "execution_count": 11,
     "metadata": {},
     "output_type": "execute_result"
    }
   ],
   "source": [
    "set1= {1,2.2,3+4j,'a'}\n",
    "set1"
   ]
  },
  {
   "cell_type": "code",
   "execution_count": 12,
   "id": "a7cd3eac",
   "metadata": {},
   "outputs": [
    {
     "ename": "TypeError",
     "evalue": "unhashable type: 'list'",
     "output_type": "error",
     "traceback": [
      "\u001b[1;31m---------------------------------------------------------------------------\u001b[0m",
      "\u001b[1;31mTypeError\u001b[0m                                 Traceback (most recent call last)",
      "\u001b[1;32m<ipython-input-12-c1c2c46ca1fc>\u001b[0m in \u001b[0;36m<module>\u001b[1;34m\u001b[0m\n\u001b[1;32m----> 1\u001b[1;33m \u001b[0mset1\u001b[0m\u001b[1;33m=\u001b[0m \u001b[1;33m{\u001b[0m\u001b[1;36m1\u001b[0m\u001b[1;33m,\u001b[0m\u001b[1;36m2.2\u001b[0m\u001b[1;33m,\u001b[0m\u001b[1;36m3\u001b[0m\u001b[1;33m+\u001b[0m\u001b[1;36m4j\u001b[0m\u001b[1;33m,\u001b[0m\u001b[1;34m'a'\u001b[0m\u001b[1;33m,\u001b[0m\u001b[1;33m[\u001b[0m\u001b[1;36m2\u001b[0m\u001b[1;33m,\u001b[0m\u001b[1;36m3\u001b[0m\u001b[1;33m,\u001b[0m\u001b[1;36m4\u001b[0m\u001b[1;33m]\u001b[0m\u001b[1;33m}\u001b[0m\u001b[1;33m\u001b[0m\u001b[1;33m\u001b[0m\u001b[0m\n\u001b[0m\u001b[0;32m      2\u001b[0m \u001b[0mset1\u001b[0m\u001b[1;33m\u001b[0m\u001b[1;33m\u001b[0m\u001b[0m\n",
      "\u001b[1;31mTypeError\u001b[0m: unhashable type: 'list'"
     ]
    }
   ],
   "source": [
    "set1= {1,2.2,3+4j,'a',[2,3,4]}\n",
    "set1"
   ]
  },
  {
   "cell_type": "code",
   "execution_count": 13,
   "id": "8aa0de47",
   "metadata": {},
   "outputs": [
    {
     "ename": "TypeError",
     "evalue": "unhashable type: 'set'",
     "output_type": "error",
     "traceback": [
      "\u001b[1;31m---------------------------------------------------------------------------\u001b[0m",
      "\u001b[1;31mTypeError\u001b[0m                                 Traceback (most recent call last)",
      "\u001b[1;32m<ipython-input-13-a6151fe0f8dd>\u001b[0m in \u001b[0;36m<module>\u001b[1;34m\u001b[0m\n\u001b[1;32m----> 1\u001b[1;33m \u001b[0mset1\u001b[0m\u001b[1;33m=\u001b[0m \u001b[1;33m{\u001b[0m\u001b[1;36m1\u001b[0m\u001b[1;33m,\u001b[0m\u001b[1;36m2.2\u001b[0m\u001b[1;33m,\u001b[0m\u001b[1;36m3\u001b[0m\u001b[1;33m+\u001b[0m\u001b[1;36m4j\u001b[0m\u001b[1;33m,\u001b[0m\u001b[1;34m'a'\u001b[0m\u001b[1;33m,\u001b[0m\u001b[1;33m{\u001b[0m\u001b[1;36m2\u001b[0m\u001b[1;33m,\u001b[0m\u001b[1;36m3\u001b[0m\u001b[1;33m,\u001b[0m\u001b[1;36m4\u001b[0m\u001b[1;33m}\u001b[0m\u001b[1;33m}\u001b[0m\u001b[1;33m\u001b[0m\u001b[1;33m\u001b[0m\u001b[0m\n\u001b[0m\u001b[0;32m      2\u001b[0m \u001b[0mset1\u001b[0m\u001b[1;33m\u001b[0m\u001b[1;33m\u001b[0m\u001b[0m\n",
      "\u001b[1;31mTypeError\u001b[0m: unhashable type: 'set'"
     ]
    }
   ],
   "source": [
    "set1= {1,2.2,3+4j,'a',{2,3,4}}\n",
    "set1"
   ]
  },
  {
   "cell_type": "code",
   "execution_count": 14,
   "id": "3d7f4621",
   "metadata": {},
   "outputs": [
    {
     "data": {
      "text/plain": [
       "{(2, 3, 4), (3+4j), 1, 2.2, 'a'}"
      ]
     },
     "execution_count": 14,
     "metadata": {},
     "output_type": "execute_result"
    }
   ],
   "source": [
    "set1= {1,2.2,3+4j,'a',(2,3,4)}\n",
    "set1"
   ]
  },
  {
   "cell_type": "code",
   "execution_count": 15,
   "id": "c88e6075",
   "metadata": {},
   "outputs": [
    {
     "ename": "TypeError",
     "evalue": "unhashable type: 'dict'",
     "output_type": "error",
     "traceback": [
      "\u001b[1;31m---------------------------------------------------------------------------\u001b[0m",
      "\u001b[1;31mTypeError\u001b[0m                                 Traceback (most recent call last)",
      "\u001b[1;32m<ipython-input-15-5b13c3b07dfe>\u001b[0m in \u001b[0;36m<module>\u001b[1;34m\u001b[0m\n\u001b[1;32m----> 1\u001b[1;33m \u001b[0mset1\u001b[0m\u001b[1;33m=\u001b[0m \u001b[1;33m{\u001b[0m\u001b[1;36m1\u001b[0m\u001b[1;33m,\u001b[0m\u001b[1;36m2.2\u001b[0m\u001b[1;33m,\u001b[0m\u001b[1;36m3\u001b[0m\u001b[1;33m+\u001b[0m\u001b[1;36m4j\u001b[0m\u001b[1;33m,\u001b[0m\u001b[1;34m'a'\u001b[0m\u001b[1;33m,\u001b[0m\u001b[1;33m{\u001b[0m\u001b[1;34m'a'\u001b[0m\u001b[1;33m:\u001b[0m\u001b[1;36m1\u001b[0m\u001b[1;33m,\u001b[0m\u001b[1;34m'b'\u001b[0m\u001b[1;33m:\u001b[0m\u001b[1;36m3\u001b[0m\u001b[1;33m}\u001b[0m\u001b[1;33m}\u001b[0m\u001b[1;33m\u001b[0m\u001b[1;33m\u001b[0m\u001b[0m\n\u001b[0m\u001b[0;32m      2\u001b[0m \u001b[0mset1\u001b[0m\u001b[1;33m\u001b[0m\u001b[1;33m\u001b[0m\u001b[0m\n",
      "\u001b[1;31mTypeError\u001b[0m: unhashable type: 'dict'"
     ]
    }
   ],
   "source": [
    "set1= {1,2.2,3+4j,'a',{'a':1,'b':3}}\n",
    "set1 "
   ]
  },
  {
   "cell_type": "code",
   "execution_count": 20,
   "id": "9380e3a4",
   "metadata": {},
   "outputs": [
    {
     "data": {
      "text/plain": [
       "{(3+4j), 0, 1, 2.2, 'a'}"
      ]
     },
     "execution_count": 20,
     "metadata": {},
     "output_type": "execute_result"
    }
   ],
   "source": [
    "set1= {1,2.2,0,3+4j,'a',True, False,0}\n",
    "set1"
   ]
  },
  {
   "cell_type": "code",
   "execution_count": 17,
   "id": "8f28bff7",
   "metadata": {},
   "outputs": [
    {
     "data": {
      "text/plain": [
       "{False, True}"
      ]
     },
     "execution_count": 17,
     "metadata": {},
     "output_type": "execute_result"
    }
   ],
   "source": [
    "set1= {True, False}\n",
    "set1"
   ]
  },
  {
   "cell_type": "code",
   "execution_count": 22,
   "id": "06452a25",
   "metadata": {},
   "outputs": [
    {
     "data": {
      "text/plain": [
       "{2, 3, 4, 5}"
      ]
     },
     "execution_count": 22,
     "metadata": {},
     "output_type": "execute_result"
    }
   ],
   "source": [
    "t1 =2,3,4,5\n",
    "t1\n",
    "set(t1)"
   ]
  },
  {
   "cell_type": "code",
   "execution_count": 23,
   "id": "a58c3ba5",
   "metadata": {},
   "outputs": [
    {
     "data": {
      "text/plain": [
       "{2, 3, 4, 5}"
      ]
     },
     "execution_count": 23,
     "metadata": {},
     "output_type": "execute_result"
    }
   ],
   "source": [
    "t1 =(2,3,4,5)\n",
    "s1=set(t1)\n",
    "s1"
   ]
  },
  {
   "cell_type": "code",
   "execution_count": 24,
   "id": "b9f10a43",
   "metadata": {},
   "outputs": [
    {
     "data": {
      "text/plain": [
       "{2, 3, 4, 5}"
      ]
     },
     "execution_count": 24,
     "metadata": {},
     "output_type": "execute_result"
    }
   ],
   "source": [
    "list1=[2,3,4,5]\n",
    "s2= set(list1)\n",
    "s2"
   ]
  },
  {
   "cell_type": "code",
   "execution_count": 25,
   "id": "74ae380f",
   "metadata": {},
   "outputs": [
    {
     "data": {
      "text/plain": [
       "[2, 3, 4, 5]"
      ]
     },
     "execution_count": 25,
     "metadata": {},
     "output_type": "execute_result"
    }
   ],
   "source": [
    "list(s2)"
   ]
  },
  {
   "cell_type": "code",
   "execution_count": 26,
   "id": "17e2fb85",
   "metadata": {},
   "outputs": [
    {
     "data": {
      "text/plain": [
       "[2, 3, 4, 5, '1000', 7, 10, '100']"
      ]
     },
     "execution_count": 26,
     "metadata": {},
     "output_type": "execute_result"
    }
   ],
   "source": [
    "list1= [2,3,4,5,'100','1000',3,4,5,10,7]\n",
    "new =list(set(list1))\n",
    "new"
   ]
  },
  {
   "cell_type": "code",
   "execution_count": 27,
   "id": "efd5debb",
   "metadata": {},
   "outputs": [
    {
     "data": {
      "text/plain": [
       "[2, 3, 4, 5, '1000', 7, 10, '100']"
      ]
     },
     "execution_count": 27,
     "metadata": {},
     "output_type": "execute_result"
    }
   ],
   "source": [
    "new"
   ]
  },
  {
   "cell_type": "markdown",
   "id": "dc342a68",
   "metadata": {},
   "source": [
    "### How to access set items"
   ]
  },
  {
   "cell_type": "code",
   "execution_count": 6,
   "id": "4bd8c6e2",
   "metadata": {},
   "outputs": [
    {
     "name": "stdout",
     "output_type": "stream",
     "text": [
      "{2, 3, 4, 6, 7, 'python', 'data', 'science', 600}\n",
      "2\n",
      "3\n",
      "4\n",
      "6\n",
      "7\n",
      "python\n",
      "data\n",
      "science\n",
      "600\n"
     ]
    }
   ],
   "source": [
    "set1 ={2,3,'python', 'data', 'science', 4,600,6,7}\n",
    "print(set1)\n",
    "\n",
    "for i in set1:\n",
    "    print(i)"
   ]
  },
  {
   "cell_type": "markdown",
   "id": "4b212673",
   "metadata": {},
   "source": [
    "## Set Functions"
   ]
  },
  {
   "cell_type": "markdown",
   "id": "c5f06221",
   "metadata": {},
   "source": [
    "### Delete items from set"
   ]
  },
  {
   "cell_type": "markdown",
   "id": "343fdb31",
   "metadata": {},
   "source": [
    "1. remove\n",
    "2. pop\n",
    "3. clear\n",
    "4. del\n",
    "5. discard"
   ]
  },
  {
   "cell_type": "markdown",
   "id": "744a9a7a",
   "metadata": {},
   "source": [
    "#### 1. remove"
   ]
  },
  {
   "cell_type": "markdown",
   "id": "bad6ba47",
   "metadata": {},
   "source": [
    "Error >> if item is not present in set"
   ]
  },
  {
   "cell_type": "code",
   "execution_count": 31,
   "id": "fcd47a01",
   "metadata": {},
   "outputs": [
    {
     "name": "stdout",
     "output_type": "stream",
     "text": [
      "{'data', 'science', 2, 3, 4, 'python', 6, 7}\n"
     ]
    }
   ],
   "source": [
    "set1 ={2,3,'python', 'data', 'science', 4,600,6,7} # len=9\n",
    "set1. remove(600)\n",
    "print(set1)"
   ]
  },
  {
   "cell_type": "code",
   "execution_count": 35,
   "id": "a082e7f1",
   "metadata": {},
   "outputs": [
    {
     "name": "stdout",
     "output_type": "stream",
     "text": [
      "{'science', 2, 3, 4, 'python', 6, 7, 600}\n"
     ]
    }
   ],
   "source": [
    "set1 ={2,3,'python', 'data', 'science', 4,600,6,7} # len=9\n",
    "set1.remove('data')\n",
    "print(set1)"
   ]
  },
  {
   "cell_type": "code",
   "execution_count": 36,
   "id": "9a9ffa80",
   "metadata": {},
   "outputs": [
    {
     "ename": "KeyError",
     "evalue": "100",
     "output_type": "error",
     "traceback": [
      "\u001b[1;31m---------------------------------------------------------------------------\u001b[0m",
      "\u001b[1;31mKeyError\u001b[0m                                  Traceback (most recent call last)",
      "\u001b[1;32m<ipython-input-36-9cd281432ce5>\u001b[0m in \u001b[0;36m<module>\u001b[1;34m\u001b[0m\n\u001b[0;32m      1\u001b[0m \u001b[0mset1\u001b[0m \u001b[1;33m=\u001b[0m\u001b[1;33m{\u001b[0m\u001b[1;36m2\u001b[0m\u001b[1;33m,\u001b[0m\u001b[1;36m3\u001b[0m\u001b[1;33m,\u001b[0m\u001b[1;34m'python'\u001b[0m\u001b[1;33m,\u001b[0m \u001b[1;34m'data'\u001b[0m\u001b[1;33m,\u001b[0m \u001b[1;34m'science'\u001b[0m\u001b[1;33m,\u001b[0m \u001b[1;36m4\u001b[0m\u001b[1;33m,\u001b[0m\u001b[1;36m600\u001b[0m\u001b[1;33m,\u001b[0m\u001b[1;36m6\u001b[0m\u001b[1;33m,\u001b[0m\u001b[1;36m7\u001b[0m\u001b[1;33m}\u001b[0m \u001b[1;31m# len=9\u001b[0m\u001b[1;33m\u001b[0m\u001b[1;33m\u001b[0m\u001b[0m\n\u001b[1;32m----> 2\u001b[1;33m \u001b[0mset1\u001b[0m\u001b[1;33m.\u001b[0m\u001b[0mremove\u001b[0m\u001b[1;33m(\u001b[0m\u001b[1;36m100\u001b[0m\u001b[1;33m)\u001b[0m\u001b[1;33m\u001b[0m\u001b[1;33m\u001b[0m\u001b[0m\n\u001b[0m\u001b[0;32m      3\u001b[0m \u001b[0mprint\u001b[0m\u001b[1;33m(\u001b[0m\u001b[0mset1\u001b[0m\u001b[1;33m)\u001b[0m\u001b[1;33m\u001b[0m\u001b[1;33m\u001b[0m\u001b[0m\n",
      "\u001b[1;31mKeyError\u001b[0m: 100"
     ]
    }
   ],
   "source": [
    "set1 ={2,3,'python', 'data', 'science', 4,600,6,7} # len=9\n",
    "set1.remove(100)\n",
    "print(set1)"
   ]
  },
  {
   "cell_type": "markdown",
   "id": "689c2608",
   "metadata": {},
   "source": [
    "#### 2. discard()"
   ]
  },
  {
   "cell_type": "markdown",
   "id": "2dbda38b",
   "metadata": {},
   "source": [
    "if element is not present it wont give any error"
   ]
  },
  {
   "cell_type": "code",
   "execution_count": 37,
   "id": "627836dd",
   "metadata": {},
   "outputs": [
    {
     "name": "stdout",
     "output_type": "stream",
     "text": [
      "{'science', 2, 3, 4, 'python', 6, 7, 600}\n"
     ]
    }
   ],
   "source": [
    "set1 ={2,3,'python', 'data', 'science', 4,600,6,7} # len=9\n",
    "set1.discard('data')\n",
    "print(set1)"
   ]
  },
  {
   "cell_type": "code",
   "execution_count": 42,
   "id": "d3e32fe7",
   "metadata": {},
   "outputs": [
    {
     "name": "stdout",
     "output_type": "stream",
     "text": [
      "{'data', 'science', 2, 3, 4, 'python', 6, 7}\n"
     ]
    }
   ],
   "source": [
    "set1 ={2,3,'python', 'data', 'science', 4,600,6,7} # len=9\n",
    "set1.discard(600)\n",
    "print(set1)"
   ]
  },
  {
   "cell_type": "code",
   "execution_count": 5,
   "id": "b913d061",
   "metadata": {},
   "outputs": [
    {
     "name": "stdout",
     "output_type": "stream",
     "text": [
      "{2, 3, 4, 'python', 6, 7, 'data', 'science', 600}\n"
     ]
    }
   ],
   "source": [
    "set1 ={2,3,'python', 'data', 'science', 4,600,6,7} # len=9\n",
    "set1.discard(100)\n",
    "print(set1)"
   ]
  },
  {
   "cell_type": "markdown",
   "id": "3dc2fedf",
   "metadata": {},
   "source": [
    "#### 3. pop()"
   ]
  },
  {
   "cell_type": "markdown",
   "id": "a701b115",
   "metadata": {},
   "source": [
    "It will delete random item from set"
   ]
  },
  {
   "cell_type": "code",
   "execution_count": 5,
   "id": "4fa85ac1",
   "metadata": {},
   "outputs": [
    {
     "name": "stdout",
     "output_type": "stream",
     "text": [
      "2\n"
     ]
    }
   ],
   "source": [
    "set1 ={2,3,'python', 'data', 'science', 4,600,6,7} # len=9\n",
    "s=set1.pop()\n",
    "print(s)"
   ]
  },
  {
   "cell_type": "code",
   "execution_count": 46,
   "id": "fa6c711f",
   "metadata": {},
   "outputs": [
    {
     "name": "stdout",
     "output_type": "stream",
     "text": [
      "{2, 3, 4, 'python', 6, 7, 600}\n"
     ]
    }
   ],
   "source": [
    "set1.pop()\n",
    "print(set1)"
   ]
  },
  {
   "cell_type": "markdown",
   "id": "d19d0ce9",
   "metadata": {},
   "source": [
    "#### 4. clear()"
   ]
  },
  {
   "cell_type": "code",
   "execution_count": 47,
   "id": "c999e209",
   "metadata": {},
   "outputs": [
    {
     "name": "stdout",
     "output_type": "stream",
     "text": [
      "set()\n"
     ]
    }
   ],
   "source": [
    "set1 ={2,3,'python', 'data', 'science', 4,600,6,7} # len=9\n",
    "set1.clear()\n",
    "print(set1)"
   ]
  },
  {
   "cell_type": "markdown",
   "id": "ea746c90",
   "metadata": {},
   "source": [
    "#### 5. del"
   ]
  },
  {
   "cell_type": "code",
   "execution_count": 48,
   "id": "2985830d",
   "metadata": {},
   "outputs": [],
   "source": [
    "set1 ={2,3,'python', 'data', 'science', 4,600,6,7} # len=9\n",
    "del set1"
   ]
  },
  {
   "cell_type": "code",
   "execution_count": 49,
   "id": "aa5d6cc5",
   "metadata": {},
   "outputs": [
    {
     "ename": "NameError",
     "evalue": "name 'set1' is not defined",
     "output_type": "error",
     "traceback": [
      "\u001b[1;31m---------------------------------------------------------------------------\u001b[0m",
      "\u001b[1;31mNameError\u001b[0m                                 Traceback (most recent call last)",
      "\u001b[1;32m<ipython-input-49-d18f5a84d934>\u001b[0m in \u001b[0;36m<module>\u001b[1;34m\u001b[0m\n\u001b[1;32m----> 1\u001b[1;33m \u001b[0mset1\u001b[0m\u001b[1;33m\u001b[0m\u001b[1;33m\u001b[0m\u001b[0m\n\u001b[0m",
      "\u001b[1;31mNameError\u001b[0m: name 'set1' is not defined"
     ]
    }
   ],
   "source": [
    "set1"
   ]
  },
  {
   "cell_type": "markdown",
   "id": "e06cac84",
   "metadata": {},
   "source": [
    "### Add items"
   ]
  },
  {
   "cell_type": "markdown",
   "id": "5ab58267",
   "metadata": {},
   "source": [
    "#### 6. add()"
   ]
  },
  {
   "cell_type": "code",
   "execution_count": 50,
   "id": "2e3e5c10",
   "metadata": {},
   "outputs": [
    {
     "data": {
      "text/plain": [
       "{100, 2, 3, 4, 6, 600, 7, 'data', 'python', 'science'}"
      ]
     },
     "execution_count": 50,
     "metadata": {},
     "output_type": "execute_result"
    }
   ],
   "source": [
    "set1 ={2,3,'python', 'data', 'science', 4,600,6,7} # len=9\n",
    "set1.add(100)\n",
    "set1"
   ]
  },
  {
   "cell_type": "code",
   "execution_count": 68,
   "id": "ef5356c4",
   "metadata": {},
   "outputs": [
    {
     "data": {
      "text/plain": [
       "{(10, 20), 2, 3, 4, 6, 600, 7, 'data', 'python', 'science'}"
      ]
     },
     "execution_count": 68,
     "metadata": {},
     "output_type": "execute_result"
    }
   ],
   "source": [
    "set1 ={2,3,'python', 'data', 'science', 4,600,6,7} # len=9\n",
    "set1.add((10,20))\n",
    "set1"
   ]
  },
  {
   "cell_type": "code",
   "execution_count": 51,
   "id": "88ac887c",
   "metadata": {},
   "outputs": [
    {
     "data": {
      "text/plain": [
       "{100, 1000, 2, 3, 4, 6, 600, 7, 'data', 'python', 'science'}"
      ]
     },
     "execution_count": 51,
     "metadata": {},
     "output_type": "execute_result"
    }
   ],
   "source": [
    "set1.add(1000)\n",
    "set1"
   ]
  },
  {
   "cell_type": "markdown",
   "id": "ff370e30",
   "metadata": {},
   "source": [
    "#### 7. update()"
   ]
  },
  {
   "cell_type": "code",
   "execution_count": 1,
   "id": "91142736",
   "metadata": {},
   "outputs": [
    {
     "name": "stdout",
     "output_type": "stream",
     "text": [
      "{1, 2, 3, 4, 6, 7, 'science', 10, 20, 'data', 600, 'a', 30, 'python'} 14\n"
     ]
    }
   ],
   "source": [
    "s1 = {2,3,'python', 'data', 'science', 4,600,6,7} # len=9\n",
    "s2 = {1,10,20,30,'a'}\n",
    "s1.update(s2)\n",
    "print(s1,len(s1))"
   ]
  },
  {
   "cell_type": "code",
   "execution_count": 54,
   "id": "f9a710b9",
   "metadata": {},
   "outputs": [
    {
     "name": "stdout",
     "output_type": "stream",
     "text": [
      "{'data', 'science', 2, 3, 4, 'python', 6, 7, 1, 10, 'a', 20, 600, 30} 14\n"
     ]
    }
   ],
   "source": [
    "s1 = {2,3,'python', 'data', 'science', 4,600,6,7} # len=9\n",
    "l2 = [1,10,20,30,'a']\n",
    "s1.update(l2)\n",
    "print(s1,len(s1))"
   ]
  },
  {
   "cell_type": "code",
   "execution_count": 6,
   "id": "ae60a2c5",
   "metadata": {},
   "outputs": [
    {
     "ename": "AttributeError",
     "evalue": "'list' object has no attribute 'update'",
     "output_type": "error",
     "traceback": [
      "\u001b[1;31m---------------------------------------------------------------------------\u001b[0m",
      "\u001b[1;31mAttributeError\u001b[0m                            Traceback (most recent call last)",
      "\u001b[1;32m~\\AppData\\Local\\Temp/ipykernel_7312/789411475.py\u001b[0m in \u001b[0;36m<module>\u001b[1;34m\u001b[0m\n\u001b[0;32m      1\u001b[0m \u001b[0ms1\u001b[0m \u001b[1;33m=\u001b[0m \u001b[1;33m{\u001b[0m\u001b[1;36m2\u001b[0m\u001b[1;33m,\u001b[0m\u001b[1;36m3\u001b[0m\u001b[1;33m,\u001b[0m\u001b[1;34m'python'\u001b[0m\u001b[1;33m,\u001b[0m \u001b[1;34m'data'\u001b[0m\u001b[1;33m,\u001b[0m \u001b[1;34m'science'\u001b[0m\u001b[1;33m,\u001b[0m \u001b[1;36m4\u001b[0m\u001b[1;33m,\u001b[0m\u001b[1;36m600\u001b[0m\u001b[1;33m,\u001b[0m\u001b[1;36m6\u001b[0m\u001b[1;33m,\u001b[0m\u001b[1;36m7\u001b[0m\u001b[1;33m}\u001b[0m \u001b[1;31m# len=9\u001b[0m\u001b[1;33m\u001b[0m\u001b[1;33m\u001b[0m\u001b[0m\n\u001b[0;32m      2\u001b[0m \u001b[0ml2\u001b[0m \u001b[1;33m=\u001b[0m \u001b[1;33m[\u001b[0m\u001b[1;36m1\u001b[0m\u001b[1;33m,\u001b[0m\u001b[1;36m10\u001b[0m\u001b[1;33m,\u001b[0m\u001b[1;36m20\u001b[0m\u001b[1;33m,\u001b[0m\u001b[1;36m30\u001b[0m\u001b[1;33m,\u001b[0m\u001b[1;34m'a'\u001b[0m\u001b[1;33m]\u001b[0m\u001b[1;33m\u001b[0m\u001b[1;33m\u001b[0m\u001b[0m\n\u001b[1;32m----> 3\u001b[1;33m \u001b[0ml2\u001b[0m\u001b[1;33m.\u001b[0m\u001b[0mupdate\u001b[0m\u001b[1;33m(\u001b[0m\u001b[0ms1\u001b[0m\u001b[1;33m)\u001b[0m\u001b[1;33m\u001b[0m\u001b[1;33m\u001b[0m\u001b[0m\n\u001b[0m\u001b[0;32m      4\u001b[0m \u001b[0mprint\u001b[0m\u001b[1;33m(\u001b[0m\u001b[0ms1\u001b[0m\u001b[1;33m,\u001b[0m\u001b[0mlen\u001b[0m\u001b[1;33m(\u001b[0m\u001b[0ms1\u001b[0m\u001b[1;33m)\u001b[0m\u001b[1;33m)\u001b[0m\u001b[1;33m\u001b[0m\u001b[1;33m\u001b[0m\u001b[0m\n",
      "\u001b[1;31mAttributeError\u001b[0m: 'list' object has no attribute 'update'"
     ]
    }
   ],
   "source": [
    "s1 = {2,3,'python', 'data', 'science', 4,600,6,7} # len=9\n",
    "l2 = [1,10,20,30,'a']\n",
    "l2.update(s1)\n",
    "print(s1,len(s1))"
   ]
  },
  {
   "cell_type": "code",
   "execution_count": 9,
   "id": "9d70d733",
   "metadata": {},
   "outputs": [
    {
     "name": "stdout",
     "output_type": "stream",
     "text": [
      "{1, 2, 3, 4, 67, 6, 7, 5, 777, 'data', 10, 11, 'science', 20, 22, 600, 30, 33, 'python', 999, 44, 'a'} 22\n"
     ]
    }
   ],
   "source": [
    "s1 = {2,3,'python', 'data', 'science', 4,600,6,7} # len=9\n",
    "s2 = {1,10,20,30,'a'}\n",
    "s3 = {11,22,33,44}\n",
    "s4 = {5,44,67,999,777}\n",
    "s1.update(s2,s3,s4)\n",
    "print(s1,len(s1))"
   ]
  },
  {
   "cell_type": "markdown",
   "id": "148783a0",
   "metadata": {},
   "source": [
    "#### 8. union"
   ]
  },
  {
   "cell_type": "code",
   "execution_count": 58,
   "id": "b9edc3fa",
   "metadata": {},
   "outputs": [
    {
     "data": {
      "text/plain": [
       "{1, 10, 2, 20, 3, 30, 4, 6, 600, 7, 'a', 'data', 'python', 'science'}"
      ]
     },
     "execution_count": 58,
     "metadata": {},
     "output_type": "execute_result"
    }
   ],
   "source": [
    "s1 = {2,3,'python', 'data', 'science', 4,600,6,7} # len=9\n",
    "s2 = {1,10,20,30,'a'}\n",
    "s1.union(s2)"
   ]
  },
  {
   "cell_type": "code",
   "execution_count": 59,
   "id": "3a0c07d1",
   "metadata": {
    "scrolled": true
   },
   "outputs": [
    {
     "name": "stdout",
     "output_type": "stream",
     "text": [
      "{'data', 'science', 2, 3, 4, 'python', 6, 7, 600} 9\n",
      "{1, 10, 'a', 20, 30} 5\n",
      "{'data', 'science', 2, 3, 4, 'python', 6, 7, 1, 10, 'a', 20, 600, 30} 14\n"
     ]
    }
   ],
   "source": [
    "s1 = {2,3,'python', 'data', 'science', 4,600,6,7} # len=9\n",
    "s2 = {1,10,20,30,'a'}\n",
    "s3= s1.union(s2)\n",
    "print(s1,len(s1))\n",
    "print(s2,len(s2))\n",
    "print(s3,len(s3))"
   ]
  },
  {
   "cell_type": "code",
   "execution_count": 61,
   "id": "c3c7a2b2",
   "metadata": {},
   "outputs": [
    {
     "name": "stdout",
     "output_type": "stream",
     "text": [
      "{1, 2, 3, 40, 10, 'a', 20}\n",
      "{1, 10, 20, 'a'}\n"
     ]
    }
   ],
   "source": [
    "s1 = {2,3,40,10,20}\n",
    "s2 = {10,20,1,'a'}\n",
    "s1.update(s2)\n",
    "print(s1)\n",
    "print(s2)"
   ]
  },
  {
   "cell_type": "code",
   "execution_count": 63,
   "id": "fad0846d",
   "metadata": {},
   "outputs": [
    {
     "name": "stdout",
     "output_type": "stream",
     "text": [
      "{2, 3, 40, 10, 20}\n",
      "{1, 2, 3, 40, 10, 'a', 20}\n"
     ]
    }
   ],
   "source": [
    "s1 = {2,3,40,10,20}\n",
    "s2 = {10,20,1,'a'}\n",
    "s2.update(s1)\n",
    "print(s1)\n",
    "print(s2)"
   ]
  },
  {
   "cell_type": "code",
   "execution_count": 64,
   "id": "f05739ae",
   "metadata": {},
   "outputs": [
    {
     "name": "stdout",
     "output_type": "stream",
     "text": [
      "{2, 3, 40, 10, 20}\n",
      "{1, 10, 20, 'a'}\n"
     ]
    }
   ],
   "source": [
    "s1 = {2,3,40,10,20}\n",
    "s2 = {10,20,1,'a'}\n",
    "s2.union(s1)\n",
    "print(s1)\n",
    "print(s2)"
   ]
  },
  {
   "cell_type": "code",
   "execution_count": 65,
   "id": "81054cce",
   "metadata": {},
   "outputs": [
    {
     "name": "stdout",
     "output_type": "stream",
     "text": [
      "{2, 3, 40, 10, 20}\n",
      "{1, 10, 20, 'a'}\n",
      "{1, 2, 3, 40, 10, 'a', 20}\n"
     ]
    }
   ],
   "source": [
    "s1 = {2,3,40,10,20}\n",
    "s2 = {10,20,1,'a'}\n",
    "s3 = s2.union(s1)\n",
    "print(s1)\n",
    "print(s2)\n",
    "print(s3)"
   ]
  },
  {
   "cell_type": "code",
   "execution_count": 105,
   "id": "d342217b",
   "metadata": {},
   "outputs": [
    {
     "data": {
      "text/plain": [
       "{1, 10, 2, 20, 3, 40, 'a'}"
      ]
     },
     "execution_count": 105,
     "metadata": {},
     "output_type": "execute_result"
    }
   ],
   "source": [
    "s1 = {2,3,40,10,20}\n",
    "l2 = [10,20,1,'a']\n",
    "s1.union(l2)\n",
    "# print(s1)\n",
    "# print(l2)"
   ]
  },
  {
   "cell_type": "code",
   "execution_count": 66,
   "id": "fa677fce",
   "metadata": {},
   "outputs": [
    {
     "name": "stdout",
     "output_type": "stream",
     "text": [
      "{1, 2, 3, 40, 10, 'a', 20}\n",
      "[10, 20, 1, 'a']\n"
     ]
    }
   ],
   "source": [
    "s1 = {2,3,40,10,20}\n",
    "l2 = [10,20,1,'a']\n",
    "s1.update(l2)\n",
    "print(s1)\n",
    "print(l2)"
   ]
  },
  {
   "cell_type": "code",
   "execution_count": 67,
   "id": "1eb236c0",
   "metadata": {},
   "outputs": [
    {
     "name": "stdout",
     "output_type": "stream",
     "text": [
      "{1, 2, 3, 40, 10, 'a', 20}\n",
      "(10, 20, 1, 'a')\n"
     ]
    }
   ],
   "source": [
    "s1 = {2,3,40,10,20}\n",
    "l2 = (10,20,1,'a')\n",
    "s1.update(l2)\n",
    "print(s1)\n",
    "print(l2)"
   ]
  },
  {
   "cell_type": "markdown",
   "id": "97ae3570",
   "metadata": {},
   "source": [
    "#### 9. intersection"
   ]
  },
  {
   "cell_type": "code",
   "execution_count": 71,
   "id": "a2ddabcf",
   "metadata": {},
   "outputs": [
    {
     "name": "stdout",
     "output_type": "stream",
     "text": [
      "{2, 3, 40, 10, 20}\n",
      "{1, 10, 20, 'a'}\n",
      "{10, 20}\n"
     ]
    }
   ],
   "source": [
    "s1 = {2,3,40,10,20}\n",
    "s2 = {10,20,1,'a'}\n",
    "s3 = s1.intersection(s2)\n",
    "print(s1)\n",
    "print(s2)\n",
    "print(s3)"
   ]
  },
  {
   "cell_type": "code",
   "execution_count": 72,
   "id": "045d7fef",
   "metadata": {},
   "outputs": [
    {
     "name": "stdout",
     "output_type": "stream",
     "text": [
      "{'Nagpur', 'Chennai', 'Pune', 'Mumbai'}\n",
      "{'Bangalore', 'Kolkata', 'Pune', 'Mumbai'}\n",
      "{'Pune', 'Mumbai'}\n"
     ]
    }
   ],
   "source": [
    "city1 = {'Pune' ,'Mumbai', \"Nagpur\",'Chennai'}\n",
    "city2 = {'Pune','Kolkata', 'Bangalore','Mumbai'}\n",
    "city3 = city1.intersection(city2)\n",
    "print(city1)\n",
    "print(city2)\n",
    "print(city3)"
   ]
  },
  {
   "cell_type": "markdown",
   "id": "2b0de068",
   "metadata": {},
   "source": [
    "#### 10.intersection_update"
   ]
  },
  {
   "cell_type": "code",
   "execution_count": 75,
   "id": "7bfb9a5c",
   "metadata": {},
   "outputs": [
    {
     "name": "stdout",
     "output_type": "stream",
     "text": [
      "{10, 20}\n",
      "{1, 10, 20, 'a'}\n"
     ]
    }
   ],
   "source": [
    "s1 = {2,3,40,10,20}\n",
    "s2 = {10,20,1,'a'}\n",
    "s1.intersection_update(s2)\n",
    "print(s1)\n",
    "print(s2)"
   ]
  },
  {
   "cell_type": "code",
   "execution_count": 76,
   "id": "c9a6974a",
   "metadata": {},
   "outputs": [
    {
     "name": "stdout",
     "output_type": "stream",
     "text": [
      "{'Pune', 'Mumbai'}\n",
      "{'Bangalore', 'Kolkata', 'Pune', 'Mumbai'}\n"
     ]
    }
   ],
   "source": [
    "city1 = {'Pune' ,'Mumbai', \"Nagpur\",'Chennai'}\n",
    "city2 = {'Pune','Kolkata', 'Bangalore','Mumbai'}\n",
    "city1.intersection_update(city2)\n",
    "print(city1)\n",
    "print(city2)"
   ]
  },
  {
   "cell_type": "markdown",
   "id": "15c07ad8",
   "metadata": {},
   "source": [
    "### 11. difference()"
   ]
  },
  {
   "cell_type": "code",
   "execution_count": 78,
   "id": "fe16bd16",
   "metadata": {},
   "outputs": [
    {
     "name": "stdout",
     "output_type": "stream",
     "text": [
      "{2, 3, 40, 10, 20}\n",
      "{1, 10, 20, 'a'}\n"
     ]
    }
   ],
   "source": [
    "s1 = {2,3,40,10,20}\n",
    "s2 = {10,20,1,'a'}\n",
    "s1.difference(s2)\n",
    "print(s1)\n",
    "print(s2)"
   ]
  },
  {
   "cell_type": "code",
   "execution_count": 79,
   "id": "78aa038e",
   "metadata": {},
   "outputs": [
    {
     "name": "stdout",
     "output_type": "stream",
     "text": [
      "{2, 3, 40, 10, 20}\n",
      "{1, 10, 20, 'a'}\n",
      "{40, 2, 3}\n"
     ]
    }
   ],
   "source": [
    "s1 = {2,3,40,10,20}\n",
    "s2 = {10,20,1,'a'}\n",
    "s3 = s1.difference(s2)\n",
    "print(s1)\n",
    "print(s2)\n",
    "print(s3)"
   ]
  },
  {
   "cell_type": "code",
   "execution_count": 80,
   "id": "b8f8cdec",
   "metadata": {},
   "outputs": [
    {
     "name": "stdout",
     "output_type": "stream",
     "text": [
      "{2, 3, 40, 10, 20}\n",
      "{1, 10, 20, 'a'}\n",
      "{1, 'a'}\n"
     ]
    }
   ],
   "source": [
    "s1 = {2,3,40,10,20}\n",
    "s2 = {10,20,1,'a'}\n",
    "s3 = s2.difference(s1)\n",
    "print(s1)\n",
    "print(s2)\n",
    "print(s3)"
   ]
  },
  {
   "cell_type": "markdown",
   "id": "13ac596c",
   "metadata": {},
   "source": [
    "#### 12. difference_update()"
   ]
  },
  {
   "cell_type": "code",
   "execution_count": 83,
   "id": "19c4e694",
   "metadata": {},
   "outputs": [
    {
     "name": "stdout",
     "output_type": "stream",
     "text": [
      "{2, 3, 40, 10, 20}\n",
      "{1, 'a'}\n"
     ]
    }
   ],
   "source": [
    "s1 = {2,3,40,10,20}\n",
    "s2 = {10,20,1,'a'}\n",
    "s2.difference_update(s1)\n",
    "print(s1)\n",
    "print(s2)"
   ]
  },
  {
   "cell_type": "markdown",
   "id": "c689acd6",
   "metadata": {},
   "source": [
    "#### 13. symmetric_difference"
   ]
  },
  {
   "cell_type": "code",
   "execution_count": 85,
   "id": "c6ea3dbb",
   "metadata": {},
   "outputs": [
    {
     "name": "stdout",
     "output_type": "stream",
     "text": [
      "{2, 3, 40, 10, 20}\n",
      "{1, 10, 20, 'a'}\n"
     ]
    }
   ],
   "source": [
    "s1 = {2,3,40,10,20}\n",
    "s2 = {10,20,1,'a'}\n",
    "s2.symmetric_difference(s1)\n",
    "print(s1)\n",
    "print(s2)"
   ]
  },
  {
   "cell_type": "code",
   "execution_count": 86,
   "id": "1da969c0",
   "metadata": {},
   "outputs": [
    {
     "name": "stdout",
     "output_type": "stream",
     "text": [
      "{2, 3, 40, 10, 20}\n",
      "{1, 10, 20, 'a'}\n",
      "{1, 2, 3, 'a', 40}\n"
     ]
    }
   ],
   "source": [
    "s1 = {2,3,40,10,20}\n",
    "s2 = {10,20,1,'a'}\n",
    "s3 = s2.symmetric_difference(s1)\n",
    "print(s1)\n",
    "print(s2)\n",
    "print(s3)"
   ]
  },
  {
   "cell_type": "code",
   "execution_count": 87,
   "id": "0d8fec8a",
   "metadata": {},
   "outputs": [
    {
     "name": "stdout",
     "output_type": "stream",
     "text": [
      "{'Nagpur', 'Chennai', 'Pune', 'Mumbai'}\n",
      "{'Bangalore', 'Kolkata', 'Pune', 'Mumbai'}\n",
      "{'Nagpur', 'Kolkata', 'Bangalore', 'Chennai'}\n"
     ]
    }
   ],
   "source": [
    "city1 = {'Pune' ,'Mumbai', \"Nagpur\",'Chennai'}\n",
    "city2 = {'Pune','Kolkata', 'Bangalore','Mumbai'}\n",
    "city3 = city1.symmetric_difference(city2)\n",
    "print(city1)\n",
    "print(city2)\n",
    "print(city3)"
   ]
  },
  {
   "cell_type": "markdown",
   "id": "60c0319e",
   "metadata": {},
   "source": [
    "#### 14. symmetric_difference_update"
   ]
  },
  {
   "cell_type": "code",
   "execution_count": 90,
   "id": "7898d951",
   "metadata": {},
   "outputs": [
    {
     "name": "stdout",
     "output_type": "stream",
     "text": [
      "{2, 3, 40, 10, 20}\n",
      "{1, 2, 3, 40, 'a'}\n"
     ]
    }
   ],
   "source": [
    "s1 = {2,3,40,10,20}\n",
    "s2 = {10,20,1,'a'}\n",
    "s2.symmetric_difference_update(s1)\n",
    "print(s1)\n",
    "print(s2)\n"
   ]
  },
  {
   "cell_type": "markdown",
   "id": "7c46ee24",
   "metadata": {},
   "source": [
    "#### 15. issubset()"
   ]
  },
  {
   "cell_type": "code",
   "execution_count": 92,
   "id": "74ff6f65",
   "metadata": {},
   "outputs": [
    {
     "data": {
      "text/plain": [
       "True"
      ]
     },
     "execution_count": 92,
     "metadata": {},
     "output_type": "execute_result"
    }
   ],
   "source": [
    "set1 = {2,3,4,5,6,10,20,'python','data'}\n",
    "set2 = {2,3,4,'python'}\n",
    "set2.issubset(set1)"
   ]
  },
  {
   "cell_type": "code",
   "execution_count": 93,
   "id": "b2103cfc",
   "metadata": {},
   "outputs": [
    {
     "data": {
      "text/plain": [
       "False"
      ]
     },
     "execution_count": 93,
     "metadata": {},
     "output_type": "execute_result"
    }
   ],
   "source": [
    "set1 = {2,3,4,5,6,10,20,'python','data'}\n",
    "set2 = {2,3,4,'python'}\n",
    "set1.issubset(set2)"
   ]
  },
  {
   "cell_type": "code",
   "execution_count": 94,
   "id": "75629e29",
   "metadata": {},
   "outputs": [
    {
     "data": {
      "text/plain": [
       "False"
      ]
     },
     "execution_count": 94,
     "metadata": {},
     "output_type": "execute_result"
    }
   ],
   "source": [
    "set1 = {2,3,4,5,6,10,20,'python','data'}\n",
    "set2 = {2,3,4,'python',100}\n",
    "set2.issubset(set1)"
   ]
  },
  {
   "cell_type": "code",
   "execution_count": 95,
   "id": "2a960b81",
   "metadata": {},
   "outputs": [
    {
     "data": {
      "text/plain": [
       "True"
      ]
     },
     "execution_count": 95,
     "metadata": {},
     "output_type": "execute_result"
    }
   ],
   "source": [
    "set1 = {2,3,4}\n",
    "set2 = {2,3,4}\n",
    "set2.issubset(set1)"
   ]
  },
  {
   "cell_type": "markdown",
   "id": "a15188b4",
   "metadata": {},
   "source": [
    "#### 16. issuperset()"
   ]
  },
  {
   "cell_type": "code",
   "execution_count": 96,
   "id": "79804804",
   "metadata": {},
   "outputs": [
    {
     "data": {
      "text/plain": [
       "False"
      ]
     },
     "execution_count": 96,
     "metadata": {},
     "output_type": "execute_result"
    }
   ],
   "source": [
    "set1 = {2,3,4,5,6,10,20,'python','data'}\n",
    "set2 = {2,3,4,'python'}\n",
    "set2.issuperset(set1)"
   ]
  },
  {
   "cell_type": "code",
   "execution_count": 97,
   "id": "fb96aeea",
   "metadata": {},
   "outputs": [
    {
     "data": {
      "text/plain": [
       "True"
      ]
     },
     "execution_count": 97,
     "metadata": {},
     "output_type": "execute_result"
    }
   ],
   "source": [
    "set1 = {2,3,4,5,6,10,20,'python','data'}\n",
    "set2 = {2,3,4,'python'}\n",
    "set1.issuperset(set2)"
   ]
  },
  {
   "cell_type": "markdown",
   "id": "0e699eed",
   "metadata": {},
   "source": [
    "#### 17. isdisjoint()"
   ]
  },
  {
   "cell_type": "code",
   "execution_count": null,
   "id": "0489c23b",
   "metadata": {},
   "outputs": [],
   "source": [
    "True >> no common items in two sets\n",
    "False >> if two sets have common items"
   ]
  },
  {
   "cell_type": "code",
   "execution_count": 98,
   "id": "f01f9de5",
   "metadata": {},
   "outputs": [
    {
     "data": {
      "text/plain": [
       "False"
      ]
     },
     "execution_count": 98,
     "metadata": {},
     "output_type": "execute_result"
    }
   ],
   "source": [
    "s1 = {2,3,40,10,20}\n",
    "s2 = {10,20,1,'a'}\n",
    "s2.isdisjoint(s1)"
   ]
  },
  {
   "cell_type": "code",
   "execution_count": 99,
   "id": "5eebe562",
   "metadata": {},
   "outputs": [
    {
     "data": {
      "text/plain": [
       "False"
      ]
     },
     "execution_count": 99,
     "metadata": {},
     "output_type": "execute_result"
    }
   ],
   "source": [
    "s1 = {2,3,40,10,20}\n",
    "s2 = {10,20,1,'a'}\n",
    "s1.isdisjoint(s2)"
   ]
  },
  {
   "cell_type": "code",
   "execution_count": 100,
   "id": "132a34a2",
   "metadata": {},
   "outputs": [
    {
     "data": {
      "text/plain": [
       "True"
      ]
     },
     "execution_count": 100,
     "metadata": {},
     "output_type": "execute_result"
    }
   ],
   "source": [
    "s1 = {2,3,40,10,20}\n",
    "s2 = {1,'a'}\n",
    "s2.isdisjoint(s1)"
   ]
  },
  {
   "cell_type": "code",
   "execution_count": 101,
   "id": "790f9fa7",
   "metadata": {},
   "outputs": [
    {
     "data": {
      "text/plain": [
       "2"
      ]
     },
     "execution_count": 101,
     "metadata": {},
     "output_type": "execute_result"
    }
   ],
   "source": [
    "s1 = {2,3,4,10,20}\n",
    "min(s1)"
   ]
  },
  {
   "cell_type": "code",
   "execution_count": 102,
   "id": "9370a4cd",
   "metadata": {},
   "outputs": [
    {
     "data": {
      "text/plain": [
       "20"
      ]
     },
     "execution_count": 102,
     "metadata": {},
     "output_type": "execute_result"
    }
   ],
   "source": [
    "s1 = {2,3,4,10,20}\n",
    "max(s1)"
   ]
  },
  {
   "cell_type": "code",
   "execution_count": 103,
   "id": "9224f2dc",
   "metadata": {},
   "outputs": [
    {
     "data": {
      "text/plain": [
       "5"
      ]
     },
     "execution_count": 103,
     "metadata": {},
     "output_type": "execute_result"
    }
   ],
   "source": [
    "s1 = {2,3,4,10,20}\n",
    "len(s1)"
   ]
  },
  {
   "cell_type": "code",
   "execution_count": 104,
   "id": "3f844ae3",
   "metadata": {},
   "outputs": [
    {
     "data": {
      "text/plain": [
       "39"
      ]
     },
     "execution_count": 104,
     "metadata": {},
     "output_type": "execute_result"
    }
   ],
   "source": [
    "s1 = {2,3,4,10,20}\n",
    "sum(s1)"
   ]
  },
  {
   "cell_type": "code",
   "execution_count": null,
   "id": "eb480b68",
   "metadata": {},
   "outputs": [],
   "source": []
  }
 ],
 "metadata": {
  "kernelspec": {
   "display_name": "Python 3 (ipykernel)",
   "language": "python",
   "name": "python3"
  },
  "language_info": {
   "codemirror_mode": {
    "name": "ipython",
    "version": 3
   },
   "file_extension": ".py",
   "mimetype": "text/x-python",
   "name": "python",
   "nbconvert_exporter": "python",
   "pygments_lexer": "ipython3",
   "version": "3.9.7"
  }
 },
 "nbformat": 4,
 "nbformat_minor": 5
}
