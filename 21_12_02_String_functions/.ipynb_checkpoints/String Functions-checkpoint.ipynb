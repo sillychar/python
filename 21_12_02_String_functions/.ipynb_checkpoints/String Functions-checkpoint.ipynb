{
 "cells": [
  {
   "cell_type": "markdown",
   "id": "be554f11",
   "metadata": {},
   "source": [
    "### 8. swapcase()"
   ]
  },
  {
   "cell_type": "code",
   "execution_count": null,
   "id": "46088fd3",
   "metadata": {},
   "outputs": [],
   "source": [
    "It inverts case of all our char\n",
    "lower >> upper\n",
    "upper >> lower"
   ]
  },
  {
   "cell_type": "code",
   "execution_count": 1,
   "id": "6dcfa0d7",
   "metadata": {},
   "outputs": [
    {
     "data": {
      "text/plain": [
       "'pYTHON'"
      ]
     },
     "execution_count": 1,
     "metadata": {},
     "output_type": "execute_result"
    }
   ],
   "source": [
    "s = 'Python'\n",
    "s.swapcase()"
   ]
  },
  {
   "cell_type": "code",
   "execution_count": 2,
   "id": "b032a19e",
   "metadata": {},
   "outputs": [
    {
     "data": {
      "text/plain": [
       "'python'"
      ]
     },
     "execution_count": 2,
     "metadata": {},
     "output_type": "execute_result"
    }
   ],
   "source": [
    "s = 'PYTHON'\n",
    "s.swapcase()"
   ]
  },
  {
   "cell_type": "code",
   "execution_count": 3,
   "id": "1535a734",
   "metadata": {},
   "outputs": [
    {
     "data": {
      "text/plain": [
       "'PYTHON'"
      ]
     },
     "execution_count": 3,
     "metadata": {},
     "output_type": "execute_result"
    }
   ],
   "source": [
    "s = 'python'\n",
    "s.swapcase()"
   ]
  },
  {
   "cell_type": "markdown",
   "id": "a49d9dfe",
   "metadata": {},
   "source": [
    "### 9. replace()"
   ]
  },
  {
   "cell_type": "code",
   "execution_count": null,
   "id": "f8d0384e",
   "metadata": {},
   "outputs": [],
   "source": [
    "string.replace(old_str, new_str, [count]) # count optional"
   ]
  },
  {
   "cell_type": "code",
   "execution_count": 5,
   "id": "f740a8d6",
   "metadata": {},
   "outputs": [
    {
     "data": {
      "text/plain": [
       "'Data Science Class'"
      ]
     },
     "execution_count": 5,
     "metadata": {},
     "output_type": "execute_result"
    }
   ],
   "source": [
    "str1 = 'Python Class'\n",
    "str1.replace('Python', 'Data Science')"
   ]
  },
  {
   "cell_type": "code",
   "execution_count": 8,
   "id": "dff0c90a",
   "metadata": {},
   "outputs": [
    {
     "data": {
      "text/plain": [
       "'Jython Class'"
      ]
     },
     "execution_count": 8,
     "metadata": {},
     "output_type": "execute_result"
    }
   ],
   "source": [
    "str1 = 'Python Class'\n",
    "str1.replace('P', 'J')"
   ]
  },
  {
   "cell_type": "code",
   "execution_count": 14,
   "id": "8a74f50b",
   "metadata": {},
   "outputs": [
    {
     "data": {
      "text/plain": [
       "\"Python'S Class\""
      ]
     },
     "execution_count": 14,
     "metadata": {},
     "output_type": "execute_result"
    }
   ],
   "source": [
    "str1 = 'Python\\'s Class'\n",
    "str1.replace('s', 'S',1)"
   ]
  },
  {
   "cell_type": "code",
   "execution_count": 15,
   "id": "2844600c",
   "metadata": {},
   "outputs": [
    {
     "data": {
      "text/plain": [
       "'ClaSs'"
      ]
     },
     "execution_count": 15,
     "metadata": {},
     "output_type": "execute_result"
    }
   ],
   "source": [
    "str1 = 'Python\\'s Class'\n",
    "str1[-5:].replace('s', 'S',1)"
   ]
  },
  {
   "cell_type": "code",
   "execution_count": 19,
   "id": "7199f331",
   "metadata": {},
   "outputs": [
    {
     "data": {
      "text/plain": [
       "'M@ch!n# L#@rn!ng !s th# study $f c$mput#r @lg$r!thms'"
      ]
     },
     "execution_count": 19,
     "metadata": {},
     "output_type": "execute_result"
    }
   ],
   "source": [
    "machine_learning = 'Machine Learning is the study of computer algorithms'\n",
    "machine_learning.replace('a','@').replace('e','#').replace('i','!').replace('o','$').replace('z','&')"
   ]
  },
  {
   "cell_type": "code",
   "execution_count": 20,
   "id": "0cf28aa2",
   "metadata": {},
   "outputs": [
    {
     "data": {
      "text/plain": [
       "\"Python's Class\""
      ]
     },
     "execution_count": 20,
     "metadata": {},
     "output_type": "execute_result"
    }
   ],
   "source": [
    "str1 = 'Python\\'s Class'\n",
    "str1.replace('X', 'S')"
   ]
  },
  {
   "cell_type": "code",
   "execution_count": 21,
   "id": "84778ef9",
   "metadata": {},
   "outputs": [
    {
     "data": {
      "text/plain": [
       "' JAVA and Data Science class, Pune. Python is used for Machine Learning'"
      ]
     },
     "execution_count": 21,
     "metadata": {},
     "output_type": "execute_result"
    }
   ],
   "source": [
    "string =' Python and Data Science class, Pune. Python is used for Machine Learning'\n",
    "string.replace('Python', 'JAVA',1)"
   ]
  },
  {
   "cell_type": "code",
   "execution_count": 24,
   "id": "3c2b2f88",
   "metadata": {},
   "outputs": [
    {
     "data": {
      "text/plain": [
       "' python and Data Science class, Pune. JAVA is used for Machine Learning'"
      ]
     },
     "execution_count": 24,
     "metadata": {},
     "output_type": "execute_result"
    }
   ],
   "source": [
    "string =' python and Data Science class, Pune. Python is used for Machine Learning'\n",
    "string.replace('Python', 'JAVA',1)"
   ]
  },
  {
   "cell_type": "code",
   "execution_count": 23,
   "id": "a3fd67b9",
   "metadata": {},
   "outputs": [
    {
     "data": {
      "text/plain": [
       "' python and Data Science class, Pune. JAVA is used for Machine Learning'"
      ]
     },
     "execution_count": 23,
     "metadata": {},
     "output_type": "execute_result"
    }
   ],
   "source": [
    "string =' python and Data Science class, Pune. Python is used for Machine Learning'\n",
    "string.replace('Python', 'JAVA',2)"
   ]
  },
  {
   "cell_type": "code",
   "execution_count": 26,
   "id": "1f26cce3",
   "metadata": {},
   "outputs": [
    {
     "data": {
      "text/plain": [
       "'JAVA and Data Science class, Pune. JAVA is used for Machine Learning'"
      ]
     },
     "execution_count": 26,
     "metadata": {},
     "output_type": "execute_result"
    }
   ],
   "source": [
    "string ='Python and Data Science class, Pune. Python is used for Machine Learning'\n",
    "string.replace('Python', 'JAVA',-2)"
   ]
  },
  {
   "cell_type": "code",
   "execution_count": null,
   "id": "52f9f4e8",
   "metadata": {},
   "outputs": [],
   "source": [
    "ctl + z >> undo\n",
    "ctrl + y >> redo\n",
    "ctrl + tab >> change tab in chrome\n",
    "alt + tab >> chnge software/app which was used latest\n",
    "ctrl + backspace >> remove whole word"
   ]
  },
  {
   "cell_type": "markdown",
   "id": "b96b9e9a",
   "metadata": {},
   "source": [
    "### 10. count()"
   ]
  },
  {
   "cell_type": "code",
   "execution_count": null,
   "id": "226f7606",
   "metadata": {},
   "outputs": [],
   "source": [
    "string.count(sub_string,start_index,end_index)"
   ]
  },
  {
   "cell_type": "code",
   "execution_count": 27,
   "id": "18179d36",
   "metadata": {},
   "outputs": [
    {
     "data": {
      "text/plain": [
       "2"
      ]
     },
     "execution_count": 27,
     "metadata": {},
     "output_type": "execute_result"
    }
   ],
   "source": [
    "string= 'Hello Python'\n",
    "string.count('l')"
   ]
  },
  {
   "cell_type": "code",
   "execution_count": 28,
   "id": "f8df36e8",
   "metadata": {},
   "outputs": [
    {
     "data": {
      "text/plain": [
       "1"
      ]
     },
     "execution_count": 28,
     "metadata": {},
     "output_type": "execute_result"
    }
   ],
   "source": [
    "string= 'Hello Python'\n",
    "string.count('Hello')"
   ]
  },
  {
   "cell_type": "code",
   "execution_count": 29,
   "id": "d92b251f",
   "metadata": {},
   "outputs": [
    {
     "data": {
      "text/plain": [
       "1"
      ]
     },
     "execution_count": 29,
     "metadata": {},
     "output_type": "execute_result"
    }
   ],
   "source": [
    "string= 'Hello Python'\n",
    "string.count('Python')"
   ]
  },
  {
   "cell_type": "code",
   "execution_count": 30,
   "id": "1d571473",
   "metadata": {},
   "outputs": [
    {
     "data": {
      "text/plain": [
       "0"
      ]
     },
     "execution_count": 30,
     "metadata": {},
     "output_type": "execute_result"
    }
   ],
   "source": [
    "string= 'Hello Python'\n",
    "string.count('python')"
   ]
  },
  {
   "cell_type": "code",
   "execution_count": 31,
   "id": "bcf6a73e",
   "metadata": {},
   "outputs": [
    {
     "data": {
      "text/plain": [
       "1"
      ]
     },
     "execution_count": 31,
     "metadata": {},
     "output_type": "execute_result"
    }
   ],
   "source": [
    "string= 'Hello Python'\n",
    "string.count('ython')"
   ]
  },
  {
   "cell_type": "code",
   "execution_count": 32,
   "id": "8dfd20e4",
   "metadata": {},
   "outputs": [
    {
     "data": {
      "text/plain": [
       "16"
      ]
     },
     "execution_count": 32,
     "metadata": {},
     "output_type": "execute_result"
    }
   ],
   "source": [
    "string= '''Machine learning is the study of computer algorithms that can improve automatically\n",
    "through experience and by the use of data. It is seen as a part of artificial intelligence'''\n",
    "string.count('a')"
   ]
  },
  {
   "cell_type": "code",
   "execution_count": 33,
   "id": "a833277c",
   "metadata": {},
   "outputs": [
    {
     "data": {
      "text/plain": [
       "3"
      ]
     },
     "execution_count": 33,
     "metadata": {},
     "output_type": "execute_result"
    }
   ],
   "source": [
    "string= '''Machine learning is the study of computer algorithms that can improve automatically\n",
    "through experience and by the use of data. It is seen as a part of artificial intelligence'''\n",
    "string.count('of')"
   ]
  },
  {
   "cell_type": "code",
   "execution_count": 37,
   "id": "aaec6235",
   "metadata": {},
   "outputs": [
    {
     "data": {
      "text/plain": [
       "2"
      ]
     },
     "execution_count": 37,
     "metadata": {},
     "output_type": "execute_result"
    }
   ],
   "source": [
    "string.count('a',1,11)"
   ]
  },
  {
   "cell_type": "code",
   "execution_count": 39,
   "id": "3cd2d9fd",
   "metadata": {},
   "outputs": [
    {
     "data": {
      "text/plain": [
       "1"
      ]
     },
     "execution_count": 39,
     "metadata": {},
     "output_type": "execute_result"
    }
   ],
   "source": [
    "string.count('of',10,50)"
   ]
  },
  {
   "cell_type": "markdown",
   "id": "3074f42e",
   "metadata": {},
   "source": [
    "### 11. index()"
   ]
  },
  {
   "cell_type": "code",
   "execution_count": null,
   "id": "ba411631",
   "metadata": {},
   "outputs": [],
   "source": [
    "string.index(sub_string,start_index,end_index)"
   ]
  },
  {
   "cell_type": "code",
   "execution_count": 40,
   "id": "dd84179d",
   "metadata": {},
   "outputs": [
    {
     "data": {
      "text/plain": [
       "0"
      ]
     },
     "execution_count": 40,
     "metadata": {},
     "output_type": "execute_result"
    }
   ],
   "source": [
    "string = 'Hello Python'\n",
    "string.index('H')"
   ]
  },
  {
   "cell_type": "code",
   "execution_count": 41,
   "id": "0297b93e",
   "metadata": {},
   "outputs": [
    {
     "data": {
      "text/plain": [
       "6"
      ]
     },
     "execution_count": 41,
     "metadata": {},
     "output_type": "execute_result"
    }
   ],
   "source": [
    "string.index('P')"
   ]
  },
  {
   "cell_type": "code",
   "execution_count": 42,
   "id": "61f98bab",
   "metadata": {},
   "outputs": [
    {
     "data": {
      "text/plain": [
       "2"
      ]
     },
     "execution_count": 42,
     "metadata": {},
     "output_type": "execute_result"
    }
   ],
   "source": [
    "string.index('l')"
   ]
  },
  {
   "cell_type": "code",
   "execution_count": 43,
   "id": "a482722b",
   "metadata": {},
   "outputs": [
    {
     "data": {
      "text/plain": [
       "6"
      ]
     },
     "execution_count": 43,
     "metadata": {},
     "output_type": "execute_result"
    }
   ],
   "source": [
    "string.index('Python')"
   ]
  },
  {
   "cell_type": "code",
   "execution_count": 44,
   "id": "33e31076",
   "metadata": {},
   "outputs": [
    {
     "ename": "ValueError",
     "evalue": "substring not found",
     "output_type": "error",
     "traceback": [
      "\u001b[1;31m---------------------------------------------------------------------------\u001b[0m",
      "\u001b[1;31mValueError\u001b[0m                                Traceback (most recent call last)",
      "\u001b[1;32m<ipython-input-44-24bc97dc134b>\u001b[0m in \u001b[0;36m<module>\u001b[1;34m\u001b[0m\n\u001b[1;32m----> 1\u001b[1;33m \u001b[0mstring\u001b[0m\u001b[1;33m.\u001b[0m\u001b[0mindex\u001b[0m\u001b[1;33m(\u001b[0m\u001b[1;34m'PythoN'\u001b[0m\u001b[1;33m)\u001b[0m\u001b[1;33m\u001b[0m\u001b[1;33m\u001b[0m\u001b[0m\n\u001b[0m",
      "\u001b[1;31mValueError\u001b[0m: substring not found"
     ]
    }
   ],
   "source": [
    "string.index('PythoN')"
   ]
  },
  {
   "cell_type": "code",
   "execution_count": 45,
   "id": "7db20c1d",
   "metadata": {},
   "outputs": [
    {
     "ename": "ValueError",
     "evalue": "substring not found",
     "output_type": "error",
     "traceback": [
      "\u001b[1;31m---------------------------------------------------------------------------\u001b[0m",
      "\u001b[1;31mValueError\u001b[0m                                Traceback (most recent call last)",
      "\u001b[1;32m<ipython-input-45-6fa4791dc117>\u001b[0m in \u001b[0;36m<module>\u001b[1;34m\u001b[0m\n\u001b[1;32m----> 1\u001b[1;33m \u001b[0mstring\u001b[0m\u001b[1;33m.\u001b[0m\u001b[0mindex\u001b[0m\u001b[1;33m(\u001b[0m\u001b[1;34m'x'\u001b[0m\u001b[1;33m)\u001b[0m\u001b[1;33m\u001b[0m\u001b[1;33m\u001b[0m\u001b[0m\n\u001b[0m",
      "\u001b[1;31mValueError\u001b[0m: substring not found"
     ]
    }
   ],
   "source": [
    "string.index('x')"
   ]
  },
  {
   "cell_type": "code",
   "execution_count": 46,
   "id": "d9e70148",
   "metadata": {},
   "outputs": [
    {
     "data": {
      "text/plain": [
       "30"
      ]
     },
     "execution_count": 46,
     "metadata": {},
     "output_type": "execute_result"
    }
   ],
   "source": [
    "string= '''Machine learning is the study of computer algorithms that can improve automatically\n",
    "through experience and by the use of data. It is seen as a part of artificial intelligence'''\n",
    "string.index('of')"
   ]
  },
  {
   "cell_type": "code",
   "execution_count": 47,
   "id": "0980a6ed",
   "metadata": {},
   "outputs": [
    {
     "ename": "ValueError",
     "evalue": "substring not found",
     "output_type": "error",
     "traceback": [
      "\u001b[1;31m---------------------------------------------------------------------------\u001b[0m",
      "\u001b[1;31mValueError\u001b[0m                                Traceback (most recent call last)",
      "\u001b[1;32m<ipython-input-47-c88f8416c3ff>\u001b[0m in \u001b[0;36m<module>\u001b[1;34m\u001b[0m\n\u001b[0;32m      1\u001b[0m string= '''Machine learning is the study of computer algorithms that can improve automatically\n\u001b[0;32m      2\u001b[0m through experience and by the use of data. It is seen as a part of artificial intelligence'''\n\u001b[1;32m----> 3\u001b[1;33m \u001b[0mstring\u001b[0m\u001b[1;33m.\u001b[0m\u001b[0mindex\u001b[0m\u001b[1;33m(\u001b[0m\u001b[1;34m'of'\u001b[0m\u001b[1;33m,\u001b[0m\u001b[1;36m10\u001b[0m\u001b[1;33m,\u001b[0m\u001b[1;36m30\u001b[0m\u001b[1;33m)\u001b[0m\u001b[1;33m\u001b[0m\u001b[1;33m\u001b[0m\u001b[0m\n\u001b[0m",
      "\u001b[1;31mValueError\u001b[0m: substring not found"
     ]
    }
   ],
   "source": [
    "string= '''Machine learning is the study of computer algorithms that can improve automatically\n",
    "through experience and by the use of data. It is seen as a part of artificial intelligence'''\n",
    "string.index('of',10,30)"
   ]
  },
  {
   "cell_type": "code",
   "execution_count": 52,
   "id": "1f94bebd",
   "metadata": {},
   "outputs": [
    {
     "data": {
      "text/plain": [
       "30"
      ]
     },
     "execution_count": 52,
     "metadata": {},
     "output_type": "execute_result"
    }
   ],
   "source": [
    "string= '''Machine learning is the study of computer algorithms that can improve automatically\n",
    "through experience and by the use of data. It is seen as a part of artificial intelligence'''\n",
    "string.index('of',10,35)"
   ]
  },
  {
   "cell_type": "code",
   "execution_count": 54,
   "id": "55ab8aae",
   "metadata": {},
   "outputs": [
    {
     "data": {
      "text/plain": [
       "118"
      ]
     },
     "execution_count": 54,
     "metadata": {},
     "output_type": "execute_result"
    }
   ],
   "source": [
    "string= '''Machine learning is the study of computer algorithms that can improve automatically\n",
    "through experience and by the use of data. It is seen as a part of artificial intelligence'''\n",
    "string.index('of',50,150)"
   ]
  },
  {
   "cell_type": "code",
   "execution_count": 59,
   "id": "35e00fbe",
   "metadata": {},
   "outputs": [
    {
     "data": {
      "text/plain": [
       "30"
      ]
     },
     "execution_count": 59,
     "metadata": {},
     "output_type": "execute_result"
    }
   ],
   "source": [
    "string= '''Machine learning is the study of computer algorithms that can improve automatically\n",
    "through experience and by the use of data. It is seen as a part of artificial intelligence'''\n",
    "string.index('of',28,32) #28,29,30,31"
   ]
  },
  {
   "cell_type": "code",
   "execution_count": 60,
   "id": "5159fcc3",
   "metadata": {},
   "outputs": [
    {
     "ename": "SyntaxError",
     "evalue": "invalid syntax (<ipython-input-60-a53400c77bb9>, line 3)",
     "output_type": "error",
     "traceback": [
      "\u001b[1;36m  File \u001b[1;32m\"<ipython-input-60-a53400c77bb9>\"\u001b[1;36m, line \u001b[1;32m3\u001b[0m\n\u001b[1;33m    string.index('of',,) #28,29,30,31\u001b[0m\n\u001b[1;37m                      ^\u001b[0m\n\u001b[1;31mSyntaxError\u001b[0m\u001b[1;31m:\u001b[0m invalid syntax\n"
     ]
    }
   ],
   "source": [
    "string= '''Machine learning is the study of computer algorithms that can improve automatically\n",
    "through experience and by the use of data. It is seen as a part of artificial intelligence'''\n",
    "string.index('of',,) #28,29,30,31"
   ]
  },
  {
   "cell_type": "markdown",
   "id": "9b3291d8",
   "metadata": {},
   "source": [
    "### 12. find()"
   ]
  },
  {
   "cell_type": "markdown",
   "id": "4b8f3293",
   "metadata": {},
   "source": [
    "string.find(sub_string,start_index,end_index)\n",
    "Return -1 if substring not found/present"
   ]
  },
  {
   "cell_type": "code",
   "execution_count": 61,
   "id": "5220d59a",
   "metadata": {},
   "outputs": [
    {
     "data": {
      "text/plain": [
       "6"
      ]
     },
     "execution_count": 61,
     "metadata": {},
     "output_type": "execute_result"
    }
   ],
   "source": [
    "string= 'Hello Python'\n",
    "string.find('P')"
   ]
  },
  {
   "cell_type": "code",
   "execution_count": 62,
   "id": "fd7e99a1",
   "metadata": {},
   "outputs": [
    {
     "name": "stdout",
     "output_type": "stream",
     "text": [
      "i==6, j==6\n"
     ]
    }
   ],
   "source": [
    "string= 'Hello Python'\n",
    "i = string.index('Python')\n",
    "j = string.find('Python')\n",
    "\n",
    "print(f'i=={i}, j=={j}')"
   ]
  },
  {
   "cell_type": "code",
   "execution_count": 63,
   "id": "0fdacc50",
   "metadata": {},
   "outputs": [
    {
     "ename": "ValueError",
     "evalue": "substring not found",
     "output_type": "error",
     "traceback": [
      "\u001b[1;31m---------------------------------------------------------------------------\u001b[0m",
      "\u001b[1;31mValueError\u001b[0m                                Traceback (most recent call last)",
      "\u001b[1;32m<ipython-input-63-4260e99f2bf5>\u001b[0m in \u001b[0;36m<module>\u001b[1;34m\u001b[0m\n\u001b[0;32m      1\u001b[0m \u001b[0mstring\u001b[0m\u001b[1;33m=\u001b[0m \u001b[1;34m'Hello Python'\u001b[0m\u001b[1;33m\u001b[0m\u001b[1;33m\u001b[0m\u001b[0m\n\u001b[1;32m----> 2\u001b[1;33m \u001b[0mi\u001b[0m \u001b[1;33m=\u001b[0m \u001b[0mstring\u001b[0m\u001b[1;33m.\u001b[0m\u001b[0mindex\u001b[0m\u001b[1;33m(\u001b[0m\u001b[1;34m'python'\u001b[0m\u001b[1;33m)\u001b[0m\u001b[1;33m\u001b[0m\u001b[1;33m\u001b[0m\u001b[0m\n\u001b[0m\u001b[0;32m      3\u001b[0m \u001b[0mj\u001b[0m \u001b[1;33m=\u001b[0m \u001b[0mstring\u001b[0m\u001b[1;33m.\u001b[0m\u001b[0mfind\u001b[0m\u001b[1;33m(\u001b[0m\u001b[1;34m'python'\u001b[0m\u001b[1;33m)\u001b[0m\u001b[1;33m\u001b[0m\u001b[1;33m\u001b[0m\u001b[0m\n\u001b[0;32m      4\u001b[0m \u001b[1;33m\u001b[0m\u001b[0m\n\u001b[0;32m      5\u001b[0m \u001b[0mprint\u001b[0m\u001b[1;33m(\u001b[0m\u001b[1;34mf'i=={i}, j=={j}'\u001b[0m\u001b[1;33m)\u001b[0m\u001b[1;33m\u001b[0m\u001b[1;33m\u001b[0m\u001b[0m\n",
      "\u001b[1;31mValueError\u001b[0m: substring not found"
     ]
    }
   ],
   "source": [
    "string= 'Hello Python'\n",
    "i = string.index('python')\n",
    "j = string.find('python')\n",
    "\n",
    "print(f'i=={i}, j=={j}')"
   ]
  },
  {
   "cell_type": "code",
   "execution_count": 69,
   "id": "7262a27a",
   "metadata": {},
   "outputs": [
    {
     "data": {
      "text/plain": [
       "-1"
      ]
     },
     "execution_count": 69,
     "metadata": {},
     "output_type": "execute_result"
    }
   ],
   "source": [
    "string= 'Hello Python'\n",
    "string.find('python')"
   ]
  },
  {
   "cell_type": "code",
   "execution_count": 70,
   "id": "f062a318",
   "metadata": {},
   "outputs": [
    {
     "data": {
      "text/plain": [
       "6"
      ]
     },
     "execution_count": 70,
     "metadata": {},
     "output_type": "execute_result"
    }
   ],
   "source": [
    "string= 'Hello Python'\n",
    "string.find('Python')"
   ]
  },
  {
   "cell_type": "code",
   "execution_count": 71,
   "id": "6a60d761",
   "metadata": {},
   "outputs": [
    {
     "data": {
      "text/plain": [
       "-1"
      ]
     },
     "execution_count": 71,
     "metadata": {},
     "output_type": "execute_result"
    }
   ],
   "source": [
    "string= 'Hello Python'\n",
    "string.find('P',2,6)"
   ]
  },
  {
   "cell_type": "code",
   "execution_count": 72,
   "id": "d4e2d68b",
   "metadata": {},
   "outputs": [
    {
     "data": {
      "text/plain": [
       "6"
      ]
     },
     "execution_count": 72,
     "metadata": {},
     "output_type": "execute_result"
    }
   ],
   "source": [
    "string= 'Hello Python'\n",
    "string.find('P',2,7)"
   ]
  },
  {
   "cell_type": "code",
   "execution_count": 75,
   "id": "5f674918",
   "metadata": {},
   "outputs": [],
   "source": [
    "string = 'Machine Learning'\n",
    "index = string.find('Python')\n",
    "\n",
    "if index == -1:\n",
    "    print('Char/word is not in a given string')"
   ]
  },
  {
   "cell_type": "code",
   "execution_count": 77,
   "id": "4d686b40",
   "metadata": {},
   "outputs": [
    {
     "name": "stdout",
     "output_type": "stream",
     "text": [
      "8\n",
      "Char/word is present in given string\n"
     ]
    }
   ],
   "source": [
    "string = 'Machine Learning'\n",
    "index = string.find('Learning')\n",
    "print(index)\n",
    "if index == -1:\n",
    "    print('Char/word is not in a given string')\n",
    "else:\n",
    "    print('Char/word is present in given string')"
   ]
  },
  {
   "cell_type": "markdown",
   "id": "956ad4ac",
   "metadata": {},
   "source": [
    "### 13. split()"
   ]
  },
  {
   "cell_type": "code",
   "execution_count": null,
   "id": "cdaa1658",
   "metadata": {},
   "outputs": [],
   "source": [
    "It returns a list of words seperated by white spaces (default)"
   ]
  },
  {
   "cell_type": "code",
   "execution_count": 80,
   "id": "081adad0",
   "metadata": {},
   "outputs": [
    {
     "name": "stdout",
     "output_type": "stream",
     "text": [
      "<class 'str'>\n",
      "['Machine', 'Learning', 'is', 'the', 'study', 'of', 'computer', 'alogorithms']\n",
      "<class 'list'>\n",
      "Machine Learning is the study of computer alogorithms\n"
     ]
    }
   ],
   "source": [
    "string= 'Machine Learning is the study of computer alogorithms'\n",
    "print(type(string))\n",
    "string_list = string.split()\n",
    "print(string_list)\n",
    "print(type(string_list))\n",
    "\n",
    "print(string)"
   ]
  },
  {
   "cell_type": "code",
   "execution_count": 82,
   "id": "c4bd2c88",
   "metadata": {},
   "outputs": [
    {
     "data": {
      "text/plain": [
       "['Machine Learning is ', ' study of computer alogorithms']"
      ]
     },
     "execution_count": 82,
     "metadata": {},
     "output_type": "execute_result"
    }
   ],
   "source": [
    "string= 'Machine Learning is the study of computer alogorithms'\n",
    "string.split('the')"
   ]
  },
  {
   "cell_type": "code",
   "execution_count": 83,
   "id": "9396c428",
   "metadata": {},
   "outputs": [
    {
     "data": {
      "text/plain": [
       "['Machine ', ' is the study of computer alogorithms']"
      ]
     },
     "execution_count": 83,
     "metadata": {},
     "output_type": "execute_result"
    }
   ],
   "source": [
    "string= 'Machine Learning is the study of computer alogorithms'\n",
    "string.split('Learning')"
   ]
  },
  {
   "cell_type": "code",
   "execution_count": 85,
   "id": "ee195482",
   "metadata": {},
   "outputs": [
    {
     "data": {
      "text/plain": [
       "'Machine Learning'"
      ]
     },
     "execution_count": 85,
     "metadata": {},
     "output_type": "execute_result"
    }
   ],
   "source": [
    "string= 'Machine Learning is the study of computer alogorithms'\n",
    "string[:16]"
   ]
  },
  {
   "cell_type": "code",
   "execution_count": 88,
   "id": "aca87011",
   "metadata": {},
   "outputs": [
    {
     "data": {
      "text/plain": [
       "['Machine Learning', ' is the study of computer alogorithms']"
      ]
     },
     "execution_count": 88,
     "metadata": {},
     "output_type": "execute_result"
    }
   ],
   "source": [
    "new = string[:16]+ '_' + string[16:]\n",
    "new.split('_')"
   ]
  },
  {
   "cell_type": "code",
   "execution_count": 86,
   "id": "f027200b",
   "metadata": {},
   "outputs": [
    {
     "data": {
      "text/plain": [
       "' is the study of computer alogorithms'"
      ]
     },
     "execution_count": 86,
     "metadata": {},
     "output_type": "execute_result"
    }
   ],
   "source": [
    "string[16:]"
   ]
  },
  {
   "cell_type": "code",
   "execution_count": 89,
   "id": "9a70c401",
   "metadata": {},
   "outputs": [
    {
     "data": {
      "text/plain": [
       "['Machine', 'Learning', 'is', 'the', 'study', 'of', 'computer', 'alogorithms']"
      ]
     },
     "execution_count": 89,
     "metadata": {},
     "output_type": "execute_result"
    }
   ],
   "source": [
    "string= 'Machine Learning is the study of computer     alogorithms'\n",
    "string.split()"
   ]
  },
  {
   "cell_type": "code",
   "execution_count": null,
   "id": "f062efe1",
   "metadata": {},
   "outputs": [],
   "source": []
  },
  {
   "cell_type": "code",
   "execution_count": null,
   "id": "80ac64ac",
   "metadata": {},
   "outputs": [],
   "source": []
  },
  {
   "cell_type": "code",
   "execution_count": null,
   "id": "7033970c",
   "metadata": {},
   "outputs": [],
   "source": []
  },
  {
   "cell_type": "code",
   "execution_count": null,
   "id": "8d8585bd",
   "metadata": {},
   "outputs": [],
   "source": []
  },
  {
   "cell_type": "code",
   "execution_count": null,
   "id": "79eeb9c1",
   "metadata": {},
   "outputs": [],
   "source": []
  },
  {
   "cell_type": "code",
   "execution_count": null,
   "id": "0ae06076",
   "metadata": {},
   "outputs": [],
   "source": []
  }
 ],
 "metadata": {
  "kernelspec": {
   "display_name": "Python 3",
   "language": "python",
   "name": "python3"
  },
  "language_info": {
   "codemirror_mode": {
    "name": "ipython",
    "version": 3
   },
   "file_extension": ".py",
   "mimetype": "text/x-python",
   "name": "python",
   "nbconvert_exporter": "python",
   "pygments_lexer": "ipython3",
   "version": "3.8.8"
  }
 },
 "nbformat": 4,
 "nbformat_minor": 5
}
