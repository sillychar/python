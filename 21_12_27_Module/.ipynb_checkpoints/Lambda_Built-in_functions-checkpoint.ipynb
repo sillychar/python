{
 "cells": [
  {
   "cell_type": "markdown",
   "id": "5c972b67",
   "metadata": {},
   "source": [
    "## Lambda Function"
   ]
  },
  {
   "cell_type": "code",
   "execution_count": null,
   "id": "3e42cbef",
   "metadata": {},
   "outputs": [],
   "source": [
    "def square(a):\n",
    "    return a**2"
   ]
  },
  {
   "cell_type": "code",
   "execution_count": null,
   "id": "4b5de10e",
   "metadata": {},
   "outputs": [],
   "source": [
    "Function without name\n",
    "Defined by using lambda keyword\n",
    "No need to use return statement\n",
    "we do not need to define this function\n",
    "we use it for short period of time"
   ]
  },
  {
   "cell_type": "code",
   "execution_count": null,
   "id": "00fb39ce",
   "metadata": {},
   "outputs": [],
   "source": [
    "lambda arguments: expression\n",
    "arguments >> 1 or more arguments\n",
    "expression >> only 1 expression\n",
    "It returns an object"
   ]
  },
  {
   "cell_type": "code",
   "execution_count": null,
   "id": "2fcf5390",
   "metadata": {},
   "outputs": [],
   "source": [
    "lambda a:a**2\n",
    "lambda x,y : x+y"
   ]
  },
  {
   "cell_type": "code",
   "execution_count": 1,
   "id": "6a7838e9",
   "metadata": {},
   "outputs": [
    {
     "data": {
      "text/plain": [
       "11"
      ]
     },
     "execution_count": 1,
     "metadata": {},
     "output_type": "execute_result"
    }
   ],
   "source": [
    "def my_func(x,y):\n",
    "    return x+y\n",
    "\n",
    "my_func(5,6)"
   ]
  },
  {
   "cell_type": "code",
   "execution_count": 2,
   "id": "06459327",
   "metadata": {},
   "outputs": [
    {
     "data": {
      "text/plain": [
       "25"
      ]
     },
     "execution_count": 2,
     "metadata": {},
     "output_type": "execute_result"
    }
   ],
   "source": [
    "def square(x):\n",
    "    return x**2\n",
    "\n",
    "square(5)"
   ]
  },
  {
   "cell_type": "code",
   "execution_count": 5,
   "id": "431c324c",
   "metadata": {},
   "outputs": [
    {
     "data": {
      "text/plain": [
       "<function __main__.<lambda>(x)>"
      ]
     },
     "execution_count": 5,
     "metadata": {},
     "output_type": "execute_result"
    }
   ],
   "source": [
    "lambda x: x**2"
   ]
  },
  {
   "cell_type": "code",
   "execution_count": 4,
   "id": "04964c70",
   "metadata": {},
   "outputs": [
    {
     "data": {
      "text/plain": [
       "25"
      ]
     },
     "execution_count": 4,
     "metadata": {},
     "output_type": "execute_result"
    }
   ],
   "source": [
    "sqr = lambda x: x**2\n",
    "sqr(5)"
   ]
  },
  {
   "cell_type": "code",
   "execution_count": 6,
   "id": "41218bdf",
   "metadata": {},
   "outputs": [
    {
     "data": {
      "text/plain": [
       "15"
      ]
     },
     "execution_count": 6,
     "metadata": {},
     "output_type": "execute_result"
    }
   ],
   "source": [
    "add = lambda x,y: x+y\n",
    "add(10,5)"
   ]
  },
  {
   "cell_type": "code",
   "execution_count": 7,
   "id": "8651d5d2",
   "metadata": {},
   "outputs": [
    {
     "data": {
      "text/plain": [
       "100"
      ]
     },
     "execution_count": 7,
     "metadata": {},
     "output_type": "execute_result"
    }
   ],
   "source": [
    "(lambda x:x**2)(10)"
   ]
  },
  {
   "cell_type": "code",
   "execution_count": 9,
   "id": "5c6f1db7",
   "metadata": {},
   "outputs": [
    {
     "data": {
      "text/plain": [
       "30"
      ]
     },
     "execution_count": 9,
     "metadata": {},
     "output_type": "execute_result"
    }
   ],
   "source": [
    "mul = lambda x,y:x*y\n",
    "mul(5,6)"
   ]
  },
  {
   "cell_type": "code",
   "execution_count": 10,
   "id": "13ea121a",
   "metadata": {},
   "outputs": [
    {
     "data": {
      "text/plain": [
       "90"
      ]
     },
     "execution_count": 10,
     "metadata": {},
     "output_type": "execute_result"
    }
   ],
   "source": [
    "mul = lambda x,y,z:x*y*z\n",
    "mul(5,6,3)"
   ]
  },
  {
   "cell_type": "code",
   "execution_count": 11,
   "id": "aebc01e0",
   "metadata": {},
   "outputs": [
    {
     "data": {
      "text/plain": [
       "4.666666666666667"
      ]
     },
     "execution_count": 11,
     "metadata": {},
     "output_type": "execute_result"
    }
   ],
   "source": [
    "avg = lambda x,y,z:(x+y+z)/3\n",
    "avg(5,6,3)"
   ]
  },
  {
   "cell_type": "code",
   "execution_count": 12,
   "id": "e17bee87",
   "metadata": {},
   "outputs": [
    {
     "data": {
      "text/plain": [
       "9"
      ]
     },
     "execution_count": 12,
     "metadata": {},
     "output_type": "execute_result"
    }
   ],
   "source": [
    "add = lambda l1: sum(l1)\n",
    "add([2,3,4])"
   ]
  },
  {
   "cell_type": "code",
   "execution_count": 13,
   "id": "5346f04a",
   "metadata": {},
   "outputs": [
    {
     "data": {
      "text/plain": [
       "23.333333333333332"
      ]
     },
     "execution_count": 13,
     "metadata": {},
     "output_type": "execute_result"
    }
   ],
   "source": [
    "avg = lambda x,y,z=40:(x+y+z)/3\n",
    "avg(10,20)"
   ]
  },
  {
   "cell_type": "code",
   "execution_count": 14,
   "id": "decad5f9",
   "metadata": {},
   "outputs": [
    {
     "data": {
      "text/plain": [
       "20.0"
      ]
     },
     "execution_count": 14,
     "metadata": {},
     "output_type": "execute_result"
    }
   ],
   "source": [
    "avg = lambda x,y,z=40:(x+y+z)/3\n",
    "avg(10,20,30)"
   ]
  },
  {
   "cell_type": "code",
   "execution_count": 15,
   "id": "cb0280e3",
   "metadata": {},
   "outputs": [
    {
     "data": {
      "text/plain": [
       "9"
      ]
     },
     "execution_count": 15,
     "metadata": {},
     "output_type": "execute_result"
    }
   ],
   "source": [
    "add = lambda *args: sum(args)\n",
    "add(2,3,4)"
   ]
  },
  {
   "cell_type": "code",
   "execution_count": 16,
   "id": "8180b785",
   "metadata": {},
   "outputs": [
    {
     "data": {
      "text/plain": [
       "69"
      ]
     },
     "execution_count": 16,
     "metadata": {},
     "output_type": "execute_result"
    }
   ],
   "source": [
    "add = lambda *args: sum(args)\n",
    "add(2,3,4,10,20,30)"
   ]
  },
  {
   "cell_type": "code",
   "execution_count": 17,
   "id": "5b167290",
   "metadata": {},
   "outputs": [
    {
     "data": {
      "text/plain": [
       "60"
      ]
     },
     "execution_count": 17,
     "metadata": {},
     "output_type": "execute_result"
    }
   ],
   "source": [
    "add = lambda **kwargs : sum(kwargs.values())\n",
    "add(a=10,b=20,c=30)"
   ]
  },
  {
   "cell_type": "code",
   "execution_count": 18,
   "id": "fb5a8911",
   "metadata": {},
   "outputs": [
    {
     "data": {
      "text/plain": [
       "[3, 4, 5, 6]"
      ]
     },
     "execution_count": 18,
     "metadata": {},
     "output_type": "execute_result"
    }
   ],
   "source": [
    "def cube(list1):\n",
    "    return list1\n",
    "\n",
    "l1= cube([3,4,5,6])\n",
    "l1"
   ]
  },
  {
   "cell_type": "code",
   "execution_count": 22,
   "id": "a0c07815",
   "metadata": {},
   "outputs": [
    {
     "name": "stdout",
     "output_type": "stream",
     "text": [
      "[3, 4, 5, 6]\n"
     ]
    },
    {
     "data": {
      "text/plain": [
       "[27, 64, 125, 216]"
      ]
     },
     "execution_count": 22,
     "metadata": {},
     "output_type": "execute_result"
    }
   ],
   "source": [
    "def cube(list1):\n",
    "    print(list1)\n",
    "    cube_list = [i**3 for i in list1] # List comprehension\n",
    "    return cube_list\n",
    "\n",
    "l1= cube([3,4,5,6])\n",
    "l1"
   ]
  },
  {
   "cell_type": "code",
   "execution_count": 23,
   "id": "207dde2c",
   "metadata": {},
   "outputs": [
    {
     "data": {
      "text/plain": [
       "[1, 8, 27, 64]"
      ]
     },
     "execution_count": 23,
     "metadata": {},
     "output_type": "execute_result"
    }
   ],
   "source": [
    "cube_num = lambda list1 : [i**3 for i in list1]\n",
    "cube_num([1,2,3,4])"
   ]
  },
  {
   "cell_type": "code",
   "execution_count": 24,
   "id": "66a1ed2e",
   "metadata": {},
   "outputs": [
    {
     "data": {
      "text/plain": [
       "[1, 4, 9, 16]"
      ]
     },
     "execution_count": 24,
     "metadata": {},
     "output_type": "execute_result"
    }
   ],
   "source": [
    "sqr_num = lambda list1 : [i**2 for i in list1]\n",
    "sqr_num([1,2,3,4])"
   ]
  },
  {
   "cell_type": "code",
   "execution_count": 25,
   "id": "65e4a9b2",
   "metadata": {},
   "outputs": [
    {
     "data": {
      "text/plain": [
       "20"
      ]
     },
     "execution_count": 25,
     "metadata": {},
     "output_type": "execute_result"
    }
   ],
   "source": [
    "maximum = lambda x,y: x if x > y else y\n",
    "maximum(10,20)"
   ]
  },
  {
   "cell_type": "code",
   "execution_count": 26,
   "id": "47204121",
   "metadata": {},
   "outputs": [
    {
     "data": {
      "text/plain": [
       "30"
      ]
     },
     "execution_count": 26,
     "metadata": {},
     "output_type": "execute_result"
    }
   ],
   "source": [
    "maximum = lambda x,y: x if x > y else y\n",
    "maximum(30,20)"
   ]
  },
  {
   "cell_type": "code",
   "execution_count": 27,
   "id": "bec041d4",
   "metadata": {},
   "outputs": [
    {
     "data": {
      "text/plain": [
       "100"
      ]
     },
     "execution_count": 27,
     "metadata": {},
     "output_type": "execute_result"
    }
   ],
   "source": [
    "maximum(100,99)"
   ]
  },
  {
   "cell_type": "code",
   "execution_count": 28,
   "id": "9c470ec6",
   "metadata": {},
   "outputs": [
    {
     "name": "stdout",
     "output_type": "stream",
     "text": [
      "30 is greater\n"
     ]
    }
   ],
   "source": [
    "maximum = lambda x,y: print(f'{x} is greater') if x > y else print(f'{y} is greater')\n",
    "maximum(30,20)"
   ]
  },
  {
   "cell_type": "code",
   "execution_count": 29,
   "id": "4f48cb3e",
   "metadata": {},
   "outputs": [
    {
     "name": "stdout",
     "output_type": "stream",
     "text": [
      "-2 is greater\n"
     ]
    }
   ],
   "source": [
    "maximum(-2,-5)"
   ]
  },
  {
   "cell_type": "markdown",
   "id": "1f44c409",
   "metadata": {},
   "source": [
    "### Built in Functions"
   ]
  },
  {
   "cell_type": "markdown",
   "id": "cb616e86",
   "metadata": {},
   "source": [
    "#### 1. filter()"
   ]
  },
  {
   "cell_type": "code",
   "execution_count": null,
   "id": "3e3d77fd",
   "metadata": {},
   "outputs": [],
   "source": [
    "filter(function, iterable/sequence)"
   ]
  },
  {
   "cell_type": "code",
   "execution_count": 30,
   "id": "7bc5eea5",
   "metadata": {},
   "outputs": [
    {
     "data": {
      "text/plain": [
       "['Sunday', 'Monday', 'Tuesday', 'Wednesday', 'Thursday', 'Friday', 'Saturday']"
      ]
     },
     "execution_count": 30,
     "metadata": {},
     "output_type": "execute_result"
    }
   ],
   "source": [
    "days =['Sunday','Monday','Tuesday','Wednesday','Thursday','Friday','Saturday']\n",
    "days"
   ]
  },
  {
   "cell_type": "markdown",
   "id": "b705acbf",
   "metadata": {},
   "source": [
    "filter is used when we only want elements which match certain condition\n",
    "when we are using conditonal statements"
   ]
  },
  {
   "cell_type": "code",
   "execution_count": 32,
   "id": "3f98f802",
   "metadata": {},
   "outputs": [
    {
     "data": {
      "text/plain": [
       "['Sunday', 'Monday', 'Friday']"
      ]
     },
     "execution_count": 32,
     "metadata": {},
     "output_type": "execute_result"
    }
   ],
   "source": [
    "days =['Sunday','Monday','Tuesday','Wednesday','Thursday','Friday','Saturday']\n",
    "list(filter(lambda x : len(x)==6 , days))"
   ]
  },
  {
   "cell_type": "markdown",
   "id": "c0df5f8d",
   "metadata": {},
   "source": [
    "#### 2. map"
   ]
  },
  {
   "cell_type": "markdown",
   "id": "adad49ed",
   "metadata": {},
   "source": [
    "map is used when you want to do exact operation on each of the element\n",
    "when all element are not satisfies by condition then we get boolean output of all element"
   ]
  },
  {
   "cell_type": "code",
   "execution_count": null,
   "id": "138bd153",
   "metadata": {},
   "outputs": [],
   "source": [
    "map(function, iterable/sequence)"
   ]
  },
  {
   "cell_type": "code",
   "execution_count": 33,
   "id": "0e77786d",
   "metadata": {},
   "outputs": [
    {
     "data": {
      "text/plain": [
       "[True, True, False, False, False, True, False]"
      ]
     },
     "execution_count": 33,
     "metadata": {},
     "output_type": "execute_result"
    }
   ],
   "source": [
    "days =['Sunday','Monday','Tuesday','Wednesday','Thursday','Friday','Saturday']\n",
    "list(map(lambda x : len(x)==6 , days))"
   ]
  },
  {
   "cell_type": "code",
   "execution_count": 34,
   "id": "4b43e1d9",
   "metadata": {},
   "outputs": [
    {
     "data": {
      "text/plain": [
       "['SUNDAY', 'MONDAY', 'TUESDAY', 'WEDNESDAY', 'THURSDAY', 'FRIDAY', 'SATURDAY']"
      ]
     },
     "execution_count": 34,
     "metadata": {},
     "output_type": "execute_result"
    }
   ],
   "source": [
    "days =['Sunday','Monday','Tuesday','Wednesday','Thursday','Friday','Saturday']\n",
    "list(map(lambda x : x.upper() , days))"
   ]
  },
  {
   "cell_type": "code",
   "execution_count": 35,
   "id": "74cd275c",
   "metadata": {},
   "outputs": [
    {
     "data": {
      "text/plain": [
       "['Sunday', 'Monday', 'Tuesday', 'Wednesday', 'Thursday', 'Friday', 'Saturday']"
      ]
     },
     "execution_count": 35,
     "metadata": {},
     "output_type": "execute_result"
    }
   ],
   "source": [
    "days =['Sunday','Monday','Tuesday','Wednesday','Thursday','Friday','Saturday']\n",
    "list(filter(lambda x : x.upper() , days))"
   ]
  },
  {
   "cell_type": "code",
   "execution_count": 39,
   "id": "15c747c4",
   "metadata": {},
   "outputs": [
    {
     "data": {
      "text/plain": [
       "[2, 3, 4, 5, 6]"
      ]
     },
     "execution_count": 39,
     "metadata": {},
     "output_type": "execute_result"
    }
   ],
   "source": [
    "num=[2,3,4,5,6]\n",
    "list(filter(lambda x : x**2 , num))"
   ]
  },
  {
   "cell_type": "code",
   "execution_count": 36,
   "id": "82c3d7e1",
   "metadata": {},
   "outputs": [
    {
     "data": {
      "text/plain": [
       "[4, 9, 16, 25, 36]"
      ]
     },
     "execution_count": 36,
     "metadata": {},
     "output_type": "execute_result"
    }
   ],
   "source": [
    "num=[2,3,4,5,6]\n",
    "list(map(lambda x : x**2 , num))"
   ]
  },
  {
   "cell_type": "code",
   "execution_count": 37,
   "id": "0585bcc1",
   "metadata": {},
   "outputs": [
    {
     "data": {
      "text/plain": [
       "[True, False, True, False, True]"
      ]
     },
     "execution_count": 37,
     "metadata": {},
     "output_type": "execute_result"
    }
   ],
   "source": [
    "num=[2,3,4,5,6]\n",
    "list(map(lambda x : x%2==0 , num))"
   ]
  },
  {
   "cell_type": "code",
   "execution_count": 38,
   "id": "e32ee87b",
   "metadata": {},
   "outputs": [
    {
     "data": {
      "text/plain": [
       "[2, 4, 6]"
      ]
     },
     "execution_count": 38,
     "metadata": {},
     "output_type": "execute_result"
    }
   ],
   "source": [
    "num=[2,3,4,5,6]\n",
    "list(filter(lambda x : x%2==0 , num))"
   ]
  },
  {
   "cell_type": "code",
   "execution_count": 40,
   "id": "2d173286",
   "metadata": {},
   "outputs": [
    {
     "data": {
      "text/plain": [
       "['Sunday', 'Monday', 'Tuesday', 'Thursday', 'Saturday']"
      ]
     },
     "execution_count": 40,
     "metadata": {},
     "output_type": "execute_result"
    }
   ],
   "source": [
    "days =['Sunday','Monday','Tuesday','wednesday','Thursday','friday','Saturday']\n",
    "list(filter(lambda x : x.istitle() , days))"
   ]
  },
  {
   "cell_type": "code",
   "execution_count": 41,
   "id": "088e3a39",
   "metadata": {},
   "outputs": [
    {
     "data": {
      "text/plain": [
       "[True, True, True, False, True, False, True]"
      ]
     },
     "execution_count": 41,
     "metadata": {},
     "output_type": "execute_result"
    }
   ],
   "source": [
    "days =['Sunday','Monday','Tuesday','wednesday','Thursday','friday','Saturday']\n",
    "list(map(lambda x : x.istitle() , days))"
   ]
  },
  {
   "cell_type": "code",
   "execution_count": 42,
   "id": "23dd7305",
   "metadata": {},
   "outputs": [
    {
     "data": {
      "text/plain": [
       "['sunday', 'monday', 'tuesday', 'wednesday', 'thursday', 'friday', 'saturday']"
      ]
     },
     "execution_count": 42,
     "metadata": {},
     "output_type": "execute_result"
    }
   ],
   "source": [
    "days =['Sunday','Monday','Tuesday','wednesday','Thursday','friday','Saturday']\n",
    "list(map(lambda x : x.lower() , days))"
   ]
  },
  {
   "cell_type": "code",
   "execution_count": 43,
   "id": "5b415315",
   "metadata": {},
   "outputs": [
    {
     "data": {
      "text/plain": [
       "['Sunday', 'Monday', 'Tuesday', 'wednesday', 'Thursday', 'friday', 'Saturday']"
      ]
     },
     "execution_count": 43,
     "metadata": {},
     "output_type": "execute_result"
    }
   ],
   "source": [
    "days =['Sunday','Monday','Tuesday','wednesday','Thursday','friday','Saturday']\n",
    "list(filter(lambda x : x.lower() , days))"
   ]
  },
  {
   "cell_type": "code",
   "execution_count": 45,
   "id": "a708c65e",
   "metadata": {},
   "outputs": [
    {
     "name": "stdout",
     "output_type": "stream",
     "text": [
      "2 is even\n",
      "3 is odd\n",
      "4 is even\n",
      "5 is odd\n",
      "6 is even\n"
     ]
    },
    {
     "data": {
      "text/plain": [
       "[]"
      ]
     },
     "execution_count": 45,
     "metadata": {},
     "output_type": "execute_result"
    }
   ],
   "source": [
    "num=[2,3,4,5,6]\n",
    "list(filter(lambda x : print(f'{x} is even') if x%2==0 else print(f'{x} is odd') , num))"
   ]
  },
  {
   "cell_type": "code",
   "execution_count": 46,
   "id": "ba8fefe2",
   "metadata": {},
   "outputs": [
    {
     "name": "stdout",
     "output_type": "stream",
     "text": [
      "2 is even\n",
      "3 is odd\n",
      "4 is even\n",
      "5 is odd\n",
      "6 is even\n"
     ]
    },
    {
     "data": {
      "text/plain": [
       "[None, None, None, None, None]"
      ]
     },
     "execution_count": 46,
     "metadata": {},
     "output_type": "execute_result"
    }
   ],
   "source": [
    "num=[2,3,4,5,6]\n",
    "list(map(lambda x : print(f'{x} is even') if x%2==0 else print(f'{x} is odd') , num))"
   ]
  },
  {
   "cell_type": "code",
   "execution_count": 47,
   "id": "70018de8",
   "metadata": {},
   "outputs": [
    {
     "data": {
      "text/plain": [
       "['sunday', 'monday', 'tuesday', 'wednesday', 'thursday', 'friday', 'saturday']"
      ]
     },
     "execution_count": 47,
     "metadata": {},
     "output_type": "execute_result"
    }
   ],
   "source": [
    "days =['Sunday','Monday','Tuesday','wednesday','Thursday','friday','Saturday']\n",
    "a= list(map(lambda x : x.lower() , days))\n",
    "a"
   ]
  },
  {
   "cell_type": "markdown",
   "id": "66254add",
   "metadata": {},
   "source": [
    "#### 3. reduce"
   ]
  },
  {
   "cell_type": "code",
   "execution_count": 48,
   "id": "70a3690e",
   "metadata": {},
   "outputs": [
    {
     "data": {
      "text/plain": [
       "27"
      ]
     },
     "execution_count": 48,
     "metadata": {},
     "output_type": "execute_result"
    }
   ],
   "source": [
    "from functools import reduce\n",
    "from functools import *\n",
    "l1 = [2,3,4,5,6,7]\n",
    "reduce(lambda x,y:x+y ,l1)"
   ]
  },
  {
   "cell_type": "code",
   "execution_count": 49,
   "id": "79b4a9bf",
   "metadata": {},
   "outputs": [
    {
     "data": {
      "text/plain": [
       "120"
      ]
     },
     "execution_count": 49,
     "metadata": {},
     "output_type": "execute_result"
    }
   ],
   "source": [
    "l1 = [2,3,4,5]\n",
    "reduce(lambda x,y:x*y ,l1)"
   ]
  },
  {
   "cell_type": "code",
   "execution_count": 50,
   "id": "26844766",
   "metadata": {},
   "outputs": [
    {
     "data": {
      "text/plain": [
       "55"
      ]
     },
     "execution_count": 50,
     "metadata": {},
     "output_type": "execute_result"
    }
   ],
   "source": [
    "reduce(lambda x,y:x+y ,range(1,11))"
   ]
  },
  {
   "cell_type": "code",
   "execution_count": 51,
   "id": "cdc7a065",
   "metadata": {},
   "outputs": [
    {
     "data": {
      "text/plain": [
       "30"
      ]
     },
     "execution_count": 51,
     "metadata": {},
     "output_type": "execute_result"
    }
   ],
   "source": [
    "a={1:10,2:20}\n",
    "reduce(lambda x,y:x+y ,a.values())"
   ]
  },
  {
   "cell_type": "markdown",
   "id": "805a99fc",
   "metadata": {},
   "source": [
    "#### 4. all"
   ]
  },
  {
   "cell_type": "code",
   "execution_count": null,
   "id": "fd1a3f5c",
   "metadata": {},
   "outputs": [],
   "source": [
    "all(iterables)\n",
    "True >> if all the elements are True\n",
    "True >> if iterable is empty\n",
    "False >> if any of elements are 0(0, False)"
   ]
  },
  {
   "cell_type": "code",
   "execution_count": 53,
   "id": "2df123eb",
   "metadata": {},
   "outputs": [
    {
     "data": {
      "text/plain": [
       "True"
      ]
     },
     "execution_count": 53,
     "metadata": {},
     "output_type": "execute_result"
    }
   ],
   "source": [
    "list1=[2,3,4,5,6]\n",
    "all(list1)"
   ]
  },
  {
   "cell_type": "code",
   "execution_count": 54,
   "id": "ae120a55",
   "metadata": {},
   "outputs": [
    {
     "data": {
      "text/plain": [
       "True"
      ]
     },
     "execution_count": 54,
     "metadata": {},
     "output_type": "execute_result"
    }
   ],
   "source": [
    "list1=[2,3,4,5,6,'data']\n",
    "all(list1)"
   ]
  },
  {
   "cell_type": "code",
   "execution_count": 55,
   "id": "30d27b68",
   "metadata": {},
   "outputs": [
    {
     "data": {
      "text/plain": [
       "False"
      ]
     },
     "execution_count": 55,
     "metadata": {},
     "output_type": "execute_result"
    }
   ],
   "source": [
    "list1=[2,3,4,5,6,0,'data']\n",
    "all(list1)"
   ]
  },
  {
   "cell_type": "code",
   "execution_count": 56,
   "id": "ba77f2be",
   "metadata": {},
   "outputs": [
    {
     "data": {
      "text/plain": [
       "False"
      ]
     },
     "execution_count": 56,
     "metadata": {},
     "output_type": "execute_result"
    }
   ],
   "source": [
    "list1=[2,3,4,5,6,False,'data']\n",
    "all(list1)"
   ]
  },
  {
   "cell_type": "code",
   "execution_count": 57,
   "id": "4ab6cf65",
   "metadata": {},
   "outputs": [
    {
     "data": {
      "text/plain": [
       "True"
      ]
     },
     "execution_count": 57,
     "metadata": {},
     "output_type": "execute_result"
    }
   ],
   "source": [
    "all([])"
   ]
  },
  {
   "cell_type": "code",
   "execution_count": 58,
   "id": "43bc89a6",
   "metadata": {},
   "outputs": [
    {
     "data": {
      "text/plain": [
       "False"
      ]
     },
     "execution_count": 58,
     "metadata": {},
     "output_type": "execute_result"
    }
   ],
   "source": [
    "list1=[2,3,4,5,6,'']\n",
    "all(list1)"
   ]
  },
  {
   "cell_type": "code",
   "execution_count": 60,
   "id": "b89cf5c8",
   "metadata": {},
   "outputs": [
    {
     "data": {
      "text/plain": [
       "True"
      ]
     },
     "execution_count": 60,
     "metadata": {},
     "output_type": "execute_result"
    }
   ],
   "source": [
    "all([-1,2,2,3,4,-6])"
   ]
  },
  {
   "cell_type": "code",
   "execution_count": 61,
   "id": "08e9d3ed",
   "metadata": {},
   "outputs": [
    {
     "data": {
      "text/plain": [
       "True"
      ]
     },
     "execution_count": 61,
     "metadata": {},
     "output_type": "execute_result"
    }
   ],
   "source": [
    "all([True, 1, True ])"
   ]
  },
  {
   "cell_type": "code",
   "execution_count": 62,
   "id": "c39cdd41",
   "metadata": {},
   "outputs": [
    {
     "data": {
      "text/plain": [
       "False"
      ]
     },
     "execution_count": 62,
     "metadata": {},
     "output_type": "execute_result"
    }
   ],
   "source": [
    "all([True, 1, 0 ])"
   ]
  },
  {
   "cell_type": "code",
   "execution_count": 63,
   "id": "a041019b",
   "metadata": {},
   "outputs": [
    {
     "data": {
      "text/plain": [
       "False"
      ]
     },
     "execution_count": 63,
     "metadata": {},
     "output_type": "execute_result"
    }
   ],
   "source": [
    "all([True, 1, False ])"
   ]
  },
  {
   "cell_type": "code",
   "execution_count": 64,
   "id": "475ab9af",
   "metadata": {},
   "outputs": [
    {
     "data": {
      "text/plain": [
       "False"
      ]
     },
     "execution_count": 64,
     "metadata": {},
     "output_type": "execute_result"
    }
   ],
   "source": [
    "all([True, 1, '' ])"
   ]
  },
  {
   "cell_type": "code",
   "execution_count": 65,
   "id": "3c5ea203",
   "metadata": {},
   "outputs": [
    {
     "data": {
      "text/plain": [
       "True"
      ]
     },
     "execution_count": 65,
     "metadata": {},
     "output_type": "execute_result"
    }
   ],
   "source": [
    "all({'a':10,'b':0}) # checks keys only"
   ]
  },
  {
   "cell_type": "code",
   "execution_count": 66,
   "id": "fbb7a0de",
   "metadata": {},
   "outputs": [
    {
     "data": {
      "text/plain": [
       "False"
      ]
     },
     "execution_count": 66,
     "metadata": {},
     "output_type": "execute_result"
    }
   ],
   "source": [
    "all({'a':10,'':0})"
   ]
  },
  {
   "cell_type": "code",
   "execution_count": 67,
   "id": "fdefa5a8",
   "metadata": {},
   "outputs": [
    {
     "data": {
      "text/plain": [
       "False"
      ]
     },
     "execution_count": 67,
     "metadata": {},
     "output_type": "execute_result"
    }
   ],
   "source": [
    "all({'a':10,0:20})"
   ]
  },
  {
   "cell_type": "markdown",
   "id": "30cb0c47",
   "metadata": {},
   "source": [
    "#### 5, any()"
   ]
  },
  {
   "cell_type": "code",
   "execution_count": null,
   "id": "0beeb8c7",
   "metadata": {},
   "outputs": [],
   "source": [
    "any(iterables)\n",
    "True >> if at least one elem is True\n",
    "False >> if all elem are false or iterable is empty"
   ]
  },
  {
   "cell_type": "code",
   "execution_count": 68,
   "id": "4db651b2",
   "metadata": {},
   "outputs": [
    {
     "data": {
      "text/plain": [
       "True"
      ]
     },
     "execution_count": 68,
     "metadata": {},
     "output_type": "execute_result"
    }
   ],
   "source": [
    "l1=[12,3,34,1,5,7]\n",
    "any(l1)"
   ]
  },
  {
   "cell_type": "code",
   "execution_count": 69,
   "id": "67967fe5",
   "metadata": {},
   "outputs": [
    {
     "data": {
      "text/plain": [
       "True"
      ]
     },
     "execution_count": 69,
     "metadata": {},
     "output_type": "execute_result"
    }
   ],
   "source": [
    "any([0,10,2])"
   ]
  },
  {
   "cell_type": "code",
   "execution_count": 70,
   "id": "f8714285",
   "metadata": {},
   "outputs": [
    {
     "data": {
      "text/plain": [
       "False"
      ]
     },
     "execution_count": 70,
     "metadata": {},
     "output_type": "execute_result"
    }
   ],
   "source": [
    "any([0,False])"
   ]
  },
  {
   "cell_type": "code",
   "execution_count": 71,
   "id": "6c3051dd",
   "metadata": {},
   "outputs": [
    {
     "data": {
      "text/plain": [
       "False"
      ]
     },
     "execution_count": 71,
     "metadata": {},
     "output_type": "execute_result"
    }
   ],
   "source": [
    "any([])"
   ]
  },
  {
   "cell_type": "code",
   "execution_count": 72,
   "id": "1d544f4a",
   "metadata": {},
   "outputs": [
    {
     "data": {
      "text/plain": [
       "True"
      ]
     },
     "execution_count": 72,
     "metadata": {},
     "output_type": "execute_result"
    }
   ],
   "source": [
    "any({'a':10,0:20})"
   ]
  },
  {
   "cell_type": "code",
   "execution_count": 74,
   "id": "f83fbebf",
   "metadata": {},
   "outputs": [
    {
     "data": {
      "text/plain": [
       "False"
      ]
     },
     "execution_count": 74,
     "metadata": {},
     "output_type": "execute_result"
    }
   ],
   "source": [
    "any({'':10,0:20})"
   ]
  },
  {
   "cell_type": "code",
   "execution_count": 73,
   "id": "f22b8aac",
   "metadata": {},
   "outputs": [
    {
     "data": {
      "text/plain": [
       "False"
      ]
     },
     "execution_count": 73,
     "metadata": {},
     "output_type": "execute_result"
    }
   ],
   "source": [
    "all({'a':10,0:20})"
   ]
  },
  {
   "cell_type": "markdown",
   "id": "9148ffe2",
   "metadata": {},
   "source": [
    "#### 6. chr()"
   ]
  },
  {
   "cell_type": "code",
   "execution_count": null,
   "id": "0155b1ba",
   "metadata": {},
   "outputs": [],
   "source": [
    "ASCII CODE >> character"
   ]
  },
  {
   "cell_type": "code",
   "execution_count": 75,
   "id": "4ad0021e",
   "metadata": {},
   "outputs": [
    {
     "data": {
      "text/plain": [
       "'C'"
      ]
     },
     "execution_count": 75,
     "metadata": {},
     "output_type": "execute_result"
    }
   ],
   "source": [
    "chr(67)"
   ]
  },
  {
   "cell_type": "code",
   "execution_count": 76,
   "id": "41d215f4",
   "metadata": {},
   "outputs": [
    {
     "data": {
      "text/plain": [
       "'d'"
      ]
     },
     "execution_count": 76,
     "metadata": {},
     "output_type": "execute_result"
    }
   ],
   "source": [
    "chr(100)"
   ]
  },
  {
   "cell_type": "markdown",
   "id": "24a7aff9",
   "metadata": {},
   "source": [
    "#### 7. ord()"
   ]
  },
  {
   "cell_type": "code",
   "execution_count": 77,
   "id": "302eafc6",
   "metadata": {},
   "outputs": [
    {
     "data": {
      "text/plain": [
       "97"
      ]
     },
     "execution_count": 77,
     "metadata": {},
     "output_type": "execute_result"
    }
   ],
   "source": [
    "ord('a')"
   ]
  },
  {
   "cell_type": "code",
   "execution_count": 79,
   "id": "62b68b44",
   "metadata": {},
   "outputs": [
    {
     "data": {
      "text/plain": [
       "57"
      ]
     },
     "execution_count": 79,
     "metadata": {},
     "output_type": "execute_result"
    }
   ],
   "source": [
    "ord('9')"
   ]
  },
  {
   "cell_type": "code",
   "execution_count": 80,
   "id": "c4c6deff",
   "metadata": {},
   "outputs": [
    {
     "data": {
      "text/plain": [
       "59"
      ]
     },
     "execution_count": 80,
     "metadata": {},
     "output_type": "execute_result"
    }
   ],
   "source": [
    "ord(';')"
   ]
  },
  {
   "cell_type": "markdown",
   "id": "efd7957f",
   "metadata": {},
   "source": [
    "#### 8. bin()"
   ]
  },
  {
   "cell_type": "code",
   "execution_count": 81,
   "id": "be8226e5",
   "metadata": {},
   "outputs": [
    {
     "data": {
      "text/plain": [
       "'0b1010'"
      ]
     },
     "execution_count": 81,
     "metadata": {},
     "output_type": "execute_result"
    }
   ],
   "source": [
    "bin(10)"
   ]
  },
  {
   "cell_type": "code",
   "execution_count": 82,
   "id": "01e89362",
   "metadata": {},
   "outputs": [
    {
     "data": {
      "text/plain": [
       "'0b1'"
      ]
     },
     "execution_count": 82,
     "metadata": {},
     "output_type": "execute_result"
    }
   ],
   "source": [
    "bin(1)"
   ]
  },
  {
   "cell_type": "markdown",
   "id": "c79a6dfe",
   "metadata": {},
   "source": [
    "#### 9. bool"
   ]
  },
  {
   "cell_type": "code",
   "execution_count": 83,
   "id": "0ff69f38",
   "metadata": {},
   "outputs": [
    {
     "data": {
      "text/plain": [
       "True"
      ]
     },
     "execution_count": 83,
     "metadata": {},
     "output_type": "execute_result"
    }
   ],
   "source": [
    "bool(2)"
   ]
  },
  {
   "cell_type": "code",
   "execution_count": 84,
   "id": "01b6c01f",
   "metadata": {},
   "outputs": [
    {
     "data": {
      "text/plain": [
       "True"
      ]
     },
     "execution_count": 84,
     "metadata": {},
     "output_type": "execute_result"
    }
   ],
   "source": [
    "bool(4==4)"
   ]
  },
  {
   "cell_type": "code",
   "execution_count": 85,
   "id": "d25070bd",
   "metadata": {},
   "outputs": [
    {
     "data": {
      "text/plain": [
       "False"
      ]
     },
     "execution_count": 85,
     "metadata": {},
     "output_type": "execute_result"
    }
   ],
   "source": [
    "bool(0)"
   ]
  },
  {
   "cell_type": "code",
   "execution_count": 86,
   "id": "9b1eef62",
   "metadata": {},
   "outputs": [
    {
     "data": {
      "text/plain": [
       "False"
      ]
     },
     "execution_count": 86,
     "metadata": {},
     "output_type": "execute_result"
    }
   ],
   "source": [
    "bool([])"
   ]
  },
  {
   "cell_type": "markdown",
   "id": "82b0f348",
   "metadata": {},
   "source": [
    "#### 10. abs()"
   ]
  },
  {
   "cell_type": "code",
   "execution_count": null,
   "id": "fe75fca6",
   "metadata": {},
   "outputs": [],
   "source": [
    "Returns absolute values(positive values)\n",
    "\n",
    "if number is complex >> abs returns its magnitude"
   ]
  },
  {
   "cell_type": "code",
   "execution_count": 87,
   "id": "2bde5e5f",
   "metadata": {},
   "outputs": [
    {
     "data": {
      "text/plain": [
       "10"
      ]
     },
     "execution_count": 87,
     "metadata": {},
     "output_type": "execute_result"
    }
   ],
   "source": [
    "abs(10)"
   ]
  },
  {
   "cell_type": "code",
   "execution_count": 88,
   "id": "4f68a8e8",
   "metadata": {},
   "outputs": [
    {
     "data": {
      "text/plain": [
       "10"
      ]
     },
     "execution_count": 88,
     "metadata": {},
     "output_type": "execute_result"
    }
   ],
   "source": [
    "abs(-10)"
   ]
  },
  {
   "cell_type": "code",
   "execution_count": 89,
   "id": "9ec7c883",
   "metadata": {},
   "outputs": [
    {
     "data": {
      "text/plain": [
       "5.0"
      ]
     },
     "execution_count": 89,
     "metadata": {},
     "output_type": "execute_result"
    }
   ],
   "source": [
    "abs(3+4j)"
   ]
  },
  {
   "cell_type": "code",
   "execution_count": 90,
   "id": "57355557",
   "metadata": {},
   "outputs": [
    {
     "data": {
      "text/plain": [
       "10.0"
      ]
     },
     "execution_count": 90,
     "metadata": {},
     "output_type": "execute_result"
    }
   ],
   "source": [
    "abs(6+8j) # square both values and take root "
   ]
  },
  {
   "cell_type": "markdown",
   "id": "5417d1b9",
   "metadata": {},
   "source": [
    "#### 11. dir()"
   ]
  },
  {
   "cell_type": "code",
   "execution_count": null,
   "id": "8802a190",
   "metadata": {},
   "outputs": [],
   "source": [
    "dir >> directory\n",
    "List of valid attributes (variables, functions, classnames) of an object"
   ]
  },
  {
   "cell_type": "code",
   "execution_count": 91,
   "id": "9184c1b6",
   "metadata": {},
   "outputs": [
    {
     "name": "stdout",
     "output_type": "stream",
     "text": [
      "['DirEntry', 'F_OK', 'MutableMapping', 'O_APPEND', 'O_BINARY', 'O_CREAT', 'O_EXCL', 'O_NOINHERIT', 'O_RANDOM', 'O_RDONLY', 'O_RDWR', 'O_SEQUENTIAL', 'O_SHORT_LIVED', 'O_TEMPORARY', 'O_TEXT', 'O_TRUNC', 'O_WRONLY', 'P_DETACH', 'P_NOWAIT', 'P_NOWAITO', 'P_OVERLAY', 'P_WAIT', 'PathLike', 'R_OK', 'SEEK_CUR', 'SEEK_END', 'SEEK_SET', 'TMP_MAX', 'W_OK', 'X_OK', '_AddedDllDirectory', '_Environ', '__all__', '__builtins__', '__cached__', '__doc__', '__file__', '__loader__', '__name__', '__package__', '__spec__', '_check_methods', '_execvpe', '_exists', '_exit', '_fspath', '_get_exports_list', '_putenv', '_unsetenv', '_wrap_close', 'abc', 'abort', 'access', 'add_dll_directory', 'altsep', 'chdir', 'chmod', 'close', 'closerange', 'cpu_count', 'curdir', 'defpath', 'device_encoding', 'devnull', 'dup', 'dup2', 'environ', 'error', 'execl', 'execle', 'execlp', 'execlpe', 'execv', 'execve', 'execvp', 'execvpe', 'extsep', 'fdopen', 'fsdecode', 'fsencode', 'fspath', 'fstat', 'fsync', 'ftruncate', 'get_exec_path', 'get_handle_inheritable', 'get_inheritable', 'get_terminal_size', 'getcwd', 'getcwdb', 'getenv', 'getlogin', 'getpid', 'getppid', 'isatty', 'kill', 'linesep', 'link', 'listdir', 'lseek', 'lstat', 'makedirs', 'mkdir', 'name', 'open', 'pardir', 'path', 'pathsep', 'pipe', 'popen', 'putenv', 'read', 'readlink', 'remove', 'removedirs', 'rename', 'renames', 'replace', 'rmdir', 'scandir', 'sep', 'set_handle_inheritable', 'set_inheritable', 'spawnl', 'spawnle', 'spawnv', 'spawnve', 'st', 'startfile', 'stat', 'stat_result', 'statvfs_result', 'strerror', 'supports_bytes_environ', 'supports_dir_fd', 'supports_effective_ids', 'supports_fd', 'supports_follow_symlinks', 'symlink', 'sys', 'system', 'terminal_size', 'times', 'times_result', 'truncate', 'umask', 'uname_result', 'unlink', 'urandom', 'utime', 'waitpid', 'walk', 'write']\n"
     ]
    }
   ],
   "source": [
    "import os\n",
    "print(dir(os))"
   ]
  },
  {
   "cell_type": "code",
   "execution_count": 92,
   "id": "6591c4c3",
   "metadata": {},
   "outputs": [
    {
     "name": "stdout",
     "output_type": "stream",
     "text": [
      "['BooleanDtype', 'Categorical', 'CategoricalDtype', 'CategoricalIndex', 'DataFrame', 'DateOffset', 'DatetimeIndex', 'DatetimeTZDtype', 'ExcelFile', 'ExcelWriter', 'Flags', 'Float32Dtype', 'Float64Dtype', 'Float64Index', 'Grouper', 'HDFStore', 'Index', 'IndexSlice', 'Int16Dtype', 'Int32Dtype', 'Int64Dtype', 'Int64Index', 'Int8Dtype', 'Interval', 'IntervalDtype', 'IntervalIndex', 'MultiIndex', 'NA', 'NaT', 'NamedAgg', 'Period', 'PeriodDtype', 'PeriodIndex', 'RangeIndex', 'Series', 'SparseDtype', 'StringDtype', 'Timedelta', 'TimedeltaIndex', 'Timestamp', 'UInt16Dtype', 'UInt32Dtype', 'UInt64Dtype', 'UInt64Index', 'UInt8Dtype', '__builtins__', '__cached__', '__doc__', '__docformat__', '__file__', '__getattr__', '__git_version__', '__loader__', '__name__', '__package__', '__path__', '__spec__', '__version__', '_config', '_hashtable', '_is_numpy_dev', '_lib', '_libs', '_np_version_under1p17', '_np_version_under1p18', '_testing', '_tslib', '_typing', '_version', 'api', 'array', 'arrays', 'bdate_range', 'compat', 'concat', 'core', 'crosstab', 'cut', 'date_range', 'describe_option', 'errors', 'eval', 'factorize', 'get_dummies', 'get_option', 'infer_freq', 'interval_range', 'io', 'isna', 'isnull', 'json_normalize', 'lreshape', 'melt', 'merge', 'merge_asof', 'merge_ordered', 'notna', 'notnull', 'offsets', 'option_context', 'options', 'pandas', 'period_range', 'pivot', 'pivot_table', 'plotting', 'qcut', 'read_clipboard', 'read_csv', 'read_excel', 'read_feather', 'read_fwf', 'read_gbq', 'read_hdf', 'read_html', 'read_json', 'read_orc', 'read_parquet', 'read_pickle', 'read_sas', 'read_spss', 'read_sql', 'read_sql_query', 'read_sql_table', 'read_stata', 'read_table', 'reset_option', 'set_eng_float_format', 'set_option', 'show_versions', 'test', 'testing', 'timedelta_range', 'to_datetime', 'to_numeric', 'to_pickle', 'to_timedelta', 'tseries', 'unique', 'util', 'value_counts', 'wide_to_long']\n"
     ]
    }
   ],
   "source": [
    "import pandas\n",
    "print(dir(pandas))"
   ]
  },
  {
   "cell_type": "markdown",
   "id": "b456b1ac",
   "metadata": {},
   "source": [
    "#### 12. enumerate()"
   ]
  },
  {
   "cell_type": "code",
   "execution_count": 93,
   "id": "66af28a4",
   "metadata": {},
   "outputs": [
    {
     "data": {
      "text/plain": [
       "[(0, 'p'), (1, 'y'), (2, 't'), (3, 'h'), (4, 'o'), (5, 'n')]"
      ]
     },
     "execution_count": 93,
     "metadata": {},
     "output_type": "execute_result"
    }
   ],
   "source": [
    "s= 'python'\n",
    "list(enumerate(s))"
   ]
  },
  {
   "cell_type": "code",
   "execution_count": 94,
   "id": "01cf8ed4",
   "metadata": {},
   "outputs": [
    {
     "name": "stdout",
     "output_type": "stream",
     "text": [
      "i==0, val==p\n",
      "i==1, val==y\n",
      "i==2, val==t\n",
      "i==3, val==h\n",
      "i==4, val==o\n",
      "i==5, val==n\n"
     ]
    }
   ],
   "source": [
    "for i,val in enumerate(s):\n",
    "    print(f'i=={i}, val=={val}')"
   ]
  },
  {
   "cell_type": "markdown",
   "id": "91cdbb12",
   "metadata": {},
   "source": [
    "#### 13. range()"
   ]
  },
  {
   "cell_type": "code",
   "execution_count": 95,
   "id": "f5876790",
   "metadata": {},
   "outputs": [
    {
     "data": {
      "text/plain": [
       "[0, 1, 2, 3, 4, 5, 6, 7, 8, 9, 10]"
      ]
     },
     "execution_count": 95,
     "metadata": {},
     "output_type": "execute_result"
    }
   ],
   "source": [
    "list(range(11))"
   ]
  },
  {
   "cell_type": "code",
   "execution_count": 96,
   "id": "d5daafa7",
   "metadata": {},
   "outputs": [
    {
     "name": "stdout",
     "output_type": "stream",
     "text": [
      "0\n",
      "1\n",
      "2\n",
      "3\n",
      "4\n",
      "5\n",
      "6\n",
      "7\n",
      "8\n",
      "9\n",
      "10\n"
     ]
    }
   ],
   "source": [
    "for i in range(11):\n",
    "    print(i)"
   ]
  },
  {
   "cell_type": "code",
   "execution_count": 100,
   "id": "8e9eae0e",
   "metadata": {},
   "outputs": [
    {
     "name": "stdout",
     "output_type": "stream",
     "text": [
      "4\n",
      "9\n",
      "16\n",
      "25\n",
      "36\n"
     ]
    }
   ],
   "source": [
    "l1=[2,3,4,5,6]\n",
    "for i in l1:\n",
    "    print(i**2)"
   ]
  },
  {
   "cell_type": "code",
   "execution_count": 101,
   "id": "c4d1b571",
   "metadata": {},
   "outputs": [
    {
     "name": "stdout",
     "output_type": "stream",
     "text": [
      "4\n",
      "9\n",
      "16\n",
      "25\n",
      "36\n"
     ]
    }
   ],
   "source": [
    "l1=[2,3,4,5,6]\n",
    "for i in range(len(l1)):\n",
    "    print(l1[i]**2)"
   ]
  },
  {
   "cell_type": "markdown",
   "id": "8e5e99ee",
   "metadata": {},
   "source": [
    "#### 14. print()"
   ]
  },
  {
   "cell_type": "code",
   "execution_count": 102,
   "id": "08764826",
   "metadata": {},
   "outputs": [
    {
     "name": "stdout",
     "output_type": "stream",
     "text": [
      "data\n"
     ]
    }
   ],
   "source": [
    "a= 'data'\n",
    "print(a)"
   ]
  },
  {
   "cell_type": "markdown",
   "id": "b432a90c",
   "metadata": {},
   "source": [
    "#### 15. input()"
   ]
  },
  {
   "cell_type": "code",
   "execution_count": null,
   "id": "86ca848a",
   "metadata": {},
   "outputs": [],
   "source": [
    "user inputs"
   ]
  },
  {
   "cell_type": "code",
   "execution_count": 104,
   "id": "f769c094",
   "metadata": {},
   "outputs": [
    {
     "name": "stdout",
     "output_type": "stream",
     "text": [
      "Enter a value of n:10\n"
     ]
    }
   ],
   "source": [
    "n=input('Enter a value of n:')"
   ]
  },
  {
   "cell_type": "code",
   "execution_count": 105,
   "id": "9f48bb35",
   "metadata": {},
   "outputs": [
    {
     "data": {
      "text/plain": [
       "'10'"
      ]
     },
     "execution_count": 105,
     "metadata": {},
     "output_type": "execute_result"
    }
   ],
   "source": [
    "n"
   ]
  },
  {
   "cell_type": "code",
   "execution_count": 106,
   "id": "1c5722c3",
   "metadata": {},
   "outputs": [
    {
     "name": "stdout",
     "output_type": "stream",
     "text": [
      "Enter a value of n:10\n"
     ]
    }
   ],
   "source": [
    "n=int(input('Enter a value of n:'))"
   ]
  },
  {
   "cell_type": "code",
   "execution_count": 107,
   "id": "db164c43",
   "metadata": {},
   "outputs": [
    {
     "data": {
      "text/plain": [
       "10"
      ]
     },
     "execution_count": 107,
     "metadata": {},
     "output_type": "execute_result"
    }
   ],
   "source": [
    "n"
   ]
  },
  {
   "cell_type": "markdown",
   "id": "81b2f666",
   "metadata": {},
   "source": [
    "#### 16. eval()"
   ]
  },
  {
   "cell_type": "code",
   "execution_count": 108,
   "id": "b4fb0459",
   "metadata": {},
   "outputs": [
    {
     "name": "stdout",
     "output_type": "stream",
     "text": [
      "enter a num100\n",
      "100.0 <class 'float'>\n"
     ]
    }
   ],
   "source": [
    "a = float(input('enter a num'))\n",
    "print(a,type(a))"
   ]
  },
  {
   "cell_type": "code",
   "execution_count": 109,
   "id": "aaa41e75",
   "metadata": {},
   "outputs": [
    {
     "name": "stdout",
     "output_type": "stream",
     "text": [
      "enter a num10.5\n",
      "10.5 <class 'float'>\n"
     ]
    }
   ],
   "source": [
    "a = float(input('enter a num'))\n",
    "print(a,type(a))"
   ]
  },
  {
   "cell_type": "code",
   "execution_count": 2,
   "id": "e371bb9c",
   "metadata": {},
   "outputs": [
    {
     "name": "stdout",
     "output_type": "stream",
     "text": [
      "enter a num:100\n",
      "100 <class 'int'>\n"
     ]
    }
   ],
   "source": [
    "a = eval(input('enter a num:'))\n",
    "print(a,type(a))"
   ]
  },
  {
   "cell_type": "code",
   "execution_count": 3,
   "id": "ccf88505",
   "metadata": {},
   "outputs": [
    {
     "name": "stdout",
     "output_type": "stream",
     "text": [
      "enter a num:10.5\n",
      "10.5 <class 'float'>\n"
     ]
    }
   ],
   "source": [
    "a = eval(input('enter a num:'))\n",
    "print(a,type(a))"
   ]
  },
  {
   "cell_type": "code",
   "execution_count": 5,
   "id": "316a680b",
   "metadata": {},
   "outputs": [
    {
     "name": "stdout",
     "output_type": "stream",
     "text": [
      "enter a num:'data'\n",
      "data <class 'str'>\n"
     ]
    }
   ],
   "source": [
    "a = eval(input('enter a num:'))\n",
    "print(a,type(a))"
   ]
  },
  {
   "cell_type": "code",
   "execution_count": 6,
   "id": "017b1829",
   "metadata": {},
   "outputs": [
    {
     "name": "stdout",
     "output_type": "stream",
     "text": [
      "enter a num:12\n"
     ]
    },
    {
     "data": {
      "text/plain": [
       "'12'"
      ]
     },
     "execution_count": 6,
     "metadata": {},
     "output_type": "execute_result"
    }
   ],
   "source": [
    "a = input('enter a num:')\n",
    "a"
   ]
  },
  {
   "cell_type": "code",
   "execution_count": 7,
   "id": "9c1a4f38",
   "metadata": {},
   "outputs": [
    {
     "name": "stdout",
     "output_type": "stream",
     "text": [
      "enter a num:10\n"
     ]
    },
    {
     "data": {
      "text/plain": [
       "10"
      ]
     },
     "execution_count": 7,
     "metadata": {},
     "output_type": "execute_result"
    }
   ],
   "source": [
    "a = int(input('enter a num:'))\n",
    "a"
   ]
  },
  {
   "cell_type": "code",
   "execution_count": 8,
   "id": "50ba43bf",
   "metadata": {},
   "outputs": [
    {
     "name": "stdout",
     "output_type": "stream",
     "text": [
      "enter a num:10\n"
     ]
    },
    {
     "data": {
      "text/plain": [
       "10"
      ]
     },
     "execution_count": 8,
     "metadata": {},
     "output_type": "execute_result"
    }
   ],
   "source": [
    "a = eval(input('enter a num:'))\n",
    "a"
   ]
  },
  {
   "cell_type": "code",
   "execution_count": 10,
   "id": "7a4b878c",
   "metadata": {},
   "outputs": [
    {
     "name": "stdout",
     "output_type": "stream",
     "text": [
      "enter a num:100.1\n"
     ]
    },
    {
     "data": {
      "text/plain": [
       "100.1"
      ]
     },
     "execution_count": 10,
     "metadata": {},
     "output_type": "execute_result"
    }
   ],
   "source": [
    "a = eval(input('enter a num:'))\n",
    "a"
   ]
  },
  {
   "cell_type": "code",
   "execution_count": 11,
   "id": "e7d5de71",
   "metadata": {},
   "outputs": [
    {
     "data": {
      "text/plain": [
       "float"
      ]
     },
     "execution_count": 11,
     "metadata": {},
     "output_type": "execute_result"
    }
   ],
   "source": [
    "type(a)"
   ]
  },
  {
   "cell_type": "markdown",
   "id": "c7cba5cf",
   "metadata": {},
   "source": [
    "#### 17 . iter()"
   ]
  },
  {
   "cell_type": "code",
   "execution_count": null,
   "id": "c23e8a5e",
   "metadata": {},
   "outputs": [],
   "source": []
  },
  {
   "cell_type": "code",
   "execution_count": null,
   "id": "761f2f9f",
   "metadata": {},
   "outputs": [],
   "source": []
  },
  {
   "cell_type": "code",
   "execution_count": null,
   "id": "6a03731a",
   "metadata": {},
   "outputs": [],
   "source": []
  },
  {
   "cell_type": "code",
   "execution_count": null,
   "id": "3a8b080e",
   "metadata": {},
   "outputs": [],
   "source": []
  },
  {
   "cell_type": "code",
   "execution_count": null,
   "id": "b8ed11e6",
   "metadata": {},
   "outputs": [],
   "source": []
  },
  {
   "cell_type": "code",
   "execution_count": null,
   "id": "8d151e17",
   "metadata": {},
   "outputs": [],
   "source": []
  },
  {
   "cell_type": "code",
   "execution_count": null,
   "id": "d90f357c",
   "metadata": {},
   "outputs": [],
   "source": []
  }
 ],
 "metadata": {
  "kernelspec": {
   "display_name": "Python 3",
   "language": "python",
   "name": "python3"
  },
  "language_info": {
   "codemirror_mode": {
    "name": "ipython",
    "version": 3
   },
   "file_extension": ".py",
   "mimetype": "text/x-python",
   "name": "python",
   "nbconvert_exporter": "python",
   "pygments_lexer": "ipython3",
   "version": "3.8.8"
  }
 },
 "nbformat": 4,
 "nbformat_minor": 5
}
