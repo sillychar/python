{
 "cells": [
  {
   "cell_type": "code",
   "execution_count": 2,
   "id": "df75c4db",
   "metadata": {},
   "outputs": [
    {
     "name": "stdout",
     "output_type": "stream",
     "text": [
      "start = 11, end= 30\n",
      "Program to find first five numbers and last 5 numbers in given range\n",
      "[121, 144, 169, 196, 225, 900, 841, 784, 729, 676]\n"
     ]
    }
   ],
   "source": [
    "def square(start,end):\n",
    "    print(f'start = {start}, end= {end}')\n",
    "    print('Program to find first five numbers and last 5 numbers in given range')\n",
    "    sqr = [i**2 for i in range(start, start+5)]\n",
    "    \n",
    "    for i in range(end,end-5,-1):\n",
    "        sqr.append(i**2)\n",
    "    print(sqr)\n",
    "square(11,30)"
   ]
  },
  {
   "cell_type": "markdown",
   "id": "f78dc520",
   "metadata": {},
   "source": [
    "### Return Statement"
   ]
  },
  {
   "cell_type": "code",
   "execution_count": null,
   "id": "d4365c8a",
   "metadata": {},
   "outputs": [],
   "source": [
    "It is used at the end of function\n",
    "\n",
    "if you want to continue to work with the results of your function and want to try\n",
    "out some operations on it. \n",
    "\n",
    "then we will need to use return statement (str, list, int, df, etc)\n",
    "\n",
    "we can return multiple outputs"
   ]
  },
  {
   "cell_type": "code",
   "execution_count": 10,
   "id": "c43be059",
   "metadata": {},
   "outputs": [
    {
     "name": "stdout",
     "output_type": "stream",
     "text": [
      "start = 11, end= 30\n",
      "Program to find first five numbers and last 5 numbers in given range\n",
      "Result of function is : [121, 144, 169, 196, 225, 676, 729, 784, 841, 900]\n"
     ]
    },
    {
     "data": {
      "text/plain": [
       "[121, 144, 169, 196, 225, 676, 729, 784, 841, 900, 1000]"
      ]
     },
     "execution_count": 10,
     "metadata": {},
     "output_type": "execute_result"
    }
   ],
   "source": [
    "def square(start,end):\n",
    "    print(f'start = {start}, end= {end}')\n",
    "    print('Program to find first five numbers and last 5 numbers in given range')\n",
    "    sqr = [i**2 for i in range(start, start+5)]\n",
    "    \n",
    "    for i in range(end-4,end+1):\n",
    "        sqr.append(i**2)\n",
    "#     print(sqr)\n",
    "    return sqr\n",
    "val = square(11,30)\n",
    "print('Result of function is :', val)\n",
    "val.append(1000)\n",
    "val"
   ]
  },
  {
   "cell_type": "code",
   "execution_count": 11,
   "id": "8a51f3d3",
   "metadata": {},
   "outputs": [
    {
     "name": "stdout",
     "output_type": "stream",
     "text": [
      "start = 11, end= 30\n",
      "Program to find first five numbers and last 5 numbers in given range\n",
      "Result of function is : Success\n"
     ]
    }
   ],
   "source": [
    "def square(start,end):\n",
    "    print(f'start = {start}, end= {end}')\n",
    "    print('Program to find first five numbers and last 5 numbers in given range')\n",
    "    sqr = [i**2 for i in range(start, start+5)]\n",
    "    \n",
    "    for i in range(end-4,end+1):\n",
    "        sqr.append(i**2)\n",
    "#     print(sqr)\n",
    "    return 'Success'\n",
    "val = square(11,30)\n",
    "print('Result of function is :', val)"
   ]
  },
  {
   "cell_type": "code",
   "execution_count": 12,
   "id": "c1159c5d",
   "metadata": {},
   "outputs": [
    {
     "name": "stdout",
     "output_type": "stream",
     "text": [
      "start = 11, end= 30\n",
      "Program to find first five numbers and last 5 numbers in given range\n",
      "Result of function is : Success\n"
     ]
    }
   ],
   "source": [
    "def square(start,end):\n",
    "    print(f'start = {start}, end= {end}')\n",
    "    print('Program to find first five numbers and last 5 numbers in given range')\n",
    "    sqr = [i**2 for i in range(start, start+5)]\n",
    "    \n",
    "    for i in range(end-4,end+1):\n",
    "        sqr.append(i**2)\n",
    "#     print(sqr)\n",
    "    return 'Success'\n",
    "# val = square(11,30)\n",
    "print('Result of function is :', square(11,30))"
   ]
  },
  {
   "cell_type": "code",
   "execution_count": 13,
   "id": "f4daa95b",
   "metadata": {},
   "outputs": [
    {
     "name": "stdout",
     "output_type": "stream",
     "text": [
      "start = 11, end= 25\n",
      "Program to find first five numbers and last 5 numbers in given range\n"
     ]
    },
    {
     "data": {
      "text/plain": [
       "'Success'"
      ]
     },
     "execution_count": 13,
     "metadata": {},
     "output_type": "execute_result"
    }
   ],
   "source": [
    "square(11,25)"
   ]
  },
  {
   "cell_type": "code",
   "execution_count": 14,
   "id": "65b5653c",
   "metadata": {},
   "outputs": [
    {
     "name": "stdout",
     "output_type": "stream",
     "text": [
      "start = 11, end= 30\n",
      "Program to find first five numbers and last 5 numbers in given range\n",
      "Result of function is : Success\n"
     ]
    }
   ],
   "source": [
    "def square(start,end):\n",
    "    print(f'start = {start}, end= {end}')\n",
    "    print('Program to find first five numbers and last 5 numbers in given range')\n",
    "    sqr = [i**2 for i in range(start, start+5)]\n",
    "    \n",
    "    for i in range(end-4,end+1):\n",
    "        sqr.append(i**2)\n",
    "#     print(sqr)\n",
    "    return 'Success'\n",
    "val = square(11,30)\n",
    "print('Result of function is :', val)"
   ]
  },
  {
   "cell_type": "code",
   "execution_count": 15,
   "id": "8fcec9d4",
   "metadata": {},
   "outputs": [
    {
     "data": {
      "text/plain": [
       "'Success'"
      ]
     },
     "execution_count": 15,
     "metadata": {},
     "output_type": "execute_result"
    }
   ],
   "source": [
    "val"
   ]
  },
  {
   "cell_type": "code",
   "execution_count": 16,
   "id": "d35752c5",
   "metadata": {},
   "outputs": [
    {
     "name": "stdout",
     "output_type": "stream",
     "text": [
      "start = 11, end= 30\n",
      "Program to find first five numbers and last 5 numbers in given range\n",
      "Result of function is : 11\n"
     ]
    }
   ],
   "source": [
    "def square(start,end):\n",
    "    print(f'start = {start}, end= {end}')\n",
    "    print('Program to find first five numbers and last 5 numbers in given range')\n",
    "    sqr = [i**2 for i in range(start, start+5)]\n",
    "    \n",
    "    for i in range(end-4,end+1):\n",
    "        sqr.append(i**2)\n",
    "#     print(sqr)\n",
    "    return start\n",
    "val = square(11,30)\n",
    "print('Result of function is :', val)"
   ]
  },
  {
   "cell_type": "code",
   "execution_count": 17,
   "id": "a48629e7",
   "metadata": {},
   "outputs": [
    {
     "name": "stdout",
     "output_type": "stream",
     "text": [
      "start = 11, end= 30\n",
      "Program to find first five numbers and last 5 numbers in given range\n",
      "Result of function is : 11\n"
     ]
    }
   ],
   "source": [
    "def square(start,end):\n",
    "    print(f'start = {start}, end= {end}')\n",
    "    print('Program to find first five numbers and last 5 numbers in given range')\n",
    "    sqr = [i**2 for i in range(start, start+5)]\n",
    "    \n",
    "    for i in range(end-4,end+1):\n",
    "        sqr.append(i**2)\n",
    "#     print(sqr)\n",
    "    return start,end,100\n",
    "res1,res2,res3 = square(11,30)\n",
    "print('Result of function is :', res1)"
   ]
  },
  {
   "cell_type": "code",
   "execution_count": 18,
   "id": "80e777b4",
   "metadata": {},
   "outputs": [
    {
     "data": {
      "text/plain": [
       "30"
      ]
     },
     "execution_count": 18,
     "metadata": {},
     "output_type": "execute_result"
    }
   ],
   "source": [
    "res2"
   ]
  },
  {
   "cell_type": "code",
   "execution_count": 19,
   "id": "a6ea9ef9",
   "metadata": {},
   "outputs": [
    {
     "data": {
      "text/plain": [
       "100"
      ]
     },
     "execution_count": 19,
     "metadata": {},
     "output_type": "execute_result"
    }
   ],
   "source": [
    "res3"
   ]
  },
  {
   "cell_type": "code",
   "execution_count": 20,
   "id": "66aeda8b",
   "metadata": {},
   "outputs": [
    {
     "name": "stdout",
     "output_type": "stream",
     "text": [
      "start = 11, end= 30\n",
      "Program to find first five numbers and last 5 numbers in given range\n",
      "Result of function is : [121, 144, 169, 196, 225, 676, 729, 784, 841, 900]\n"
     ]
    }
   ],
   "source": [
    "def square(start,end):\n",
    "    print(f'start = {start}, end= {end}')\n",
    "    print('Program to find first five numbers and last 5 numbers in given range')\n",
    "    sqr = [i**2 for i in range(start, start+5)]\n",
    "    \n",
    "    for i in range(end-4,end+1):\n",
    "        sqr.append(i**2)\n",
    "#     print(sqr)\n",
    "    return start,end,sqr\n",
    "res1,res2,res3 = square(11,30)\n",
    "print('Result of function is :', res3)"
   ]
  },
  {
   "cell_type": "code",
   "execution_count": 21,
   "id": "cd82e1a8",
   "metadata": {},
   "outputs": [
    {
     "data": {
      "text/plain": [
       "[121, 144, 169, 196, 225, 676, 729, 784, 841, 900]"
      ]
     },
     "execution_count": 21,
     "metadata": {},
     "output_type": "execute_result"
    }
   ],
   "source": [
    "res3"
   ]
  },
  {
   "cell_type": "code",
   "execution_count": null,
   "id": "62ba5646",
   "metadata": {},
   "outputs": [],
   "source": [
    "def factorial(number):\n",
    "    print('')\n",
    "    code\n",
    "    return fact\n",
    "\n",
    "n= factorial(5)"
   ]
  },
  {
   "cell_type": "code",
   "execution_count": null,
   "id": "e3621515",
   "metadata": {},
   "outputs": [],
   "source": [
    "def fibonacci(number):\n",
    "    print('')\n",
    "    code\n",
    "    return fibo\n",
    "\n",
    "n= fibonacci(5)"
   ]
  },
  {
   "cell_type": "code",
   "execution_count": null,
   "id": "bb02f3eb",
   "metadata": {},
   "outputs": [],
   "source": [
    "even odd\n",
    "\n",
    "prime number\n",
    "\n"
   ]
  },
  {
   "cell_type": "code",
   "execution_count": null,
   "id": "0debd06f",
   "metadata": {},
   "outputs": [],
   "source": []
  },
  {
   "cell_type": "code",
   "execution_count": null,
   "id": "11970c7f",
   "metadata": {},
   "outputs": [],
   "source": []
  },
  {
   "cell_type": "code",
   "execution_count": null,
   "id": "72907d84",
   "metadata": {},
   "outputs": [],
   "source": []
  },
  {
   "cell_type": "code",
   "execution_count": null,
   "id": "396bb335",
   "metadata": {},
   "outputs": [],
   "source": []
  },
  {
   "cell_type": "code",
   "execution_count": null,
   "id": "59a1280b",
   "metadata": {},
   "outputs": [],
   "source": []
  },
  {
   "cell_type": "code",
   "execution_count": null,
   "id": "ebf76c55",
   "metadata": {},
   "outputs": [],
   "source": []
  },
  {
   "cell_type": "code",
   "execution_count": null,
   "id": "673251cc",
   "metadata": {},
   "outputs": [],
   "source": []
  },
  {
   "cell_type": "code",
   "execution_count": null,
   "id": "1a2ac4aa",
   "metadata": {},
   "outputs": [],
   "source": []
  },
  {
   "cell_type": "code",
   "execution_count": null,
   "id": "0698a3bd",
   "metadata": {},
   "outputs": [],
   "source": []
  },
  {
   "cell_type": "code",
   "execution_count": null,
   "id": "a52eb823",
   "metadata": {},
   "outputs": [],
   "source": []
  },
  {
   "cell_type": "code",
   "execution_count": null,
   "id": "cd18f0e4",
   "metadata": {},
   "outputs": [],
   "source": []
  },
  {
   "cell_type": "code",
   "execution_count": null,
   "id": "156c6dfa",
   "metadata": {},
   "outputs": [],
   "source": []
  },
  {
   "cell_type": "code",
   "execution_count": null,
   "id": "6395f6dc",
   "metadata": {},
   "outputs": [],
   "source": []
  },
  {
   "cell_type": "code",
   "execution_count": null,
   "id": "ebdfff30",
   "metadata": {},
   "outputs": [],
   "source": []
  },
  {
   "cell_type": "code",
   "execution_count": null,
   "id": "da3bd701",
   "metadata": {},
   "outputs": [],
   "source": []
  },
  {
   "cell_type": "code",
   "execution_count": null,
   "id": "e62bda20",
   "metadata": {},
   "outputs": [],
   "source": []
  },
  {
   "cell_type": "code",
   "execution_count": null,
   "id": "4c3ec6c8",
   "metadata": {},
   "outputs": [],
   "source": []
  },
  {
   "cell_type": "code",
   "execution_count": null,
   "id": "b75803c3",
   "metadata": {},
   "outputs": [],
   "source": []
  },
  {
   "cell_type": "code",
   "execution_count": null,
   "id": "dc81f747",
   "metadata": {},
   "outputs": [],
   "source": []
  },
  {
   "cell_type": "code",
   "execution_count": null,
   "id": "4cde48f1",
   "metadata": {},
   "outputs": [],
   "source": []
  },
  {
   "cell_type": "code",
   "execution_count": null,
   "id": "1a469b42",
   "metadata": {},
   "outputs": [],
   "source": []
  },
  {
   "cell_type": "code",
   "execution_count": null,
   "id": "e4ec87cd",
   "metadata": {},
   "outputs": [],
   "source": []
  },
  {
   "cell_type": "code",
   "execution_count": null,
   "id": "b87b2575",
   "metadata": {},
   "outputs": [],
   "source": []
  },
  {
   "cell_type": "code",
   "execution_count": null,
   "id": "1e9345db",
   "metadata": {},
   "outputs": [],
   "source": []
  },
  {
   "cell_type": "code",
   "execution_count": null,
   "id": "c2a59c49",
   "metadata": {},
   "outputs": [],
   "source": []
  },
  {
   "cell_type": "code",
   "execution_count": null,
   "id": "1f065117",
   "metadata": {},
   "outputs": [],
   "source": []
  },
  {
   "cell_type": "code",
   "execution_count": null,
   "id": "3d5c694a",
   "metadata": {},
   "outputs": [],
   "source": []
  },
  {
   "cell_type": "code",
   "execution_count": null,
   "id": "392aa815",
   "metadata": {},
   "outputs": [],
   "source": []
  },
  {
   "cell_type": "code",
   "execution_count": null,
   "id": "71e0391b",
   "metadata": {},
   "outputs": [],
   "source": []
  },
  {
   "cell_type": "code",
   "execution_count": null,
   "id": "173b5ec6",
   "metadata": {},
   "outputs": [],
   "source": []
  },
  {
   "cell_type": "code",
   "execution_count": null,
   "id": "2b974e48",
   "metadata": {},
   "outputs": [],
   "source": []
  },
  {
   "cell_type": "code",
   "execution_count": null,
   "id": "dbc61d0f",
   "metadata": {},
   "outputs": [],
   "source": []
  },
  {
   "cell_type": "code",
   "execution_count": null,
   "id": "c784d151",
   "metadata": {},
   "outputs": [],
   "source": []
  },
  {
   "cell_type": "code",
   "execution_count": null,
   "id": "8b6f3b9c",
   "metadata": {},
   "outputs": [],
   "source": []
  },
  {
   "cell_type": "code",
   "execution_count": null,
   "id": "88cc15c0",
   "metadata": {},
   "outputs": [],
   "source": []
  },
  {
   "cell_type": "code",
   "execution_count": null,
   "id": "83433574",
   "metadata": {},
   "outputs": [],
   "source": []
  },
  {
   "cell_type": "code",
   "execution_count": null,
   "id": "b55397a3",
   "metadata": {},
   "outputs": [],
   "source": []
  },
  {
   "cell_type": "code",
   "execution_count": null,
   "id": "ee137035",
   "metadata": {},
   "outputs": [],
   "source": []
  },
  {
   "cell_type": "code",
   "execution_count": null,
   "id": "99ef32d1",
   "metadata": {},
   "outputs": [],
   "source": []
  },
  {
   "cell_type": "code",
   "execution_count": null,
   "id": "5bcc4fbb",
   "metadata": {},
   "outputs": [],
   "source": []
  },
  {
   "cell_type": "code",
   "execution_count": null,
   "id": "4d36a17b",
   "metadata": {},
   "outputs": [],
   "source": []
  },
  {
   "cell_type": "code",
   "execution_count": null,
   "id": "1048cbfb",
   "metadata": {},
   "outputs": [],
   "source": []
  },
  {
   "cell_type": "code",
   "execution_count": null,
   "id": "a32d4025",
   "metadata": {},
   "outputs": [],
   "source": []
  },
  {
   "cell_type": "code",
   "execution_count": null,
   "id": "5cf97f1e",
   "metadata": {},
   "outputs": [],
   "source": []
  },
  {
   "cell_type": "code",
   "execution_count": null,
   "id": "d1bc040c",
   "metadata": {},
   "outputs": [],
   "source": []
  },
  {
   "cell_type": "code",
   "execution_count": null,
   "id": "47605cce",
   "metadata": {},
   "outputs": [],
   "source": []
  },
  {
   "cell_type": "code",
   "execution_count": null,
   "id": "b6757286",
   "metadata": {},
   "outputs": [],
   "source": []
  },
  {
   "cell_type": "code",
   "execution_count": null,
   "id": "e93fdddc",
   "metadata": {},
   "outputs": [],
   "source": []
  },
  {
   "cell_type": "code",
   "execution_count": null,
   "id": "4ac68494",
   "metadata": {},
   "outputs": [],
   "source": []
  },
  {
   "cell_type": "code",
   "execution_count": null,
   "id": "a9ace475",
   "metadata": {},
   "outputs": [],
   "source": []
  },
  {
   "cell_type": "code",
   "execution_count": null,
   "id": "3fbfb90e",
   "metadata": {},
   "outputs": [],
   "source": []
  },
  {
   "cell_type": "code",
   "execution_count": null,
   "id": "36d93761",
   "metadata": {},
   "outputs": [],
   "source": []
  },
  {
   "cell_type": "code",
   "execution_count": null,
   "id": "3c701bdb",
   "metadata": {},
   "outputs": [],
   "source": []
  },
  {
   "cell_type": "code",
   "execution_count": null,
   "id": "24c1c566",
   "metadata": {},
   "outputs": [],
   "source": []
  },
  {
   "cell_type": "code",
   "execution_count": null,
   "id": "6b4b9206",
   "metadata": {},
   "outputs": [],
   "source": []
  },
  {
   "cell_type": "code",
   "execution_count": null,
   "id": "63b5f729",
   "metadata": {},
   "outputs": [],
   "source": []
  },
  {
   "cell_type": "code",
   "execution_count": null,
   "id": "d93e7724",
   "metadata": {},
   "outputs": [],
   "source": []
  },
  {
   "cell_type": "code",
   "execution_count": null,
   "id": "3e0f3923",
   "metadata": {},
   "outputs": [],
   "source": []
  },
  {
   "cell_type": "code",
   "execution_count": null,
   "id": "c7550d57",
   "metadata": {},
   "outputs": [],
   "source": []
  },
  {
   "cell_type": "code",
   "execution_count": null,
   "id": "fa82c647",
   "metadata": {},
   "outputs": [],
   "source": []
  }
 ],
 "metadata": {
  "kernelspec": {
   "display_name": "Python 3",
   "language": "python",
   "name": "python3"
  },
  "language_info": {
   "codemirror_mode": {
    "name": "ipython",
    "version": 3
   },
   "file_extension": ".py",
   "mimetype": "text/x-python",
   "name": "python",
   "nbconvert_exporter": "python",
   "pygments_lexer": "ipython3",
   "version": "3.8.8"
  }
 },
 "nbformat": 4,
 "nbformat_minor": 5
}
