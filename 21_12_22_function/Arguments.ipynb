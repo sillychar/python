{
 "cells": [
  {
   "cell_type": "markdown",
   "id": "c93103b0",
   "metadata": {},
   "source": [
    "### Types of Arguments"
   ]
  },
  {
   "cell_type": "markdown",
   "id": "ff76979e",
   "metadata": {},
   "source": [
    "1. Positional Arguments\n",
    "2. Default Arguments\n",
    "3. Arbitary Arguments(Variable length Args) Var args\n",
    "4. Keyword Arguments"
   ]
  },
  {
   "cell_type": "markdown",
   "id": "ea73de84",
   "metadata": {},
   "source": [
    "#### 1. Positional Arguments"
   ]
  },
  {
   "cell_type": "code",
   "execution_count": null,
   "id": "a78a8a5d",
   "metadata": {},
   "outputs": [],
   "source": [
    "Number of parameters == Number of arguments\n",
    "\n",
    "argumets that we passed to function should be in correct positional order"
   ]
  },
  {
   "cell_type": "code",
   "execution_count": 1,
   "id": "ec416761",
   "metadata": {},
   "outputs": [
    {
     "name": "stdout",
     "output_type": "stream",
     "text": [
      "Num1 == 10, Num2 == 20\n"
     ]
    }
   ],
   "source": [
    "def add(num1, num2): # Defining  function\n",
    "    print(f'Num1 == {num1}, Num2 == {num2}')\n",
    "    \n",
    "add(10,20) # calling function"
   ]
  },
  {
   "cell_type": "code",
   "execution_count": 2,
   "id": "d0dccf4a",
   "metadata": {},
   "outputs": [
    {
     "name": "stdout",
     "output_type": "stream",
     "text": [
      "Num1 == 20, Num2 == 10\n"
     ]
    }
   ],
   "source": [
    "def add(num1, num2): # Defining  function\n",
    "    print(f'Num1 == {num1}, Num2 == {num2}')\n",
    "    \n",
    "add(20,10) # calling function"
   ]
  },
  {
   "cell_type": "code",
   "execution_count": 3,
   "id": "bc34b56e",
   "metadata": {},
   "outputs": [
    {
     "name": "stdout",
     "output_type": "stream",
     "text": [
      "Num1 == 20, Num2 == 10\n",
      "Addition is : 30\n"
     ]
    }
   ],
   "source": [
    "def add(num1, num2): # Defining  function\n",
    "    print(f'Num1 == {num1}, Num2 == {num2}')\n",
    "    addition = num1 + num2\n",
    "    print('Addition is :', addition)\n",
    "    \n",
    "add(20,10) # calling function"
   ]
  },
  {
   "cell_type": "code",
   "execution_count": 4,
   "id": "bc48de20",
   "metadata": {},
   "outputs": [
    {
     "name": "stdout",
     "output_type": "stream",
     "text": [
      "Num1 == 25, Num2 == 35\n",
      "Addition is : 60\n"
     ]
    }
   ],
   "source": [
    "def add(num1, num2): # Defining  function\n",
    "    print(f'Num1 == {num1}, Num2 == {num2}')\n",
    "    addition = num1 + num2\n",
    "    print('Addition is :', addition)\n",
    "    \n",
    "add(25,35) # calling function"
   ]
  },
  {
   "cell_type": "markdown",
   "id": "47578748",
   "metadata": {},
   "source": [
    "#### 2. Default Arguments"
   ]
  },
  {
   "cell_type": "code",
   "execution_count": 5,
   "id": "d97b3f3a",
   "metadata": {},
   "outputs": [
    {
     "name": "stdout",
     "output_type": "stream",
     "text": [
      "N1 == 5, N2 == 6\n",
      "Multiplication of numbers is: 30\n"
     ]
    }
   ],
   "source": [
    "def multiplication(n1,n2):\n",
    "    print(f'N1 == {n1}, N2 == {n2}')\n",
    "    mul = n1 * n2\n",
    "    print('Multiplication of numbers is:',mul )\n",
    "    \n",
    "multiplication(5,6)"
   ]
  },
  {
   "cell_type": "code",
   "execution_count": 6,
   "id": "1c4acd57",
   "metadata": {},
   "outputs": [
    {
     "name": "stdout",
     "output_type": "stream",
     "text": [
      "N1 == 5, N2 == 10, N3 == 2\n",
      "Multiplication of numbers is: 50\n"
     ]
    }
   ],
   "source": [
    "def multiplication(n1,n2,n3):\n",
    "    print(f'N1 == {n1}, N2 == {n2}, N3 == {n3}')\n",
    "    mul = n1 * n2\n",
    "    print('Multiplication of numbers is:',mul )\n",
    "    \n",
    "multiplication(5,10,2)"
   ]
  },
  {
   "cell_type": "code",
   "execution_count": 7,
   "id": "f00d70f1",
   "metadata": {},
   "outputs": [
    {
     "name": "stdout",
     "output_type": "stream",
     "text": [
      "N1 == 5, N2 == 10, N3 == 2\n",
      "Multiplication of numbers is: 100\n"
     ]
    }
   ],
   "source": [
    "def multiplication(n1,n2,n3=2): # n1, n2 >> positional,     n3 >> default\n",
    "    print(f'N1 == {n1}, N2 == {n2}, N3 == {n3}')\n",
    "    mul = n1 * n2 * n3\n",
    "    print('Multiplication of numbers is:',mul )\n",
    "    \n",
    "multiplication(5,10)"
   ]
  },
  {
   "cell_type": "code",
   "execution_count": 8,
   "id": "32174b14",
   "metadata": {},
   "outputs": [
    {
     "name": "stdout",
     "output_type": "stream",
     "text": [
      "N1 == 5, N2 == 10, N3 == 3\n",
      "Multiplication of numbers is: 150\n"
     ]
    }
   ],
   "source": [
    "def multiplication(n1,n2,n3=2): # n1, n2 >> positional,     n3 >> default\n",
    "    print(f'N1 == {n1}, N2 == {n2}, N3 == {n3}')\n",
    "    mul = n1 * n2 * n3\n",
    "    print('Multiplication of numbers is:',mul )\n",
    "    \n",
    "multiplication(5,10,3)"
   ]
  },
  {
   "cell_type": "code",
   "execution_count": 10,
   "id": "63e30d74",
   "metadata": {},
   "outputs": [
    {
     "name": "stdout",
     "output_type": "stream",
     "text": [
      "N1 == 5, N2 == 10, N3 == 3\n",
      "Multiplication of numbers is: 150\n"
     ]
    }
   ],
   "source": [
    "def multiplication(n1,n2,n3=2): # n1, n2 >> positional,     n3 >> default\n",
    "    print(f'N1 == {n1}, N2 == {n2}, N3 == {n3}')\n",
    "    mul = n1 * n2 * n3\n",
    "    print('Multiplication of numbers is:',mul )\n",
    "    \n",
    "a = 5\n",
    "b = 10\n",
    "c = 3\n",
    "\n",
    "multiplication(a,b,c)"
   ]
  },
  {
   "cell_type": "code",
   "execution_count": 11,
   "id": "2d89cf62",
   "metadata": {},
   "outputs": [
    {
     "name": "stdout",
     "output_type": "stream",
     "text": [
      "N1 == 5, N2 == 10, N3 == 2\n",
      "Multiplication of numbers is: 100\n"
     ]
    }
   ],
   "source": [
    "def multiplication(n1,n2=10,n3=2): # n1,>> positional,     n2, n3 >> default\n",
    "    print(f'N1 == {n1}, N2 == {n2}, N3 == {n3}')\n",
    "    mul = n1 * n2 * n3\n",
    "    print('Multiplication of numbers is:',mul )\n",
    "    \n",
    "a = 5\n",
    "b = 10\n",
    "c = 3\n",
    "\n",
    "multiplication(a)"
   ]
  },
  {
   "cell_type": "code",
   "execution_count": 12,
   "id": "9ad208a3",
   "metadata": {},
   "outputs": [
    {
     "name": "stdout",
     "output_type": "stream",
     "text": [
      "N1 == 5, N2 == 10, N3 == 2\n",
      "Multiplication of numbers is: 100\n"
     ]
    }
   ],
   "source": [
    "def multiplication(n1=5,n2=10,n3=2): #     n1, n2, n3 >> default\n",
    "    print(f'N1 == {n1}, N2 == {n2}, N3 == {n3}')\n",
    "    mul = n1 * n2 * n3\n",
    "    print('Multiplication of numbers is:',mul )\n",
    "    \n",
    "a = 5\n",
    "b = 10\n",
    "c = 3\n",
    "\n",
    "multiplication()"
   ]
  },
  {
   "cell_type": "markdown",
   "id": "f45bafca",
   "metadata": {},
   "source": [
    "#### 3. Arbitary Arguments"
   ]
  },
  {
   "cell_type": "code",
   "execution_count": null,
   "id": "9cbf41be",
   "metadata": {},
   "outputs": [],
   "source": [
    ">>Variable length arguments\n",
    ">>*args >> *arguments\n",
    ">>Datatype of agrs will be tuple\n",
    ">>When we dont know number of arguments to be passed\n",
    ">>we cannot use *args before positional args\n",
    ">>if we are using *args and positional args in same method/function , \n",
    "  then positional args should come first nd rest will be considered as *args"
   ]
  },
  {
   "cell_type": "code",
   "execution_count": 13,
   "id": "a2a3c58d",
   "metadata": {},
   "outputs": [
    {
     "name": "stdout",
     "output_type": "stream",
     "text": [
      "n1,n2,n3,n4,n5,n6 10 2 20 4 5 6\n",
      "Multiplication is  48000\n"
     ]
    }
   ],
   "source": [
    "def multiplication(n1,n2,n3,n4,n5,n6):\n",
    "    print('n1,n2,n3,n4,n5,n6',n1,n2,n3,n4,n5,n6)\n",
    "    mul =n1*n2*n3*n4*n5*n6\n",
    "    print('Multiplication is ', mul )\n",
    "    \n",
    "multiplication(10,2,20,4,5,6)"
   ]
  },
  {
   "cell_type": "code",
   "execution_count": 27,
   "id": "90f044cd",
   "metadata": {},
   "outputs": [
    {
     "name": "stdout",
     "output_type": "stream",
     "text": [
      "Args >>  (10, 2, 20, 4, 5, 6)\n",
      "10\n",
      "2\n",
      "20\n",
      "4\n",
      "5\n",
      "6\n"
     ]
    },
    {
     "data": {
      "text/plain": [
       "48000"
      ]
     },
     "execution_count": 27,
     "metadata": {},
     "output_type": "execute_result"
    }
   ],
   "source": [
    "def multiplication(*args):\n",
    "    print('Args >> ', args) # Tuple\n",
    "    mul =1\n",
    "    for i in args:\n",
    "        print(i)\n",
    "        mul *= i\n",
    "    return mul\n",
    "\n",
    "mul= multiplication(10,2,20,4,5,6)\n",
    "mul"
   ]
  },
  {
   "cell_type": "code",
   "execution_count": 26,
   "id": "99354853",
   "metadata": {},
   "outputs": [
    {
     "name": "stdout",
     "output_type": "stream",
     "text": [
      "Args >>  (10, 2, 20, 4, 5, 6)\n",
      "10\n",
      "2\n",
      "20\n",
      "4\n",
      "5\n",
      "6\n"
     ]
    },
    {
     "data": {
      "text/plain": [
       "48000"
      ]
     },
     "execution_count": 26,
     "metadata": {},
     "output_type": "execute_result"
    }
   ],
   "source": [
    "def multiplication(n1,*args):\n",
    "    print('Args >> ', args) # Tuple\n",
    "    mul=n1\n",
    "    for i in args:\n",
    "        print(i)\n",
    "        mul *= i\n",
    "    return mul\n",
    "\n",
    "multiplication(1,10,2,20,4,5,6)"
   ]
  },
  {
   "cell_type": "code",
   "execution_count": 28,
   "id": "137410f2",
   "metadata": {},
   "outputs": [
    {
     "ename": "TypeError",
     "evalue": "multiplication() missing 1 required keyword-only argument: 'n1'",
     "output_type": "error",
     "traceback": [
      "\u001b[1;31m---------------------------------------------------------------------------\u001b[0m",
      "\u001b[1;31mTypeError\u001b[0m                                 Traceback (most recent call last)",
      "\u001b[1;32m<ipython-input-28-535688ecdfe8>\u001b[0m in \u001b[0;36m<module>\u001b[1;34m\u001b[0m\n\u001b[0;32m      7\u001b[0m     \u001b[1;32mreturn\u001b[0m \u001b[0mmul\u001b[0m\u001b[1;33m\u001b[0m\u001b[1;33m\u001b[0m\u001b[0m\n\u001b[0;32m      8\u001b[0m \u001b[1;33m\u001b[0m\u001b[0m\n\u001b[1;32m----> 9\u001b[1;33m \u001b[0mmultiplication\u001b[0m\u001b[1;33m(\u001b[0m\u001b[1;36m1\u001b[0m\u001b[1;33m,\u001b[0m\u001b[1;36m10\u001b[0m\u001b[1;33m,\u001b[0m\u001b[1;36m2\u001b[0m\u001b[1;33m,\u001b[0m\u001b[1;36m20\u001b[0m\u001b[1;33m,\u001b[0m\u001b[1;36m4\u001b[0m\u001b[1;33m,\u001b[0m\u001b[1;36m5\u001b[0m\u001b[1;33m,\u001b[0m\u001b[1;36m6\u001b[0m\u001b[1;33m)\u001b[0m\u001b[1;33m\u001b[0m\u001b[1;33m\u001b[0m\u001b[0m\n\u001b[0m",
      "\u001b[1;31mTypeError\u001b[0m: multiplication() missing 1 required keyword-only argument: 'n1'"
     ]
    }
   ],
   "source": [
    "def multiplication(*args,n1):\n",
    "    print('Args >> ', args) # Tuple\n",
    "    mul=n1\n",
    "    for i in args:\n",
    "        print(i)\n",
    "        mul *= i\n",
    "    return mul\n",
    "\n",
    "multiplication(1,10,2,20,4,5,6)"
   ]
  },
  {
   "cell_type": "code",
   "execution_count": 36,
   "id": "cf7dae66",
   "metadata": {},
   "outputs": [
    {
     "name": "stdout",
     "output_type": "stream",
     "text": [
      "Args >>  (10, 2, 20, 4, 5, 6)\n",
      "10\n",
      "20\n",
      "400\n",
      "1600\n",
      "8000\n",
      "48000\n"
     ]
    },
    {
     "data": {
      "text/plain": [
       "48000"
      ]
     },
     "execution_count": 36,
     "metadata": {},
     "output_type": "execute_result"
    }
   ],
   "source": [
    "def multiplication(*args,n1=1):  # n1=1 >> Default args\n",
    "    print('Args >> ', args) # Tuple\n",
    "    mul=n1\n",
    "    for i in args:\n",
    "        \n",
    "        mul *= i\n",
    "        print(mul)\n",
    "    return mul\n",
    "\n",
    "multiplication(10,2,20,4,5,6)    "
   ]
  },
  {
   "cell_type": "code",
   "execution_count": 33,
   "id": "72ecac82",
   "metadata": {},
   "outputs": [
    {
     "name": "stdout",
     "output_type": "stream",
     "text": [
      "Args >>  (10, 2, 20, 4, 5, 6)\n",
      "20\n",
      "40\n",
      "800\n",
      "3200\n",
      "16000\n",
      "96000\n"
     ]
    },
    {
     "data": {
      "text/plain": [
       "96000"
      ]
     },
     "execution_count": 33,
     "metadata": {},
     "output_type": "execute_result"
    }
   ],
   "source": [
    "def multiplication(*args,n1=2):  # n1=1 >> Default args\n",
    "    print('Args >> ', args) # Tuple\n",
    "    mul=n1\n",
    "    for i in args:\n",
    "        \n",
    "        mul *= i # mul=mul*i\n",
    "        print(mul)\n",
    "    return mul\n",
    "\n",
    "a=multiplication(10,2,20,4,5,6)   \n",
    "a"
   ]
  },
  {
   "cell_type": "code",
   "execution_count": 34,
   "id": "d6fb4cb7",
   "metadata": {},
   "outputs": [
    {
     "data": {
      "text/plain": [
       "96000"
      ]
     },
     "execution_count": 34,
     "metadata": {},
     "output_type": "execute_result"
    }
   ],
   "source": [
    "a"
   ]
  },
  {
   "cell_type": "code",
   "execution_count": 35,
   "id": "6eea4120",
   "metadata": {},
   "outputs": [
    {
     "name": "stdout",
     "output_type": "stream",
     "text": [
      "Args >>  (10, 2, 20, 4, 5, 6)\n",
      "20\n",
      "40\n",
      "800\n",
      "3200\n",
      "16000\n",
      "96000\n"
     ]
    },
    {
     "data": {
      "text/plain": [
       "96000"
      ]
     },
     "execution_count": 35,
     "metadata": {},
     "output_type": "execute_result"
    }
   ],
   "source": [
    "multiplication(10,2,20,4,5,6)"
   ]
  },
  {
   "cell_type": "code",
   "execution_count": 37,
   "id": "67c45b90",
   "metadata": {},
   "outputs": [
    {
     "name": "stdout",
     "output_type": "stream",
     "text": [
      "Args >>  (10, 2, 20, 4, 5, 6)\n",
      "30\n",
      "60\n",
      "1200\n",
      "4800\n",
      "24000\n",
      "144000\n"
     ]
    },
    {
     "data": {
      "text/plain": [
       "144000"
      ]
     },
     "execution_count": 37,
     "metadata": {},
     "output_type": "execute_result"
    }
   ],
   "source": [
    "def multiplication(*args,n1=3):  # n1=1 >> Default args\n",
    "    print('Args >> ', args) # Tuple\n",
    "    mul=n1\n",
    "    for i in args:\n",
    "        \n",
    "        mul *= i # mul=mul*i\n",
    "        print(mul)\n",
    "    return mul\n",
    "\n",
    "a=multiplication(10,2,20,4,5,6)   \n",
    "a"
   ]
  },
  {
   "cell_type": "code",
   "execution_count": 38,
   "id": "3b912c47",
   "metadata": {},
   "outputs": [
    {
     "name": "stdout",
     "output_type": "stream",
     "text": [
      "Args >>  (10, 2, 20, 4, 5, 6)\n",
      "10\n",
      "2\n",
      "20\n",
      "4\n",
      "5\n",
      "6\n"
     ]
    },
    {
     "data": {
      "text/plain": [
       "48000"
      ]
     },
     "execution_count": 38,
     "metadata": {},
     "output_type": "execute_result"
    }
   ],
   "source": [
    "def multiplication(*val):\n",
    "    print('Args >> ', val) # Tuple\n",
    "    mul =1\n",
    "    for i in val:\n",
    "        print(i)\n",
    "        mul *= i\n",
    "    return mul\n",
    "\n",
    "mul= multiplication(10,2,20,4,5,6)\n",
    "mul"
   ]
  },
  {
   "cell_type": "code",
   "execution_count": 39,
   "id": "4d0b1ec6",
   "metadata": {},
   "outputs": [
    {
     "name": "stdout",
     "output_type": "stream",
     "text": [
      "n1==10, n2==20, args== (30, 40, 35, 25), val1==100, val2==Python\n"
     ]
    }
   ],
   "source": [
    "def addition(n1,n2,*args,val1=100, val2='Python'):\n",
    "    print(f'n1=={n1}, n2=={n2}, args== {args}, val1=={val1}, val2=={val2}')\n",
    "    \n",
    "addition(10,20,30,40,35,25)"
   ]
  },
  {
   "cell_type": "code",
   "execution_count": 40,
   "id": "8bab1d1b",
   "metadata": {},
   "outputs": [
    {
     "name": "stdout",
     "output_type": "stream",
     "text": [
      "n1==10, n2==20, args== (35, 25), val1==30, val2==40\n"
     ]
    }
   ],
   "source": [
    "def addition(n1,n2,val1=100, val2='Python',*args):\n",
    "    print(f'n1=={n1}, n2=={n2}, args== {args}, val1=={val1}, val2=={val2}')\n",
    "    \n",
    "addition(10,20,30,40,35,25)"
   ]
  },
  {
   "cell_type": "code",
   "execution_count": 41,
   "id": "45483009",
   "metadata": {},
   "outputs": [
    {
     "name": "stdout",
     "output_type": "stream",
     "text": [
      "n1==10, n2==20, args== (35, 25, 45, 60), val1==30, val2==40\n"
     ]
    }
   ],
   "source": [
    "def addition(n1,n2,val1=100, val2='Python',*args):\n",
    "    print(f'n1=={n1}, n2=={n2}, args== {args}, val1=={val1}, val2=={val2}')\n",
    "    \n",
    "addition(10,20,30,40,35,25,45,60)"
   ]
  },
  {
   "cell_type": "code",
   "execution_count": null,
   "id": "dd31d9a1",
   "metadata": {},
   "outputs": [],
   "source": []
  },
  {
   "cell_type": "code",
   "execution_count": null,
   "id": "326e5b9a",
   "metadata": {},
   "outputs": [],
   "source": []
  },
  {
   "cell_type": "code",
   "execution_count": null,
   "id": "5653b8ba",
   "metadata": {},
   "outputs": [],
   "source": []
  },
  {
   "cell_type": "code",
   "execution_count": null,
   "id": "169efb62",
   "metadata": {},
   "outputs": [],
   "source": []
  },
  {
   "cell_type": "code",
   "execution_count": null,
   "id": "8e297b73",
   "metadata": {},
   "outputs": [],
   "source": []
  },
  {
   "cell_type": "code",
   "execution_count": null,
   "id": "cd52ac7a",
   "metadata": {},
   "outputs": [],
   "source": []
  },
  {
   "cell_type": "code",
   "execution_count": null,
   "id": "6012d1bc",
   "metadata": {},
   "outputs": [],
   "source": []
  },
  {
   "cell_type": "code",
   "execution_count": null,
   "id": "827a16cc",
   "metadata": {},
   "outputs": [],
   "source": []
  },
  {
   "cell_type": "code",
   "execution_count": null,
   "id": "07509d97",
   "metadata": {},
   "outputs": [],
   "source": []
  },
  {
   "cell_type": "code",
   "execution_count": null,
   "id": "84c738fe",
   "metadata": {},
   "outputs": [],
   "source": []
  },
  {
   "cell_type": "code",
   "execution_count": null,
   "id": "2a632f38",
   "metadata": {},
   "outputs": [],
   "source": []
  },
  {
   "cell_type": "code",
   "execution_count": null,
   "id": "ab7bb4b8",
   "metadata": {},
   "outputs": [],
   "source": []
  },
  {
   "cell_type": "code",
   "execution_count": null,
   "id": "92052346",
   "metadata": {},
   "outputs": [],
   "source": []
  },
  {
   "cell_type": "code",
   "execution_count": null,
   "id": "9d0fecfb",
   "metadata": {},
   "outputs": [],
   "source": []
  },
  {
   "cell_type": "code",
   "execution_count": null,
   "id": "45237972",
   "metadata": {},
   "outputs": [],
   "source": []
  },
  {
   "cell_type": "code",
   "execution_count": null,
   "id": "6138e3c2",
   "metadata": {},
   "outputs": [],
   "source": []
  },
  {
   "cell_type": "code",
   "execution_count": null,
   "id": "892a9e60",
   "metadata": {},
   "outputs": [],
   "source": []
  },
  {
   "cell_type": "code",
   "execution_count": null,
   "id": "fa27be5f",
   "metadata": {},
   "outputs": [],
   "source": []
  },
  {
   "cell_type": "code",
   "execution_count": null,
   "id": "af434d9b",
   "metadata": {},
   "outputs": [],
   "source": []
  },
  {
   "cell_type": "code",
   "execution_count": null,
   "id": "6b44fd03",
   "metadata": {},
   "outputs": [],
   "source": []
  },
  {
   "cell_type": "code",
   "execution_count": null,
   "id": "0617836a",
   "metadata": {},
   "outputs": [],
   "source": []
  },
  {
   "cell_type": "code",
   "execution_count": null,
   "id": "00f99e1b",
   "metadata": {},
   "outputs": [],
   "source": []
  },
  {
   "cell_type": "code",
   "execution_count": null,
   "id": "876e393b",
   "metadata": {},
   "outputs": [],
   "source": []
  },
  {
   "cell_type": "code",
   "execution_count": null,
   "id": "de0fe498",
   "metadata": {},
   "outputs": [],
   "source": []
  },
  {
   "cell_type": "code",
   "execution_count": null,
   "id": "c911974e",
   "metadata": {},
   "outputs": [],
   "source": []
  },
  {
   "cell_type": "code",
   "execution_count": null,
   "id": "c0b330eb",
   "metadata": {},
   "outputs": [],
   "source": []
  },
  {
   "cell_type": "code",
   "execution_count": null,
   "id": "01b7526a",
   "metadata": {},
   "outputs": [],
   "source": []
  },
  {
   "cell_type": "code",
   "execution_count": null,
   "id": "46d8c066",
   "metadata": {},
   "outputs": [],
   "source": []
  },
  {
   "cell_type": "code",
   "execution_count": null,
   "id": "902be026",
   "metadata": {},
   "outputs": [],
   "source": []
  },
  {
   "cell_type": "code",
   "execution_count": null,
   "id": "49416a0a",
   "metadata": {},
   "outputs": [],
   "source": []
  },
  {
   "cell_type": "code",
   "execution_count": null,
   "id": "85552e78",
   "metadata": {},
   "outputs": [],
   "source": []
  },
  {
   "cell_type": "code",
   "execution_count": null,
   "id": "6b8d7f42",
   "metadata": {},
   "outputs": [],
   "source": []
  },
  {
   "cell_type": "code",
   "execution_count": null,
   "id": "6996a22d",
   "metadata": {},
   "outputs": [],
   "source": []
  },
  {
   "cell_type": "code",
   "execution_count": null,
   "id": "424529e9",
   "metadata": {},
   "outputs": [],
   "source": []
  },
  {
   "cell_type": "code",
   "execution_count": null,
   "id": "76ac37e7",
   "metadata": {},
   "outputs": [],
   "source": []
  },
  {
   "cell_type": "code",
   "execution_count": null,
   "id": "0ae87e1e",
   "metadata": {},
   "outputs": [],
   "source": []
  },
  {
   "cell_type": "code",
   "execution_count": null,
   "id": "b89f1236",
   "metadata": {},
   "outputs": [],
   "source": []
  },
  {
   "cell_type": "code",
   "execution_count": null,
   "id": "eec59dd4",
   "metadata": {},
   "outputs": [],
   "source": []
  },
  {
   "cell_type": "code",
   "execution_count": null,
   "id": "5d9c0d7b",
   "metadata": {},
   "outputs": [],
   "source": []
  },
  {
   "cell_type": "code",
   "execution_count": null,
   "id": "0a47829d",
   "metadata": {},
   "outputs": [],
   "source": []
  },
  {
   "cell_type": "code",
   "execution_count": null,
   "id": "15bf55db",
   "metadata": {},
   "outputs": [],
   "source": []
  },
  {
   "cell_type": "code",
   "execution_count": null,
   "id": "e323eabb",
   "metadata": {},
   "outputs": [],
   "source": []
  },
  {
   "cell_type": "code",
   "execution_count": null,
   "id": "51ecb383",
   "metadata": {},
   "outputs": [],
   "source": []
  },
  {
   "cell_type": "code",
   "execution_count": null,
   "id": "dd8a709d",
   "metadata": {},
   "outputs": [],
   "source": []
  },
  {
   "cell_type": "code",
   "execution_count": null,
   "id": "a2388c6c",
   "metadata": {},
   "outputs": [],
   "source": []
  }
 ],
 "metadata": {
  "kernelspec": {
   "display_name": "Python 3 (ipykernel)",
   "language": "python",
   "name": "python3"
  },
  "language_info": {
   "codemirror_mode": {
    "name": "ipython",
    "version": 3
   },
   "file_extension": ".py",
   "mimetype": "text/x-python",
   "name": "python",
   "nbconvert_exporter": "python",
   "pygments_lexer": "ipython3",
   "version": "3.9.7"
  }
 },
 "nbformat": 4,
 "nbformat_minor": 5
}
