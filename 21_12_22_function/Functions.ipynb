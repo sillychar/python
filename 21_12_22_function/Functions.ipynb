{
 "cells": [
  {
   "cell_type": "code",
   "execution_count": 2,
   "id": "492627db",
   "metadata": {},
   "outputs": [
    {
     "name": "stdout",
     "output_type": "stream",
     "text": [
      "start = 11, end= 30\n",
      "Program to find first five numbers and last 5 numbers in given range\n",
      "[121, 144, 169, 196, 225, 900, 841, 784, 729, 676]\n"
     ]
    }
   ],
   "source": [
    "def square(start,end):\n",
    "    print(f'start = {start}, end= {end}')\n",
    "    print('Program to find first five numbers and last 5 numbers in given range')\n",
    "    sqr = [i**2 for i in range(start, start+5)]\n",
    "    \n",
    "    for i in range(end,end-5,-1):\n",
    "        sqr.append(i**2)\n",
    "    print(sqr)\n",
    "square(11,30)"
   ]
  },
  {
   "cell_type": "markdown",
   "id": "6e0f022f",
   "metadata": {},
   "source": [
    "### Return Statement"
   ]
  },
  {
   "cell_type": "code",
   "execution_count": null,
   "id": "12c1ab70",
   "metadata": {},
   "outputs": [],
   "source": [
    "It is used at the end of function\n",
    "\n",
    "if you want to continue to work with the results of your function and want to try\n",
    "out some operations on it. \n",
    "\n",
    "then we will need to use return statement (str, list, int, df, etc)\n",
    "\n",
    "we can return multiple outputs"
   ]
  },
  {
   "cell_type": "code",
   "execution_count": 10,
   "id": "69923683",
   "metadata": {},
   "outputs": [
    {
     "name": "stdout",
     "output_type": "stream",
     "text": [
      "start = 11, end= 30\n",
      "Program to find first five numbers and last 5 numbers in given range\n",
      "Result of function is : [121, 144, 169, 196, 225, 676, 729, 784, 841, 900]\n"
     ]
    },
    {
     "data": {
      "text/plain": [
       "[121, 144, 169, 196, 225, 676, 729, 784, 841, 900, 1000]"
      ]
     },
     "execution_count": 10,
     "metadata": {},
     "output_type": "execute_result"
    }
   ],
   "source": [
    "def square(start,end):\n",
    "    print(f'start = {start}, end= {end}')\n",
    "    print('Program to find first five numbers and last 5 numbers in given range')\n",
    "    sqr = [i**2 for i in range(start, start+5)]\n",
    "    \n",
    "    for i in range(end-4,end+1):\n",
    "        sqr.append(i**2)\n",
    "#     print(sqr)\n",
    "    return sqr\n",
    "val = square(11,30)\n",
    "print('Result of function is :', val)\n",
    "val.append(1000)\n",
    "val"
   ]
  },
  {
   "cell_type": "code",
   "execution_count": 11,
   "id": "f67da257",
   "metadata": {},
   "outputs": [
    {
     "name": "stdout",
     "output_type": "stream",
     "text": [
      "start = 11, end= 30\n",
      "Program to find first five numbers and last 5 numbers in given range\n",
      "Result of function is : Success\n"
     ]
    }
   ],
   "source": [
    "def square(start,end):\n",
    "    print(f'start = {start}, end= {end}')\n",
    "    print('Program to find first five numbers and last 5 numbers in given range')\n",
    "    sqr = [i**2 for i in range(start, start+5)]\n",
    "    \n",
    "    for i in range(end-4,end+1):\n",
    "        sqr.append(i**2)\n",
    "#     print(sqr)\n",
    "    return 'Success'\n",
    "val = square(11,30)\n",
    "print('Result of function is :', val)"
   ]
  },
  {
   "cell_type": "code",
   "execution_count": 12,
   "id": "44ef15f5",
   "metadata": {},
   "outputs": [
    {
     "name": "stdout",
     "output_type": "stream",
     "text": [
      "start = 11, end= 30\n",
      "Program to find first five numbers and last 5 numbers in given range\n",
      "Result of function is : Success\n"
     ]
    }
   ],
   "source": [
    "def square(start,end):\n",
    "    print(f'start = {start}, end= {end}')\n",
    "    print('Program to find first five numbers and last 5 numbers in given range')\n",
    "    sqr = [i**2 for i in range(start, start+5)]\n",
    "    \n",
    "    for i in range(end-4,end+1):\n",
    "        sqr.append(i**2)\n",
    "#     print(sqr)\n",
    "    return 'Success'\n",
    "# val = square(11,30)\n",
    "print('Result of function is :', square(11,30))"
   ]
  },
  {
   "cell_type": "code",
   "execution_count": 13,
   "id": "6cf7e892",
   "metadata": {},
   "outputs": [
    {
     "name": "stdout",
     "output_type": "stream",
     "text": [
      "start = 11, end= 25\n",
      "Program to find first five numbers and last 5 numbers in given range\n"
     ]
    },
    {
     "data": {
      "text/plain": [
       "'Success'"
      ]
     },
     "execution_count": 13,
     "metadata": {},
     "output_type": "execute_result"
    }
   ],
   "source": [
    "square(11,25)"
   ]
  },
  {
   "cell_type": "code",
   "execution_count": 14,
   "id": "0e3d5247",
   "metadata": {},
   "outputs": [
    {
     "name": "stdout",
     "output_type": "stream",
     "text": [
      "start = 11, end= 30\n",
      "Program to find first five numbers and last 5 numbers in given range\n",
      "Result of function is : Success\n"
     ]
    }
   ],
   "source": [
    "def square(start,end):\n",
    "    print(f'start = {start}, end= {end}')\n",
    "    print('Program to find first five numbers and last 5 numbers in given range')\n",
    "    sqr = [i**2 for i in range(start, start+5)]\n",
    "    \n",
    "    for i in range(end-4,end+1):\n",
    "        sqr.append(i**2)\n",
    "#     print(sqr)\n",
    "    return 'Success'\n",
    "val = square(11,30)\n",
    "print('Result of function is :', val)"
   ]
  },
  {
   "cell_type": "code",
   "execution_count": 15,
   "id": "d39253cc",
   "metadata": {},
   "outputs": [
    {
     "data": {
      "text/plain": [
       "'Success'"
      ]
     },
     "execution_count": 15,
     "metadata": {},
     "output_type": "execute_result"
    }
   ],
   "source": [
    "val"
   ]
  },
  {
   "cell_type": "code",
   "execution_count": 22,
   "id": "7e1e62f1",
   "metadata": {},
   "outputs": [
    {
     "name": "stdout",
     "output_type": "stream",
     "text": [
      "start = 11, end= 30\n",
      "Program to find first five numbers and last 5 numbers in given range\n",
      "Result of function is : 11\n"
     ]
    }
   ],
   "source": [
    "def square(start,end):\n",
    "    print(f'start = {start}, end= {end}')\n",
    "    print('Program to find first five numbers and last 5 numbers in given range')\n",
    "    sqr = [i**2 for i in range(start, start+5)]\n",
    "    \n",
    "    for i in range(end-4,end+1):\n",
    "        sqr.append(i**2)\n",
    "#     print(sqr)\n",
    "    return start\n",
    "val = square(11,30)\n",
    "print('Result of function is :', val)"
   ]
  },
  {
   "cell_type": "code",
   "execution_count": 17,
   "id": "958b60f0",
   "metadata": {},
   "outputs": [
    {
     "name": "stdout",
     "output_type": "stream",
     "text": [
      "start = 11, end= 30\n",
      "Program to find first five numbers and last 5 numbers in given range\n",
      "Result of function is : 11\n"
     ]
    }
   ],
   "source": [
    "def square(start,end):\n",
    "    print(f'start = {start}, end= {end}')\n",
    "    print('Program to find first five numbers and last 5 numbers in given range')\n",
    "    sqr = [i**2 for i in range(start, start+5)]\n",
    "    \n",
    "    for i in range(end-4,end+1):\n",
    "        sqr.append(i**2)\n",
    "#     print(sqr)\n",
    "    return start,end,100\n",
    "res1,res2,res3 = square(11,30)\n",
    "print('Result of function is :', res1)"
   ]
  },
  {
   "cell_type": "code",
   "execution_count": 18,
   "id": "0e3e0664",
   "metadata": {},
   "outputs": [
    {
     "data": {
      "text/plain": [
       "30"
      ]
     },
     "execution_count": 18,
     "metadata": {},
     "output_type": "execute_result"
    }
   ],
   "source": [
    "res2"
   ]
  },
  {
   "cell_type": "code",
   "execution_count": 19,
   "id": "91152ff9",
   "metadata": {},
   "outputs": [
    {
     "data": {
      "text/plain": [
       "100"
      ]
     },
     "execution_count": 19,
     "metadata": {},
     "output_type": "execute_result"
    }
   ],
   "source": [
    "res3"
   ]
  },
  {
   "cell_type": "code",
   "execution_count": 20,
   "id": "630ee10f",
   "metadata": {},
   "outputs": [
    {
     "name": "stdout",
     "output_type": "stream",
     "text": [
      "start = 11, end= 30\n",
      "Program to find first five numbers and last 5 numbers in given range\n",
      "Result of function is : [121, 144, 169, 196, 225, 676, 729, 784, 841, 900]\n"
     ]
    }
   ],
   "source": [
    "def square(start,end):\n",
    "    print(f'start = {start}, end= {end}')\n",
    "    print('Program to find first five numbers and last 5 numbers in given range')\n",
    "    sqr = [i**2 for i in range(start, start+5)]\n",
    "    \n",
    "    for i in range(end-4,end+1):\n",
    "        sqr.append(i**2)\n",
    "#     print(sqr)\n",
    "    return start,end,sqr\n",
    "res1,res2,res3 = square(11,30)\n",
    "print('Result of function is :', res3)"
   ]
  },
  {
   "cell_type": "code",
   "execution_count": 21,
   "id": "226e488f",
   "metadata": {},
   "outputs": [
    {
     "data": {
      "text/plain": [
       "[121, 144, 169, 196, 225, 676, 729, 784, 841, 900]"
      ]
     },
     "execution_count": 21,
     "metadata": {},
     "output_type": "execute_result"
    }
   ],
   "source": [
    "res3"
   ]
  },
  {
   "cell_type": "code",
   "execution_count": null,
   "id": "c095da33",
   "metadata": {},
   "outputs": [],
   "source": [
    "def factorial(number):\n",
    "    print('')\n",
    "    code\n",
    "    return fact\n",
    "\n",
    "n= factorial(5)"
   ]
  },
  {
   "cell_type": "code",
   "execution_count": null,
   "id": "13fdc11a",
   "metadata": {},
   "outputs": [],
   "source": [
    "def fibonacci(number):\n",
    "    print('')\n",
    "    code\n",
    "    return fibo\n",
    "\n",
    "n= fibonacci(5)"
   ]
  },
  {
   "cell_type": "code",
   "execution_count": null,
   "id": "e9d37207",
   "metadata": {},
   "outputs": [],
   "source": [
    "even odd\n",
    "\n",
    "prime number\n",
    "\n"
   ]
  },
  {
   "cell_type": "code",
   "execution_count": 24,
   "id": "b6fb63d4",
   "metadata": {},
   "outputs": [],
   "source": [
    "def square(start,end):\n",
    "    print(f'start = {start}, end= {end}')\n",
    "    print('Program to find first five numbers and last 5 numbers in given range')\n",
    "    sqr = [i**2 for i in range(start, start+5)]\n",
    "    \n",
    "    for i in range(end-4,end+1):\n",
    "        sqr.append(i**2)\n",
    "#     print(sqr)\n",
    "    return start\n",
    "# val = square(11,30)\n",
    "# print('Result of function is :', val)"
   ]
  },
  {
   "cell_type": "code",
   "execution_count": null,
   "id": "aca8fd64",
   "metadata": {},
   "outputs": [],
   "source": []
  },
  {
   "cell_type": "code",
   "execution_count": 25,
   "id": "9c5ebb4f",
   "metadata": {},
   "outputs": [
    {
     "name": "stdout",
     "output_type": "stream",
     "text": [
      "start = 11, end= 30\n",
      "Program to find first five numbers and last 5 numbers in given range\n",
      "Result of function is : 11\n"
     ]
    }
   ],
   "source": [
    "val = square(11,30)\n",
    "print('Result of function is :', val)"
   ]
  },
  {
   "cell_type": "code",
   "execution_count": 26,
   "id": "d6a9559f",
   "metadata": {},
   "outputs": [
    {
     "data": {
      "text/plain": [
       "11"
      ]
     },
     "execution_count": 26,
     "metadata": {},
     "output_type": "execute_result"
    }
   ],
   "source": [
    "val"
   ]
  },
  {
   "cell_type": "code",
   "execution_count": null,
   "id": "0d2d0dc5",
   "metadata": {},
   "outputs": [],
   "source": []
  },
  {
   "cell_type": "code",
   "execution_count": null,
   "id": "8d47eb84",
   "metadata": {},
   "outputs": [],
   "source": []
  },
  {
   "cell_type": "code",
   "execution_count": null,
   "id": "7d9930fb",
   "metadata": {},
   "outputs": [],
   "source": []
  },
  {
   "cell_type": "code",
   "execution_count": null,
   "id": "4416cf75",
   "metadata": {},
   "outputs": [],
   "source": []
  },
  {
   "cell_type": "code",
   "execution_count": null,
   "id": "b2d1fa47",
   "metadata": {},
   "outputs": [],
   "source": []
  },
  {
   "cell_type": "code",
   "execution_count": null,
   "id": "6fd646b0",
   "metadata": {},
   "outputs": [],
   "source": []
  },
  {
   "cell_type": "code",
   "execution_count": null,
   "id": "9fea5388",
   "metadata": {},
   "outputs": [],
   "source": []
  },
  {
   "cell_type": "code",
   "execution_count": null,
   "id": "02ff98a4",
   "metadata": {},
   "outputs": [],
   "source": []
  },
  {
   "cell_type": "code",
   "execution_count": null,
   "id": "a206a105",
   "metadata": {},
   "outputs": [],
   "source": []
  },
  {
   "cell_type": "code",
   "execution_count": null,
   "id": "cd42ad30",
   "metadata": {},
   "outputs": [],
   "source": []
  },
  {
   "cell_type": "code",
   "execution_count": null,
   "id": "90ceeb49",
   "metadata": {},
   "outputs": [],
   "source": []
  },
  {
   "cell_type": "code",
   "execution_count": null,
   "id": "c5a05f5d",
   "metadata": {},
   "outputs": [],
   "source": []
  },
  {
   "cell_type": "code",
   "execution_count": null,
   "id": "ff42f25e",
   "metadata": {},
   "outputs": [],
   "source": []
  },
  {
   "cell_type": "code",
   "execution_count": null,
   "id": "d75316a7",
   "metadata": {},
   "outputs": [],
   "source": []
  },
  {
   "cell_type": "code",
   "execution_count": null,
   "id": "e3ee7007",
   "metadata": {},
   "outputs": [],
   "source": []
  },
  {
   "cell_type": "code",
   "execution_count": null,
   "id": "2c0a245c",
   "metadata": {},
   "outputs": [],
   "source": []
  },
  {
   "cell_type": "code",
   "execution_count": null,
   "id": "0bc094ed",
   "metadata": {},
   "outputs": [],
   "source": []
  },
  {
   "cell_type": "code",
   "execution_count": null,
   "id": "91b12324",
   "metadata": {},
   "outputs": [],
   "source": []
  },
  {
   "cell_type": "code",
   "execution_count": null,
   "id": "bddc709d",
   "metadata": {},
   "outputs": [],
   "source": []
  },
  {
   "cell_type": "code",
   "execution_count": null,
   "id": "e76e9f4c",
   "metadata": {},
   "outputs": [],
   "source": []
  },
  {
   "cell_type": "code",
   "execution_count": null,
   "id": "c69c9e7c",
   "metadata": {},
   "outputs": [],
   "source": []
  },
  {
   "cell_type": "code",
   "execution_count": null,
   "id": "bc950745",
   "metadata": {},
   "outputs": [],
   "source": []
  },
  {
   "cell_type": "code",
   "execution_count": null,
   "id": "a2adabc1",
   "metadata": {},
   "outputs": [],
   "source": []
  },
  {
   "cell_type": "code",
   "execution_count": null,
   "id": "ee0f6fc9",
   "metadata": {},
   "outputs": [],
   "source": []
  },
  {
   "cell_type": "code",
   "execution_count": null,
   "id": "272c5d0f",
   "metadata": {},
   "outputs": [],
   "source": []
  },
  {
   "cell_type": "code",
   "execution_count": null,
   "id": "82aab92f",
   "metadata": {},
   "outputs": [],
   "source": []
  },
  {
   "cell_type": "code",
   "execution_count": null,
   "id": "0f584be7",
   "metadata": {},
   "outputs": [],
   "source": []
  },
  {
   "cell_type": "code",
   "execution_count": null,
   "id": "b5eac2ca",
   "metadata": {},
   "outputs": [],
   "source": []
  },
  {
   "cell_type": "code",
   "execution_count": null,
   "id": "6d86d4d4",
   "metadata": {},
   "outputs": [],
   "source": []
  },
  {
   "cell_type": "code",
   "execution_count": null,
   "id": "15c80d37",
   "metadata": {},
   "outputs": [],
   "source": []
  },
  {
   "cell_type": "code",
   "execution_count": null,
   "id": "b221332a",
   "metadata": {},
   "outputs": [],
   "source": []
  },
  {
   "cell_type": "code",
   "execution_count": null,
   "id": "e6f66b55",
   "metadata": {},
   "outputs": [],
   "source": []
  },
  {
   "cell_type": "code",
   "execution_count": null,
   "id": "286af92e",
   "metadata": {},
   "outputs": [],
   "source": []
  },
  {
   "cell_type": "code",
   "execution_count": null,
   "id": "7ecce81f",
   "metadata": {},
   "outputs": [],
   "source": []
  },
  {
   "cell_type": "code",
   "execution_count": null,
   "id": "8f6519e8",
   "metadata": {},
   "outputs": [],
   "source": []
  },
  {
   "cell_type": "code",
   "execution_count": null,
   "id": "a2fbc74e",
   "metadata": {},
   "outputs": [],
   "source": []
  },
  {
   "cell_type": "code",
   "execution_count": null,
   "id": "c30019ce",
   "metadata": {},
   "outputs": [],
   "source": []
  },
  {
   "cell_type": "code",
   "execution_count": null,
   "id": "a1c4b078",
   "metadata": {},
   "outputs": [],
   "source": []
  },
  {
   "cell_type": "code",
   "execution_count": null,
   "id": "8e1f361f",
   "metadata": {},
   "outputs": [],
   "source": []
  },
  {
   "cell_type": "code",
   "execution_count": null,
   "id": "83c6bc8a",
   "metadata": {},
   "outputs": [],
   "source": []
  },
  {
   "cell_type": "code",
   "execution_count": null,
   "id": "73a4da94",
   "metadata": {},
   "outputs": [],
   "source": []
  },
  {
   "cell_type": "code",
   "execution_count": null,
   "id": "492ac52a",
   "metadata": {},
   "outputs": [],
   "source": []
  },
  {
   "cell_type": "code",
   "execution_count": null,
   "id": "61049357",
   "metadata": {},
   "outputs": [],
   "source": []
  },
  {
   "cell_type": "code",
   "execution_count": null,
   "id": "0151a54d",
   "metadata": {},
   "outputs": [],
   "source": []
  },
  {
   "cell_type": "code",
   "execution_count": null,
   "id": "737b82d2",
   "metadata": {},
   "outputs": [],
   "source": []
  },
  {
   "cell_type": "code",
   "execution_count": null,
   "id": "eec16e80",
   "metadata": {},
   "outputs": [],
   "source": []
  },
  {
   "cell_type": "code",
   "execution_count": null,
   "id": "bead22b4",
   "metadata": {},
   "outputs": [],
   "source": []
  },
  {
   "cell_type": "code",
   "execution_count": null,
   "id": "9f8c9382",
   "metadata": {},
   "outputs": [],
   "source": []
  },
  {
   "cell_type": "code",
   "execution_count": null,
   "id": "44edea0a",
   "metadata": {},
   "outputs": [],
   "source": []
  },
  {
   "cell_type": "code",
   "execution_count": null,
   "id": "3564e05b",
   "metadata": {},
   "outputs": [],
   "source": []
  },
  {
   "cell_type": "code",
   "execution_count": null,
   "id": "be210e27",
   "metadata": {},
   "outputs": [],
   "source": []
  },
  {
   "cell_type": "code",
   "execution_count": null,
   "id": "336d9e9b",
   "metadata": {},
   "outputs": [],
   "source": []
  },
  {
   "cell_type": "code",
   "execution_count": null,
   "id": "6695eeea",
   "metadata": {},
   "outputs": [],
   "source": []
  }
 ],
 "metadata": {
  "kernelspec": {
   "display_name": "Python 3 (ipykernel)",
   "language": "python",
   "name": "python3"
  },
  "language_info": {
   "codemirror_mode": {
    "name": "ipython",
    "version": 3
   },
   "file_extension": ".py",
   "mimetype": "text/x-python",
   "name": "python",
   "nbconvert_exporter": "python",
   "pygments_lexer": "ipython3",
   "version": "3.9.7"
  }
 },
 "nbformat": 4,
 "nbformat_minor": 5
}
