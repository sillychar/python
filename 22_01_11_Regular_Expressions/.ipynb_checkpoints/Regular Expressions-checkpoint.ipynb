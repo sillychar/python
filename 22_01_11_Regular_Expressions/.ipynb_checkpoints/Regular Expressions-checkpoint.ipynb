{
 "cells": [
  {
   "cell_type": "markdown",
   "id": "f9e8434b",
   "metadata": {},
   "source": [
    "## Regular Expressions"
   ]
  },
  {
   "cell_type": "code",
   "execution_count": null,
   "id": "f2aefc1e",
   "metadata": {},
   "outputs": [],
   "source": [
    "Regular Expressions >>  It is the sequence of character used to check whether pattern in given text/ string"
   ]
  },
  {
   "cell_type": "code",
   "execution_count": null,
   "id": "8169969b",
   "metadata": {},
   "outputs": [],
   "source": [
    "email id\n",
    "Mobile number\n",
    "IFSC Code\n",
    "PAN Card \n",
    "Date\n",
    "AAdhar card\n",
    "Passport\n",
    "Voter ID\n",
    "DL"
   ]
  },
  {
   "cell_type": "code",
   "execution_count": null,
   "id": "3d476a3c",
   "metadata": {},
   "outputs": [],
   "source": [
    "regex >> Regular Expressions\n",
    "import re # Regular Expressions"
   ]
  },
  {
   "cell_type": "code",
   "execution_count": null,
   "id": "dc25a404",
   "metadata": {},
   "outputs": [],
   "source": [
    "Natural Language Processing (NLP)\n",
    "Text Processing\n",
    "Web Scraping - Data cleansing\n",
    "OCR - Optical Character Recognition:\n",
    "    to convert image to string\n",
    "    \n",
    "Google Vision : Internet availability needed\n",
    "Amazon textract : Internet availability needed\n",
    "Pytesseract : Image processing\n",
    "    Noise\n",
    "    Skew correction\n",
    "    \n",
    "    "
   ]
  },
  {
   "cell_type": "code",
   "execution_count": null,
   "id": "a2aa8c2a",
   "metadata": {},
   "outputs": [],
   "source": [
    "structured data >> Excel , CSV\n",
    "Unstructured data >> Images, Texts, Audios, Videos\n",
    "Semistructured >> JSON, HTML"
   ]
  },
  {
   "cell_type": "code",
   "execution_count": null,
   "id": "39a81637",
   "metadata": {},
   "outputs": [],
   "source": [
    "What to check?\n",
    "sequence of charactes that forms search patterns"
   ]
  },
  {
   "cell_type": "code",
   "execution_count": 2,
   "id": "d1726eea",
   "metadata": {
    "collapsed": true
   },
   "outputs": [
    {
     "data": {
      "text/plain": [
       "['A',\n",
       " 'ASCII',\n",
       " 'DEBUG',\n",
       " 'DOTALL',\n",
       " 'I',\n",
       " 'IGNORECASE',\n",
       " 'L',\n",
       " 'LOCALE',\n",
       " 'M',\n",
       " 'MULTILINE',\n",
       " 'Match',\n",
       " 'Pattern',\n",
       " 'RegexFlag',\n",
       " 'S',\n",
       " 'Scanner',\n",
       " 'T',\n",
       " 'TEMPLATE',\n",
       " 'U',\n",
       " 'UNICODE',\n",
       " 'VERBOSE',\n",
       " 'X',\n",
       " '_MAXCACHE',\n",
       " '__all__',\n",
       " '__builtins__',\n",
       " '__cached__',\n",
       " '__doc__',\n",
       " '__file__',\n",
       " '__loader__',\n",
       " '__name__',\n",
       " '__package__',\n",
       " '__spec__',\n",
       " '__version__',\n",
       " '_cache',\n",
       " '_compile',\n",
       " '_compile_repl',\n",
       " '_expand',\n",
       " '_locale',\n",
       " '_pickle',\n",
       " '_special_chars_map',\n",
       " '_subx',\n",
       " 'compile',\n",
       " 'copyreg',\n",
       " 'enum',\n",
       " 'error',\n",
       " 'escape',\n",
       " 'findall',\n",
       " 'finditer',\n",
       " 'fullmatch',\n",
       " 'functools',\n",
       " 'match',\n",
       " 'purge',\n",
       " 'search',\n",
       " 'split',\n",
       " 'sre_compile',\n",
       " 'sre_parse',\n",
       " 'sub',\n",
       " 'subn',\n",
       " 'template']"
      ]
     },
     "execution_count": 2,
     "metadata": {},
     "output_type": "execute_result"
    }
   ],
   "source": [
    "import re\n",
    "# dir(re)\n",
    "\n",
    "1. re.findall()\n",
    "2. re.sub()\n",
    "3. re.search\n",
    "4. re.match\n",
    "5. re.compile"
   ]
  },
  {
   "cell_type": "markdown",
   "id": "65112af4",
   "metadata": {},
   "source": [
    "### 1. findall()"
   ]
  },
  {
   "cell_type": "code",
   "execution_count": null,
   "id": "356f1c51",
   "metadata": {},
   "outputs": [],
   "source": [
    "Return a list of conataining matches in string\n",
    "list1 = re.findall(pattern , string)"
   ]
  },
  {
   "cell_type": "code",
   "execution_count": 4,
   "id": "40fe7ed6",
   "metadata": {},
   "outputs": [
    {
     "data": {
      "text/plain": [
       "['9970881215', '7020043560']"
      ]
     },
     "execution_count": 4,
     "metadata": {},
     "output_type": "execute_result"
    }
   ],
   "source": [
    "import re\n",
    "\n",
    "text = ''' MY mobile number is 9970881215\n",
    "            my email id is chetanbangale7@gmail.com\n",
    "            7020043560'''\n",
    "\n",
    "# 10 digits\n",
    "mobile_number = re.findall('[0-9]{10}', text)\n",
    "mobile_number"
   ]
  },
  {
   "cell_type": "code",
   "execution_count": 5,
   "id": "8089e554",
   "metadata": {},
   "outputs": [
    {
     "data": {
      "text/plain": [
       "['99', '70', '88', '12', '15', '70', '20', '04', '35', '60']"
      ]
     },
     "execution_count": 5,
     "metadata": {},
     "output_type": "execute_result"
    }
   ],
   "source": [
    "import re\n",
    "\n",
    "text = ''' MY mobile number is 9970881215\n",
    "            my email id is chetanbangale7@gmail.com\n",
    "            7020043560'''\n",
    "\n",
    "# 10 digits\n",
    "mobile_number = re.findall('[0-9]{2}', text)\n",
    "mobile_number"
   ]
  },
  {
   "cell_type": "code",
   "execution_count": 6,
   "id": "73c3ef81",
   "metadata": {},
   "outputs": [
    {
     "data": {
      "text/plain": [
       "['99', '70', '88', '12', '15', '76', '70', '20', '04', '35', '60']"
      ]
     },
     "execution_count": 6,
     "metadata": {},
     "output_type": "execute_result"
    }
   ],
   "source": [
    "import re\n",
    "\n",
    "text = ''' MY mobile number is 9970881215\n",
    "            my email id is chetanbangale76@gmail.com\n",
    "            7020043560'''\n",
    "\n",
    "# 10 digits\n",
    "mobile_number = re.findall('[0-9]{2}', text)\n",
    "mobile_number"
   ]
  },
  {
   "cell_type": "code",
   "execution_count": 7,
   "id": "16f8f65b",
   "metadata": {},
   "outputs": [
    {
     "data": {
      "text/plain": [
       "['997', '088', '121', '702', '004', '356']"
      ]
     },
     "execution_count": 7,
     "metadata": {},
     "output_type": "execute_result"
    }
   ],
   "source": [
    "import re\n",
    "\n",
    "text = ''' MY mobile number is 9970881215\n",
    "            my email id is chetanbangale76@gmail.com\n",
    "            7020043560'''\n",
    "\n",
    "# 10 digits\n",
    "mobile_number = re.findall('[0-9]{3}', text)\n",
    "mobile_number"
   ]
  },
  {
   "cell_type": "code",
   "execution_count": 8,
   "id": "2e6e83d7",
   "metadata": {},
   "outputs": [
    {
     "data": {
      "text/plain": [
       "['MY']"
      ]
     },
     "execution_count": 8,
     "metadata": {},
     "output_type": "execute_result"
    }
   ],
   "source": [
    "import re\n",
    "\n",
    "text = ''' MY mobile number is 9970881215\n",
    "            my email id is chetanbangale76@gmail.com\n",
    "            7020043560'''\n",
    "\n",
    "\n",
    "char = re.findall('[A-Z]{2}', text)\n",
    "char"
   ]
  },
  {
   "cell_type": "code",
   "execution_count": 9,
   "id": "2803f586",
   "metadata": {},
   "outputs": [
    {
     "data": {
      "text/plain": [
       "['Mobile', 'number', 'chetan', 'bangal']"
      ]
     },
     "execution_count": 9,
     "metadata": {},
     "output_type": "execute_result"
    }
   ],
   "source": [
    "import re\n",
    "\n",
    "text = ''' MY Mobile number is 9970881215\n",
    "            my email id is chetanbangale76@gmail.com\n",
    "            7020043560'''\n",
    "\n",
    "\n",
    "char = re.findall('[A-Za-z]{6}', text)\n",
    "char"
   ]
  },
  {
   "cell_type": "code",
   "execution_count": 10,
   "id": "19fa9823",
   "metadata": {},
   "outputs": [
    {
     "data": {
      "text/plain": [
       "['number', 'chetan', 'bangal']"
      ]
     },
     "execution_count": 10,
     "metadata": {},
     "output_type": "execute_result"
    }
   ],
   "source": [
    "import re\n",
    "\n",
    "text = ''' MY Mobile number is 9970881215\n",
    "            my email id is chetanbangale76@gmail.com\n",
    "            7020043560'''\n",
    "\n",
    "\n",
    "char = re.findall('[a-z]{6}', text)\n",
    "char"
   ]
  },
  {
   "cell_type": "code",
   "execution_count": 13,
   "id": "d277b89d",
   "metadata": {},
   "outputs": [
    {
     "data": {
      "text/plain": [
       "['mobile', 'number', 'email', 'chetanbangale', 'gmail']"
      ]
     },
     "execution_count": 13,
     "metadata": {},
     "output_type": "execute_result"
    }
   ],
   "source": [
    "import re\n",
    "\n",
    "text = ''' MY mobile number is 9970881215\n",
    "            my email id is chetanbangale76@gmail.com\n",
    "            7020043560'''\n",
    "\n",
    "\n",
    "char = re.findall('[a-z]{5,15}', text)\n",
    "char"
   ]
  },
  {
   "cell_type": "code",
   "execution_count": 21,
   "id": "c34ff7d0",
   "metadata": {},
   "outputs": [
    {
     "data": {
      "text/plain": [
       "['chetanbangale76@gmail.com']"
      ]
     },
     "execution_count": 21,
     "metadata": {},
     "output_type": "execute_result"
    }
   ],
   "source": [
    "import re\n",
    "\n",
    "text = ''' MY mobile number is 9970881215\n",
    "            my email id is chetanbangale76@gmail.com\n",
    "            7020043560'''\n",
    "\n",
    "\n",
    "email = re.findall('[a-z0-9]{5,20}@[a-z]{5,15}.[a-z]{2,10}', text)\n",
    "email"
   ]
  },
  {
   "cell_type": "code",
   "execution_count": 22,
   "id": "3b368f51",
   "metadata": {},
   "outputs": [
    {
     "data": {
      "text/plain": [
       "['chetanbangale76@gmail.com']"
      ]
     },
     "execution_count": 22,
     "metadata": {},
     "output_type": "execute_result"
    }
   ],
   "source": [
    "import re\n",
    "\n",
    "text = ''' MY mobile number is 9970881215\n",
    "            my email id is chetanbangale76@gmail.com\n",
    "            7020043560'''\n",
    "\n",
    "\n",
    "email = re.findall('[a-z0-9]{5,20}@[a-z.]{5,15}', text)\n",
    "email"
   ]
  },
  {
   "cell_type": "code",
   "execution_count": 24,
   "id": "c20c767d",
   "metadata": {},
   "outputs": [
    {
     "data": {
      "text/plain": [
       "['chetanbangale76@gmail.com']"
      ]
     },
     "execution_count": 24,
     "metadata": {},
     "output_type": "execute_result"
    }
   ],
   "source": [
    "import re\n",
    "\n",
    "text = ''' MY mobile number is 9970881215\n",
    "            my email id is chetanbangale76@gmail.com\n",
    "            7020043560'''\n",
    "\n",
    "\n",
    "email = re.findall('[A-Za-z0-9.@]{11,30}', text)\n",
    "email"
   ]
  },
  {
   "cell_type": "code",
   "execution_count": 31,
   "id": "02874a5d",
   "metadata": {},
   "outputs": [
    {
     "data": {
      "text/plain": [
       "['mobile.number', 'email', 'vctcpune.co,in', '............']"
      ]
     },
     "execution_count": 31,
     "metadata": {},
     "output_type": "execute_result"
    }
   ],
   "source": [
    "import re\n",
    "\n",
    "text = ''' MY mobile.number is 9970881215\n",
    "            my email id is vctcpune.co,in\n",
    "            7020043560\n",
    "            ............'''\n",
    "\n",
    "\n",
    "email = re.findall('[a-z.,]{5,15}', text)\n",
    "email"
   ]
  },
  {
   "cell_type": "code",
   "execution_count": 33,
   "id": "dadeade1",
   "metadata": {},
   "outputs": [
    {
     "data": {
      "text/plain": [
       "['mobil', 'numbe', 'email', 'cheta', 'nbang', 'gmail']"
      ]
     },
     "execution_count": 33,
     "metadata": {},
     "output_type": "execute_result"
    }
   ],
   "source": [
    "import re\n",
    "\n",
    "text = ''' MY mobile number is 9970881215\n",
    "            my email id is chetanbangale76@gmail.com\n",
    "            7020043560'''\n",
    "\n",
    "\n",
    "words = re.findall('[a-z]{5}', text)\n",
    "words"
   ]
  },
  {
   "cell_type": "code",
   "execution_count": 34,
   "id": "4924c8a9",
   "metadata": {},
   "outputs": [
    {
     "data": {
      "text/plain": [
       "['mobile', 'number', 'email', 'chetanb', 'angale', 'gmail']"
      ]
     },
     "execution_count": 34,
     "metadata": {},
     "output_type": "execute_result"
    }
   ],
   "source": [
    "import re\n",
    "\n",
    "text = ''' MY mobile number is 9970881215\n",
    "            my email id is chetanbangale76@gmail.com\n",
    "            7020043560'''\n",
    "\n",
    "\n",
    "words = re.findall('[a-z]{5,7}', text)\n",
    "words"
   ]
  },
  {
   "cell_type": "code",
   "execution_count": 40,
   "id": "6cccfc2f",
   "metadata": {},
   "outputs": [
    {
     "name": "stdout",
     "output_type": "stream",
     "text": [
      "[' mob', 'ile ', 'numb', 'er i', '    ', '    ', '    ', 'my e', 'mail', ' id ', 'is c', 'heta', 'nban', 'gale', 'gmai', 'l.co', '    ', '    ', '    ', ' ...', '....']\n"
     ]
    }
   ],
   "source": [
    "import re\n",
    "\n",
    "text = ''' MY mobile number is 9970881215\n",
    "            my email id is chetanbangale76@gmail.com\n",
    "            7020043560 .......'''\n",
    "\n",
    "\n",
    "words = re.findall('[.a-z ]{4}', text)\n",
    "print(words)"
   ]
  },
  {
   "cell_type": "code",
   "execution_count": 43,
   "id": "498a05d8",
   "metadata": {},
   "outputs": [
    {
     "data": {
      "text/plain": [
       "['hr@cognizant.com',\n",
       " 'viratkohli123@rediffmail.co.in',\n",
       " 'virat.kohli@rediffmail.co.in',\n",
       " 'virat_kohli123@rediffmail.co.in',\n",
       " 'virat_kohli@rediffmail.com',\n",
       " 'virat_kohli@gmail.com',\n",
       " 'virat_kohli@coep.edu.in']"
      ]
     },
     "execution_count": 43,
     "metadata": {},
     "output_type": "execute_result"
    }
   ],
   "source": [
    "String = '''Name : Virat Kohli\n",
    "            hr@cognizant.com\n",
    "            viratkohli123@rediffmail.co.in\n",
    "            virat.kohli@rediffmail.co.in\n",
    "            virat_kohli123@rediffmail.co.in\n",
    "            virat_kohli@rediffmail.com\n",
    "            virat_kohli@gmail.com\n",
    "            virat_kohli@coep.edu.in'''\n",
    "\n",
    "emails = re.findall('[a-z0-9._]{2,20}@[a-z.]{2,20}',String)\n",
    "emails"
   ]
  },
  {
   "cell_type": "code",
   "execution_count": 44,
   "id": "1e9c8a6a",
   "metadata": {},
   "outputs": [
    {
     "data": {
      "text/plain": [
       "['ASDFG1234Q', 'ASDF12345Q', 'ASDFG12345', 'ASDFG7896P', 'ASSDF154SW']"
      ]
     },
     "execution_count": 44,
     "metadata": {},
     "output_type": "execute_result"
    }
   ],
   "source": [
    "string = '''PAN Card Number\n",
    "            ASDFG1234Q    #Valid\n",
    "            ASDF12345Q    #Invalid\n",
    "            ASDFG12345    #Invalid\n",
    "            ASDFG7896P    #Valid\n",
    "            ASSDF154SW    #Invalid'''\n",
    "\n",
    "pan_number = re.findall('[A-Z0-9]{10}',string)\n",
    "pan_number"
   ]
  },
  {
   "cell_type": "code",
   "execution_count": 46,
   "id": "e0aed4c0",
   "metadata": {},
   "outputs": [
    {
     "data": {
      "text/plain": [
       "['ASDFG1234Q', 'ASDFG7896P']"
      ]
     },
     "execution_count": 46,
     "metadata": {},
     "output_type": "execute_result"
    }
   ],
   "source": [
    "string = '''PAN Card Number\n",
    "            ASDFG1234Q    #Valid\n",
    "            ASDF12345Q    #Invalid\n",
    "            ASDFG12345    #Invalid\n",
    "            ASDFG7896P    #Valid\n",
    "            ASSDF154SW    #Invalid'''\n",
    "\n",
    "pan_number = re.findall('[A-Z]{5}[0-9]{4}[A-Z]',string)\n",
    "pan_number"
   ]
  },
  {
   "cell_type": "code",
   "execution_count": 48,
   "id": "944a4ee3",
   "metadata": {},
   "outputs": [
    {
     "data": {
      "text/plain": [
       "['11-01-2022', '11-11-2021', '05-12-2021', '35-38-2021']"
      ]
     },
     "execution_count": 48,
     "metadata": {},
     "output_type": "execute_result"
    }
   ],
   "source": [
    "string = '''PAN Card Number\n",
    "            ASDFG1234Q    #Valid\n",
    "            ASDF12345Q    #Invalid\n",
    "            ASDFG12345    #Invalid\n",
    "            ASDFG7896P    #Valid\n",
    "            ASSDF154SW    #Invalid\n",
    "            \n",
    "            Date : 11-01-2022\n",
    "            11-11-2021\n",
    "            05-12-2021\n",
    "            35-38-2021\n",
    "            '''\n",
    "\n",
    "pan_number = re.findall('[A-Z]{5}[0-9]{4}[A-Z]',string)\n",
    "pan_number\n",
    "date = re.findall('[0-9]{2}[-][0-9]{2}-[0-9]{4}',string)\n",
    "date"
   ]
  },
  {
   "cell_type": "code",
   "execution_count": 49,
   "id": "13429a46",
   "metadata": {},
   "outputs": [
    {
     "data": {
      "text/plain": [
       "['11-01-2022', '11-11-2021', '05-12-2021']"
      ]
     },
     "execution_count": 49,
     "metadata": {},
     "output_type": "execute_result"
    }
   ],
   "source": [
    "string = '''PAN Card Number\n",
    "            ASDFG1234Q    #Valid\n",
    "            ASDF12345Q    #Invalid\n",
    "            ASDFG12345    #Invalid\n",
    "            ASDFG7896P    #Valid\n",
    "            ASSDF154SW    #Invalid\n",
    "            \n",
    "            Date : 11-01-2022 1900\n",
    "            11-11-2021\n",
    "            05-12-2021\n",
    "            35-38-2021\n",
    "            '''\n",
    "\n",
    "pan_number = re.findall('[A-Z]{5}[0-9]{4}[A-Z]',string)\n",
    "pan_number\n",
    "date = re.findall('[0-3][0-9]-[01][0-9]-[12][09][0-9]{2}',string)\n",
    "date"
   ]
  },
  {
   "cell_type": "code",
   "execution_count": null,
   "id": "ceacf697",
   "metadata": {},
   "outputs": [],
   "source": [
    "01-08"
   ]
  },
  {
   "cell_type": "code",
   "execution_count": null,
   "id": "e7eb4a39",
   "metadata": {},
   "outputs": [],
   "source": [
    "1987\n",
    "2002"
   ]
  },
  {
   "cell_type": "code",
   "execution_count": null,
   "id": "8230b43d",
   "metadata": {},
   "outputs": [],
   "source": [
    "2002\n",
    "2012\n",
    "2021\n",
    "1989"
   ]
  },
  {
   "cell_type": "code",
   "execution_count": 56,
   "id": "f9d72d80",
   "metadata": {},
   "outputs": [
    {
     "data": {
      "text/plain": [
       "[' 5674 3658 2875 ', ' 6753 4567 9999 ']"
      ]
     },
     "execution_count": 56,
     "metadata": {},
     "output_type": "execute_result"
    }
   ],
   "source": [
    "adhar = ''' 5674 3658 2875  #valid\n",
    "            5433 3276 32786  #invalid\n",
    "            0123 5678 8765 #invalid\n",
    "            23453 4567 9775 #invalid\n",
    "            d234 3456 9876 #invalid\n",
    "            6753 4567 9999 #valid'''\n",
    "adahar_num = re.findall('[2-9][0-9]{3}[ ][0-9]{4}[ ][0-9]{4} ',adhar)\n",
    "adahar_num"
   ]
  },
  {
   "cell_type": "code",
   "execution_count": 57,
   "id": "90933d88",
   "metadata": {},
   "outputs": [
    {
     "data": {
      "text/plain": [
       "[' 5674 3658 2875 ', ' 6753 4567 9999 ']"
      ]
     },
     "execution_count": 57,
     "metadata": {},
     "output_type": "execute_result"
    }
   ],
   "source": [
    "adhar = ''' 5674 3658 2875  #valid\n",
    "            5433 3276 32786  #invalid\n",
    "            0123 5678 8765 #invalid\n",
    "            23453 4567 9775 #invalid\n",
    "            d234 3456 9876 #invalid\n",
    "            6753 4567 9999 #valid'''\n",
    "adahar_num = re.findall('[ ][2-9][0-9]{3}[ ][0-9]{4}[ ][0-9]{4} ',adhar)\n",
    "adahar_num"
   ]
  },
  {
   "cell_type": "code",
   "execution_count": 54,
   "id": "da3131cc",
   "metadata": {},
   "outputs": [
    {
     "data": {
      "text/plain": [
       "['5674 3658 2875 ', '3453 4567 9775 ', '6753 4567 9999 ']"
      ]
     },
     "execution_count": 54,
     "metadata": {},
     "output_type": "execute_result"
    }
   ],
   "source": [
    "adhar = '''5674 3658 2875  #valid\n",
    "            5433 3276 32786  #invalid\n",
    "            0123 5678 8765 #invalid\n",
    "            23453 4567 9775 #invalid\n",
    "            d234 3456 9876 #invalid\n",
    "            6753 4567 9999 #valid'''\n",
    "adahar_num = re.findall('[2-9][0-9]{3}\\\\s[0-9]{4}\\\\s[0-9]{4} ',adhar)   # for white spaces \\s\n",
    "adahar_num"
   ]
  },
  {
   "cell_type": "code",
   "execution_count": null,
   "id": "5435eed9",
   "metadata": {},
   "outputs": [],
   "source": [
    "0-9  \n",
    "0-9a-z \\w\n",
    "\n",
    "\n",
    "'\\w'"
   ]
  },
  {
   "cell_type": "code",
   "execution_count": null,
   "id": "06c24bf2",
   "metadata": {},
   "outputs": [],
   "source": []
  },
  {
   "cell_type": "code",
   "execution_count": null,
   "id": "3b6df695",
   "metadata": {},
   "outputs": [],
   "source": []
  },
  {
   "cell_type": "code",
   "execution_count": null,
   "id": "a2541389",
   "metadata": {},
   "outputs": [],
   "source": []
  },
  {
   "cell_type": "code",
   "execution_count": null,
   "id": "3bd5f85f",
   "metadata": {},
   "outputs": [],
   "source": []
  },
  {
   "cell_type": "code",
   "execution_count": null,
   "id": "c8190e55",
   "metadata": {},
   "outputs": [],
   "source": []
  },
  {
   "cell_type": "code",
   "execution_count": null,
   "id": "0f13c5b7",
   "metadata": {},
   "outputs": [],
   "source": []
  },
  {
   "cell_type": "code",
   "execution_count": null,
   "id": "5882ccef",
   "metadata": {},
   "outputs": [],
   "source": []
  },
  {
   "cell_type": "code",
   "execution_count": null,
   "id": "4558478d",
   "metadata": {},
   "outputs": [],
   "source": []
  },
  {
   "cell_type": "code",
   "execution_count": null,
   "id": "b4f4ef1d",
   "metadata": {},
   "outputs": [],
   "source": []
  },
  {
   "cell_type": "code",
   "execution_count": null,
   "id": "21d95b0c",
   "metadata": {},
   "outputs": [],
   "source": []
  },
  {
   "cell_type": "code",
   "execution_count": null,
   "id": "bbbfd842",
   "metadata": {},
   "outputs": [],
   "source": []
  },
  {
   "cell_type": "code",
   "execution_count": null,
   "id": "5b5d9219",
   "metadata": {},
   "outputs": [],
   "source": []
  },
  {
   "cell_type": "code",
   "execution_count": null,
   "id": "3c5ed075",
   "metadata": {},
   "outputs": [],
   "source": []
  },
  {
   "cell_type": "code",
   "execution_count": null,
   "id": "197abf91",
   "metadata": {},
   "outputs": [],
   "source": []
  },
  {
   "cell_type": "code",
   "execution_count": null,
   "id": "151d2955",
   "metadata": {},
   "outputs": [],
   "source": []
  },
  {
   "cell_type": "code",
   "execution_count": null,
   "id": "e1b16069",
   "metadata": {},
   "outputs": [],
   "source": []
  },
  {
   "cell_type": "code",
   "execution_count": null,
   "id": "8fcbec67",
   "metadata": {},
   "outputs": [],
   "source": []
  },
  {
   "cell_type": "code",
   "execution_count": null,
   "id": "546c99eb",
   "metadata": {},
   "outputs": [],
   "source": []
  }
 ],
 "metadata": {
  "kernelspec": {
   "display_name": "Python 3",
   "language": "python",
   "name": "python3"
  },
  "language_info": {
   "codemirror_mode": {
    "name": "ipython",
    "version": 3
   },
   "file_extension": ".py",
   "mimetype": "text/x-python",
   "name": "python",
   "nbconvert_exporter": "python",
   "pygments_lexer": "ipython3",
   "version": "3.8.8"
  }
 },
 "nbformat": 4,
 "nbformat_minor": 5
}
